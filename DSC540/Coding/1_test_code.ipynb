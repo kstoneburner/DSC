{
 "cells": [
  {
   "cell_type": "code",
   "execution_count": 2,
   "metadata": {},
   "outputs": [],
   "source": [
    "# //****************************************************************************************\n",
    "# //*** Set Working Directory to thinkstats folder.\n",
    "# //*** This pseudo-relative path call should work on all Stoneburner localized projects. \n",
    "# //****************************************************************************************\n",
    "\n",
    "import os\n",
    "import sys\n",
    "# //*** Imports and Load Data\n",
    "import matplotlib.pyplot as plt\n",
    "import numpy as np\n",
    "import pandas as pd\n",
    "import sqlite3\n",
    "\n",
    "output_width = 1000\n",
    "#output_width = 80 #//*** Normal Output width\n",
    "\n",
    "#//*** Normal Output width\n",
    "pd.set_option(\"display.width\", output_width)\n",
    "\n",
    "pd.set_option('display.max_rows', 100)\n",
    "pd.set_option('display.max_columns', None)\n",
    "#pd.set_option('display.width', None)\n",
    "pd.set_option('display.max_colwidth', None)"
   ]
  },
  {
   "cell_type": "code",
   "execution_count": 3,
   "metadata": {},
   "outputs": [
    {
     "name": "stdout",
     "output_type": "stream",
     "text": [
      "Database Connected....\n"
     ]
    }
   ],
   "source": [
    "#//*** Returns True if database connection is open. Otherise returns False. I liberally borrowed (ie Stole)\n",
    "#//*** from the Inter-webs\n",
    "def chk_conn(conn):\n",
    "     try:\n",
    "        conn.cursor()\n",
    "        return True\n",
    "     except Exception as ex:\n",
    "        return False\n",
    "    \n",
    "db_filename = 'z_sup_wk10_11_petsdbz'\n",
    "\n",
    "#//*** Verify database instance exists\n",
    "if os.path.exists(db_filename) == False:\n",
    "    #//*** Throw a warning if databse does not exist\n",
    "    print(f\"Trouble Connecting to database: {db_filename}\")\n",
    "else:\n",
    "    #//*** Start a database connection\n",
    "    conn = sqlite3.connect(db_filename)\n",
    "    \n",
    "    #//*** Verify database connection\n",
    "    if chk_conn(conn):\n",
    "        print(\"Database Connected....\")    "
   ]
  },
  {
   "cell_type": "code",
   "execution_count": 4,
   "metadata": {},
   "outputs": [
    {
     "name": "stdout",
     "output_type": "stream",
     "text": [
      "========================\n",
      "Table: persons\n",
      "========================\n",
      "Columns:\n",
      "\tid\n",
      "\tfirst_name\n",
      "\tlast_name\n",
      "\tage\n",
      "\tcity\n",
      "\tzip_code\n",
      "\n",
      "========================\n",
      "Table: pets\n",
      "========================\n",
      "Columns:\n",
      "\towner_id\n",
      "\tpet_name\n",
      "\tpet_type\n",
      "\ttreatment_done\n",
      "\n"
     ]
    }
   ],
   "source": [
    "### Write your code below this comment\n",
    "cursor = conn.cursor()\n",
    "\n",
    "#//*** Get a list of all the tables in the database.\n",
    "#//*** Print a list of the columns in each table for reference\n",
    "pet_cols = []\n",
    "person_cols = []\n",
    "\n",
    "for results in conn.execute(\"SELECT name FROM sqlite_master WHERE type='table';\"):\n",
    "    table = results[0]\n",
    "    print(\"========================\")\n",
    "    print(f\"Table: {table}\")\n",
    "    print(\"========================\")\n",
    "    print(\"Columns:\")\n",
    "\n",
    "\n",
    "    #//*** Read from the table, this modfies the cursor object, which will provide column names\n",
    "    for col in cursor.execute(f'SELECT * FROM {table}').description:\n",
    "        print(f\"\\t{col[0]}\")\n",
    "            \n",
    "    print(\"\")\n"
   ]
  },
  {
   "cell_type": "code",
   "execution_count": 39,
   "metadata": {},
   "outputs": [
    {
     "name": "stdout",
     "output_type": "stream",
     "text": [
      "Persons Rows: 100\n",
      "   id first_name last_name  age        city  zip_code\n",
      "0   1      Erica      None   22  south port   2345678\n",
      "1   2      Jordi      None   73   east port    123456\n",
      "2   3    Chasity      None   70    new port  76856785\n",
      "3   4      Gregg      None   31    new port  76856785\n",
      "4   5       Tony  Lindgren    7   west port   2345678\n",
      "5   6       Cary      None   73    new port  76856785\n",
      "6   7       Gabe  Thompson   54    new port   9756543\n",
      "7   8  Francisca      None   14   west port    123456\n",
      "8   9    Katelyn    Torphy   49   east port   9756543\n",
      "9  10    Raleigh      None   68    new port   2345678\n"
     ]
    }
   ],
   "source": [
    "query = \"\"\"\n",
    "        SELECT * FROM persons\n",
    "\"\"\"\n",
    "print(f\"Persons Rows: {len(pd.read_sql(query,con=conn))}\")\n",
    "print(pd.read_sql(query,con=conn).head(10))"
   ]
  },
  {
   "cell_type": "code",
   "execution_count": 40,
   "metadata": {},
   "outputs": [
    {
     "name": "stdout",
     "output_type": "stream",
     "text": [
      "Pets Rows: 150\n",
      "   owner_id pet_name  pet_type  treatment_done\n",
      "0        57     mani       1.0               0\n",
      "1        80   tamari       NaN               0\n",
      "2        25     raba       NaN               0\n",
      "3        27     olga       NaN               0\n",
      "4        60     raba       NaN               0\n",
      "5        37     dara       1.0               0\n",
      "6        33   chegal       1.0               0\n",
      "7        16     dara       NaN               0\n",
      "8       100   chegal       NaN               0\n",
      "9        46     raba       NaN               1\n"
     ]
    }
   ],
   "source": [
    "query = \"\"\"\n",
    "        SELECT * FROM pets\n",
    "\"\"\"\n",
    "print(f\"Pets Rows: {len(pd.read_sql(query,con=conn))}\")\n",
    "print(pd.read_sql(query,con=conn).head(10))"
   ]
  },
  {
   "cell_type": "code",
   "execution_count": 42,
   "metadata": {},
   "outputs": [
    {
     "name": "stdout",
     "output_type": "stream",
     "text": [
      "Results: 171 rows\n",
      "   id first_name last_name  age        city  zip_code  owner_id pet_name  pet_type  treatment_done\n",
      "0   1      Erica      None   22  south port   2345678       1.0     raba       NaN             1.0\n",
      "1   2      Jordi      None   73   east port    123456       2.0    gimir       1.0             0.0\n",
      "2   2      Jordi      None   73   east port    123456       2.0     mani       1.0             0.0\n",
      "3   2      Jordi      None   73   east port    123456       2.0   tamari       NaN             1.0\n",
      "4   3    Chasity      None   70    new port  76856785       3.0   tamari       NaN             1.0\n",
      "5   4      Gregg      None   31    new port  76856785       NaN     None       NaN             NaN\n",
      "6   5       Tony  Lindgren    7   west port   2345678       5.0     dara       NaN             0.0\n",
      "7   5       Tony  Lindgren    7   west port   2345678       5.0     dara       1.0             0.0\n",
      "8   5       Tony  Lindgren    7   west port   2345678       5.0    fenga       NaN             0.0\n",
      "9   6       Cary      None   73    new port  76856785       6.0     deru       1.0             1.0\n"
     ]
    }
   ],
   "source": [
    "query = \"\"\"\n",
    "        SELECT * FROM persons\n",
    "        LEFT OUTER JOIN pets ON persons.id = pets.owner_id \n",
    "\"\"\"\n",
    "print(f\"Results: {len(pd.read_sql(query,con=conn))} rows\")\n",
    "print(pd.read_sql(query,con=conn).head(10))"
   ]
  },
  {
   "cell_type": "code",
   "execution_count": 41,
   "metadata": {},
   "outputs": [
    {
     "name": "stdout",
     "output_type": "stream",
     "text": [
      "Results: 150 rows\n",
      "   id first_name last_name  age        city  zip_code  owner_id pet_name  pet_type  treatment_done\n",
      "0   1      Erica      None   22  south port   2345678         1     raba       NaN               1\n",
      "1   2      Jordi      None   73   east port    123456         2    gimir       1.0               0\n",
      "2   2      Jordi      None   73   east port    123456         2     mani       1.0               0\n",
      "3   2      Jordi      None   73   east port    123456         2   tamari       NaN               1\n",
      "4   3    Chasity      None   70    new port  76856785         3   tamari       NaN               1\n",
      "5   5       Tony  Lindgren    7   west port   2345678         5     dara       NaN               0\n",
      "6   5       Tony  Lindgren    7   west port   2345678         5     dara       1.0               0\n",
      "7   5       Tony  Lindgren    7   west port   2345678         5    fenga       NaN               0\n",
      "8   6       Cary      None   73    new port  76856785         6     deru       1.0               1\n",
      "9   6       Cary      None   73    new port  76856785         6     milu       1.0               0\n"
     ]
    }
   ],
   "source": [
    "query = \"\"\"\n",
    "        SELECT * FROM persons\n",
    "        INNER JOIN pets ON persons.id = pets.owner_id \n",
    "\"\"\"\n",
    "print(f\"Results: {len(pd.read_sql(query,con=conn))} rows\")\n",
    "print(pd.read_sql(query,con=conn).head(10))"
   ]
  },
  {
   "cell_type": "code",
   "execution_count": 9,
   "metadata": {},
   "outputs": [
    {
     "name": "stdout",
     "output_type": "stream",
     "text": [
      "15000\n",
      "   id first_name last_name  age        city  zip_code  owner_id pet_name  pet_type  treatment_done\n",
      "0   1      Erica      None   22  south port   2345678        57     mani       1.0               0\n",
      "1   1      Erica      None   22  south port   2345678        80   tamari       NaN               0\n",
      "2   1      Erica      None   22  south port   2345678        25     raba       NaN               0\n",
      "3   1      Erica      None   22  south port   2345678        27     olga       NaN               0\n",
      "4   1      Erica      None   22  south port   2345678        60     raba       NaN               0\n",
      "5   1      Erica      None   22  south port   2345678        37     dara       1.0               0\n",
      "6   1      Erica      None   22  south port   2345678        33   chegal       1.0               0\n",
      "7   1      Erica      None   22  south port   2345678        16     dara       NaN               0\n",
      "8   1      Erica      None   22  south port   2345678       100   chegal       NaN               0\n",
      "9   1      Erica      None   22  south port   2345678        46     raba       NaN               1\n"
     ]
    }
   ],
   "source": [
    "query = \"\"\"\n",
    "        SELECT * FROM persons\n",
    "        NATURAL JOIN pets \n",
    "\"\"\"\n",
    "print(len(pd.read_sql(query,con=conn)))\n",
    "print(pd.read_sql(query,con=conn).head(10))"
   ]
  },
  {
   "cell_type": "code",
   "execution_count": 26,
   "metadata": {},
   "outputs": [
    {
     "name": "stdout",
     "output_type": "stream",
     "text": [
      "Total Cross Join Values: 15000\n",
      "   id first_name last_name  age        city  zip_code  owner_id pet_name  pet_type  treatment_done\n",
      "0   1      Erica      None   22  south port   2345678        57     mani       1.0               0\n",
      "1   1      Erica      None   22  south port   2345678        80   tamari       NaN               0\n",
      "2   1      Erica      None   22  south port   2345678        25     raba       NaN               0\n",
      "3   1      Erica      None   22  south port   2345678        27     olga       NaN               0\n",
      "4   1      Erica      None   22  south port   2345678        60     raba       NaN               0\n",
      "      id first_name last_name  age        city  zip_code  owner_id pet_name  pet_type  treatment_done\n",
      "3000  21      Berry      None   22  south port   2345678        57     mani       1.0               0\n",
      "3001  21      Berry      None   22  south port   2345678        80   tamari       NaN               0\n",
      "3002  21      Berry      None   22  south port   2345678        25     raba       NaN               0\n",
      "3003  21      Berry      None   22  south port   2345678        27     olga       NaN               0\n",
      "3004  21      Berry      None   22  south port   2345678        60     raba       NaN               0\n",
      "      id first_name last_name  age      city  zip_code  owner_id pet_name  pet_type  treatment_done\n",
      "6000  41  Estefania      None   32  new port  76856785        57     mani       1.0               0\n",
      "6001  41  Estefania      None   32  new port  76856785        80   tamari       NaN               0\n",
      "6002  41  Estefania      None   32  new port  76856785        25     raba       NaN               0\n",
      "6003  41  Estefania      None   32  new port  76856785        27     olga       NaN               0\n",
      "6004  41  Estefania      None   32  new port  76856785        60     raba       NaN               0\n",
      "      id first_name last_name  age       city  zip_code  owner_id pet_name  pet_type  treatment_done\n",
      "9000  61   Destiney     Sauer   24  west port   2345678        57     mani       1.0               0\n",
      "9001  61   Destiney     Sauer   24  west port   2345678        80   tamari       NaN               0\n",
      "9002  61   Destiney     Sauer   24  west port   2345678        25     raba       NaN               0\n",
      "9003  61   Destiney     Sauer   24  west port   2345678        27     olga       NaN               0\n",
      "9004  61   Destiney     Sauer   24  west port   2345678        60     raba       NaN               0\n",
      "       id first_name last_name  age       city  zip_code  owner_id pet_name  pet_type  treatment_done\n",
      "12000  81      Angel      Mraz   37  west port    123456        57     mani       1.0               0\n",
      "12001  81      Angel      Mraz   37  west port    123456        80   tamari       NaN               0\n",
      "12002  81      Angel      Mraz   37  west port    123456        25     raba       NaN               0\n",
      "12003  81      Angel      Mraz   37  west port    123456        27     olga       NaN               0\n",
      "12004  81      Angel      Mraz   37  west port    123456        60     raba       NaN               0\n"
     ]
    }
   ],
   "source": [
    "query = \"\"\"\n",
    "        SELECT * FROM persons\n",
    "        CROSS JOIN pets \n",
    "\"\"\"\n",
    "\n",
    "df = pd.read_sql(query,con=conn)\n",
    "slices = 5\n",
    "interval = int(len(df)/slices)\n",
    "print(f\"Total Cross Join Values: {len(df)}\")\n",
    "for x in range(0,slices):\n",
    "    print(df[x*interval:x*interval+5])"
   ]
  },
  {
   "cell_type": "code",
   "execution_count": null,
   "metadata": {},
   "outputs": [],
   "source": []
  }
 ],
 "metadata": {
  "kernelspec": {
   "display_name": "Python 3",
   "language": "python",
   "name": "python3"
  },
  "language_info": {
   "codemirror_mode": {
    "name": "ipython",
    "version": 3
   },
   "file_extension": ".py",
   "mimetype": "text/x-python",
   "name": "python",
   "nbconvert_exporter": "python",
   "pygments_lexer": "ipython3",
   "version": "3.8.5"
  }
 },
 "nbformat": 4,
 "nbformat_minor": 4
}
