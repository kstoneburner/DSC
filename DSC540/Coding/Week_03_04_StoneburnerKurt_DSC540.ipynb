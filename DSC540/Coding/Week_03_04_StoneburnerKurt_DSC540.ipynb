{
 "cells": [
  {
   "cell_type": "markdown",
   "metadata": {},
   "source": [
    "# Stoneburner, Kurt\n",
    "- ## DSC 540 - Week 03/04"
   ]
  },
  {
   "cell_type": "code",
   "execution_count": null,
   "metadata": {},
   "outputs": [],
   "source": [
    "# //****************************************************************************************\n",
    "# //*** Set Working Directory to thinkstats folder.\n",
    "# //*** This pseudo-relative path call should work on all Stoneburner localized projects. \n",
    "# //****************************************************************************************\n",
    "\n",
    "import os\n",
    "import sys\n",
    "# //*** Imports and Load Data\n",
    "import matplotlib.pyplot as plt\n",
    "import numpy as np\n",
    "import pandas as pd"
   ]
  },
  {
   "cell_type": "code",
   "execution_count": null,
   "metadata": {},
   "outputs": [],
   "source": [
    "#python_for_data_analysis_path = f\"{os.getcwd()}\\\\pydata-book\\\\examples\"\n",
    "\n",
    "#sys.path.insert(1, python_for_data_analysis_path)\n",
    "#os.chdir(python_for_data_analysis_path)\n"
   ]
  },
  {
   "cell_type": "markdown",
   "metadata": {},
   "source": [
    "# Exercise #1\n",
    "- ## Activity 05\n",
    "\n",
    "In this acitvity, you will work with **Boston Housing Price dataset**. The Boston house-price data has been used in many machine learning papers that address regression problems. You will read the data from a CSV file into a Pandas DataFrame and do some data basic wrangling with it.\n",
    "\n",
    "Following are the details of the attributes of this dataset for your reference. You may have to refer them while answering question on this activity.\n",
    "\n",
    "* **CRIM**: per capita crime rate by town\n",
    "* **ZN**: proportion of residential land zoned for lots over 25,000 sq.ft.\n",
    "* **INDUS**: proportion of non-retail business acres per town\n",
    "* **CHAS**: Charles River dummy variable (= 1 if tract bounds river; 0 otherwise)\n",
    "* **NOX**: nitric oxides concentration (parts per 10 million)\n",
    "* **RM**: average number of rooms per dwelling\n",
    "* **AGE**: proportion of owner-occupied units built prior to 1940\n",
    "* **DIS**: weighted distances to five Boston employment centres\n",
    "* **RAD**: index of accessibility to radial highways\n",
    "* **TAX**: full-value property-tax rate per 10,000 dollars\n",
    "* **PTRATIO**: pupil-teacher ratio by town\n",
    "* **B**: 1000(Bk - 0.63)^2 where Bk is the proportion of blacks by town\n",
    "* **LSTAT**: % of lower status of the population\n",
    "* **PRICE**: Median value of owner-occupied homes in $1000's"
   ]
  },
  {
   "cell_type": "markdown",
   "metadata": {},
   "source": [
    "### Load necessary libraries"
   ]
  },
  {
   "cell_type": "code",
   "execution_count": null,
   "metadata": {},
   "outputs": [],
   "source": [
    "#//*** Ha!! Aleady loaded above as part of my generic all purpose notebook template"
   ]
  },
  {
   "cell_type": "markdown",
   "metadata": {},
   "source": [
    "### Read in the Boston housing data set (given as a .csv file) from the local directory"
   ]
  },
  {
   "cell_type": "code",
   "execution_count": 47,
   "metadata": {},
   "outputs": [],
   "source": [
    "#//*** Boston_housing.csv is located in Chapter05\\Lesson60-68\n",
    "# Hint: The Pandas function for reading a CSV file is 'read_csv'.\n",
    "# Don't forget that all functions in Pandas can be accessed by syntax like pd.{function_name}\n",
    "# write your code here\n",
    "raw_df = pd.read_csv(\"z_sup_wk03_Boston_housing.csv\")"
   ]
  },
  {
   "cell_type": "markdown",
   "metadata": {},
   "source": [
    "### Check first 10 records"
   ]
  },
  {
   "cell_type": "code",
   "execution_count": 48,
   "metadata": {},
   "outputs": [
    {
     "name": "stdout",
     "output_type": "stream",
     "text": [
      "      CRIM    ZN  INDUS  CHAS    NOX     RM    AGE     DIS  RAD  TAX  PTRATIO  \\\n",
      "0  0.00632  18.0   2.31     0  0.538  6.575   65.2  4.0900    1  296     15.3   \n",
      "1  0.02731   0.0   7.07     0  0.469  6.421   78.9  4.9671    2  242     17.8   \n",
      "2  0.02729   0.0   7.07     0  0.469  7.185   61.1  4.9671    2  242     17.8   \n",
      "3  0.03237   0.0   2.18     0  0.458  6.998   45.8  6.0622    3  222     18.7   \n",
      "4  0.06905   0.0   2.18     0  0.458  7.147   54.2  6.0622    3  222     18.7   \n",
      "5  0.02985   0.0   2.18     0  0.458  6.430   58.7  6.0622    3  222     18.7   \n",
      "6  0.08829  12.5   7.87     0  0.524  6.012   66.6  5.5605    5  311     15.2   \n",
      "7  0.14455  12.5   7.87     0  0.524  6.172   96.1  5.9505    5  311     15.2   \n",
      "8  0.21124  12.5   7.87     0  0.524  5.631  100.0  6.0821    5  311     15.2   \n",
      "9  0.17004  12.5   7.87     0  0.524  6.004   85.9  6.5921    5  311     15.2   \n",
      "\n",
      "        B  LSTAT  PRICE  \n",
      "0  396.90   4.98   24.0  \n",
      "1  396.90   9.14   21.6  \n",
      "2  392.83   4.03   34.7  \n",
      "3  394.63   2.94   33.4  \n",
      "4  396.90   5.33   36.2  \n",
      "5  394.12   5.21   28.7  \n",
      "6  395.60  12.43   22.9  \n",
      "7  396.90  19.15   27.1  \n",
      "8  386.63  29.93   16.5  \n",
      "9  386.71  17.10   18.9  \n"
     ]
    }
   ],
   "source": [
    "print(f\"{raw_df.head(10)}\")"
   ]
  },
  {
   "cell_type": "markdown",
   "metadata": {},
   "source": [
    "### In total, how many records are there?"
   ]
  },
  {
   "cell_type": "code",
   "execution_count": null,
   "metadata": {},
   "outputs": [],
   "source": [
    "print(f\"There are {len(raw_df)} records (rows) in the dataframe\")"
   ]
  },
  {
   "cell_type": "markdown",
   "metadata": {},
   "source": [
    "### Create a smaller DataFrame with columns which do not include 'CHAS', 'NOX', 'B', and 'LSTAT'"
   ]
  },
  {
   "cell_type": "code",
   "execution_count": 49,
   "metadata": {},
   "outputs": [
    {
     "name": "stdout",
     "output_type": "stream",
     "text": [
      "      CRIM    ZN  INDUS     RM   AGE     DIS  RAD  TAX  PTRATIO  PRICE\n",
      "0  0.00632  18.0   2.31  6.575  65.2  4.0900    1  296     15.3   24.0\n",
      "1  0.02731   0.0   7.07  6.421  78.9  4.9671    2  242     17.8   21.6\n",
      "2  0.02729   0.0   7.07  7.185  61.1  4.9671    2  242     17.8   34.7\n",
      "3  0.03237   0.0   2.18  6.998  45.8  6.0622    3  222     18.7   33.4\n",
      "4  0.06905   0.0   2.18  7.147  54.2  6.0622    3  222     18.7   36.2\n"
     ]
    }
   ],
   "source": [
    "housing_df = raw_df.drop([ 'CHAS', 'NOX', 'B', 'LSTAT'],axis=1)\n",
    "print(f\"{housing_df.head(5)}\")\n"
   ]
  },
  {
   "cell_type": "markdown",
   "metadata": {},
   "source": [
    "### Check the last 7 records of the new DataFrame you just created"
   ]
  },
  {
   "cell_type": "code",
   "execution_count": 50,
   "metadata": {},
   "outputs": [
    {
     "name": "stdout",
     "output_type": "stream",
     "text": [
      "        CRIM   ZN  INDUS     RM   AGE     DIS  RAD  TAX  PTRATIO  PRICE\n",
      "499  0.17783  0.0   9.69  5.569  73.5  2.3999    6  391     19.2   17.5\n",
      "500  0.22438  0.0   9.69  6.027  79.7  2.4982    6  391     19.2   16.8\n",
      "501  0.06263  0.0  11.93  6.593  69.1  2.4786    1  273     21.0   22.4\n",
      "502  0.04527  0.0  11.93  6.120  76.7  2.2875    1  273     21.0   20.6\n",
      "503  0.06076  0.0  11.93  6.976  91.0  2.1675    1  273     21.0   23.9\n",
      "504  0.10959  0.0  11.93  6.794  89.3  2.3889    1  273     21.0   22.0\n",
      "505  0.04741  0.0  11.93  6.030  80.8  2.5050    1  273     21.0   11.9\n"
     ]
    }
   ],
   "source": [
    "print(f\"{housing_df.tail(7)}\")"
   ]
  },
  {
   "cell_type": "markdown",
   "metadata": {},
   "source": [
    "### Can you plot histograms of all the variables (columns) in the new DataFrame?\n",
    "You can of course plot them one by one. But try to write a short code to plot all of them once.\n",
    "<br>***Hint***: 'For loop'!\n",
    "<br>***Bonus problem***: Can you also show each plot with its unique title i.e. of the variable that it is a plot of? "
   ]
  },
  {
   "cell_type": "code",
   "execution_count": 70,
   "metadata": {
    "scrolled": false
   },
   "outputs": [
    {
     "data": {
      "image/png": "[encoded data removed]",
      "text/plain": [
       "<Figure size 432x288 with 1 Axes>"
      ]
     },
     "metadata": {
      "needs_background": "light"
     },
     "output_type": "display_data"
    },
    {
     "data": {
      "image/png": "[encoded data removed]",
      "text/plain": [
       "<Figure size 432x288 with 1 Axes>"
      ]
     },
     "metadata": {
      "needs_background": "light"
     },
     "output_type": "display_data"
    },
    {
     "data": {
      "image/png": "[encoded data removed]",
      "text/plain": [
       "<Figure size 432x288 with 1 Axes>"
      ]
     },
     "metadata": {
      "needs_background": "light"
     },
     "output_type": "display_data"
    },
    {
     "data": {
      "image/png": "[encoded data removed]",
      "text/plain": [
       "<Figure size 432x288 with 1 Axes>"
      ]
     },
     "metadata": {
      "needs_background": "light"
     },
     "output_type": "display_data"
    },
    {
     "data": {
      "image/png": "[encoded data removed]",
      "text/plain": [
       "<Figure size 432x288 with 1 Axes>"
      ]
     },
     "metadata": {
      "needs_background": "light"
     },
     "output_type": "display_data"
    },
    {
     "data": {
      "image/png": "[encoded data removed]",
      "text/plain": [
       "<Figure size 432x288 with 1 Axes>"
      ]
     },
     "metadata": {
      "needs_background": "light"
     },
     "output_type": "display_data"
    },
    {
     "data": {
      "image/png": "[encoded data removed]",
      "text/plain": [
       "<Figure size 432x288 with 1 Axes>"
      ]
     },
     "metadata": {
      "needs_background": "light"
     },
     "output_type": "display_data"
    },
    {
     "data": {
      "image/png": "[encoded data removed]",
      "text/plain": [
       "<Figure size 432x288 with 1 Axes>"
      ]
     },
     "metadata": {
      "needs_background": "light"
     },
     "output_type": "display_data"
    },
    {
     "data": {
      "image/png": "[encoded data removed]",
      "text/plain": [
       "<Figure size 432x288 with 1 Axes>"
      ]
     },
     "metadata": {
      "needs_background": "light"
     },
     "output_type": "display_data"
    },
    {
     "data": {
      "image/png": "[encoded data removed]",
      "text/plain": [
       "<Figure size 432x288 with 1 Axes>"
      ]
     },
     "metadata": {
      "needs_background": "light"
     },
     "output_type": "display_data"
    }
   ],
   "source": [
    "for loople in housing_df.items():\n",
    "    #//*** A loople is a loop_tuple. I'm sacrficing good syntax on the altar of dad jokes\n",
    "    column = loople[0]\n",
    "    hist = loople[1].value_counts().sort_index()\n",
    "    \n",
    "    plt.bar(hist.index,hist,1)\n",
    "    plt.xlabel(\"Value\")\n",
    "    plt.ylabel(\"Frequency\")\n",
    "    plt.title(f\"Boston Housing Data\\n{column} Histogram\")\n",
    "    plt.show()\n",
    "    #print(f\"{hist.index}\")"
   ]
  },
  {
   "cell_type": "markdown",
   "metadata": {},
   "source": [
    "### Crime rate could be an indicator of house price (people don't want to live in high-crime areas). Create a scatter plot of crime rate vs. Price."
   ]
  },
  {
   "cell_type": "code",
   "execution_count": 73,
   "metadata": {},
   "outputs": [
    {
     "data": {
      "image/png": "[encoded data removed]",
      "text/plain": [
       "<Figure size 432x288 with 1 Axes>"
      ]
     },
     "metadata": {
      "needs_background": "light"
     },
     "output_type": "display_data"
    }
   ],
   "source": [
    "plt.scatter(housing_df[\"CRIM\"],housing_df[\"PRICE\"],1)\n",
    "plt.title(\"Boston Housing Market\\n Housing Price vs Crime Rate\")\n",
    "plt.xlabel(\"Housing Price $(thousands)\")\n",
    "plt.ylabel(\"per Capita Crime Rate\")\n",
    "plt\n",
    "\n",
    "plt.show()"
   ]
  },
  {
   "cell_type": "markdown",
   "metadata": {},
   "source": [
    "### We can understand the relationship better if we plot _log10(crime)_ vs. Price. Create that plot and make it nice. Give proper title, x-axis, y-axis label, make data points a color of your choice, etc...\n",
    "***Hint***: Try `np.log10` function"
   ]
  },
  {
   "cell_type": "code",
   "execution_count": null,
   "metadata": {},
   "outputs": [],
   "source": [
    "# Write your code here"
   ]
  },
  {
   "cell_type": "markdown",
   "metadata": {},
   "source": [
    "### Can you calculate the mean rooms per dwelling?"
   ]
  },
  {
   "cell_type": "code",
   "execution_count": null,
   "metadata": {},
   "outputs": [],
   "source": [
    "# Write your code here"
   ]
  },
  {
   "cell_type": "markdown",
   "metadata": {},
   "source": [
    "### Can you calculate median Age?"
   ]
  },
  {
   "cell_type": "code",
   "execution_count": null,
   "metadata": {},
   "outputs": [],
   "source": [
    "# Write your code here"
   ]
  },
  {
   "cell_type": "markdown",
   "metadata": {},
   "source": [
    "### Can you calculate average (mean) distances to five Boston employment centres?"
   ]
  },
  {
   "cell_type": "code",
   "execution_count": null,
   "metadata": {},
   "outputs": [],
   "source": [
    "# Write your code here"
   ]
  },
  {
   "cell_type": "markdown",
   "metadata": {},
   "source": [
    "### Tricky question: Can you calculate the percentage of houses with low price (< $20,000)?"
   ]
  },
  {
   "cell_type": "code",
   "execution_count": null,
   "metadata": {},
   "outputs": [],
   "source": [
    "# Write your code here"
   ]
  },
  {
   "cell_type": "code",
   "execution_count": null,
   "metadata": {},
   "outputs": [],
   "source": [
    "# //*** CODE HERE"
   ]
  },
  {
   "cell_type": "markdown",
   "metadata": {},
   "source": [
    "# Exercise #2\n",
    "\n",
    "- ## Activity 06: Working with adult income dataset (UCI)\n",
    "\n",
    "In this activity, you will work with **Adult Income Dataset** from UCI Machine Learning portal. The Adult Income data set has been used in many machine learning papers that address classification problems. You will read the data from a CSV file into a Pandas DataFrame and do practice some of the advanced data wrangling you learned in this Lesson.\n",
    "\n",
    "### URL for downloading the data\n",
    "We have the data downloaded as a CSV file on the disk for your ease. However, it is recommended to practice data download on your own so that you are familiar with the process.\n",
    "\n",
    "**Here is the URL for the data set**: https://archive.ics.uci.edu/ml/machine-learning-databases/adult/\n",
    "\n",
    "**Here is the URL for the description of the data set and the variables (at the end of the document)**: https://archive.ics.uci.edu/ml/machine-learning-databases/adult/adult.names\n",
    "\n",
    "### Attributes/Variables\n",
    "\n",
    "Following are the details of the type of the attributes of this dataset for your reference. You may have to refer them while answering question on this activity. Note that, many of the attributes are of discrete factor type. These are common type for a classification problem unlike continuous numeric values used for regression problems.\n",
    "\n",
    "* __age__: continuous.\n",
    "* __workclass__: Private, Self-emp-not-inc, Self-emp-inc, Federal-gov, Local-gov, State-gov, Without-pay, Never-worked.\n",
    "* __fnlwgt__: continuous.\n",
    "* __education__: Bachelors, Some-college, 11th, HS-grad, Prof-school, Assoc-acdm, Assoc-voc, 9th, 7th-8th, 12th, Masters, 1st-4th, 10th, Doctorate, 5th-6th, Preschool.\n",
    "* __education-num__: continuous.\n",
    "* __marital-status__: Married-civ-spouse, Divorced, Never-married, Separated, Widowed, Married-spouse-absent, Married-AF-spouse.\n",
    "* __occupation__: Tech-support, Craft-repair, Other-service, Sales, Exec-managerial, Prof-specialty, Handlers-cleaners, Machine-op-inspct, Adm-clerical, Farming-fishing, Transport-moving, Priv-house-serv, Protective-serv, Armed-Forces.\n",
    "* __relationship__: Wife, Own-child, Husband, Not-in-family, Other-relative, Unmarried.\n",
    "* __race__: White, Asian-Pac-Islander, Amer-Indian-Eskimo, Other, Black.\n",
    "* __sex__: Female, Male.\n",
    "* __capital-gain__: continuous.\n",
    "* __capital-loss__: continuous.\n",
    "* __hours-per-week__: continuous.\n",
    "* __native-country__: United-States, Cambodia, England, Puerto-Rico, Canada, Germany, Outlying-US(Guam-USVI-etc), India, Japan, Greece, South, China, Cuba, Iran, Honduras, Philippines, Italy, Poland, Jamaica, Vietnam, Mexico, Portugal, Ireland, France, Dominican-Republic, Laos, Ecuador, Taiwan, Haiti, Columbia, Hungary, Guatemala, Nicaragua, Scotland, Thailand, Yugoslavia, El-Salvador, Trinadad&Tobago, Peru, Hong, Holand-Netherlands.\n",
    "\n",
    "### A special note on the variable 'fnlwgt':\n",
    "\n",
    "The weights on the CPS files are controlled to independent estimates of the civilian noninstitutional population of the US.  These are prepared monthly for us by Population Division here at the Census Bureau.  We use 3 sets of controls. These are:\n",
    "1.  A single cell estimate of the population 16+ for each state.\n",
    "2.  Controls for Hispanic Origin by age and sex.\n",
    "3.  Controls by Race, age and sex.\n",
    "\n",
    "We use all three sets of controls in our weighting program and \"rake\" through them 6 times so that by the end we come back to all the controls we used. The term estimate refers to population totals derived from CPS by creating \"weighted tallies\" of any specified socio-economic characteristics of the population. \n",
    "\n",
    "People with similar demographic characteristics should have similar weights. There is one important caveat to remember about this statement.  That is that since the CPS sample is actually a collection of 51 state samples, each with its own probability of selection, the statement only applies within state."
   ]
  },
  {
   "cell_type": "markdown",
   "metadata": {},
   "source": [
    "### Load necessary libraries"
   ]
  },
  {
   "cell_type": "code",
   "execution_count": null,
   "metadata": {},
   "outputs": [],
   "source": [
    "# Write your code here"
   ]
  },
  {
   "cell_type": "markdown",
   "metadata": {},
   "source": [
    "### Read in the adult income data set (given as a .csv file) from the local directory and check first 5 records"
   ]
  },
  {
   "cell_type": "code",
   "execution_count": null,
   "metadata": {},
   "outputs": [],
   "source": [
    "# Write your code here"
   ]
  },
  {
   "cell_type": "markdown",
   "metadata": {},
   "source": [
    "### Do you think the column names (headers) make sense?"
   ]
  },
  {
   "cell_type": "code",
   "execution_count": null,
   "metadata": {},
   "outputs": [],
   "source": [
    "# Write your answer here"
   ]
  },
  {
   "cell_type": "markdown",
   "metadata": {},
   "source": [
    "### Time to read in the text file with data descriptions and extract header names\n",
    "Write a file reading script which reads the text file line by line, and extracts the first phrase which is the header name"
   ]
  },
  {
   "cell_type": "code",
   "execution_count": null,
   "metadata": {},
   "outputs": [],
   "source": [
    "# Write your code here"
   ]
  },
  {
   "cell_type": "markdown",
   "metadata": {},
   "source": [
    "### Add a name (\"_Income_\") for the response variable (last column) to the dataset and read it again with the column names supplied "
   ]
  },
  {
   "cell_type": "code",
   "execution_count": null,
   "metadata": {},
   "outputs": [],
   "source": [
    "# Write your code here"
   ]
  },
  {
   "cell_type": "code",
   "execution_count": null,
   "metadata": {},
   "outputs": [],
   "source": [
    "# Write your code here"
   ]
  },
  {
   "cell_type": "markdown",
   "metadata": {},
   "source": [
    "### Show a statistical summary of the data set. Did you notice only a small number of columns are included?"
   ]
  },
  {
   "cell_type": "code",
   "execution_count": null,
   "metadata": {},
   "outputs": [],
   "source": [
    "# Write your code here"
   ]
  },
  {
   "cell_type": "markdown",
   "metadata": {},
   "source": [
    "### Many variables in the dataset have multiple factors or classes. Can you write a loop to count and print them?"
   ]
  },
  {
   "cell_type": "code",
   "execution_count": null,
   "metadata": {},
   "outputs": [],
   "source": [
    "# Write your code here"
   ]
  },
  {
   "cell_type": "code",
   "execution_count": null,
   "metadata": {
    "scrolled": false
   },
   "outputs": [],
   "source": [
    "# Write your code here"
   ]
  },
  {
   "cell_type": "markdown",
   "metadata": {},
   "source": [
    "### Is there any missing (NULL) data in the dataset? Write a single line of code to show this for all coumns"
   ]
  },
  {
   "cell_type": "code",
   "execution_count": null,
   "metadata": {},
   "outputs": [],
   "source": [
    "# Write your code here"
   ]
  },
  {
   "cell_type": "markdown",
   "metadata": {},
   "source": [
    "### Practice subsetting: Create a DataFrame with only \n",
    "* age, \n",
    "* education,\n",
    "* occupation\n",
    "* race"
   ]
  },
  {
   "cell_type": "code",
   "execution_count": null,
   "metadata": {},
   "outputs": [],
   "source": [
    "# Write your code here"
   ]
  },
  {
   "cell_type": "markdown",
   "metadata": {},
   "source": [
    "### Show the histogram of age with bin size = 20"
   ]
  },
  {
   "cell_type": "code",
   "execution_count": null,
   "metadata": {},
   "outputs": [],
   "source": [
    "# Write your code here"
   ]
  },
  {
   "cell_type": "markdown",
   "metadata": {},
   "source": [
    "### Show boxplots of _age_ grouped by _race_ (Use a long figure size 15x6 and make _x_ ticks font size 15 )"
   ]
  },
  {
   "cell_type": "code",
   "execution_count": null,
   "metadata": {},
   "outputs": [],
   "source": [
    "# Write your code here"
   ]
  },
  {
   "cell_type": "markdown",
   "metadata": {},
   "source": [
    "### Before doing further operation, we need to use the skill with 'apply' method we learned in this lesson. <br><br> But why? - Turns out that during reading the dataset from the CSV file, all the strings came with a whitespace character in front. So, we need to remove that whitespace from all the strings. "
   ]
  },
  {
   "cell_type": "markdown",
   "metadata": {},
   "source": [
    "### Let's write a small function to strip the whitespace character"
   ]
  },
  {
   "cell_type": "code",
   "execution_count": null,
   "metadata": {},
   "outputs": [],
   "source": [
    "# Write your function here"
   ]
  },
  {
   "cell_type": "markdown",
   "metadata": {},
   "source": [
    "### Use the 'apply' method to apply this function to all the columns with string values, create a new column, copy the values from this new column to the old column, and drop the new column.\n",
    "\n",
    "#### This is the preferred method so that you don't accidentally delete valuable data. Most of the time, create a new column with a desired operation and then copy it back to the old column if necessary.\n",
    "\n",
    "#### IGNORE any warning messages printed."
   ]
  },
  {
   "cell_type": "code",
   "execution_count": null,
   "metadata": {},
   "outputs": [],
   "source": [
    "# Education column\n",
    "# Write your code here\n",
    "\n",
    "# Occupation column\n",
    "# Write your code here\n",
    "\n",
    "# Race column\n",
    "# Write your code here"
   ]
  },
  {
   "cell_type": "markdown",
   "metadata": {},
   "source": [
    "### Answer the following question using conditional filtering/boolean indexing: <br><br> _\"How many black people of age between 30 and 50 (inclusive) are represented in this dataset?\"_"
   ]
  },
  {
   "cell_type": "code",
   "execution_count": null,
   "metadata": {},
   "outputs": [],
   "source": [
    "# Write a code with conditional clauses and join them by & (AND) to filter the dataframe\n",
    "# Write your code here"
   ]
  },
  {
   "cell_type": "code",
   "execution_count": null,
   "metadata": {},
   "outputs": [],
   "source": [
    "# We can look at the shape of the filtered dataframe and take the 1st element at 0 index of the tuple\n",
    "# Write your code here"
   ]
  },
  {
   "cell_type": "code",
   "execution_count": null,
   "metadata": {},
   "outputs": [],
   "source": [
    "# Print out the number of black people between 30 and 50\n",
    "# Write your code here"
   ]
  },
  {
   "cell_type": "markdown",
   "metadata": {},
   "source": [
    "### Practice \"GroupBy\": Group by race and education to show how the mean age is distributed"
   ]
  },
  {
   "cell_type": "code",
   "execution_count": null,
   "metadata": {},
   "outputs": [],
   "source": [
    "# Write your code here"
   ]
  },
  {
   "cell_type": "markdown",
   "metadata": {},
   "source": [
    "### Group by occupation and show the summary statistics of age. Try to answer the following questions,\n",
    "* Which profession has oldest workers on the average?\n",
    "* Which profession has its largest share of workforce above 75th percentile?"
   ]
  },
  {
   "cell_type": "code",
   "execution_count": null,
   "metadata": {},
   "outputs": [],
   "source": [
    "# Write your code here to answer the questions above"
   ]
  },
  {
   "cell_type": "markdown",
   "metadata": {},
   "source": [
    "### Detecting outlier: Is there a particular occupation group which has very low representation? Perhaps we should remove those data because with very low data the group won't be useful in analysis\n",
    "\n",
    "Actually, just by looking at the table above, you should be able to see that **'Armed-Forces'** group has only 9 count i.e. 9 data points. But how to detect it. Plot the count column in a bar chart.\n",
    "\n",
    "Note, how the first argument to the barh function is the index of the dataframe which is the summary stats of the occupation groups. We see that 'Armed-Forces' group has almost no data.\n",
    "\n",
    "#### This exercise teaches you that sometimes, outlier is not just a value but can be a whole group. The data of this group is fine but it is too small to be useful for any analysis. So it can be treated as an outlier in this case. \n",
    "\n",
    "#### But always use your business knowledge and engineering judgement for such outlier detection and how to process them."
   ]
  },
  {
   "cell_type": "code",
   "execution_count": null,
   "metadata": {},
   "outputs": [],
   "source": [
    "# Write your code here"
   ]
  },
  {
   "cell_type": "code",
   "execution_count": null,
   "metadata": {},
   "outputs": [],
   "source": [
    "# Create a horizontal bar chart\n",
    "# Write your code here"
   ]
  },
  {
   "cell_type": "markdown",
   "metadata": {},
   "source": [
    "### Practice Merging by common keys: Suppose you are given two datasets where the common key is `occupation`. Can you merge them? \n",
    "\n",
    "#### First create two such disjoint datasets by taking random samples from the full dataset and then try merging. Include at least 2 other columns along with the common key column for each dataset.\n",
    "\n",
    "#### Notice how the resulting dataset, after merging, may have more data points than either of the two starting datasets if your common key is not unique? Why is it so?"
   ]
  },
  {
   "cell_type": "code",
   "execution_count": null,
   "metadata": {},
   "outputs": [],
   "source": [
    "# Sample first dataframe with 5 elements and your chosen random_state\n",
    "# Write your code here"
   ]
  },
  {
   "cell_type": "code",
   "execution_count": null,
   "metadata": {},
   "outputs": [],
   "source": [
    "# Sample second dataframe with 5 elements and your chosen random_state\n",
    "# Write your code here"
   ]
  },
  {
   "cell_type": "code",
   "execution_count": null,
   "metadata": {},
   "outputs": [],
   "source": [
    "# Merge the dataframes\n",
    "# Write your code here"
   ]
  },
  {
   "cell_type": "code",
   "execution_count": null,
   "metadata": {},
   "outputs": [],
   "source": [
    "# Show the merged dataframe"
   ]
  },
  {
   "cell_type": "code",
   "execution_count": null,
   "metadata": {},
   "outputs": [],
   "source": [
    "# //*** CODE HERE"
   ]
  },
  {
   "cell_type": "code",
   "execution_count": null,
   "metadata": {},
   "outputs": [],
   "source": [
    "# //*** CODE HERE"
   ]
  },
  {
   "cell_type": "code",
   "execution_count": null,
   "metadata": {},
   "outputs": [],
   "source": [
    "# //*** CODE HERE"
   ]
  },
  {
   "cell_type": "code",
   "execution_count": null,
   "metadata": {},
   "outputs": [],
   "source": [
    "# //*** CODE HERE"
   ]
  },
  {
   "cell_type": "markdown",
   "metadata": {},
   "source": [
    "# Exercise #3\n",
    "\n",
    "3. Create a series and practice basic arithmetic steps\n",
    "\n",
    "a. Series 1 = 7.3, -2.5, 3.4, 1.5\n",
    "\n",
    "i. Index = ‘a’, ‘c’, ‘d’, ‘e’\n",
    "\n",
    "b. Series 2 = -2.1, 3.6, -1.5, 4, 3.1\n",
    "\n",
    "i. Index = ‘a’, ‘c’, ‘e’, ‘f’, ‘g’\n",
    "\n",
    "c. Add Series 1 and Series 2 together and print the results\n",
    "\n",
    "d. Subtract Series 1 from Series 2 and print the results\n"
   ]
  }
 ],
 "metadata": {
  "kernelspec": {
   "display_name": "Python 3",
   "language": "python",
   "name": "python3"
  },
  "language_info": {
   "codemirror_mode": {
    "name": "ipython",
    "version": 3
   },
   "file_extension": ".py",
   "mimetype": "text/x-python",
   "name": "python",
   "nbconvert_exporter": "python",
   "pygments_lexer": "ipython3",
   "version": "3.8.3"
  }
 },
 "nbformat": 4,
 "nbformat_minor": 4
}
