{
 "cells": [
  {
   "cell_type": "markdown",
   "metadata": {},
   "source": [
    "# Stoneburner, Kurt\n",
    "- ## DSC 540 - Week 01/02"
   ]
  },
  {
   "cell_type": "markdown",
   "metadata": {},
   "source": []
  },
  {
   "cell_type": "code",
   "execution_count": 2,
   "metadata": {},
   "outputs": [],
   "source": [
    "# //****************************************************************************************\n",
    "# //*** Set Working Directory to thinkstats folder.\n",
    "# //*** This pseudo-relative path call should work on all Stoneburner localized projects. \n",
    "# //****************************************************************************************\n",
    "\n",
    "import os\n",
    "import sys\n",
    "# //*** Imports and Load Data\n",
    "import matplotlib.pyplot as plt\n",
    "import numpy as np\n",
    "import pandas as pd\n",
    "import random"
   ]
  },
  {
   "cell_type": "code",
   "execution_count": 3,
   "metadata": {},
   "outputs": [],
   "source": [
    "#python_for_data_analysis_path = f\"{os.getcwd()}\\\\pydata-book\\\\examples\"\n",
    "\n",
    "#sys.path.insert(1, python_for_data_analysis_path)\n",
    "#os.chdir(python_for_data_analysis_path)\n"
   ]
  },
  {
   "cell_type": "markdown",
   "metadata": {},
   "source": [
    "- ## Exercise 1\n",
    "\n",
    "**Create a Jupyter notebook where you create a list, iterate over the list and sort your results, generate random numbers, add to the list, and then print your results.**"
   ]
  },
  {
   "cell_type": "code",
   "execution_count": 4,
   "metadata": {},
   "outputs": [
    {
     "name": "stdout",
     "output_type": "stream",
     "text": [
      "[100, 100, 100, 100, 99, 99, 98, 98, 98, 98, 97, 97, 96, 95, 95, 95, 94, 94, 93, 93, 93, 93, 92, 91, 91, 91, 91, 90, 90, 90, 89, 89, 88, 87, 87, 87, 87, 87, 86, 86, 86, 86, 86, 86, 85, 84, 84, 84, 83, 82, 82, 82, 82, 82, 82, 81, 81, 80, 80, 79, 79, 79, 79, 78, 77, 76, 75, 75, 75, 73, 72, 70, 70, 68, 66, 65, 65, 65, 63, 63, 63, 62, 62, 62, 62, 62, 61, 61, 61, 59, 59, 59, 59, 58, 58, 57, 56, 56, 55, 54, 54, 54, 53, 53, 52, 51, 50, 50, 49, 49, 48, 48, 47, 47, 46, 44, 44, 44, 43, 42, 42, 42, 41, 41, 40, 40, 40, 39, 38, 38, 38, 37, 37, 37, 37, 36, 35, 35, 34, 34, 33, 32, 31, 30, 29, 27, 27, 26, 25, 25, 24, 24, 22, 22, 22, 22, 21, 20, 20, 19, 19, 19, 19, 18, 17, 17, 16, 16, 16, 16, 15, 15, 15, 15, 12, 9, 9, 9, 9, 9, 8, 8, 8, 8, 7, 6, 4, 4, 3, 3, 3, 3, 2, 1, 1, 1, 1, 1, 0, 0]\n"
     ]
    }
   ],
   "source": [
    "unsorted_random_list = [random.randint(0,100) for x in range(100)]\n",
    "\n",
    "for x in range(100):\n",
    "    unsorted_random_list.append(random.randint(0,100))\n",
    "\n",
    "sorted_random_list = sorted(unsorted_random_list, reverse=True)\n",
    "\n",
    "print(f\"{sorted_random_list}\")\n"
   ]
  },
  {
   "cell_type": "markdown",
   "metadata": {},
   "source": [
    "- ## Exercise 2\n",
    "\n",
    "**2. Create a line chart with Matplotlib and the following data file.**"
   ]
  },
  {
   "cell_type": "code",
   "execution_count": 19,
   "metadata": {},
   "outputs": [
    {
     "data": {
      "image/png": "[encoded data removed]",
      "text/plain": [
       "<Figure size 432x288 with 1 Axes>"
      ]
     },
     "metadata": {
      "needs_background": "light"
     },
     "output_type": "display_data"
    }
   ],
   "source": [
    "\n",
    "excel_df = pd.read_excel(\"z_sup_wk01_world-population.xlsm\",0)\n",
    "\n",
    "plt.plot(excel_df[\"Year\"],excel_df[\"Population\"])\n",
    "plt.xlabel(\"Year\")\n",
    "plt.ylabel(\"Population (millions)\")\n",
    "plt.show()"
   ]
  },
  {
   "cell_type": "markdown",
   "metadata": {},
   "source": [
    "- ## Exercise 3a\n",
    "\n",
    "**Data Wrangling with Python: Activity 1 page 17**"
   ]
  },
  {
   "cell_type": "markdown",
   "metadata": {},
   "source": [
    "# Create a list of random numbers and then create another list from this one whose elements are divisible by three. Also repeat the experiment few times (at least three times) and calculate the arithimetic mean of the differenence of length of the two lists"
   ]
  },
  {
   "cell_type": "markdown",
   "metadata": {},
   "source": [
    "### Task-1\n",
    "\n",
    "Create a list of random numbers (at least 100 in length but we encourage you to play with the length)\n",
    "\n",
    "__Pay attention so that this list has as less number of duplicates as possible__"
   ]
  },
  {
   "cell_type": "code",
   "execution_count": 22,
   "metadata": {},
   "outputs": [],
   "source": [
    "random_list = [random.randint(0,10000) for x in range(100)]"
   ]
  },
  {
   "cell_type": "markdown",
   "metadata": {},
   "source": [
    "### Task-2\n",
    "\n",
    "Write a list comprehension to generate a second list from the one you just created. The condition of membership in the second list is divisibility by 3."
   ]
  },
  {
   "cell_type": "code",
   "execution_count": 25,
   "metadata": {},
   "outputs": [],
   "source": [
    "#//*** Feeling literal with this variable name\n",
    "second_list = []\n",
    "\n",
    "for x in random_list:\n",
    "    if x % 3 == 0 :\n",
    "        second_list.append(x)\n"
   ]
  },
  {
   "cell_type": "markdown",
   "metadata": {},
   "source": [
    "### Task-3\n",
    "\n",
    "- Use the `len` function to measure the length of the first list and the second list\n",
    "- Store both in two different variables\n",
    "- Calculate the difference of length between them"
   ]
  },
  {
   "cell_type": "code",
   "execution_count": 30,
   "metadata": {},
   "outputs": [],
   "source": [
    "len_random_list = len(random_list)\n",
    "len_second_list = len(second_list)\n",
    "len_list_difference = len_random_list - len_second_list"
   ]
  },
  {
   "cell_type": "markdown",
   "metadata": {},
   "source": [
    "### Task-4\n",
    "\n",
    "- Pack `Task-2` and `Task-3` in a single while loop and perform them few times in such a way that at the end you have a list with difference of length\n",
    "- End the while loop when desired number of experiments are finished (at least three, please feel free to do more)\n",
    "- Calculate the arithmetic mean (common average) on the difference of length that you have. (How to sum all values of a list?)"
   ]
  },
  {
   "cell_type": "code",
   "execution_count": 74,
   "metadata": {},
   "outputs": [
    {
     "name": "stdout",
     "output_type": "stream",
     "text": [
      "Mean: 65.98\n"
     ]
    }
   ],
   "source": [
    "difference_list = []\n",
    "\n",
    "#loop management\n",
    "loop_max = 100\n",
    "loop_count = 0\n",
    "\n",
    "while(loop_count < loop_max):\n",
    "    \n",
    "    #//*** build random number list\n",
    "    loop_random = [random.randint(0,10000) for x in range(100)]\n",
    "    \n",
    "    #//*** Build list of values that are divisibile by 3 using the modulus operator\n",
    "    loop_tertiary = []\n",
    "    for x in loop_random:\n",
    "        if x % 3 == 0 :\n",
    "            loop_tertiary.append(x)\n",
    "    #//*** Append the difference between list lengths\n",
    "    difference_list.append(len(loop_random) - len(loop_tertiary))\n",
    "    #//**** Finite loops only!!!\n",
    "    loop_count += 1\n",
    "\n",
    "#// The easiest way to calculate the mean, is to convert to a Pandas Series and get the mean\n",
    "total = 0\n",
    "\n",
    "for x in difference_list:\n",
    "    total += x\n",
    "    \n",
    "print(f\"Mean: {total/len(difference_list)}\")"
   ]
  },
  {
   "cell_type": "markdown",
   "metadata": {},
   "source": [
    "- ## Exercise 3b\n",
    "\n",
    "**Data Wrangling with Python: Activity 2 page 31**"
   ]
  },
  {
   "cell_type": "markdown",
   "metadata": {},
   "source": [
    "# Lesson 01, Topic 02, Activity 01 - Use the tricks in List, Set, Dict, String etc. to count the number of unique words in a given mutiline text\n",
    "\n",
    "In this activity we will design and develop a unique word counter. We will\n",
    "\n",
    "- Get a multiline text and create a Python variable using \"\"\" to hold that\n",
    "- Get rid of all new lines in it using string methods.\n",
    "- Get all the unique words used in it\n",
    "- Count the number of times each of them occurred\n",
    "- Do the last step again but this time we will be case insensitive, meaning we will consider `this` and `This` as the same word.\n",
    "\n",
    "Find the first Chapter of PRIDE AND PREJUDICE By Jane Austen in the accompanying file,e.g. `P&P Ch01`\n",
    "\n",
    "*For the sake of simplicity for this activity, the original text (can be found [here](https://www.gutenberg.org/files/1342/1342-h/1342-h.htm#link2HCH0001) ) has been preprocessed a bit.*\n",
    "\n",
    "Use `Ctrl + A` to select the entire text and then `Ctrl + C` to copy it.\n",
    "\n",
    "**Create a string variable which can hold multiline text. Paste the text you just copied into it.**"
   ]
  },
  {
   "cell_type": "code",
   "execution_count": 83,
   "metadata": {},
   "outputs": [],
   "source": [
    "f = open(\"z_sup_wk01_P&P Ch01\", \"r\")\n",
    "rawtext = f.read()"
   ]
  },
  {
   "cell_type": "markdown",
   "metadata": {},
   "source": [
    "**Great! Now use string methods to get rid of all the newlines (\\n or \\r) also remove all the symbols including `!`,`?`,`.`,`;`,`,` etc.**"
   ]
  },
  {
   "cell_type": "code",
   "execution_count": 104,
   "metadata": {},
   "outputs": [
    {
     "name": "stdout",
     "output_type": "stream",
     "text": [
      "It is a truth universally acknowledged that a single man in possession of a good fortune must be in want of a wifeHowever little known the feelings or views of such a man may be on his first entering a neighbourhood this truth is so well fixed in the minds of the surrounding families that he is considered the rightful property of some one or other of their daughtersMy dear Mr Bennet said his lady to him one day have you heard that Netherfield Park is let at lastMr Bennet replied that he had notBut it is returned she for Mrs Long has just been here and she told me all about itMr Bennet made no answerDo you not want to know who has taken it cried his wife impatientlyYou want to tell me and I have no objection to hearing itThis was invitation enoughWhy my dear you must know Mrs Long says that Netherfield is taken by a young man of large fortune from the north of England that he came down on Monday in a chaise and four to see the place and was so much delighted with it that he agreed with Mr Morris immediately that he is to take possession before Michaelmas and some of his servants are to be in the house by the end of next weekWhat is his nameBingleyIs he married or singleOh Single my dear to be sure A single man of large fortune four or five thousand a year What a fine thing for our girlsHow so How can it affect themMy dear Mr Bennet replied his wife how can you be so tiresome You must know that I am thinking of his marrying one of themIs that his design in settling hereDesign Nonsense how can you talk so But it is very likely that he may fall in love with one of them and therefore you must visit him as soon as he comesI see no occasion for that You and the girls may go or you may send them by themselves which perhaps will be still better for as you are as handsome as any of them Mr Bingley may like you the best of the partyMy dear you flatter me I certainly have had my share of beauty but I do not pretend to be anything extraordinary now When a woman has five grown-up daughters she ought to give over thinking of her own beautyIn such cases a woman has not often much beauty to think ofBut my dear you must indeed go and see Mr Bingley when he comes into the neighbourhoodIt is more than I engage for I assure youBut consider your daughters Only think what an establishment it would be for one of them Sir William and Lady Lucas are determined to go merely on that account for in general you know they visit no newcomers Indeed you must go for it will be impossible for us to visit him if you do notYou are over-scrupulous surely I dare say Mr Bingley will be very glad to see you and I will send a few lines by you to assure him of my hearty consent to his marrying whichever he chooses of the girls though I must throw in a good word for my little LizzyI desire you will do no such thing Lizzy is not a bit better than the others and I am sure she is not half so handsome as Jane nor half so good-humoured as Lydia But you are always giving her the preferenceThey have none of them much to recommend them replied he they are all silly and ignorant like other girls but Lizzy has something more of quickness than her sistersMr Bennet how can you abuse your own children in such a way You take delight in vexing me You have no compassion for my poor nervesYou mistake me my dear I have a high respect for your nerves They are my old friends I have heard you mention them with consideration these last twenty years at leastAh you do not know what I sufferBut I hope you will get over it and live to see many young men of four thousand a year come into the neighbourhoodIt will be no use to us if twenty such should come since you will not visit themDepend upon it my dear that when there are twenty I will visit them allMr Bennet was so odd a mixture of quick parts sarcastic humour reserve and caprice that the experience of three-and-twenty years had been insufficient to make his wife understand his character Her mind was less difficult to develop She was a woman of mean understanding little information and uncertain temper When she was discontented she fancied herself nervous The business of her life was to get her daughters married its solace was visiting and news \n"
     ]
    }
   ],
   "source": [
    "sani_text = rawtext\n",
    "\n",
    "for x in [\"\\n\",\"\\r\",\"!\",\"?\",\".\",\",\",\";\",\"\\\"\"]:\n",
    "    sani_text = sani_text.replace(x,\"\")\n",
    "    \n",
    "print(sani_text)"
   ]
  },
  {
   "cell_type": "markdown",
   "metadata": {},
   "source": [
    "**Excellent! How different ways can you think of to achieve the same result as above? Which is cleaner?**\n",
    "I'd go with a regex statement that replaces all nontext characters (but not whitespace. /W+/ I think. It's been awhile.\n",
    "\n",
    "**Anyway, let's move on. write code that generates a list of all the words from the cleaned string. Can you do this in one line?**"
   ]
  },
  {
   "cell_type": "code",
   "execution_count": 85,
   "metadata": {},
   "outputs": [],
   "source": [
    "all_the_words = sani_text.split(\" \")"
   ]
  },
  {
   "cell_type": "markdown",
   "metadata": {},
   "source": [
    "**Bravo! This was no easy thing to do.**\n",
    "\n",
    "**Now can you create a list from the list you just created which includes only unique words?**\n",
    "\n",
    "**How different ways can you do this?**\n",
    "\n",
    "Sets and Dictionaries.\n",
    "\n",
    "**Which one is the cleanest according to you?**\n",
    "\n",
    "Using a set should be the cleanest. "
   ]
  },
  {
   "cell_type": "code",
   "execution_count": 86,
   "metadata": {},
   "outputs": [
    {
     "name": "stdout",
     "output_type": "stream",
     "text": [
      "{'', 'thing', 'this', 'herself', 'I', 'compassion', 'who', 'lady', 'year', 'desire', 'over-scrupulous', 'lines', 'throw', 'servants', 'allMr', 'fortune', 'let', 'dear', 'can', 'than', 'would', 'all', 'mixture', 'merely', 'if', 'of', 'affect', 'Lady', 'parts', 'mistake', 'nerves', 'nervous', 'house', 'consideration', 'themDepend', 'reserve', 'marrying', 'good', 'objection', 'consider', 'none', 'it', 'daughters', 'will', 'your', 'for', 'discontented', 'hearty', 'are', 'Long', 'may', 'establishment', 'which', 'their', 'do', 'just', 'an', 'families', 'consent', 'know', 'Michaelmas', 'must', 'visit', 'came', 'girls', 'any', 'good-humoured', 'engage', 'last', 'develop', 'determined', 'views', 'hope', 'agreed', 'respect', 'considered', 'weekWhat', 'humour', 'should', 'three-and-twenty', 'is', 'themselves', 'large', 'she', 'assure', 'when', 'leastAh', 'Bingley', 'young', 'made', 'like', 'insufficient', 'word', 'invitation', 'neighbourhoodIt', 'he', 'no', 'says', 'thousand', 'What', 'in', 'pretend', 'replied', 'heard', 'quickness', 'settling', 'handsome', 'or', 'him', 'married', 'newcomers', 'It', 'perhaps', 'first', 'news', 'now', 'had', 'fall', 'friends', 'preferenceThey', 'likely', 'am', 'England', 'impossible', 'account', 'poor', 'be', 'Park', 'see', 'wifeHowever', 'told', 'these', 'cried', 'has', 'Mr', 'glad', 'not', 'tiresome', 'A', 'comes', 'daughtersMy', 'dare', 'north', 'Jane', 'themIs', 'Lizzy', 'sarcastic', 'over', 'whichever', 'often', 'love', 'chaise', 'life', 'entering', 'truth', 'beauty', 'solace', 'nervesYou', 'few', 'occasion', 'silly', 'abuse', 'four', 'how', 'LizzyI', 'half', 'have', 'Morris', 'what', 'end', 'therefore', 'use', 'temper', 'certainly', 'They', 'singleOh', 'our', 'still', 'its', 'twenty', 'other', 'mention', 'surrounding', 'immediately', 'You', 'notYou', 'youBut', 'vexing', 'recommend', 'understanding', 'tell', 'beautyIn', 'man', 'place', 'known', 'want', 'Single', 'take', 'men', 'very', 'sistersMr', 'something', 'old', 'returned', 'bit', 'as', 'about', 'delight', 'less', 'caprice', 'but', 'information', 'But', 'giving', 'talk', 'Her', 'hearing', 'his', 'impatientlyYou', 'experience', 'When', 'Sir', 'much', 'by', 'before', 'possession', 'business', 'surely', 'some', 'visiting', 'since', 'more', 'such', 'them', 'nor', 'into', 'they', 'get', 'extraordinary', 'many', 'say', 'us', 'She', 'share', 'that', 'girlsHow', 'rightful', 'here', 'enoughWhy', 'me', 'next', 'so', 'single', 'a', 'down', 'five', 'her', 'William', 'hereDesign', 'delighted', 'though', 'neighbourhood', 'give', 'own', 'sufferBut', 'difficult', 'themMy', 'think', 'taken', 'notBut', 'thinking', 'Lydia', 'with', 'Netherfield', 'nameBingleyIs', 'flatter', 'Bennet', 'was', 'always', 'send', 'fine', 'minds', 'from', 'Lucas', 'lastMr', 'at', 'children', 'answerDo', 'grown-up', 'acknowledged', 'fixed', 'you', 'upon', 'uncertain', 'anything', 'go', 'live', 'character', 'day', 'come', 'How', 'others', 'high', 'my', 'woman', 'sure', 'itMr', 'ought', 'said', 'odd', 'best', 'better', 'mind', 'feelings', 'years', 'design', 'understand', 'general', 'chooses', 'wife', 'one', 'cases', 'mean', 'property', 'quick', 'The', 'Monday', 'soon', 'make', 'little', 'the', 'comesI', 'universally', 'been', 'Nonsense', 'ofBut', 'to', 'Mrs', 'itThis', 'well', 'way', 'partyMy', 'on', 'Indeed', 'Only', 'ignorant', 'there', 'and', 'indeed', 'fancied'}\n"
     ]
    }
   ],
   "source": [
    "unique_words = set(all_the_words)\n",
    "\n",
    "print(unique_words)"
   ]
  },
  {
   "cell_type": "markdown",
   "metadata": {},
   "source": [
    "Wow! You are doing great.\n",
    "\n",
    "**Can you now count how many times each of the unique words appeared in the cleaned text?**\n",
    "\n",
    "In DSC510 we spent a whole week counting the unique words in the Ghettysburg address. I appreciate that the academic equivalent of a mini-boss has been reduced to a grunt soldier task.\n",
    "\n",
    "**What is the most efficient way to do it?**\n",
    "\n",
    "Since we have the unique words. Loop through the set, loop through the list words for each set value and count the number of matches. Dump the whole thing in a dictionary. Efficient is a bit of a sticky wicket. Mostly because the unanswered question is what are we being efficient for? effort? lines of code? CPU cycles? each has a different answer."
   ]
  },
  {
   "cell_type": "code",
   "execution_count": 103,
   "metadata": {},
   "outputs": [
    {
     "name": "stdout",
     "output_type": "stream",
     "text": [
      "28 : of\n",
      "23 : you\n",
      "22 : to\n",
      "20 : a\n",
      "17 : the\n",
      "16 : and\n",
      "15 : that\n",
      "15 : I\n",
      "12 : is\n",
      "12 : for\n",
      "11 : he\n",
      "11 : be\n",
      "11 : in\n",
      "11 : his\n",
      "10 : my\n",
      "9 : will\n",
      "9 : it\n",
      "8 : so\n",
      "8 : was\n",
      "8 : dear\n",
      "8 : them\n",
      "8 : are\n",
      "7 : have\n",
      "7 : not\n",
      "7 : must\n",
      "7 : as\n",
      "7 : no\n",
      "6 : Mr\n",
      "6 : she\n",
      "6 : Bennet\n",
      "5 : one\n",
      "5 : see\n",
      "5 : has\n",
      "5 : her\n",
      "5 : may\n",
      "5 : me\n",
      "5 : visit\n",
      "5 : know\n",
      "5 : or\n",
      "5 : such\n",
      "4 : by\n",
      "4 : with\n",
      "4 : go\n",
      "4 : him\n",
      "4 : You\n",
      "4 : man\n",
      "4 : can\n",
      "4 : do\n",
      "3 : woman\n",
      "3 : girls\n",
      "3 : had\n",
      "3 : Bingley\n",
      "3 : replied\n",
      "3 : much\n",
      "3 : fortune\n",
      "3 : little\n",
      "3 : on\n",
      "3 : twenty\n",
      "3 : wife\n",
      "3 : want\n",
      "3 : than\n",
      "3 : your\n",
      "3 : daughters\n",
      "3 : four\n",
      "3 : how\n",
      "2 : truth\n",
      "2 : other\n",
      "2 : am\n",
      "2 : When\n",
      "2 : send\n",
      "2 : some\n",
      "2 : married\n",
      "2 : more\n",
      "2 : into\n",
      "2 : handsome\n",
      "2 : heard\n",
      "2 : possession\n",
      "2 : But\n",
      "2 : thing\n",
      "2 : thinking\n",
      "2 : Netherfield\n",
      "2 : they\n",
      "2 : single\n",
      "2 : take\n",
      "2 : over\n",
      "2 : thousand\n",
      "2 : five\n",
      "2 : Lizzy\n",
      "2 : own\n",
      "2 : half\n",
      "2 : us\n",
      "2 : what\n",
      "2 : think\n",
      "2 : taken\n",
      "2 : get\n",
      "2 : very\n",
      "2 : beauty\n",
      "2 : at\n",
      "2 : but\n",
      "2 : Long\n",
      "2 : years\n",
      "2 : if\n",
      "2 : been\n",
      "2 : all\n",
      "2 : Mrs\n",
      "2 : come\n",
      "2 : better\n",
      "2 : large\n",
      "2 : assure\n",
      "2 : year\n",
      "2 : when\n",
      "2 : marrying\n",
      "2 : good\n",
      "2 : neighbourhoodIt\n",
      "2 : like\n",
      "2 : sure\n",
      "2 : young\n",
      "1 : Nonsense\n",
      "1 : She\n",
      "1 : share\n",
      "1 : say\n",
      "1 : cases\n",
      "1 : universally\n",
      "1 : comesI\n",
      "1 : mean\n",
      "1 : nor\n",
      "1 : many\n",
      "1 : make\n",
      "1 : soon\n",
      "1 : quick\n",
      "1 : The\n",
      "1 : extraordinary\n",
      "1 : property\n",
      "1 : Monday\n",
      "1 : answerDo\n",
      "1 : since\n",
      "1 : visiting\n",
      "1 : information\n",
      "1 : indeed\n",
      "1 : there\n",
      "1 : giving\n",
      "1 : talk\n",
      "1 : Her\n",
      "1 : hearing\n",
      "1 : ignorant\n",
      "1 : Only\n",
      "1 : impatientlyYou\n",
      "1 : experience\n",
      "1 : Indeed\n",
      "1 : partyMy\n",
      "1 : Sir\n",
      "1 : way\n",
      "1 : well\n",
      "1 : itThis\n",
      "1 : before\n",
      "1 : business\n",
      "1 : girlsHow\n",
      "1 : ofBut\n",
      "1 : surely\n",
      "1 : general\n",
      "1 : rightful\n",
      "1 : high\n",
      "1 : How\n",
      "1 : notBut\n",
      "1 : day\n",
      "1 : Lydia\n",
      "1 : character\n",
      "1 : live\n",
      "1 : anything\n",
      "1 : nameBingleyIs\n",
      "1 : flatter\n",
      "1 : always\n",
      "1 : uncertain\n",
      "1 : fine\n",
      "1 : minds\n",
      "1 : from\n",
      "1 : Lucas\n",
      "1 : upon\n",
      "1 : fixed\n",
      "1 : lastMr\n",
      "1 : caprice\n",
      "1 : acknowledged\n",
      "1 : children\n",
      "1 : others\n",
      "1 : themMy\n",
      "1 : here\n",
      "1 : difficult\n",
      "1 : enoughWhy\n",
      "1 : chooses\n",
      "1 : grown-up\n",
      "1 : understand\n",
      "1 : next\n",
      "1 : design\n",
      "1 : feelings\n",
      "1 : down\n",
      "1 : mind\n",
      "1 : best\n",
      "1 : odd\n",
      "1 : William\n",
      "1 : hereDesign\n",
      "1 : delighted\n",
      "1 : though\n",
      "1 : neighbourhood\n",
      "1 : give\n",
      "1 : said\n",
      "1 : ought\n",
      "1 : sufferBut\n",
      "1 : itMr\n",
      "1 : \n",
      "1 : singleOh\n",
      "1 : less\n",
      "1 : last\n",
      "1 : respect\n",
      "1 : agreed\n",
      "1 : hope\n",
      "1 : views\n",
      "1 : determined\n",
      "1 : develop\n",
      "1 : engage\n",
      "1 : weekWhat\n",
      "1 : good-humoured\n",
      "1 : any\n",
      "1 : came\n",
      "1 : Michaelmas\n",
      "1 : consent\n",
      "1 : families\n",
      "1 : considered\n",
      "1 : humour\n",
      "1 : delight\n",
      "1 : says\n",
      "1 : It\n",
      "1 : newcomers\n",
      "1 : settling\n",
      "1 : quickness\n",
      "1 : pretend\n",
      "1 : What\n",
      "1 : invitation\n",
      "1 : should\n",
      "1 : word\n",
      "1 : insufficient\n",
      "1 : made\n",
      "1 : leastAh\n",
      "1 : themselves\n",
      "1 : three-and-twenty\n",
      "1 : an\n",
      "1 : just\n",
      "1 : their\n",
      "1 : lines\n",
      "1 : mixture\n",
      "1 : would\n",
      "1 : let\n",
      "1 : allMr\n",
      "1 : servants\n",
      "1 : throw\n",
      "1 : over-scrupulous\n",
      "1 : which\n",
      "1 : desire\n",
      "1 : lady\n",
      "1 : who\n",
      "1 : compassion\n",
      "1 : herself\n",
      "1 : this\n",
      "1 : merely\n",
      "1 : affect\n",
      "1 : Lady\n",
      "1 : parts\n",
      "1 : mistake\n",
      "1 : nerves\n",
      "1 : nervous\n",
      "1 : house\n",
      "1 : consideration\n",
      "1 : themDepend\n",
      "1 : reserve\n",
      "1 : objection\n",
      "1 : consider\n",
      "1 : none\n",
      "1 : discontented\n",
      "1 : hearty\n",
      "1 : establishment\n",
      "1 : perhaps\n",
      "1 : first\n",
      "1 : news\n",
      "1 : They\n",
      "1 : immediately\n",
      "1 : surrounding\n",
      "1 : mention\n",
      "1 : its\n",
      "1 : still\n",
      "1 : our\n",
      "1 : certainly\n",
      "1 : silly\n",
      "1 : temper\n",
      "1 : use\n",
      "1 : therefore\n",
      "1 : end\n",
      "1 : Morris\n",
      "1 : LizzyI\n",
      "1 : notYou\n",
      "1 : youBut\n",
      "1 : vexing\n",
      "1 : recommend\n",
      "1 : understanding\n",
      "1 : tell\n",
      "1 : beautyIn\n",
      "1 : place\n",
      "1 : known\n",
      "1 : Single\n",
      "1 : men\n",
      "1 : sistersMr\n",
      "1 : something\n",
      "1 : old\n",
      "1 : returned\n",
      "1 : bit\n",
      "1 : about\n",
      "1 : abuse\n",
      "1 : occasion\n",
      "1 : now\n",
      "1 : poor\n",
      "1 : glad\n",
      "1 : cried\n",
      "1 : these\n",
      "1 : told\n",
      "1 : wifeHowever\n",
      "1 : Park\n",
      "1 : account\n",
      "1 : few\n",
      "1 : impossible\n",
      "1 : England\n",
      "1 : likely\n",
      "1 : preferenceThey\n",
      "1 : friends\n",
      "1 : fall\n",
      "1 : tiresome\n",
      "1 : A\n",
      "1 : comes\n",
      "1 : daughtersMy\n",
      "1 : dare\n",
      "1 : north\n",
      "1 : Jane\n",
      "1 : themIs\n",
      "1 : sarcastic\n",
      "1 : whichever\n",
      "1 : often\n",
      "1 : love\n",
      "1 : chaise\n",
      "1 : life\n",
      "1 : entering\n",
      "1 : solace\n",
      "1 : nervesYou\n",
      "1 : fancied\n"
     ]
    }
   ],
   "source": [
    "w_dict = {}\n",
    "for unique_word in unique_words:\n",
    "    loop_count = 0\n",
    "    \n",
    "    for x in all_the_words:\n",
    "        if unique_word == x:\n",
    "            loop_count += 1\n",
    "    w_dict[unique_word] = loop_count \n",
    "\n",
    "for word,count in pd.Series(data = list(w_dict.keys()),index=w_dict.values()).sort_index(ascending=False).items():\n",
    "    print(f\"{word} : {count}\")"
   ]
  },
  {
   "cell_type": "markdown",
   "metadata": {},
   "source": [
    "- ## Exercise 3c\n",
    "\n",
    "**Data Wrangling with Python: Activity 3 page 49**"
   ]
  },
  {
   "cell_type": "markdown",
   "metadata": {},
   "source": [
    "In this activity we will have to do the following tasks\n",
    "\n",
    "- Look up the definition of permutations, and dropwhile from [itertools documentation](https://docs.python.org/3/library/itertools.html) in Python\n",
    "- Using permutations generate all possible three digit numbers that can be generated using 0, 1, and 2\n",
    "- Loop over this iterator and print them and also use `type` and `isinstance` to make sure that the return types are tuples\n",
    "- Use a single line code involving `dropwhile` and an lambda expression to convert all the tuples to lists while dropping any leading zeros (example - `(0, 1, 2)` becomes `[1, 2]`)\n",
    "- Write a function which takes a list like above and returns the actual number contained in it. Example - if you pass `[1, 2]` to the function it will return you `12`. Make sure it is indeed a number and not just a concatenated string. (Hint - You will need to treat the incoming list as a stack in the function to achieve this)"
   ]
  },
  {
   "cell_type": "markdown",
   "metadata": {},
   "source": [
    "### Task 1\n",
    "\n",
    "Look up the definition of `permutations` and `dropwhile` from itertools. \n",
    "\n",
    "There is a way to look up the definition of a function inside Jupyter itself. just type the function name followed by a `?` and press `Shift+Enter`. We encourage you to also try this way"
   ]
  },
  {
   "cell_type": "code",
   "execution_count": null,
   "metadata": {},
   "outputs": [],
   "source": []
  },
  {
   "cell_type": "markdown",
   "metadata": {},
   "source": [
    "### Task 2\n",
    "\n",
    "Write an expression to generate all the possible three digit numbers using 0, 1, and 2"
   ]
  },
  {
   "cell_type": "code",
   "execution_count": null,
   "metadata": {},
   "outputs": [],
   "source": []
  },
  {
   "cell_type": "markdown",
   "metadata": {},
   "source": [
    "### Task 3\n",
    "Loop over the iterator expression you generated before. Use print to print each element returned by the iterator. Use `assert` and `isinstance` to make sure that the elements are of type tuple"
   ]
  },
  {
   "cell_type": "code",
   "execution_count": null,
   "metadata": {},
   "outputs": [],
   "source": []
  },
  {
   "cell_type": "markdown",
   "metadata": {},
   "source": [
    "### Task 4\n",
    "\n",
    "Write the loop again. But this time use `dropwhile` with a lambda expression to drop any leading zeros from the tuples. As an example `(0, 1, 2)` will become `[0, 2]`. Also cast the output of the dropwhile to a list.\n",
    "\n",
    "_Extra task can be to check the actual type that dropwhile returns without the casting asked above_"
   ]
  },
  {
   "cell_type": "code",
   "execution_count": null,
   "metadata": {},
   "outputs": [],
   "source": []
  },
  {
   "cell_type": "markdown",
   "metadata": {},
   "source": [
    "### Task 5\n",
    "\n",
    "Write all the logic you had written above, but this time write a separate function where you will be passing the list generated from dropwhile and the function will return the whole number contained in the list. As an example if you pass `[1, 2]` to the fucntion it will return 12 to you. Make sure that the return type is indeed a number and not a string. Although this task can be achieved using some other tricks, we require that you treat the incoming list as a stack in the function and generate the number there. "
   ]
  },
  {
   "cell_type": "code",
   "execution_count": 8,
   "metadata": {},
   "outputs": [],
   "source": [
    "# //*** CODE HERE"
   ]
  },
  {
   "cell_type": "markdown",
   "metadata": {},
   "source": [
    "- ## Exercise 3d\n",
    "\n",
    "**Data Wrangling with Python: Activity 4 page 59**"
   ]
  },
  {
   "cell_type": "markdown",
   "metadata": {},
   "source": [
    "## Activity 04 Design your own CSV parser"
   ]
  },
  {
   "cell_type": "markdown",
   "metadata": {},
   "source": [
    "In this activity we will be tasked with building our own CSV reader and parser. Although it is an indeed big task if we try to cover all use cases and edge cases along with escape characters and all, for the sake of this small activity we will keep our requirements pretty low. We will assume that there is no escape character, meaning if you use a comma `,` at any place in your row it means you are starting a new column. We will also assume that the only  function we are interested about is to be able to read a CSV line by line where each read will generate a new dict with the column names as keys and the values for the row as value\n",
    "\n",
    "As an example\n",
    "<table>\n",
    "    <th>\n",
    "        <td>\n",
    "            Name\n",
    "         </td>\n",
    "         <td>\n",
    "             Age\n",
    "        </td>\n",
    "        <td>\n",
    "            Location\n",
    "        </td>\n",
    "    </th>\n",
    "    <tbody>\n",
    "    <tr>\n",
    "    <td>Bob</td><td>24</td><td>California</td>\n",
    "    </tr>\n",
    "    </tbody>\n",
    " <table>\n",
    "\n",
    "A CSV looking like above, when read, will return a dict like this - `{\"Name\": \"Bob\", \"Age\": \"24\", \"Location\": \"California\"}`\n",
    "\n",
    "### Tasks -\n",
    "\n",
    "- Open the accompanying file \"sales_record.csv\" using \"r\" mode inside a with block and check first that it is opened.\n",
    "- Read the first line and use string methods to generate a list of all the column names\n",
    "- start reading the file one by one\n",
    "- When you read each line pass that line to a function along with the list of the headers\n",
    "- The work of the function is to construct a dict out of these two and fill up the key:values. Keep in mind that a missing value should result in a None."
   ]
  },
  {
   "cell_type": "code",
   "execution_count": 9,
   "metadata": {},
   "outputs": [],
   "source": [
    "# //*** CODE HERE"
   ]
  }
 ],
 "metadata": {
  "kernelspec": {
   "display_name": "Python 3",
   "language": "python",
   "name": "python3"
  },
  "language_info": {
   "codemirror_mode": {
    "name": "ipython",
    "version": 3
   },
   "file_extension": ".py",
   "mimetype": "text/x-python",
   "name": "python",
   "nbconvert_exporter": "python",
   "pygments_lexer": "ipython3",
   "version": "3.8.3"
  }
 },
 "nbformat": 4,
 "nbformat_minor": 4
}
