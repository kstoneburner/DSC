{
 "cells": [
  {
   "cell_type": "markdown",
   "metadata": {},
   "source": [
    "# Stoneburner, Kurt\n",
    "- ## DSC 540 - Week 03/04"
   ]
  },
  {
   "cell_type": "code",
   "execution_count": 1,
   "metadata": {},
   "outputs": [],
   "source": [
    "# //****************************************************************************************\n",
    "# //*** Set Working Directory to thinkstats folder.\n",
    "# //*** This pseudo-relative path call should work on all Stoneburner localized projects. \n",
    "# //****************************************************************************************\n",
    "\n",
    "import os\n",
    "import sys\n",
    "# //*** Imports and Load Data\n",
    "import matplotlib.pyplot as plt\n",
    "import numpy as np\n",
    "import pandas as pd"
   ]
  },
  {
   "cell_type": "code",
   "execution_count": 2,
   "metadata": {},
   "outputs": [],
   "source": [
    "#python_for_data_analysis_path = f\"{os.getcwd()}\\\\pydata-book\\\\examples\"\n",
    "\n",
    "#sys.path.insert(1, python_for_data_analysis_path)\n",
    "#os.chdir(python_for_data_analysis_path)\n"
   ]
  },
  {
   "cell_type": "markdown",
   "metadata": {},
   "source": [
    "# Exercise #1\n",
    "- ## Activity 05\n",
    "\n",
    "In this acitvity, you will work with **Boston Housing Price dataset**. The Boston house-price data has been used in many machine learning papers that address regression problems. You will read the data from a CSV file into a Pandas DataFrame and do some data basic wrangling with it.\n",
    "\n",
    "Following are the details of the attributes of this dataset for your reference. You may have to refer them while answering question on this activity.\n",
    "\n",
    "* **CRIM**: per capita crime rate by town\n",
    "* **ZN**: proportion of residential land zoned for lots over 25,000 sq.ft.\n",
    "* **INDUS**: proportion of non-retail business acres per town\n",
    "* **CHAS**: Charles River dummy variable (= 1 if tract bounds river; 0 otherwise)\n",
    "* **NOX**: nitric oxides concentration (parts per 10 million)\n",
    "* **RM**: average number of rooms per dwelling\n",
    "* **AGE**: proportion of owner-occupied units built prior to 1940\n",
    "* **DIS**: weighted distances to five Boston employment centres\n",
    "* **RAD**: index of accessibility to radial highways\n",
    "* **TAX**: full-value property-tax rate per 10,000 dollars\n",
    "* **PTRATIO**: pupil-teacher ratio by town\n",
    "* **B**: 1000(Bk - 0.63)^2 where Bk is the proportion of blacks by town\n",
    "* **LSTAT**: % of lower status of the population\n",
    "* **PRICE**: Median value of owner-occupied homes in $1000's"
   ]
  },
  {
   "cell_type": "markdown",
   "metadata": {},
   "source": [
    "### Load necessary libraries"
   ]
  },
  {
   "cell_type": "code",
   "execution_count": 3,
   "metadata": {},
   "outputs": [],
   "source": [
    "#//*** Ha!! Aleady loaded above as part of my generic all purpose notebook template"
   ]
  },
  {
   "cell_type": "markdown",
   "metadata": {},
   "source": [
    "### Read in the Boston housing data set (given as a .csv file) from the local directory"
   ]
  },
  {
   "cell_type": "code",
   "execution_count": 4,
   "metadata": {},
   "outputs": [],
   "source": [
    "#//*** Boston_housing.csv is located in Chapter05\\Lesson60-68\n",
    "# Hint: The Pandas function for reading a CSV file is 'read_csv'.\n",
    "# Don't forget that all functions in Pandas can be accessed by syntax like pd.{function_name}\n",
    "# write your code here\n",
    "raw_df = pd.read_csv(\"z_sup_wk03_Boston_housing.csv\")"
   ]
  },
  {
   "cell_type": "markdown",
   "metadata": {},
   "source": [
    "### Check first 10 records"
   ]
  },
  {
   "cell_type": "code",
   "execution_count": 5,
   "metadata": {},
   "outputs": [
    {
     "name": "stdout",
     "output_type": "stream",
     "text": [
      "      CRIM    ZN  INDUS  CHAS    NOX     RM    AGE     DIS  RAD  TAX  PTRATIO  \\\n",
      "0  0.00632  18.0   2.31     0  0.538  6.575   65.2  4.0900    1  296     15.3   \n",
      "1  0.02731   0.0   7.07     0  0.469  6.421   78.9  4.9671    2  242     17.8   \n",
      "2  0.02729   0.0   7.07     0  0.469  7.185   61.1  4.9671    2  242     17.8   \n",
      "3  0.03237   0.0   2.18     0  0.458  6.998   45.8  6.0622    3  222     18.7   \n",
      "4  0.06905   0.0   2.18     0  0.458  7.147   54.2  6.0622    3  222     18.7   \n",
      "5  0.02985   0.0   2.18     0  0.458  6.430   58.7  6.0622    3  222     18.7   \n",
      "6  0.08829  12.5   7.87     0  0.524  6.012   66.6  5.5605    5  311     15.2   \n",
      "7  0.14455  12.5   7.87     0  0.524  6.172   96.1  5.9505    5  311     15.2   \n",
      "8  0.21124  12.5   7.87     0  0.524  5.631  100.0  6.0821    5  311     15.2   \n",
      "9  0.17004  12.5   7.87     0  0.524  6.004   85.9  6.5921    5  311     15.2   \n",
      "\n",
      "        B  LSTAT  PRICE  \n",
      "0  396.90   4.98   24.0  \n",
      "1  396.90   9.14   21.6  \n",
      "2  392.83   4.03   34.7  \n",
      "3  394.63   2.94   33.4  \n",
      "4  396.90   5.33   36.2  \n",
      "5  394.12   5.21   28.7  \n",
      "6  395.60  12.43   22.9  \n",
      "7  396.90  19.15   27.1  \n",
      "8  386.63  29.93   16.5  \n",
      "9  386.71  17.10   18.9  \n"
     ]
    }
   ],
   "source": [
    "print(f\"{raw_df.head(10)}\")"
   ]
  },
  {
   "cell_type": "markdown",
   "metadata": {},
   "source": [
    "### In total, how many records are there?"
   ]
  },
  {
   "cell_type": "code",
   "execution_count": 6,
   "metadata": {},
   "outputs": [
    {
     "name": "stdout",
     "output_type": "stream",
     "text": [
      "There are 506 records (rows) in the dataframe\n"
     ]
    }
   ],
   "source": [
    "print(f\"There are {len(raw_df)} records (rows) in the dataframe\")"
   ]
  },
  {
   "cell_type": "markdown",
   "metadata": {},
   "source": [
    "### Create a smaller DataFrame with columns which do not include 'CHAS', 'NOX', 'B', and 'LSTAT'"
   ]
  },
  {
   "cell_type": "code",
   "execution_count": 7,
   "metadata": {},
   "outputs": [
    {
     "name": "stdout",
     "output_type": "stream",
     "text": [
      "      CRIM    ZN  INDUS     RM   AGE     DIS  RAD  TAX  PTRATIO  PRICE\n",
      "0  0.00632  18.0   2.31  6.575  65.2  4.0900    1  296     15.3   24.0\n",
      "1  0.02731   0.0   7.07  6.421  78.9  4.9671    2  242     17.8   21.6\n",
      "2  0.02729   0.0   7.07  7.185  61.1  4.9671    2  242     17.8   34.7\n",
      "3  0.03237   0.0   2.18  6.998  45.8  6.0622    3  222     18.7   33.4\n",
      "4  0.06905   0.0   2.18  7.147  54.2  6.0622    3  222     18.7   36.2\n"
     ]
    }
   ],
   "source": [
    "housing_df = raw_df.drop([ 'CHAS', 'NOX', 'B', 'LSTAT'],axis=1)\n",
    "print(f\"{housing_df.head(5)}\")\n"
   ]
  },
  {
   "cell_type": "markdown",
   "metadata": {},
   "source": [
    "### Check the last 7 records of the new DataFrame you just created"
   ]
  },
  {
   "cell_type": "code",
   "execution_count": 8,
   "metadata": {},
   "outputs": [
    {
     "name": "stdout",
     "output_type": "stream",
     "text": [
      "        CRIM   ZN  INDUS     RM   AGE     DIS  RAD  TAX  PTRATIO  PRICE\n",
      "499  0.17783  0.0   9.69  5.569  73.5  2.3999    6  391     19.2   17.5\n",
      "500  0.22438  0.0   9.69  6.027  79.7  2.4982    6  391     19.2   16.8\n",
      "501  0.06263  0.0  11.93  6.593  69.1  2.4786    1  273     21.0   22.4\n",
      "502  0.04527  0.0  11.93  6.120  76.7  2.2875    1  273     21.0   20.6\n",
      "503  0.06076  0.0  11.93  6.976  91.0  2.1675    1  273     21.0   23.9\n",
      "504  0.10959  0.0  11.93  6.794  89.3  2.3889    1  273     21.0   22.0\n",
      "505  0.04741  0.0  11.93  6.030  80.8  2.5050    1  273     21.0   11.9\n"
     ]
    }
   ],
   "source": [
    "print(f\"{housing_df.tail(7)}\")"
   ]
  },
  {
   "cell_type": "markdown",
   "metadata": {},
   "source": [
    "### Can you plot histograms of all the variables (columns) in the new DataFrame?\n",
    "You can of course plot them one by one. But try to write a short code to plot all of them once.\n",
    "<br>***Hint***: 'For loop'!\n",
    "<br>***Bonus problem***: Can you also show each plot with its unique title i.e. of the variable that it is a plot of? "
   ]
  },
  {
   "cell_type": "code",
   "execution_count": 9,
   "metadata": {
    "scrolled": false
   },
   "outputs": [
    {
     "data": {
      "image/png": "[encoded data removed]",
      "text/plain": [
       "<Figure size 432x288 with 1 Axes>"
      ]
     },
     "metadata": {
      "needs_background": "light"
     },
     "output_type": "display_data"
    },
    {
     "data": {
      "image/png": "[encoded data removed]",
      "text/plain": [
       "<Figure size 432x288 with 1 Axes>"
      ]
     },
     "metadata": {
      "needs_background": "light"
     },
     "output_type": "display_data"
    },
    {
     "data": {
      "image/png": "[encoded data removed]",
      "text/plain": [
       "<Figure size 432x288 with 1 Axes>"
      ]
     },
     "metadata": {
      "needs_background": "light"
     },
     "output_type": "display_data"
    },
    {
     "data": {
      "image/png": "[encoded data removed]",
      "text/plain": [
       "<Figure size 432x288 with 1 Axes>"
      ]
     },
     "metadata": {
      "needs_background": "light"
     },
     "output_type": "display_data"
    },
    {
     "data": {
      "image/png": "[encoded data removed]",
      "text/plain": [
       "<Figure size 432x288 with 1 Axes>"
      ]
     },
     "metadata": {
      "needs_background": "light"
     },
     "output_type": "display_data"
    },
    {
     "data": {
      "image/png": "[encoded data removed]",
      "text/plain": [
       "<Figure size 432x288 with 1 Axes>"
      ]
     },
     "metadata": {
      "needs_background": "light"
     },
     "output_type": "display_data"
    },
    {
     "data": {
      "image/png": "[encoded data removed]",
      "text/plain": [
       "<Figure size 432x288 with 1 Axes>"
      ]
     },
     "metadata": {
      "needs_background": "light"
     },
     "output_type": "display_data"
    },
    {
     "data": {
      "image/png": "[encoded data removed]",
      "text/plain": [
       "<Figure size 432x288 with 1 Axes>"
      ]
     },
     "metadata": {
      "needs_background": "light"
     },
     "output_type": "display_data"
    },
    {
     "data": {
      "image/png": "[encoded data removed]",
      "text/plain": [
       "<Figure size 432x288 with 1 Axes>"
      ]
     },
     "metadata": {
      "needs_background": "light"
     },
     "output_type": "display_data"
    },
    {
     "data": {
      "image/png": "[encoded data removed]",
      "text/plain": [
       "<Figure size 432x288 with 1 Axes>"
      ]
     },
     "metadata": {
      "needs_background": "light"
     },
     "output_type": "display_data"
    }
   ],
   "source": [
    "for loople in housing_df.items():\n",
    "    #//*** A loople is a loop_tuple. I'm sacrficing good syntax on the altar of dad jokes\n",
    "    column = loople[0]\n",
    "    hist = loople[1].value_counts().sort_index()\n",
    "    \n",
    "    plt.bar(hist.index,hist,1)\n",
    "    plt.xlabel(\"Value\")\n",
    "    plt.ylabel(\"Frequency\")\n",
    "    plt.title(f\"Boston Housing Data\\n{column} Histogram\")\n",
    "    plt.show()\n",
    "    #print(f\"{hist.index}\")"
   ]
  },
  {
   "cell_type": "markdown",
   "metadata": {},
   "source": [
    "### Crime rate could be an indicator of house price (people don't want to live in high-crime areas). Create a scatter plot of crime rate vs. Price."
   ]
  },
  {
   "cell_type": "code",
   "execution_count": 10,
   "metadata": {},
   "outputs": [
    {
     "data": {
      "image/png": "[encoded data removed]",
      "text/plain": [
       "<Figure size 432x288 with 1 Axes>"
      ]
     },
     "metadata": {
      "needs_background": "light"
     },
     "output_type": "display_data"
    }
   ],
   "source": [
    "plt.scatter(housing_df[\"PRICE\"],housing_df[\"CRIM\"],1)\n",
    "plt.title(\"Boston Housing Market\\n Housing Price vs Crime Rate\")\n",
    "plt.xlabel(\"Housing Price $(thousands)\")\n",
    "plt.ylabel(\"per Capita Crime Rate\")\n",
    "plt\n",
    "\n",
    "plt.show()"
   ]
  },
  {
   "cell_type": "markdown",
   "metadata": {},
   "source": [
    "### We can understand the relationship better if we plot _log10(crime)_ vs. Price. Create that plot and make it nice. Give proper title, x-axis, y-axis label, make data points a color of your choice, etc...\n",
    "***Hint***: Try `np.log10` function"
   ]
  },
  {
   "cell_type": "code",
   "execution_count": 11,
   "metadata": {},
   "outputs": [
    {
     "data": {
      "image/png": "[encoded data removed]",
      "text/plain": [
       "<Figure size 432x288 with 1 Axes>"
      ]
     },
     "metadata": {
      "needs_background": "light"
     },
     "output_type": "display_data"
    }
   ],
   "source": [
    "plt.scatter(housing_df[\"PRICE\"],np.log10(housing_df[\"CRIM\"]),1)\n",
    "plt.title(\"Boston Housing Market\\n Housing Price vs Crime Rate\")\n",
    "plt.xlabel(\"Housing Price $(thousands)\")\n",
    "plt.ylabel(\"per Capita Crime Rate log10\")\n",
    "plt\n",
    "\n",
    "plt.show()"
   ]
  },
  {
   "cell_type": "markdown",
   "metadata": {},
   "source": [
    "### Can you calculate the mean rooms per dwelling?"
   ]
  },
  {
   "cell_type": "code",
   "execution_count": 12,
   "metadata": {},
   "outputs": [
    {
     "name": "stdout",
     "output_type": "stream",
     "text": [
      "Mean Rooms per dwelling 6.28\n",
      "Median Rooms per dwelling 6.21\n"
     ]
    }
   ],
   "source": [
    "print(f\"Mean Rooms per dwelling {round(housing_df['RM'].mean(),2)}\")\n",
    "print(f\"Median Rooms per dwelling {round(housing_df['RM'].median(),2)}\")"
   ]
  },
  {
   "cell_type": "markdown",
   "metadata": {},
   "source": [
    "### Can you calculate median Age?"
   ]
  },
  {
   "cell_type": "code",
   "execution_count": 13,
   "metadata": {},
   "outputs": [
    {
     "name": "stdout",
     "output_type": "stream",
     "text": [
      "Mean Proportion of Owned Dwellings 68.57%\n",
      "Median Proportion of Owned Dwellings 77.5%\n"
     ]
    }
   ],
   "source": [
    "print(f\"Mean Proportion of Owned Dwellings {round(housing_df['AGE'].mean(),2)}%\")\n",
    "print(f\"Median Proportion of Owned Dwellings {round(housing_df['AGE'].median(),2)}%\")"
   ]
  },
  {
   "cell_type": "markdown",
   "metadata": {},
   "source": [
    "### Can you calculate average (mean) distances to five Boston employment centres?"
   ]
  },
  {
   "cell_type": "code",
   "execution_count": 14,
   "metadata": {},
   "outputs": [
    {
     "name": "stdout",
     "output_type": "stream",
     "text": [
      "Mean distance to five Bostom employment centers 3.8 miles\n"
     ]
    }
   ],
   "source": [
    "print(f\"Mean distance to five Bostom employment centers {round(housing_df['DIS'].mean(),2)} miles\")"
   ]
  },
  {
   "cell_type": "markdown",
   "metadata": {},
   "source": [
    "### Tricky question: Can you calculate the percentage of houses with low price (< $20,000)?"
   ]
  },
  {
   "cell_type": "code",
   "execution_count": 15,
   "metadata": {},
   "outputs": [
    {
     "name": "stdout",
     "output_type": "stream",
     "text": [
      "41.5% of houses are less than $20,000\n",
      "Which is 210 out of 506 houses.\n"
     ]
    }
   ],
   "source": [
    "\n",
    "print(f\"{round(len(housing_df[housing_df['PRICE'] < 20]) / len(housing_df),4)*100}% of houses are less than $20,000\")\n",
    "print(f\"Which is {len(housing_df[housing_df['PRICE'] < 20])} out of {len(housing_df)} houses.\")"
   ]
  },
  {
   "cell_type": "markdown",
   "metadata": {},
   "source": [
    "# Exercise #2\n",
    "\n",
    "- ## Activity 06: Working with adult income dataset (UCI)\n",
    "\n",
    "In this activity, you will work with **Adult Income Dataset** from UCI Machine Learning portal. The Adult Income data set has been used in many machine learning papers that address classification problems. You will read the data from a CSV file into a Pandas DataFrame and do practice some of the advanced data wrangling you learned in this Lesson.\n",
    "\n",
    "### URL for downloading the data\n",
    "We have the data downloaded as a CSV file on the disk for your ease. However, it is recommended to practice data download on your own so that you are familiar with the process.\n",
    "\n",
    "**Here is the URL for the data set**: https://archive.ics.uci.edu/ml/machine-learning-databases/adult/\n",
    "\n",
    "**Here is the URL for the description of the data set and the variables (at the end of the document)**: https://archive.ics.uci.edu/ml/machine-learning-databases/adult/adult.names\n",
    "\n",
    "### Attributes/Variables\n",
    "\n",
    "Following are the details of the type of the attributes of this dataset for your reference. You may have to refer them while answering question on this activity. Note that, many of the attributes are of discrete factor type. These are common type for a classification problem unlike continuous numeric values used for regression problems.\n",
    "\n",
    "* __age__: continuous.\n",
    "* __workclass__: Private, Self-emp-not-inc, Self-emp-inc, Federal-gov, Local-gov, State-gov, Without-pay, Never-worked.\n",
    "* __fnlwgt__: continuous.\n",
    "* __education__: Bachelors, Some-college, 11th, HS-grad, Prof-school, Assoc-acdm, Assoc-voc, 9th, 7th-8th, 12th, Masters, 1st-4th, 10th, Doctorate, 5th-6th, Preschool.\n",
    "* __education-num__: continuous.\n",
    "* __marital-status__: Married-civ-spouse, Divorced, Never-married, Separated, Widowed, Married-spouse-absent, Married-AF-spouse.\n",
    "* __occupation__: Tech-support, Craft-repair, Other-service, Sales, Exec-managerial, Prof-specialty, Handlers-cleaners, Machine-op-inspct, Adm-clerical, Farming-fishing, Transport-moving, Priv-house-serv, Protective-serv, Armed-Forces.\n",
    "* __relationship__: Wife, Own-child, Husband, Not-in-family, Other-relative, Unmarried.\n",
    "* __race__: White, Asian-Pac-Islander, Amer-Indian-Eskimo, Other, Black.\n",
    "* __sex__: Female, Male.\n",
    "* __capital-gain__: continuous.\n",
    "* __capital-loss__: continuous.\n",
    "* __hours-per-week__: continuous.\n",
    "* __native-country__: United-States, Cambodia, England, Puerto-Rico, Canada, Germany, Outlying-US(Guam-USVI-etc), India, Japan, Greece, South, China, Cuba, Iran, Honduras, Philippines, Italy, Poland, Jamaica, Vietnam, Mexico, Portugal, Ireland, France, Dominican-Republic, Laos, Ecuador, Taiwan, Haiti, Columbia, Hungary, Guatemala, Nicaragua, Scotland, Thailand, Yugoslavia, El-Salvador, Trinadad&Tobago, Peru, Hong, Holand-Netherlands.\n",
    "\n",
    "### A special note on the variable 'fnlwgt':\n",
    "\n",
    "The weights on the CPS files are controlled to independent estimates of the civilian noninstitutional population of the US.  These are prepared monthly for us by Population Division here at the Census Bureau.  We use 3 sets of controls. These are:\n",
    "1.  A single cell estimate of the population 16+ for each state.\n",
    "2.  Controls for Hispanic Origin by age and sex.\n",
    "3.  Controls by Race, age and sex.\n",
    "\n",
    "We use all three sets of controls in our weighting program and \"rake\" through them 6 times so that by the end we come back to all the controls we used. The term estimate refers to population totals derived from CPS by creating \"weighted tallies\" of any specified socio-economic characteristics of the population. \n",
    "\n",
    "People with similar demographic characteristics should have similar weights. There is one important caveat to remember about this statement.  That is that since the CPS sample is actually a collection of 51 state samples, each with its own probability of selection, the statement only applies within state."
   ]
  },
  {
   "cell_type": "markdown",
   "metadata": {},
   "source": [
    "### Load necessary libraries"
   ]
  },
  {
   "cell_type": "code",
   "execution_count": 16,
   "metadata": {},
   "outputs": [],
   "source": [
    "#//*** Already done!"
   ]
  },
  {
   "cell_type": "markdown",
   "metadata": {},
   "source": [
    "### Read in the adult income data set (given as a .csv file) from the local directory and check first 5 records"
   ]
  },
  {
   "cell_type": "code",
   "execution_count": 17,
   "metadata": {},
   "outputs": [
    {
     "name": "stdout",
     "output_type": "stream",
     "text": [
      "   39          State-gov   77516   Bachelors   13        Never-married  \\\n",
      "0  50   Self-emp-not-inc   83311   Bachelors   13   Married-civ-spouse   \n",
      "1  38            Private  215646     HS-grad    9             Divorced   \n",
      "2  53            Private  234721        11th    7   Married-civ-spouse   \n",
      "3  28            Private  338409   Bachelors   13   Married-civ-spouse   \n",
      "4  37            Private  284582     Masters   14   Married-civ-spouse   \n",
      "\n",
      "         Adm-clerical   Not-in-family   White     Male   2174   0   40  \\\n",
      "0     Exec-managerial         Husband   White     Male      0   0   13   \n",
      "1   Handlers-cleaners   Not-in-family   White     Male      0   0   40   \n",
      "2   Handlers-cleaners         Husband   Black     Male      0   0   40   \n",
      "3      Prof-specialty            Wife   Black   Female      0   0   40   \n",
      "4     Exec-managerial            Wife   White   Female      0   0   40   \n",
      "\n",
      "    United-States   <=50K  \n",
      "0   United-States   <=50K  \n",
      "1   United-States   <=50K  \n",
      "2   United-States   <=50K  \n",
      "3            Cuba   <=50K  \n",
      "4   United-States   <=50K  \n"
     ]
    }
   ],
   "source": [
    "#//** Had to DL from the website\n",
    "filename = \"z_sup_wk03_adult.data.csv\"\n",
    "income_df = pd.read_csv(filename)\n",
    "print(f\"{income_df.head(5)}\")"
   ]
  },
  {
   "cell_type": "markdown",
   "metadata": {},
   "source": [
    "### Do you think the column names (headers) make sense?"
   ]
  },
  {
   "cell_type": "markdown",
   "metadata": {},
   "source": [
    "Clearly not!"
   ]
  },
  {
   "cell_type": "markdown",
   "metadata": {},
   "source": [
    "### Time to read in the text file with data descriptions and extract header names\n",
    "Write a file reading script which reads the text file line by line, and extracts the first phrase which is the header name"
   ]
  },
  {
   "cell_type": "code",
   "execution_count": 18,
   "metadata": {},
   "outputs": [
    {
     "name": "stdout",
     "output_type": "stream",
     "text": [
      "['age', 'workclass', 'fnlwgt', 'education', 'education-num', 'marital-status', 'occupation', 'relationship', 'race', 'sex', 'capital-gain', 'capital-loss', 'hours-per-week', 'native-country']\n"
     ]
    }
   ],
   "source": [
    "header_col = []\n",
    "with open(\"z_sup_wk03_adult.names.txt\",\"r\") as fd:\n",
    "    \n",
    "    for rawline in fd:\n",
    "        #//*** Skip Comment Lines and only process lines with a :\n",
    "        if \"|\" not in rawline and \":\" in rawline:\n",
    "            header_col.append(rawline.split(':')[0])\n",
    "print(header_col)"
   ]
  },
  {
   "cell_type": "markdown",
   "metadata": {},
   "source": [
    "### Add a name (\"_Income_\") for the response variable (last column) to the dataset and read it again with the column names supplied "
   ]
  },
  {
   "cell_type": "code",
   "execution_count": 19,
   "metadata": {},
   "outputs": [],
   "source": [
    "header_col.append(\"income\")"
   ]
  },
  {
   "cell_type": "code",
   "execution_count": 20,
   "metadata": {},
   "outputs": [
    {
     "name": "stdout",
     "output_type": "stream",
     "text": [
      "   age          workclass  fnlwgt   education  education-num  \\\n",
      "0   39          State-gov   77516   Bachelors             13   \n",
      "1   50   Self-emp-not-inc   83311   Bachelors             13   \n",
      "2   38            Private  215646     HS-grad              9   \n",
      "3   53            Private  234721        11th              7   \n",
      "4   28            Private  338409   Bachelors             13   \n",
      "\n",
      "        marital-status          occupation    relationship    race      sex  \\\n",
      "0        Never-married        Adm-clerical   Not-in-family   White     Male   \n",
      "1   Married-civ-spouse     Exec-managerial         Husband   White     Male   \n",
      "2             Divorced   Handlers-cleaners   Not-in-family   White     Male   \n",
      "3   Married-civ-spouse   Handlers-cleaners         Husband   Black     Male   \n",
      "4   Married-civ-spouse      Prof-specialty            Wife   Black   Female   \n",
      "\n",
      "   capital-gain  capital-loss  hours-per-week  native-country  income  \n",
      "0          2174             0              40   United-States   <=50K  \n",
      "1             0             0              13   United-States   <=50K  \n",
      "2             0             0              40   United-States   <=50K  \n",
      "3             0             0              40   United-States   <=50K  \n",
      "4             0             0              40            Cuba   <=50K  \n"
     ]
    }
   ],
   "source": [
    "filename = \"z_sup_wk03_adult.data.csv\"\n",
    "income_df = pd.read_csv(filename,names=header_col)\n",
    "print(f\"{income_df.head()}\")"
   ]
  },
  {
   "cell_type": "markdown",
   "metadata": {},
   "source": [
    "### Show a statistical summary of the data set. Did you notice only a small number of columns are included?"
   ]
  },
  {
   "cell_type": "code",
   "execution_count": 21,
   "metadata": {
    "scrolled": true
   },
   "outputs": [
    {
     "data": {
      "text/html": [
       "<div>\n",
       "<style scoped>\n",
       "    .dataframe tbody tr th:only-of-type {\n",
       "        vertical-align: middle;\n",
       "    }\n",
       "\n",
       "    .dataframe tbody tr th {\n",
       "        vertical-align: top;\n",
       "    }\n",
       "\n",
       "    .dataframe thead th {\n",
       "        text-align: right;\n",
       "    }\n",
       "</style>\n",
       "<table border=\"1\" class=\"dataframe\">\n",
       "  <thead>\n",
       "    <tr style=\"text-align: right;\">\n",
       "      <th></th>\n",
       "      <th>age</th>\n",
       "      <th>fnlwgt</th>\n",
       "      <th>education-num</th>\n",
       "      <th>capital-gain</th>\n",
       "      <th>capital-loss</th>\n",
       "      <th>hours-per-week</th>\n",
       "    </tr>\n",
       "  </thead>\n",
       "  <tbody>\n",
       "    <tr>\n",
       "      <th>count</th>\n",
       "      <td>32561.000000</td>\n",
       "      <td>3.256100e+04</td>\n",
       "      <td>32561.000000</td>\n",
       "      <td>32561.000000</td>\n",
       "      <td>32561.000000</td>\n",
       "      <td>32561.000000</td>\n",
       "    </tr>\n",
       "    <tr>\n",
       "      <th>mean</th>\n",
       "      <td>38.581647</td>\n",
       "      <td>1.897784e+05</td>\n",
       "      <td>10.080679</td>\n",
       "      <td>1077.648844</td>\n",
       "      <td>87.303830</td>\n",
       "      <td>40.437456</td>\n",
       "    </tr>\n",
       "    <tr>\n",
       "      <th>std</th>\n",
       "      <td>13.640433</td>\n",
       "      <td>1.055500e+05</td>\n",
       "      <td>2.572720</td>\n",
       "      <td>7385.292085</td>\n",
       "      <td>402.960219</td>\n",
       "      <td>12.347429</td>\n",
       "    </tr>\n",
       "    <tr>\n",
       "      <th>min</th>\n",
       "      <td>17.000000</td>\n",
       "      <td>1.228500e+04</td>\n",
       "      <td>1.000000</td>\n",
       "      <td>0.000000</td>\n",
       "      <td>0.000000</td>\n",
       "      <td>1.000000</td>\n",
       "    </tr>\n",
       "    <tr>\n",
       "      <th>25%</th>\n",
       "      <td>28.000000</td>\n",
       "      <td>1.178270e+05</td>\n",
       "      <td>9.000000</td>\n",
       "      <td>0.000000</td>\n",
       "      <td>0.000000</td>\n",
       "      <td>40.000000</td>\n",
       "    </tr>\n",
       "    <tr>\n",
       "      <th>50%</th>\n",
       "      <td>37.000000</td>\n",
       "      <td>1.783560e+05</td>\n",
       "      <td>10.000000</td>\n",
       "      <td>0.000000</td>\n",
       "      <td>0.000000</td>\n",
       "      <td>40.000000</td>\n",
       "    </tr>\n",
       "    <tr>\n",
       "      <th>75%</th>\n",
       "      <td>48.000000</td>\n",
       "      <td>2.370510e+05</td>\n",
       "      <td>12.000000</td>\n",
       "      <td>0.000000</td>\n",
       "      <td>0.000000</td>\n",
       "      <td>45.000000</td>\n",
       "    </tr>\n",
       "    <tr>\n",
       "      <th>max</th>\n",
       "      <td>90.000000</td>\n",
       "      <td>1.484705e+06</td>\n",
       "      <td>16.000000</td>\n",
       "      <td>99999.000000</td>\n",
       "      <td>4356.000000</td>\n",
       "      <td>99.000000</td>\n",
       "    </tr>\n",
       "  </tbody>\n",
       "</table>\n",
       "</div>"
      ],
      "text/plain": [
       "                age        fnlwgt  education-num  capital-gain  capital-loss  \\\n",
       "count  32561.000000  3.256100e+04   32561.000000  32561.000000  32561.000000   \n",
       "mean      38.581647  1.897784e+05      10.080679   1077.648844     87.303830   \n",
       "std       13.640433  1.055500e+05       2.572720   7385.292085    402.960219   \n",
       "min       17.000000  1.228500e+04       1.000000      0.000000      0.000000   \n",
       "25%       28.000000  1.178270e+05       9.000000      0.000000      0.000000   \n",
       "50%       37.000000  1.783560e+05      10.000000      0.000000      0.000000   \n",
       "75%       48.000000  2.370510e+05      12.000000      0.000000      0.000000   \n",
       "max       90.000000  1.484705e+06      16.000000  99999.000000   4356.000000   \n",
       "\n",
       "       hours-per-week  \n",
       "count    32561.000000  \n",
       "mean        40.437456  \n",
       "std         12.347429  \n",
       "min          1.000000  \n",
       "25%         40.000000  \n",
       "50%         40.000000  \n",
       "75%         45.000000  \n",
       "max         99.000000  "
      ]
     },
     "execution_count": 21,
     "metadata": {},
     "output_type": "execute_result"
    }
   ],
   "source": [
    "income_df.describe()"
   ]
  },
  {
   "cell_type": "markdown",
   "metadata": {},
   "source": [
    "### Many variables in the dataset have multiple factors or classes. Can you write a loop to count and print them?"
   ]
  },
  {
   "cell_type": "code",
   "execution_count": 22,
   "metadata": {},
   "outputs": [
    {
     "name": "stdout",
     "output_type": "stream",
     "text": [
      "The variable [workclass] has 9 elements:  State-gov, Self-emp-not-inc, Private, Federal-gov, Local-gov, ?, Self-emp-inc, Without-pay, Never-worked\n",
      "\n",
      "The variable [education] has 16 elements:  Bachelors, HS-grad, 11th, Masters, 9th, Some-college, Assoc-acdm, Assoc-voc, 7th-8th, Doctorate, Prof-school, 5th-6th, 10th, 1st-4th, Preschool, 12th\n",
      "\n",
      "The variable [marital-status] has 7 elements:  Never-married, Married-civ-spouse, Divorced, Married-spouse-absent, Separated, Married-AF-spouse, Widowed\n",
      "\n",
      "The variable [occupation] has 15 elements:  Adm-clerical, Exec-managerial, Handlers-cleaners, Prof-specialty, Other-service, Sales, Craft-repair, Transport-moving, Farming-fishing, Machine-op-inspct, Tech-support, ?, Protective-serv, Armed-Forces, Priv-house-serv\n",
      "\n",
      "The variable [relationship] has 6 elements:  Not-in-family, Husband, Wife, Own-child, Unmarried, Other-relative\n",
      "\n",
      "The variable [race] has 5 elements:  White, Black, Asian-Pac-Islander, Amer-Indian-Eskimo, Other\n",
      "\n",
      "The variable [sex] has 2 elements:  Male, Female\n",
      "\n",
      "The variable [native-country] has 42 elements:  United-States, Cuba, Jamaica, India, ?, Mexico, South, Puerto-Rico, Honduras, England, Canada, Germany, Iran, Philippines, Italy, Poland, Columbia, Cambodia, Thailand, Ecuador, Laos, Taiwan, Haiti, Portugal, Dominican-Republic, El-Salvador, France, Guatemala, China, Japan, Yugoslavia, Peru, Outlying-US(Guam-USVI-etc), Scotland, Trinadad&Tobago, Greece, Nicaragua, Vietnam, Hong, Ireland, Hungary, Holand-Netherlands\n",
      "\n",
      "The variable [income] has 2 elements:  <=50K, >50K\n",
      "\n"
     ]
    }
   ],
   "source": [
    "def list_to_str(input_list):\n",
    "    output = \"\"\n",
    "    for x in input_list:\n",
    "        output += x + \",\"\n",
    "    return output[:-1]\n",
    "\n",
    "#//*** Find the Categorical Columns.\n",
    "#//*** These are the columns using a string data type\n",
    "category_cols = []\n",
    "for x in income_df.columns:\n",
    "    #//*** Check if first row elemnt of each column is a string\n",
    "    if isinstance((income_df[x].iloc[0]), str):\n",
    "        #//*** Categorical Column Found, add it to the list\n",
    "        category_cols.append(x)\n",
    "\n",
    "#//*** Loop through Categorical Columns and grab the Uniques\n",
    "\n",
    "for cat_col in category_cols:\n",
    "    loop_col = income_df[cat_col]\n",
    "    print(f\"The variable [{cat_col}] has {loop_col.nunique()} elements: {list_to_str(loop_col.unique())}\\n\")"
   ]
  },
  {
   "cell_type": "markdown",
   "metadata": {},
   "source": [
    "### Is there any missing (NULL) data in the dataset? Write a single line of code to show this for all coumns"
   ]
  },
  {
   "cell_type": "code",
   "execution_count": 23,
   "metadata": {},
   "outputs": [
    {
     "name": "stdout",
     "output_type": "stream",
     "text": [
      "age               0\n",
      "workclass         0\n",
      "fnlwgt            0\n",
      "education         0\n",
      "education-num     0\n",
      "marital-status    0\n",
      "occupation        0\n",
      "relationship      0\n",
      "race              0\n",
      "sex               0\n",
      "capital-gain      0\n",
      "capital-loss      0\n",
      "hours-per-week    0\n",
      "native-country    0\n",
      "income            0\n",
      "dtype: int64\n"
     ]
    }
   ],
   "source": [
    "print(f\"{income_df.isnull().sum()}\")"
   ]
  },
  {
   "cell_type": "markdown",
   "metadata": {},
   "source": [
    "### Practice subsetting: Create a DataFrame with only \n",
    "* age, \n",
    "* education,\n",
    "* occupation\n",
    "* race"
   ]
  },
  {
   "cell_type": "code",
   "execution_count": 24,
   "metadata": {},
   "outputs": [
    {
     "name": "stdout",
     "output_type": "stream",
     "text": [
      "       age    education          occupation    race\n",
      "0       39    Bachelors        Adm-clerical   White\n",
      "1       50    Bachelors     Exec-managerial   White\n",
      "2       38      HS-grad   Handlers-cleaners   White\n",
      "3       53         11th   Handlers-cleaners   Black\n",
      "4       28    Bachelors      Prof-specialty   Black\n",
      "...    ...          ...                 ...     ...\n",
      "32556   27   Assoc-acdm        Tech-support   White\n",
      "32557   40      HS-grad   Machine-op-inspct   White\n",
      "32558   58      HS-grad        Adm-clerical   White\n",
      "32559   22      HS-grad        Adm-clerical   White\n",
      "32560   52      HS-grad     Exec-managerial   White\n",
      "\n",
      "[32561 rows x 4 columns]\n"
     ]
    }
   ],
   "source": [
    "subset_df = income_df[ ['age','education','occupation','race'] ]\n",
    "print(subset_df)"
   ]
  },
  {
   "cell_type": "markdown",
   "metadata": {},
   "source": [
    "### Show the histogram of age with bin size = 20"
   ]
  },
  {
   "cell_type": "code",
   "execution_count": 25,
   "metadata": {},
   "outputs": [
    {
     "data": {
      "image/png": "[encoded data removed]",
      "text/plain": [
       "<Figure size 432x288 with 1 Axes>"
      ]
     },
     "metadata": {
      "needs_background": "light"
     },
     "output_type": "display_data"
    }
   ],
   "source": [
    "plt.hist(subset_df['age'],bins=20)\n",
    "plt.show()"
   ]
  },
  {
   "cell_type": "markdown",
   "metadata": {},
   "source": [
    "### Show boxplots of _age_ grouped by _race_ (Use a long figure size 15x6 and make _x_ ticks font size 15 )"
   ]
  },
  {
   "cell_type": "code",
   "execution_count": 56,
   "metadata": {},
   "outputs": [
    {
     "data": {
      "image/png": "[encoded data removed]",
      "text/plain": [
       "<Figure size 1080x432 with 1 Axes>"
      ]
     },
     "metadata": {
      "needs_background": "light"
     },
     "output_type": "display_data"
    }
   ],
   "source": [
    "\n",
    "#plt.boxplot(data='age', group='marital-status')\n",
    "subset_df.boxplot( column='age', by='race',figsize=(15,6))\n",
    "plt.xticks(fontsize=15)\n",
    "plt.show()"
   ]
  },
  {
   "cell_type": "code",
   "execution_count": null,
   "metadata": {},
   "outputs": [],
   "source": []
  },
  {
   "cell_type": "markdown",
   "metadata": {},
   "source": [
    "### Before doing further operation, we need to use the skill with 'apply' method we learned in this lesson. <br><br> But why? - Turns out that during reading the dataset from the CSV file, all the strings came with a whitespace character in front. So, we need to remove that whitespace from all the strings. "
   ]
  },
  {
   "cell_type": "markdown",
   "metadata": {},
   "source": [
    "### Let's write a small function to strip the whitespace character"
   ]
  },
  {
   "cell_type": "code",
   "execution_count": 27,
   "metadata": {},
   "outputs": [],
   "source": [
    "#//*** Strip leading whitespace\n",
    "def strip_whitespace(input_str):\n",
    "    return input_str.strip()\n",
    "#//*** Convert to lower case\n",
    "def lower_case(input_str):\n",
    "    return input_str.lower()"
   ]
  },
  {
   "cell_type": "markdown",
   "metadata": {},
   "source": [
    "### Use the 'apply' method to apply this function to all the columns with string values, create a new column, copy the values from this new column to the old column, and drop the new column.\n",
    "\n",
    "#### This is the preferred method so that you don't accidentally delete valuable data. Most of the time, create a new column with a desired operation and then copy it back to the old column if necessary.\n",
    "\n",
    "#### IGNORE any warning messages printed."
   ]
  },
  {
   "cell_type": "code",
   "execution_count": 28,
   "metadata": {},
   "outputs": [
    {
     "name": "stdout",
     "output_type": "stream",
     "text": [
      "   age  education         occupation   race\n",
      "0   39  bachelors       adm-clerical  white\n",
      "1   50  bachelors    exec-managerial  white\n",
      "2   38    hs-grad  handlers-cleaners  white\n",
      "3   53       11th  handlers-cleaners  black\n",
      "4   28  bachelors     prof-specialty  black\n"
     ]
    }
   ],
   "source": [
    "#//*** Reload the CSV to ensure we have a clean instance of income_df. iPython can be sticky like that.\n",
    "filename = \"z_sup_wk03_adult.data.csv\"\n",
    "income_df = pd.read_csv(filename,names=header_col)\n",
    "\n",
    "#//*** Strip leading Whitespace from all categorical (string type) columns\n",
    "for col in income_df.columns:\n",
    "\n",
    "    #//*** Grab a temp copy of current column as series\n",
    "    loop_series = income_df[col]\n",
    "    \n",
    "    #//*** Check if column is a string\n",
    "    if isinstance((loop_series.iloc[0]), str):\n",
    "        \n",
    "        #//*** Strip Whitespace \n",
    "        loop_series = loop_series.apply(strip_whitespace)\n",
    "        \n",
    "        #//*** Convert to lower case. It just makes things easier\n",
    "        loop_series = loop_series.apply(lower_case)\n",
    "        \n",
    "        \n",
    "        #//*** Add modified series back into the dataframe\n",
    "        income_df[col] = loop_series\n",
    "\n",
    "subset_df = income_df[ ['age','education','occupation','race'] ]        \n",
    "print(f\"{subset_df.head()}\")"
   ]
  },
  {
   "cell_type": "markdown",
   "metadata": {},
   "source": [
    "### Answer the following question using conditional filtering/boolean indexing: <br><br> _\"How many black people of age between 30 and 50 (inclusive) are represented in this dataset?\"_"
   ]
  },
  {
   "cell_type": "code",
   "execution_count": 57,
   "metadata": {},
   "outputs": [
    {
     "data": {
      "text/html": [
       "<div>\n",
       "<style scoped>\n",
       "    .dataframe tbody tr th:only-of-type {\n",
       "        vertical-align: middle;\n",
       "    }\n",
       "\n",
       "    .dataframe tbody tr th {\n",
       "        vertical-align: top;\n",
       "    }\n",
       "\n",
       "    .dataframe thead th {\n",
       "        text-align: right;\n",
       "    }\n",
       "</style>\n",
       "<table border=\"1\" class=\"dataframe\">\n",
       "  <thead>\n",
       "    <tr style=\"text-align: right;\">\n",
       "      <th></th>\n",
       "      <th>age</th>\n",
       "      <th>education</th>\n",
       "      <th>occupation</th>\n",
       "      <th>race</th>\n",
       "    </tr>\n",
       "  </thead>\n",
       "  <tbody>\n",
       "    <tr>\n",
       "      <th>6</th>\n",
       "      <td>49</td>\n",
       "      <td>9th</td>\n",
       "      <td>other-service</td>\n",
       "      <td>black</td>\n",
       "    </tr>\n",
       "    <tr>\n",
       "      <th>10</th>\n",
       "      <td>37</td>\n",
       "      <td>some-college</td>\n",
       "      <td>exec-managerial</td>\n",
       "      <td>black</td>\n",
       "    </tr>\n",
       "    <tr>\n",
       "      <th>13</th>\n",
       "      <td>32</td>\n",
       "      <td>assoc-acdm</td>\n",
       "      <td>sales</td>\n",
       "      <td>black</td>\n",
       "    </tr>\n",
       "    <tr>\n",
       "      <th>22</th>\n",
       "      <td>35</td>\n",
       "      <td>9th</td>\n",
       "      <td>farming-fishing</td>\n",
       "      <td>black</td>\n",
       "    </tr>\n",
       "    <tr>\n",
       "      <th>71</th>\n",
       "      <td>31</td>\n",
       "      <td>bachelors</td>\n",
       "      <td>sales</td>\n",
       "      <td>black</td>\n",
       "    </tr>\n",
       "  </tbody>\n",
       "</table>\n",
       "</div>"
      ],
      "text/plain": [
       "    age     education       occupation   race\n",
       "6    49           9th    other-service  black\n",
       "10   37  some-college  exec-managerial  black\n",
       "13   32    assoc-acdm            sales  black\n",
       "22   35           9th  farming-fishing  black\n",
       "71   31     bachelors            sales  black"
      ]
     },
     "execution_count": 57,
     "metadata": {},
     "output_type": "execute_result"
    }
   ],
   "source": [
    "# Write a code with conditional clauses and join them by & (AND) to filter the dataframe\n",
    "\n",
    "filtered_df = subset_df[ (subset_df['race'] ==\"black\")  & (subset_df['age'] >=30) & (subset_df['age'] <=50 ) ] \n",
    "filtered_df.head()"
   ]
  },
  {
   "cell_type": "code",
   "execution_count": 30,
   "metadata": {},
   "outputs": [],
   "source": [
    "# We can look at the shape of the filtered dataframe and take the 1st element at 0 index of the tuple\n",
    "\n",
    "number_of_rows = filtered_df.shape[0]"
   ]
  },
  {
   "cell_type": "code",
   "execution_count": 31,
   "metadata": {},
   "outputs": [
    {
     "name": "stdout",
     "output_type": "stream",
     "text": [
      "There are 1630 individuals who racially identify as Black between the ages of 30 and 50 in the data set.\n"
     ]
    }
   ],
   "source": [
    "# Print out the number of black people between 30 and 50\n",
    "\n",
    "print(f\"There are {number_of_rows} individuals who racially identify as Black between the ages of 30 and 50 in the data set.\")"
   ]
  },
  {
   "cell_type": "markdown",
   "metadata": {},
   "source": [
    "### Practice \"GroupBy\": Group by race and education to show how the mean age is distributed"
   ]
  },
  {
   "cell_type": "code",
   "execution_count": 32,
   "metadata": {},
   "outputs": [
    {
     "data": {
      "text/html": [
       "<div>\n",
       "<style scoped>\n",
       "    .dataframe tbody tr th:only-of-type {\n",
       "        vertical-align: middle;\n",
       "    }\n",
       "\n",
       "    .dataframe tbody tr th {\n",
       "        vertical-align: top;\n",
       "    }\n",
       "\n",
       "    .dataframe thead th {\n",
       "        text-align: right;\n",
       "    }\n",
       "</style>\n",
       "<table border=\"1\" class=\"dataframe\">\n",
       "  <thead>\n",
       "    <tr style=\"text-align: right;\">\n",
       "      <th></th>\n",
       "      <th></th>\n",
       "      <th>age</th>\n",
       "    </tr>\n",
       "    <tr>\n",
       "      <th>race</th>\n",
       "      <th>education</th>\n",
       "      <th></th>\n",
       "    </tr>\n",
       "  </thead>\n",
       "  <tbody>\n",
       "    <tr>\n",
       "      <th rowspan=\"5\" valign=\"top\">amer-indian-eskimo</th>\n",
       "      <th>10th</th>\n",
       "      <td>37.250000</td>\n",
       "    </tr>\n",
       "    <tr>\n",
       "      <th>11th</th>\n",
       "      <td>31.642857</td>\n",
       "    </tr>\n",
       "    <tr>\n",
       "      <th>12th</th>\n",
       "      <td>25.400000</td>\n",
       "    </tr>\n",
       "    <tr>\n",
       "      <th>1st-4th</th>\n",
       "      <td>45.750000</td>\n",
       "    </tr>\n",
       "    <tr>\n",
       "      <th>5th-6th</th>\n",
       "      <td>39.000000</td>\n",
       "    </tr>\n",
       "    <tr>\n",
       "      <th>...</th>\n",
       "      <th>...</th>\n",
       "      <td>...</td>\n",
       "    </tr>\n",
       "    <tr>\n",
       "      <th rowspan=\"5\" valign=\"top\">white</th>\n",
       "      <th>hs-grad</th>\n",
       "      <td>39.270777</td>\n",
       "    </tr>\n",
       "    <tr>\n",
       "      <th>masters</th>\n",
       "      <td>44.338972</td>\n",
       "    </tr>\n",
       "    <tr>\n",
       "      <th>preschool</th>\n",
       "      <td>40.289474</td>\n",
       "    </tr>\n",
       "    <tr>\n",
       "      <th>prof-school</th>\n",
       "      <td>44.996109</td>\n",
       "    </tr>\n",
       "    <tr>\n",
       "      <th>some-college</th>\n",
       "      <td>35.980989</td>\n",
       "    </tr>\n",
       "  </tbody>\n",
       "</table>\n",
       "<p>79 rows × 1 columns</p>\n",
       "</div>"
      ],
      "text/plain": [
       "                                       age\n",
       "race               education              \n",
       "amer-indian-eskimo 10th          37.250000\n",
       "                   11th          31.642857\n",
       "                   12th          25.400000\n",
       "                   1st-4th       45.750000\n",
       "                   5th-6th       39.000000\n",
       "...                                    ...\n",
       "white              hs-grad       39.270777\n",
       "                   masters       44.338972\n",
       "                   preschool     40.289474\n",
       "                   prof-school   44.996109\n",
       "                   some-college  35.980989\n",
       "\n",
       "[79 rows x 1 columns]"
      ]
     },
     "execution_count": 32,
     "metadata": {},
     "output_type": "execute_result"
    }
   ],
   "source": [
    "subset_df.groupby(['race', 'education']).mean()"
   ]
  },
  {
   "cell_type": "markdown",
   "metadata": {},
   "source": [
    "### Group by occupation and show the summary statistics of age. Try to answer the following questions,\n"
   ]
  },
  {
   "cell_type": "code",
   "execution_count": 91,
   "metadata": {},
   "outputs": [
    {
     "name": "stdout",
     "output_type": "stream",
     "text": [
      "                    count       mean        std   min   25%   50%   75%   max\n",
      "occupation                                                                   \n",
      "?                  1843.0  40.882800  20.336350  17.0  21.0  35.0  61.0  90.0\n",
      "adm-clerical       3770.0  36.964456  13.362998  17.0  26.0  35.0  46.0  90.0\n",
      "armed-forces          9.0  30.222222   8.089774  23.0  24.0  29.0  34.0  46.0\n",
      "craft-repair       4099.0  39.031471  11.606436  17.0  30.0  38.0  47.0  90.0\n",
      "exec-managerial    4066.0  42.169208  11.974548  17.0  33.0  41.0  50.0  90.0\n",
      "farming-fishing     994.0  41.211268  15.070283  17.0  29.0  39.0  52.0  90.0\n",
      "handlers-cleaners  1370.0  32.165693  12.372635  17.0  23.0  29.0  39.0  90.0\n",
      "machine-op-inspct  2002.0  37.715285  12.068266  17.0  28.0  36.0  46.0  90.0\n",
      "other-service      3295.0  34.949621  14.521508  17.0  22.0  32.0  45.0  90.0\n",
      "priv-house-serv     149.0  41.724832  18.633688  17.0  24.0  40.0  57.0  81.0\n",
      "prof-specialty     4140.0  40.517633  12.016676  17.0  31.0  40.0  48.0  90.0\n",
      "protective-serv     649.0  38.953775  12.822062  17.0  29.0  36.0  47.0  90.0\n",
      "sales              3650.0  37.353973  14.186352  17.0  25.0  35.0  47.0  90.0\n",
      "tech-support        928.0  37.022629  11.316594  17.0  28.0  36.0  44.0  73.0\n",
      "transport-moving   1597.0  40.197871  12.450792  17.0  30.0  39.0  49.0  90.0\n",
      "exec-managerial\n"
     ]
    }
   ],
   "source": [
    "describe_df = subset_df.groupby(['occupation']).describe()['age']\n",
    "print(describe_df)\n",
    "\n"
   ]
  },
  {
   "cell_type": "markdown",
   "metadata": {},
   "source": [
    "* Which profession has oldest workers on the average?"
   ]
  },
  {
   "cell_type": "code",
   "execution_count": 92,
   "metadata": {},
   "outputs": [
    {
     "name": "stdout",
     "output_type": "stream",
     "text": [
      "exec-managerial has the highest mean age.\n"
     ]
    }
   ],
   "source": [
    "oldest_mean = describe_df[describe_df['mean'] == describe_df['mean'].max()].index[0]\n",
    "print(f\"{oldest_mean} has the highest mean age.\")"
   ]
  },
  {
   "cell_type": "markdown",
   "metadata": {},
   "source": [
    "* Which profession has its largest share of workforce above 75th percentile?\n",
    "\n",
    "Unknown Occupation has the highest share of the workforce above the 75th percentile, followed by Private house Services."
   ]
  },
  {
   "cell_type": "code",
   "execution_count": 100,
   "metadata": {},
   "outputs": [
    {
     "name": "stdout",
     "output_type": "stream",
     "text": [
      "? is the occupation with the highest workforce above the 75th percentile.\n"
     ]
    }
   ],
   "source": [
    "max_75 = describe_df[ describe_df['75%'] == describe_df['75%'].max() ].index[0]\n",
    "print(f\"{max_75} is the occupation with the highest workforce above the 75th percentile.\")"
   ]
  },
  {
   "cell_type": "markdown",
   "metadata": {},
   "source": [
    "### Detecting outlier: Is there a particular occupation group which has very low representation? Perhaps we should remove those data because with very low data the group won't be useful in analysis\n",
    "\n",
    "Actually, just by looking at the table above, you should be able to see that **'Armed-Forces'** group has only 9 count i.e. 9 data points. But how to detect it. Plot the count column in a bar chart.\n",
    "\n",
    "Note, how the first argument to the barh function is the index of the dataframe which is the summary stats of the occupation groups. We see that 'Armed-Forces' group has almost no data.\n",
    "\n",
    "#### This exercise teaches you that sometimes, outlier is not just a value but can be a whole group. The data of this group is fine but it is too small to be useful for any analysis. So it can be treated as an outlier in this case. \n",
    "\n",
    "#### But always use your business knowledge and engineering judgement for such outlier detection and how to process them."
   ]
  },
  {
   "cell_type": "code",
   "execution_count": 113,
   "metadata": {},
   "outputs": [
    {
     "data": {
      "image/png": "[encoded data removed]",
      "text/plain": [
       "<Figure size 1080x576 with 1 Axes>"
      ]
     },
     "metadata": {
      "needs_background": "light"
     },
     "output_type": "display_data"
    }
   ],
   "source": [
    "#//*** Been lookng for figure size for a while. This is good stuff to save for reference\n",
    "plt.figure(figsize=(15,8))\n",
    "plt.barh(describe_df.index, describe_df['count'])\n",
    "plt.yticks(fontsize=13)\n",
    "plt.show()"
   ]
  },
  {
   "cell_type": "markdown",
   "metadata": {},
   "source": [
    "### Practice Merging by common keys: Suppose you are given two datasets where the common key is `occupation`. Can you merge them? \n",
    "\n",
    "#### First create two such disjoint datasets by taking random samples from the full dataset and then try merging. Include at least 2 other columns along with the common key column for each dataset.\n",
    "\n",
    "#### Notice how the resulting dataset, after merging, may have more data points than either of the two starting datasets if your common key is not unique? Why is it so?"
   ]
  },
  {
   "cell_type": "code",
   "execution_count": 250,
   "metadata": {},
   "outputs": [
    {
     "name": "stdout",
     "output_type": "stream",
     "text": [
      "['occupation', 'marital-status', 'income', 'race']\n"
     ]
    }
   ],
   "source": [
    "import random \n",
    "# Sample first dataframe with 5 elements and your chosen random_state\n",
    "\n",
    "#//*** Chose Occupation plus three other random columns\n",
    "\n",
    "\n",
    "newCols = list(income_df.columns)\n",
    "newCols.remove('occupation')\n",
    "\n",
    "newCols = [ newCols[random.randint(0,len(newCols))-1] for x in range(3)]\n",
    "newCols.insert(0,'occupation')\n",
    "print(newCols)"
   ]
  },
  {
   "cell_type": "code",
   "execution_count": 37,
   "metadata": {},
   "outputs": [],
   "source": [
    "# Sample second dataframe with 5 elements and your chosen random_state\n",
    "# Write your code here"
   ]
  },
  {
   "cell_type": "code",
   "execution_count": 38,
   "metadata": {},
   "outputs": [],
   "source": [
    "# Merge the dataframes\n",
    "# Write your code here"
   ]
  },
  {
   "cell_type": "code",
   "execution_count": 39,
   "metadata": {},
   "outputs": [],
   "source": [
    "# Show the merged dataframe"
   ]
  },
  {
   "cell_type": "code",
   "execution_count": 40,
   "metadata": {},
   "outputs": [],
   "source": [
    "# //*** CODE HERE"
   ]
  },
  {
   "cell_type": "code",
   "execution_count": 41,
   "metadata": {},
   "outputs": [],
   "source": [
    "# //*** CODE HERE"
   ]
  },
  {
   "cell_type": "code",
   "execution_count": 42,
   "metadata": {},
   "outputs": [],
   "source": [
    "# //*** CODE HERE"
   ]
  },
  {
   "cell_type": "code",
   "execution_count": 43,
   "metadata": {},
   "outputs": [],
   "source": [
    "# //*** CODE HERE"
   ]
  },
  {
   "cell_type": "markdown",
   "metadata": {},
   "source": [
    "# Exercise #3\n",
    "\n",
    "3. Create a series and practice basic arithmetic steps\n",
    "\n",
    "a. Series 1 = 7.3, -2.5, 3.4, 1.5\n",
    "\n",
    "i. Index = ‘a’, ‘c’, ‘d’, ‘e’\n",
    "\n",
    "b. Series 2 = -2.1, 3.6, -1.5, 4, 3.1\n",
    "\n",
    "i. Index = ‘a’, ‘c’, ‘e’, ‘f’, ‘g’\n",
    "\n",
    "c. Add Series 1 and Series 2 together and print the results\n",
    "\n",
    "d. Subtract Series 1 from Series 2 and print the results\n"
   ]
  }
 ],
 "metadata": {
  "kernelspec": {
   "display_name": "Python 3",
   "language": "python",
   "name": "python3"
  },
  "language_info": {
   "codemirror_mode": {
    "name": "ipython",
    "version": 3
   },
   "file_extension": ".py",
   "mimetype": "text/x-python",
   "name": "python",
   "nbconvert_exporter": "python",
   "pygments_lexer": "ipython3",
   "version": "3.8.3"
  }
 },
 "nbformat": 4,
 "nbformat_minor": 4
}
