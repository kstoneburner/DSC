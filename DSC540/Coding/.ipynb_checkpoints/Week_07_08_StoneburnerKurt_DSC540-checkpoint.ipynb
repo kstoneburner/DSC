{
 "cells": [
  {
   "cell_type": "markdown",
   "metadata": {},
   "source": [
    "# Stoneburner, Kurt\n",
    "- ## DSC 540 - Week XX/XX\n",
    "- ## Chapter X, Exercise X\n"
   ]
  },
  {
   "cell_type": "markdown",
   "metadata": {},
   "source": [
    "### Wrangling the BoingBoing Candy Survey\n",
    "This is fun. Boing Boing has been in my daily reading rotation for a longtime. So of course I have to work with the data. It doesn't hit the same notes as the symphony, but the data is sweet."
   ]
  },
  {
   "cell_type": "code",
   "execution_count": 7,
   "metadata": {},
   "outputs": [],
   "source": [
    "import os\n",
    "import sys\n",
    "# //*** Imports and Load Data\n",
    "import matplotlib.pyplot as plt\n",
    "import numpy as np\n",
    "import pandas as pd\n",
    "from fuzzywuzzy import fuzz"
   ]
  },
  {
   "cell_type": "code",
   "execution_count": 2,
   "metadata": {},
   "outputs": [],
   "source": [
    "#There are three years of the Candy surveys, import each one\n",
    "df_2015 = pd.read_excel(\"z_sup_wk07_08_candy2015.xlsx\")\n",
    "df_2016 = pd.read_excel(\"z_sup_wk07_08_candy2016.xlsx\")\n",
    "df_2017 = pd.read_excel(\"z_sup_wk07_08_candy2017.xlsx\")\n"
   ]
  },
  {
   "cell_type": "code",
   "execution_count": 3,
   "metadata": {},
   "outputs": [
    {
     "name": "stdout",
     "output_type": "stream",
     "text": [
      "Index(['Butterfinger', '100 Grand Bar',\n",
      "       'Anonymous brown globs that come in black and orange wrappers',\n",
      "       'Any full-sized candy bar', 'Black Jacks', 'Bonkers', 'Bottle Caps',\n",
      "       'Box’o’ Raisins', 'Brach products (not including candy corn)',\n",
      "       'Bubble Gum', 'Cadbury Creme Eggs', 'Candy Corn',\n",
      "       'Vials of pure high fructose corn syrup, for main-lining into your vein',\n",
      "       'Candy that is clearly just the stuff given out for free at restaurants',\n",
      "       'Cash, or other forms of legal tender', 'Chiclets', 'Caramellos',\n",
      "       'Snickers', 'Dark Chocolate Hershey', 'Dental paraphenalia', 'Dots',\n",
      "       'Fuzzy Peaches', 'Generic Brand Acetaminophen', 'Glow sticks',\n",
      "       'Broken glow stick', 'Goo Goo Clusters', 'Good N' Plenty',\n",
      "       'Gum from baseball cards', 'Gummy Bears straight up',\n",
      "       'Creepy Religious comics/Chick Tracts', 'Healthy Fruit', 'Heath Bar',\n",
      "       'Hershey’s Kissables', 'Hershey’s Milk Chocolate',\n",
      "       'Hugs (actual physical hugs)', 'Jolly Rancher (bad flavor)',\n",
      "       'Jolly Ranchers (good flavor)', 'Kale smoothie', 'Kinder Happy Hippo',\n",
      "       'Kit Kat', 'Hard Candy', 'Lapel Pins', 'LemonHeads', 'Licorice',\n",
      "       'Licorice (not black)', 'Lindt Truffle', 'Lollipops', 'Mars',\n",
      "       'Mary Janes', 'Maynards', 'Milk Duds', 'LaffyTaffy',\n",
      "       'Minibags of chips', 'JoyJoy (Mit Iodine)', 'Reggie Jackson Bar',\n",
      "       'Pixy Stix', 'Nerds', 'Nestle Crunch', 'Now'n'Laters', 'Pencils',\n",
      "       'Milky Way', 'Reese’s Peanut Butter Cups',\n",
      "       'Tolberone something or other', 'Runts', 'Junior Mints', 'Senior Mints',\n",
      "       'Mint Kisses', 'Mint Juleps', 'Mint Leaves', 'Peanut M&M’s',\n",
      "       'Regular M&Ms', 'Mint M&Ms', 'Ribbon candy', 'Rolos', 'Skittles',\n",
      "       'Smarties (American)', 'Smarties (Commonwealth)',\n",
      "       'Chick-o-Sticks (we don’t know what that is)', 'Spotted Dick',\n",
      "       'Starburst', 'Swedish Fish', 'Sweetums',\n",
      "       'Those odd marshmallow circus peanut things', 'Three Musketeers',\n",
      "       'Peterson Brand Sidewalk Chalk', 'Peanut Butter Bars',\n",
      "       'Peanut Butter Jars', 'Trail Mix', 'Twix', 'Vicodin', 'White Bread',\n",
      "       'Whole Wheat anything', 'York Peppermint Patties',\n",
      "       'Sea-salt flavored stuff, probably chocolate, since this is the \"it\" flavor of the year',\n",
      "       'Necco Wafers'],\n",
      "      dtype='object')\n"
     ]
    }
   ],
   "source": [
    "#//*** It's a little early for Merging, But let's look at the columns to determine which ones have candy types.\n",
    "#//*** No sense in cleaning columns we are not going to use.\n",
    "#//*** 2015 - Candy names start at the beginning of the column name and are wrapped in brackets\n",
    "\n",
    "#//*** Get Candy Columns for 2015. Use Regex to to match the start of the string, any character then Bracket.\n",
    "#//*** This eliminates the degrees of separation quetions.\n",
    "#/**** Trim the leading space and brackets while we are at it. \n",
    "cols_2015 = df_2015.columns [ df_2015.columns.str.match('^.\\[')]\n",
    "\n",
    "#//*** Generate a cleaner list of column names. The clean name will be used to concatenate the dataframes\n",
    "cols_2015_clean = df_2015.columns [ df_2015.columns.str.match('^.\\[')].str.replace('^.',\"\").str.replace('[',\"\").str.replace(']',\"\")\n",
    "#//*** This is a good starting point for 2015 columns\n",
    "#print(cols_2015)\n",
    "print(f\"{cols_2015_clean}\")"
   ]
  },
  {
   "cell_type": "code",
   "execution_count": 4,
   "metadata": {},
   "outputs": [
    {
     "name": "stdout",
     "output_type": "stream",
     "text": [
      "Index(['100 Grand Bar',\n",
      "       'Anonymous brown globs that come in black and orange wrappers',\n",
      "       'Any full-sized candy bar', 'Black Jacks', 'Bonkers (the candy)',\n",
      "       'Bonkers (the board game)', 'Bottle Caps', 'Box'o'Raisins',\n",
      "       'Broken glow stick', 'Butterfinger',\n",
      "       ...\n",
      "       'Tolberone something or other', 'Trail Mix', 'Twix',\n",
      "       'Vials of pure high fructose corn syrup, for main-lining into your vein',\n",
      "       'Vicodin', 'Whatchamacallit Bars', 'White Bread',\n",
      "       'Whole Wheat anything', 'York Peppermint Patties',\n",
      "       'York Peppermint Patties Ignore'],\n",
      "      dtype='object', length=101)\n"
     ]
    }
   ],
   "source": [
    "#//*** Get Candy Columns for 2016. These questions are structured using the same methods as 2015.\n",
    "cols_2016 = df_2016.columns [ df_2016.columns.str.match('^.\\[')]\n",
    "#.str.replace('^.',\"\").str.replace('[',\"\").str.replace(']',\"\")\n",
    "\n",
    "\n",
    "#//*** Generate a cleaner list of column names. The clean name will be used to concatenate the dataframes\n",
    "cols_2016_clean = df_2016.columns [ df_2016.columns.str.match('^.\\[')].str.replace('^.',\"\").str.replace('[',\"\").str.replace(']',\"\")\n",
    "\n",
    "print(cols_2016_clean)"
   ]
  },
  {
   "cell_type": "code",
   "execution_count": 5,
   "metadata": {},
   "outputs": [
    {
     "name": "stdout",
     "output_type": "stream",
     "text": [
      "Index(['100 Grand Bar',\n",
      "       'Anonymous brown globs that come in black and orange wrappers\\t(a.k.a. Mary Janes)',\n",
      "       'Any full-sized candy bar', 'Black Jacks', 'Bonkers (the candy)',\n",
      "       'Bonkers (the board game)', 'Bottle Caps', 'Box'o'Raisins',\n",
      "       'Broken glow stick', 'Butterfinger',\n",
      "       ...\n",
      "       'Three Musketeers', 'Tolberone something or other', 'Trail Mix', 'Twix',\n",
      "       'Vials of pure high fructose corn syrup, for main-lining into your vein',\n",
      "       'Vicodin', 'Whatchamacallit Bars', 'White Bread',\n",
      "       'Whole Wheat anything', 'York Peppermint Patties'],\n",
      "      dtype='object', length=103)\n"
     ]
    }
   ],
   "source": [
    "#//*** Get Candy Columns for 2017. All Candy questions Begin with Q6 in the Column Name.\n",
    "cols_2017 = df_2017.columns [ df_2017.columns.str.match('^Q6')]\n",
    "#.str.replace('^Q6 \\| ','')\n",
    "cols_2017_clean = df_2017.columns [ df_2017.columns.str.match('^Q6')].str.replace('^Q6 \\| ','')\n",
    "\n",
    "print(cols_2017_clean)"
   ]
  },
  {
   "cell_type": "code",
   "execution_count": 13,
   "metadata": {},
   "outputs": [
    {
     "name": "stdout",
     "output_type": "stream",
     "text": [
      "Candy Column Lengths\n",
      "2015: 95 - 2016: 101 - 2017: 103\n",
      "1st: 67 : Bonkers : Snickers \n",
      "1st: 81 : Box’o’ Raisins : Box'o'Raisins \n",
      "2nd: 77 : Box’o’ Raisins : Box'o'Raisins \n",
      "1st: 43 : Brach products (not including candy corn) : Bonkers (the candy) \n",
      "2nd: 80 : Brach products (not including candy corn) : Candy Corn \n",
      "1st: 40 : Bubble Gum : Blue M&M's \n",
      "2nd: 50 : Bubble Gum : Reese’s Peanut Butter Cups \n",
      "1st: 61 : Dark Chocolate Hershey : Hershey's Dark Chocolate \n",
      "2nd: 78 : Dark Chocolate Hershey : Hershey's Dark Chocolate \n",
      "1st: 86 : Hershey’s Kissables : Hershey's Kisses \n",
      "2nd: 81 : Hershey’s Kissables : Hershey's Kisses \n",
      "1st: 45 : Lapel Pins : Senior Mints \n",
      "2nd: 50 : Lapel Pins : Dental paraphenalia \n",
      "1st: 57 : Licorice : Licorice (not black) \n",
      "1st: 97 : JoyJoy (Mit Iodine) : JoyJoy (Mit Iodine!) \n",
      "2nd: 95 : JoyJoy (Mit Iodine) : JoyJoy (Mit Iodine!) \n",
      "1st: 47 : Runts : Junior Mints \n",
      "2nd: 60 : Runts : Candy that is clearly just the stuff given out for free at restaurants \n",
      "1st: 64 : Mint Leaves : Mint Kisses \n",
      "2nd: 64 : Mint Leaves : Mint Kisses \n",
      "1st: 67 : Mint M&Ms : Peanut M&M’s \n",
      "2nd: 78 : Mint M&Ms : Peanut M&M’s \n",
      "1st: 52 : Ribbon candy : Bonkers (the candy) \n",
      "2nd: 58 : Ribbon candy : Any full-sized candy bar \n",
      "1st: 63 : Sweetums : Sweet Tarts \n",
      "1st: 46 : Peterson Brand Sidewalk Chalk : Generic Brand Acetaminophen \n",
      "2nd: 60 : Peterson Brand Sidewalk Chalk : Nerds \n",
      "1st: 68 : Peanut Butter Bars : Reese’s Peanut Butter Cups \n",
      "2nd: 83 : Peanut Butter Bars : Reese’s Peanut Butter Cups \n",
      "1st: 68 : Peanut Butter Jars : Reese’s Peanut Butter Cups \n",
      "2nd: 83 : Peanut Butter Jars : Reese’s Peanut Butter Cups \n",
      "1st: 42 : Sea-salt flavored stuff, probably chocolate, since this is the \"it\" flavor of the year : Candy that is clearly just the stuff given out for free at restaurants \n",
      "2nd: 60 : Sea-salt flavored stuff, probably chocolate, since this is the \"it\" flavor of the year : Nerds \n"
     ]
    }
   ],
   "source": [
    "#//**** Get the differences between two lists. Code which I liberally borrowed from the geeksforgeeks.org\n",
    "#//*** Determine the differences in candy values\n",
    "\n",
    "print(\"Candy Column Lengths\")\n",
    "print(f\"2015: {len(cols_2015_clean)} - 2016: {len(cols_2016_clean)} - 2017: {len(cols_2017_clean)}\")\n",
    "\n",
    "               \n",
    "                 \n",
    "#//*** These are not equal, we need to remove the items not found in all three dataframes. Likely due to\n",
    "#//*** Fun statistical questions like: Vicodin. Which are likely used to reduce testing bias (or the researchers)\n",
    "#//*** have an awesome sense of humour or both).\n",
    "\n",
    "for x in cols_2015_clean:\n",
    "    \n",
    "    best_y_score = 0\n",
    "    best_y_val = \"\"\n",
    "    \n",
    "    for y in cols_2016_clean:\n",
    "        score = fuzz.ratio(x,y)\n",
    "        if score > best_y_score:\n",
    "            best_y_val = y\n",
    "            best_y_score = score\n",
    "    if best_y_score < 100:\n",
    "        \n",
    "        print(f\"1st: {best_y_score} : {x} : {best_y_val} \")\n",
    "        best_y_score = 0\n",
    "        best_y_val = \"\"\n",
    "        \n",
    "        for y in cols_2016_clean:\n",
    "            score = fuzz.partial_ratio(x,y)\n",
    "            if score > best_y_score:\n",
    "                best_y_val = y\n",
    "                best_y_score = score\n",
    "        \n",
    "        if best_y_score < 100:\n",
    "            print(f\"2nd: {best_y_score} : {x} : {best_y_val} \")\n"
   ]
  },
  {
   "cell_type": "code",
   "execution_count": null,
   "metadata": {},
   "outputs": [],
   "source": [
    "1"
   ]
  },
  {
   "cell_type": "code",
   "execution_count": null,
   "metadata": {},
   "outputs": [],
   "source": [
    "#//*** Build New Dataframes with just the columns we are going to combine.\n",
    "concat_df_2015 = pd.DataFrame()\n",
    "concat_df_2016 = pd.DataFrame()\n",
    "concat_df_2017 = pd.DataFrame()\n",
    "\n",
    "#//*** Add the Age Columns Manually\n",
    "concat_df_2015['age'] = df_2015['How old are you?']\n",
    "concat_df_2016['age'] = df_2016['How old are you?']\n",
    "concat_df_2017['age'] = df_2017['Q3: AGE']\n"
   ]
  },
  {
   "cell_type": "markdown",
   "metadata": {},
   "source": [
    "## Chapter 7 - Task1 ###\n",
    "**Filter Out Missing Values**\n",
    "\n",
    "In the Drop rows where no Candy values were filled out"
   ]
  },
  {
   "cell_type": "code",
   "execution_count": null,
   "metadata": {},
   "outputs": [],
   "source": [
    "#//*** Drop rows where None of the Candy columns filled out\n",
    "print(f\"2015 length  before cleaning: {len(df_2015)}\")\n",
    "print(f\"2016 length before cleaning: {len(df_2016)}\")\n",
    "print(f\"2017 length before cleaning: {len(df_2017)}\")\n",
    "\n",
    "\n",
    "df_2015.dropna(axis=0,how='all',subset=cols_2015,inplace=True)\n",
    "df_2016.dropna(axis=0,how='all',subset=cols_2016,inplace=True)\n",
    "df_2017.dropna(axis=0,how='all',subset=cols_2017,inplace=True)\n",
    "\n",
    "print(f\"2015 length after cleaning: {len(df_2015)}\")\n",
    "print(f\"2016 length after cleaning: {len(df_2016)}\")\n",
    "print(f\"2017 length after cleaning: {len(df_2017)}\")\n"
   ]
  },
  {
   "cell_type": "markdown",
   "metadata": {},
   "source": [
    "## Chapter 7 - Task 2###\n",
    "**Replace Values**\n",
    "\n",
    "In many cases usere did not fill out all the form data. If we dropped these values, there wouldn't be much of a survey. Replace NaN with 0. Which will be used as a categorical for not answered."
   ]
  },
  {
   "cell_type": "code",
   "execution_count": null,
   "metadata": {},
   "outputs": [],
   "source": [
    "#//*** Replace NaN with 0 in 2015 Data\n",
    "df_2015.fillna(value=0,axis=0,inplace=True)\n",
    "print(df_2015.head(10))\n",
    "\n",
    "#//*** Replace NaN with 0 in 2016 Data\n",
    "df_2016.fillna(value=0,axis=0,inplace=True)\n",
    "\n",
    "#//*** Replace NaN with 0 in 2017 Data\n",
    "df_2017.fillna(value=0,axis=0,inplace=True)"
   ]
  },
  {
   "cell_type": "code",
   "execution_count": null,
   "metadata": {},
   "outputs": [],
   "source": [
    "print(df_2015)"
   ]
  },
  {
   "cell_type": "code",
   "execution_count": null,
   "metadata": {},
   "outputs": [],
   "source": []
  },
  {
   "cell_type": "markdown",
   "metadata": {},
   "source": [
    "## Chapter 7 - Task 3###\n",
    "**Transform Data**\n",
    "\n",
    "Convert the categorical descriptions from Despair and Joy to 1 and 2"
   ]
  },
  {
   "cell_type": "code",
   "execution_count": null,
   "metadata": {},
   "outputs": [],
   "source": [
    "#//*** Check for unique values in the candy columsn\n",
    "#//*** Looking for miscodes or irregularities\n",
    "print(pd.unique(df_2015[cols_2015].values.ravel()))\n",
    "print(pd.unique(df_2016[list(cols_2016)].values.ravel()))\n",
    "print(pd.unique(df_2017[list(cols_2017)].values.ravel()))\n",
    "\n",
    "\n",
    "#for x in cols_2016:\n",
    "#    print(df_2016[x].iloc[0])"
   ]
  },
  {
   "cell_type": "code",
   "execution_count": null,
   "metadata": {},
   "outputs": [],
   "source": [
    "#//*** Apply a map to e\n",
    "def remap_df(input_df, input_cols, input_map):\n",
    "    \n",
    "    for col in input_cols:\n",
    "        \n",
    "        input_df[col] = input_df[col].map(input_map, na_action='ignore')\n",
    "    \n",
    "\n",
    "#//**************************************************************************\n",
    "#//*** Create Map based on Unique Values\n",
    "#//*** Replace Joy with 1, because joy should always go first\n",
    "#//*** Replace Despair with 2, because despair is greater than joy\n",
    "#//*** Replace Meh with 3, because apathy conquers all\n",
    "#//**************************************************************************\n",
    "\n",
    "remap_ratings = {'JOY' : 1, 'DESPAIR' : 2, 'MEH' : 3, 0 : 0}\n",
    "\n",
    "#//*** Mapping only applies to a series.\n",
    "#//*** Loop through the dataframes and apply the mapping to each column.\n",
    "#//*** This feels like a good use for a generator or Lambda expression.\n",
    "#//*** But I'm not that cool today.\n",
    "#//*** Do it with Loops because ... Loops\n",
    "\n",
    "#//*** Remaps can only be applied once. Adding a conditional to run if JOY exist as a unique value\n",
    "#//*** This speeds up coding / debugging due to the reusable nature of iPython\n",
    "#// Remap 2015\n",
    "if 'JOY' in list(pd.unique(df_2015[cols_2015].values.ravel())):\n",
    "    remap_df(df_2015, cols_2015, remap_ratings)\n",
    "\n",
    "#// Remap 2016\n",
    "if 'JOY' in list(pd.unique(df_2016[cols_2016].values.ravel())):\n",
    "    remap_df(df_2016, cols_2016, remap_ratings)\n",
    "\n",
    "#// Remap 2017    \n",
    "if 'JOY' in list(pd.unique(df_2017[cols_2017].values.ravel())):\n",
    "    remap_df(df_2017, cols_2017, remap_ratings)\n",
    "\n",
    "\n",
    "    \n",
    "#//*** Visually Check our Work   \n",
    "print(df_2015.head(5))\n",
    "print(df_2016.head(5))\n",
    "print(df_2017.head(5))\n"
   ]
  },
  {
   "cell_type": "code",
   "execution_count": null,
   "metadata": {},
   "outputs": [],
   "source": []
  },
  {
   "cell_type": "code",
   "execution_count": null,
   "metadata": {},
   "outputs": [],
   "source": []
  },
  {
   "cell_type": "code",
   "execution_count": null,
   "metadata": {},
   "outputs": [],
   "source": []
  },
  {
   "cell_type": "code",
   "execution_count": null,
   "metadata": {},
   "outputs": [],
   "source": []
  },
  {
   "cell_type": "code",
   "execution_count": null,
   "metadata": {},
   "outputs": [],
   "source": []
  },
  {
   "cell_type": "code",
   "execution_count": null,
   "metadata": {},
   "outputs": [],
   "source": []
  },
  {
   "cell_type": "code",
   "execution_count": null,
   "metadata": {},
   "outputs": [],
   "source": []
  }
 ],
 "metadata": {
  "kernelspec": {
   "display_name": "Python 3",
   "language": "python",
   "name": "python3"
  },
  "language_info": {
   "codemirror_mode": {
    "name": "ipython",
    "version": 3
   },
   "file_extension": ".py",
   "mimetype": "text/x-python",
   "name": "python",
   "nbconvert_exporter": "python",
   "pygments_lexer": "ipython3",
   "version": "3.8.3"
  }
 },
 "nbformat": 4,
 "nbformat_minor": 4
}
