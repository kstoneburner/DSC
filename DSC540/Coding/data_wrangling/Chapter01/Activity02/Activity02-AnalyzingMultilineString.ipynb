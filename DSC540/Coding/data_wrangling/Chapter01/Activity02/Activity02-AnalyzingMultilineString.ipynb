{
 "cells": [
  {
   "cell_type": "markdown",
   "metadata": {},
   "source": [
    "# Lesson 01, Topic 02, Activity 01 - Use the tricks in List, Set, Dict, String etc. to count the number of unique words in a given mutiline text\n",
    "\n",
    "In this activity we will design and develop a unique word counter. We will\n",
    "\n",
    "- Get a multiline text and create a Python variable using \"\"\" to hold that\n",
    "- Get rid of all new lines in it using string methods.\n",
    "- Get all the unique words used in it\n",
    "- Count the number of times each of them occurred\n",
    "- Do the last step again but this time we will be case insensitive, meaning we will consider `this` and `This` as the same word."
   ]
  },
  {
   "cell_type": "markdown",
   "metadata": {},
   "source": [
    "Find the first Chapter of PRIDE AND PREJUDICE By Jane Austen in the accompanying file,e.g. `P&P Ch01`\n",
    "\n",
    "*For the sake of simplicity for this activity, the original text (can be found [here](https://www.gutenberg.org/files/1342/1342-h/1342-h.htm#link2HCH0001) ) has been preprocessed a bit.*\n",
    "\n",
    "Use `Ctrl + A` to select the entire text and then `Ctrl + C` to copy it."
   ]
  },
  {
   "cell_type": "markdown",
   "metadata": {},
   "source": [
    "Create a string variable which can hold multiline text. Paste the text you just copied into it."
   ]
  },
  {
   "cell_type": "code",
   "execution_count": 1,
   "metadata": {},
   "outputs": [],
   "source": [
    "### Write your code below this comment"
   ]
  },
  {
   "cell_type": "markdown",
   "metadata": {},
   "source": [
    "Great! Now use string methods to get rid of all the newlines (\\n or \\r) also remove all the symbols including `!`,`?`,`.`,`;`,`,` etc."
   ]
  },
  {
   "cell_type": "code",
   "execution_count": 2,
   "metadata": {},
   "outputs": [],
   "source": [
    "### Write your code below this comment"
   ]
  },
  {
   "cell_type": "markdown",
   "metadata": {},
   "source": [
    "Excellent! How different ways can you think of to achieve the same result as above? Which is cleaner?\n",
    "\n",
    "Anyway, let's move on. write code that generates a list of all the words from the cleaned string. Can you do this in one line?"
   ]
  },
  {
   "cell_type": "code",
   "execution_count": 3,
   "metadata": {},
   "outputs": [],
   "source": [
    "### Write your code below this line"
   ]
  },
  {
   "cell_type": "markdown",
   "metadata": {},
   "source": [
    "Bravo! This was no easy thing to do.\n",
    "\n",
    "Now can you create a list from the list you just created which includes only unique words? How different ways can you do this? Which one is the cleanest according to you?"
   ]
  },
  {
   "cell_type": "code",
   "execution_count": 4,
   "metadata": {},
   "outputs": [],
   "source": [
    "### Write your code below this comment"
   ]
  },
  {
   "cell_type": "markdown",
   "metadata": {},
   "source": [
    "Wow! You are doing great.\n",
    "\n",
    "Can you now count how many times each of the unique words appeared in the cleaned text? What is the most efficient way to do it?"
   ]
  },
  {
   "cell_type": "code",
   "execution_count": 5,
   "metadata": {},
   "outputs": [],
   "source": [
    "### Write your code below this comment"
   ]
  },
  {
   "cell_type": "markdown",
   "metadata": {},
   "source": [
    "Super! You just created, step-by-step, a unique word counter using all the neat tricks that you just learnt."
   ]
  },
  {
   "cell_type": "markdown",
   "metadata": {},
   "source": [
    "Can you find out the top 25 words by the number of usages from the unique words and their count you calculated above?"
   ]
  },
  {
   "cell_type": "code",
   "execution_count": 6,
   "metadata": {},
   "outputs": [],
   "source": [
    "### Write your code below this comment"
   ]
  }
 ],
 "metadata": {
  "kernelspec": {
   "display_name": "Python 3",
   "language": "python",
   "name": "python3"
  },
  "language_info": {
   "codemirror_mode": {
    "name": "ipython",
    "version": 3
   },
   "file_extension": ".py",
   "mimetype": "text/x-python",
   "name": "python",
   "nbconvert_exporter": "python",
   "pygments_lexer": "ipython3",
   "version": "3.6.6"
  }
 },
 "nbformat": 4,
 "nbformat_minor": 2
}
