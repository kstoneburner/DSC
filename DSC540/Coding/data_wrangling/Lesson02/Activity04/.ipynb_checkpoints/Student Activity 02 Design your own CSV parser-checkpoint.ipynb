{
 "cells": [
  {
   "cell_type": "markdown",
   "metadata": {},
   "source": [
    "## Activity 02 Design your own CSV parser"
   ]
  },
  {
   "cell_type": "markdown",
   "metadata": {},
   "source": [
    "In this activity we will be tasked with building our own CSV reader and parser. Although it is an indeed big task if we try to cover all use cases and edge cases along with escape characters and all, for the sake of this small activity we will keep our requirements pretty low. We will assume that there is no escape character, meaning if you use a comma `,` at any place in your row it means you are starting a new column. We will also assume that the only  function we are interested about is to be able to read a CSV line by line where each read will generate a new dict with the column names as keys and the values for the row as value\n",
    "\n",
    "As an example\n",
    "<table>\n",
    "    <th>\n",
    "        <td>\n",
    "            Name\n",
    "         </td>\n",
    "         <td>\n",
    "             Age\n",
    "        </td>\n",
    "        <td>\n",
    "            Location\n",
    "        </td>\n",
    "    </th>\n",
    "    <tbody>\n",
    "    <tr>\n",
    "    <td>Bob</td><td>24</td><td>California</td>\n",
    "    </tr>\n",
    "    </tbody>\n",
    " <table>\n",
    "\n",
    "A CSV looking like above, when read, will return a dict like this - `{\"Name\": \"Bob\", \"Age\": \"24\", \"Location\": \"California\"}`\n",
    "\n",
    "### Tasks -\n",
    "\n",
    "- Open the accompanying file \"sales_record.csv\" using \"r\" mode inside a with block and check first that it is opened.\n",
    "- Read the first line and use string methods to generate a list of all the column names\n",
    "- start reading the file one by one\n",
    "- When you read each line pass that line to a function along with the list of the headers\n",
    "- The work of the function is to construct a dict out of these two and fill up the key:values. Keep in mind that a missing value should result in a None."
   ]
  },
  {
   "cell_type": "code",
   "execution_count": 3,
   "metadata": {},
   "outputs": [],
   "source": [
    "### For this Activity we are not gonna make smaller subtasks like the ones before.\n",
    "### Write the whole activity's code bellow this line"
   ]
  }
 ],
 "metadata": {
  "kernelspec": {
   "display_name": "Python 3",
   "language": "python",
   "name": "python3"
  },
  "language_info": {
   "codemirror_mode": {
    "name": "ipython",
    "version": 3
   },
   "file_extension": ".py",
   "mimetype": "text/x-python",
   "name": "python",
   "nbconvert_exporter": "python",
   "pygments_lexer": "ipython3",
   "version": "3.6.6"
  }
 },
 "nbformat": 4,
 "nbformat_minor": 2
}
