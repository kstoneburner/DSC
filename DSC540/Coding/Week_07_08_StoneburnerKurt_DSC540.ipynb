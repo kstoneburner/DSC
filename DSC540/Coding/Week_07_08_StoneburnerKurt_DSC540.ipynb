{
 "cells": [
  {
   "cell_type": "markdown",
   "metadata": {},
   "source": [
    "# Stoneburner, Kurt\n",
    "- ## DSC 540 - Week XX/XX\n",
    "- ## Chapter X, Exercise X\n"
   ]
  },
  {
   "cell_type": "markdown",
   "metadata": {},
   "source": [
    "### Wrangling the BoingBoing Candy Survey\n",
    "This is fun. Boing Boing has been in my daily reading rotation for a longtime. So of course I have to work with the data. It doesn't hit the same notes as the symphony, but the data is sweet."
   ]
  },
  {
   "cell_type": "code",
   "execution_count": 77,
   "metadata": {},
   "outputs": [],
   "source": [
    "import os\n",
    "import sys\n",
    "# //*** Imports and Load Data\n",
    "import matplotlib.pyplot as plt\n",
    "import numpy as np\n",
    "import pandas as pd"
   ]
  },
  {
   "cell_type": "code",
   "execution_count": 78,
   "metadata": {},
   "outputs": [],
   "source": [
    "#There are three years of the Candy surveys, import each one\n",
    "df_2015 = pd.read_excel(\"z_sup_wk07_08_candy2015.xlsx\")\n",
    "df_2016 = pd.read_excel(\"z_sup_wk07_08_candy2016.xlsx\")\n",
    "df_2017 = pd.read_excel(\"z_sup_wk07_08_candy2017.xlsx\")\n"
   ]
  },
  {
   "cell_type": "code",
   "execution_count": 79,
   "metadata": {},
   "outputs": [
    {
     "name": "stdout",
     "output_type": "stream",
     "text": [
      "Index([' [Butterfinger]', ' [100 Grand Bar]',\n",
      "       ' [Anonymous brown globs that come in black and orange wrappers]',\n",
      "       ' [Any full-sized candy bar]', ' [Black Jacks]', ' [Bonkers]',\n",
      "       ' [Bottle Caps]', ' [Box’o’ Raisins]',\n",
      "       ' [Brach products (not including candy corn)]', ' [Bubble Gum]',\n",
      "       ' [Cadbury Creme Eggs]', ' [Candy Corn]',\n",
      "       ' [Vials of pure high fructose corn syrup, for main-lining into your vein]',\n",
      "       ' [Candy that is clearly just the stuff given out for free at restaurants]',\n",
      "       ' [Cash, or other forms of legal tender]', ' [Chiclets]',\n",
      "       ' [Caramellos]', ' [Snickers]', ' [Dark Chocolate Hershey]',\n",
      "       ' [Dental paraphenalia]', ' [Dots]', ' [Fuzzy Peaches]',\n",
      "       ' [Generic Brand Acetaminophen]', ' [Glow sticks]',\n",
      "       ' [Broken glow stick]', ' [Goo Goo Clusters]', ' [Good N' Plenty]',\n",
      "       ' [Gum from baseball cards]', ' [Gummy Bears straight up]',\n",
      "       ' [Creepy Religious comics/Chick Tracts]', ' [Healthy Fruit]',\n",
      "       ' [Heath Bar]', ' [Hershey’s Kissables]', ' [Hershey’s Milk Chocolate]',\n",
      "       ' [Hugs (actual physical hugs)]', ' [Jolly Rancher (bad flavor)]',\n",
      "       ' [Jolly Ranchers (good flavor)]', ' [Kale smoothie]',\n",
      "       ' [Kinder Happy Hippo]', ' [Kit Kat]', ' [Hard Candy]', ' [Lapel Pins]',\n",
      "       ' [LemonHeads]', ' [Licorice]', ' [Licorice (not black)]',\n",
      "       ' [Lindt Truffle]', ' [Lollipops]', ' [Mars]', ' [Mary Janes]',\n",
      "       ' [Maynards]', ' [Milk Duds]', ' [LaffyTaffy]', ' [Minibags of chips]',\n",
      "       ' [JoyJoy (Mit Iodine)]', ' [Reggie Jackson Bar]', ' [Pixy Stix]',\n",
      "       ' [Nerds]', ' [Nestle Crunch]', ' [Now'n'Laters]', ' [Pencils]',\n",
      "       ' [Milky Way]', ' [Reese’s Peanut Butter Cups]',\n",
      "       ' [Tolberone something or other]', ' [Runts]', ' [Junior Mints]',\n",
      "       ' [Senior Mints]', ' [Mint Kisses]', ' [Mint Juleps]', ' [Mint Leaves]',\n",
      "       ' [Peanut M&M’s]', ' [Regular M&Ms]', ' [Mint M&Ms]', ' [Ribbon candy]',\n",
      "       ' [Rolos]', ' [Skittles]', ' [Smarties (American)]',\n",
      "       ' [Smarties (Commonwealth)]',\n",
      "       ' [Chick-o-Sticks (we don’t know what that is)]', ' [Spotted Dick]',\n",
      "       ' [Starburst]', ' [Swedish Fish]', ' [Sweetums]',\n",
      "       ' [Those odd marshmallow circus peanut things]', ' [Three Musketeers]',\n",
      "       ' [Peterson Brand Sidewalk Chalk]', ' [Peanut Butter Bars]',\n",
      "       ' [Peanut Butter Jars]', ' [Trail Mix]', ' [Twix]', ' [Vicodin]',\n",
      "       ' [White Bread]', ' [Whole Wheat anything]',\n",
      "       ' [York Peppermint Patties]',\n",
      "       ' [Sea-salt flavored stuff, probably chocolate, since this is the \"it\" flavor of the year]',\n",
      "       ' [Necco Wafers]'],\n",
      "      dtype='object')\n"
     ]
    }
   ],
   "source": [
    "#//*** It's a little early for Merging, But let's look at the columns to determine which ones have candy types.\n",
    "#//*** No sense in cleaning columns we are not going to use.\n",
    "#//*** 2015 - Candy names start at the beginning of the column name and are wrapped in brackets\n",
    "\n",
    "#//*** Get Candy Columns for 2015. Use Regex to to match the start of the string, any character then Bracket.\n",
    "#//*** This eliminates the degrees of separation quetions.\n",
    "#/**** Trim the leading space and brackets while we are at it. \n",
    "cols_2015 = df_2015.columns [ df_2015.columns.str.match('^.\\[')]\n",
    "#.str.replace('^.',\"\").str.replace('[',\"\").str.replace(']',\"\")\n",
    "\n",
    "#//*** This is a good starting point for 2015 columns\n",
    "print(cols_2015)"
   ]
  },
  {
   "cell_type": "code",
   "execution_count": 95,
   "metadata": {},
   "outputs": [
    {
     "name": "stdout",
     "output_type": "stream",
     "text": [
      "Index(['[100 Grand Bar]',\n",
      "       '[Anonymous brown globs that come in black and orange wrappers]',\n",
      "       '[Any full-sized candy bar]', '[Black Jacks]', '[Bonkers (the candy)]',\n",
      "       '[Bonkers (the board game)]', '[Bottle Caps]', '[Box'o'Raisins]',\n",
      "       '[Broken glow stick]', '[Butterfinger]',\n",
      "       ...\n",
      "       '[Tolberone something or other]', '[Trail Mix]', '[Twix]',\n",
      "       '[Vials of pure high fructose corn syrup, for main-lining into your vein]',\n",
      "       '[Vicodin]', '[Whatchamacallit Bars]', '[White Bread]',\n",
      "       '[Whole Wheat anything]', '[York Peppermint Patties]',\n",
      "       '[York Peppermint Patties] Ignore'],\n",
      "      dtype='object', length=101)\n"
     ]
    }
   ],
   "source": [
    "#//*** Get Candy Columns for 2016. These questions are structured using the same methods as 2015.\n",
    "cols_2016 = df_2016.columns [ df_2016.columns.str.match('^.\\[')].str.replace('^.',\"\")\n",
    "#.str.replace('[',\"\").str.replace(']',\"\")\n",
    "print(cols_2016)"
   ]
  },
  {
   "cell_type": "code",
   "execution_count": 81,
   "metadata": {},
   "outputs": [
    {
     "name": "stdout",
     "output_type": "stream",
     "text": [
      "Index(['Q6 | 100 Grand Bar',\n",
      "       'Q6 | Anonymous brown globs that come in black and orange wrappers\\t(a.k.a. Mary Janes)',\n",
      "       'Q6 | Any full-sized candy bar', 'Q6 | Black Jacks',\n",
      "       'Q6 | Bonkers (the candy)', 'Q6 | Bonkers (the board game)',\n",
      "       'Q6 | Bottle Caps', 'Q6 | Box'o'Raisins', 'Q6 | Broken glow stick',\n",
      "       'Q6 | Butterfinger',\n",
      "       ...\n",
      "       'Q6 | Three Musketeers', 'Q6 | Tolberone something or other',\n",
      "       'Q6 | Trail Mix', 'Q6 | Twix',\n",
      "       'Q6 | Vials of pure high fructose corn syrup, for main-lining into your vein',\n",
      "       'Q6 | Vicodin', 'Q6 | Whatchamacallit Bars', 'Q6 | White Bread',\n",
      "       'Q6 | Whole Wheat anything', 'Q6 | York Peppermint Patties'],\n",
      "      dtype='object', length=103)\n"
     ]
    }
   ],
   "source": [
    "#//*** Get Candy Columns for 2017. All Candy questions Begin with Q6 in the Column Name.\n",
    "cols_2017 = df_2017.columns [ df_2017.columns.str.match('^Q6')]\n",
    "#.str.replace('^Q6 \\| ','')\n",
    "print(cols_2017)"
   ]
  },
  {
   "cell_type": "markdown",
   "metadata": {},
   "source": [
    "## Chapter 7 - Task1 ###\n",
    "**Filter Out Missing Values**\n",
    "\n",
    "In the 2017 drop rows where no Candy values were filled out"
   ]
  },
  {
   "cell_type": "code",
   "execution_count": 82,
   "metadata": {},
   "outputs": [
    {
     "name": "stdout",
     "output_type": "stream",
     "text": [
      "2460\n",
      "1803\n"
     ]
    }
   ],
   "source": [
    "print(len(df_2017))\n",
    "#//*** Drop rows where None of the Candy columns filled out\n",
    "df_2017.dropna(axis=0,how='all',subset=cols_2017,inplace=True)\n",
    "print(len(df_2017))"
   ]
  },
  {
   "cell_type": "markdown",
   "metadata": {},
   "source": [
    "## Chapter 7 - Task 2###\n",
    "**Replace Values**\n",
    "\n",
    "In many cases usere did not fill out all the form data. If we dropped these values, there wouldn't be much of a survey. Replace NaN with 0. Which will be used as a categorical for not answered."
   ]
  },
  {
   "cell_type": "code",
   "execution_count": 98,
   "metadata": {},
   "outputs": [
    {
     "name": "stdout",
     "output_type": "stream",
     "text": [
      "   [Butterfinger]  [100 Grand Bar]  \\\n",
      "0             JOY                0   \n",
      "1             JOY              JOY   \n",
      "2         DESPAIR          DESPAIR   \n",
      "3             JOY              JOY   \n",
      "4               0              JOY   \n",
      "5             JOY              JOY   \n",
      "6             JOY              JOY   \n",
      "7         DESPAIR              JOY   \n",
      "8         DESPAIR          DESPAIR   \n",
      "9             JOY              JOY   \n",
      "\n",
      "   [Anonymous brown globs that come in black and orange wrappers]  \\\n",
      "0                                            DESPAIR                \n",
      "1                                            DESPAIR                \n",
      "2                                            DESPAIR                \n",
      "3                                            DESPAIR                \n",
      "4                                            DESPAIR                \n",
      "5                                            DESPAIR                \n",
      "6                                            DESPAIR                \n",
      "7                                            DESPAIR                \n",
      "8                                            DESPAIR                \n",
      "9                                            DESPAIR                \n",
      "\n",
      "   [Any full-sized candy bar]  [Black Jacks]  [Bonkers]  [Bottle Caps]  \\\n",
      "0                         JOY              0          0              0   \n",
      "1                         JOY        DESPAIR    DESPAIR            JOY   \n",
      "2                         JOY        DESPAIR    DESPAIR        DESPAIR   \n",
      "3                         JOY        DESPAIR    DESPAIR            JOY   \n",
      "4                         JOY              0          0              0   \n",
      "5                         JOY        DESPAIR        JOY            JOY   \n",
      "6                         JOY            JOY    DESPAIR            JOY   \n",
      "7                           0              0          0            JOY   \n",
      "8                     DESPAIR        DESPAIR    DESPAIR        DESPAIR   \n",
      "9                         JOY            JOY    DESPAIR            JOY   \n",
      "\n",
      "   [Box’o’ Raisins]  [Brach products (not including candy corn)]  \\\n",
      "0                 0                                      DESPAIR   \n",
      "1           DESPAIR                                      DESPAIR   \n",
      "2               JOY                                      DESPAIR   \n",
      "3           DESPAIR                                      DESPAIR   \n",
      "4                 0                                            0   \n",
      "5           DESPAIR                                          JOY   \n",
      "6           DESPAIR                                      DESPAIR   \n",
      "7                 0                                            0   \n",
      "8           DESPAIR                                      DESPAIR   \n",
      "9           DESPAIR                                      DESPAIR   \n",
      "\n",
      "   [Bubble Gum]  ...  [Peanut Butter Bars]  [Peanut Butter Jars]  [Trail Mix]  \\\n",
      "0       DESPAIR  ...                     0                     0            0   \n",
      "1       DESPAIR  ...                   JOY               DESPAIR      DESPAIR   \n",
      "2       DESPAIR  ...               DESPAIR               DESPAIR      DESPAIR   \n",
      "3       DESPAIR  ...                   JOY               DESPAIR      DESPAIR   \n",
      "4             0  ...                     0                     0            0   \n",
      "5       DESPAIR  ...                   JOY                   JOY            0   \n",
      "6       DESPAIR  ...               DESPAIR               DESPAIR      DESPAIR   \n",
      "7             0  ...                   JOY                     0          JOY   \n",
      "8       DESPAIR  ...               DESPAIR               DESPAIR      DESPAIR   \n",
      "9       DESPAIR  ...                   JOY               DESPAIR      DESPAIR   \n",
      "\n",
      "    [Twix]  [Vicodin]  [White Bread]  [Whole Wheat anything]  \\\n",
      "0        0          0              0                       0   \n",
      "1      JOY        JOY        DESPAIR                 DESPAIR   \n",
      "2  DESPAIR    DESPAIR        DESPAIR                 DESPAIR   \n",
      "3      JOY        JOY        DESPAIR                 DESPAIR   \n",
      "4        0          0              0                       0   \n",
      "5      JOY    DESPAIR        DESPAIR                 DESPAIR   \n",
      "6      JOY        JOY        DESPAIR                 DESPAIR   \n",
      "7      JOY          0        DESPAIR                 DESPAIR   \n",
      "8  DESPAIR    DESPAIR        DESPAIR                 DESPAIR   \n",
      "9      JOY    DESPAIR        DESPAIR                 DESPAIR   \n",
      "\n",
      "   [York Peppermint Patties]  \\\n",
      "0                          0   \n",
      "1                    DESPAIR   \n",
      "2                        JOY   \n",
      "3                    DESPAIR   \n",
      "4                          0   \n",
      "5                        JOY   \n",
      "6                        JOY   \n",
      "7                        JOY   \n",
      "8                    DESPAIR   \n",
      "9                        JOY   \n",
      "\n",
      "   [Sea-salt flavored stuff, probably chocolate, since this is the \"it\" flavor of the year]  \\\n",
      "0                                                  0                                          \n",
      "1                                                JOY                                          \n",
      "2                                                JOY                                          \n",
      "3                                                JOY                                          \n",
      "4                                                  0                                          \n",
      "5                                                JOY                                          \n",
      "6                                                JOY                                          \n",
      "7                                                JOY                                          \n",
      "8                                            DESPAIR                                          \n",
      "9                                                JOY                                          \n",
      "\n",
      "   [Necco Wafers]  \n",
      "0               0  \n",
      "1         DESPAIR  \n",
      "2         DESPAIR  \n",
      "3         DESPAIR  \n",
      "4               0  \n",
      "5             JOY  \n",
      "6         DESPAIR  \n",
      "7             JOY  \n",
      "8         DESPAIR  \n",
      "9             JOY  \n",
      "\n",
      "[10 rows x 95 columns]\n"
     ]
    }
   ],
   "source": [
    "#//*** Replace NaN with 0 in 2015 Data\n",
    "df_2015.fillna(value=0,axis=0,inplace=True)\n",
    "print(df_2015 [cols_2015].head(10))\n",
    "\n",
    "#//*** Replace NaN with 0 in 2016 Data\n",
    "df_2016.fillna(value=0,axis=0,inplace=True)\n",
    "\n",
    "#//*** Replace NaN with 0 in 2017 Data\n",
    "df_2017.fillna(value=0,axis=0,inplace=True)"
   ]
  },
  {
   "cell_type": "markdown",
   "metadata": {},
   "source": [
    "## Chapter 7 - Task 3###\n",
    "**Transform Data**\n",
    "\n",
    "Convert the categorical descriptions from Despair and Joy to 1 and 2"
   ]
  },
  {
   "cell_type": "code",
   "execution_count": 103,
   "metadata": {},
   "outputs": [
    {
     "data": {
      "text/plain": [
       "array(['JOY', 0, 'DESPAIR'], dtype=object)"
      ]
     },
     "execution_count": 103,
     "metadata": {},
     "output_type": "execute_result"
    }
   ],
   "source": [
    "#//*** Check for unique values in the candy columsn\n",
    "#//*** Looking for miscodes or irregularities\n",
    "pd.unique(df_2015[cols_2015].values.ravel())"
   ]
  },
  {
   "cell_type": "code",
   "execution_count": null,
   "metadata": {},
   "outputs": [],
   "source": []
  },
  {
   "cell_type": "code",
   "execution_count": null,
   "metadata": {},
   "outputs": [],
   "source": []
  },
  {
   "cell_type": "code",
   "execution_count": null,
   "metadata": {},
   "outputs": [],
   "source": []
  },
  {
   "cell_type": "code",
   "execution_count": null,
   "metadata": {},
   "outputs": [],
   "source": []
  },
  {
   "cell_type": "code",
   "execution_count": null,
   "metadata": {},
   "outputs": [],
   "source": []
  },
  {
   "cell_type": "code",
   "execution_count": null,
   "metadata": {},
   "outputs": [],
   "source": []
  },
  {
   "cell_type": "code",
   "execution_count": null,
   "metadata": {},
   "outputs": [],
   "source": []
  }
 ],
 "metadata": {
  "kernelspec": {
   "display_name": "Python 3",
   "language": "python",
   "name": "python3"
  },
  "language_info": {
   "codemirror_mode": {
    "name": "ipython",
    "version": 3
   },
   "file_extension": ".py",
   "mimetype": "text/x-python",
   "name": "python",
   "nbconvert_exporter": "python",
   "pygments_lexer": "ipython3",
   "version": "3.8.3"
  }
 },
 "nbformat": 4,
 "nbformat_minor": 4
}
