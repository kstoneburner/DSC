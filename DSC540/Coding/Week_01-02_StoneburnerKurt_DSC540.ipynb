{
 "cells": [
  {
   "cell_type": "markdown",
   "metadata": {},
   "source": [
    "# Stoneburner, Kurt\n",
    "- ## DSC 540 - Week 01/02"
   ]
  },
  {
   "cell_type": "markdown",
   "metadata": {},
   "source": [
    "\n",
    "\n",
    "\n",
    "\n",
    "3. Complete the following activities:\n",
    "\n",
    "a. Data Wrangling with Python: Activity 1 page 17\n",
    "\n",
    "b. Data Wrangling with Python: Activity 2 page 31\n",
    "\n",
    "c. Data Wrangling with Python: Activity 3 page 49\n",
    "\n",
    "d. Data Wrangling with Python: Activity 4 page 59"
   ]
  },
  {
   "cell_type": "code",
   "execution_count": 1,
   "metadata": {},
   "outputs": [],
   "source": [
    "# //****************************************************************************************\n",
    "# //*** Set Working Directory to thinkstats folder.\n",
    "# //*** This pseudo-relative path call should work on all Stoneburner localized projects. \n",
    "# //****************************************************************************************\n",
    "\n",
    "import os\n",
    "import sys\n",
    "# //*** Imports and Load Data\n",
    "import matplotlib.pyplot as plt\n",
    "import numpy as np\n",
    "import pandas as pd\n",
    "import random"
   ]
  },
  {
   "cell_type": "code",
   "execution_count": 2,
   "metadata": {},
   "outputs": [],
   "source": [
    "#python_for_data_analysis_path = f\"{os.getcwd()}\\\\pydata-book\\\\examples\"\n",
    "\n",
    "#sys.path.insert(1, python_for_data_analysis_path)\n",
    "#os.chdir(python_for_data_analysis_path)\n"
   ]
  },
  {
   "cell_type": "markdown",
   "metadata": {},
   "source": [
    "- ## Exercise 1\n",
    "\n",
    "**Create a Jupyter notebook where you create a list, iterate over the list and sort your results, generate random numbers, add to the list, and then print your results.**"
   ]
  },
  {
   "cell_type": "code",
   "execution_count": 3,
   "metadata": {},
   "outputs": [
    {
     "name": "stdout",
     "output_type": "stream",
     "text": [
      "[100, 100, 99, 99, 98, 97, 97, 97, 96, 96, 96, 96, 93, 93, 92, 91, 91, 91, 91, 90, 89, 88, 88, 87, 87, 87, 86, 86, 85, 84, 84, 84, 84, 84, 84, 83, 83, 82, 81, 80, 80, 79, 79, 78, 78, 77, 77, 77, 76, 76, 75, 74, 73, 72, 72, 71, 71, 70, 70, 69, 69, 69, 69, 69, 68, 67, 66, 66, 65, 63, 63, 63, 63, 62, 62, 60, 60, 59, 59, 58, 58, 58, 58, 57, 57, 56, 55, 55, 54, 54, 54, 54, 53, 52, 52, 52, 52, 51, 51, 51, 50, 49, 49, 49, 49, 48, 47, 45, 44, 44, 43, 42, 41, 41, 41, 40, 40, 40, 39, 39, 39, 39, 37, 37, 37, 37, 36, 36, 36, 36, 36, 35, 35, 35, 35, 34, 34, 32, 32, 32, 30, 30, 30, 29, 29, 29, 28, 28, 27, 27, 26, 25, 25, 24, 23, 23, 23, 22, 22, 22, 21, 21, 21, 20, 20, 19, 18, 17, 17, 16, 16, 15, 15, 15, 15, 15, 13, 11, 10, 10, 10, 10, 10, 9, 8, 7, 7, 7, 6, 6, 5, 4, 3, 3, 2, 1, 1, 1, 0, 0]\n"
     ]
    }
   ],
   "source": [
    "unsorted_random_list = [random.randint(0,100) for x in range(100)]\n",
    "\n",
    "for x in range(100):\n",
    "    unsorted_random_list.append(random.randint(0,100))\n",
    "\n",
    "sorted_random_list = sorted(unsorted_random_list, reverse=True)\n",
    "\n",
    "print(f\"{sorted_random_list}\")\n"
   ]
  },
  {
   "cell_type": "markdown",
   "metadata": {},
   "source": [
    "- ## Exercise 2\n",
    "\n",
    "**2. Create a line chart with Matplotlib and the following data file.**"
   ]
  },
  {
   "cell_type": "code",
   "execution_count": 4,
   "metadata": {},
   "outputs": [],
   "source": [
    "\n",
    "curDir = os.getcwd()\n",
    "\n",
    "loop_df = pd.read_excel(\"z_sup_wk01_world-population.xlsm\",0)\n",
    "\n",
    "#"
   ]
  },
  {
   "cell_type": "markdown",
   "metadata": {},
   "source": [
    "- ## Python For Data Analysis\n",
    "- ## Chapter X, Exercise X\n",
    "\n"
   ]
  },
  {
   "cell_type": "code",
   "execution_count": 5,
   "metadata": {},
   "outputs": [],
   "source": [
    "# //*** CODE HERE"
   ]
  },
  {
   "cell_type": "markdown",
   "metadata": {},
   "source": [
    "- ## Python For Data Analysis\n",
    "- ## Chapter X, Exercise X\n",
    "\n"
   ]
  },
  {
   "cell_type": "code",
   "execution_count": 6,
   "metadata": {},
   "outputs": [],
   "source": [
    "# //*** CODE HERE"
   ]
  },
  {
   "cell_type": "markdown",
   "metadata": {},
   "source": [
    "- ## Data Wrangling with Python\n",
    "- ## Chapter X, Exercise X\n",
    "\n"
   ]
  },
  {
   "cell_type": "code",
   "execution_count": 7,
   "metadata": {},
   "outputs": [],
   "source": [
    "# //*** CODE HERE"
   ]
  },
  {
   "cell_type": "markdown",
   "metadata": {},
   "source": [
    "- ## Data Wrangling with Python\n",
    "- ## Chapter X, Exercise X"
   ]
  },
  {
   "cell_type": "code",
   "execution_count": 8,
   "metadata": {},
   "outputs": [],
   "source": [
    "# //*** CODE HERE"
   ]
  }
 ],
 "metadata": {
  "kernelspec": {
   "display_name": "Python 3",
   "language": "python",
   "name": "python3"
  },
  "language_info": {
   "codemirror_mode": {
    "name": "ipython",
    "version": 3
   },
   "file_extension": ".py",
   "mimetype": "text/x-python",
   "name": "python",
   "nbconvert_exporter": "python",
   "pygments_lexer": "ipython3",
   "version": "3.8.3"
  }
 },
 "nbformat": 4,
 "nbformat_minor": 4
}
