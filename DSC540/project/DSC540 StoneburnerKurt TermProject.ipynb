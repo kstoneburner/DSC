{
 "cells": [
  {
   "cell_type": "markdown",
   "metadata": {},
   "source": [
    "DSC540 Term Project\n",
    "Kurt Stoneburner\n",
    "\n",
    "California COVID019 Ethnicity Data\n",
    "https://data.ca.gov/dataset/covid-19-cases/resource/7e477adb-d7ab-4d4b-a198-dc4c6dc634c9\n",
    "\n",
    "API Example: https://data.ca.gov/api/3/action/datastore_search?resource_id=7e477adb-d7ab-4d4b-a198-dc4c6dc634c9&limit=5\n",
    "\n",
    "Requests Documentation: https://www.w3schools.com/python/ref_requests_response.asp"
   ]
  },
  {
   "cell_type": "code",
   "execution_count": 43,
   "metadata": {},
   "outputs": [
    {
     "name": "stdout",
     "output_type": "stream",
     "text": [
      "<Response [200]>\n"
     ]
    }
   ],
   "source": [
    "import requests\n",
    "import json\n",
    "\n",
    "#//*** Build Dictionary to hold Global values.\n",
    "#//*** Placing Globals in a dictionary, keeps things tidy and helps with scope.\n",
    "g = {\n",
    "    #//*** Values for the API call\n",
    "    \"api\" : {\n",
    "        \"ethnic\" : {\n",
    "            \"colnames\" : [], #//*** Column names\n",
    "            #//*** Additional Column name attributes. Probably not needed. But ingesting anyway.\n",
    "            #//*** Key - colname, value is attributes\n",
    "            \"attrib\" : {}, \n",
    "        } #//*** CLOSE api.ethnic\n",
    "        \n",
    "    } #//*** CLOSE api\n",
    "\n",
    "} #//***CLOSE g\n",
    "\n",
    "#response = requests.get(g[\"requestCall\"] + thisCityID + g[\"apiKey\"])\n",
    "response = requests.get(\"https://data.ca.gov/api/3/action/datastore_search?resource_id=7e477adb-d7ab-4d4b-a198-dc4c6dc634c9&limit=5\")\n",
    "\n",
    "print(response)"
   ]
  },
  {
   "cell_type": "code",
   "execution_count": 24,
   "metadata": {},
   "outputs": [
    {
     "name": "stdout",
     "output_type": "stream",
     "text": [
      "b'{\"help\": \"https://data.ca.gov/api/3/action/help_show?name=datastore_search\", \"success\": true, \"result\": {\"include_total\": true, '\n",
      "b'\"resource_id\": \"7e477adb-d7ab-4d4b-a198-dc4c6dc634c9\", \"fields\": [{\"type\": \"int\", \"id\": \"_id\"}, {\"info\": {\"notes\": \"Race/Ethnici'\n",
      "b'ty\", \"type_override\": \"\", \"label\": \"Race Ethnicity\"}, \"type\": \"text\", \"id\": \"race_ethnicity\"}, {\"info\": {\"notes\": \"Cumulative nu'\n",
      "b'mber of COVID confirmed cases as reported by local health departments\", \"type_override\": \"numeric\", \"label\": \"Total Positive Cas'\n",
      "b'es\"}, \"type\": \"numeric\", \"id\": \"cases\"}, {\"info\": {\"notes\": \"Ratio of cases in relation to all cases\", \"type_override\": \"numeric'\n",
      "b'\", \"label\": \"Percentage of Cases by Ethnicity\"}, \"type\": \"numeric\", \"id\": \"case_percentage\"}, {\"info\": {\"notes\": \"Cumulative num'\n",
      "b'ber of COVID-related deaths as reported by local health departments\", \"type_override\": \"numeric\", \"label\": \"Death Percentage\"}, '\n",
      "b'\"type\": \"numeric\", \"id\": \"deaths\"}, {\"info\": {\"notes\": \"Ratio of deaths in relation to all deaths\", \"type_override\": \"numeric\", '\n",
      "b'\"label\": \"Death Percentage\"}, \"type\": \"numeric\", \"id\": \"death_percentage\"}, {\"info\": {\"notes\": \"Percent of State population\", \"t'\n",
      "b'ype_override\": \"numeric\", \"label\": \"Percent of State Population\"}, \"type\": \"numeric\", \"id\": \"percent_ca_population\"}, {\"info\": {'\n",
      "b'\"notes\": \"Reported date\", \"type_override\": \"timestamp\", \"label\": \"Date\"}, \"type\": \"timestamp\", \"id\": \"date\"}], \"records_format\":'\n",
      "b' \"objects\", \"records\": [{\"race_ethnicity\": \"Latino\", \"death_percentage\": 28.38, \"deaths\": 170, \"date\": \"2020-04-13T00:00:00\", \"p'\n",
      "b'ercent_ca_population\": 38.9, \"cases\": 5276, \"_id\": 1, \"case_percentage\": 35.99}, {\"race_ethnicity\": \"Latino\", \"death_percentage\"'\n",
      "b': 29.72, \"deaths\": 203, \"date\": \"2020-04-14T00:00:00\", \"percent_ca_population\": 38.9, \"cases\": 5910, \"_id\": 2, \"case_percentage\"'\n",
      "b': 37.18}, {\"race_ethnicity\": \"Latino\", \"death_percentage\": 29.7, \"deaths\": 226, \"date\": \"2020-04-15T00:00:00\", \"percent_ca_popul'\n",
      "b'ation\": 38.9, \"cases\": 6433, \"_id\": 3, \"case_percentage\": 37.8}, {\"race_ethnicity\": \"Latino\", \"death_percentage\": 29.85, \"deaths'\n",
      "b'\": 254, \"date\": \"2020-04-16T00:00:00\", \"percent_ca_population\": 38.9, \"cases\": 7013, \"_id\": 4, \"case_percentage\": 38.51}, {\"race'\n",
      "b'_ethnicity\": \"Latino\", \"death_percentage\": 30.58, \"deaths\": 281, \"date\": \"2020-04-17T00:00:00\", \"percent_ca_population\": 38.9, \"'\n",
      "b'cases\": 7627, \"_id\": 5, \"case_percentage\": 39.41}], \"limit\": 5, \"_links\": {\"start\": \"/api/3/action/datastore_search?limit=5&reso'\n",
      "b'urce_id=7e477adb-d7ab-4d4b-a198-dc4c6dc634c9\", \"next\": \"/api/3/action/datastore_search?offset=5&limit=5&resource_id=7e477adb-d7a'\n",
      "b'b-4d4b-a198-dc4c6dc634c9\"}, \"total\": 2088}}'\n"
     ]
    }
   ],
   "source": [
    "for x in response:\n",
    "    print(x)"
   ]
  },
  {
   "cell_type": "code",
   "execution_count": 38,
   "metadata": {},
   "outputs": [
    {
     "name": "stdout",
     "output_type": "stream",
     "text": [
      "True\n",
      "dict_keys(['include_total', 'resource_id', 'fields', 'records_format', 'records', 'limit', '_links', 'total'])\n",
      "help : https://data.ca.gov/api/3/action/help_show?name=datastore_search\n",
      "success : True\n",
      "result : {'include_total': True, 'resource_id': '7e477adb-d7ab-4d4b-a198-dc4c6dc634c9', 'fields': [{'type': 'int', 'id': '_id'}, {'info': {'notes': 'Race/Ethnicity', 'type_override': '', 'label': 'Race Ethnicity'}, 'type': 'text', 'id': 'race_ethnicity'}, {'info': {'notes': 'Cumulative number of COVID confirmed cases as reported by local health departments', 'type_override': 'numeric', 'label': 'Total Positive Cases'}, 'type': 'numeric', 'id': 'cases'}, {'info': {'notes': 'Ratio of cases in relation to all cases', 'type_override': 'numeric', 'label': 'Percentage of Cases by Ethnicity'}, 'type': 'numeric', 'id': 'case_percentage'}, {'info': {'notes': 'Cumulative number of COVID-related deaths as reported by local health departments', 'type_override': 'numeric', 'label': 'Death Percentage'}, 'type': 'numeric', 'id': 'deaths'}, {'info': {'notes': 'Ratio of deaths in relation to all deaths', 'type_override': 'numeric', 'label': 'Death Percentage'}, 'type': 'numeric', 'id': 'death_percentage'}, {'info': {'notes': 'Percent of State population', 'type_override': 'numeric', 'label': 'Percent of State Population'}, 'type': 'numeric', 'id': 'percent_ca_population'}, {'info': {'notes': 'Reported date', 'type_override': 'timestamp', 'label': 'Date'}, 'type': 'timestamp', 'id': 'date'}], 'records_format': 'objects', 'records': [{'race_ethnicity': 'Latino', 'death_percentage': 28.38, 'deaths': 170, 'date': '2020-04-13T00:00:00', 'percent_ca_population': 38.9, 'cases': 5276, '_id': 1, 'case_percentage': 35.99}, {'race_ethnicity': 'Latino', 'death_percentage': 29.72, 'deaths': 203, 'date': '2020-04-14T00:00:00', 'percent_ca_population': 38.9, 'cases': 5910, '_id': 2, 'case_percentage': 37.18}, {'race_ethnicity': 'Latino', 'death_percentage': 29.7, 'deaths': 226, 'date': '2020-04-15T00:00:00', 'percent_ca_population': 38.9, 'cases': 6433, '_id': 3, 'case_percentage': 37.8}, {'race_ethnicity': 'Latino', 'death_percentage': 29.85, 'deaths': 254, 'date': '2020-04-16T00:00:00', 'percent_ca_population': 38.9, 'cases': 7013, '_id': 4, 'case_percentage': 38.51}, {'race_ethnicity': 'Latino', 'death_percentage': 30.58, 'deaths': 281, 'date': '2020-04-17T00:00:00', 'percent_ca_population': 38.9, 'cases': 7627, '_id': 5, 'case_percentage': 39.41}], 'limit': 5, '_links': {'start': '/api/3/action/datastore_search?limit=5&resource_id=7e477adb-d7ab-4d4b-a198-dc4c6dc634c9', 'next': '/api/3/action/datastore_search?offset=5&limit=5&resource_id=7e477adb-d7ab-4d4b-a198-dc4c6dc634c9'}, 'total': 2088}\n"
     ]
    }
   ],
   "source": [
    "print(response.ok)\n",
    "#print(response.content)\n",
    "#print(response.headers)\n",
    "#print(response.json)\n",
    "rawOBJ=json.loads(response.content)\n",
    "\n",
    "print(rawOBJ[\"result\"].keys())\n",
    "for key, value in rawOBJ.items():\n",
    "    print(f\"{key} : {value}\")\n",
    "    "
   ]
  },
  {
   "cell_type": "code",
   "execution_count": 48,
   "metadata": {},
   "outputs": [],
   "source": [
    "\n",
    "#//*** Build Column Names and Column attributes\n",
    "rawFields = rawOBJ[\"result\"]['fields']\n",
    "\n",
    "\n",
    "\n",
    "for loopOBJ in rawFields:\n",
    "    #//*** Build attributes\n",
    "    loopAttrib = {}\n",
    "    \n",
    "    #//*** All Columns have an info field except _id.\n",
    "    if 'info' in loopOBJ.keys():\n",
    "        loopAttrib = loopOBJ[\"info\"]\n",
    "    \n",
    "    #//*** Add Type to loopAttrib\n",
    "    loopAttrib['type'] = loopOBJ['type']\n",
    "    \n",
    "    #//*** The column name is the ID field.\n",
    "    loopColname = loopOBJ['id']\n",
    "    \n",
    "    #//*** Add Column Name to the global api ethnic colnames \n",
    "    g['api']['ethnic']['colnames'].append(loopColname)\n",
    "    \n",
    "    #//*** Assign the attributes dictionary based on column name\n",
    "    g['api']['ethnic']['attrib'][loopColname] = loopAttrib\n",
    "    "
   ]
  }
 ],
 "metadata": {
  "kernelspec": {
   "display_name": "Python 3",
   "language": "python",
   "name": "python3"
  },
  "language_info": {
   "codemirror_mode": {
    "name": "ipython",
    "version": 3
   },
   "file_extension": ".py",
   "mimetype": "text/x-python",
   "name": "python",
   "nbconvert_exporter": "python",
   "pygments_lexer": "ipython3",
   "version": "3.8.5"
  }
 },
 "nbformat": 4,
 "nbformat_minor": 4
}
