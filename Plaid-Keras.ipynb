{
 "cells": [
  {
   "cell_type": "code",
   "execution_count": 1,
   "id": "e17a7c02",
   "metadata": {},
   "outputs": [
    {
     "data": {
      "text/html": [
       "<style>.container { width:100% !important; }</style>"
      ],
      "text/plain": [
       "<IPython.core.display.HTML object>"
      ]
     },
     "metadata": {},
     "output_type": "display_data"
    }
   ],
   "source": [
    "import os\n",
    "import sys\n",
    "# //*** Imports and Load Data\n",
    "#import matplotlib.pyplot as plt\n",
    "import numpy as np\n",
    "import pandas as pd\n",
    "import json\n",
    "\n",
    "#//*** Use the whole window in the IPYNB editor\n",
    "from IPython.core.display import display, HTML\n",
    "display(HTML(\"<style>.container { width:100% !important; }</style>\"))\n",
    "\n",
    "#//*** Maximize columns and rows displayed by pandas\n",
    "pd.set_option('display.max_rows', 100)\n",
    "pd.set_option('display.max_columns', None)"
   ]
  },
  {
   "cell_type": "markdown",
   "id": "75a7f11a",
   "metadata": {},
   "source": [
    "install plaidml: https://towardsdatascience.com/plaidml-deep-learning-on-a-budget-ce22b58ba8c2\n",
    "\n",
    "LTSM Code: https://medium.com/analytics-vidhya/beginners-guide-to-stock-prediction-using-lstm-7010bf8b8c21"
   ]
  },
  {
   "cell_type": "code",
   "execution_count": 2,
   "id": "a20152c5",
   "metadata": {},
   "outputs": [],
   "source": [
    "#//*** Setup plaid keras\n",
    "import plaidml.keras\n",
    "\n",
    "import os\n",
    "os.environ[\"KERAS_BACKEND\"] = \"plaidml.keras.backend\"\n",
    "\n",
    "plaidml.keras.install_backend()\n",
    "\n",
    "\n",
    "import keras"
   ]
  },
  {
   "cell_type": "code",
   "execution_count": 3,
   "id": "b65775f0",
   "metadata": {},
   "outputs": [
    {
     "data": {
      "text/plain": [
       "<module 'plaidml.keras.backend' from 'C:\\\\Users\\\\stonk013\\\\Anaconda3\\\\envs\\\\plaid-ml\\\\lib\\\\site-packages\\\\plaidml\\\\keras\\\\backend.py'>"
      ]
     },
     "execution_count": 3,
     "metadata": {},
     "output_type": "execute_result"
    }
   ],
   "source": [
    "import keras\n",
    "import keras.backend as K\n",
    "\n",
    "K"
   ]
  },
  {
   "cell_type": "code",
   "execution_count": 4,
   "id": "2a92203c",
   "metadata": {},
   "outputs": [],
   "source": [
    "# \n",
    "\n",
    "\n",
    "#importing the libraries\n",
    "import math\n",
    "#import matplotlib.pyplot as plt\n",
    "#import seaborn\n",
    "import pandas as pd\n",
    "import numpy as np\n",
    "import datetime\n",
    "import time\n",
    "#import requests\n",
    "import io\n",
    "from sklearn.preprocessing import MinMaxScaler\n",
    "#from statsmodels.tsa.arima_model import ARIMA\n",
    "#import statsmodels.api as sm\n",
    "#import pandas_datareader as web\n",
    "from sklearn.metrics import mean_squared_error\n",
    "#Importing the keras model\n",
    "from keras.models import Sequential\n",
    "from keras.layers import Dense\n",
    "from keras.optimizers import SGD\n",
    "\n",
    "from keras.layers import LSTM\n",
    "from keras.layers import Dropout\n",
    "from keras.wrappers.scikit_learn import KerasRegressor"
   ]
  },
  {
   "cell_type": "code",
   "execution_count": 5,
   "id": "35ba5b8e",
   "metadata": {},
   "outputs": [
    {
     "data": {
      "text/html": [
       "<div>\n",
       "<style scoped>\n",
       "    .dataframe tbody tr th:only-of-type {\n",
       "        vertical-align: middle;\n",
       "    }\n",
       "\n",
       "    .dataframe tbody tr th {\n",
       "        vertical-align: top;\n",
       "    }\n",
       "\n",
       "    .dataframe thead th {\n",
       "        text-align: right;\n",
       "    }\n",
       "</style>\n",
       "<table border=\"1\" class=\"dataframe\">\n",
       "  <thead>\n",
       "    <tr style=\"text-align: right;\">\n",
       "      <th></th>\n",
       "      <th>date</th>\n",
       "      <th>symbol</th>\n",
       "      <th>open</th>\n",
       "      <th>high</th>\n",
       "      <th>low</th>\n",
       "      <th>close</th>\n",
       "      <th>volume</th>\n",
       "    </tr>\n",
       "  </thead>\n",
       "  <tbody>\n",
       "    <tr>\n",
       "      <th>0</th>\n",
       "      <td>2021-06-30</td>\n",
       "      <td>amc</td>\n",
       "      <td>56.00</td>\n",
       "      <td>58.180</td>\n",
       "      <td>54.65</td>\n",
       "      <td>56.68</td>\n",
       "      <td>59020626</td>\n",
       "    </tr>\n",
       "    <tr>\n",
       "      <th>1</th>\n",
       "      <td>2021-06-29</td>\n",
       "      <td>amc</td>\n",
       "      <td>59.06</td>\n",
       "      <td>61.000</td>\n",
       "      <td>56.18</td>\n",
       "      <td>56.43</td>\n",
       "      <td>63604135</td>\n",
       "    </tr>\n",
       "    <tr>\n",
       "      <th>2</th>\n",
       "      <td>2021-06-28</td>\n",
       "      <td>amc</td>\n",
       "      <td>55.10</td>\n",
       "      <td>59.360</td>\n",
       "      <td>54.33</td>\n",
       "      <td>58.11</td>\n",
       "      <td>99310240</td>\n",
       "    </tr>\n",
       "    <tr>\n",
       "      <th>3</th>\n",
       "      <td>2021-06-25</td>\n",
       "      <td>amc</td>\n",
       "      <td>55.75</td>\n",
       "      <td>56.290</td>\n",
       "      <td>52.97</td>\n",
       "      <td>54.06</td>\n",
       "      <td>77596927</td>\n",
       "    </tr>\n",
       "    <tr>\n",
       "      <th>4</th>\n",
       "      <td>2021-06-24</td>\n",
       "      <td>amc</td>\n",
       "      <td>57.98</td>\n",
       "      <td>58.760</td>\n",
       "      <td>55.66</td>\n",
       "      <td>56.70</td>\n",
       "      <td>80351219</td>\n",
       "    </tr>\n",
       "    <tr>\n",
       "      <th>5</th>\n",
       "      <td>2021-06-23</td>\n",
       "      <td>amc</td>\n",
       "      <td>57.04</td>\n",
       "      <td>61.100</td>\n",
       "      <td>56.80</td>\n",
       "      <td>58.30</td>\n",
       "      <td>116291804</td>\n",
       "    </tr>\n",
       "    <tr>\n",
       "      <th>6</th>\n",
       "      <td>2021-06-22</td>\n",
       "      <td>amc</td>\n",
       "      <td>54.10</td>\n",
       "      <td>58.740</td>\n",
       "      <td>51.05</td>\n",
       "      <td>58.27</td>\n",
       "      <td>169494144</td>\n",
       "    </tr>\n",
       "    <tr>\n",
       "      <th>7</th>\n",
       "      <td>2021-06-21</td>\n",
       "      <td>amc</td>\n",
       "      <td>61.34</td>\n",
       "      <td>63.010</td>\n",
       "      <td>53.43</td>\n",
       "      <td>55.69</td>\n",
       "      <td>185876142</td>\n",
       "    </tr>\n",
       "    <tr>\n",
       "      <th>8</th>\n",
       "      <td>2021-06-18</td>\n",
       "      <td>amc</td>\n",
       "      <td>61.26</td>\n",
       "      <td>64.955</td>\n",
       "      <td>56.85</td>\n",
       "      <td>59.26</td>\n",
       "      <td>243645937</td>\n",
       "    </tr>\n",
       "    <tr>\n",
       "      <th>9</th>\n",
       "      <td>2021-06-17</td>\n",
       "      <td>amc</td>\n",
       "      <td>54.00</td>\n",
       "      <td>63.830</td>\n",
       "      <td>52.98</td>\n",
       "      <td>60.73</td>\n",
       "      <td>303576010</td>\n",
       "    </tr>\n",
       "  </tbody>\n",
       "</table>\n",
       "</div>"
      ],
      "text/plain": [
       "         date symbol   open    high    low  close     volume\n",
       "0  2021-06-30    amc  56.00  58.180  54.65  56.68   59020626\n",
       "1  2021-06-29    amc  59.06  61.000  56.18  56.43   63604135\n",
       "2  2021-06-28    amc  55.10  59.360  54.33  58.11   99310240\n",
       "3  2021-06-25    amc  55.75  56.290  52.97  54.06   77596927\n",
       "4  2021-06-24    amc  57.98  58.760  55.66  56.70   80351219\n",
       "5  2021-06-23    amc  57.04  61.100  56.80  58.30  116291804\n",
       "6  2021-06-22    amc  54.10  58.740  51.05  58.27  169494144\n",
       "7  2021-06-21    amc  61.34  63.010  53.43  55.69  185876142\n",
       "8  2021-06-18    amc  61.26  64.955  56.85  59.26  243645937\n",
       "9  2021-06-17    amc  54.00  63.830  52.98  60.73  303576010"
      ]
     },
     "execution_count": 5,
     "metadata": {},
     "output_type": "execute_result"
    }
   ],
   "source": [
    "#data_df = web.DataReader('APOLLOHOSP.NS', data_source = 'yahoo', start=\"2016-05-01\", end=\"2021-05-01\")\n",
    "data_df = pd.read_csv(\"amc_daily.csv.zip\")\n",
    "data_df.head(10)"
   ]
  },
  {
   "cell_type": "code",
   "execution_count": 7,
   "id": "2af284f5",
   "metadata": {},
   "outputs": [],
   "source": [
    "#Create a new dataframe with only the 'Adj close column'\n",
    "new_data = data_df.filter(['close'])\n",
    "#Convert the dataframe to a numpy array\n",
    "dataset = new_data.to_numpy()\n",
    "#Get the number of rows to train the model on\n",
    "len_train = math.ceil(len(dataset)*.8)\n",
    "\n",
    "train = dataset[0:len_train, :]\n",
    "test = dataset[len_train:len(dataset), :1]"
   ]
  },
  {
   "cell_type": "code",
   "execution_count": 8,
   "id": "60ce6f37",
   "metadata": {},
   "outputs": [],
   "source": [
    "##Feature Scaling\n",
    "sc = MinMaxScaler(feature_range = (0, 1)) \n",
    "train_scaled = sc.fit_transform(train.reshape(-1,1))\n",
    "test_scaled = sc.fit_transform(test.reshape(-1,1))"
   ]
  },
  {
   "cell_type": "code",
   "execution_count": 9,
   "id": "ca541fad",
   "metadata": {},
   "outputs": [],
   "source": [
    "X_train, y_train = [], []\n",
    "for i in range(len(train)-80-1):\n",
    "    a = dataset[i:(i+80), 0]\n",
    "    X_train.append(a)\n",
    "    y_train.append(dataset[i+80, 0])\n",
    "X_train = np.array(X_train)\n",
    "y_train = np.array(y_train)"
   ]
  },
  {
   "cell_type": "code",
   "execution_count": 10,
   "id": "ae018027",
   "metadata": {},
   "outputs": [],
   "source": [
    "#Reshaping\n",
    "X_train = X_train.reshape(X_train.shape[0], X_train.shape[1], 1)\n",
    "#X_test = X_test.reshape(X_test.shape[0], X_test.shape[1], 1)\n",
    "X_test = test.reshape(test.shape[0], test.shape[1], 1)"
   ]
  },
  {
   "cell_type": "code",
   "execution_count": 11,
   "id": "138c64f1",
   "metadata": {},
   "outputs": [],
   "source": [
    "#create and fit the LSTM network\n",
    "def model_lstm(lrn_rate = 0.01, mntum = 0):\n",
    "    #Intializing the RNN\n",
    "    model = Sequential()\n",
    "    #1st layer\n",
    "    model.add(LSTM(50, return_sequences=True, input_shape = (X_train.shape[1], 1)))\n",
    "    model.add(Dropout(0.2))\n",
    "    #2nd layer\n",
    "    model.add(LSTM(50))\n",
    "    model.add(Dropout(0.2))\n",
    "    #Adding the output layer\n",
    "    model.add(Dense(units = 1))\n",
    "    model.compile(loss = 'mean_squared_error', optimizer='adam')\n",
    "    return model"
   ]
  },
  {
   "cell_type": "code",
   "execution_count": 19,
   "id": "fe0929dc",
   "metadata": {},
   "outputs": [
    {
     "name": "stderr",
     "output_type": "stream",
     "text": [
      "INFO:plaidml:Opening device \"opencl_nvidia_quadro_k1200.0\"\n"
     ]
    },
    {
     "name": "stdout",
     "output_type": "stream",
     "text": [
      "Epoch 1/10\n"
     ]
    },
    {
     "name": "stderr",
     "output_type": "stream",
     "text": [
      "INFO:plaidml:Analyzing Ops: 3590 of 15581 operations complete\n",
      "INFO:plaidml:Analyzing Ops: 9293 of 15581 operations complete\n",
      "INFO:plaidml:Analyzing Ops: 14315 of 15581 operations complete\n"
     ]
    },
    {
     "name": "stdout",
     "output_type": "stream",
     "text": [
      "1436/1436 [==============================] - 222s 154ms/step - loss: 49.6085\n",
      "Epoch 2/10\n",
      "1436/1436 [==============================] - 168s 117ms/step - loss: 5.4986\n",
      "Epoch 3/10\n",
      "1436/1436 [==============================] - 167s 117ms/step - loss: 4.2215\n",
      "Epoch 4/10\n",
      "1436/1436 [==============================] - 176s 123ms/step - loss: 3.4787\n",
      "Epoch 5/10\n",
      "1436/1436 [==============================] - 171s 119ms/step - loss: 4.0885\n",
      "Epoch 6/10\n",
      "1436/1436 [==============================] - 170s 118ms/step - loss: 3.6799\n",
      "Epoch 7/10\n",
      "1436/1436 [==============================] - 170s 118ms/step - loss: 3.5377\n",
      "Epoch 8/10\n",
      "1436/1436 [==============================] - 169s 118ms/step - loss: 3.7995\n",
      "Epoch 9/10\n",
      "1436/1436 [==============================] - 170s 118ms/step - loss: 3.6500\n",
      "Epoch 10/10\n",
      "1436/1436 [==============================] - 170s 118ms/step - loss: 3.5054\n",
      "Run time internal GPU: 1754.7859437465668\n"
     ]
    }
   ],
   "source": [
    "start_time = time.time()\n",
    "LSTModel = model_lstm(lrn_rate=0.01, mntum=0)\n",
    "LSTMmodel_fit = LSTModel.fit(X_train, y_train, batch_size=1, epochs=10)\n",
    "print(f\"Run time internal GPU: {time.time()-start_time}\")"
   ]
  },
  {
   "cell_type": "code",
   "execution_count": null,
   "id": "623ce005",
   "metadata": {},
   "outputs": [
    {
     "name": "stderr",
     "output_type": "stream",
     "text": [
      "INFO:plaidml:Opening device \"llvm_cpu.0\"\n"
     ]
    },
    {
     "name": "stdout",
     "output_type": "stream",
     "text": [
      "Epoch 1/10\n"
     ]
    }
   ],
   "source": [
    "start_time = time.time()\n",
    "LSTModel = model_lstm(lrn_rate=0.01, mntum=0)\n",
    "LSTMmodel_fit = LSTModel.fit(X_train, y_train, batch_size=1, epochs=10)\n",
    "print(f\"Run time CPU PC2: {time.time()-start_time}\")"
   ]
  },
  {
   "cell_type": "code",
   "execution_count": 21,
   "id": "69ded1ca",
   "metadata": {},
   "outputs": [
    {
     "ename": "ValueError",
     "evalue": "Error when checking input: expected lstm_1_input to have shape (80, 1) but got array with shape (1, 1)",
     "output_type": "error",
     "traceback": [
      "\u001b[1;31m---------------------------------------------------------------------------\u001b[0m",
      "\u001b[1;31mValueError\u001b[0m                                Traceback (most recent call last)",
      "\u001b[1;32m<ipython-input-21-bbb9ab0479d8>\u001b[0m in \u001b[0;36m<module>\u001b[1;34m\u001b[0m\n\u001b[1;32m----> 1\u001b[1;33m \u001b[0mclosing_price\u001b[0m \u001b[1;33m=\u001b[0m \u001b[0mLSTModel\u001b[0m\u001b[1;33m.\u001b[0m\u001b[0mpredict\u001b[0m\u001b[1;33m(\u001b[0m\u001b[0mX_test\u001b[0m\u001b[1;33m)\u001b[0m\u001b[1;33m\u001b[0m\u001b[1;33m\u001b[0m\u001b[0m\n\u001b[0m\u001b[0;32m      2\u001b[0m \u001b[0mclosing_price\u001b[0m \u001b[1;33m=\u001b[0m \u001b[0msc\u001b[0m\u001b[1;33m.\u001b[0m\u001b[0minverse_transform\u001b[0m\u001b[1;33m(\u001b[0m\u001b[0mclosing_price\u001b[0m\u001b[1;33m)\u001b[0m\u001b[1;33m\u001b[0m\u001b[1;33m\u001b[0m\u001b[0m\n\u001b[0;32m      3\u001b[0m \u001b[0mclosing_price\u001b[0m\u001b[1;33m\u001b[0m\u001b[1;33m\u001b[0m\u001b[0m\n",
      "\u001b[1;32m~\\Anaconda3\\envs\\plaid-ml\\lib\\site-packages\\keras\\engine\\training.py\u001b[0m in \u001b[0;36mpredict\u001b[1;34m(self, x, batch_size, verbose, steps)\u001b[0m\n\u001b[0;32m   1147\u001b[0m                              'argument.')\n\u001b[0;32m   1148\u001b[0m         \u001b[1;31m# Validate user data.\u001b[0m\u001b[1;33m\u001b[0m\u001b[1;33m\u001b[0m\u001b[1;33m\u001b[0m\u001b[0m\n\u001b[1;32m-> 1149\u001b[1;33m         \u001b[0mx\u001b[0m\u001b[1;33m,\u001b[0m \u001b[0m_\u001b[0m\u001b[1;33m,\u001b[0m \u001b[0m_\u001b[0m \u001b[1;33m=\u001b[0m \u001b[0mself\u001b[0m\u001b[1;33m.\u001b[0m\u001b[0m_standardize_user_data\u001b[0m\u001b[1;33m(\u001b[0m\u001b[0mx\u001b[0m\u001b[1;33m)\u001b[0m\u001b[1;33m\u001b[0m\u001b[1;33m\u001b[0m\u001b[0m\n\u001b[0m\u001b[0;32m   1150\u001b[0m         \u001b[1;32mif\u001b[0m \u001b[0mself\u001b[0m\u001b[1;33m.\u001b[0m\u001b[0mstateful\u001b[0m\u001b[1;33m:\u001b[0m\u001b[1;33m\u001b[0m\u001b[1;33m\u001b[0m\u001b[0m\n\u001b[0;32m   1151\u001b[0m             \u001b[1;32mif\u001b[0m \u001b[0mx\u001b[0m\u001b[1;33m[\u001b[0m\u001b[1;36m0\u001b[0m\u001b[1;33m]\u001b[0m\u001b[1;33m.\u001b[0m\u001b[0mshape\u001b[0m\u001b[1;33m[\u001b[0m\u001b[1;36m0\u001b[0m\u001b[1;33m]\u001b[0m \u001b[1;33m>\u001b[0m \u001b[0mbatch_size\u001b[0m \u001b[1;32mand\u001b[0m \u001b[0mx\u001b[0m\u001b[1;33m[\u001b[0m\u001b[1;36m0\u001b[0m\u001b[1;33m]\u001b[0m\u001b[1;33m.\u001b[0m\u001b[0mshape\u001b[0m\u001b[1;33m[\u001b[0m\u001b[1;36m0\u001b[0m\u001b[1;33m]\u001b[0m \u001b[1;33m%\u001b[0m \u001b[0mbatch_size\u001b[0m \u001b[1;33m!=\u001b[0m \u001b[1;36m0\u001b[0m\u001b[1;33m:\u001b[0m\u001b[1;33m\u001b[0m\u001b[1;33m\u001b[0m\u001b[0m\n",
      "\u001b[1;32m~\\Anaconda3\\envs\\plaid-ml\\lib\\site-packages\\keras\\engine\\training.py\u001b[0m in \u001b[0;36m_standardize_user_data\u001b[1;34m(self, x, y, sample_weight, class_weight, check_array_lengths, batch_size)\u001b[0m\n\u001b[0;32m    744\u001b[0m \u001b[1;33m\u001b[0m\u001b[0m\n\u001b[0;32m    745\u001b[0m         \u001b[1;31m# Standardize the inputs.\u001b[0m\u001b[1;33m\u001b[0m\u001b[1;33m\u001b[0m\u001b[1;33m\u001b[0m\u001b[0m\n\u001b[1;32m--> 746\u001b[1;33m         x = standardize_input_data(\n\u001b[0m\u001b[0;32m    747\u001b[0m             \u001b[0mx\u001b[0m\u001b[1;33m,\u001b[0m\u001b[1;33m\u001b[0m\u001b[1;33m\u001b[0m\u001b[0m\n\u001b[0;32m    748\u001b[0m             \u001b[0mfeed_input_names\u001b[0m\u001b[1;33m,\u001b[0m\u001b[1;33m\u001b[0m\u001b[1;33m\u001b[0m\u001b[0m\n",
      "\u001b[1;32m~\\Anaconda3\\envs\\plaid-ml\\lib\\site-packages\\keras\\engine\\training_utils.py\u001b[0m in \u001b[0;36mstandardize_input_data\u001b[1;34m(data, names, shapes, check_batch_axis, exception_prefix)\u001b[0m\n\u001b[0;32m    132\u001b[0m                 \u001b[1;32mfor\u001b[0m \u001b[0mdim\u001b[0m\u001b[1;33m,\u001b[0m \u001b[0mref_dim\u001b[0m \u001b[1;32min\u001b[0m \u001b[0mzip\u001b[0m\u001b[1;33m(\u001b[0m\u001b[0mdata_shape\u001b[0m\u001b[1;33m,\u001b[0m \u001b[0mshape\u001b[0m\u001b[1;33m)\u001b[0m\u001b[1;33m:\u001b[0m\u001b[1;33m\u001b[0m\u001b[1;33m\u001b[0m\u001b[0m\n\u001b[0;32m    133\u001b[0m                     \u001b[1;32mif\u001b[0m \u001b[0mref_dim\u001b[0m \u001b[1;33m!=\u001b[0m \u001b[0mdim\u001b[0m \u001b[1;32mand\u001b[0m \u001b[0mref_dim\u001b[0m\u001b[1;33m:\u001b[0m\u001b[1;33m\u001b[0m\u001b[1;33m\u001b[0m\u001b[0m\n\u001b[1;32m--> 134\u001b[1;33m                         raise ValueError(\n\u001b[0m\u001b[0;32m    135\u001b[0m                             \u001b[1;34m'Error when checking '\u001b[0m \u001b[1;33m+\u001b[0m \u001b[0mexception_prefix\u001b[0m \u001b[1;33m+\u001b[0m\u001b[1;33m\u001b[0m\u001b[1;33m\u001b[0m\u001b[0m\n\u001b[0;32m    136\u001b[0m                             \u001b[1;34m': expected '\u001b[0m \u001b[1;33m+\u001b[0m \u001b[0mnames\u001b[0m\u001b[1;33m[\u001b[0m\u001b[0mi\u001b[0m\u001b[1;33m]\u001b[0m \u001b[1;33m+\u001b[0m \u001b[1;34m' to have shape '\u001b[0m \u001b[1;33m+\u001b[0m\u001b[1;33m\u001b[0m\u001b[1;33m\u001b[0m\u001b[0m\n",
      "\u001b[1;31mValueError\u001b[0m: Error when checking input: expected lstm_1_input to have shape (80, 1) but got array with shape (1, 1)"
     ]
    }
   ],
   "source": [
    "closing_price = LSTModel.predict(X_test)\n",
    "closing_price = sc.inverse_transform(closing_price)\n",
    "closing_price"
   ]
  },
  {
   "cell_type": "code",
   "execution_count": 19,
   "id": "bb00839e",
   "metadata": {},
   "outputs": [
    {
     "ename": "NameError",
     "evalue": "name 'y1' is not defined",
     "output_type": "error",
     "traceback": [
      "\u001b[1;31m---------------------------------------------------------------------------\u001b[0m",
      "\u001b[1;31mNameError\u001b[0m                                 Traceback (most recent call last)",
      "\u001b[1;32m<ipython-input-19-d574b7bb3385>\u001b[0m in \u001b[0;36m<module>\u001b[1;34m\u001b[0m\n\u001b[1;32m----> 1\u001b[1;33m \u001b[0mrms\u001b[0m\u001b[1;33m=\u001b[0m\u001b[0mnp\u001b[0m\u001b[1;33m.\u001b[0m\u001b[0msqrt\u001b[0m\u001b[1;33m(\u001b[0m\u001b[0mnp\u001b[0m\u001b[1;33m.\u001b[0m\u001b[0mmean\u001b[0m\u001b[1;33m(\u001b[0m\u001b[0mnp\u001b[0m\u001b[1;33m.\u001b[0m\u001b[0mpower\u001b[0m\u001b[1;33m(\u001b[0m\u001b[1;33m(\u001b[0m\u001b[0my1\u001b[0m\u001b[1;33m-\u001b[0m\u001b[0mclosing_price\u001b[0m\u001b[1;33m)\u001b[0m\u001b[1;33m,\u001b[0m\u001b[1;36m2\u001b[0m\u001b[1;33m)\u001b[0m\u001b[1;33m)\u001b[0m\u001b[1;33m)\u001b[0m\u001b[1;33m\u001b[0m\u001b[1;33m\u001b[0m\u001b[0m\n\u001b[0m\u001b[0;32m      2\u001b[0m \u001b[0mrms\u001b[0m\u001b[1;33m\u001b[0m\u001b[1;33m\u001b[0m\u001b[0m\n",
      "\u001b[1;31mNameError\u001b[0m: name 'y1' is not defined"
     ]
    }
   ],
   "source": [
    "rms=np.sqrt(np.mean(np.power((y1-closing_price),2)))\n",
    "rms"
   ]
  }
 ],
 "metadata": {
  "kernelspec": {
   "display_name": "Python 3",
   "language": "python",
   "name": "python3"
  },
  "language_info": {
   "codemirror_mode": {
    "name": "ipython",
    "version": 3
   },
   "file_extension": ".py",
   "mimetype": "text/x-python",
   "name": "python",
   "nbconvert_exporter": "python",
   "pygments_lexer": "ipython3",
   "version": "3.8.10"
  }
 },
 "nbformat": 4,
 "nbformat_minor": 5
}
