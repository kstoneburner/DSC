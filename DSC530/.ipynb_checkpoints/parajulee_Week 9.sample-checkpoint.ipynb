{
 "cells": [
  {
   "cell_type": "markdown",
   "metadata": {},
   "source": [
    "# Examples and Exercises from Think Stats, 2nd Edition\n",
    "\n",
    "http://thinkstats2.com\n",
    "\n",
    "Copyright 2016 Allen B. Downey\n",
    "\n",
    "MIT License: https://opensource.org/licenses/MIT\n"
   ]
  },
  {
   "cell_type": "code",
   "execution_count": 1,
   "metadata": {},
   "outputs": [],
   "source": [
    "from __future__ import print_function, division\n",
    "\n",
    "%matplotlib inline\n",
    "\n",
    "import numpy as np\n",
    "import pandas as pd\n",
    "\n",
    "import random\n",
    "\n",
    "import thinkstats2\n",
    "import thinkplot"
   ]
  },
  {
   "cell_type": "markdown",
   "metadata": {
    "collapsed": true
   },
   "source": [
    "## Exercises"
   ]
  },
  {
   "cell_type": "markdown",
   "metadata": {
    "collapsed": true
   },
   "source": [
    "**Exercise 11.1:** Suppose one of your co-workers is expecting a baby and you are participating in an office pool to predict the date of birth. Assuming that bets are placed during the 30th week of pregnancy, what variables could you use to make the best prediction? You should limit yourself to variables that are known before the birth, and likely to be available to the people in the pool."
   ]
  },
  {
   "cell_type": "code",
   "execution_count": 2,
   "metadata": {},
   "outputs": [],
   "source": [
    "import first\n",
    "live, firsts, others = first.MakeFrames()\n",
    "live = live[live.prglngth>30]"
   ]
  },
  {
   "cell_type": "markdown",
   "metadata": {},
   "source": [
    "The following are the only variables I found that have a statistically significant effect on pregnancy length."
   ]
  },
  {
   "cell_type": "code",
   "execution_count": 3,
   "metadata": {},
   "outputs": [
    {
     "data": {
      "text/html": [
       "<table class=\"simpletable\">\n",
       "<caption>OLS Regression Results</caption>\n",
       "<tr>\n",
       "  <th>Dep. Variable:</th>        <td>prglngth</td>     <th>  R-squared:         </th> <td>   0.011</td> \n",
       "</tr>\n",
       "<tr>\n",
       "  <th>Model:</th>                   <td>OLS</td>       <th>  Adj. R-squared:    </th> <td>   0.010</td> \n",
       "</tr>\n",
       "<tr>\n",
       "  <th>Method:</th>             <td>Least Squares</td>  <th>  F-statistic:       </th> <td>   31.55</td> \n",
       "</tr>\n",
       "<tr>\n",
       "  <th>Date:</th>             <td>Sun, 01 Nov 2020</td> <th>  Prob (F-statistic):</th> <td>2.82e-20</td> \n",
       "</tr>\n",
       "<tr>\n",
       "  <th>Time:</th>                 <td>12:33:12</td>     <th>  Log-Likelihood:    </th> <td> -18252.</td> \n",
       "</tr>\n",
       "<tr>\n",
       "  <th>No. Observations:</th>      <td>  8884</td>      <th>  AIC:               </th> <td>3.651e+04</td>\n",
       "</tr>\n",
       "<tr>\n",
       "  <th>Df Residuals:</th>          <td>  8880</td>      <th>  BIC:               </th> <td>3.654e+04</td>\n",
       "</tr>\n",
       "<tr>\n",
       "  <th>Df Model:</th>              <td>     3</td>      <th>                     </th>     <td> </td>    \n",
       "</tr>\n",
       "<tr>\n",
       "  <th>Covariance Type:</th>      <td>nonrobust</td>    <th>                     </th>     <td> </td>    \n",
       "</tr>\n",
       "</table>\n",
       "<table class=\"simpletable\">\n",
       "<tr>\n",
       "            <td></td>              <th>coef</th>     <th>std err</th>      <th>t</th>      <th>P>|t|</th>  <th>[0.025</th>    <th>0.975]</th>  \n",
       "</tr>\n",
       "<tr>\n",
       "  <th>Intercept</th>            <td>   38.9473</td> <td>    0.025</td> <td> 1549.158</td> <td> 0.000</td> <td>   38.898</td> <td>   38.997</td>\n",
       "</tr>\n",
       "<tr>\n",
       "  <th>birthord > 2[T.True]</th> <td>   -0.0711</td> <td>    0.050</td> <td>   -1.423</td> <td> 0.155</td> <td>   -0.169</td> <td>    0.027</td>\n",
       "</tr>\n",
       "<tr>\n",
       "  <th>race == 1[T.True]</th>    <td>   -0.1229</td> <td>    0.046</td> <td>   -2.689</td> <td> 0.007</td> <td>   -0.212</td> <td>   -0.033</td>\n",
       "</tr>\n",
       "<tr>\n",
       "  <th>nbrnaliv > 1[T.True]</th> <td>   -1.4962</td> <td>    0.165</td> <td>   -9.092</td> <td> 0.000</td> <td>   -1.819</td> <td>   -1.174</td>\n",
       "</tr>\n",
       "</table>\n",
       "<table class=\"simpletable\">\n",
       "<tr>\n",
       "  <th>Omnibus:</th>       <td>1569.474</td> <th>  Durbin-Watson:     </th> <td>   1.621</td>\n",
       "</tr>\n",
       "<tr>\n",
       "  <th>Prob(Omnibus):</th>  <td> 0.000</td>  <th>  Jarque-Bera (JB):  </th> <td>6083.936</td>\n",
       "</tr>\n",
       "<tr>\n",
       "  <th>Skew:</th>           <td>-0.842</td>  <th>  Prob(JB):          </th> <td>    0.00</td>\n",
       "</tr>\n",
       "<tr>\n",
       "  <th>Kurtosis:</th>       <td> 6.688</td>  <th>  Cond. No.          </th> <td>    8.75</td>\n",
       "</tr>\n",
       "</table><br/><br/>Warnings:<br/>[1] Standard Errors assume that the covariance matrix of the errors is correctly specified."
      ],
      "text/plain": [
       "<class 'statsmodels.iolib.summary.Summary'>\n",
       "\"\"\"\n",
       "                            OLS Regression Results                            \n",
       "==============================================================================\n",
       "Dep. Variable:               prglngth   R-squared:                       0.011\n",
       "Model:                            OLS   Adj. R-squared:                  0.010\n",
       "Method:                 Least Squares   F-statistic:                     31.55\n",
       "Date:                Sun, 01 Nov 2020   Prob (F-statistic):           2.82e-20\n",
       "Time:                        12:33:12   Log-Likelihood:                -18252.\n",
       "No. Observations:                8884   AIC:                         3.651e+04\n",
       "Df Residuals:                    8880   BIC:                         3.654e+04\n",
       "Df Model:                           3                                         \n",
       "Covariance Type:            nonrobust                                         \n",
       "========================================================================================\n",
       "                           coef    std err          t      P>|t|      [0.025      0.975]\n",
       "----------------------------------------------------------------------------------------\n",
       "Intercept               38.9473      0.025   1549.158      0.000      38.898      38.997\n",
       "birthord > 2[T.True]    -0.0711      0.050     -1.423      0.155      -0.169       0.027\n",
       "race == 1[T.True]       -0.1229      0.046     -2.689      0.007      -0.212      -0.033\n",
       "nbrnaliv > 1[T.True]    -1.4962      0.165     -9.092      0.000      -1.819      -1.174\n",
       "==============================================================================\n",
       "Omnibus:                     1569.474   Durbin-Watson:                   1.621\n",
       "Prob(Omnibus):                  0.000   Jarque-Bera (JB):             6083.936\n",
       "Skew:                          -0.842   Prob(JB):                         0.00\n",
       "Kurtosis:                       6.688   Cond. No.                         8.75\n",
       "==============================================================================\n",
       "\n",
       "Warnings:\n",
       "[1] Standard Errors assume that the covariance matrix of the errors is correctly specified.\n",
       "\"\"\""
      ]
     },
     "execution_count": 3,
     "metadata": {},
     "output_type": "execute_result"
    }
   ],
   "source": [
    "import statsmodels.formula.api as smf\n",
    "model_prglngth = smf.ols('prglngth ~ birthord>2 + race==1 + nbrnaliv>1', data=live)\n",
    "results_prglngth = model_prglngth.fit()\n",
    "results_prglngth.summary()"
   ]
  },
  {
   "cell_type": "code",
   "execution_count": 4,
   "metadata": {},
   "outputs": [
    {
     "name": "stdout",
     "output_type": "stream",
     "text": [
      "Predicted pregnancy length for the suggested office colleague: 38.824476674243634 weeks\n"
     ]
    }
   ],
   "source": [
    "# Assuming office colleague's second pregnancy, race as black and number of kids to be born = 1\n",
    "\n",
    "columns = ['birthord', 'race', 'nbrnaliv']\n",
    "new_prglngth = pd.DataFrame([[2, 1, 1]], columns=columns)\n",
    "pred_prglngth = results_prglngth.predict(new_prglngth)\n",
    "\n",
    "print(f\"Predicted pregnancy length for the suggested office colleague: {pred_prglngth[0]} weeks\")"
   ]
  },
  {
   "cell_type": "markdown",
   "metadata": {},
   "source": [
    "**So, looking at above results, if we consider Halloween day (10/31/2020) as 30 weeks completion, the new baby would be expected to be born in 8.82 weeks time i.e. on New year's day (01/01/2021)**"
   ]
  },
  {
   "cell_type": "markdown",
   "metadata": {},
   "source": [
    "**Exercise 11.3:** If the quantity you want to predict is a count, you can use Poisson regression, which is implemented in StatsModels with a function called `poisson`. It works the same way as `ols` and `logit`. As an exercise, let’s use it to predict how many children a woman has born; in the NSFG dataset, this variable is called `numbabes`.\n",
    "\n",
    "Suppose you meet a woman who is 35 years old, black, and a college graduate whose annual household income exceeds $75,000. How many children would you predict she has born?"
   ]
  },
  {
   "cell_type": "code",
   "execution_count": 5,
   "metadata": {},
   "outputs": [],
   "source": [
    "import nsfg\n",
    "\n",
    "live = live[live.prglngth>30]\n",
    "resp = nsfg.ReadFemResp()\n",
    "resp.index = resp.caseid\n",
    "join = live.join(resp, on='caseid', rsuffix='_r')\n",
    "\n",
    "numbabes_df = join.dropna(subset=[\"numbabes\"])"
   ]
  },
  {
   "cell_type": "code",
   "execution_count": 6,
   "metadata": {},
   "outputs": [
    {
     "name": "stdout",
     "output_type": "stream",
     "text": [
      "Optimization terminated successfully.\n",
      "         Current function value: 1.687055\n",
      "         Iterations 5\n"
     ]
    },
    {
     "data": {
      "text/html": [
       "<table class=\"simpletable\">\n",
       "<caption>Poisson Regression Results</caption>\n",
       "<tr>\n",
       "  <th>Dep. Variable:</th>       <td>numbabes</td>     <th>  No. Observations:  </th>   <td>  8884</td>  \n",
       "</tr>\n",
       "<tr>\n",
       "  <th>Model:</th>                <td>Poisson</td>     <th>  Df Residuals:      </th>   <td>  8878</td>  \n",
       "</tr>\n",
       "<tr>\n",
       "  <th>Method:</th>                 <td>MLE</td>       <th>  Df Model:          </th>   <td>     5</td>  \n",
       "</tr>\n",
       "<tr>\n",
       "  <th>Date:</th>            <td>Sun, 01 Nov 2020</td> <th>  Pseudo R-squ.:     </th>   <td>0.03109</td> \n",
       "</tr>\n",
       "<tr>\n",
       "  <th>Time:</th>                <td>12:33:32</td>     <th>  Log-Likelihood:    </th>  <td> -14988.</td> \n",
       "</tr>\n",
       "<tr>\n",
       "  <th>converged:</th>             <td>True</td>       <th>  LL-Null:           </th>  <td> -15469.</td> \n",
       "</tr>\n",
       "<tr>\n",
       "  <th>Covariance Type:</th>     <td>nonrobust</td>    <th>  LLR p-value:       </th> <td>1.106e-205</td>\n",
       "</tr>\n",
       "</table>\n",
       "<table class=\"simpletable\">\n",
       "<tr>\n",
       "        <td></td>          <th>coef</th>     <th>std err</th>      <th>z</th>      <th>P>|z|</th>  <th>[0.025</th>    <th>0.975]</th>  \n",
       "</tr>\n",
       "<tr>\n",
       "  <th>Intercept</th>    <td>    1.0842</td> <td>    0.045</td> <td>   23.995</td> <td> 0.000</td> <td>    0.996</td> <td>    1.173</td>\n",
       "</tr>\n",
       "<tr>\n",
       "  <th>C(race)[T.2]</th> <td>   -0.1398</td> <td>    0.015</td> <td>   -9.464</td> <td> 0.000</td> <td>   -0.169</td> <td>   -0.111</td>\n",
       "</tr>\n",
       "<tr>\n",
       "  <th>C(race)[T.3]</th> <td>   -0.0914</td> <td>    0.025</td> <td>   -3.717</td> <td> 0.000</td> <td>   -0.140</td> <td>   -0.043</td>\n",
       "</tr>\n",
       "<tr>\n",
       "  <th>age_r</th>        <td>    0.0208</td> <td>    0.001</td> <td>   20.474</td> <td> 0.000</td> <td>    0.019</td> <td>    0.023</td>\n",
       "</tr>\n",
       "<tr>\n",
       "  <th>totincr</th>      <td>   -0.0179</td> <td>    0.002</td> <td>   -9.442</td> <td> 0.000</td> <td>   -0.022</td> <td>   -0.014</td>\n",
       "</tr>\n",
       "<tr>\n",
       "  <th>educat</th>       <td>   -0.0443</td> <td>    0.003</td> <td>  -15.139</td> <td> 0.000</td> <td>   -0.050</td> <td>   -0.039</td>\n",
       "</tr>\n",
       "</table>"
      ],
      "text/plain": [
       "<class 'statsmodels.iolib.summary.Summary'>\n",
       "\"\"\"\n",
       "                          Poisson Regression Results                          \n",
       "==============================================================================\n",
       "Dep. Variable:               numbabes   No. Observations:                 8884\n",
       "Model:                        Poisson   Df Residuals:                     8878\n",
       "Method:                           MLE   Df Model:                            5\n",
       "Date:                Sun, 01 Nov 2020   Pseudo R-squ.:                 0.03109\n",
       "Time:                        12:33:32   Log-Likelihood:                -14988.\n",
       "converged:                       True   LL-Null:                       -15469.\n",
       "Covariance Type:            nonrobust   LLR p-value:                1.106e-205\n",
       "================================================================================\n",
       "                   coef    std err          z      P>|z|      [0.025      0.975]\n",
       "--------------------------------------------------------------------------------\n",
       "Intercept        1.0842      0.045     23.995      0.000       0.996       1.173\n",
       "C(race)[T.2]    -0.1398      0.015     -9.464      0.000      -0.169      -0.111\n",
       "C(race)[T.3]    -0.0914      0.025     -3.717      0.000      -0.140      -0.043\n",
       "age_r            0.0208      0.001     20.474      0.000       0.019       0.023\n",
       "totincr         -0.0179      0.002     -9.442      0.000      -0.022      -0.014\n",
       "educat          -0.0443      0.003    -15.139      0.000      -0.050      -0.039\n",
       "================================================================================\n",
       "\"\"\""
      ]
     },
     "execution_count": 6,
     "metadata": {},
     "output_type": "execute_result"
    }
   ],
   "source": [
    "# Variables used for predictions -> age, race, total income and education\n",
    "\n",
    "numbabes_df.head()\n",
    "\n",
    "formula='numbabes ~ age_r + C(race) + totincr + educat'\n",
    "\n",
    "model_babes = smf.poisson(formula, data=join)\n",
    "results_babes = model_babes.fit()\n",
    "results_babes.summary()"
   ]
  },
  {
   "cell_type": "markdown",
   "metadata": {},
   "source": [
    "Now we can predict the number of children for a woman who is 35 years old, black, and a college\n",
    "graduate whose annual household income exceeds $75,000"
   ]
  },
  {
   "cell_type": "code",
   "execution_count": 7,
   "metadata": {},
   "outputs": [
    {
     "name": "stdout",
     "output_type": "stream",
     "text": [
      "Predicted number of children for the suggested office colleague: 2.3421823755364537\n"
     ]
    }
   ],
   "source": [
    "columns = ['age_r', 'race', 'totincr', 'educat']\n",
    "pred_df = pd.DataFrame([[35, 1, 14, 16]], columns=columns)\n",
    "pred_babes = results_babes.predict(pred_df)\n",
    "print(f\"Predicted number of children for the suggested office colleague: {pred_babes[0]}\")"
   ]
  },
  {
   "cell_type": "markdown",
   "metadata": {},
   "source": [
    "**Looking at above results, predicted number of children for the woman with aforementioned attributes would be approx 2.34 which we can round off to 2 children on an average**"
   ]
  },
  {
   "cell_type": "markdown",
   "metadata": {},
   "source": [
    "**Exercise 11.4:** If the quantity you want to predict is categorical, you can use multinomial logistic regression, which is implemented in StatsModels with a function called `mnlogit`. As an exercise, let’s use it to guess whether a woman is married, cohabitating, widowed, divorced, separated, or never married; in the NSFG dataset, marital status is encoded in a variable called `rmarital`.\n",
    "\n",
    "Suppose you meet a woman who is 25 years old, white, and a high school graduate whose annual household income is about $45,000. What is the probability that she is married, cohabitating, etc?"
   ]
  },
  {
   "cell_type": "code",
   "execution_count": 8,
   "metadata": {
    "scrolled": true
   },
   "outputs": [
    {
     "name": "stdout",
     "output_type": "stream",
     "text": [
      "Optimization terminated successfully.\n",
      "         Current function value: 1.087603\n",
      "         Iterations 8\n"
     ]
    },
    {
     "data": {
      "text/html": [
       "<table class=\"simpletable\">\n",
       "<caption>MNLogit Regression Results</caption>\n",
       "<tr>\n",
       "  <th>Dep. Variable:</th>       <td>rmarital</td>     <th>  No. Observations:  </th>  <td>  8884</td> \n",
       "</tr>\n",
       "<tr>\n",
       "  <th>Model:</th>                <td>MNLogit</td>     <th>  Df Residuals:      </th>  <td>  8854</td> \n",
       "</tr>\n",
       "<tr>\n",
       "  <th>Method:</th>                 <td>MLE</td>       <th>  Df Model:          </th>  <td>    25</td> \n",
       "</tr>\n",
       "<tr>\n",
       "  <th>Date:</th>            <td>Sun, 01 Nov 2020</td> <th>  Pseudo R-squ.:     </th>  <td>0.1655</td> \n",
       "</tr>\n",
       "<tr>\n",
       "  <th>Time:</th>                <td>12:33:33</td>     <th>  Log-Likelihood:    </th> <td> -9662.3</td>\n",
       "</tr>\n",
       "<tr>\n",
       "  <th>converged:</th>             <td>True</td>       <th>  LL-Null:           </th> <td> -11579.</td>\n",
       "</tr>\n",
       "<tr>\n",
       "  <th>Covariance Type:</th>     <td>nonrobust</td>    <th>  LLR p-value:       </th>  <td> 0.000</td> \n",
       "</tr>\n",
       "</table>\n",
       "<table class=\"simpletable\">\n",
       "<tr>\n",
       "   <th>rmarital=2</th>     <th>coef</th>     <th>std err</th>      <th>z</th>      <th>P>|z|</th>  <th>[0.025</th>    <th>0.975]</th>  \n",
       "</tr>\n",
       "<tr>\n",
       "  <th>Intercept</th>    <td>    4.4532</td> <td>    0.279</td> <td>   15.977</td> <td> 0.000</td> <td>    3.907</td> <td>    5.000</td>\n",
       "</tr>\n",
       "<tr>\n",
       "  <th>C(race)[T.2]</th> <td>   -0.9219</td> <td>    0.089</td> <td>  -10.409</td> <td> 0.000</td> <td>   -1.095</td> <td>   -0.748</td>\n",
       "</tr>\n",
       "<tr>\n",
       "  <th>C(race)[T.3]</th> <td>   -0.6334</td> <td>    0.136</td> <td>   -4.674</td> <td> 0.000</td> <td>   -0.899</td> <td>   -0.368</td>\n",
       "</tr>\n",
       "<tr>\n",
       "  <th>age_r</th>        <td>   -0.0570</td> <td>    0.006</td> <td>   -9.754</td> <td> 0.000</td> <td>   -0.068</td> <td>   -0.046</td>\n",
       "</tr>\n",
       "<tr>\n",
       "  <th>totincr</th>      <td>   -0.1302</td> <td>    0.012</td> <td>  -11.298</td> <td> 0.000</td> <td>   -0.153</td> <td>   -0.108</td>\n",
       "</tr>\n",
       "<tr>\n",
       "  <th>educat</th>       <td>   -0.2051</td> <td>    0.019</td> <td>  -11.017</td> <td> 0.000</td> <td>   -0.242</td> <td>   -0.169</td>\n",
       "</tr>\n",
       "<tr>\n",
       "   <th>rmarital=3</th>     <th>coef</th>     <th>std err</th>      <th>z</th>      <th>P>|z|</th>  <th>[0.025</th>    <th>0.975]</th>  \n",
       "</tr>\n",
       "<tr>\n",
       "  <th>Intercept</th>    <td>   -4.5432</td> <td>    0.916</td> <td>   -4.960</td> <td> 0.000</td> <td>   -6.338</td> <td>   -2.748</td>\n",
       "</tr>\n",
       "<tr>\n",
       "  <th>C(race)[T.2]</th> <td>   -0.4405</td> <td>    0.236</td> <td>   -1.865</td> <td> 0.062</td> <td>   -0.904</td> <td>    0.023</td>\n",
       "</tr>\n",
       "<tr>\n",
       "  <th>C(race)[T.3]</th> <td>    0.0329</td> <td>    0.335</td> <td>    0.098</td> <td> 0.922</td> <td>   -0.623</td> <td>    0.689</td>\n",
       "</tr>\n",
       "<tr>\n",
       "  <th>age_r</th>        <td>    0.1301</td> <td>    0.019</td> <td>    6.833</td> <td> 0.000</td> <td>    0.093</td> <td>    0.167</td>\n",
       "</tr>\n",
       "<tr>\n",
       "  <th>totincr</th>      <td>   -0.3251</td> <td>    0.032</td> <td>  -10.182</td> <td> 0.000</td> <td>   -0.388</td> <td>   -0.263</td>\n",
       "</tr>\n",
       "<tr>\n",
       "  <th>educat</th>       <td>   -0.1010</td> <td>    0.048</td> <td>   -2.100</td> <td> 0.036</td> <td>   -0.195</td> <td>   -0.007</td>\n",
       "</tr>\n",
       "<tr>\n",
       "   <th>rmarital=4</th>     <th>coef</th>     <th>std err</th>      <th>z</th>      <th>P>|z|</th>  <th>[0.025</th>    <th>0.975]</th>  \n",
       "</tr>\n",
       "<tr>\n",
       "  <th>Intercept</th>    <td>   -2.6485</td> <td>    0.302</td> <td>   -8.783</td> <td> 0.000</td> <td>   -3.239</td> <td>   -2.057</td>\n",
       "</tr>\n",
       "<tr>\n",
       "  <th>C(race)[T.2]</th> <td>   -0.3188</td> <td>    0.093</td> <td>   -3.417</td> <td> 0.001</td> <td>   -0.502</td> <td>   -0.136</td>\n",
       "</tr>\n",
       "<tr>\n",
       "  <th>C(race)[T.3]</th> <td>   -0.7664</td> <td>    0.171</td> <td>   -4.485</td> <td> 0.000</td> <td>   -1.101</td> <td>   -0.431</td>\n",
       "</tr>\n",
       "<tr>\n",
       "  <th>age_r</th>        <td>    0.0641</td> <td>    0.007</td> <td>    9.817</td> <td> 0.000</td> <td>    0.051</td> <td>    0.077</td>\n",
       "</tr>\n",
       "<tr>\n",
       "  <th>totincr</th>      <td>   -0.2270</td> <td>    0.012</td> <td>  -19.588</td> <td> 0.000</td> <td>   -0.250</td> <td>   -0.204</td>\n",
       "</tr>\n",
       "<tr>\n",
       "  <th>educat</th>       <td>    0.0673</td> <td>    0.017</td> <td>    4.036</td> <td> 0.000</td> <td>    0.035</td> <td>    0.100</td>\n",
       "</tr>\n",
       "<tr>\n",
       "   <th>rmarital=5</th>     <th>coef</th>     <th>std err</th>      <th>z</th>      <th>P>|z|</th>  <th>[0.025</th>    <th>0.975]</th>  \n",
       "</tr>\n",
       "<tr>\n",
       "  <th>Intercept</th>    <td>    0.8231</td> <td>    0.345</td> <td>    2.385</td> <td> 0.017</td> <td>    0.147</td> <td>    1.500</td>\n",
       "</tr>\n",
       "<tr>\n",
       "  <th>C(race)[T.2]</th> <td>   -1.0491</td> <td>    0.104</td> <td>  -10.125</td> <td> 0.000</td> <td>   -1.252</td> <td>   -0.846</td>\n",
       "</tr>\n",
       "<tr>\n",
       "  <th>C(race)[T.3]</th> <td>   -0.5644</td> <td>    0.156</td> <td>   -3.624</td> <td> 0.000</td> <td>   -0.870</td> <td>   -0.259</td>\n",
       "</tr>\n",
       "<tr>\n",
       "  <th>age_r</th>        <td>    0.0063</td> <td>    0.007</td> <td>    0.872</td> <td> 0.383</td> <td>   -0.008</td> <td>    0.020</td>\n",
       "</tr>\n",
       "<tr>\n",
       "  <th>totincr</th>      <td>   -0.2923</td> <td>    0.015</td> <td>  -20.149</td> <td> 0.000</td> <td>   -0.321</td> <td>   -0.264</td>\n",
       "</tr>\n",
       "<tr>\n",
       "  <th>educat</th>       <td>   -0.0136</td> <td>    0.021</td> <td>   -0.639</td> <td> 0.523</td> <td>   -0.056</td> <td>    0.028</td>\n",
       "</tr>\n",
       "<tr>\n",
       "   <th>rmarital=6</th>     <th>coef</th>     <th>std err</th>      <th>z</th>      <th>P>|z|</th>  <th>[0.025</th>    <th>0.975]</th>  \n",
       "</tr>\n",
       "<tr>\n",
       "  <th>Intercept</th>    <td>    6.2370</td> <td>    0.275</td> <td>   22.654</td> <td> 0.000</td> <td>    5.697</td> <td>    6.777</td>\n",
       "</tr>\n",
       "<tr>\n",
       "  <th>C(race)[T.2]</th> <td>   -2.1831</td> <td>    0.080</td> <td>  -27.200</td> <td> 0.000</td> <td>   -2.340</td> <td>   -2.026</td>\n",
       "</tr>\n",
       "<tr>\n",
       "  <th>C(race)[T.3]</th> <td>   -1.9645</td> <td>    0.138</td> <td>  -14.246</td> <td> 0.000</td> <td>   -2.235</td> <td>   -1.694</td>\n",
       "</tr>\n",
       "<tr>\n",
       "  <th>age_r</th>        <td>   -0.0925</td> <td>    0.006</td> <td>  -16.121</td> <td> 0.000</td> <td>   -0.104</td> <td>   -0.081</td>\n",
       "</tr>\n",
       "<tr>\n",
       "  <th>totincr</th>      <td>   -0.2944</td> <td>    0.012</td> <td>  -25.343</td> <td> 0.000</td> <td>   -0.317</td> <td>   -0.272</td>\n",
       "</tr>\n",
       "<tr>\n",
       "  <th>educat</th>       <td>   -0.0777</td> <td>    0.018</td> <td>   -4.386</td> <td> 0.000</td> <td>   -0.112</td> <td>   -0.043</td>\n",
       "</tr>\n",
       "</table>"
      ],
      "text/plain": [
       "<class 'statsmodels.iolib.summary.Summary'>\n",
       "\"\"\"\n",
       "                          MNLogit Regression Results                          \n",
       "==============================================================================\n",
       "Dep. Variable:               rmarital   No. Observations:                 8884\n",
       "Model:                        MNLogit   Df Residuals:                     8854\n",
       "Method:                           MLE   Df Model:                           25\n",
       "Date:                Sun, 01 Nov 2020   Pseudo R-squ.:                  0.1655\n",
       "Time:                        12:33:33   Log-Likelihood:                -9662.3\n",
       "converged:                       True   LL-Null:                       -11579.\n",
       "Covariance Type:            nonrobust   LLR p-value:                     0.000\n",
       "================================================================================\n",
       "  rmarital=2       coef    std err          z      P>|z|      [0.025      0.975]\n",
       "--------------------------------------------------------------------------------\n",
       "Intercept        4.4532      0.279     15.977      0.000       3.907       5.000\n",
       "C(race)[T.2]    -0.9219      0.089    -10.409      0.000      -1.095      -0.748\n",
       "C(race)[T.3]    -0.6334      0.136     -4.674      0.000      -0.899      -0.368\n",
       "age_r           -0.0570      0.006     -9.754      0.000      -0.068      -0.046\n",
       "totincr         -0.1302      0.012    -11.298      0.000      -0.153      -0.108\n",
       "educat          -0.2051      0.019    -11.017      0.000      -0.242      -0.169\n",
       "--------------------------------------------------------------------------------\n",
       "  rmarital=3       coef    std err          z      P>|z|      [0.025      0.975]\n",
       "--------------------------------------------------------------------------------\n",
       "Intercept       -4.5432      0.916     -4.960      0.000      -6.338      -2.748\n",
       "C(race)[T.2]    -0.4405      0.236     -1.865      0.062      -0.904       0.023\n",
       "C(race)[T.3]     0.0329      0.335      0.098      0.922      -0.623       0.689\n",
       "age_r            0.1301      0.019      6.833      0.000       0.093       0.167\n",
       "totincr         -0.3251      0.032    -10.182      0.000      -0.388      -0.263\n",
       "educat          -0.1010      0.048     -2.100      0.036      -0.195      -0.007\n",
       "--------------------------------------------------------------------------------\n",
       "  rmarital=4       coef    std err          z      P>|z|      [0.025      0.975]\n",
       "--------------------------------------------------------------------------------\n",
       "Intercept       -2.6485      0.302     -8.783      0.000      -3.239      -2.057\n",
       "C(race)[T.2]    -0.3188      0.093     -3.417      0.001      -0.502      -0.136\n",
       "C(race)[T.3]    -0.7664      0.171     -4.485      0.000      -1.101      -0.431\n",
       "age_r            0.0641      0.007      9.817      0.000       0.051       0.077\n",
       "totincr         -0.2270      0.012    -19.588      0.000      -0.250      -0.204\n",
       "educat           0.0673      0.017      4.036      0.000       0.035       0.100\n",
       "--------------------------------------------------------------------------------\n",
       "  rmarital=5       coef    std err          z      P>|z|      [0.025      0.975]\n",
       "--------------------------------------------------------------------------------\n",
       "Intercept        0.8231      0.345      2.385      0.017       0.147       1.500\n",
       "C(race)[T.2]    -1.0491      0.104    -10.125      0.000      -1.252      -0.846\n",
       "C(race)[T.3]    -0.5644      0.156     -3.624      0.000      -0.870      -0.259\n",
       "age_r            0.0063      0.007      0.872      0.383      -0.008       0.020\n",
       "totincr         -0.2923      0.015    -20.149      0.000      -0.321      -0.264\n",
       "educat          -0.0136      0.021     -0.639      0.523      -0.056       0.028\n",
       "--------------------------------------------------------------------------------\n",
       "  rmarital=6       coef    std err          z      P>|z|      [0.025      0.975]\n",
       "--------------------------------------------------------------------------------\n",
       "Intercept        6.2370      0.275     22.654      0.000       5.697       6.777\n",
       "C(race)[T.2]    -2.1831      0.080    -27.200      0.000      -2.340      -2.026\n",
       "C(race)[T.3]    -1.9645      0.138    -14.246      0.000      -2.235      -1.694\n",
       "age_r           -0.0925      0.006    -16.121      0.000      -0.104      -0.081\n",
       "totincr         -0.2944      0.012    -25.343      0.000      -0.317      -0.272\n",
       "educat          -0.0777      0.018     -4.386      0.000      -0.112      -0.043\n",
       "================================================================================\n",
       "\"\"\""
      ]
     },
     "execution_count": 8,
     "metadata": {},
     "output_type": "execute_result"
    }
   ],
   "source": [
    "# Variables used for predictions -> age, race, total income and education\n",
    "\n",
    "formula='rmarital ~ age_r + C(race) + totincr + educat'\n",
    "model = smf.mnlogit(formula, data=join)\n",
    "results = model.fit()\n",
    "results.summary() "
   ]
  },
  {
   "cell_type": "markdown",
   "metadata": {},
   "source": [
    "Make a prediction for a woman who is 25 years old, white, and a high\n",
    "school graduate whose annual household income is about $45,000."
   ]
  },
  {
   "cell_type": "code",
   "execution_count": 9,
   "metadata": {},
   "outputs": [
    {
     "data": {
      "text/html": [
       "<div>\n",
       "<style scoped>\n",
       "    .dataframe tbody tr th:only-of-type {\n",
       "        vertical-align: middle;\n",
       "    }\n",
       "\n",
       "    .dataframe tbody tr th {\n",
       "        vertical-align: top;\n",
       "    }\n",
       "\n",
       "    .dataframe thead th {\n",
       "        text-align: right;\n",
       "    }\n",
       "</style>\n",
       "<table border=\"1\" class=\"dataframe\">\n",
       "  <thead>\n",
       "    <tr style=\"text-align: right;\">\n",
       "      <th></th>\n",
       "      <th>0</th>\n",
       "      <th>1</th>\n",
       "      <th>2</th>\n",
       "      <th>3</th>\n",
       "      <th>4</th>\n",
       "      <th>5</th>\n",
       "    </tr>\n",
       "  </thead>\n",
       "  <tbody>\n",
       "    <tr>\n",
       "      <th>0</th>\n",
       "      <td>0.748384</td>\n",
       "      <td>0.125474</td>\n",
       "      <td>0.001103</td>\n",
       "      <td>0.035295</td>\n",
       "      <td>0.023813</td>\n",
       "      <td>0.065931</td>\n",
       "    </tr>\n",
       "  </tbody>\n",
       "</table>\n",
       "</div>"
      ],
      "text/plain": [
       "          0         1         2         3         4         5\n",
       "0  0.748384  0.125474  0.001103  0.035295  0.023813  0.065931"
      ]
     },
     "execution_count": 9,
     "metadata": {},
     "output_type": "execute_result"
    }
   ],
   "source": [
    "columns = ['age_r', 'race', 'totincr', 'educat']\n",
    "new = pd.DataFrame([[25, 2, 11, 12]], columns=columns)\n",
    "results.predict(new)"
   ]
  },
  {
   "cell_type": "markdown",
   "metadata": {},
   "source": [
    "**Looking at above results, predicted marital status for the woman with aforementioned attributes would be - approx 74.83% chance for being married, approx 12.55% chance of being unmarried but living with opposite sex partner, 0.11% chance of being widowed, 3.53% chance of being divorced, 2.38% chance of being separated from spouse due to not getting along and 6.59% chance of never been married. Thus chances of being married or living with partner are higher at 25 years age and lower chances for being separated from partner, as expected.**"
   ]
  }
 ],
 "metadata": {
  "kernelspec": {
   "display_name": "Python 3",
   "language": "python",
   "name": "python3"
  },
  "language_info": {
   "codemirror_mode": {
    "name": "ipython",
    "version": 3
   },
   "file_extension": ".py",
   "mimetype": "text/x-python",
   "name": "python",
   "nbconvert_exporter": "python",
   "pygments_lexer": "ipython3",
   "version": "3.8.3"
  }
 },
 "nbformat": 4,
 "nbformat_minor": 1
}
