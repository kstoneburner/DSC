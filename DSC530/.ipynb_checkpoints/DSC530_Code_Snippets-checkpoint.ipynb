{
 "cells": [
  {
   "cell_type": "markdown",
   "metadata": {},
   "source": [
    "# DSC 530 Code Snippets\n"
   ]
  },
  {
   "cell_type": "code",
   "execution_count": null,
   "metadata": {},
   "outputs": [],
   "source": [
    "# //**** Mapping Values\n",
    "id_map = {}\n",
    "n = 1\n",
    "for user in people.unique():\n",
    "    id_map[user] = n\n",
    "    n += 1"
   ]
  },
  {
   "cell_type": "code",
   "execution_count": null,
   "metadata": {},
   "outputs": [],
   "source": [
    "# //********************************************************************\n",
    "# //*** Pandas Frequency from dataframe\n",
    "# //********************************************************************\n",
    "df.value_counts().sort_index()\n",
    "\n"
   ]
  },
  {
   "cell_type": "code",
   "execution_count": null,
   "metadata": {},
   "outputs": [],
   "source": [
    "# //*****************************************\n",
    "# //*** Build a probability mass function\n",
    "# //*****************************************\n",
    "# //*** Returns Series as a PMF\n",
    "# //*****************************************\n",
    "def build_pmf(input_series):\n",
    "    output_series = input_series.copy()\n",
    "    total_values = input_series.sum()\n",
    "    for value,freq in output_series.items():\n",
    "        #print(f\"{value} {freq} {total_values} {freq/total_values}\")\n",
    "        output_series.loc[value] = freq/total_values\n",
    "    return output_series"
   ]
  },
  {
   "cell_type": "code",
   "execution_count": null,
   "metadata": {},
   "outputs": [],
   "source": [
    "# //*** Build a Cumulative Distribution Function from a Probability Mass Function\n",
    "# //*** Returns a Series\n",
    "def build_cdf(input_series):\n",
    "    # //*** If input is not panda or pd series, try to convert it\n",
    "    if not isinstance(input_series,pd.core.series.Series):\n",
    "        input_series = pd.Series(input_series)\n",
    "        \n",
    "    # //*** If input is np.Array\n",
    "    output_series = input_series.copy()\n",
    "    cumulative_value = 0\n",
    "    for value,freq in output_series.items():\n",
    "        #print(f\"{value} {freq} {cumulative_value} {freq + cumulative_value}\")\n",
    "        cumulative_value = freq + cumulative_value\n",
    "        output_series.loc[value] = cumulative_value\n",
    "    return output_series"
   ]
  },
  {
   "cell_type": "code",
   "execution_count": null,
   "metadata": {},
   "outputs": [],
   "source": [
    "# //*** Get a Percentile Rank from a CDF Frequency Series.\n",
    "def PercentileRank(scores, input_score):\n",
    "    count = 0\n",
    "    for value,cum_prob in scores.items():\n",
    "        if value <= input_score:\n",
    "            count += 1\n",
    "\n",
    "    percentile_rank = round(100.0 * count / len(scores),0)\n",
    "    return percentile_rank\n"
   ]
  },
  {
   "cell_type": "code",
   "execution_count": null,
   "metadata": {},
   "outputs": [],
   "source": [
    "# //*** Retrieve a percentile value from a CDF.\n",
    "# //*** Returns index value closest to input parameter percentile.\n",
    "def get_cdf_percentile(input_cdf,percentile):\n",
    "    #print(f\"{input_cdf}\")\n",
    "    #//*** Initialize output to first value\n",
    "    output = input_cdf.index[0]\n",
    "    \n",
    "    #//*** Loop through all items till the value exceeds the percentile\n",
    "    #//*** Return value from last loop\n",
    "    for index,value in input_cdf.items():\n",
    "        \n",
    "        if value > percentile:\n",
    "            return output\n",
    "        else:\n",
    "            output = index\n"
   ]
  },
  {
   "cell_type": "code",
   "execution_count": 2,
   "metadata": {},
   "outputs": [],
   "source": [
    "# //********************************************************************\n",
    "# //*** Function - Build a frequency Dictionary from an input Series\n",
    "# //********************************************************************\n",
    "def build_frequency_dict(input_series):\n",
    "    output_dict = {}\n",
    "    \n",
    "    for x in input_series.sort_values():\n",
    "\n",
    "        if x not in  output_dict.keys():\n",
    "            output_dict[x] = 1\n",
    "        else:\n",
    "            output_dict[x] = output_dict[x] + 1\n",
    "\n",
    "    return output_dict"
   ]
  },
  {
   "cell_type": "code",
   "execution_count": null,
   "metadata": {},
   "outputs": [],
   "source": [
    "# //*****************************************\n",
    "# //*** Loop through a series\n",
    "# //*****************************************\n",
    "for index, value in s.items():\n",
    "    print(f\"{index} {value}\")"
   ]
  },
  {
   "cell_type": "code",
   "execution_count": null,
   "metadata": {},
   "outputs": [],
   "source": [
    "# //*** Bin a continuous variable pandas Series\n",
    "# //*** Probably should use np.arange and pandas groupby instead\n",
    "def bin_value_counts(input_series, bin_size):\n",
    "    \n",
    "    # //*** build New Index\n",
    "    bin_index = np.arange(int(input_series.index.min()), int(input_series.index.max()+1), bin_size, float)\n",
    "    \n",
    "    # //*** Binned values as an array, these will eventually be combined with the bin_index\n",
    "    bin_values = []\n",
    "\n",
    "   \n",
    "    #//*** Build Bin counter. Start with Int of min value\n",
    "    loop_bin_index = 1\n",
    "    \n",
    "    #//*** build counter for the current bin\n",
    "    loop_bin_value = 0\n",
    "    \n",
    "    for bin in range(0,len(bin_index)):\n",
    "    \n",
    "        loop_value = 0\n",
    "        for index,value in input_series.items():\n",
    "            \n",
    "            if bin+1 == len(bin_index):\n",
    "                break\n",
    "              \n",
    "            if bin_index[bin] <= index < bin_index[bin + 1]:\n",
    "                loop_value = loop_value + value\n",
    "            if index > bin_index[bin + 1]:\n",
    "                continue\n",
    "        \n",
    "            \n",
    "        bin_values.append(loop_value)\n",
    "    #print(bin_index)\n",
    "    #print(bin_values)\n",
    "    #print(input_series)\n",
    "    return pd.Series(index=bin_index, data=bin_values).tail(20)\n"
   ]
  },
  {
   "cell_type": "code",
   "execution_count": null,
   "metadata": {},
   "outputs": [],
   "source": [
    "# //*** Matplotlib example side by side bar chart\n",
    "n = 5\n",
    "var1 = total_employee_hours_distribution_pmf\n",
    "var2 = billable_employee_hours_distribution_pmf\n",
    "var3 = overhead_employee_hours_distribution_pmf\n",
    "fig, ax = plt.subplots()\n",
    "index = np.arange(n)\n",
    "bar_width = 0.2\n",
    "opacity = 0.9\n",
    "ax.bar(index, var1, bar_width, alpha=opacity, color='navy',label='Total Productivity')\n",
    "                \n",
    "ax.bar(index+bar_width, var2, bar_width, alpha=opacity, color='darkcyan', label='Billable')\n",
    "ax.bar(index+(bar_width*2), var3, bar_width, alpha=opacity, color='skyblue', label='Overhead')\n",
    "plt.ylim(billable_employee_hours_distribution_pmf.min() * .95,billable_employee_hours_distribution_pmf.max() * 1.05)\n",
    "#ax.set_xlabel('Seasons')\n",
    "ax.set_ylabel('Frequencies')\n",
    "plt.title(f\"All Employee: Productivity Distribution\")\n",
    "ax.set_xticks(index + bar_width / 2)\n",
    "ax.set_xticklabels(g['days_of_week'])\n",
    "ax.legend()\n",
    "plt.show()"
   ]
  },
  {
   "cell_type": "code",
   "execution_count": null,
   "metadata": {},
   "outputs": [],
   "source": []
  }
 ],
 "metadata": {
  "kernelspec": {
   "display_name": "Python 3",
   "language": "python",
   "name": "python3"
  },
  "language_info": {
   "codemirror_mode": {
    "name": "ipython",
    "version": 3
   },
   "file_extension": ".py",
   "mimetype": "text/x-python",
   "name": "python",
   "nbconvert_exporter": "python",
   "pygments_lexer": "ipython3",
   "version": "3.8.3"
  }
 },
 "nbformat": 4,
 "nbformat_minor": 4
}
