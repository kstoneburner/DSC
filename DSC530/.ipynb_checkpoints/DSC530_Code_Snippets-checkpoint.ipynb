{
 "cells": [
  {
   "cell_type": "markdown",
   "metadata": {},
   "source": [
    "# DSC 530 Code Snippets\n"
   ]
  },
  {
   "cell_type": "code",
   "execution_count": null,
   "metadata": {},
   "outputs": [],
   "source": [
    "# //*****************************************\n",
    "# //*** Build a probability mass function\n",
    "# //*****************************************\n",
    "# //*** Returns Series as a PMF\n",
    "# //*****************************************\n",
    "def build_pmf(input_series):\n",
    "    output_series = input_series.copy()\n",
    "    total_values = input_series.sum()\n",
    "    for value,freq in output_series.items():\n",
    "        #print(f\"{value} {freq} {total_values} {freq/total_values}\")\n",
    "        output_series.loc[value] = freq/total_values\n",
    "    return output_series"
   ]
  },
  {
   "cell_type": "code",
   "execution_count": null,
   "metadata": {},
   "outputs": [],
   "source": [
    "# //*** Build a Cumulative Distribution Function from a Probability Mass Function\n",
    "# //*** Returns a Series\n",
    "def build_cdf(input_series):\n",
    "    # //*** If input is not panda or pd series, try to convert it\n",
    "    if not isinstance(input_series,pd.core.series.Series):\n",
    "        input_series = pd.Series(input_series)\n",
    "        \n",
    "    # //*** If input is np.Array\n",
    "    output_series = input_series.copy()\n",
    "    cumulative_value = 0\n",
    "    for value,freq in output_series.items():\n",
    "        #print(f\"{value} {freq} {cumulative_value} {freq + cumulative_value}\")\n",
    "        cumulative_value = freq + cumulative_value\n",
    "        output_series.loc[value] = cumulative_value\n",
    "    return output_series"
   ]
  },
  {
   "cell_type": "code",
   "execution_count": null,
   "metadata": {},
   "outputs": [],
   "source": [
    "# //*** Get a Percentile Rank from a CDF Frequency Series.\n",
    "def PercentileRank(scores, input_score):\n",
    "    count = 0\n",
    "    for value,cum_prob in scores.items():\n",
    "        if value <= input_score:\n",
    "            count += 1\n",
    "\n",
    "    percentile_rank = round(100.0 * count / len(scores),0)\n",
    "    return percentile_rank\n"
   ]
  },
  {
   "cell_type": "code",
   "execution_count": 2,
   "metadata": {},
   "outputs": [],
   "source": [
    "# //********************************************************************\n",
    "# //*** Function - Build a frequency Dictionary from an input Series\n",
    "# //********************************************************************\n",
    "def build_frequency_dict(input_series):\n",
    "    output_dict = {}\n",
    "    \n",
    "    for x in input_series.sort_values():\n",
    "\n",
    "        if x not in  output_dict.keys():\n",
    "            output_dict[x] = 1\n",
    "        else:\n",
    "            output_dict[x] = output_dict[x] + 1\n",
    "\n",
    "    return output_dict"
   ]
  },
  {
   "cell_type": "code",
   "execution_count": null,
   "metadata": {},
   "outputs": [],
   "source": [
    "# //********************************************************************\n",
    "# //*** Pandas Frequency from dataframe\n",
    "# //********************************************************************\n",
    "df.value_counts().sort_index()"
   ]
  },
  {
   "cell_type": "code",
   "execution_count": null,
   "metadata": {},
   "outputs": [],
   "source": [
    "# //*****************************************\n",
    "# //*** Loop through a series\n",
    "# //*****************************************\n",
    "for index, value in s.items():\n",
    "    print(f\"{index} {value}\")"
   ]
  }
 ],
 "metadata": {
  "kernelspec": {
   "display_name": "Python 3",
   "language": "python",
   "name": "python3"
  },
  "language_info": {
   "codemirror_mode": {
    "name": "ipython",
    "version": 3
   },
   "file_extension": ".py",
   "mimetype": "text/x-python",
   "name": "python",
   "nbconvert_exporter": "python",
   "pygments_lexer": "ipython3",
   "version": "3.8.3"
  }
 },
 "nbformat": 4,
 "nbformat_minor": 4
}
