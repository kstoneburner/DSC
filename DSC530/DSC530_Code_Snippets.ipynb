{
 "cells": [
  {
   "cell_type": "markdown",
   "metadata": {},
   "source": [
    "# DSC 530 Code Snippets\n"
   ]
  },
  {
   "cell_type": "code",
   "execution_count": null,
   "metadata": {},
   "outputs": [],
   "source": [
    "# //*****************************************\n",
    "# //*** Build a probability mass function\n",
    "# //*****************************************\n",
    "\n",
    "# //*** Grab a separate value distribution of 'numkdhh'\n",
    "df = resp['numkdhh'].value_counts().sort_index()\n",
    "\n",
    "# //*** Sum all value counts\n",
    "total_values = df.sum()\n",
    "\n",
    "for x in range(0, len(df)):\n",
    "    freq = df[x]\n",
    "    df.loc[x] = freq / total_values\n",
    "    \n",
    "  \n",
    "print(freq)\n",
    "# //*** Sum should equal 1.0\n",
    "print(freq.sum())\n"
   ]
  },
  {
   "cell_type": "code",
   "execution_count": 2,
   "metadata": {},
   "outputs": [],
   "source": [
    "# //********************************************************************\n",
    "# //*** Function - Build a frequency Dictionary from an input Series\n",
    "# //********************************************************************\n",
    "def build_frequency_dict(input_series):\n",
    "    output_dict = {}\n",
    "    \n",
    "    for x in input_series.sort_values():\n",
    "\n",
    "        if x not in  output_dict.keys():\n",
    "            output_dict[x] = 1\n",
    "        else:\n",
    "            output_dict[x] = output_dict[x] + 1\n",
    "\n",
    "    return output_dict"
   ]
  },
  {
   "cell_type": "code",
   "execution_count": null,
   "metadata": {},
   "outputs": [],
   "source": [
    "# //********************************************************************\n",
    "# //*** Pandas Frequency from dataframe\n",
    "# //********************************************************************\n",
    "df.value_counts().sort_index()"
   ]
  },
  {
   "cell_type": "code",
   "execution_count": null,
   "metadata": {},
   "outputs": [],
   "source": [
    "# //*****************************************\n",
    "# //*** Loop through a series\n",
    "# //*****************************************\n",
    "for index, value in s.items():\n",
    "    print(f\"{index} {value}\")"
   ]
  }
 ],
 "metadata": {
  "kernelspec": {
   "display_name": "Python 3",
   "language": "python",
   "name": "python3"
  },
  "language_info": {
   "codemirror_mode": {
    "name": "ipython",
    "version": 3
   },
   "file_extension": ".py",
   "mimetype": "text/x-python",
   "name": "python",
   "nbconvert_exporter": "python",
   "pygments_lexer": "ipython3",
   "version": "3.8.3"
  }
 },
 "nbformat": 4,
 "nbformat_minor": 4
}
