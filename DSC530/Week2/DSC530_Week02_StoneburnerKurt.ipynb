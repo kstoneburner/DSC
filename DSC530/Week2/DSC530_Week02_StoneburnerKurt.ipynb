{
 "cells": [
  {
   "cell_type": "code",
   "execution_count": 32,
   "metadata": {},
   "outputs": [
    {
     "name": "stdout",
     "output_type": "stream",
     "text": [
      "Hello World! I wonder why that is always the default coding text to start with\n",
      "42\n",
      "0\n",
      "441\n",
      "1.0\n",
      "\n",
      " \"All fungi are edible.  Some fungi are edible only once.\"\n",
      "-- Terry Pratchett\n",
      "\n",
      "Light thinks it travels faster than anything but it is wrong.\n",
      "No matter how fast light travels,\n",
      "it finds the darkness has has always gotten there first,\n",
      "and is waiting for it.\n",
      "-- Terry Pratchett\n",
      "Tu-14: \"Bosun\"\n",
      "Tu-16: \"Badger\"\n",
      "Tu-95: \"Bear\"\n",
      "Tu-160: \"BlackJack\"\n"
     ]
    }
   ],
   "source": [
    "#Display the text “Hello World! I wonder why that is always the default coding text to start with”\n",
    "print(\"Hello World! I wonder why that is always the default coding text to start with\")\n",
    "\n",
    "#Add two numbers together\n",
    "print(21+21)\n",
    "\n",
    "#Subtract a number from another number\n",
    "print(21-21)\n",
    "\n",
    "#Multiply two numbers\n",
    "print(21 * 21)\n",
    "\n",
    "#Divide between two numbers\n",
    "print(21 / 21)\n",
    "print()\n",
    "#Concatenate two strings together (any words)\n",
    "print(\" \\\"All fungi are edible. \" + \" Some fungi are edible only once.\\\"\\n\" + \"-- Terry Pratchett\\n\")\n",
    "\n",
    "#Create a list of 4 items (can be strings, numbers, both)\n",
    "create_a_list = [\"Light thinks it travels faster than anything but it is wrong.\",\"No matter how fast light travels,\",\"it finds the darkness has has always gotten there first,\",\"and is waiting for it.\"]\n",
    "\n",
    "#Append an item to your list (again, can be a string, number)\n",
    "create_a_list.append(\"-- Terry Pratchett\")\n",
    "\n",
    "for x in create_a_list:\n",
    "    print(x)\n",
    "\n",
    "print()\n",
    "\n",
    "#Create a tuple with 4 items (can be strings, numbers, both)\n",
    "tupolev = (\"Tu-14: \\\"Bosun\\\"\",\"Tu-16: \\\"Badger\\\"\",\"Tu-95: \\\"Bear\\\"\",\"Tu-160: \\\"BlackJack\\\"\")\n",
    "for x in tupolev:\n",
    "    print(x)\n",
    "\n"
   ]
  }
 ],
 "metadata": {
  "kernelspec": {
   "display_name": "Python 3",
   "language": "python",
   "name": "python3"
  },
  "language_info": {
   "codemirror_mode": {
    "name": "ipython",
    "version": 3
   },
   "file_extension": ".py",
   "mimetype": "text/x-python",
   "name": "python",
   "nbconvert_exporter": "python",
   "pygments_lexer": "ipython3",
   "version": "3.8.3"
  }
 },
 "nbformat": 4,
 "nbformat_minor": 4
}
