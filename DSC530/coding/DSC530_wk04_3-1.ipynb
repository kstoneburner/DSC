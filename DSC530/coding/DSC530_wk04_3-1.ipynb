{
 "cells": [
  {
   "cell_type": "markdown",
   "metadata": {},
   "source": [
    "# Stoneburner, Kurt\n",
    "- ## DSC 530\n",
    "- ## Chapter 3, Exercise 1\n",
    "\n",
    "**Exercise:** Something like the class size paradox appears if you survey children and ask how many children are in their family. Families with many children are more likely to appear in your sample, and families with no children have no chance to be in the sample.\n",
    "\n",
    "Use the NSFG respondent variable `numkdhh` to construct the actual distribution for the number of children under 18 in the respondents' households.\n",
    "\n",
    "Now compute the biased distribution we would see if we surveyed the children and asked them how many children under 18 (including themselves) are in their household.\n",
    "\n",
    "Plot the actual and biased distributions, and compute their means."
   ]
  },
  {
   "cell_type": "code",
   "execution_count": 8,
   "metadata": {},
   "outputs": [
    {
     "name": "stdout",
     "output_type": "stream",
     "text": [
      "C:\\Users\\newcomb\\DSCProjects\\DSC\\DSC530\\ThinkStats2\\code\n",
      "0       3\n",
      "1       0\n",
      "2       0\n",
      "3       0\n",
      "4       0\n",
      "       ..\n",
      "7638    0\n",
      "7639    0\n",
      "7640    0\n",
      "7641    0\n",
      "7642    0\n",
      "Name: numkdhh, Length: 7643, dtype: int64\n"
     ]
    }
   ],
   "source": [
    "import os\n",
    "os.chdir(\"C:\\\\Users\\\\newcomb\\\\DSCProjects\\\\DSC\\\\DSC530\\\\ThinkStats2\\\\code\")\n",
    "print(os.getcwd())\n",
    "import thinkstats2\n",
    "import thinkplot\n",
    "import nsfg\n",
    "import first\n",
    "\n",
    "resp = nsfg.ReadFemResp()\n",
    "\n",
    "thisHist = resp['numkdhh']"
   ]
  },
  {
   "cell_type": "code",
   "execution_count": null,
   "metadata": {},
   "outputs": [],
   "source": []
  }
 ],
 "metadata": {
  "kernelspec": {
   "display_name": "Python 3",
   "language": "python",
   "name": "python3"
  },
  "language_info": {
   "codemirror_mode": {
    "name": "ipython",
    "version": 3
   },
   "file_extension": ".py",
   "mimetype": "text/x-python",
   "name": "python",
   "nbconvert_exporter": "python",
   "pygments_lexer": "ipython3",
   "version": "3.8.3"
  }
 },
 "nbformat": 4,
 "nbformat_minor": 4
}
