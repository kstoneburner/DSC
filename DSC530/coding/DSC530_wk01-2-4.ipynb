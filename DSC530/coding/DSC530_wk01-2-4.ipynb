{
 "cells": [
  {
   "cell_type": "markdown",
   "metadata": {},
   "source": [
    "# Stoneburner, Kurt\n",
    "- ## DSC 530\n",
    "- ## Chapter 2, Exercise 1"
   ]
  },
  {
   "cell_type": "markdown",
   "metadata": {},
   "source": [
    "**Which Summary statistics would you use if you wanted to get a story on the evening news?** (*The statistics that generated the most fear and anxiety*)\n",
    "**Which ones would you use if you wanted to reassure an anxious patient?**"
   ]
  },
  {
   "cell_type": "markdown",
   "metadata": {},
   "source": [
    "Personal workplace issue aside, i'd select the difference of the means as an appropriate summary statistic for both the local TV news audience and the anxious patient. The mean is commonly understood by the general populace. Considering the pregnancy lengths of subsequent births are on average 13 hours longer than first births, I'd coouncil the anxious patient to have patience and that nature works on its own timeline."
   ]
  },
  {
   "cell_type": "markdown",
   "metadata": {},
   "source": [
    "**Imagine that you are Cecil Adams, author of *The Straight Dope*, amd you job is to answer the Question, \"Do first babies arrive late?\" Write a paragraph that uses the results in this chapter to answer the question clearly, precisley and honestly.**"
   ]
  },
  {
   "cell_type": "markdown",
   "metadata": {},
   "source": [
    "As a parent with two children, I can confidently say the first pregnancy definitely feels the longest. To answer the question, we have to look at the length of a normal pregnancy. The mean length of all pregnancies is 38.6 weeks with the vast majority of women delivering between 36 weeks and 41 weeks. Physician typically induce labor at 43 weeks so pregnancies rarely go longer than that. Since induced labor occurs at 43 weeks and most babies are born before 41 weeks, it’s safe say that first babies do not arrive late. However, first born children do tend linger in womb longer than ensuing births. On average, subsequent pregnancies are shorter than the first. Which is generally received as positive news, however on average future womb occupations tend to evict their tennants 13 hours sooner than the first time around. "
   ]
  },
  {
   "cell_type": "markdown",
   "metadata": {},
   "source": [
    "- ## Chapter 2, Exercise 4\n",
    "\n",
    "Using the variable *totalwght_lb*, investigate whether first babies are lighter or heavier than other. Compute Cohen's d to quantify the difference between groups. How does it compare to the difference in pregnancy length?"
   ]
  },
  {
   "cell_type": "code",
   "execution_count": 19,
   "metadata": {},
   "outputs": [],
   "source": [
    "import os\n",
    "import nsfg\n",
    "import thinkstats2\n",
    "import numpy as np\n",
    "#Set Home working directory\n",
    "#os.chdir(\"C:\\\\Users\\\\newcomb\\\\DSCProjects\\\\DSC\\\\DSC530\\\\ThinkStats2\\\\code\")\n",
    "#Set Home Laptop Working Directory\n",
    "os.chdir(\"C:\\\\Users\\\\family\\\\DSCProjects\\\\DSC530\\\\ThinkStats2\\\\code\")"
   ]
  },
  {
   "cell_type": "code",
   "execution_count": 18,
   "metadata": {},
   "outputs": [],
   "source": [
    "preg = nsfg.ReadFemPreg()"
   ]
  },
  {
   "cell_type": "code",
   "execution_count": 16,
   "metadata": {},
   "outputs": [],
   "source": [
    "def CohenEffectSize(group1, group2):\n",
    "    \"\"\"Computes Cohen's effect size for two groups.\n",
    "    \n",
    "    group1: Series or DataFrame\n",
    "    group2: Series or DataFrame\n",
    "    \n",
    "    returns: float if the arguments are Series;\n",
    "             Series if the arguments are DataFrames\n",
    "    \"\"\"\n",
    "    diff = group1.mean() - group2.mean()\n",
    "\n",
    "    var1 = group1.var()\n",
    "    var2 = group2.var()\n",
    "    n1, n2 = len(group1), len(group2)\n",
    "\n",
    "    pooled_var = (n1 * var1 + n2 * var2) / (n1 + n2)\n",
    "    d = diff / np.sqrt(pooled_var)\n",
    "    return d"
   ]
  },
  {
   "cell_type": "code",
   "execution_count": 25,
   "metadata": {},
   "outputs": [
    {
     "name": "stdout",
     "output_type": "stream",
     "text": [
      "The means of birth weights between first births and subsequent birth vary by -0.0889σ. Although this effect is greater than the effect of birth order on pregnancy length, at -0.0889σ is still quite small and not statistically significant.\n"
     ]
    }
   ],
   "source": [
    "first_birth_lb = preg['totalwgt_lb'][preg['birthord']==1]\n",
    "other_birth_lb = preg['totalwgt_lb'][preg['birthord']!=1]\n",
    "\n",
    "cohen_birth_lb = CohenEffectSize(first_birth_lb,other_birth_lb)\n",
    "print(f\"The means of birth weights between first births and subsequent birth vary by {cohen_birth_lb:.4f}\\u03C3. Although this effect is greater than the effect of birth order on pregnancy length, at {cohen_birth_lb:.4f}\\u03C3 is still quite small and not statistically significant.\")"
   ]
  }
 ],
 "metadata": {
  "kernelspec": {
   "display_name": "Python 3",
   "language": "python",
   "name": "python3"
  },
  "language_info": {
   "codemirror_mode": {
    "name": "ipython",
    "version": 3
   },
   "file_extension": ".py",
   "mimetype": "text/x-python",
   "name": "python",
   "nbconvert_exporter": "python",
   "pygments_lexer": "ipython3",
   "version": "3.8.3"
  }
 },
 "nbformat": 4,
 "nbformat_minor": 4
}
