{
 "cells": [
  {
   "cell_type": "markdown",
   "metadata": {},
   "source": [
    "Complete the following exercises:\n",
    "\n",
    "    Page 89: 7-1 (Using data from the NSFG, make a scatter plot of birth weight versus mother’s age…)\n",
    "    Page 99: 8-1 (In this chapter we used sample mean to estimate • and found that the sample mean yields lower MSE…)\n",
    "    Page 99: 8-2 (Suppose that you draw a sample size with n = 10 from an exponential distribution with • = 2…)\n"
   ]
  },
  {
   "cell_type": "markdown",
   "metadata": {},
   "source": [
    "# Stoneburner, Kurt\n",
    "- ## DSC 530 - Week 07"
   ]
  },
  {
   "cell_type": "code",
   "execution_count": 1,
   "metadata": {},
   "outputs": [],
   "source": [
    "# //****************************************************************************************\n",
    "# //*** Set Working Directory to thinkstats folder.\n",
    "# //*** This pseudo-relative path call should work on all Stoneburner localized projects. \n",
    "# //****************************************************************************************\n",
    "\n",
    "import os\n",
    "import sys\n",
    "workingPath = os.getcwd().replace(\"coding\", \"ThinkStats2\\\\code\")\n",
    "sys.path.insert(1, workingPath)\n",
    "os.chdir(workingPath)"
   ]
  },
  {
   "cell_type": "code",
   "execution_count": 26,
   "metadata": {},
   "outputs": [],
   "source": [
    "# //*** Imports and Load Data\n",
    "import nsfg\n",
    "import thinkstats2\n",
    "import thinkplot\n",
    "import first\n",
    "import matplotlib.pyplot as plt\n",
    "import numpy as np\n",
    "import pandas as pd\n",
    "import scipy\n",
    "\n",
    "#resp = nsfg.ReadFemResp()\n",
    "#preg = nsfg.ReadFemPreg()\n"
   ]
  },
  {
   "cell_type": "markdown",
   "metadata": {},
   "source": [
    "- ## Chapter 7, Exercise 1"
   ]
  },
  {
   "cell_type": "code",
   "execution_count": 3,
   "metadata": {},
   "outputs": [],
   "source": [
    "# //*** Get a pandas dataframe from the first library\n",
    "live, firsts, others = first.MakeFrames()\n",
    "# //*** Drop N/A values from agepreg and totalwgt_lb columns\n",
    "live = live.dropna(subset=['agepreg', 'totalwgt_lb'])"
   ]
  },
  {
   "cell_type": "markdown",
   "metadata": {},
   "source": [
    "**Using data from the NSFG, make a scatter plot of birth weight versus mother’s age.**"
   ]
  },
  {
   "cell_type": "code",
   "execution_count": 4,
   "metadata": {},
   "outputs": [
    {
     "data": {
      "image/png": "[encoded data removed]",
      "text/plain": [
       "<Figure size 432x288 with 1 Axes>"
      ]
     },
     "metadata": {
      "needs_background": "light"
     },
     "output_type": "display_data"
    }
   ],
   "source": [
    "# //*** scatter plot with matplotlib\n",
    "plt.scatter(live['agepreg'], live['totalwgt_lb'], 1, color='b')\n",
    "#plt.title(f\"Biased Distribution\\nMean: {round(resp['numkdhh'][resp['numkdhh'] > 0].mean(),2)}\")\n",
    "#plt.xlabel('Top 30 Jobecodes by Frequency')\n",
    "plt.ylabel('Birth Weight')\n",
    "plt.show()\n"
   ]
  },
  {
   "cell_type": "markdown",
   "metadata": {},
   "source": [
    "**Plot percentiles of birth weight versus mother’s age.**"
   ]
  },
  {
   "cell_type": "code",
   "execution_count": 5,
   "metadata": {},
   "outputs": [],
   "source": [
    "# //********************************************\n",
    "# //*** Reusable Functions Return from Week 03!\n",
    "# //********************************************\n",
    "# //*** Returns Series as a PMF\n",
    "# //********************************************\n",
    "def build_pmf(input_series):\n",
    "    output_series = input_series.copy()\n",
    "    total_values = input_series.sum()\n",
    "    for value,freq in output_series.items():\n",
    "        #print(f\"{value} {freq} {total_values} {freq/total_values}\")\n",
    "        output_series.loc[value] = freq/total_values\n",
    "    return output_series\n",
    "\n",
    "# //*** Build a Cumulative Distribution Function from a Probability Mass Function\n",
    "# //*** Returns a Series\n",
    "def build_cdf(input_series):\n",
    "    # //*** If input is not panda or pd series, try to convert it\n",
    "    if not isinstance(input_series,pd.core.series.Series):\n",
    "        input_series = pd.Series(input_series)\n",
    "        \n",
    "    # //*** If input is np.Array\n",
    "    output_series = input_series.copy()\n",
    "    cumulative_value = 0\n",
    "    for value,freq in output_series.items():\n",
    "        #print(f\"{value} {freq} {cumulative_value} {freq + cumulative_value}\")\n",
    "        cumulative_value = freq + cumulative_value\n",
    "        output_series.loc[value] = cumulative_value\n",
    "    return output_series\n",
    "\n",
    "# //*** Retrieve a percentile value from a CDF.\n",
    "# //*** Returns index value closest to input parameter percentile.\n",
    "def get_cdf_percentile(input_cdf,percentile):\n",
    "    #print(f\"{input_cdf}\")\n",
    "    #//*** Initialize output to first value\n",
    "    output = input_cdf.index[0]\n",
    "    \n",
    "    #//*** Loop through all items till the value exceeds the percentile\n",
    "    #//*** Return value from last loop\n",
    "    for index,value in input_cdf.items():\n",
    "        \n",
    "        if value > percentile:\n",
    "            return output\n",
    "        else:\n",
    "            output = index\n",
    "            "
   ]
  },
  {
   "cell_type": "code",
   "execution_count": 25,
   "metadata": {},
   "outputs": [
    {
     "data": {
      "image/png": "[encoded data removed]",
      "text/plain": [
       "<Figure size 432x288 with 1 Axes>"
      ]
     },
     "metadata": {
      "needs_background": "light"
     },
     "output_type": "display_data"
    }
   ],
   "source": [
    "# //*** Build some abstraction to ease future use\n",
    "# //*** The dependent Variable will be expressed as a mean of each binned value\n",
    "dependent_variable = 'agepreg'\n",
    "# //*** The independent variable will generate CDF percentiles for each binned_value\n",
    "independent_variable = 'totalwgt_lb'\n",
    "\n",
    "# //*** Get min and Max ages to set the limits of the group by bins\n",
    "# //*** Converting to integers adds headroom (extra space) to the floor\n",
    "# //*** Max + 1 gives a little extra room for Max\n",
    "minVal = int(live[dependent_variable].min())\n",
    "maxVal = int(live[dependent_variable].max())+1\n",
    "bin_values = [.75,.50,.25]\n",
    "\n",
    "# //*** Build binning parameters. Minimum value, Maximum Value, # of Bins\n",
    "bins = np.arange(minVal, maxVal, len(bin_values))\n",
    "\n",
    "#//*** Builds Index values for the bins\n",
    "#//*** Seems very obtuse to me\n",
    "indices = np.digitize(live[dependent_variable], bins)\n",
    "\n",
    "#//*** Groups the dataframe into groups of binned indexes\n",
    "groups = live.groupby(indices)   \n",
    "\n",
    "# //*** Builds a list of the age mean for each binned values\n",
    "mean_age_preg = [group.agepreg.mean() for i, group in groups]\n",
    "\n",
    "# //*** Build a list CDFs for each binned value\n",
    "CDFs = []\n",
    "\n",
    "# //*** group is a tuple. Tuple[0] = index, tuple[1] = dataframe\n",
    "for group in groups:\n",
    "    #//*** CDF for each binned dataframe\n",
    "    weight_counts = group[1][independent_variable].value_counts().sort_index()\n",
    "    weight_counts_pmf = build_pmf(weight_counts)   \n",
    "    weight_counts_cdf = build_cdf(weight_counts_pmf)   \n",
    "    CDFs.append(weight_counts_cdf)\n",
    "\n",
    "# //***********************************************************************************************************\n",
    "# //*** Trim the last data point. The final values are converging for some reason. The book appears to trim\n",
    "# //*** The last values off the groups using groups [1:-1]. That code does not run. Guessing it's due to a \n",
    "# //*** Syntax shift\n",
    "# //***********************************************************************************************************\n",
    "del CDFs[-1]\n",
    "del mean_age_preg[-1]\n",
    "\n",
    "labels = []\n",
    "for x in bin_values:\n",
    "    # //*** Build a list of percentiles to plot from each cdf using the percentile stored in bin_values\n",
    "    weight_percentiles = [get_cdf_percentile(cdf,x) for cdf in CDFs]\n",
    "    loop_label= f\"{int(x*100)}th\"\n",
    "    plt.plot(mean_age_preg,weight_percentiles,1, label=loop_label)\n",
    "    labels.append(loop_label)\n",
    "\n",
    "plt.xlabel('Age(mean)')\n",
    "plt.ylabel('Birth Weight (lb)')\n",
    "\n",
    "plt.legend(labels)\n",
    "plt.xlim(minVal,maxVal)\n",
    "plt.ylim(5,9)\n",
    "plt.show()\n",
    "    \n",
    "    \n"
   ]
  },
  {
   "cell_type": "markdown",
   "metadata": {},
   "source": [
    "Note: My 25th Percentile values don't match the book solutions and I don't understand why. My binned values for the first bin seem high. I believe I matched the sample code in setting this up, so i'm perplexed and moving on."
   ]
  },
  {
   "cell_type": "markdown",
   "metadata": {},
   "source": [
    "**Compute Pearson’s and Spearman’s correlations.**\n",
    "\n",
    "Pregnancy Age and Birth Weight Pearson's Correlation: 0.0688\n",
    "\n",
    "This result is significant with p < .05: 5.72e-11\n",
    "\n",
    "Pregnancy Age and Birth Weight Spearman's rank order correlation: 0.0946\n",
    "\n",
    "This result is significant with p < .05: 2e-19\n"
   ]
  },
  {
   "cell_type": "code",
   "execution_count": 42,
   "metadata": {},
   "outputs": [
    {
     "name": "stdout",
     "output_type": "stream",
     "text": [
      "Pregnancy Age and Birth Weight Pearson's Correlation: 0.0688\n",
      "This result is significant with p < .05: 5.72e-11\n",
      "Pregnancy Age and Birth Weight Spearman's rank order correlation: 0.0946\n",
      "This result is significant with p < .05: 2e-19\n"
     ]
    }
   ],
   "source": [
    "pearson_cor = scipy.stats.pearsonr(live['agepreg'],live['totalwgt_lb'])\n",
    "spearman_rank = scipy.stats.spearmanr(live['agepreg'],live['totalwgt_lb'])\n",
    "\n",
    "print(f\"Pregnancy Age and Birth Weight Pearson's Correlation: {round(pearson_cor[0],4)}\")\n",
    "print(f\"This result is significant with p < .05: {round(pearson_cor[1],13)}\")\n",
    "print(f\"Pregnancy Age and Birth Weight Spearman's rank order correlation: {round(spearman_rank[0],4)}\")\n",
    "print(f\"This result is significant with p < .05: {round(spearman_rank[1],21)}\")"
   ]
  },
  {
   "cell_type": "markdown",
   "metadata": {},
   "source": [
    "**How would you characterize the relationship between these variables:**\n",
    "\n",
    "The scatterplot shows a loose relationship between age and birth weight. There is no significant correlation between a mother's age and newborn birth weight."
   ]
  },
  {
   "cell_type": "markdown",
   "metadata": {},
   "source": [
    "- ## Chapter 8, Exercise 1\n",
    "\n",
    "**Exercise:**  In this chapter we used $\\bar{x}$ and median to estimate µ, and found that $\\bar{x}$ yields lower MSE. Also, we used $S^2$ and $S_{n-1}^2$ to estimate σ, and found that $S^2$ is biased and $S_{n-1}^2$ unbiased.\n",
    "Run similar experiments to see if $\\bar{x}$ and median are biased estimates of µ. Also check whether $S^2$ or $S_{n-1}^2$ yields a lower MSE."
   ]
  },
  {
   "attachments": {
    "image.png": {
     "image/png": "[encoded data removed]"
    }
   },
   "cell_type": "markdown",
   "metadata": {},
   "source": [
    "![image.png](attachment:image.png)\n",
    "\n",
    "$\\bar{x}$ = Sample Mean\n",
    "\n",
    "µ = median estimator\n",
    "\n",
    "m = number of tests to run"
   ]
  },
  {
   "cell_type": "code",
   "execution_count": 145,
   "metadata": {},
   "outputs": [
    {
     "name": "stdout",
     "output_type": "stream",
     "text": [
      "Difference Sum: 0.5732082434405102\n",
      "Sample Count Modifier: 0.001\n",
      "MSE: 0.0005732082434405102\n"
     ]
    }
   ],
   "source": [
    "# //*** Build a mean estimator\n",
    "\n",
    "import random\n",
    "\n",
    "# //*** Build a list comprised of a list of samples from a normal distribution.\n",
    "# //*** n=sample size: Default = 7\n",
    "# //*** m=totak number of samples\n",
    "# //*** low_val = Distribution minimum value\n",
    "# //*** high_val = Distribution maximum value\n",
    "# //******************************************\n",
    "# //*** Returns:\n",
    "# //****    list of list samples.\n",
    "# //****    list of means for each sample\n",
    "# //****    list of medians for each sample\n",
    "# //******************************************\n",
    "def get_random_samples(n=7, m=1000,low_val=0,high_val=1):\n",
    "    mu = low_val\n",
    "    sigma = high_val\n",
    "\n",
    "    means = []\n",
    "    medians = []\n",
    "    \n",
    "    # //***\n",
    "    for _ in range(m):\n",
    "        #//*** Generate List of Samples\n",
    "        xs = [random.gauss(mu, sigma) for _ in range(m)]\n",
    "        #//*** Mean of Sample\n",
    "        xbar = np.mean(xs)\n",
    "        #//*** Median of Sample\n",
    "        median = np.median(xs)\n",
    "        means.append(xbar)\n",
    "        medians.append(median)\n",
    "    return xs,means,medians\n",
    "\n",
    "# //****************************\n",
    "sample_size = 7\n",
    "sample_count = 1000\n",
    "distribution_min = 0\n",
    "distribution_max = 1\n",
    "# //****************************\n",
    "\n",
    "# //*** Generate list of sample lists, with sample mean and median\n",
    "samples,samples_means,samples_medians = get_random_samples(sample_size,sample_count,distribution_min,distribution_max)\n",
    "# //********************\n",
    "# //*** Determine MSE\n",
    "# //***************************************************************************\n",
    "# //*** Find the difference between the Mean and Median \n",
    "# //*** Square the difference\n",
    "# //*** Sum the result with the running total\n",
    "# //*** when done with loop Multiply the result by 1/sample_count (or 1/m)\n",
    "# //***************************************************************************    \n",
    "difference_sum = 0\n",
    "for index in range(sample_count):\n",
    "    loop_mean = samples_means[index]\n",
    "    loop_median = samples_medians[index]\n",
    "    #print(f\"{index} {samples_means[index]} {samples_medians[index]} {loop_mean - loop_median} {(loop_mean - loop_median)**2} {difference_sum}\")\n",
    "    difference_sum = (loop_mean - loop_median)**2 +  difference_sum \n",
    "\n",
    "# //*** difference_sum = sum of mean - median squared for each sample\n",
    "# //*** MSE = (1/sample_count) * difference Sum\n",
    "estimator_MSE = (1/sample_count) * difference_sum\n",
    "print(f\"Difference Sum: {difference_sum}\")\n",
    "print(f\"Sample Count Modifier: {1/sample_count}\")\n",
    "print(f\"MSE: {estimator_MSE}\")"
   ]
  },
  {
   "cell_type": "code",
   "execution_count": null,
   "metadata": {},
   "outputs": [],
   "source": [
    "# //*** Build a median estimator"
   ]
  },
  {
   "cell_type": "code",
   "execution_count": 43,
   "metadata": {},
   "outputs": [],
   "source": [
    "# //*** Build a Variance estimator"
   ]
  },
  {
   "cell_type": "markdown",
   "metadata": {},
   "source": [
    "- ## Chapter 8, Exercise 2\n",
    "\n",
    "**Exercise:** Suppose you draw a sample with size n=10 from an exponential distribution with λ=2. Simulate this experiment 1000 times and plot the sampling distribution of the estimate L. Compute the standard error of the estimate and the 90% confidence interval.\n",
    "\n",
    "Repeat the experiment with a few different values of `n` and make a plot of standard error versus `n`."
   ]
  },
  {
   "cell_type": "code",
   "execution_count": 8,
   "metadata": {},
   "outputs": [],
   "source": [
    "# //*** CODE HERE"
   ]
  },
  {
   "cell_type": "code",
   "execution_count": 9,
   "metadata": {},
   "outputs": [],
   "source": [
    "# //*** Matplot reference\n",
    "#plt.scatter(live['totalwgt_lb'], live['agepreg'],1, color='b')\n",
    "#plt.tight_layout()\n",
    "\n",
    "#plt.xticks(billable_value_count_top_30.index.values, billable_value_count_top_30.index, rotation='vertical')\n",
    "#plt.title(f\"Biased Distribution\\nMean: {round(resp['numkdhh'][resp['numkdhh'] > 0].mean(),2)}\")\n",
    "#plt.xlabel('Top 30 Jobecodes by Frequency')\n",
    "#plt.ylabel('Item Frequency')\n",
    "#plt.figure(figsize=(1,500))\n",
    "plt.show()\n"
   ]
  }
 ],
 "metadata": {
  "kernelspec": {
   "display_name": "Python 3",
   "language": "python",
   "name": "python3"
  },
  "language_info": {
   "codemirror_mode": {
    "name": "ipython",
    "version": 3
   },
   "file_extension": ".py",
   "mimetype": "text/x-python",
   "name": "python",
   "nbconvert_exporter": "python",
   "pygments_lexer": "ipython3",
   "version": "3.8.3"
  }
 },
 "nbformat": 4,
 "nbformat_minor": 4
}
