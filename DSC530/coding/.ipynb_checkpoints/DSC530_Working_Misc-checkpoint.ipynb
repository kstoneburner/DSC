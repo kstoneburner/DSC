{
 "cells": [
  {
   "cell_type": "markdown",
   "metadata": {},
   "source": [
    "# Stoneburner, Kurt\n",
    "- ## DSC 530\n",
    "- ## Chapter X, Exercise X\n"
   ]
  },
  {
   "cell_type": "code",
   "execution_count": 2,
   "metadata": {},
   "outputs": [],
   "source": [
    "# //****************************************************************************************\n",
    "# //*** Set Working Directory to thinkstats folder.\n",
    "# //*** This pseudo-relative path call should work on all Stoneburner localized projects. \n",
    "# //****************************************************************************************\n",
    "\n",
    "import os\n",
    "import sys\n",
    "workingPath = os.getcwd().replace(\"coding\", \"ThinkStats2\\\\code\")\n",
    "sys.path.insert(1, workingPath)\n",
    "os.chdir(workingPath)"
   ]
  },
  {
   "cell_type": "code",
   "execution_count": 3,
   "metadata": {},
   "outputs": [],
   "source": [
    "# //*** Imports and Load Data\n",
    "import nsfg\n",
    "import thinkstats2\n",
    "import thinkplot\n",
    "import first\n",
    "import matplotlib.pyplot as plt\n",
    "import numpy as np\n",
    "import pandas as pd\n",
    "\n",
    "#resp = nsfg.ReadFemResp()\n",
    "#preg = nsfg.ReadFemPreg()\n"
   ]
  },
  {
   "cell_type": "code",
   "execution_count": 4,
   "metadata": {},
   "outputs": [],
   "source": [
    "import brfss\n",
    "\n",
    "df = brfss.ReadBrfss(nrows=None)\n",
    "df = df.dropna(subset=['htm3', 'wtkg2'])\n",
    "heights, weights = df.htm3, df.wtkg2\n",
    "log_weights = np.log10(weights)"
   ]
  },
  {
   "cell_type": "code",
   "execution_count": 6,
   "metadata": {},
   "outputs": [
    {
     "name": "stdout",
     "output_type": "stream",
     "text": [
      "         age  sex     wtyrago      finalwt   wtkg2   htm3\n",
      "0       82.0    2   76.363636   185.870345   70.91  157.0\n",
      "1       65.0    2   72.727273   126.603027   72.73  163.0\n",
      "3       61.0    1   73.636364   517.926275   73.64  170.0\n",
      "4       26.0    1   88.636364  1252.624630   88.64  185.0\n",
      "5       42.0    1  118.181818   415.161314  109.09  183.0\n",
      "...      ...  ...         ...          ...     ...    ...\n",
      "414504  23.0    1   84.090909    43.439320   88.64  191.0\n",
      "414505  49.0    2   70.454545     6.216538   72.73  170.0\n",
      "414506  45.0    1   86.363636    20.617560   90.91  178.0\n",
      "414507  52.0    2   89.090909    11.188138   89.09  157.0\n",
      "414508  38.0    1   75.000000    25.989792   75.00  178.0\n",
      "\n",
      "[395832 rows x 6 columns]\n",
      "Heights:\n",
      "0         157.0\n",
      "1         163.0\n",
      "3         170.0\n",
      "4         185.0\n",
      "5         183.0\n",
      "          ...  \n",
      "414504    191.0\n",
      "414505    170.0\n",
      "414506    178.0\n",
      "414507    157.0\n",
      "414508    178.0\n",
      "Name: htm3, Length: 395832, dtype: float64\n",
      "Weights:\n",
      "0          70.91\n",
      "1          72.73\n",
      "3          73.64\n",
      "4          88.64\n",
      "5         109.09\n",
      "           ...  \n",
      "414504     88.64\n",
      "414505     72.73\n",
      "414506     90.91\n",
      "414507     89.09\n",
      "414508     75.00\n",
      "Name: wtkg2, Length: 395832, dtype: float64\n",
      "Log Weights:\n",
      "0         1.850707\n",
      "1         1.861714\n",
      "3         1.867114\n",
      "4         1.947630\n",
      "5         2.037785\n",
      "            ...   \n",
      "414504    1.947630\n",
      "414505    1.861714\n",
      "414506    1.958612\n",
      "414507    1.949829\n",
      "414508    1.875061\n",
      "Name: wtkg2, Length: 395832, dtype: float64\n"
     ]
    }
   ],
   "source": [
    "print(f\"{df}\")\n",
    "print(f\"Heights:\\n{heights}\")\n",
    "print(f\"Weights:\\n{weights}\")\n",
    "print(f\"Log Weights:\\n{log_weights}\")"
   ]
  }
 ],
 "metadata": {
  "kernelspec": {
   "display_name": "Python 3",
   "language": "python",
   "name": "python3"
  },
  "language_info": {
   "codemirror_mode": {
    "name": "ipython",
    "version": 3
   },
   "file_extension": ".py",
   "mimetype": "text/x-python",
   "name": "python",
   "nbconvert_exporter": "python",
   "pygments_lexer": "ipython3",
   "version": "3.8.3"
  }
 },
 "nbformat": 4,
 "nbformat_minor": 4
}
