{
 "cells": [
  {
   "cell_type": "markdown",
   "metadata": {},
   "source": [
    "# Stoneburner, Kurt\n",
    "- ## DSC 530\n",
    "- ## Chapter 1, Exercise 2"
   ]
  },
  {
   "cell_type": "code",
   "execution_count": 1,
   "metadata": {},
   "outputs": [],
   "source": [
    "#Set Home working directory\n",
    "import os\n",
    "os.chdir(\"C:\\\\Users\\\\newcomb\\\\DSCProjects\\\\DSC\\\\DSC530\\\\ThinkStats2\\\\code\")\n",
    "\n",
    "# Imports from nsfg.py\n",
    "\n",
    "import sys\n",
    "import numpy as np\n",
    "import thinkstats2\n",
    "\n",
    "\n",
    "### This is pretty much straight from nsfg.py\n",
    "dct_file='2002FemResp.dct'\n",
    "dat_file='2002FemResp.dat.gz'\n",
    "\n",
    "dct = thinkstats2.ReadStataDct(dct_file)\n",
    "preg = dct.ReadFixedWidth(dat_file, compression='gzip', nrows=None)\n"
   ]
  },
  {
   "cell_type": "markdown",
   "metadata": {},
   "source": [
    "[Pregnancy Number codebook](https://www.icpsr.umich.edu/nsfg6/Controller?displayPage=labelDetails&fileCode=FEM&section=R&subSec=7869&srtLabel=606835)"
   ]
  },
  {
   "cell_type": "code",
   "execution_count": 2,
   "metadata": {},
   "outputs": [
    {
     "name": "stdout",
     "output_type": "stream",
     "text": [
      "0 NONE: 2610\n",
      "1 pregnancy: 1432\n",
      "2 pregnancies: 1267\n",
      "3 pregnancies: 1110\n",
      "4 pregnancies: 611\n",
      "5 pregnancies: 305\n",
      "6 pregnancies: 150\n",
      "7 pregnancies: 80\n",
      "8 pregnancies: 40\n",
      "9 pregnancies: 21\n",
      "10 pregnancies: 9\n",
      "11 pregnancies: 3\n",
      "12 pregnancies: 2\n",
      "13 pregnancies: 2\n",
      "14 pregnancies: 1\n",
      "Total Pregnancies: 7643\n"
     ]
    }
   ],
   "source": [
    "counter = 0\n",
    "for x in preg['pregnum'].value_counts():\n",
    "    \n",
    "    \n",
    "    if counter == 0:\n",
    "        displayCounter = str(counter) + \" NONE: \"\n",
    "    elif counter == 1:\n",
    "        displayCounter = str(counter) + \" pregnancy: \"\n",
    "    else :\n",
    "        displayCounter = str(counter) + \" pregnancies: \"\n",
    "\n",
    "    print(displayCounter  + str(x) )\n",
    "    \n",
    "    counter = counter + 1\n",
    "\n",
    "print(\"Total Pregnancies: \" + str(preg['pregnum'].value_counts().sum()))"
   ]
  }
 ],
 "metadata": {
  "kernelspec": {
   "display_name": "Python 3",
   "language": "python",
   "name": "python3"
  },
  "language_info": {
   "codemirror_mode": {
    "name": "ipython",
    "version": 3
   },
   "file_extension": ".py",
   "mimetype": "text/x-python",
   "name": "python",
   "nbconvert_exporter": "python",
   "pygments_lexer": "ipython3",
   "version": "3.8.3"
  }
 },
 "nbformat": 4,
 "nbformat_minor": 4
}
