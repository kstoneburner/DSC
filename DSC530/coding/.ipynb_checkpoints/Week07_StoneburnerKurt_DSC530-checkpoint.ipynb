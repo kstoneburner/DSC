{
 "cells": [
  {
   "cell_type": "markdown",
   "metadata": {},
   "source": [
    "Complete the following exercises:\n",
    "\n",
    "    Page 89: 7-1 (Using data from the NSFG, make a scatter plot of birth weight versus mother’s age…)\n",
    "    Page 99: 8-1 (In this chapter we used sample mean to estimate • and found that the sample mean yields lower MSE…)\n",
    "    Page 99: 8-2 (Suppose that you draw a sample size with n = 10 from an exponential distribution with • = 2…)\n"
   ]
  },
  {
   "cell_type": "markdown",
   "metadata": {},
   "source": [
    "# Stoneburner, Kurt\n",
    "- ## DSC 530 - Week 07"
   ]
  },
  {
   "cell_type": "code",
   "execution_count": 1,
   "metadata": {},
   "outputs": [],
   "source": [
    "# //****************************************************************************************\n",
    "# //*** Set Working Directory to thinkstats folder.\n",
    "# //*** This pseudo-relative path call should work on all Stoneburner localized projects. \n",
    "# //****************************************************************************************\n",
    "\n",
    "import os\n",
    "import sys\n",
    "workingPath = os.getcwd().replace(\"coding\", \"ThinkStats2\\\\code\")\n",
    "sys.path.insert(1, workingPath)\n",
    "os.chdir(workingPath)"
   ]
  },
  {
   "cell_type": "code",
   "execution_count": 2,
   "metadata": {},
   "outputs": [],
   "source": [
    "# //*** Imports and Load Data\n",
    "import nsfg\n",
    "import thinkstats2\n",
    "import thinkplot\n",
    "import first\n",
    "import matplotlib.pyplot as plt\n",
    "import numpy as np\n",
    "import pandas as pd\n",
    "import scipy\n",
    "\n",
    "#resp = nsfg.ReadFemResp()\n",
    "#preg = nsfg.ReadFemPreg()\n"
   ]
  },
  {
   "cell_type": "markdown",
   "metadata": {},
   "source": [
    "- ## Chapter 7, Exercise 1"
   ]
  },
  {
   "cell_type": "code",
   "execution_count": 3,
   "metadata": {},
   "outputs": [],
   "source": [
    "# //*** Get a pandas dataframe from the first library\n",
    "live, firsts, others = first.MakeFrames()\n",
    "# //*** Drop N/A values from agepreg and totalwgt_lb columns\n",
    "live = live.dropna(subset=['agepreg', 'totalwgt_lb'])"
   ]
  },
  {
   "cell_type": "markdown",
   "metadata": {},
   "source": [
    "**Using data from the NSFG, make a scatter plot of birth weight versus mother’s age.**"
   ]
  },
  {
   "cell_type": "code",
   "execution_count": 4,
   "metadata": {},
   "outputs": [
    {
     "data": {
      "image/png": "[encoded data removed]",
      "text/plain": [
       "<Figure size 432x288 with 1 Axes>"
      ]
     },
     "metadata": {
      "needs_background": "light"
     },
     "output_type": "display_data"
    }
   ],
   "source": [
    "# //*** scatter plot with matplotlib\n",
    "plt.scatter(live['agepreg'], live['totalwgt_lb'], 1, color='b')\n",
    "#plt.title(f\"Biased Distribution\\nMean: {round(resp['numkdhh'][resp['numkdhh'] > 0].mean(),2)}\")\n",
    "#plt.xlabel('Top 30 Jobecodes by Frequency')\n",
    "plt.ylabel('Birth Weight')\n",
    "plt.show()\n"
   ]
  },
  {
   "cell_type": "markdown",
   "metadata": {},
   "source": [
    "**Plot percentiles of birth weight versus mother’s age.**"
   ]
  },
  {
   "cell_type": "code",
   "execution_count": 5,
   "metadata": {},
   "outputs": [],
   "source": [
    "# //********************************************\n",
    "# //*** Reusable Functions Return from Week 03!\n",
    "# //********************************************\n",
    "# //*** Returns Series as a PMF\n",
    "# //********************************************\n",
    "def build_pmf(input_series):\n",
    "    output_series = input_series.copy()\n",
    "    total_values = input_series.sum()\n",
    "    for value,freq in output_series.items():\n",
    "        #print(f\"{value} {freq} {total_values} {freq/total_values}\")\n",
    "        output_series.loc[value] = freq/total_values\n",
    "    return output_series\n",
    "\n",
    "# //*** Build a Cumulative Distribution Function from a Probability Mass Function\n",
    "# //*** Returns a Series\n",
    "def build_cdf(input_series):\n",
    "    # //*** If input is not panda or pd series, try to convert it\n",
    "    if not isinstance(input_series,pd.core.series.Series):\n",
    "        input_series = pd.Series(input_series)\n",
    "        \n",
    "    # //*** If input is np.Array\n",
    "    output_series = input_series.copy()\n",
    "    cumulative_value = 0\n",
    "    for value,freq in output_series.items():\n",
    "        #print(f\"{value} {freq} {cumulative_value} {freq + cumulative_value}\")\n",
    "        cumulative_value = freq + cumulative_value\n",
    "        output_series.loc[value] = cumulative_value\n",
    "    return output_series\n",
    "\n",
    "# //*** Retrieve a percentile value from a CDF.\n",
    "# //*** Returns index value closest to input parameter percentile.\n",
    "def get_cdf_percentile(input_cdf,percentile):\n",
    "    #print(f\"{input_cdf}\")\n",
    "    #//*** Initialize output to first value\n",
    "    output = input_cdf.index[0]\n",
    "    \n",
    "    #//*** Loop through all items till the value exceeds the percentile\n",
    "    #//*** Return value from last loop\n",
    "    for index,value in input_cdf.items():\n",
    "        \n",
    "        if value > percentile:\n",
    "            return output\n",
    "        else:\n",
    "            output = index\n",
    "            "
   ]
  },
  {
   "cell_type": "code",
   "execution_count": 6,
   "metadata": {},
   "outputs": [
    {
     "data": {
      "image/png": "[encoded data removed]",
      "text/plain": [
       "<Figure size 432x288 with 1 Axes>"
      ]
     },
     "metadata": {
      "needs_background": "light"
     },
     "output_type": "display_data"
    }
   ],
   "source": [
    "# //*** Build some abstraction to ease future use\n",
    "# //*** The dependent Variable will be expressed as a mean of each binned value\n",
    "dependent_variable = 'agepreg'\n",
    "# //*** The independent variable will generate CDF percentiles for each binned_value\n",
    "independent_variable = 'totalwgt_lb'\n",
    "\n",
    "# //*** Get min and Max ages to set the limits of the group by bins\n",
    "# //*** Converting to integers adds headroom (extra space) to the floor\n",
    "# //*** Max + 1 gives a little extra room for Max\n",
    "minVal = int(live[dependent_variable].min())\n",
    "maxVal = int(live[dependent_variable].max())+1\n",
    "bin_values = [.75,.50,.25]\n",
    "\n",
    "# //*** Build binning parameters. Minimum value, Maximum Value, # of Bins\n",
    "bins = np.arange(minVal, maxVal, len(bin_values))\n",
    "\n",
    "#//*** Builds Index values for the bins\n",
    "#//*** Seems very obtuse to me\n",
    "indices = np.digitize(live[dependent_variable], bins)\n",
    "\n",
    "#//*** Groups the dataframe into groups of binned indexes\n",
    "groups = live.groupby(indices)   \n",
    "\n",
    "# //*** Builds a list of the age mean for each binned values\n",
    "mean_age_preg = [group.agepreg.mean() for i, group in groups]\n",
    "\n",
    "# //*** Build a list CDFs for each binned value\n",
    "CDFs = []\n",
    "\n",
    "# //*** group is a tuple. Tuple[0] = index, tuple[1] = dataframe\n",
    "for group in groups:\n",
    "    #//*** CDF for each binned dataframe\n",
    "    weight_counts = group[1][independent_variable].value_counts().sort_index()\n",
    "    weight_counts_pmf = build_pmf(weight_counts)   \n",
    "    weight_counts_cdf = build_cdf(weight_counts_pmf)   \n",
    "    CDFs.append(weight_counts_cdf)\n",
    "\n",
    "# //***********************************************************************************************************\n",
    "# //*** Trim the last data point. The final values are converging for some reason. The book appears to trim\n",
    "# //*** The last values off the groups using groups [1:-1]. That code does not run. Guessing it's due to a \n",
    "# //*** Syntax shift\n",
    "# //***********************************************************************************************************\n",
    "del CDFs[-1]\n",
    "del mean_age_preg[-1]\n",
    "\n",
    "labels = []\n",
    "for x in bin_values:\n",
    "    # //*** Build a list of percentiles to plot from each cdf using the percentile stored in bin_values\n",
    "    weight_percentiles = [get_cdf_percentile(cdf,x) for cdf in CDFs]\n",
    "    loop_label= f\"{int(x*100)}th\"\n",
    "    plt.plot(mean_age_preg,weight_percentiles,1, label=loop_label)\n",
    "    labels.append(loop_label)\n",
    "\n",
    "plt.xlabel('Age(mean)')\n",
    "plt.ylabel('Birth Weight (lb)')\n",
    "\n",
    "plt.legend(labels)\n",
    "plt.xlim(minVal,maxVal)\n",
    "plt.ylim(5,9)\n",
    "plt.show()\n",
    "    \n",
    "    \n"
   ]
  },
  {
   "cell_type": "markdown",
   "metadata": {},
   "source": [
    "Note: My 25th Percentile values don't match the book solutions and I don't understand why. My binned values for the first bin seem high. I believe I matched the sample code in setting this up, so i'm perplexed and moving on."
   ]
  },
  {
   "cell_type": "markdown",
   "metadata": {},
   "source": [
    "**Compute Pearson’s and Spearman’s correlations.**\n",
    "\n",
    "Pregnancy Age and Birth Weight Pearson's Correlation: 0.0688\n",
    "\n",
    "This result is significant with p < .05: 5.72e-11\n",
    "\n",
    "Pregnancy Age and Birth Weight Spearman's rank order correlation: 0.0946\n",
    "\n",
    "This result is significant with p < .05: 2e-19\n"
   ]
  },
  {
   "cell_type": "code",
   "execution_count": 7,
   "metadata": {},
   "outputs": [
    {
     "name": "stdout",
     "output_type": "stream",
     "text": [
      "Pregnancy Age and Birth Weight Pearson's Correlation: 0.0688\n",
      "This result is significant with p < .05: 5.72e-11\n",
      "Pregnancy Age and Birth Weight Spearman's rank order correlation: 0.0946\n",
      "This result is significant with p < .05: 2e-19\n"
     ]
    }
   ],
   "source": [
    "pearson_cor = scipy.stats.pearsonr(live['agepreg'],live['totalwgt_lb'])\n",
    "spearman_rank = scipy.stats.spearmanr(live['agepreg'],live['totalwgt_lb'])\n",
    "\n",
    "print(f\"Pregnancy Age and Birth Weight Pearson's Correlation: {round(pearson_cor[0],4)}\")\n",
    "print(f\"This result is significant with p < .05: {round(pearson_cor[1],13)}\")\n",
    "print(f\"Pregnancy Age and Birth Weight Spearman's rank order correlation: {round(spearman_rank[0],4)}\")\n",
    "print(f\"This result is significant with p < .05: {round(spearman_rank[1],21)}\")"
   ]
  },
  {
   "cell_type": "markdown",
   "metadata": {},
   "source": [
    "**How would you characterize the relationship between these variables:**\n",
    "\n",
    "The scatterplot shows a loose relationship between age and birth weight. There is no significant correlation between a mother's age and newborn birth weight."
   ]
  },
  {
   "cell_type": "markdown",
   "metadata": {},
   "source": [
    "- ## Chapter 8, Exercise 1\n",
    "\n",
    "**Exercise:**  In this chapter we used $\\bar{x}$ and median to estimate µ, and found that $\\bar{x}$ yields lower MSE. Also, we used $S^2$ and $S_{n-1}^2$ to estimate σ, and found that $S^2$ is biased and $S_{n-1}^2$ unbiased.\n",
    "Run similar experiments to see if $\\bar{x}$ and median are biased estimates of µ. Also check whether $S^2$ or $S_{n-1}^2$ yields a lower MSE."
   ]
  },
  {
   "cell_type": "markdown",
   "metadata": {},
   "source": [
    "### **Response:** ###\n",
    "\n",
    "**Both the sampled $\\bar{x}$ and sampled median produce unbiased estimators. As m (distribution iterations or sample_count) increase the Standard Error $\\sqrt{MSE}$ decreases.**\n",
    "\n",
    "**Tests using a sample_count of 100,500,1000 & 5000, resulted in a lower standard error as the sample_count increased.**\n",
    "\n",
    "\n",
    "m=100  - Mean Standard Error: 0.09629686273430654    : Median Standard Error: 0.11655846537662139\n",
    "\n",
    "m=500  - Mean Standard Error: 0.0018087969806330204  : Median Standard Error: 0.0027147858150198905\n",
    "\n",
    "m=1000 - Mean Standard Error: 0.0009411342595569493  : Median Standard Error: 0.00146110598466215\n",
    "\n",
    "m=5000 - Mean Standard Error: 0.00020222323693274804 : Median Standard Error:0.000317970028439837\n"
   ]
  },
  {
   "attachments": {
    "image.png": {
     "image/png": "[encoded data removed]"
    }
   },
   "cell_type": "markdown",
   "metadata": {},
   "source": [
    "![image.png](attachment:image.png)\n",
    "\n",
    "$$\\text {$\\bar{x}$ = Sample Mean} $$\n",
    "\n",
    "$$\\text {µ = distribution mean} $$\n",
    "\n",
    "$$\\text {m = number of tests to run} $$"
   ]
  },
  {
   "cell_type": "code",
   "execution_count": 19,
   "metadata": {},
   "outputs": [
    {
     "name": "stdout",
     "output_type": "stream",
     "text": [
      "##########################################################################\n",
      "Sample Count (m): 100\n",
      "########################\n",
      "Estimator Mean Squared Error (MSE): 0.0113762722014126\n",
      "Estimator Median MSE:               0.014978719588887563\n",
      "Estimator Mean sqrt(MSE):           0.10665960904397034\n",
      "Estimator Median sqrt(MSE:          0.12238757938977127\n",
      "Formula Variance:                   -0.012843856393472599\n",
      "Formula Variance:                   -0.0028725822156288995\n",
      "##########################################################################\n",
      "##########################################################################\n",
      "Sample Count (m): 500\n",
      "########################\n",
      "Estimator Mean Squared Error (MSE): 0.002267596018055325\n",
      "Estimator Median MSE:               0.0034651531088186077\n",
      "Estimator Mean sqrt(MSE):           0.04761928199852791\n",
      "Estimator Median sqrt(MSE:          0.05886555112133588\n",
      "Formula Variance:                   -0.005608481650546795\n",
      "Formula Variance:                   -0.003615713076700199\n",
      "##########################################################################\n",
      "##########################################################################\n",
      "Sample Count (m): 1000\n",
      "########################\n",
      "Estimator Mean Squared Error (MSE): 0.0010469573147694196\n",
      "Estimator Median MSE:               0.0015879265487120852\n",
      "Estimator Mean sqrt(MSE):           0.03235671977765082\n",
      "Estimator Median sqrt(MSE:          0.039848796076068414\n",
      "Formula Variance:                   -9.476860074586835e-05\n",
      "Formula Variance:                   0.0009061375367909225\n",
      "##########################################################################\n",
      "##########################################################################\n",
      "Sample Count (m): 5000\n",
      "########################\n",
      "Estimator Mean Squared Error (MSE): 0.0002011330434079378\n",
      "Estimator Median MSE:               0.0003218041663240628\n",
      "Estimator Mean sqrt(MSE):           0.014182138181809462\n",
      "Estimator Median sqrt(MSE:          0.01793890092296802\n",
      "Formula Variance:                   0.00029420790203326665\n",
      "Formula Variance:                   0.0004943067633859428\n",
      "##########################################################################\n"
     ]
    }
   ],
   "source": [
    "# //*** Build a mean estimator\n",
    "\n",
    "import random\n",
    "# //***********************************************\n",
    "# //*** Build a list comprised of a list of samples from a normal distribution.\n",
    "# //*** n=sample size: Default = 7\n",
    "# //*** m=totak number of samples\n",
    "# //*** mean = Distribution mean\n",
    "# //*** std_dev = Distribution standard deviation\n",
    "# //***********************************************\n",
    "# //*** Returns:\n",
    "# //****    list of list samples.\n",
    "# //****    list of means for each sample\n",
    "# //****    list of medians for each sample\n",
    "# //******************************************\n",
    "def random_distribution_normal(n=7, m=1000,mean=0,std_dev=1):\n",
    "    mu = mean\n",
    "    sigma = std_dev\n",
    "\n",
    "    means = []\n",
    "    medians = []\n",
    "    biased_variance = []\n",
    "    unbiased_variance = []\n",
    "    \n",
    "    # //***\n",
    "    for _ in range(m):\n",
    "        #//*** Generate List of Samples\n",
    "        xs = [random.gauss(mu, sigma) for _ in range(m)]\n",
    "        #//*** Mean of Sample\n",
    "        xbar = np.mean(xs)\n",
    "        #//*** Median of Sample\n",
    "        median = np.median(xs)\n",
    "\n",
    "        \n",
    "        means.append(xbar)\n",
    "        medians.append(median)\n",
    "        biased_variance.append( np.var(xs) )\n",
    "        unbiased_variance.append( np.var(xs, ddof=1) )\n",
    "\n",
    "    return xs,means,medians,biased_variance,unbiased_variance\n",
    "\n",
    "# //**************************************************************************************************************\n",
    "# //*** This is the most pythonic thing i've written. It's a lot for a single line.\n",
    "# //*** Starts with a loop iterator of the variance lists. \n",
    "# //*** Subtracts the actual variance from the biased variance for each instance, outputs each value into a list\n",
    "# //*** Gets the mean of all values in the list\n",
    "# //**************************************************************************************************************\n",
    "def mean_error(input_samples,actual_variance):\n",
    "    return np.mean([ bias - actual_variance for bias in input_samples ])\n",
    "\n",
    "for x in [100,500,1000,5000]:\n",
    "    # //****************************\n",
    "    sample_size = 7\n",
    "    sample_count = x\n",
    "    distribution_mean = 0\n",
    "    distribution_std_dev = 1\n",
    "    # //****************************\n",
    "\n",
    "    # //*** Generate list of sample lists, with sample mean and median\n",
    "    samples,samples_means,samples_medians,samples_biased_var,samples_unbiased_var = random_distribution_normal(\n",
    "        sample_size,sample_count,distribution_mean,distribution_std_dev)\n",
    "    # //********************\n",
    "    # //*** Determine MSE\n",
    "    # //***************************************************************************\n",
    "    # //*** Find the difference between:\n",
    "    # //***            the Sample Mean and the distribution_mean\n",
    "    # //***            and the sample median and the distribution_mean\n",
    "    # //*** Square the difference\n",
    "    # //*** Sum the result with the running total\n",
    "    # //*** when done with loop Multiply the result by 1/sample_count (or 1/m)\n",
    "    # //***************************************************************************    \n",
    "    print(f\"##########################################################################\")\n",
    "    difference_sum_mean = 0\n",
    "    difference_sum_median = 0\n",
    "    for index in range(sample_count):\n",
    "        loop_mean = samples_means[index]\n",
    "        loop_median = samples_medians[index]\n",
    "        #print(f\"{index} {samples_means[index]} {samples_medians[index]} {loop_mean - loop_median} {(loop_mean - loop_median)**2} {difference_sum}\")\n",
    "        difference_sum_mean = (loop_mean - distribution_mean)**2 +  difference_sum_mean \n",
    "        difference_sum_median = (loop_median - distribution_mean)**2 +  difference_sum_median \n",
    "\n",
    "    # //*** difference_sum = sum of mean - median squared for each sample\n",
    "    # //*** MSE = (1/sample_count) * difference Sum\n",
    "    estimator_mean_MSE = (1/sample_count) * difference_sum_mean\n",
    "    estimator_median_MSE = (1/sample_count) * difference_sum_median\n",
    "    \n",
    "    print(f\"Sample Count (m): {x}\")\n",
    "    print(f\"########################\")\n",
    "    print(f\"Estimator Mean Squared Error (MSE): {estimator_mean_MSE}\")\n",
    "    print(f\"Estimator Median MSE:               {estimator_median_MSE}\")\n",
    "    print(f\"Estimator Mean sqrt(MSE):           {np.sqrt(estimator_mean_MSE)}\")\n",
    "    print(f\"Estimator Median sqrt(MSE:          {np.sqrt(estimator_median_MSE)}\")\n",
    "\n",
    "    # //*** Find the Mean error between the unbiased and biased variance\n",
    "    # //*** An individual error is the estimated variance - actual variance (standard deviation ** 2)\n",
    "    # //*** Find the mean of all bias and unbiased sample variances\n",
    "\n",
    "    actual_variance = distribution_std_dev ** 2\n",
    "    \n",
    "    biased_variance = mean_error(samples_biased_var,actual_variance)\n",
    "    \n",
    "    unbiased_variance = mean_error(samples_unbiased_var,actual_variance)\n",
    "\n",
    "\n",
    "    print(f\"Formula Variance:                   {np.mean([ bias - actual_variance for bias in samples_biased_var ])}\")\n",
    "    print(f\"Formula Variance:                   {np.mean([ bias - actual_variance for bias in samples_unbiased_var ])}\")\n",
    "    print(f\"##########################################################################\")\n"
   ]
  },
  {
   "cell_type": "markdown",
   "metadata": {},
   "source": [
    "- ## Chapter 8, Exercise 2\n",
    "\n",
    "**Exercise:** Suppose you draw a sample with size n=10 from an exponential distribution with λ=2. Simulate this experiment 1000 times and plot the sampling distribution of the estimate L. Compute the standard error of the estimate and the 90% confidence interval.\n",
    "\n",
    "Repeat the experiment with a few different values of `n` and make a plot of standard error versus `n`.\n",
    "\n"
   ]
  },
  {
   "attachments": {
    "image.png": {
     "image/png": "[encoded data removed]"
    }
   },
   "cell_type": "markdown",
   "metadata": {},
   "source": [
    "The mean of an exponential distribution L could be 1 / scale. We could substitute the $\\bar{x}$ for scale and get L as an estimator.\n",
    "\n",
    "![image.png](attachment:image.png) \n",
    "\n"
   ]
  },
  {
   "attachments": {
    "image.png": {
     "image/png": "[encoded data removed]"
    }
   },
   "cell_type": "markdown",
   "metadata": {},
   "source": [
    "Median estimation is using: Lm = log(2) / median\n",
    "![image.png](attachment:image.png)\n"
   ]
  },
  {
   "cell_type": "code",
   "execution_count": 14,
   "metadata": {},
   "outputs": [
    {
     "name": "stdout",
     "output_type": "stream",
     "text": [
      "[2.7257572531920355, 2.795310321894048, 2.404615703564505, 2.4710511035659666, 2.1518345485671224, 2.1658386862132812, 2.176499005172634, 2.206170020992392, 2.1132539503963925, 2.1148196170277815, 2.0837138976496608, 2.081770110369886, 2.1277314519375197, 2.167365330044843, 2.178871394684168, 2.233747699565274, 2.2400242437114684, 2.2291263077271024, 2.2075484792993616, 2.2128995295300142, 2.2311094576747816, 2.1942816791488795, 2.2248786319286027, 2.2386545657441417, 2.2447830822474875, 2.291329665914354, 2.3111966086761346, 2.303198778863927, 2.2568996762339713, 2.2648230749046547, 2.2885713963329213, 2.3252948603236154, 2.2899719870474056, 2.2651978877685086, 2.2549780700538453, 2.2539607656231526, 2.2399388426997784, 2.2359475192373868, 2.250882632988881, 2.2145034763896225, 2.1906922597873333, 2.177284470568093, 2.193970629657159, 2.2070478253590875, 2.2133801346940674, 2.2043911796927462, 2.159207148033434, 2.1404464186765866, 2.1412925175017357, 2.131886347616246, 2.1026248139709423, 2.10768899614135, 2.102223112881084, 2.10333940497326, 2.1166900233647774, 2.121898452787506, 2.120405409610459, 2.125720596868025, 2.1240141548252325, 2.106371797184153, 2.0969703533609536, 2.0790437821684202, 2.0685604458657934, 2.0500088137938905, 2.054735102205115, 2.0516910329264704, 2.0682480268515735, 2.071082904058842, 2.0760966548541653, 2.0920566374535254, 2.0932189726768535, 2.1024348643881567, 2.0929501137064275, 2.1015574356170155, 2.1095752098260867, 2.1056505866634705, 2.110695663574187, 2.0979636858639097, 2.1058498261360867, 2.106134624291711, 2.0992109563406363, 2.0762346997418786, 2.0736226210711104, 2.0640074778489033, 2.0784969323025626, 2.0886864793212068, 2.0988960083233, 2.1073992591871846, 2.0928701308276887, 2.103271412416242, 2.1113480525053543, 2.110329139789752, 2.108834317807909, 2.101003818259842, 2.1010142259044255, 2.093774584260604, 2.1025269619445575, 2.1080763775418134, 2.1074671092581942, 2.114058513290119, 2.1136820278574446, 2.1189188880426593, 2.116692594578548, 2.102619172047064, 2.1008945038740716, 2.1026403605542363, 2.1034860837150773, 2.0981669879315965, 2.0975758595399214, 2.0954712522765386, 2.0875827474124526, 2.087120789150392, 2.075768099225115, 2.083436822813154, 2.0841442117134923, 2.0888991968694857, 2.0895315278227184, 2.0961096922212645, 2.0910875170316947, 2.086857393466409, 2.08923580523419, 2.083161579613328, 2.0762864312458533, 2.070836520636951, 2.0732187015709407, 2.06628300004976, 2.0589799214083158, 2.0657323036232307, 2.0594548381855775, 2.051807830915081, 2.0419774773425847, 2.045116576869899, 2.0398328711009714, 2.034682267020006, 2.0301586666322726, 2.0303103281232833, 2.0319178079347364, 2.025730069824491, 2.026572125162425, 2.023651501551485, 2.018654786114677, 2.0138804172850953, 2.0107100881541156, 2.0063052940139428, 2.012644469250446, 2.0100804920140494, 1.999443808045692, 2.0028360997941053, 1.9993351955148324, 1.9999448948489629, 2.001215049728067, 1.9988578245746513, 1.9979239931069468, 1.9962590478913225, 1.993358918802457, 1.9958640933823821, 1.993356741611377, 1.9950784154340673, 1.9934050090487634, 1.9888381611021178, 1.9946002671882401, 1.9890599934979336, 1.9947991927264521, 1.9968045150935658, 1.998991340500122, 2.001818769108983, 2.004481097283459, 2.006360103535558, 2.0024745410904, 2.008183560699432, 2.0063558408385784, 2.008469334722699, 2.012836329653423, 2.0125201202992744, 2.0157507018995755, 2.0183029929286724, 2.0210051417252934, 2.0258189726705513, 2.018862035585115, 2.0182376230822543, 2.019311445614901, 2.0246688400564943, 2.0207729655304667, 2.0199321940532373, 2.022676463706388, 2.0246386478692164, 2.0279122488333887, 2.0160237501326104, 2.017333586737361, 2.022692896042707, 2.0227248733647474, 2.0233005399739126, 2.023887972971265, 2.0249303397782796, 2.02766566675494, 2.0322203644762022, 2.0299027463321058, 2.023599528151146, 2.0244223102861536, 2.0289346263424672, 2.0246375146896924, 2.023275665467605, 2.021572769710917, 2.0180567236361147, 2.0157548581238345, 2.014034730115741, 2.0166564721751294, 2.013238738042942, 2.0153622811167637, 2.0150107813599436, 2.0169373782762827, 2.0193787911785663, 2.010732351952248, 2.008912900653758, 2.0102041557095203, 2.0144644864007026, 2.016850608485492, 2.0107572822694966, 2.0134704525168825, 2.009430506926072, 2.010169535887942, 2.010884504947874, 2.0124181284173863, 2.009911165392451, 2.0135942379250533, 2.01545644431465, 2.0185278640633224, 2.0209073018762487, 2.0227946473887783, 2.0250792760108305, 2.02212576159197, 2.020259967918712, 2.0220749578792367, 2.0189414638072316, 2.019240087631417, 2.0144493537863157, 2.0118883111591224, 2.0121033615229753, 2.0128878676629647, 2.0142672236951977, 2.0185203824202276, 2.0159097602727485, 2.0212774915096166, 2.0196532657361823, 2.0191015215481096, 2.0207676128917593, 2.0210004141672497, 2.023663072212506, 2.024457584304652, 2.027412682357301, 2.0223508507133046, 2.0246285926946435, 2.0209657903294374, 2.024746746917238, 2.0269888903933135, 2.0240414317900965, 2.024275597359091, 2.024128689171099, 2.0202188014769478, 2.0205074783883097, 2.021727288693602, 2.0222514394353426, 2.020762478225634, 2.0155015055873173, 2.01981890988557, 2.020719830210933, 2.0242540725689433, 2.018908027821537, 2.018960680405257, 2.0220741420304913, 2.020470942595556, 2.022856112087111, 2.021992518002641, 2.0224209741339383, 2.0201601954175232, 2.0150023362158986, 2.013200218482929, 2.014032085287591, 2.016742028541088, 2.0166120872404036, 2.0160821310929755, 2.0160722086736143, 2.0160388040146366, 2.0140222093379547, 2.0165136664921395, 2.0182464736589445, 2.0167667825740327, 2.0166210009025898, 2.016887384062483, 2.015814896232129, 2.0185342783202893, 2.0152824510184306, 2.0162346062581245, 2.0119427126901357, 2.0114467328762524, 2.0133822774591437, 2.008127566627997, 2.007600254721481, 2.0093846759342164, 2.007299928429424, 2.0097057111394294, 2.0095009948474485, 2.0117276836544566, 2.010933126774642, 2.003971617765064, 2.007166772505315, 2.010015690441984, 2.0093218942746005, 2.011498857177454, 2.011045787368882, 2.012742514918968, 2.015976277898999, 2.015139837248851, 2.01322208224487, 2.0094343100585976, 2.0105946258578067, 2.009133969429333, 2.011090206680284, 2.012592806889783, 2.0148051291466706, 2.0156242856643014, 2.0169831742103446, 2.017096045035261, 2.0152064468511743, 2.0149859450049217, 2.011879352790522, 2.010126149132308, 2.011030744411686, 2.009160204420667, 2.0086956153082243, 2.008482477069564, 2.0090675603976003, 2.0069420635030393, 2.0040810284236374, 2.004096393790831, 2.00427134914854, 2.0057513962167692, 2.0022221872307497, 2.0012359717797668, 2.0015653990850995, 1.999973583088972, 2.0013827901145183, 2.001804244897705, 1.9998737771906225, 1.998059313977193, 1.994502929987177, 1.9952212751832161, 1.997008547010091, 1.995269735030975, 1.9974602558990744, 1.9978796951687359, 1.9988900734110988, 2.0009907045248676, 2.0015753369064084, 2.0026208312478135, 2.003912661806023, 2.0053435593493685, 2.0071449357046873, 2.0078399363471906, 2.0089225503597747, 2.0066738520608784, 2.0085694437806976, 2.007426448727914, 2.008313147892536, 2.010456533439532, 2.0118281837183645, 2.011793788440637, 2.0119993499565942, 2.012078160340791, 2.013149024898681, 2.0118666797387608, 2.011505237030415, 2.0118739846078375, 2.01289330741947, 2.0149319067326026, 2.0143665195337683, 2.0143435878324714, 2.0166323011649006, 2.0167397691195945, 2.0196165869527034, 2.0194413630923838, 2.020864072314575, 2.0225679739927283, 2.0233391456511947, 2.0272094143919737, 2.0268204485264127, 2.0292122364659795, 2.027978102485369, 2.0261097921546924, 2.0249573176830213, 2.026871856675731, 2.0274473273713665, 2.0276829664777223, 2.0269218765659107, 2.027330314837848, 2.0267458840825605, 2.026600447080653, 2.028803637149016, 2.0287890070045127, 2.0295247692443845, 2.0280149105154743, 2.0299742416617867, 2.0281174004351565, 2.0306426855565363, 2.0309859531656596, 2.031035395609927, 2.028917311450095, 2.027511205309081, 2.024124828324274, 2.025327495759894, 2.026503595706161, 2.0285675277297197, 2.02996698503404, 2.029145066075148, 2.030907251947553, 2.0315272052306077, 2.033382758631234, 2.035520212210208, 2.0336635621178756, 2.0322521365406874, 2.033131829062927, 2.0317838539671644, 2.0334821904992144, 2.032859573171904, 2.0301120416933207, 2.025695015331279, 2.025609069711599, 2.0263315100850594, 2.028224600601084, 2.0290084903426324, 2.0304020089901624, 2.031762331594547, 2.0310002176634936, 2.030772288504914, 2.02930480183004, 2.028868832288003, 2.0309922610579374, 2.0314483310783205, 2.0313443209175057, 2.0311436295925684, 2.029876074599026, 2.03084556802244, 2.0298062773978756, 2.028609968921514, 2.027505118259791, 2.028109385707818, 2.029260964948462, 2.0306110593960356, 2.0324875620024465, 2.034167317828867, 2.034960065186731, 2.035553735012592, 2.037170886613914, 2.036461643151211, 2.035426748771329, 2.0336823050079205, 2.032755041630014, 2.033447669833794, 2.036238566246814, 2.0377122796946057, 2.03760270039754, 2.0393235747428706, 2.04079593315481, 2.0424402693115864, 2.0407068946400804, 2.037704281912449, 2.037314696842496, 2.0389803229193553, 2.0366542552876545, 2.0367250367654886, 2.034178268548454, 2.035575197731319, 2.0343389724881438, 2.0361052283423966, 2.0343937181650773, 2.035811365374279, 2.0363187649258325, 2.035945705737551, 2.036412703937436, 2.035803837622021, 2.0367673440133687, 2.0352194860561372, 2.034931711435207, 2.036557517753473, 2.037413868238888, 2.0364525810765204, 2.0350035303802927, 2.036317470585577, 2.035438496059972, 2.0370116583711835, 2.036564409496946, 2.0356489313928248, 2.031912908363513, 2.028943426494871, 2.029430735862302, 2.028513161217651, 2.0294375814937116, 2.0284449989748676, 2.0276290869762543, 2.027842699694243, 2.0277998641419366, 2.0286280638685827, 2.0289933170734824, 2.029577138868648, 2.031177307668056, 2.0305429091809417, 2.0267550182998555, 2.0259987316954975, 2.026884784514163, 2.0288927652964333, 2.0301133272572307, 2.0311401369081463, 2.0298608490793355, 2.0299909502487568, 2.0293802782180617, 2.0272141812426083, 2.0289996961750756, 2.0286333595921646, 2.0263425922090876, 2.026861019770591, 2.027971688444983, 2.0258976340069403, 2.026621713630865, 2.027737438078712, 2.0263714159938884, 2.025467804690294, 2.0264295096358893, 2.0278943699086183, 2.0285680695846855, 2.0285307282741245, 2.028046551238491, 2.0263368848367804, 2.022590706271548, 2.02181263794171, 2.022345731725667, 2.021654030775085, 2.0210000330664197, 2.021943906484528, 2.0198817991838935, 2.017380125978148, 2.0160705161669514, 2.016564158197436, 2.0164346402237068, 2.01751545105756, 2.0178026298567437, 2.0203871584640924, 2.019698741273183, 2.0203897169324656, 2.0198655295930226, 2.0187122230347896, 2.017436348914171, 2.0189095896990357, 2.0191846270927094, 2.017430873946749, 2.0164468961604327, 2.015911774797172, 2.015768750966821, 2.0162507749044547, 2.0160198043496695, 2.0168866211704146, 2.0158477912967765, 2.016900481553332, 2.0177736655641474, 2.017567993072204, 2.018572005756297, 2.0185836551179586, 2.0177688358736647, 2.0173130387147937, 2.017249456737501, 2.014681383802333, 2.0150755984810287, 2.0159684519083134, 2.0140366326920205, 2.0132807119475755, 2.013499822093917, 2.013499554298687, 2.013695362803092, 2.013745246754444, 2.0140781019321814, 2.0115759244208316, 2.0113951791349165, 2.012046042641437, 2.0106645553925606, 2.0118511179518466, 2.0083411681999745, 2.0086913623698313, 2.0090687665199063, 2.008886620778506, 2.0098577081694042, 2.0116912469664774, 2.0103125074200454, 2.008311712946701, 2.0098712437702013, 2.010180722881153, 2.010000785768672, 2.010989041861935, 2.0116212708346612, 2.0105385487383884, 2.0118307699897664, 2.012813750429606, 2.011494848330219, 2.0119691574947516, 2.0119368696865845, 2.011181395989345, 2.0108115239332727, 2.0110590834877033, 2.0105647736921566, 2.010432874055248, 2.0101434644740124, 2.0107676570890454, 2.010826729326067, 2.010122550276142, 2.011484571776504, 2.0108170331540154, 2.012323202731365, 2.0118302127664767, 2.0129105643132554, 2.013642303335716, 2.0119943207108735, 2.0093113931805133, 2.008477138752296, 2.00889443753896, 2.0092225818892144, 2.007865837249269, 2.0075265379372067, 2.0088730100697347, 2.0095310523144163, 2.0100579315947917, 2.011248720789527, 2.010655113121531, 2.0106744276224724, 2.010544483483866, 2.0103497791298253, 2.0102336528222886, 2.0110227413556596, 2.0113495446273024, 2.0126275733352794, 2.01261358163141, 2.01349659382105, 2.0120822240539495, 2.0116495231952034, 2.011259316797373, 2.010745106340216, 2.0100070732963577, 2.0116426641196035, 2.0121984253984784, 2.013316204719555, 2.0140859554815362, 2.0110477471535266, 2.0112841211709602, 2.0126451402215952, 2.0119941906502916, 2.011918986021803, 2.013218382888348, 2.013613861622052, 2.0137638719883872, 2.0140644235981364, 2.013701985579715, 2.0126940168904834, 2.012956066558456, 2.0139549554824474, 2.0114425027806204, 2.010127223218745, 2.0106335783123295, 2.010501847106424, 2.010040453741203, 2.0095944898043188, 2.009133226752058, 2.008337062575165, 2.008756175055459, 2.008194544299282, 2.008559171807066, 2.007986142431687, 2.0074968008588794, 2.0074267328773243, 2.007976359596818, 2.0080459554073995, 2.008464001616631, 2.0091962817693694, 2.0091407276829543, 2.0094725993490603, 2.0108322810480623, 2.012831265574691, 2.012371866537569, 2.0126211452450073, 2.0127763807115904, 2.0136804317606876, 2.013871376013259, 2.0148697202224346, 2.014620604755988, 2.0150638136325756, 2.0148683853247276, 2.015586763059955, 2.0158055458344295, 2.015185882666981, 2.014308829264198, 2.015025323559505, 2.0155594647327746, 2.0154425511201857, 2.0149917725522326, 2.0137032271237323, 2.0129809231423135, 2.01310393788147, 2.013573590252892, 2.0126755966972634, 2.0117028548489344, 2.011144815102457, 2.0101786687210055, 2.011440978871287, 2.0099052385626495, 2.01108698434549, 2.010531334909365, 2.0110795595863893, 2.0100689552906843, 2.0093325662487307, 2.007958536752703, 2.0066011552119143, 2.0067193196406166, 2.0078942366362726, 2.008247725034938, 2.0093927988339177, 2.0101490199982925, 2.0108490961267274, 2.0115400978772358, 2.010406882123979, 2.0099805306852168, 2.009328529537058, 2.008968256552992, 2.0079553459970545, 2.0070595898167003, 2.007436700697151, 2.0086586757765454, 2.0100541492149104, 2.0092989443686715, 2.0095356720016317, 2.0103394390379825, 2.01062985080644, 2.011217443103097, 2.009990793889477, 2.0103581240931243, 2.0089258023616514, 2.010089371862484, 2.009747295313128, 2.0097542154633525, 2.010103399547385, 2.009974836550753, 2.0091474048775977, 2.0097805056300078, 2.010646303844785, 2.0102946154385823, 2.0102773987575704, 2.0110865469996027, 2.0111016291306347, 2.0096382322120863, 2.0104821306647698, 2.009619090677601, 2.008758723131763, 2.0083879237315285, 2.007928815859289, 2.0067192726004373, 2.007695256111343, 2.007369359922365, 2.0079942851041226, 2.0085991572705524, 2.007925032880581, 2.007601625899479, 2.008596433786353, 2.008886766700278, 2.0076194122952464, 2.008452119912358, 2.0079077058707724, 2.007624359950181, 2.0076162412991656, 2.008570619943864, 2.0082748065797755, 2.00807525252282, 2.0085618913626386, 2.007374485713971, 2.0083084278969254, 2.008498676583694, 2.00799793209164, 2.0085724895410655, 2.0092685690774235, 2.009451398023243, 2.0092447469261523, 2.0100116846913525, 2.0099070317779963, 2.0102551491304537, 2.009308313439447, 2.0097090371068798, 2.0095704836196155, 2.0107373031907954, 2.0104029417182168, 2.00996005300316, 2.010695133229228, 2.010781228439721, 2.0088738504548638, 2.0085918017842608, 2.0083040847316367, 2.0084054241668774, 2.00907687413028, 2.009184234670783, 2.007835535346272, 2.008118804484124, 2.008876209492824, 2.008700860031358, 2.0099797638756183, 2.0091807228757803, 2.0081356288220102, 2.007109342630213, 2.0062622188265133, 2.0070643962253536, 2.0068455006529824, 2.0063222589198166, 2.0070290026449236, 2.0077753963779275, 2.0067980424870364, 2.0066543315126593, 2.006831575717629, 2.007350877653563, 2.0080299335844964, 2.009249642002847, 2.0087309432970426, 2.008966897724562, 2.0090039676637486, 2.0101377744265383, 2.010971897872833, 2.0102569198258426, 2.011136403388071, 2.011117634904, 2.009773094661729, 2.010137797378333, 2.011000659935561, 2.0114170964489753, 2.011265753172619, 2.0114731453696773, 2.012343676591158, 2.0125972202895763, 2.013421656882569, 2.012986500242498, 2.0138096400493306, 2.0141856546984043, 2.0144461365576483, 2.013450073378424, 2.013813765652229, 2.0140967885592183, 2.0146013517920363, 2.015536811864262, 2.014416471874422, 2.0156238228939887, 2.015840119134956, 2.0159745372352256, 2.0153733636559887, 2.015422005870774, 2.0158077101317695, 2.0160797827192236, 2.0165157994065677, 2.016475211929576, 2.0159368655656724, 2.0157122016638067, 2.0156729703525245, 2.016376533375913, 2.01524898159453, 2.0149042894975606, 2.0145387545987066, 2.012760585446717, 2.012471021036271, 2.0126721553239943, 2.0136549480401182, 2.013463307228072, 2.0137810286096562, 2.014371707096642, 2.0153436398411864, 2.015933152352303, 2.0157397723935415, 2.0163605243623945, 2.0169306730448024, 2.017307824601902, 2.0169076866349847, 2.0179651669895735, 2.0179253674413857, 2.0176207379772846, 2.017797129427428, 2.017300196714554, 2.016953266816983, 2.016023322273166, 2.0158553304394045, 2.0135562950486663, 2.0137263347352046, 2.013885026557783, 2.013051818471147, 2.013572069448364, 2.0130812627367844, 2.012339913555571, 2.0123545488622674, 2.012667921013276, 2.0127947251326366, 2.0121574809687477, 2.0128877126673954, 2.0140976588275636, 2.013093477351455, 2.0134323022708718, 2.013886463459503, 2.0141149846162727, 2.0144401664687925, 2.0143213984024833, 2.0135205213787484, 2.0138156947747574, 2.013946852203521, 2.013327130261933, 2.0130933178464643, 2.011865008815957, 2.012685130140129, 2.013414896231629, 2.0134063799814315, 2.012149087578266, 2.0126478167129864, 2.012189739776766, 2.012264548155961, 2.0107564679134753, 2.0101392432715763, 2.0111290512546693, 2.0111534379566254, 2.0110561816853503, 2.0118088589749323, 2.0124698769855076, 2.012644309147539, 2.0129119144534924, 2.0119310447134233, 2.0122706848380383, 2.01280482170759, 2.012940387407683, 2.013654388201543, 2.0135629879335144, 2.0144235794895877, 2.014731518525653, 2.0149749938822374, 2.0158159984437636, 2.0159531020821095, 2.016330535992833, 2.016049238026713, 2.016432576291174, 2.0173666366530765, 2.0180856526946362, 2.0185035965600795, 2.0180781875004583, 2.018462553693236, 2.0182930156790224, 2.0187687873179554, 2.019314552360929, 2.0194845614731025, 2.020074080517817, 2.0197734170280066, 2.0191470910914906, 2.019300246479922, 2.019592865651192, 2.0197591420077012, 2.0195391167640775, 2.0193707623440726, 2.019340698477116, 2.0200575355222887, 2.0200158158801997, 2.019811476530428, 2.0205337547129987, 2.0196373031307324, 2.0201867006462786, 2.0205930133489347, 2.0203583371709035, 2.019920305614391, 2.018886902401886, 2.0191190807454604, 2.01872671332208, 2.018741492761439, 2.019121325924334, 2.0190458915991107, 2.0192552607703464, 2.0190526293120565, 2.0182028604359052, 2.018161770866367, 2.0184300396608936, 2.0183776383317733, 2.0192310911968017, 2.0199239376223295, 2.019965541615046, 2.021074480400588, 2.020725952906412, 2.020971373997654, 2.021475665341743, 2.0216966317843172, 2.0221508380318145, 2.021320513045822, 2.022184917042401, 2.022367543903715, 2.02307185362537, 2.0225670607725506, 2.022613354698062, 2.022377371761699, 2.0223294905448834, 2.022171989895355, 2.0221614162246726]\n"
     ]
    }
   ],
   "source": [
    "import math \n",
    "\n",
    "# //*** Build a list comprised of a list of samples from a normal distribution.\n",
    "# //*** n=sample size: Default = 7\n",
    "# //*** m=totak number of samples\n",
    "# //*** low_val = Distribution minimum value\n",
    "# //*** high_val = Distribution maximum value\n",
    "# //******************************************\n",
    "# //*** Returns:\n",
    "# //****    list of list samples.\n",
    "# //****    list of means for each sample\n",
    "# //****    list of medians for each sample\n",
    "# //******************************************\n",
    "def random_distribution_exponential(distribution_size=7, distribution_count=1000,scale=2):\n",
    "\n",
    "    xs=[]\n",
    "    means = []\n",
    "    medians = []\n",
    "    \n",
    "    # //***\n",
    "    for _ in range(distribution_count):\n",
    "        #//*** Generate List of Samples\n",
    "        xs.append(np.random.exponential( 1 / scale, distribution_size))\n",
    "        \n",
    "        #//*** Mean estimation\n",
    "        L = 1/np.mean(xs)\n",
    "        #//*** Median estimation\n",
    "        Lm = math.log(2) / np.median(xs)\n",
    "        \n",
    "        means.append(L)\n",
    "        medians.append(Lm)\n",
    "\n",
    "    return xs,means,medians\n",
    "\n",
    "\n",
    "# //****************************\n",
    "sample_size = 10\n",
    "sample_count = 1000\n",
    "sample_scale = 2\n",
    "# //***************************             \n",
    "samples_exp, samples_mean_exp,samples_median_exp = random_distribution_exponential(sample_size,sample_count,sample_scale)\n"
   ]
  },
  {
   "cell_type": "code",
   "execution_count": null,
   "metadata": {},
   "outputs": [],
   "source": [
    "# //*** CODE HERE"
   ]
  },
  {
   "cell_type": "code",
   "execution_count": null,
   "metadata": {},
   "outputs": [],
   "source": [
    "# //*** Matplot reference\n",
    "#plt.scatter(live['totalwgt_lb'], live['agepreg'],1, color='b')\n",
    "#plt.tight_layout()\n",
    "\n",
    "#plt.xticks(billable_value_count_top_30.index.values, billable_value_count_top_30.index, rotation='vertical')\n",
    "#plt.title(f\"Biased Distribution\\nMean: {round(resp['numkdhh'][resp['numkdhh'] > 0].mean(),2)}\")\n",
    "#plt.xlabel('Top 30 Jobecodes by Frequency')\n",
    "#plt.ylabel('Item Frequency')\n",
    "#plt.figure(figsize=(1,500))\n",
    "plt.show()\n"
   ]
  }
 ],
 "metadata": {
  "kernelspec": {
   "display_name": "Python 3",
   "language": "python",
   "name": "python3"
  },
  "language_info": {
   "codemirror_mode": {
    "name": "ipython",
    "version": 3
   },
   "file_extension": ".py",
   "mimetype": "text/x-python",
   "name": "python",
   "nbconvert_exporter": "python",
   "pygments_lexer": "ipython3",
   "version": "3.8.3"
  }
 },
 "nbformat": 4,
 "nbformat_minor": 4
}
