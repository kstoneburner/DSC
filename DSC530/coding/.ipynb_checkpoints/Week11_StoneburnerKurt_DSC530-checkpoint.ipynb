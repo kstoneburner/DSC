{
 "cells": [
  {
   "cell_type": "markdown",
   "metadata": {},
   "source": [
    "# Stoneburner, Kurt\n",
    "- ## DSC 530 - Week 11"
   ]
  },
  {
   "cell_type": "code",
   "execution_count": 1,
   "metadata": {},
   "outputs": [],
   "source": [
    "def CleanData(resp):\n",
    "    \"\"\"Cleans respondent data.\n",
    "\n",
    "    resp: DataFrame\n",
    "    \"\"\"\n",
    "    resp.cmdivorcx.replace([9998, 9999], np.nan, inplace=True)\n",
    "    #//*** Replace Date of first marriage nan with 0, otherwith durationsofar blows up\n",
    "    resp['cmmarrhx'].replace(np.nan,0)\n",
    "    resp['notdivorced'] = resp.cmdivorcx.isnull().astype(int)\n",
    "    resp['duration'] = (resp.cmdivorcx - resp.cmmarrhx) / 12.0\n",
    "    resp['durationsofar'] = (resp.cmintvw - resp.cmmarrhx) / 12.0\n",
    "\n",
    "    month0 = pd.to_datetime('1899-12-15')\n",
    "    dates = [month0 + pd.DateOffset(months=cm) \n",
    "             for cm in resp.cmbirth]\n",
    "    resp['decade'] = (pd.DatetimeIndex(dates).year - 1900) // 10\n",
    "    \n",
    "    resp.cmmarrhx.replace([9997, 9998, 9999], np.nan, inplace=True)\n",
    "    resp['agemarry'] = (resp.cmmarrhx - resp.cmbirth) / 12.0\n",
    "    resp['age'] = (resp.cmintvw - resp.cmbirth) / 12.0"
   ]
  },
  {
   "cell_type": "code",
   "execution_count": 2,
   "metadata": {},
   "outputs": [],
   "source": [
    "####################################################\n",
    "####################################################\n",
    "####################################################\n",
    "####//*** Reused Functions from previous exercises\n",
    "####################################################\n",
    "####################################################\n",
    "####################################################\n",
    "# //*****************************************\n",
    "# //*** Build a probability mass function\n",
    "# //*****************************************\n",
    "# //*** Returns Series as a PMF\n",
    "# //*****************************************\n",
    "def build_pmf(input_series):\n",
    "    output_series = input_series.copy()\n",
    "    total_values = input_series.sum()\n",
    "    for value,freq in output_series.items():\n",
    "        #print(f\"{value} {freq} {total_values} {freq/total_values}\")\n",
    "        output_series.loc[value] = freq/total_values\n",
    "    return output_series\n",
    "\n",
    "# //*** Build a Cumulative Distribution Function from a Probability Mass Function\n",
    "# //*** Returns a Series\n",
    "def build_cdf(input_series):\n",
    "    # //*** If input is not panda or pd series, try to convert it\n",
    "    if not isinstance(input_series,pd.core.series.Series):\n",
    "        input_series = pd.Series(input_series)\n",
    "        \n",
    "    # //*** If input is np.Array\n",
    "    output_series = input_series.copy()\n",
    "    cumulative_value = 0\n",
    "    for value,freq in output_series.items():\n",
    "        #print(f\"{value} {freq} {cumulative_value} {freq + cumulative_value}\")\n",
    "        cumulative_value = freq + cumulative_value\n",
    "        output_series.loc[value] = cumulative_value\n",
    "    return output_series\n",
    "\n",
    "# //*** Retrieve a percentile value from a CDF.\n",
    "# //*** Returns index value closest to input parameter percentile.\n",
    "def get_cdf_percentile(input_cdf,percentile):\n",
    "    #print(f\"{input_cdf}\")\n",
    "    #//*** Initialize output to first value\n",
    "    output = input_cdf.index[0]\n",
    "    \n",
    "    #//*** Loop through all items till the value exceeds the percentile\n",
    "    #//*** Return value from last loop\n",
    "    for index,value in input_cdf.items():\n",
    "        \n",
    "        if value > percentile:\n",
    "            return output\n",
    "        else:\n",
    "            output = index\n"
   ]
  },
  {
   "cell_type": "code",
   "execution_count": 3,
   "metadata": {},
   "outputs": [],
   "source": [
    "# //****************************************************************************************\n",
    "# //*** Set Working Directory to thinkstats folder.\n",
    "# //*** This pseudo-relative path call should work on all Stoneburner localized projects. \n",
    "# //****************************************************************************************\n",
    "\n",
    "import os\n",
    "import sys\n",
    "workingPath = os.getcwd().replace(\"coding\", \"ThinkStats2\\\\code\")\n",
    "sys.path.insert(1, workingPath)\n",
    "os.chdir(workingPath)"
   ]
  },
  {
   "cell_type": "code",
   "execution_count": 7,
   "metadata": {},
   "outputs": [],
   "source": [
    "# //*** Imports and Load Data\n",
    "import nsfg\n",
    "import thinkstats2\n",
    "import thinkplot\n",
    "import first\n",
    "import matplotlib.pyplot as plt\n",
    "import numpy as np\n",
    "import pandas as pd\n",
    "import random\n",
    "\n",
    "resp6 = nsfg.ReadFemResp(dct_file='2002FemResp.dct',dat_file='2002FemResp.dat.gz')\n",
    "resp7 = nsfg.ReadFemResp(dct_file='2006_2010_FemRespSetup.dct',dat_file='2006_2010_FemResp.dat.gz')\n",
    "\n",
    "CleanData(resp6)\n",
    "\n",
    "CleanData(resp7)\n",
    "\n",
    "#//*** Combine 2002 and 2010 datasets\n",
    "resp = pd.concat([resp6,resp7], sort=False)"
   ]
  },
  {
   "cell_type": "markdown",
   "metadata": {},
   "source": [
    "**Exercise:**    In NSFG Cycles 6 and 7, the variable `cmdivorcx` contains the date of divorce for the respondent’s first marriage, if applicable, encoded in century-months.\n",
    "\n",
    "Compute the duration of marriages that have ended in divorce, and the duration, so far, of marriages that are ongoing. Estimate the hazard and survival curve for the duration of marriage.\n",
    "\n",
    "Use resampling to take into account sampling weights, and plot data from several resamples to visualize sampling error.\n",
    "\n",
    "Consider dividing the respondents into groups by decade of birth, and possibly by age at first marriage."
   ]
  },
  {
   "cell_type": "code",
   "execution_count": null,
   "metadata": {},
   "outputs": [],
   "source": []
  },
  {
   "cell_type": "code",
   "execution_count": 5,
   "metadata": {},
   "outputs": [],
   "source": [
    "####################################################\n",
    "####################################################\n",
    "####################################################\n",
    "####//*** New Functions for this wee\n",
    "####################################################\n",
    "####################################################\n",
    "####################################################\n",
    "# def build_hazard_function(sf):\n",
    "#-------- Takes a survival function and returns a hazard Function\n",
    "###################################################################\n",
    "# build_kaplan_meier_hazard_curve(input_complete, input_ongoing):\n",
    "#--------- Generates an estimates the longevity of a \n",
    "#--------- population and returns a hazard function \n",
    "###################################################################\n",
    "#//*** Build hazard function from a cdf\n",
    "#//*** Hazard Function: (1-CDF(x)) - (1-CDF(x+1)) / (1-CDF(x))\n",
    "#//*** Difference between a value and the next value (ie the difference in two values) divided by the first value\n",
    "#//*** This is a percentage of difference between sequential survivor function (1-CDF[x]) values\n",
    "#//**** Returns a dictionary of hazard values\n",
    "def build_hazard_function(sf):\n",
    "    #//*** Convert cdf to survival function\n",
    "    #sf = 1 - pd.Series(input_cdf)\n",
    "    \n",
    "    #//*** output dictionary\n",
    "    out_dict= {}\n",
    "    \n",
    "    for index,value in enumerate(sf):\n",
    "        #//*** Skip the last value since it generates an out of array error.\n",
    "        #//*** Had troubles parsing a series len(-1) so did it this way\n",
    "        if index < len(sf)-1:\n",
    "            if sf.iloc[index] != 0:\n",
    "                #//*** Value = Hazard Value\n",
    "                out_dict[value] = ( sf.iloc[index] - sf.iloc[index+1] / sf.iloc[index] )\n",
    "            else:\n",
    "                out_dict[value] = 0\n",
    "    return out_dict\n",
    "\n",
    "#//*** Build a Kaplan Meier Survival Curve to estimate a survival function\n",
    "#//*** For an estimated/predicted lifetime\n",
    "\n",
    "def build_kaplan_meier_hazard_curve(input_complete, input_ongoing):\n",
    "    #//*** Build Histogram Dictionary of Complete and ongoing\n",
    "    #//*** No reason to import a Counter Library for Basic stuff\n",
    "    #//*** Usual histogram method of value_counts and sort_index, combined with a for items loop\n",
    "    #//*** to convert to a dictionary\n",
    "    #from collections import Counter    \n",
    "    #hist_complete_counter = Counter(input_complete)\n",
    "    #hist_ongoing_counter =  Counter(input_ongoing)\n",
    "    hist_combined_list = []    \n",
    "\n",
    "    hist_complete = {}\n",
    "    for index, value in input_complete.value_counts().sort_index().items():\n",
    "        #//*** Add Unique value to the combined list\n",
    "        if index not in hist_complete.keys():\n",
    "            hist_combined_list.append(index)\n",
    "\n",
    "        #//*** Add to Dictionary\n",
    "        hist_complete[index] = value\n",
    "\n",
    "    hist_ongoing = {}\n",
    "    for index, value in input_ongoing.value_counts().sort_index().items():\n",
    "        #//*** Add Unique value to the combined list\n",
    "        if index not in hist_complete.keys():\n",
    "            hist_combined_list.append(index)\n",
    "\n",
    "        #//*** Add to Dictionary\n",
    "        hist_ongoing[index] = value\n",
    "\n",
    "    #hist_combined_list = list(hist_complete_counter | hist_ongoing_counter)\n",
    "    hist_combined_list.sort()\n",
    "    \n",
    "    at_risk = len(input_complete) + len(input_ongoing)\n",
    "    \n",
    "\n",
    "    #//*** Create an empty Survival curve using the hist_comibined_list as a key\n",
    "    #//*** All values will be represented in the Survival Curve.\n",
    "    #//*** If something is missed it will be represented as a NaN\n",
    "    survival_curve = pd.Series(index=hist_combined_list,dtype='float')\n",
    "\n",
    "    #//*** Go through each value in the ongoing and complete dictionaries\n",
    "    #//*** Get the count of each, or zero if not found\n",
    "    for x in hist_combined_list:\n",
    "        \n",
    "\n",
    "        #ended = hist_complete_counter[x]\n",
    "        #censored = hist_ongoing_counter[x]\n",
    "        \n",
    "        if x in hist_complete.keys():\n",
    "            ended = hist_complete[x]\n",
    "        else:\n",
    "            ended = 0\n",
    "\n",
    "        if x in hist_ongoing.keys():\n",
    "            censored = hist_ongoing[x]\n",
    "        else:\n",
    "            censored = 0\n",
    "\n",
    "        #//*** Calculate the percentage of ended vs the remaining at risk\n",
    "        survival_curve[x] = ended / at_risk\n",
    "\n",
    "        \n",
    "        #//*** Reduced the at_risk total by the totals found\n",
    "        at_risk -= ended + censored\n",
    "\n",
    "    return survival_curve\n",
    "\n"
   ]
  },
  {
   "cell_type": "code",
   "execution_count": 17,
   "metadata": {},
   "outputs": [
    {
     "name": "stdout",
     "output_type": "stream",
     "text": [
      "0.1\n",
      "0.2\n"
     ]
    }
   ],
   "source": [
    "#resp['notdivorced'] = resp.cmdivorcx.isnull().astype(int)\n",
    "#resp['duration'] = (resp.cmdivorcx - resp.cmmarrhx) / 12.0\n",
    "#resp['durationsofar'] = (resp.cmintvw - resp.cmmarrhx) / 12.0\n",
    "\n",
    "#//*** There are a number of coding errors with durationsofar. A few marriages and divorces are listed \n",
    "#//*** are negative lengths. Drop these rows\n",
    "resp.drop(index=resp[ resp['durationsofar'] <= 0 ].index, inplace=True)\n",
    "resp.drop(index=resp[ resp['duration'] <= 0 ].index, inplace=True)\n",
    "\n",
    "#//*** Estimate the hazard function by Kaplan-Meier\n",
    "#//*** Generates Risk for each specific Value. \n",
    "#//**** Round Ages \n",
    "complete = round(resp[resp.evrmarry==1]['duration'].dropna(),1)\n",
    "#ongoing =  round( resp[resp.evrmarry==0]['durationsofar'],1)\n",
    "#//*** Using Age for ongoing since durationsofar is throwing all nan\n",
    "ongoing =  round( resp[resp.evrmarry==0]['durationsofar'],1)\n",
    "print(ongoing.min())\n",
    "print(ongoing.max())\n",
    "#,['cmmarrhx']\n",
    "\n",
    "#for index,value in ongoing.items():\n",
    "#    print(f\"{index} {value}\")\n"
   ]
  },
  {
   "cell_type": "code",
   "execution_count": 29,
   "metadata": {},
   "outputs": [
    {
     "data": {
      "image/png": "[encoded data removed]",
      "text/plain": [
       "<Figure size 432x288 with 1 Axes>"
      ]
     },
     "metadata": {
      "needs_background": "light"
     },
     "output_type": "display_data"
    }
   ],
   "source": [
    "\n",
    "hazard_curve = build_kaplan_meier_hazard_curve(complete,ongoing)\n",
    "#//*** Convert Hazard to Sur\n",
    "#survival_cdf = build_cdf(survival_curve)\n",
    "#hazard_curve = build_hazard_function(survival_curve)\n",
    "\n",
    "\n",
    "#//****************************************************\n",
    "#//**** Convert Hazard Function to Survival Function\n",
    "#//****************************************************\n",
    "ts = hazard_curve.index\n",
    "#//*** cumprod - cumulative product. Essentially builds a CDF from hazard curve\n",
    "#//**** (1-hazard_curve).cumprod() Survival Function (reciprocal CDF) of hazard curve\n",
    "ss = (1 - hazard_curve).cumprod()\n",
    "temp = pd.Series(index = ts, data=ss)\n",
    "#//****************************************************\n",
    "\n",
    "\n",
    "#//*** Do we resample complete from the original CDF? Or from the Estimated CDF?\n",
    "#//*** Build CDF for complete for weighted resampling, ongoing is essentially empty\n",
    "#//*** Reference: https://www.python-course.eu/weighted_choice_and_sample.php\n",
    "ss_cdf = 1-ss\n",
    "#complete_cdf = build_pmf(complete.value_counts().sort_index())\n",
    "import random\n",
    "#//*** Weighted Resample for complete and ongoing\n",
    "complete_len = len(complete)\n",
    "#resample_complete\n",
    "plt.plot(ts,temp,1,\"r\")\n",
    "for _ in range(100):\n",
    "    #//*** Generate random percentages with the range of the CDF.\n",
    "    #//*** These Become our weights\n",
    "    complete_weight = [random.uniform(ss_cdf.min(),ss_cdf.max()) for __ in range(complete_len) ]\n",
    "    \n",
    "    \n",
    "    complete_resample = pd.Series( data=[ get_cdf_percentile(ss_cdf,__) for __ in complete_weight ] )\n",
    "    ongoing_resample = pd.Series( data=[ np.nan for __ in range(len(ongoing)) ] )\n",
    "    \n",
    "    resample_hazard_curve = build_kaplan_meier_hazard_curve(complete_resample,ongoing_resample)\n",
    "    \n",
    "    re_sample_ts = resample_hazard_curve.index\n",
    "    #//*** cumprod - cumulative product. Essentially builds a CDF from hazard curve\n",
    "    #//**** (1-hazard_curve).cumprod() Survival Function (reciprocal CDF) of hazard curve\n",
    "    re_sample_ss = (1 - resample_hazard_curve).cumprod()\n",
    "    \n",
    "    plt.plot(re_sample_ts,re_sample_ss,1,\"g\")\n",
    "#//*** Resample\n",
    "\n",
    "\n",
    "\n",
    "plt.plot(ts,temp,1,\"r\")\n",
    "plt.show()\n"
   ]
  },
  {
   "cell_type": "code",
   "execution_count": 27,
   "metadata": {},
   "outputs": [
    {
     "data": {
      "image/png": "[encoded data removed]",
      "text/plain": [
       "<Figure size 432x288 with 1 Axes>"
      ]
     },
     "metadata": {
      "needs_background": "light"
     },
     "output_type": "display_data"
    },
    {
     "data": {
      "image/png": "[encoded data removed]",
      "text/plain": [
       "<Figure size 432x288 with 1 Axes>"
      ]
     },
     "metadata": {
      "needs_background": "light"
     },
     "output_type": "display_data"
    }
   ],
   "source": [
    "plt.plot(ts,ss,1,\"b\")\n",
    "plt.plot(ts, 1-ss,1,\"r\")\n",
    "\n",
    "plt.show()\n",
    "\n",
    "\n",
    "\n",
    "plt.plot(hazard_curve.index,hazard_curve,1,\"b\")\n",
    "plt.ylim(hazard_curve.min(),hazard_curve.max())\n",
    "plt.show()"
   ]
  },
  {
   "cell_type": "code",
   "execution_count": null,
   "metadata": {},
   "outputs": [],
   "source": [
    "from collections import Counter\n",
    "\n",
    "def EstimateHazardFunction(complete, ongoing, label='', verbose=False):\n",
    "    \"\"\"Estimates the hazard function by Kaplan-Meier.\n",
    "\n",
    "    http://en.wikipedia.org/wiki/Kaplan%E2%80%93Meier_estimator\n",
    "\n",
    "    complete: list of complete lifetimes\n",
    "    ongoing: list of ongoing lifetimes\n",
    "    label: string\n",
    "    verbose: whether to display intermediate results\n",
    "    \"\"\"\n",
    "    if np.sum(np.isnan(complete)):\n",
    "        raise ValueError(\"complete contains NaNs\")\n",
    "    if np.sum(np.isnan(ongoing)):\n",
    "        raise ValueError(\"ongoing contains NaNs\")\n",
    "\n",
    "    hist_complete = Counter(complete)\n",
    "    hist_ongoing = Counter(ongoing)\n",
    "\n",
    "    ts = list(hist_complete | hist_ongoing)\n",
    "    ts.sort()\n",
    "\n",
    "    at_risk = len(complete) + len(ongoing)\n",
    "\n",
    "    lams = pd.Series(index=ts)\n",
    "    for t in ts:\n",
    "        ended = hist_complete[t]\n",
    "        censored = hist_ongoing[t]\n",
    "\n",
    "        lams[t] = ended / at_risk\n",
    "        if verbose:\n",
    "            print(t, at_risk, ended, censored, lams[t])\n",
    "        at_risk -= ended + censored\n",
    "\n",
    "    #return survival.HazardFunction(lams, label=label)\n",
    "    return lams\n"
   ]
  },
  {
   "cell_type": "markdown",
   "metadata": {},
   "source": [
    "- ## Chapter X, Exercise X\n",
    "\n"
   ]
  },
  {
   "cell_type": "code",
   "execution_count": null,
   "metadata": {},
   "outputs": [],
   "source": [
    "# //*** CODE HERE"
   ]
  },
  {
   "cell_type": "markdown",
   "metadata": {},
   "source": [
    "- ## Chapter X, Exercise X\n",
    "\n"
   ]
  },
  {
   "cell_type": "code",
   "execution_count": null,
   "metadata": {},
   "outputs": [],
   "source": [
    "# //*** CODE HERE"
   ]
  },
  {
   "cell_type": "markdown",
   "metadata": {},
   "source": [
    "- ## Chapter X, Exercise X\n",
    "\n"
   ]
  },
  {
   "cell_type": "code",
   "execution_count": null,
   "metadata": {},
   "outputs": [],
   "source": [
    "# //*** CODE HERE"
   ]
  },
  {
   "cell_type": "code",
   "execution_count": null,
   "metadata": {},
   "outputs": [],
   "source": []
  }
 ],
 "metadata": {
  "kernelspec": {
   "display_name": "Python 3",
   "language": "python",
   "name": "python3"
  },
  "language_info": {
   "codemirror_mode": {
    "name": "ipython",
    "version": 3
   },
   "file_extension": ".py",
   "mimetype": "text/x-python",
   "name": "python",
   "nbconvert_exporter": "python",
   "pygments_lexer": "ipython3",
   "version": "3.8.3"
  }
 },
 "nbformat": 4,
 "nbformat_minor": 4
}
