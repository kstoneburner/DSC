{
 "cells": [
  {
   "cell_type": "markdown",
   "metadata": {},
   "source": [
    "# Stoneburner, Kurt\n",
    "- ## DSC 530 - Week05\n",
    "- ## Chapter 5, Exercise 1\n"
   ]
  },
  {
   "cell_type": "code",
   "execution_count": 1,
   "metadata": {},
   "outputs": [],
   "source": [
    "# //****************************************************************************************\n",
    "# //*** Set Working Directory to thinkstats folder.\n",
    "# //*** This pseudo-relative path call should work on all Stoneburner localized projects. \n",
    "# //****************************************************************************************\n",
    "\n",
    "import os\n",
    "import sys\n",
    "workingPath = os.getcwd().replace(\"coding\", \"ThinkStats2\\\\code\")\n",
    "sys.path.insert(1, workingPath)\n",
    "os.chdir(workingPath)"
   ]
  },
  {
   "cell_type": "code",
   "execution_count": 2,
   "metadata": {},
   "outputs": [],
   "source": [
    "# //*** Standard Library Imports and Thinkstats Libraries\n",
    "#import markdown\n",
    "import nsfg\n",
    "import thinkstats2\n",
    "import thinkplot\n",
    "import first\n",
    "import matplotlib.pyplot as plt\n",
    "import numpy as np\n",
    "import pandas as pd\n",
    "import analytic\n",
    "import scipy\n",
    "import math\n"
   ]
  },
  {
   "cell_type": "markdown",
   "metadata": {},
   "source": [
    "**Exercise:** In the BRFSS (see Section 5.4), the distribution of heights is roughly normal with parameters µ = 178 cm and σ = 7.7 cm for men, and µ = 163 cm and σ = 7.3 cm for women.\n",
    "\n",
    "In order to join Blue Man Group, you have to be male between 5’10” and 6’1” (see http://bluemancasting.com). What percentage of the U.S. male population is in this range? Hint: use `scipy.stats.norm.cdf`.\n",
    "\n",
    "**51.0361% is tall enough to join the Blue Man Group**\n",
    "\n",
    "**83.2386% is not too tall to join the Blue Man Group**\n",
    "\n",
    "**Estimated 32.2025% of US male population is within the height range of 5'10\" - 6'1\"**"
   ]
  },
  {
   "cell_type": "code",
   "execution_count": 3,
   "metadata": {},
   "outputs": [],
   "source": [
    "# //*** scipy.stats.norm returns a normal distribution\n",
    "# //*** The location (loc) keyword specifies the mean. The scale (scale) keyword specifies the standard deviation.\n",
    "# //*** A \"frozen random variable\" can compute its mean and standard deviation.\n",
    "# //*** print(dist.mean(), dist.std())\n",
    "# //*** It can also evaluate its CDF. How many people are more than one standard deviation below the mean? About 16%\n",
    "# //******************************************************************************************************************\n",
    "# //*** Build a normal distribution to simulate population. Mean height is 178cm with a standard Deviation of 7.7cm\n",
    "# //******************************************************************************************************************\n",
    "mu = 178\n",
    "sigma = 7.7\n",
    "dist = scipy.stats.norm(loc=mu, scale=sigma)"
   ]
  },
  {
   "cell_type": "code",
   "execution_count": 4,
   "metadata": {},
   "outputs": [],
   "source": [
    "def inches_to_cm(defInput):\n",
    "    # //***********************************************************************\n",
    "    # //*** Convert Inches to feet, because I can't do this in my head\n",
    "    # //*** Expected input -  defInput: feet:      Number of Feet to convert\n",
    "    # //***                             inches:    Number of Inches to Convert\n",
    "    # //***                                        Returns Centimenters as int\n",
    "    # //***********************************************************************\n",
    "    \n",
    "    conversion_rate = 2.54\n",
    "    \n",
    "    total_cm = 0\n",
    "    \n",
    "    # //*** Convert feet to cm Feet * 12 * conversion_rate\n",
    "    if 'feet' in defInput.keys():\n",
    "        total_cm = total_cm + (defInput['feet'] * 12 * conversion_rate)\n",
    "    # //*** Convert Inches by multiplying vallue by conversion rate\n",
    "    if 'inches' in defInput.keys():\n",
    "        total_cm =  total_cm + (defInput['inches'] * conversion_rate)\n",
    "    \n",
    "    return total_cm"
   ]
  },
  {
   "cell_type": "code",
   "execution_count": 5,
   "metadata": {},
   "outputs": [
    {
     "name": "stdout",
     "output_type": "stream",
     "text": [
      "Min Height cm: 177.8 Max Height cm: 185.42\n",
      "51.0361% is tall enough to join the Blue Man Group\n",
      "83.2386% is not too tall to join the Blue Man Group\n",
      "Estimated 32.2025% of US male population is within the height range of 5'10\" - 6'1\"\n"
     ]
    }
   ],
   "source": [
    "# //*** Generate Min and Max height in cm.\n",
    "minHeight = inches_to_cm({'feet':5,'inches':10})\n",
    "maxHeight = inches_to_cm({'feet':6,'inches':1})\n",
    "\n",
    "print(f\"Min Height cm: {minHeight} Max Height cm: {maxHeight}\")\n",
    "# //*** Get the percentage of population that qualifies for the minimum height.\n",
    "# //*** This finds everyone below the minimum, so subtract from 1 to get everyone\n",
    "# //*** Above the minimum\n",
    "minQualified = 1 - dist.cdf(minHeight)\n",
    "# //*** Get the percentage of population that qualifies for the Maximum height.\n",
    "maxQualified = dist.cdf(maxHeight)\n",
    "print(f\"{round(minQualified*100,4)}% is tall enough to join the Blue Man Group\")\n",
    "print(f\"{round(maxQualified*100,4)}% is not too tall to join the Blue Man Group\")\n",
    "# //*** The answer in the maxHeight - minHeight\n",
    "print(f\"Estimated {round( (maxQualified - minQualified) * 100,4)}% of US male population is within the height range of 5'10\\\" - 6'1\\\"\")"
   ]
  },
  {
   "cell_type": "markdown",
   "metadata": {},
   "source": [
    "- ## Chapter 5, Exercise 2\n",
    "\n",
    "**Exercise:** To get a feel for the Pareto distribution, let’s see how different the world would be if the distribution of human height were Pareto. With the parameters xm = 1 m and α = 1.7, we get a distribution with a reasonable minimum, 1 m, and median, 1.5 m.\n",
    "\n",
    "**Plot this Distribution**"
   ]
  },
  {
   "cell_type": "code",
   "execution_count": 6,
   "metadata": {},
   "outputs": [
    {
     "data": {
      "image/png": "[encoded data removed]",
      "text/plain": [
       "<Figure size 432x288 with 1 Axes>"
      ]
     },
     "metadata": {
      "needs_background": "light"
     },
     "output_type": "display_data"
    }
   ],
   "source": [
    "# //*** Generate a pareto CDF from a set of 100 numbers evenly incremented from 0 - 10.\n",
    "# //*** Build a set of 100 evenly spaced numbers from 0 - 10, Representing population heights\n",
    "heights = np.linspace(0,10,100)\n",
    "\n",
    "# //*** Generate a Pareto Culumlative distribution function as an np.array using a scale value of 1.7 (curve shape)\n",
    "pareto_cdf_series = scipy.stats.pareto.cdf(heights,scale=1, b=1.7)\n",
    "\n",
    "# //*** Build a series using the CDF Probabilities as an index to the data values.\n",
    "pareto_cdf_series = pd.Series(index = pareto_cdf_series, data=heights)\n",
    "\n",
    "# //*** Plot the Pareto CDF\n",
    "plt.plot(pareto_cdf_series, pareto_cdf_series.index.values, 1, color='b')\n",
    "plt.title(\"Pareto CDF\")\n",
    "plt.xlabel('Height')\n",
    "plt.ylabel('CDF')\n",
    "plt.show()\n",
    "\n",
    "# //*** Raw Pareto Calculations to work out later\n",
    "#xs = heights xmin = minimum alpha = 1,7\n",
    "#calc_pareto = 1- (heights / 1) ** 1.7\n",
    "#ps = 1 - (xs / xmin) ** -alpha\n",
    "#ps = stats.pareto.cdf(xs, scale=xmin, b=alpha)\n"
   ]
  },
  {
   "cell_type": "markdown",
   "metadata": {},
   "source": [
    "What is the mean human height in Pareto world?\n",
    "\n",
    "**Mean human height in Pareto World is 2.428571428571429**"
   ]
  },
  {
   "cell_type": "code",
   "execution_count": 7,
   "metadata": {},
   "outputs": [
    {
     "name": "stdout",
     "output_type": "stream",
     "text": [
      "Mean human height in Pareto World is 2.428571428571429\n"
     ]
    }
   ],
   "source": [
    "# //*** Generate a Pareto Distribution using acipy\n",
    "pareto_dist = scipy.stats.pareto(b=1.7, scale=1)\n",
    "\n",
    "# //*** Use the built in function to find the mean\n",
    "pareto_cdf_mean = pareto_dist.mean()\n",
    "print(f\"Mean human height in Pareto World is {pareto_cdf_mean}\")"
   ]
  },
  {
   "cell_type": "markdown",
   "metadata": {},
   "source": [
    "What fraction of the population is shorter than the mean? \n",
    "\n",
    "**77.87396975652881% of the total population is shorter than the mean**"
   ]
  },
  {
   "cell_type": "code",
   "execution_count": 8,
   "metadata": {},
   "outputs": [
    {
     "name": "stdout",
     "output_type": "stream",
     "text": [
      "77.87396975652881% of the total population is shorter than the mean\n"
     ]
    }
   ],
   "source": [
    "print(f\"{pareto_dist.cdf(pareto_cdf_mean)*100}% of the total population is shorter than the mean\")"
   ]
  },
  {
   "cell_type": "markdown",
   "metadata": {},
   "source": [
    "If there are 7 billion people in Pareto world, how many do we expect to be taller than 1 km? \n",
    "\n",
    "**In Pareto World 55602 people out of 7 billon will be over 1km tall.**"
   ]
  },
  {
   "cell_type": "code",
   "execution_count": 9,
   "metadata": {},
   "outputs": [
    {
     "name": "stdout",
     "output_type": "stream",
     "text": [
      "In Pareto World 55602 people out of 7 billon will be over 1km tall.\n"
     ]
    }
   ],
   "source": [
    "# //*** Find the CDF of 1000m. Subtract from 1 to get everyone above.\n",
    "# //*** Multiply by 7 Billion\n",
    "pareto_giants = int( (1 - pareto_dist.cdf(1000)) * 7000000000)\n",
    "print(f\"In Pareto World {pareto_giants} people out of 7 billon will be over 1km tall.\")"
   ]
  },
  {
   "cell_type": "markdown",
   "metadata": {},
   "source": [
    "How tall do we expect the tallest person to be?\n",
    "\n",
    "**The tallest person on Pareto World is expected to be 618350m**"
   ]
  },
  {
   "cell_type": "code",
   "execution_count": 10,
   "metadata": {},
   "outputs": [
    {
     "name": "stdout",
     "output_type": "stream",
     "text": [
      "The tallest person on Pareto World is expected to be 618350m \n"
     ]
    }
   ],
   "source": [
    "# //*********************************************************************************************************\n",
    "# //*** The solution is to find the CDF representation of one whole person.\n",
    "# //*** The book uses the survivor function with a value of 600000\n",
    "# //*** Neither the answer or the function are referenced. I could have used a ppf, but I didn't understand\n",
    "# //*** that either.\n",
    "# //*** So I put way too much effort into building a function to find the Pareto value closest to 1:\n",
    "# //***                    f(x)~1 where [ population - distribution.cdf(x) * population ]\n",
    "# //***\n",
    "# //*** This function uses a little recursion to estimate a min / max range of a pareto distribution\n",
    "# //*** Where the portion of the population is closest to 1 out of 7 billion.\n",
    "# //*** Once range is determined, The minimum floor is raised to within 1% of the final answer.\n",
    "# //*** A Brute force Loop is used to get the rest of the answer.\n",
    "# //*** I tried Recursive Hi/Low to find the value but got stuck.\n",
    "# //*** Getting withing 1% of the solution and brute forcing the remainder works reasonably well.\n",
    "# //*********************************************************************************************************\n",
    "def pareto_max(dist,pop,counter=-1,maxCounter=-1):\n",
    "    # //*** Initialize Counters on first pass\n",
    "    # //*** Start with pop * .00001 as a population floor \n",
    "    if counter == -1:\n",
    "        counter = pop * .00001\n",
    "        maxCounter = counter * 1.5\n",
    "    \n",
    "    # //*** Is 1 Above our maxRange?\n",
    "    minPareto = pop - dist.cdf(counter)* pop\n",
    "    maxPareto = pop - dist.cdf(maxCounter)* pop\n",
    "    #print(f\"{counter} : {minPareto} {maxCounter} {maxPareto}\")\n",
    "    \n",
    "    # //*** Is 1 Above our maxRange?\n",
    "    if maxPareto > 1.0:\n",
    "        # //*** 1 is not in our range. Set min to current Max and Double max\n",
    "        return pareto_max(dist,pop,maxCounter,maxCounter*2)\n",
    "    \n",
    "    # //*** We have a target range counter ~ maxCounter\n",
    "    # //*** I should be able to get the value with a Hi/Low recursion method.\n",
    "    # //*** But i'm not that cool today. Using a brute force loop to get the value\n",
    "    # //*** print(f\"Target Range: {counter} {maxCounter} - Time to Brute Force: {maxCounter - counter} Values\")\n",
    "    \n",
    "    # //*** Let's get the Range closer\n",
    "    # //*** Quick Loop let's raise the floor in 1% increments to get a better starting place\n",
    "    \n",
    "    counterDifference = int(maxCounter - counter) # //*** Total Range\n",
    "    counterInterval = 100 # //*** Increments\n",
    "    counterIncrement = int(counterDifference / counterInterval) #//*** Incremental Counter\n",
    "    loop_counter = int(counter) \n",
    "    \n",
    "    # //*** Gets the Floor within 1% of the range, to simplify the Brute Force\n",
    "    for x in range(1,counterInterval):\n",
    "        loop_counter = loop_counter + counterIncrement\n",
    "        loop_pareto = pop - dist.cdf(loop_counter)* pop\n",
    "        if (loop_pareto > 1.0):\n",
    "            counter = loop_counter\n",
    "        else:\n",
    "            break\n",
    "\n",
    "    \n",
    "    #print(f\"New Counter Floor: {counter}\")\n",
    "    \n",
    "    # //*** Loop to find the Pareto value closest to 1\n",
    "    target_pareto = minPareto\n",
    "    for x in range(int(counter), int(maxCounter)):\n",
    "        loop_pareto = pop - dist.cdf(x)* pop\n",
    "        if loop_pareto > 1.0:\n",
    "            target_pareto = loop_pareto\n",
    "            #print(f\"{x} : {target_pareto}\")\n",
    "        else:\n",
    "            #print(f\"FOUND: {x} {target_pareto} {loop_pareto}\")\n",
    "            break\n",
    "    \n",
    "    return(x)\n",
    "    \n",
    "\n",
    "print(f\"The tallest person on Pareto World is expected to be {pareto_max(pareto_dist,7000000000)}m \")"
   ]
  },
  {
   "cell_type": "markdown",
   "metadata": {},
   "source": [
    "- ## Chapter 6, Exercise 1\n",
    "\n",
    "The distribution of income is famously skewed to the right. In this exercise, we’ll measure how strong that skew is.\n",
    "The Current Population Survey (CPS) is a joint effort of the Bureau of Labor Statistics and the Census Bureau to study income and related variables. Data collected in 2013 is available from http://www.census.gov/hhes/www/cpstables/032013/hhinc/toc.htm. I downloaded `hinc06.xls`, which is an Excel spreadsheet with information about household income, and converted it to `hinc06.csv`, a CSV file you will find in the repository for this book. You will also find `hinc2.py`, which reads this file and transforms the data.\n",
    "\n",
    "The dataset is in the form of a series of income ranges and the number of respondents who fell in each range. The lowest range includes respondents who reported annual household income “Under \\$5000.” The highest range includes respondents who made “\\$250,000 or more.”\n",
    "\n",
    "To estimate mean and other statistics from these data, we have to make some assumptions about the lower and upper bounds, and how the values are distributed in each range. `hinc2.py` provides `InterpolateSample`, which shows one way to model this data. It takes a `DataFrame` with a column, `income`, that contains the upper bound of each range, and `freq`, which contains the number of respondents in each frame.\n",
    "\n",
    "It also takes `log_upper`, which is an assumed upper bound on the highest range, expressed in `log10` dollars. The default value, `log_upper=6.0` represents the assumption that the largest income among the respondents is $10^6$, or one million dollars.\n",
    "\n",
    "`InterpolateSample` generates a pseudo-sample; that is, a sample of household incomes that yields the same number of respondents in each range as the actual data. It assumes that incomes in each range are equally spaced on a `log10` scale.\n",
    "\n"
   ]
  },
  {
   "cell_type": "code",
   "execution_count": 11,
   "metadata": {},
   "outputs": [],
   "source": [
    "def InterpolateSample(df, log_upper=6.0):\n",
    "    \"\"\"Makes a sample of log10 household income.\n",
    "\n",
    "    Assumes that log10 income is uniform in each range.\n",
    "\n",
    "    df: DataFrame with columns income and freq\n",
    "    log_upper: log10 of the assumed upper bound for the highest range\n",
    "\n",
    "    returns: NumPy array of log10 household income\n",
    "    \"\"\"\n",
    "    # compute the log10 of the upper bound for each range\n",
    "    df['log_upper'] = np.log10(df.income)\n",
    "\n",
    "    # get the lower bounds by shifting the upper bound and filling in\n",
    "    # the first element\n",
    "    df['log_lower'] = df.log_upper.shift(1)\n",
    "    df.loc[0, 'log_lower'] = 3.0\n",
    "\n",
    "    # plug in a value for the unknown upper bound of the highest range\n",
    "    df.loc[41, 'log_upper'] = log_upper\n",
    "    \n",
    "    # use the freq column to generate the right number of values in\n",
    "    # each range\n",
    "    arrays = []\n",
    "    for _, row in df.iterrows():\n",
    "        #print(f\"{row.log_lower} {row.log_upper} {row.freq}\")\n",
    "        vals = np.linspace(row.log_lower, row.log_upper, int(row.freq))\n",
    "        arrays.append(vals)\n",
    "    \n",
    "    # collect the arrays into a single sample\n",
    "    log_sample = np.concatenate(arrays)\n",
    "    return log_sample"
   ]
  },
  {
   "cell_type": "code",
   "execution_count": 12,
   "metadata": {},
   "outputs": [],
   "source": [
    "import hinc\n",
    "income_df = hinc.ReadData()"
   ]
  },
  {
   "cell_type": "code",
   "execution_count": 13,
   "metadata": {},
   "outputs": [],
   "source": [
    "log_sample = InterpolateSample(income_df, log_upper=6.0)"
   ]
  },
  {
   "cell_type": "code",
   "execution_count": 14,
   "metadata": {},
   "outputs": [
    {
     "data": {
      "image/png": "[encoded data removed]",
      "text/plain": [
       "<Figure size 432x288 with 1 Axes>"
      ]
     },
     "metadata": {
      "needs_background": "light"
     },
     "output_type": "display_data"
    }
   ],
   "source": [
    "log_cdf = thinkstats2.Cdf(log_sample)\n",
    "thinkplot.Cdf(log_cdf)\n",
    "thinkplot.Config(xlabel='Household income (log $)',\n",
    "               ylabel='CDF')"
   ]
  },
  {
   "cell_type": "code",
   "execution_count": 15,
   "metadata": {},
   "outputs": [],
   "source": [
    "sample = np.power(10, log_sample)"
   ]
  },
  {
   "cell_type": "code",
   "execution_count": 16,
   "metadata": {},
   "outputs": [
    {
     "data": {
      "image/png": "[encoded data removed]",
      "text/plain": [
       "<Figure size 432x288 with 1 Axes>"
      ]
     },
     "metadata": {
      "needs_background": "light"
     },
     "output_type": "display_data"
    }
   ],
   "source": [
    "cdf = thinkstats2.Cdf(sample)\n",
    "thinkplot.Cdf(cdf)\n",
    "thinkplot.Config(xlabel='Household income ($)',\n",
    "               ylabel='CDF')"
   ]
  },
  {
   "cell_type": "markdown",
   "metadata": {},
   "source": [
    "Compute the median, mean, skewness and Pearson’s skewness of the resulting sample. \n",
    "\n",
    "**Mean: 74278.7075311872**\n",
    "\n",
    "**Median: 51226.93306562372**\n",
    "\n",
    "**Skewness: 4.949920244429584**\n",
    "\n",
    "**Pearson's Skewness: 0.7361105192428792**\n"
   ]
  },
  {
   "cell_type": "code",
   "execution_count": 17,
   "metadata": {},
   "outputs": [],
   "source": [
    "# //*** Build a Probability Mass Function from a value_count series\n",
    "def build_pmf(input_series):\n",
    "    output_series = input_series.copy()\n",
    "    total_values = input_series.sum()\n",
    "    for value,freq in output_series.items():\n",
    "        #print(f\"{value} {freq} {total_values} {freq/total_values}\")\n",
    "        output_series.loc[value] = freq/total_values\n",
    "    return output_series\n",
    "\n",
    "# //*** Build a Cumulative Distribution Function from a Probability Mass Function\n",
    "# //*** Returns a Series\n",
    "def build_cdf(input_series):\n",
    "    # //*** If input is not panda or pd series, try to convert it\n",
    "       \n",
    "    # //*** If input is np.Array\n",
    "    output_series = input_series.copy()\n",
    "    cumulative_value = 0\n",
    "    for value,freq in output_series.items():\n",
    "        #print(f\"{value} {freq} {cumulative_value} {freq + cumulative_value}\")\n",
    "        cumulative_value = freq + cumulative_value\n",
    "        output_series.loc[value] = cumulative_value\n",
    "    return output_series\n"
   ]
  },
  {
   "cell_type": "code",
   "execution_count": 18,
   "metadata": {},
   "outputs": [
    {
     "name": "stdout",
     "output_type": "stream",
     "text": [
      "Mean: 74278.7075311872 Median:51226.93306562372\n",
      "Skewness:4.949920244429584 Pearson's Skewness: 0.7361105192428792\n"
     ]
    }
   ],
   "source": [
    "skew = scipy.stats.skew(sample)\n",
    "sample_mean = np.mean(sample)\n",
    "sample_median = np.median(sample)\n",
    "sample_standard_dev = math.sqrt( np.var(sample) )\n",
    "\n",
    "sample_pearson_median_skew = 3 * (sample_mean - sample_median) / sample_standard_dev\n",
    "print(f\"Mean: {sample_mean} Median:{sample_median}\")\n",
    "print(f\"Skewness:{scipy.stats.skew(sample)} Pearson's Skewness: {sample_pearson_median_skew}\")\n"
   ]
  },
  {
   "cell_type": "markdown",
   "metadata": {},
   "source": [
    "What fraction of households report a taxable income below the mean? How do the results depend on the assumed upper bound?\n",
    "\n",
    "**0.660005879566784 of the population have income below the mean**"
   ]
  },
  {
   "cell_type": "code",
   "execution_count": 19,
   "metadata": {},
   "outputs": [
    {
     "name": "stdout",
     "output_type": "stream",
     "text": [
      "0.660005879566784 of the population have income below the mean\n"
     ]
    }
   ],
   "source": [
    "# //*** Process to convert the sample to a CDF\n",
    "# //*** Convert to Series\n",
    "sample_cdf = pd.Series(sample)\n",
    "\n",
    "# //*** Build distribution. Since sample is an evenly spaced continuous distribution. \n",
    "# //*** All individual elements will have the same probability\n",
    "sample_cdf = sample_cdf.value_counts().sort_index()\n",
    "\n",
    "# //*** Build PMF - reusing prior exercises\n",
    "sample_cdf = build_pmf(sample_cdf)\n",
    "\n",
    "# //*** Build CDF - reusing prior exercises\n",
    "sample_cdf = build_cdf(sample_cdf)\n",
    "\n",
    "# //*** sampleCDF - Index: Income Values, Data: Cumulative Probabilities\n",
    "# //*** Loop through the sample_cdf to find income value that is closest but not greater than than the sample mean.\n",
    "# //*** Find the first value that is greater. Return the previous index counter.\n",
    "\n",
    "for x in range(0,len(sample_cdf)):\n",
    "    if sample_cdf.index[x] > sample_mean:\n",
    "        x = x-1\n",
    "        break\n",
    "\n",
    "print(f\"{sample_cdf.iloc[x]} of the population have income below the mean\")"
   ]
  },
  {
   "cell_type": "markdown",
   "metadata": {},
   "source": [
    "All of this is based on an assumption that the highest income is one million dollars, but that's certainly not correct.  What happens to the skew if the upper bound is 10 million?\n",
    "\n",
    "**The expectation is for the skew to increase as the upper bound increases. However the calculated skew was unchanged as the upper bound log() increased. For dramatic effect, I changed the upper bound to log(20). The calculated mean, median, skew, Pearson's Median Skewness all remain unchanged from the data set defined with an upper bound of log(6).**\n",
    "\n",
    "**A visualization of the CDF using log(20) indicates a significant skew seems to contradict the data. My hypothesis is the log(20) values are limited to the last percentile of the distribution. Regardless off the actual income values, the probability of the population being in the upper bracket remains the same.** \n",
    "\n",
    "Without better information about the top of this distribution, we can't say much about the skewness of the distribution."
   ]
  },
  {
   "cell_type": "code",
   "execution_count": 20,
   "metadata": {},
   "outputs": [
    {
     "name": "stdout",
     "output_type": "stream",
     "text": [
      "Upper Bounds (Log 20) - Mean: 74278.7075311872, Median: 51226.93306562372, Skew:4.949920244429584\n",
      "Pearson's Median Skewness (Log 20): 0.7361105192428792\n",
      "These values are identical to the Log(6) values\n"
     ]
    },
    {
     "data": {
      "image/png": "[encoded data removed]",
      "text/plain": [
       "<Figure size 432x288 with 1 Axes>"
      ]
     },
     "metadata": {
      "needs_background": "light"
     },
     "output_type": "display_data"
    }
   ],
   "source": [
    "# //*** Calculate Mean, Median, Skew and Pearson's Median Skewness for the log(20) dataset.\n",
    "log_sample_upper_20 = InterpolateSample(income_df, log_upper=20.0)\n",
    "sample_upper_20 = np.power(10, log_sample)\n",
    "sample_skew_upper_20 = scipy.stats.skew(sample_upper_20)\n",
    "sample_mean_upper_20 = np.mean(sample_upper_20)\n",
    "sample_median_upper_20 = np.median(sample_upper_20)\n",
    "sample_standard_dev_upper_20 = math.sqrt( np.var(sample_upper_20) )\n",
    "\n",
    "print(f\"Upper Bounds (Log 20) - Mean: {sample_mean_upper_20}, Median: {sample_median_upper_20}, Skew:{sample_skew_upper_20}\")\n",
    "sample_pearson_median_skew_upper_20 = 3 * (sample_mean_upper_20 - sample_median_upper_20) / sample_standard_dev_upper_20\n",
    "print(f\"Pearson's Median Skewness (Log 20): {sample_pearson_median_skew_upper_20}\")\n",
    "print(f\"These values are identical to the Log(6) values\")\n",
    "\n",
    "# //*** plot it\n",
    "log_cdf = thinkstats2.Cdf(log_sample_upper_20)\n",
    "thinkplot.Cdf(log_cdf)\n",
    "thinkplot.Config(xlabel='Household income (log $)',\n",
    "               ylabel='CDF')\n"
   ]
  },
  {
   "cell_type": "code",
   "execution_count": 75,
   "metadata": {},
   "outputs": [
    {
     "data": {
      "image/png": "[encoded data removed]",
      "text/plain": [
       "<Figure size 432x288 with 1 Axes>"
      ]
     },
     "metadata": {
      "needs_background": "light"
     },
     "output_type": "display_data"
    },
    {
     "data": {
      "image/png": "[encoded data removed]",
      "text/plain": [
       "<Figure size 432x288 with 1 Axes>"
      ]
     },
     "metadata": {
      "needs_background": "light"
     },
     "output_type": "display_data"
    },
    {
     "data": {
      "image/png": "[encoded data removed]",
      "text/plain": [
       "<Figure size 432x288 with 1 Axes>"
      ]
     },
     "metadata": {
      "needs_background": "light"
     },
     "output_type": "display_data"
    }
   ],
   "source": [
    "skew_array = []\n",
    "mean_array = []\n",
    "median_array = []\n",
    "pearson_median_skew_array = []\n",
    "for x in range(5,20):\n",
    "    loop_log_sample = InterpolateSample(income_df, log_upper=x)\n",
    "    \n",
    "    loop_skew = scipy.stats.skew(loop_log_sample)\n",
    "    skew_array.append(loop_skew)\n",
    "    \n",
    "    loop_mean = np.mean(loop_log_sample)\n",
    "    mean_array.append(loop_mean)\n",
    "    \n",
    "    loop_median = np.median(loop_log_sample)\n",
    "    median_array.append(loop_median)\n",
    "    \n",
    "    loop_std_dev = math.sqrt( np.var(loop_log_sample) )\n",
    "    loop_pearson_median_skew = 3 * (loop_mean - loop_median) / loop_std_dev\n",
    "    \n",
    "    pearson_median_skew_array.append(loop_pearson_median_skew)\n",
    "\n",
    "plt.plot(range(5,20), skew_array, 1, color='b')\n",
    "plt.title(\"Log Upper: Skew\")\n",
    "plt.xlim(4)\n",
    "plt.xlabel('Log Upper Bound')\n",
    "plt.ylabel('Skew')\n",
    "plt.show()\n",
    "\n",
    "skew_mean = pd.Series(skew_mean)\n",
    "plt.plot(range(5,20), skew_mean, 1, color='b')\n",
    "plt.title(\"Log Upper: Mean\")\n",
    "plt.xlabel('Log Upper Bound')\n",
    "plt.ylabel('Mean')\n",
    "plt.ylim(4)\n",
    "plt.show()\n",
    "\n",
    "\n",
    "plt.plot(range(5,20), pearson_median_skew_array, 1, color='b')\n",
    "plt.title(\"Log Upper: Pearson's Skew\")\n",
    "plt.xlabel('Log Upper Bound')\n",
    "plt.xlim(4)\n",
    "plt.ylabel('Pearson\\'s Skew')\n",
    "plt.ylim(-.5,.5)\n",
    "plt.show()\n",
    "\n"
   ]
  }
 ],
 "metadata": {
  "kernelspec": {
   "display_name": "Python 3",
   "language": "python",
   "name": "python3"
  },
  "language_info": {
   "codemirror_mode": {
    "name": "ipython",
    "version": 3
   },
   "file_extension": ".py",
   "mimetype": "text/x-python",
   "name": "python",
   "nbconvert_exporter": "python",
   "pygments_lexer": "ipython3",
   "version": "3.8.3"
  }
 },
 "nbformat": 4,
 "nbformat_minor": 4
}
