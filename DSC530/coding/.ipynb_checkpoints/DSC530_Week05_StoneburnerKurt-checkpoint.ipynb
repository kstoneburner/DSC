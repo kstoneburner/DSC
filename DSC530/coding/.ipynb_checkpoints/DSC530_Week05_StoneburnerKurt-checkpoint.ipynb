{
 "cells": [
  {
   "cell_type": "markdown",
   "metadata": {},
   "source": [
    "# Stoneburner, Kurt\n",
    "- ## DSC 530 - Week05\n",
    "- ## Chapter 5, Exercise 1\n"
   ]
  },
  {
   "cell_type": "code",
   "execution_count": 11,
   "metadata": {},
   "outputs": [],
   "source": [
    "# //****************************************************************************************\n",
    "# //*** Set Working Directory to thinkstats folder.\n",
    "# //*** This pseudo-relative path call should work on all Stoneburner localized projects. \n",
    "# //****************************************************************************************\n",
    "\n",
    "import os\n",
    "import sys\n",
    "workingPath = os.getcwd().replace(\"coding\", \"ThinkStats2\\\\code\")\n",
    "sys.path.insert(1, workingPath)\n",
    "os.chdir(workingPath)"
   ]
  },
  {
   "cell_type": "code",
   "execution_count": 12,
   "metadata": {},
   "outputs": [],
   "source": [
    "# //*** Imports and Load Data\n",
    "#import markdown\n",
    "import nsfg\n",
    "import thinkstats2\n",
    "import thinkplot\n",
    "import first\n",
    "import matplotlib.pyplot as plt\n",
    "import numpy as np\n",
    "import pandas as pd\n",
    "import analytic\n",
    "import scipy\n",
    "\n",
    "#resp = nsfg.ReadFemResp()\n",
    "#preg = nsfg.ReadFemPreg()\n",
    "\n"
   ]
  },
  {
   "cell_type": "markdown",
   "metadata": {},
   "source": [
    "**Exercise:** In the BRFSS (see Section 5.4), the distribution of heights is roughly normal with parameters µ = 178 cm and σ = 7.7 cm for men, and µ = 163 cm and σ = 7.3 cm for women.\n",
    "\n",
    "In order to join Blue Man Group, you have to be male between 5’10” and 6’1” (see http://bluemancasting.com). What percentage of the U.S. male population is in this range? Hint: use `scipy.stats.norm.cdf`."
   ]
  },
  {
   "cell_type": "code",
   "execution_count": 13,
   "metadata": {},
   "outputs": [],
   "source": [
    "# //*** scipy.stats.norm returns a normal distribution\n",
    "# //*** The location (loc) keyword specifies the mean. The scale (scale) keyword specifies the standard deviation.\n",
    "\n",
    "mu = 178\n",
    "sigma = 7.7\n",
    "dist = scipy.stats.norm(loc=mu, scale=sigma)\n",
    "\n",
    "#A \"frozen random variable\" can compute its mean and standard deviation.\n",
    "#print(dist.mean(), dist.std())\n",
    "\n",
    "#It can also evaluate its CDF. How many people are more than one standard deviation below the mean? About 16%\n",
    "#dist.cdf(mu-sigma)"
   ]
  },
  {
   "cell_type": "code",
   "execution_count": 14,
   "metadata": {},
   "outputs": [],
   "source": [
    "def inches_to_cm(defInput):\n",
    "    # //****************************************************************\n",
    "    # //*** Convert Inches to feet, because I can't do this in my head\n",
    "    # //*** Expected input defInput: feet: Number of Feet to convert\n",
    "    # //***                                Number of Inches to Convert\n",
    "    # //***                                Returns Centimenters as int\n",
    "    # //****************************************************************\n",
    "    \n",
    "    conversion_rate = 2.54\n",
    "    \n",
    "    total_cm = 0\n",
    "    \n",
    "    # //*** Convert feet to cm Feet * 12 * conversion_rate\n",
    "    if 'feet' in defInput.keys():\n",
    "        total_cm = total_cm + (defInput['feet'] * 12 * conversion_rate)\n",
    "    # //*** Convert Inches by multiplying vallue by conversion rate\n",
    "    if 'inches' in defInput.keys():\n",
    "        total_cm =  total_cm + (defInput['inches'] * conversion_rate)\n",
    "    \n",
    "    return total_cm"
   ]
  },
  {
   "cell_type": "code",
   "execution_count": 15,
   "metadata": {},
   "outputs": [
    {
     "name": "stdout",
     "output_type": "stream",
     "text": [
      "Min Height cm: 177.8 Max Height cm: 185.42\n",
      "51.0361% is tall enough to join the Blue Man Group\n",
      "83.2386% is not too tall to join the Blue Man Group\n",
      "Estimated 32.2025% of US male population is within the height range of 5'10\" - 6'1\"\n"
     ]
    }
   ],
   "source": [
    "# //*** Generate Min and Max height in cm.\n",
    "minHeight = inches_to_cm({'feet':5,'inches':10})\n",
    "maxHeight = inches_to_cm({'feet':6,'inches':1})\n",
    "\n",
    "print(f\"Min Height cm: {minHeight} Max Height cm: {maxHeight}\")\n",
    "\n",
    "# //*** Get the percentage of population that qualifies for the minimum height.\n",
    "# //*** This finds everyone below the minimum, so subtract from 1 to get everyone\n",
    "# //*** Above the minimum\n",
    "minQualified = 1 - dist.cdf(minHeight)\n",
    "# //*** Get the percentage of population that qualifies for the Maximum height.\n",
    "maxQualified = dist.cdf(maxHeight)\n",
    "print(f\"{round(minQualified*100,4)}% is tall enough to join the Blue Man Group\")\n",
    "print(f\"{round(maxQualified*100,4)}% is not too tall to join the Blue Man Group\")\n",
    "# //*** The answer in the maxHeight - minHeight\n",
    "print(f\"Estimated {round( (maxQualified - minQualified) * 100,4)}% of US male population is within the height range of 5'10\\\" - 6'1\\\"\")"
   ]
  },
  {
   "cell_type": "markdown",
   "metadata": {},
   "source": [
    "- ## Chapter 5, Exercise 2\n",
    "\n",
    "**Exercise:** To get a feel for the Pareto distribution, let’s see how different the world would be if the distribution of human height were Pareto. With the parameters xm = 1 m and α = 1.7, we get a distribution with a reasonable minimum, 1 m, and median, 1.5 m.\n",
    "\n",
    "**Plot this Distribution**"
   ]
  },
  {
   "cell_type": "code",
   "execution_count": 16,
   "metadata": {},
   "outputs": [
    {
     "data": {
      "image/png": "[encoded data removed]",
      "text/plain": [
       "<Figure size 432x288 with 1 Axes>"
      ]
     },
     "metadata": {
      "needs_background": "light"
     },
     "output_type": "display_data"
    }
   ],
   "source": [
    "# //*** Generate a pareto CDF from a set of 100 numbers evenly incremented from 1 - 10.\n",
    "heights = np.linspace(0,10,100)\n",
    "pareto_cdf_series = pd.Series(index = scipy.stats.pareto.cdf(heights,scale=1, b=1.7), data=heights)\n",
    "\n",
    "# //*** Histogram with matplotlib\n",
    "plt.plot(pareto_cdf_series, pareto_cdf_series.index.values, 1, color='b')\n",
    "plt.title(\"Pareto CDF\")\n",
    "plt.xlabel('Height')\n",
    "plt.ylabel('CDF')\n",
    "plt.show()\n",
    "\n",
    "# //*** Raw Pareto Calculations to work out later\n",
    "#xs = heights xmin = minimum alpha = 1,7\n",
    "#calc_pareto = 1- (heights / 1) ** 1.7\n",
    "#ps = 1 - (xs / xmin) ** -alpha\n",
    "#ps = stats.pareto.cdf(xs, scale=xmin, b=alpha)\n"
   ]
  },
  {
   "cell_type": "markdown",
   "metadata": {},
   "source": [
    "What is the mean human height in Pareto world?\n",
    "\n",
    "**Mean human height in Pareto World is 2.428571428571429**"
   ]
  },
  {
   "cell_type": "code",
   "execution_count": 17,
   "metadata": {},
   "outputs": [
    {
     "name": "stdout",
     "output_type": "stream",
     "text": [
      "Mean human height in Pareto World is 2.428571428571429\n"
     ]
    }
   ],
   "source": [
    "pareto_dist = scipy.stats.pareto(b=1.7, scale=1)\n",
    "pareto_cdf_mean = pareto_dist.mean()\n",
    "print(f\"Mean human height in Pareto World is {pareto_cdf_mean}\")"
   ]
  },
  {
   "cell_type": "markdown",
   "metadata": {},
   "source": [
    "What fraction of the population is shorter than the mean? \n",
    "\n",
    "**77.87396975652881% of the total population is shorter than the mean**"
   ]
  },
  {
   "cell_type": "code",
   "execution_count": 18,
   "metadata": {},
   "outputs": [
    {
     "name": "stdout",
     "output_type": "stream",
     "text": [
      "77.87396975652881% of the total population is shorter than the mean\n"
     ]
    }
   ],
   "source": [
    "print(f\"{pareto_dist.cdf(pareto_cdf_mean)*100}% of the total population is shorter than the mean\")"
   ]
  },
  {
   "cell_type": "markdown",
   "metadata": {},
   "source": [
    "If there are 7 billion people in Pareto world, how many do we expect to be taller than 1 km? \n",
    "\n",
    "**In Pareto World 55602 people out of 7 billon will be over 1km tall.**"
   ]
  },
  {
   "cell_type": "code",
   "execution_count": 19,
   "metadata": {},
   "outputs": [
    {
     "name": "stdout",
     "output_type": "stream",
     "text": [
      "In Pareto World 55602 people out of 7 billon will be over 1km tall.\n"
     ]
    }
   ],
   "source": [
    "# //*** Find the CDF of 1000m. Subtract from 1 to get everyone above.\n",
    "# //*** Multiply time 7 Billion\n",
    "pareto_giants = int( (1 - pareto_dist.cdf(1000)) * 7000000000)\n",
    "print(f\"In Pareto World {pareto_giants} people out of 7 billon will be over 1km tall.\")"
   ]
  },
  {
   "cell_type": "markdown",
   "metadata": {},
   "source": [
    "How tall do we expect the tallest person to be?\n",
    "\n",
    "**The tallest person on Pareto World is expected to be 618350m**"
   ]
  },
  {
   "cell_type": "code",
   "execution_count": 67,
   "metadata": {},
   "outputs": [
    {
     "name": "stdout",
     "output_type": "stream",
     "text": [
      "The tallest person on Pareto World is expected to be 618350m \n"
     ]
    }
   ],
   "source": [
    "# //*********************************************************************************************************\n",
    "# //*** The solution is to find the CDF representation of one whole person.\n",
    "# //*** The book uses the survivor function with a value of 600000\n",
    "# //*** Neither the answer or the function are referenced. I could have used a ppf, but I didn't understand\n",
    "# //*** that either.\n",
    "# //*** So I put way too much effort into building a function to find the Pareto value closest to 1:\n",
    "# //***                    f(x)~1 where [ population - distribution.cdf(x) * population ]\n",
    "# //***\n",
    "# //*** This function uses a little recursion to estimate a min / max range of a pareto distribution\n",
    "# //*** Where the portion of the population is closest to 1 out of 7 billion.\n",
    "# //*** Once range is determined, The minimum floor is raised to within 1% of the final answer.\n",
    "# //*** A Brute force Loop is used to get the rest of the answer.\n",
    "# //*** I tried Recursive Hi/Low to find the value but got stuck. Probably needed to define\n",
    "# //*** a range that was close enough, then brute force the smaller range.\n",
    "# //*** This works and has a more accurate value than the book.\n",
    "# //*********************************************************************************************************\n",
    "def pareto_max(dist,pop,counter=-1,maxCounter=-1):\n",
    "    # //*** Initialize Counters on first pass\n",
    "    # //*** Start with pop * .00001 as a population floor \n",
    "    if counter == -1:\n",
    "        counter = pop * .00001\n",
    "        maxCounter = counter * 1.5\n",
    "    \n",
    "    # //*** Is 1 Above our maxRange?\n",
    "    minPareto = pop - dist.cdf(counter)* pop\n",
    "    maxPareto = pop - dist.cdf(maxCounter)* pop\n",
    "    #print(f\"{counter} : {minPareto} {maxCounter} {maxPareto}\")\n",
    "    \n",
    "    # //*** Is 1 Above our maxRange?\n",
    "    if maxPareto > 1.0:\n",
    "        # //*** 1 is not in our range. Set min to current Max and Double max\n",
    "        return pareto_max(dist,pop,maxCounter,maxCounter*2)\n",
    "    \n",
    "    # //*** We have a target range counter ~ maxCounter\n",
    "    # //*** I should be able to get the value with a Hi/Low recursion method.\n",
    "    # //*** But i'm not that cool today. Using a brute force loop to get the value\n",
    "    # //*** print(f\"Target Range: {counter} {maxCounter} - Time to Brute Force: {maxCounter - counter} Values\")\n",
    "    \n",
    "    # //*** Let's get the Range closer\n",
    "    # //*** Quick Loop let's raise the floor in 1% increments to get a better starting place\n",
    "    \n",
    "    counterDifference = int(maxCounter - counter) # //*** Total Range\n",
    "    counterInterval = 100 # //*** Increments\n",
    "    counterIncrement = int(counterDifference / counterInterval) #//*** Incremental Counter\n",
    "    loop_counter = int(counter) \n",
    "    \n",
    "    # //*** Gets the Floor within 1% of the range, to simplify the Brute Force\n",
    "    for x in range(1,counterInterval):\n",
    "        loop_counter = loop_counter + counterIncrement\n",
    "        loop_pareto = pop - dist.cdf(loop_counter)* pop\n",
    "        if (loop_pareto > 1.0):\n",
    "            counter = loop_counter\n",
    "        else:\n",
    "            break\n",
    "\n",
    "    \n",
    "    #print(f\"New Counter Floor: {counter}\")\n",
    "    \n",
    "    # //*** Loop to find the Pareto value closest to 1\n",
    "    target_pareto = minPareto\n",
    "    for x in range(int(counter), int(maxCounter)):\n",
    "        loop_pareto = pop - dist.cdf(x)* pop\n",
    "        if loop_pareto > 1.0:\n",
    "            target_pareto = loop_pareto\n",
    "            #print(f\"{x} : {target_pareto}\")\n",
    "        else:\n",
    "            #print(f\"FOUND: {x} {target_pareto} {loop_pareto}\")\n",
    "            break\n",
    "    \n",
    "    return(x)\n",
    "    \n",
    "\n",
    "print(f\"The tallest person on Pareto World is expected to be {pareto_max(pareto_dist,7000000000)}m \")"
   ]
  },
  {
   "cell_type": "markdown",
   "metadata": {},
   "source": [
    "- ## Chapter 6, Exercise 1\n",
    "\n",
    "The distribution of income is famously skewed to the right. In this exercise, we’ll measure how strong that skew is.\n",
    "The Current Population Survey (CPS) is a joint effort of the Bureau of Labor Statistics and the Census Bureau to study income and related variables. Data collected in 2013 is available from http://www.census.gov/hhes/www/cpstables/032013/hhinc/toc.htm. I downloaded `hinc06.xls`, which is an Excel spreadsheet with information about household income, and converted it to `hinc06.csv`, a CSV file you will find in the repository for this book. You will also find `hinc2.py`, which reads this file and transforms the data.\n",
    "\n",
    "The dataset is in the form of a series of income ranges and the number of respondents who fell in each range. The lowest range includes respondents who reported annual household income “Under \\$5000.” The highest range includes respondents who made “\\$250,000 or more.”\n",
    "\n",
    "To estimate mean and other statistics from these data, we have to make some assumptions about the lower and upper bounds, and how the values are distributed in each range. `hinc2.py` provides `InterpolateSample`, which shows one way to model this data. It takes a `DataFrame` with a column, `income`, that contains the upper bound of each range, and `freq`, which contains the number of respondents in each frame.\n",
    "\n",
    "It also takes `log_upper`, which is an assumed upper bound on the highest range, expressed in `log10` dollars. The default value, `log_upper=6.0` represents the assumption that the largest income among the respondents is $10^6$, or one million dollars.\n",
    "\n",
    "`InterpolateSample` generates a pseudo-sample; that is, a sample of household incomes that yields the same number of respondents in each range as the actual data. It assumes that incomes in each range are equally spaced on a `log10` scale.\n",
    "\n"
   ]
  },
  {
   "cell_type": "code",
   "execution_count": 71,
   "metadata": {},
   "outputs": [],
   "source": [
    "def InterpolateSample(df, log_upper=6.0):\n",
    "    \"\"\"Makes a sample of log10 household income.\n",
    "\n",
    "    Assumes that log10 income is uniform in each range.\n",
    "\n",
    "    df: DataFrame with columns income and freq\n",
    "    log_upper: log10 of the assumed upper bound for the highest range\n",
    "\n",
    "    returns: NumPy array of log10 household income\n",
    "    \"\"\"\n",
    "    # compute the log10 of the upper bound for each range\n",
    "    df['log_upper'] = np.log10(df.income)\n",
    "\n",
    "    # get the lower bounds by shifting the upper bound and filling in\n",
    "    # the first element\n",
    "    df['log_lower'] = df.log_upper.shift(1)\n",
    "    df.loc[0, 'log_lower'] = 3.0\n",
    "\n",
    "    # plug in a value for the unknown upper bound of the highest range\n",
    "    df.loc[41, 'log_upper'] = log_upper\n",
    "    \n",
    "    # use the freq column to generate the right number of values in\n",
    "    # each range\n",
    "    arrays = []\n",
    "    for _, row in df.iterrows():\n",
    "        vals = np.linspace(row.log_lower, row.log_upper, row.freq)\n",
    "        arrays.append(vals)\n",
    "\n",
    "    # collect the arrays into a single sample\n",
    "    log_sample = np.concatenate(arrays)\n",
    "    return log_sample\n"
   ]
  },
  {
   "cell_type": "code",
   "execution_count": 72,
   "metadata": {},
   "outputs": [],
   "source": [
    "import hinc\n",
    "income_df = hinc.ReadData()"
   ]
  },
  {
   "cell_type": "code",
   "execution_count": 73,
   "metadata": {},
   "outputs": [
    {
     "ename": "TypeError",
     "evalue": "object of type <class 'numpy.float64'> cannot be safely interpreted as an integer.",
     "output_type": "error",
     "traceback": [
      "\u001b[1;31m---------------------------------------------------------------------------\u001b[0m",
      "\u001b[1;31mTypeError\u001b[0m                                 Traceback (most recent call last)",
      "\u001b[1;32m~\\anaconda3\\lib\\site-packages\\numpy\\core\\function_base.py\u001b[0m in \u001b[0;36mlinspace\u001b[1;34m(start, stop, num, endpoint, retstep, dtype, axis)\u001b[0m\n\u001b[0;32m    116\u001b[0m     \u001b[1;32mtry\u001b[0m\u001b[1;33m:\u001b[0m\u001b[1;33m\u001b[0m\u001b[1;33m\u001b[0m\u001b[0m\n\u001b[1;32m--> 117\u001b[1;33m         \u001b[0mnum\u001b[0m \u001b[1;33m=\u001b[0m \u001b[0moperator\u001b[0m\u001b[1;33m.\u001b[0m\u001b[0mindex\u001b[0m\u001b[1;33m(\u001b[0m\u001b[0mnum\u001b[0m\u001b[1;33m)\u001b[0m\u001b[1;33m\u001b[0m\u001b[1;33m\u001b[0m\u001b[0m\n\u001b[0m\u001b[0;32m    118\u001b[0m     \u001b[1;32mexcept\u001b[0m \u001b[0mTypeError\u001b[0m\u001b[1;33m:\u001b[0m\u001b[1;33m\u001b[0m\u001b[1;33m\u001b[0m\u001b[0m\n",
      "\u001b[1;31mTypeError\u001b[0m: 'numpy.float64' object cannot be interpreted as an integer",
      "\nDuring handling of the above exception, another exception occurred:\n",
      "\u001b[1;31mTypeError\u001b[0m                                 Traceback (most recent call last)",
      "\u001b[1;32m<ipython-input-73-d49dde80fed7>\u001b[0m in \u001b[0;36m<module>\u001b[1;34m\u001b[0m\n\u001b[1;32m----> 1\u001b[1;33m \u001b[0mlog_sample\u001b[0m \u001b[1;33m=\u001b[0m \u001b[0mInterpolateSample\u001b[0m\u001b[1;33m(\u001b[0m\u001b[0mincome_df\u001b[0m\u001b[1;33m,\u001b[0m \u001b[0mlog_upper\u001b[0m\u001b[1;33m=\u001b[0m\u001b[1;36m6.0\u001b[0m\u001b[1;33m)\u001b[0m\u001b[1;33m\u001b[0m\u001b[1;33m\u001b[0m\u001b[0m\n\u001b[0m",
      "\u001b[1;32m<ipython-input-71-c36a0a6255bc>\u001b[0m in \u001b[0;36mInterpolateSample\u001b[1;34m(df, log_upper)\u001b[0m\n\u001b[0;32m     24\u001b[0m     \u001b[0marrays\u001b[0m \u001b[1;33m=\u001b[0m \u001b[1;33m[\u001b[0m\u001b[1;33m]\u001b[0m\u001b[1;33m\u001b[0m\u001b[1;33m\u001b[0m\u001b[0m\n\u001b[0;32m     25\u001b[0m     \u001b[1;32mfor\u001b[0m \u001b[0m_\u001b[0m\u001b[1;33m,\u001b[0m \u001b[0mrow\u001b[0m \u001b[1;32min\u001b[0m \u001b[0mdf\u001b[0m\u001b[1;33m.\u001b[0m\u001b[0miterrows\u001b[0m\u001b[1;33m(\u001b[0m\u001b[1;33m)\u001b[0m\u001b[1;33m:\u001b[0m\u001b[1;33m\u001b[0m\u001b[1;33m\u001b[0m\u001b[0m\n\u001b[1;32m---> 26\u001b[1;33m         \u001b[0mvals\u001b[0m \u001b[1;33m=\u001b[0m \u001b[0mnp\u001b[0m\u001b[1;33m.\u001b[0m\u001b[0mlinspace\u001b[0m\u001b[1;33m(\u001b[0m\u001b[0mrow\u001b[0m\u001b[1;33m.\u001b[0m\u001b[0mlog_lower\u001b[0m\u001b[1;33m,\u001b[0m \u001b[0mrow\u001b[0m\u001b[1;33m.\u001b[0m\u001b[0mlog_upper\u001b[0m\u001b[1;33m,\u001b[0m \u001b[0mrow\u001b[0m\u001b[1;33m.\u001b[0m\u001b[0mfreq\u001b[0m\u001b[1;33m)\u001b[0m\u001b[1;33m\u001b[0m\u001b[1;33m\u001b[0m\u001b[0m\n\u001b[0m\u001b[0;32m     27\u001b[0m         \u001b[0marrays\u001b[0m\u001b[1;33m.\u001b[0m\u001b[0mappend\u001b[0m\u001b[1;33m(\u001b[0m\u001b[0mvals\u001b[0m\u001b[1;33m)\u001b[0m\u001b[1;33m\u001b[0m\u001b[1;33m\u001b[0m\u001b[0m\n\u001b[0;32m     28\u001b[0m \u001b[1;33m\u001b[0m\u001b[0m\n",
      "\u001b[1;32m<__array_function__ internals>\u001b[0m in \u001b[0;36mlinspace\u001b[1;34m(*args, **kwargs)\u001b[0m\n",
      "\u001b[1;32m~\\anaconda3\\lib\\site-packages\\numpy\\core\\function_base.py\u001b[0m in \u001b[0;36mlinspace\u001b[1;34m(start, stop, num, endpoint, retstep, dtype, axis)\u001b[0m\n\u001b[0;32m    117\u001b[0m         \u001b[0mnum\u001b[0m \u001b[1;33m=\u001b[0m \u001b[0moperator\u001b[0m\u001b[1;33m.\u001b[0m\u001b[0mindex\u001b[0m\u001b[1;33m(\u001b[0m\u001b[0mnum\u001b[0m\u001b[1;33m)\u001b[0m\u001b[1;33m\u001b[0m\u001b[1;33m\u001b[0m\u001b[0m\n\u001b[0;32m    118\u001b[0m     \u001b[1;32mexcept\u001b[0m \u001b[0mTypeError\u001b[0m\u001b[1;33m:\u001b[0m\u001b[1;33m\u001b[0m\u001b[1;33m\u001b[0m\u001b[0m\n\u001b[1;32m--> 119\u001b[1;33m         raise TypeError(\n\u001b[0m\u001b[0;32m    120\u001b[0m             \u001b[1;34m\"object of type {} cannot be safely interpreted as an integer.\"\u001b[0m\u001b[1;33m\u001b[0m\u001b[1;33m\u001b[0m\u001b[0m\n\u001b[0;32m    121\u001b[0m                 .format(type(num)))\n",
      "\u001b[1;31mTypeError\u001b[0m: object of type <class 'numpy.float64'> cannot be safely interpreted as an integer."
     ]
    }
   ],
   "source": [
    "log_sample = InterpolateSample(income_df, log_upper=6.0)"
   ]
  },
  {
   "cell_type": "code",
   "execution_count": 74,
   "metadata": {},
   "outputs": [
    {
     "ename": "NameError",
     "evalue": "name 'log_sample' is not defined",
     "output_type": "error",
     "traceback": [
      "\u001b[1;31m---------------------------------------------------------------------------\u001b[0m",
      "\u001b[1;31mNameError\u001b[0m                                 Traceback (most recent call last)",
      "\u001b[1;32m<ipython-input-74-b1ca5edd1a68>\u001b[0m in \u001b[0;36m<module>\u001b[1;34m\u001b[0m\n\u001b[1;32m----> 1\u001b[1;33m \u001b[0mlog_cdf\u001b[0m \u001b[1;33m=\u001b[0m \u001b[0mthinkstats2\u001b[0m\u001b[1;33m.\u001b[0m\u001b[0mCdf\u001b[0m\u001b[1;33m(\u001b[0m\u001b[0mlog_sample\u001b[0m\u001b[1;33m)\u001b[0m\u001b[1;33m\u001b[0m\u001b[1;33m\u001b[0m\u001b[0m\n\u001b[0m\u001b[0;32m      2\u001b[0m \u001b[0mthinkplot\u001b[0m\u001b[1;33m.\u001b[0m\u001b[0mCdf\u001b[0m\u001b[1;33m(\u001b[0m\u001b[0mlog_cdf\u001b[0m\u001b[1;33m)\u001b[0m\u001b[1;33m\u001b[0m\u001b[1;33m\u001b[0m\u001b[0m\n\u001b[0;32m      3\u001b[0m thinkplot.Config(xlabel='Household income (log $)',\n\u001b[0;32m      4\u001b[0m                ylabel='CDF')\n",
      "\u001b[1;31mNameError\u001b[0m: name 'log_sample' is not defined"
     ]
    }
   ],
   "source": [
    "log_cdf = thinkstats2.Cdf(log_sample)\n",
    "thinkplot.Cdf(log_cdf)\n",
    "thinkplot.Config(xlabel='Household income (log $)',\n",
    "               ylabel='CDF')"
   ]
  },
  {
   "cell_type": "code",
   "execution_count": null,
   "metadata": {},
   "outputs": [],
   "source": [
    "sample = np.power(10, log_sample)"
   ]
  },
  {
   "cell_type": "code",
   "execution_count": null,
   "metadata": {},
   "outputs": [],
   "source": [
    "cdf = thinkstats2.Cdf(sample)\n",
    "thinkplot.Cdf(cdf)\n",
    "thinkplot.Config(xlabel='Household income ($)',\n",
    "               ylabel='CDF')"
   ]
  },
  {
   "cell_type": "markdown",
   "metadata": {},
   "source": [
    "Compute the median, mean, skewness and Pearson’s skewness of the resulting sample. What fraction of households report a taxable income below the mean? How do the results depend on the assumed upper bound?\n"
   ]
  },
  {
   "cell_type": "markdown",
   "metadata": {},
   "source": [
    "- ## Chapter X, Exercise X\n",
    "\n"
   ]
  },
  {
   "cell_type": "code",
   "execution_count": null,
   "metadata": {},
   "outputs": [],
   "source": [
    "# //*** CODE HERE"
   ]
  }
 ],
 "metadata": {
  "kernelspec": {
   "display_name": "Python 3",
   "language": "python",
   "name": "python3"
  },
  "language_info": {
   "codemirror_mode": {
    "name": "ipython",
    "version": 3
   },
   "file_extension": ".py",
   "mimetype": "text/x-python",
   "name": "python",
   "nbconvert_exporter": "python",
   "pygments_lexer": "ipython3",
   "version": "3.8.3"
  }
 },
 "nbformat": 4,
 "nbformat_minor": 4
}
