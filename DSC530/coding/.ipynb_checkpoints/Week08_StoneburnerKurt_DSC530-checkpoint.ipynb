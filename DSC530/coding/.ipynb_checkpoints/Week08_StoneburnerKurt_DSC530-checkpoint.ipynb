{
 "cells": [
  {
   "cell_type": "markdown",
   "metadata": {},
   "source": [
    "# Stoneburner, Kurt\n",
    "- ## DSC 530 - Week 08\n",
    "- ## Chapter 9, Exercise 1\n",
    "\n",
    "**Exercise:** As sample size increases, the power of a hypothesis test increases, which means it is more likely to be positive if the effect is real. Conversely, as sample size decreases, the test is less likely to be positive even if the effect is real.\n",
    "\n",
    "To investigate this behavior, run the tests in this chapter with different subsets of the NSFG data. You can use `thinkstats2.SampleRows` to select a random subset of the rows in a DataFrame.\n",
    "\n",
    "What happens to the p-values of these tests as sample size decreases? What is the smallest sample size that yields a positive test?"
   ]
  },
  {
   "cell_type": "markdown",
   "metadata": {},
   "source": [
    "### Notes on this Assignment ###\n",
    "\n",
    "I've reworked or reappropriated most of the thinkstats code into my own functions. Breaking down the opaque Thinkstats functions is a key part of my learning process. I figured out most of it. I was stuck on sampling and resampling. My versions didn't reproduce the code solutions. \n",
    "\n",
    "### Response: ###\n",
    "\n",
    "As sample size decreases, p-value increases. There is signifcant variance in the p-value calculations since results are greatly affected by the size and randomness of the sample. Calculating p-values from random samples is a good example of sampling bias. To mitigate the variance, each p-test was run 50 times with different samples and the mean p-value was used. The Standard Deviation (I think Error in this case), shows the variance in the p tests. I understand the concept of determining a positive test. I ran out of time (and energy) to fully unpack the thinkstats code."
   ]
  },
  {
   "cell_type": "code",
   "execution_count": 2,
   "metadata": {},
   "outputs": [],
   "source": [
    "# //****************************************************************************************\n",
    "# //*** Set Working Directory to thinkstats folder.\n",
    "# //*** This pseudo-relative path call should work on all Stoneburner localized projects. \n",
    "# //****************************************************************************************\n",
    "\n",
    "import os\n",
    "import sys\n",
    "workingPath = os.getcwd().replace(\"coding\", \"ThinkStats2\\\\code\")\n",
    "sys.path.insert(1, workingPath)\n",
    "os.chdir(workingPath)\n",
    "\n",
    "# //*** Imports and Load Data\n",
    "import nsfg\n",
    "import thinkstats2\n",
    "import thinkplot\n",
    "import first\n",
    "import matplotlib.pyplot as plt\n",
    "import numpy as np\n",
    "import pandas as pd\n",
    "import scipy"
   ]
  },
  {
   "cell_type": "code",
   "execution_count": 2,
   "metadata": {},
   "outputs": [],
   "source": [
    "resp = nsfg.ReadFemResp()\n",
    "preg = nsfg.ReadFemPreg()\n"
   ]
  },
  {
   "cell_type": "code",
   "execution_count": 3,
   "metadata": {},
   "outputs": [],
   "source": [
    "def get_test_stat(input_ts_type, data1, data2):\n",
    "    \n",
    "    if input_ts_type ==  'mean_diff':\n",
    "        return abs( np.mean(data1) - np.mean(data2) )  \n",
    "    \n",
    "    if input_ts_type ==  'mean_diff_one_sided':\n",
    "        return np.mean(data1) - np.mean(data2)\n",
    "    \n",
    "    if input_ts_type ==  'std_diff':\n",
    "        return  np.std(data1) - np.std(data2)\n",
    "\n",
    "    if input_ts_type ==  'cor_pearson':\n",
    "        return  scipy.stats.pearsonr(data1,data2)\n",
    "    \n",
    "    # //*** Chi Squared Reference\n",
    "    # https://www.geeksforgeeks.org/python-pearsons-chi-square-test/\n",
    "    if input_ts_type == 'chi-squared':\n",
    "        \n",
    "        if isinstance(data1, pd.Series) == False:\n",
    "            data1 = pd.Series(data=data1)\n",
    "        if isinstance(data2, pd.Series) == False:\n",
    "            data2 = pd.Series(data=data2)\n",
    "            \n",
    "        # Chi squared is sum( (observed - expected) ** 2 / expected )\n",
    "        # observed = histogram of values\n",
    "        # expected is a PMF from histogram of data1 and data2 combined with each value multipled by the total number of values.\n",
    "        # perform chi on each data set and add them together for the result\n",
    "        # //*** Observed is a histgram of the data\n",
    "        observed1 = data1.value_counts().sort_index()\n",
    "        # //*** Expectation:\n",
    "        # //*** 1. Concatenate both data sets.\n",
    "        # //*** 2. Convert to pd.Series\n",
    "        # //*** 3. Build histogram of both data sets\n",
    "        # //*** 4. build a PMF from pd.Series\n",
    "        # //*** 5. Multiply each Series value by length of data1\n",
    "        expectation_pmf1 = build_pmf(pd.Series(data=np.hstack( (data1,data2) ) ).value_counts().sort_index()) * len(data1)\n",
    "        expectation_pmf2 = build_pmf(pd.Series(data=np.hstack( (data1,data2) ) ).value_counts().sort_index()) * len(data2)\n",
    "\n",
    "        # //*** Build a list of the difference of observed - expectations\n",
    "        # //*** Since expectations and observed are of different lengths, on the values with the same index are compared\n",
    "        difference1 = np.array ( [ observed1[x] - expectation_pmf1[x] for x in observed1.index ] )\n",
    "        # //*** Sampe process to build the expectations\n",
    "        expectation1 = np.array( [ expectation_pmf1[x] for x in observed1.index ] )\n",
    "\n",
    "        observed2 = data2.value_counts().sort_index()\n",
    "        difference2 = np.array ( [ observed2[x] - expectation_pmf2[x] for x in observed2.index ] )\n",
    "        expectation2 = np.array( [ expectation_pmf2[x] for x in observed2.index ] )\n",
    "\n",
    "        # //*** Once the differences and expectations are of identical length, they can be plugged into the formula\n",
    "        stat1 = sum( (difference1**2)/expectation1 )\n",
    "        stat2 = sum( (difference2**2)/expectation2 )\n",
    "        \n",
    "        # //*** Return the sum of the stats\n",
    "        return stat1 + stat2\n",
    "\n",
    "        \n",
    "\n",
    "    return \"\""
   ]
  },
  {
   "cell_type": "code",
   "execution_count": 3,
   "metadata": {},
   "outputs": [],
   "source": [
    "def hypothesis_test(input_dict):\n",
    "    \n",
    "    if 'type' not in input_dict.keys():\n",
    "        print(f\"hypothesis test requires a type value\")\n",
    "        return \"\"\n",
    "    \n",
    "    if 'data' not in input_dict.keys():\n",
    "        print(f\"Need valid data\")\n",
    "        return \"\"\n",
    "    \n",
    "    # //*** Assign the total number of tests to run.\n",
    "    # //*** Defaults to 1000\n",
    "    if 'count' in input_dict.keys():\n",
    "        max_test_count = input_dict['count']\n",
    "    else:\n",
    "        max_test_count = 1000\n",
    "    \n",
    "    test_statistic = -1\n",
    "    \n",
    "\n",
    "    # //*** Convert data to Lists\n",
    "    data1 = input_dict['data'][0]\n",
    "    data2 = input_dict['data'][1]\n",
    "\n",
    "    # //*** Sample a random subset of data\n",
    "    # //*** Defaults to all data\n",
    "    if 'sample' in input_dict.keys():\n",
    "        # //*** Get random sample and convert to list\n",
    "        data1 = getSample_from_series(data1,input_dict['sample'])[0]\n",
    "        data2 = getSample_from_series(data2,input_dict['sample'])[0]\n",
    "        \n",
    "        \n",
    "    \n",
    "    #data1 = list(data1)\n",
    "    #data2 = list(data2)\n",
    "\n",
    "    # //*** Concatinate the lists\n",
    "    combined_data = np.hstack( (data1,data2) )\n",
    "    \n",
    "    n = int( len(combined_data) / 2) \n",
    "\n",
    "    \n",
    "    # //*** get the test statistic. Function performs calculation based on type\n",
    "    # //*** Assume data has been properly validated at this point.\n",
    "    test_statistic = get_test_stat(input_dict['type'],data1,data2)\n",
    "    \n",
    "    null_count = 0\n",
    "    # //*** Build random permutations\n",
    "    for loop_counter in range(max_test_count):\n",
    "        \n",
    "        # //*** randomly shuffle the combined data\n",
    "        np.random.shuffle(combined_data)\n",
    "        \n",
    "        \n",
    "        # //*** Split shuffled data evenly\n",
    "        data1,data2 = combined_data[0:n],combined_data[n:len(combined_data)]\n",
    "        \n",
    "        loop_test_statistic = get_test_stat(input_dict['type'],data1,data2)\n",
    "        \n",
    "        # //*** If loop test statistic greater than test statistic. Then add to null count\n",
    "        if loop_test_statistic > test_statistic:\n",
    "            null_count = null_count + 1\n",
    "        \n",
    "    return (null_count / max_test_count)\n",
    "\n",
    "#sample_df,remainder_df = getSample_from_series(total_weight,.1)\n",
    "\n",
    "#total_weight['totalwgt_lb']\n",
    "#total_weight['agepreg']\n",
    "\n",
    "#Permutation Test\n",
    "#Difference in standard deviation\n",
    "#print(np.std( total_weight['totalwgt_lb']))\n",
    "#print(np.std( total_weight['agepreg']))\n",
    "#abs(np.std( total_weight['totalwgt_lb']) - np.std( total_weight['agepreg']))\n",
    "\n",
    "#get_p_scores(total_weight['totalwgt_lb'])\n",
    "\n",
    "#print(f\"{scipy.stats.pearsonr(total_weight['totalwgt_lb'],total_weight['agepreg'])}\")\n",
    "#correlation Testing\n",
    "#Testing Proportions\n",
    "#Chi Squared test\n",
    "\n",
    "#Difference of Means Permutation test\n",
    "# Generate a test statistic for reference.\n",
    "# This is the difference of the means\n",
    "# test statistic or t-value is the abs(difference of means)\n",
    "# combine both data sets.\n",
    "# 1000 thousand times:\n",
    "#      Randomly split combined data in half.\n",
    "#      Find the difference of the means for the random samples, for a random sample test statistic\n",
    "#      count the random test statistics that are greater than the base line test statistic\n",
    "# The P-value is the count / total tests run (1000)\n",
    "# The P-value represents the chance of the outcome occuring randomly.\n",
    "# Reference: https://www.ohbmbrainmappingblog.com/blog/a-brief-overview-of-permutation-testing-with-examples\n"
   ]
  },
  {
   "cell_type": "code",
   "execution_count": 4,
   "metadata": {
    "scrolled": true
   },
   "outputs": [],
   "source": [
    "\n",
    "# //*** Combine the Hypothesis tests into a single function for display. To keep things tidy\n",
    "def display_hypothesis(input_type, input_data1, input_data2, input_iter=50,input_percentages=[.05,.1,.2,.5,.75]):\n",
    "    \n",
    "    test_statistic = get_test_stat(input_type,input_data1,input_data2)\n",
    "        \n",
    "    p_vals_test_statistic = [ hypothesis_test({ 'type':input_type,'data':(input_data1,input_data2) }) for i in range(pval_iter) ]\n",
    "    test_name = \"Test: XXXX\"\n",
    "    if input_type == 'mean_diff':\n",
    "        test_name = \"Mean Difference\"\n",
    "        \n",
    "    elif input_type == 'mean_diff_one_sided':\n",
    "        test_name = \"One Sided Mean Difference\"\n",
    "\n",
    "    elif input_type == 'cor_pearson':\n",
    "        test_name = \"Pearson's Correlation\"\n",
    "\n",
    "    elif input_type == 'std_diff':\n",
    "        test_name = \"Standard Deviation Difference\"\n",
    "        \n",
    "    elif input_type == 'chi-squared':\n",
    "        test_name = \"Chi-Squared\"\n",
    "        \n",
    "    print(f\"=======================================================\")\n",
    "    print(f\"{test_name}: {test_statistic}\")\n",
    "    print(f\"p-val: {np.mean(p_vals_test_statistic)} [ \\u03C3: {np.std(p_vals_test_statistic)} ]\")\n",
    "    print(f\"=======================================================\")\n",
    "\n",
    "    for x in input_percentages:\n",
    "        pvals = [ hypothesis_test({ 'type':'mean_diff','data':(first_preglen,other_preglen),'sample':x }) for i in range(input_iter) ]\n",
    "        pvals = np.array(pvals)\n",
    "        pstd = np.std(pvals)\n",
    "        #print(f\"================================================================================================\")\n",
    "        if x == 1:\n",
    "            x = x*10\n",
    "        print(f\"Sample size {round(x*100,2)}%: p-val: {round(np.mean(pvals),4)} [ \\u03C3: {pstd} ]\")\n",
    "        print(f\"================================================================================================\")\n",
    "\n",
    "    # //*** END display_hypothesis\n",
    "\n",
    "\n"
   ]
  },
  {
   "cell_type": "code",
   "execution_count": 5,
   "metadata": {},
   "outputs": [],
   "source": [
    "# //*** I initially built a random sampler to perform permutations.\n",
    "# //*** In hidsight I could have used np.random.shuffle and grabbed smaller sampling slices \n",
    "def getSample_from_series(input_df,input_percentage=.1):\n",
    "    #//*** Returns a random sampling of the input_df or Series\n",
    "    # //*** Series type conversion to dataFrame\n",
    "    \n",
    "    is_series = False\n",
    "    \n",
    "    if isinstance(input_df, pd.Series):\n",
    "        input_df = pd.DataFrame(input_df)\n",
    "        is_series = True\n",
    "    \n",
    "    sample_size = int(len(input_df) * input_percentage)\n",
    "    remainder_size = len(input_df) - sample_size\n",
    "    \n",
    "    #print(f\"{sample_size} {remainder_size}\")\n",
    "    \n",
    "    # //*** Set Loop safety as a function of sample_size and input_percentage\n",
    "    loop_safe_max = (sample_size * 1/input_percentage)**2\n",
    "    #print(f\"Loop Safe Max: {loop_safe_max}\")\n",
    "    \n",
    "    loop_safe = 0\n",
    "    sample_index = []\n",
    "    sample_dict = {}\n",
    "    \n",
    "    # //*** Get a random integer between 0 and size of input_series -1\n",
    "    # //*** Build a list of unique random numbers equal to the sample size\n",
    "    # //*** A dictionary is used to keep track of unique values.\n",
    "    while len(sample_index) < sample_size:\n",
    "        # //*** Pick a random integer between - and len(input_df) -1 \n",
    "        random_int = np.random.randint( (len(input_df)-1) )\n",
    "        \n",
    "        #//*** Convert integer to index key\n",
    "        random_int = input_df.index[random_int]\n",
    "        \n",
    "               \n",
    "        \n",
    "        #//*** Check if we've used this number\n",
    "        if random_int not in sample_dict.keys():\n",
    "            sample_index.append(random_int)\n",
    "            sample_dict[random_int] = \"\"\n",
    "        \n",
    "        loop_safe = loop_safe + 1\n",
    "        \n",
    "        if loop_safe > loop_safe_max:\n",
    "            print(\"Loop Maximum exceeded! Quitting for Safety!\")\n",
    "            break;\n",
    "    \n",
    "    #//*** Sort the values\n",
    "    sample_index = np.sort(sample_index)\n",
    "    \n",
    "    #//*** Build a list of values, 1 is sample, 0 is not sample\n",
    "    #//*** This will be a column to add to the input_df\n",
    "    is_sample = []\n",
    "    for x in input_df.index:\n",
    "        if x in sample_index:\n",
    "            is_sample.append(1)\n",
    "        else:\n",
    "            is_sample.append(0)\n",
    "    \n",
    "    #//*** Add is_sample column\n",
    "    input_df = input_df.assign( is_sample = is_sample)\n",
    "    \n",
    "    # //*** get sample and remainder dataframes based on is_sample attribute\n",
    "    # //*** Get the sample data frame and the remainder dataframe\n",
    "    sample_df = input_df[input_df ['is_sample'] == 1]\n",
    "    remainder_df = input_df[input_df ['is_sample'] == 0 ]\n",
    "    \n",
    "    # //**** Remove is_Sample Parameter\n",
    "    del sample_df['is_sample']\n",
    "    del remainder_df['is_sample']\n",
    "    \n",
    "    #print(len(sample_index))\n",
    "    #print(len(sample_df))\n",
    "\n",
    "    \n",
    "    if is_series == True:\n",
    "        sample_df = pd.Series(index= sample_df.index, data= sample_df.iloc[:,0])\n",
    "        remainder_df = pd.Series(index= remainder_df.index, data= remainder_df.iloc[:,0])\n",
    "    return sample_df, remainder_df"
   ]
  },
  {
   "cell_type": "code",
   "execution_count": 6,
   "metadata": {},
   "outputs": [],
   "source": [
    "# //*****************************************\n",
    "# //*** Build a probability mass function\n",
    "# //*****************************************\n",
    "# //*** Returns Series as a PMF\n",
    "# //*****************************************\n",
    "def build_pmf(input_series):\n",
    "    output_series = input_series.copy()\n",
    "    total_values = input_series.sum()\n",
    "    for value,freq in output_series.items():\n",
    "        #print(f\"{value} {freq} {total_values} {freq/total_values}\")\n",
    "        output_series.loc[value] = freq/total_values\n",
    "    return output_series"
   ]
  },
  {
   "cell_type": "code",
   "execution_count": 35,
   "metadata": {},
   "outputs": [
    {
     "name": "stdout",
     "output_type": "stream",
     "text": [
      "Compare Pregnancy Lengths between first births and other births\n",
      "Hypothesis: first births have a longer pregnancy length\n",
      "Null Hypothesis: first births and other births are no different\n",
      "Sampled: p-vals are run 50 times. With the p-Val's averaged together. This helps even out the\n",
      "sampled selection variance.\n",
      "=======================================================\n",
      "Chi-Squared: 119.84093173385406\n",
      "p-val: 0.0 [ σ: 0.0 ]\n",
      "=======================================================\n",
      "Sample size 5.0%: p-val: 0.466 [ σ: 0.2937420289982351 ]\n",
      "================================================================================================\n",
      "Sample size 10.0%: p-val: 0.4713 [ σ: 0.2744631151903658 ]\n",
      "================================================================================================\n",
      "Sample size 20.0%: p-val: 0.4639 [ σ: 0.3115342299009853 ]\n",
      "================================================================================================\n",
      "Sample size 50.0%: p-val: 0.3615 [ σ: 0.2902493576220282 ]\n",
      "================================================================================================\n",
      "Sample size 75.0%: p-val: 0.2933 [ σ: 0.2124778209602122 ]\n",
      "================================================================================================\n",
      "=======================================================\n",
      "Mean Difference: 0.0839628095830065\n",
      "p-val: 0.13558 [ σ: 0.011721928169034309 ]\n",
      "=======================================================\n",
      "Sample size 5.0%: p-val: 0.4306 [ σ: 0.2742685545227524 ]\n",
      "================================================================================================\n",
      "Sample size 10.0%: p-val: 0.5167 [ σ: 0.286739994420032 ]\n",
      "================================================================================================\n",
      "Sample size 20.0%: p-val: 0.5095 [ σ: 0.31689154043615614 ]\n",
      "================================================================================================\n",
      "Sample size 50.0%: p-val: 0.3476 [ σ: 0.2561007426775643 ]\n",
      "================================================================================================\n",
      "Sample size 75.0%: p-val: 0.2519 [ σ: 0.18510909323963531 ]\n",
      "================================================================================================\n",
      "=======================================================\n",
      "One Sided Mean Difference: 0.0839628095830065\n",
      "p-val: 0.06688000000000001 [ σ: 0.007067220104114488 ]\n",
      "=======================================================\n",
      "Sample size 5.0%: p-val: 0.4828 [ σ: 0.28598424362191704 ]\n",
      "================================================================================================\n",
      "Sample size 10.0%: p-val: 0.5003 [ σ: 0.29367192851888313 ]\n",
      "================================================================================================\n",
      "Sample size 20.0%: p-val: 0.5267 [ σ: 0.32083841727573714 ]\n",
      "================================================================================================\n",
      "Sample size 50.0%: p-val: 0.4131 [ σ: 0.3111132681195066 ]\n",
      "================================================================================================\n",
      "Sample size 75.0%: p-val: 0.2397 [ σ: 0.21987853465038373 ]\n",
      "================================================================================================\n",
      "=======================================================\n",
      "Standard Deviation Difference: 0.14967231279798243\n",
      "p-val: 0.08612 [ σ: 0.009324462450994159 ]\n",
      "=======================================================\n",
      "Sample size 5.0%: p-val: 0.4781 [ σ: 0.3073226864388634 ]\n",
      "================================================================================================\n",
      "Sample size 10.0%: p-val: 0.5248 [ σ: 0.27277873817436726 ]\n",
      "================================================================================================\n",
      "Sample size 20.0%: p-val: 0.3926 [ σ: 0.3068427062845066 ]\n",
      "================================================================================================\n",
      "Sample size 50.0%: p-val: 0.3008 [ σ: 0.2581503972493554 ]\n",
      "================================================================================================\n",
      "Sample size 75.0%: p-val: 0.2149 [ σ: 0.1598906188617706 ]\n",
      "================================================================================================\n"
     ]
    }
   ],
   "source": [
    "# //*** Compare birth order birth weights\n",
    "\n",
    "pval_iter = 50\n",
    "sample_percentages = [.05,.1,.2,.5,.75]\n",
    "\n",
    "# //*** Get the birthweight Series data from the preg dataframe\n",
    "print(f\"Compare Pregnancy Lengths between first births and other births\")\n",
    "print(f\"Hypothesis: first births have a longer pregnancy length\")\n",
    "print(f\"Null Hypothesis: first births and other births are no different\")\n",
    "print(f\"Sampled: p-vals are run {pval_iter} times. With the p-Val's averaged together. This helps even out the\")\n",
    "print(f\"sampled selection variance.\")\n",
    "    \n",
    "preg = preg.dropna(subset=['totalwgt_lb','agepreg','birthord'])\n",
    "\n",
    "firsts_df = preg[preg.birthord == 1]\n",
    "others_df = preg[preg.birthord != 1]\n",
    "\n",
    "first_preglen = firsts_df['prglngth'][firsts_df['prglngth'] > 0]\n",
    "other_preglen = others_df['prglngth']\n",
    "\n",
    "\n",
    "display_hypothesis('chi-squared',first_preglen,other_preglen,pval_iter,sample_percentages,)\n",
    "display_hypothesis('mean_diff',first_preglen,other_preglen,pval_iter,sample_percentages,)\n",
    "display_hypothesis('mean_diff_one_sided',first_preglen,other_preglen,pval_iter,sample_percentages,)\n",
    "display_hypothesis('std_diff',first_preglen,other_preglen,pval_iter,sample_percentages,)"
   ]
  },
  {
   "cell_type": "markdown",
   "metadata": {},
   "source": [
    "- ## Chapter 10, Exercise 1\n",
    "\n",
    "**Exercise:** Using the data from the BRFSS, compute the linear least squares fit for log(weight) versus height. How would you best present the estimated parameters for a model like this where one of the variables is log-transformed? If you were trying to guess someone’s weight, how much would it help to know their height?\n",
    "\n",
    "Like the NSFG, the BRFSS oversamples some groups and provides a sampling weight for each respondent. In the BRFSS data, the variable name for these weights is totalwt. Use resampling, with and without weights, to estimate the mean height of respondents in the BRFSS, the standard error of the mean, and a 90% confidence interval. How much does correct weighting affect the estimates?\n"
   ]
  },
  {
   "cell_type": "code",
   "execution_count": 7,
   "metadata": {},
   "outputs": [],
   "source": [
    "import brfss\n",
    "\n",
    "df = brfss.ReadBrfss(nrows=None)\n",
    "df = df.dropna(subset=['htm3', 'wtkg2'])\n",
    "heights, weights = df.htm3, df.wtkg2\n",
    "log_weights = np.log10(weights)"
   ]
  },
  {
   "cell_type": "markdown",
   "metadata": {},
   "source": [
    "#### FUNCTIONS #####\n",
    "\n",
    "**regression_least_squares:** Returns intercept and slope by estimating the least squares values.\n",
    "Code based on pulling apart thinkstats and reworking it\n",
    "\n",
    "**fitline:** generates fitted values (ideally to plot a regression) from x values, slope, & intercept\n",
    "Code is identical to thinkstats with a different variable naming convention.\n",
    "\n",
    "**Residuals:** Thinkstats function to calculate residuals. Residuals are the difference between the regression value and the expected value. I should be able to take the difference of the actual column and subtract the fitted (regression) column. That worked in R. It's something i'd like to figure out.\n",
    "\n",
    "***Functions: reused from previous projects.***\n",
    "\n",
    "**build_cdf** builds a CDF from a PMF.\n",
    "\n",
    "**get_cdf_percentile** retrieves CDF Percentage closest to a given value.\n",
    "\n",
    "**plot_cdf_percentiles** Plots percentile values over a dataframe with a given dependent, independent variables, and percentiles to plot. I suspect this will come up again, so I structured this code to be resuable."
   ]
  },
  {
   "cell_type": "code",
   "execution_count": 8,
   "metadata": {},
   "outputs": [],
   "source": [
    "# //*** Estimate least squares \n",
    "# //*** returns slope and inetercept regression value, computed from least squares\n",
    "# //*** Deconstructed from ThinkStats code\n",
    "def regression_least_squares(input_xvals, input_yvals):\n",
    "    x_mean = np.mean(input_xvals)\n",
    "    y_mean = np.mean(input_yvals)\n",
    "    \n",
    "    # //**** Think Stats Variance\n",
    "    # //**** Gives a different variance than nump.var\n",
    "    # //*** ts_var != np.var(input_xvals)\n",
    "    ts_var = input_xvals - x_mean\n",
    "    ts_var = np.dot(ts_var, ts_var) / len(input_xvals)\n",
    "    \n",
    "    # //*** cov = np.dot(xs-meanx, ys-meany) / len(xs)\n",
    "    covariance = np.dot(input_xvals - x_mean, input_yvals-y_mean) / len(input_xvals)\n",
    "    \n",
    "    # //*** slope = covariance(xval, yval, meanx, meany) / x_mean_var\n",
    "    slope = covariance / ts_var\n",
    "    \n",
    "    #//** intercept = meany - slope * meanx\n",
    "    intercept = y_mean - slope * x_mean\n",
    "    \n",
    "    return intercept,slope    \n",
    "\n",
    "# //*** Fit line\n",
    "# //*** Generates y values from x values slope and intercept\n",
    "# //*** Pretty much exactly the thinkstats code, because Occam's razor oddly enough\n",
    "def fitline(input_xvals, input_inter, input_slope):\n",
    "    output_xvals = np.sort(input_xvals)\n",
    "    output_yvals = input_inter + (input_slope * output_xvals)\n",
    "    return output_xvals, output_yvals\n",
    "\n",
    "# //*** Residuals from the fitline\n",
    "def Residuals(input_xvals, input_yvals, inter, slope):\n",
    "    output_xvals = np.asarray(input_xvals)\n",
    "    output_yvals = np.asarray(input_yvals)\n",
    "    res = output_yvals - (inter + slope * output_xvals)\n",
    "    return res\n",
    "\n",
    "\n",
    "#Residuals from my DSC520 project*\n",
    "#temp_residual <- temp_df$daily_total_deaths - temp_predict_df$daily_total_deaths\n",
    "#Base Error\n",
    "#temp_residual <- sum(temp_residual^2)\n",
    "\n",
    "# //*** Build a Cumulative Distribution Function from a Probability Mass Function\n",
    "# //*** Returns a Series\n",
    "def build_cdf(input_series):\n",
    "    # //*** If input is not panda or pd series, try to convert it\n",
    "    if not isinstance(input_series,pd.core.series.Series):\n",
    "        input_series = pd.Series(input_series)\n",
    "        \n",
    "    # //*** If input is np.Array\n",
    "    output_series = input_series.copy()\n",
    "    cumulative_value = 0\n",
    "    for value,freq in output_series.items():\n",
    "        #print(f\"{value} {freq} {cumulative_value} {freq + cumulative_value}\")\n",
    "        cumulative_value = freq + cumulative_value\n",
    "        output_series.loc[value] = cumulative_value\n",
    "    return output_series\n",
    "\n",
    "# //*** Retrieve a percentile value from a CDF.\n",
    "# //*** Returns index value closest to input parameter percentile.\n",
    "def get_cdf_percentile(input_cdf,percentile):\n",
    "    #print(f\"{input_cdf}\")\n",
    "    #//*** Initialize output to first value\n",
    "    output = input_cdf.index[0]\n",
    "    \n",
    "    #//*** Loop through all items till the value exceeds the percentile\n",
    "    #//*** Return value from last loop\n",
    "    for index,value in input_cdf.items():\n",
    "        \n",
    "        if value > percentile:\n",
    "            return output\n",
    "        else:\n",
    "            output = index\n",
    "\n",
    "# //*** Displays a percentile plot of independent variable vs dependent variables\n",
    "# //*** Dependent variable - dataframe column name - X axis, used as a mean for comparison\n",
    "# //*** Independent variable - dataframe column name - Y axis, used for CDF percentiles\n",
    "# //*** input_bin_percentages = a list [.1,.3,.5] of percentages to use for percentiles.\n",
    "# //*** plot_now = Boolean. True draws a basic plot with no labels. False, doesn't draw plot and allows more plt\n",
    "# //***            values to be assigned after such as adding labels.\n",
    "def plot_cdf_percentiles(input_df,dependent_variable,independent_variable,input_bin_percentages,plot_now=True):\n",
    "    # //*** Get min and Max ages to set the limits of the group by bins\n",
    "    # //*** Converting to integers adds headroom (extra space) to the floor\n",
    "    # //*** Max + 1 gives a little extra room for Max\n",
    "    minVal = int(input_df[dependent_variable].min())\n",
    "    maxVal = int(input_df[dependent_variable].max())+1\n",
    "\n",
    "    # //*** Build binning parameters. Minimum value, Maximum Value, # of Bins\n",
    "    bins = np.arange(minVal, maxVal, len(input_bin_percentages))\n",
    "\n",
    "    # //*** generate indices based on bins\n",
    "    indices = np.digitize(input_df[dependent_variable], bins)\n",
    "    \n",
    "    # //*** Generates a list of groups thar are binned by the indices\n",
    "    groups = input_df.groupby(indices)\n",
    "\n",
    "    # //*** Build mean of dependent variable\n",
    "    # //*** Builds a list of means for each dependent binned values\n",
    "    dependent_variable_mean = [group[dependent_variable].mean() for i, group in groups]\n",
    "\n",
    "    # //*** Build a list CDFs for each binned value\n",
    "    CDFs = []\n",
    "    \n",
    "    for group in groups:\n",
    "        #//*** CDF for each binned dataframe\n",
    "        #//*** Each group is a tuple (Index,dataFrame) - hence group[1] = dataFrame\n",
    "        #//*** Get the independent variable in each group\n",
    "        #//*** 1. Build histogram\n",
    "        #//*** 2. build PMF\n",
    "        #//*** 3. build CDF\n",
    "        #//*** 4. Add resulting CDF to CDFs\n",
    "        CDFs.append( build_cdf( build_pmf( (group[1][independent_variable].value_counts().sort_index() ) ) ) )\n",
    "\n",
    "    labels = []\n",
    "    for x in input_bin_percentages:\n",
    "        # //*** Build a list of percentiles to plot from each cdf using the percentile stored in bin_values\n",
    "        weight_percentiles = [get_cdf_percentile(cdf,x) for cdf in CDFs]\n",
    "        loop_label= f\"{int(x*100)}th\"\n",
    "        plt.plot(dependent_variable_mean,weight_percentiles,1, label=loop_label)\n",
    "        labels.append(loop_label)\n",
    "\n",
    "    #plt.xlabel('Age(mean)')\n",
    "    #plt.ylabel('Birth Weight (lb)')\n",
    "\n",
    "    plt.legend(labels)\n",
    "    plt.xlim(minVal,maxVal)\n",
    "    \n",
    "    if plot_now==True:\n",
    "        plt.show()"
   ]
  },
  {
   "cell_type": "markdown",
   "metadata": {},
   "source": [
    "**Estimate intercept and slope.**"
   ]
  },
  {
   "cell_type": "code",
   "execution_count": 9,
   "metadata": {},
   "outputs": [
    {
     "name": "stdout",
     "output_type": "stream",
     "text": [
      "Estimated Intercept: 0.9930804163917621\n",
      "Estimated Slope:     0.005281454169418104\n",
      "0.9930804163917621 0.005281454169418104\n",
      "0.9930804163917621 0.005281454169418104\n"
     ]
    }
   ],
   "source": [
    "intercept,slope = regression_least_squares(heights,log_weights)\n",
    "ts_inter, ts_slope = thinkstats2.LeastSquares(heights,log_weights)\n",
    "print(f\"Estimated Intercept: {intercept}\")\n",
    "print(f\"Estimated Slope:     {slope}\")\n",
    "print(f\"{intercept} {slope}\")\n",
    "print(f\"{ts_inter} {ts_slope}\")"
   ]
  },
  {
   "cell_type": "markdown",
   "metadata": {},
   "source": [
    "Make a scatter plot of the data and show the fitted line."
   ]
  },
  {
   "cell_type": "code",
   "execution_count": 10,
   "metadata": {},
   "outputs": [
    {
     "data": {
      "image/png": "[encoded data removed]",
      "text/plain": [
       "<Figure size 432x288 with 1 Axes>"
      ]
     },
     "metadata": {
      "needs_background": "light"
     },
     "output_type": "display_data"
    }
   ],
   "source": [
    "# //*** Build fitted regression values\n",
    "regress_weights_fitted, regress_heights_fitted = fitline(heights,intercept,slope)\n",
    "\n",
    "# //*** Plot the Pareto CDF\n",
    "plt.scatter(heights,log_weights, 1, color='b')\n",
    "plt.plot(regress_weights_fitted, regress_heights_fitted,1,color='r')\n",
    "plt.xlabel('Height')\n",
    "# //*** Limit X to fitline range\n",
    "plt.xlim(regress_weights_fitted.min(),regress_weights_fitted.max())\n",
    "plt.ylabel('log Weight')\n",
    "plt.show()"
   ]
  },
  {
   "cell_type": "markdown",
   "metadata": {},
   "source": [
    "**Make the same plot but apply the inverse transform to show weights on a linear (not log) scale.**"
   ]
  },
  {
   "cell_type": "code",
   "execution_count": 11,
   "metadata": {},
   "outputs": [
    {
     "data": {
      "image/png": "[encoded data removed]",
      "text/plain": [
       "<Figure size 432x288 with 1 Axes>"
      ]
     },
     "metadata": {
      "needs_background": "light"
     },
     "output_type": "display_data"
    }
   ],
   "source": [
    "plt.scatter(heights,weights, 1, color='b')\n",
    "plt.plot(regress_weights_fitted, 10**regress_heights_fitted,1,color='r')\n",
    "plt.xlabel('Height')\n",
    "# //*** Limit X to fitline range\n",
    "plt.xlim(regress_weights_fitted.min(),regress_weights_fitted.max())\n",
    "plt.ylabel('Weight')\n",
    "plt.show()"
   ]
  },
  {
   "cell_type": "markdown",
   "metadata": {},
   "source": [
    "**Plot percentiles of the residuals.**\n",
    "\n",
    "Why did the author pick the range 130 - 210? Does the this test only work on centrality?"
   ]
  },
  {
   "cell_type": "code",
   "execution_count": 12,
   "metadata": {},
   "outputs": [
    {
     "data": {
      "image/png": "[encoded data removed]",
      "text/plain": [
       "<Figure size 432x288 with 1 Axes>"
      ]
     },
     "metadata": {
      "needs_background": "light"
     },
     "output_type": "display_data"
    }
   ],
   "source": [
    "# //*** Generate Residuals using thinkstats function\n",
    "residual_log_weights = Residuals(heights,log_weights,intercept,slope)\n",
    "\n",
    "# //*** Add residuals to the data frame, we'll use these for binning\n",
    "df['residuals'] = residual_log_weights \n",
    "\n",
    "# //*** Plot Height Residuals against heights\n",
    "dependent_variable = 'htm3'\n",
    "independent_variable = 'residuals'\n",
    "\n",
    "plot_cdf_percentiles(df,'htm3','residuals',[.75,.50,.25],False)\n",
    "plt.xlabel('height (cm)')\n",
    "plt.ylabel('residual weight (kg)')\n",
    "plt.show()\n"
   ]
  },
  {
   "cell_type": "markdown",
   "metadata": {},
   "source": [
    "Compute correlation."
   ]
  },
  {
   "cell_type": "code",
   "execution_count": 13,
   "metadata": {},
   "outputs": [
    {
     "name": "stdout",
     "output_type": "stream",
     "text": [
      "Correlation Heights & log_weights: 0.5317282605983402\n"
     ]
    }
   ],
   "source": [
    "correlation = scipy.stats.pearsonr(heights, log_weights)[0]\n",
    "print(f\"Correlation Heights & log_weights: {correlation}\")"
   ]
  },
  {
   "cell_type": "markdown",
   "metadata": {},
   "source": [
    "Compute coefficient of determination.\n",
    "\n",
    "*The coefficient compares the variance of the residuals to the variance of the dependent variable.*"
   ]
  },
  {
   "cell_type": "code",
   "execution_count": 14,
   "metadata": {},
   "outputs": [],
   "source": [
    "def CoefDetermination(ys, res):\n",
    "    return 1 - np.var(res) / np.var(ys)\n",
    "\n",
    "p2 = CoefDetermination(log_weights,residual_log_weights)"
   ]
  },
  {
   "cell_type": "markdown",
   "metadata": {},
   "source": [
    "Confirm that $R^2 = \\rho^2$."
   ]
  },
  {
   "cell_type": "code",
   "execution_count": 15,
   "metadata": {},
   "outputs": [
    {
     "name": "stdout",
     "output_type": "stream",
     "text": [
      "Correlation Squared:         0.28273494311893643\n",
      "Coefficient of Detrmination: 0.28273494311822644\n",
      "Difference likely due to computing float issues:7.099876242477876e-13\n"
     ]
    }
   ],
   "source": [
    "# //*** Correlation squared should be equal (close in a float world) to the Coefficient of Determination\n",
    "# //*** Does ratio of the residual variance to actual variance equal the correlation squared?\n",
    "# //*** This verifies the variance is unchanged in the calculations.\n",
    "print(f\"Correlation Squared:         {correlation**2}\")\n",
    "print(f\"Coefficient of Detrmination: {p2}\")\n",
    "print(f\"Difference likely due to computing float issues:{correlation**2 - p2}\")"
   ]
  },
  {
   "cell_type": "markdown",
   "metadata": {},
   "source": [
    "Compute Std(ys), which is the RMSE of predictions that don't use height."
   ]
  },
  {
   "cell_type": "code",
   "execution_count": 16,
   "metadata": {},
   "outputs": [
    {
     "data": {
      "text/plain": [
       "0.10320725029999761"
      ]
     },
     "execution_count": 16,
     "metadata": {},
     "output_type": "execute_result"
    }
   ],
   "source": [
    " np.std(log_weights)"
   ]
  },
  {
   "cell_type": "markdown",
   "metadata": {},
   "source": [
    "Compute Std(res), the RMSE of predictions that do use height."
   ]
  },
  {
   "cell_type": "code",
   "execution_count": 17,
   "metadata": {},
   "outputs": [
    {
     "data": {
      "text/plain": [
       "0.0874077708041609"
      ]
     },
     "execution_count": 17,
     "metadata": {},
     "output_type": "execute_result"
    }
   ],
   "source": [
    "np.std(residual_log_weights)"
   ]
  },
  {
   "cell_type": "markdown",
   "metadata": {},
   "source": [
    "How much does height information reduce RMSE?"
   ]
  },
  {
   "cell_type": "code",
   "execution_count": 18,
   "metadata": {},
   "outputs": [
    {
     "data": {
      "text/plain": [
       "0.15308497658751286"
      ]
     },
     "execution_count": 18,
     "metadata": {},
     "output_type": "execute_result"
    }
   ],
   "source": [
    "1 - np.std(residual_log_weights) /  np.std(log_weights)"
   ]
  },
  {
   "cell_type": "markdown",
   "metadata": {},
   "source": [
    "Use resampling to compute sampling distributions for inter and slope."
   ]
  },
  {
   "cell_type": "code",
   "execution_count": 19,
   "metadata": {},
   "outputs": [],
   "source": [
    "# //*** Shuffles the same data into a different order 100 times and recalculates the intercept and slope\n",
    "# //*** Random indices pulled from thinkstats resample. tried using np.stats.shuffle. It worked but was slow.\n",
    "#random_indices = np.random.choice(df.index, len(df), replace=False)\n",
    "\n",
    "#//*** Build a sample_df\n",
    "#sample_df = df.loc[random_indices]\n",
    "\n",
    "resampled_inter = []\n",
    "resampled_slope = []\n",
    "\n",
    "t = []\n",
    "for x in range(100):\n",
    "    # //*** Randomize the index values\n",
    "    sample_df = thinkstats2.ResampleRows(df)\n",
    "    \n",
    "    \n",
    "    #//*** Get regression intercept and slope\n",
    "    inter,slope = regression_least_squares(sample_df['htm3'],np.log10( sample_df['wtkg2'] ) )\n",
    "    \n",
    "    #sample = thinkstats2.ResampleRows(df)\n",
    "    #estimates = thinkstats2.LeastSquares(sample.htm3, np.log10(sample.wtkg2))\n",
    "    \n",
    "    #//*** Add intercept and slope as tuple\n",
    "    resampled_inter.append( inter )\n",
    "    resampled_slope.append( slope )\n",
    "    #t.append(estimates)\n",
    "\n",
    "#inters, slopes = zip(*t)"
   ]
  },
  {
   "cell_type": "markdown",
   "metadata": {},
   "source": [
    "Plot the sampling distribution of slope."
   ]
  },
  {
   "cell_type": "code",
   "execution_count": 20,
   "metadata": {},
   "outputs": [
    {
     "data": {
      "image/png": "[encoded data removed]",
      "text/plain": [
       "<Figure size 432x288 with 1 Axes>"
      ]
     },
     "metadata": {
      "needs_background": "light"
     },
     "output_type": "display_data"
    }
   ],
   "source": [
    "# // Plot a CDF of the resampled slopes\n",
    "resampled_slope_cdf = build_cdf( build_pmf(pd.Series(data=resampled_slope).value_counts().sort_index()) )\n",
    "\n",
    "# //*** Python wants to round these floats\n",
    "# //*** Matplotlib example side by side bar chart\n",
    "# //*** print(f\"{resampled_slope_cdf}\")\n",
    "plt.plot(resampled_slope_cdf.index,resampled_slope_cdf,1,color='b')\n",
    "plt.xlim(resampled_slope_cdf.index.min(),resampled_slope_cdf.index.max())\n",
    "plt.show()"
   ]
  },
  {
   "cell_type": "markdown",
   "metadata": {},
   "source": [
    "Compute the p-value of the slope."
   ]
  },
  {
   "cell_type": "code",
   "execution_count": 25,
   "metadata": {},
   "outputs": [
    {
     "name": "stdout",
     "output_type": "stream",
     "text": [
      "p-Value: 0.01\n"
     ]
    }
   ],
   "source": [
    "print(f\"p-Value: {resampled_slope_cdf.iloc[0]}\")"
   ]
  },
  {
   "cell_type": "markdown",
   "metadata": {},
   "source": [
    "Compute the 90% confidence interval of slope."
   ]
  },
  {
   "cell_type": "code",
   "execution_count": 28,
   "metadata": {},
   "outputs": [
    {
     "name": "stdout",
     "output_type": "stream",
     "text": [
      "Confidence Interval: (0.00525812430689455, 0.005303082364381694)\n"
     ]
    }
   ],
   "source": [
    "ci = get_cdf_percentile(resampled_slope_cdf,.05),get_cdf_percentile(resampled_slope_cdf,.95)\n",
    "print(f\"Confidence Interval: {ci}\")"
   ]
  },
  {
   "cell_type": "markdown",
   "metadata": {},
   "source": [
    "Compute the mean of the sampling distribution."
   ]
  },
  {
   "cell_type": "code",
   "execution_count": 30,
   "metadata": {},
   "outputs": [
    {
     "name": "stdout",
     "output_type": "stream",
     "text": [
      "Sampling Distribution Mean: 0.005281123811777302\n"
     ]
    }
   ],
   "source": [
    "print(f\"Sampling Distribution Mean: {np.mean(resampled_slope)}\")"
   ]
  },
  {
   "cell_type": "markdown",
   "metadata": {},
   "source": [
    "Compute the standard deviation of the sampling distribution, which is the standard error."
   ]
  },
  {
   "cell_type": "code",
   "execution_count": 31,
   "metadata": {},
   "outputs": [
    {
     "name": "stdout",
     "output_type": "stream",
     "text": [
      "Standard Deviation of the sampling distribution 1.526902817680856e-05\n"
     ]
    }
   ],
   "source": [
    "print(f\"Standard Deviation of the sampling distribution {np.std(resampled_slope)}\")"
   ]
  },
  {
   "cell_type": "markdown",
   "metadata": {},
   "source": [
    "Resample rows without weights, compute mean height, and summarize results."
   ]
  },
  {
   "cell_type": "code",
   "execution_count": 40,
   "metadata": {},
   "outputs": [
    {
     "name": "stdout",
     "output_type": "stream",
     "text": [
      "Mean:    168.9536761555407\n",
      "Std Err: 0.017458018824710788\n",
      "Confidence Interval: (168.9240864811334, 168.97620960407446)\n"
     ]
    }
   ],
   "source": [
    "estimates_unweighted = [thinkstats2.ResampleRows(df).htm3.mean() for _ in range(100)]\n",
    "#//*** Compute mean, Std Err and CI for resampled unweighted heights\n",
    "print(f\"Mean:    {np.mean(estimates_unweighted)}\")\n",
    "print(f\"Std Err: {np.std(estimates_unweighted)}\")\n",
    "estimates_unweighted_cdf = build_cdf( build_pmf( pd.Series(estimates_unweighted).value_counts().sort_index() ) )\n",
    "ci = get_cdf_percentile(estimates_unweighted_cdf,.05),get_cdf_percentile(estimates_unweighted_cdf,.95)\n",
    "print(f\"Confidence Interval: {ci}\")"
   ]
  },
  {
   "cell_type": "markdown",
   "metadata": {},
   "source": [
    "Resample rows with weights.  Note that the weight column in this dataset is called `finalwt`."
   ]
  },
  {
   "cell_type": "code",
   "execution_count": 43,
   "metadata": {},
   "outputs": [
    {
     "name": "stdout",
     "output_type": "stream",
     "text": [
      "Mean:    170.49764147416073\n",
      "Std Err: 0.015620828235608227\n",
      "Confidence Interval: (170.46612451747205, 170.52484387315832)\n"
     ]
    }
   ],
   "source": [
    "def ResampleRowsWeighted(df, column='finalwgt'):\n",
    "    weights = df[column]\n",
    "    cdf = thinkstats2.Cdf(dict(weights))\n",
    "    indices = cdf.Sample(len(weights))\n",
    "    sample = df.loc[indices]\n",
    "    return sample\n",
    "\n",
    "estimates_weighted = [ResampleRowsWeighted(df, 'finalwt').htm3.mean() for _ in range(100)]\n",
    "#//*** Compute mean, Std Err and CI for resampled unweighted heights\n",
    "print(f\"Mean:    {np.mean(estimates_weighted)}\")\n",
    "print(f\"Std Err: {np.std(estimates_weighted)}\")\n",
    "estimates_weighted_cdf = build_cdf( build_pmf( pd.Series(estimates_weighted).value_counts().sort_index() ) )\n",
    "ci = get_cdf_percentile(estimates_weighted_cdf,.05),get_cdf_percentile(estimates_weighted_cdf,.95)\n",
    "print(f\"Confidence Interval: {ci}\")\n"
   ]
  }
 ],
 "metadata": {
  "kernelspec": {
   "display_name": "Python 3",
   "language": "python",
   "name": "python3"
  },
  "language_info": {
   "codemirror_mode": {
    "name": "ipython",
    "version": 3
   },
   "file_extension": ".py",
   "mimetype": "text/x-python",
   "name": "python",
   "nbconvert_exporter": "python",
   "pygments_lexer": "ipython3",
   "version": "3.8.3"
  }
 },
 "nbformat": 4,
 "nbformat_minor": 4
}
