{
 "cells": [
  {
   "cell_type": "markdown",
   "metadata": {},
   "source": [
    "# Stoneburner, Kurt\n",
    "- ## DSC 530 - Week 08\n",
    "- ## Chapter 9, Exercise 1\n",
    "\n",
    "**Exercise:** As sample size increases, the power of a hypothesis test increases, which means it is more likely to be positive if the effect is real. Conversely, as sample size decreases, the test is less likely to be positive even if the effect is real.\n",
    "\n",
    "To investigate this behavior, run the tests in this chapter with different subsets of the NSFG data. You can use `thinkstats2.SampleRows` to select a random subset of the rows in a DataFrame.\n",
    "\n",
    "What happens to the p-values of these tests as sample size decreases? What is the smallest sample size that yields a positive test?"
   ]
  },
  {
   "cell_type": "code",
   "execution_count": 28,
   "metadata": {},
   "outputs": [],
   "source": [
    "# //****************************************************************************************\n",
    "# //*** Set Working Directory to thinkstats folder.\n",
    "# //*** This pseudo-relative path call should work on all Stoneburner localized projects. \n",
    "# //****************************************************************************************\n",
    "\n",
    "import os\n",
    "import sys\n",
    "workingPath = os.getcwd().replace(\"coding\", \"ThinkStats2\\\\code\")\n",
    "sys.path.insert(1, workingPath)\n",
    "os.chdir(workingPath)"
   ]
  },
  {
   "cell_type": "code",
   "execution_count": 29,
   "metadata": {},
   "outputs": [],
   "source": [
    "# //*** Imports and Load Data\n",
    "import nsfg\n",
    "import thinkstats2\n",
    "import thinkplot\n",
    "import first\n",
    "import matplotlib.pyplot as plt\n",
    "import numpy as np\n",
    "import pandas as pd\n",
    "import scipy\n",
    "\n",
    "resp = nsfg.ReadFemResp()\n",
    "preg = nsfg.ReadFemPreg()\n"
   ]
  },
  {
   "cell_type": "code",
   "execution_count": 30,
   "metadata": {},
   "outputs": [],
   "source": [
    "def get_test_stat(input_ts_type, data1, data2):\n",
    "    \n",
    "    if input_ts_type ==  'mean_diff':\n",
    "        return abs( np.mean(data1) - np.mean(data2) )  \n",
    "    \n",
    "    if input_ts_type ==  'mean_diff_one_sided':\n",
    "        return np.mean(data1) - np.mean(data2)\n",
    "    \n",
    "    if input_ts_type ==  'std_diff':\n",
    "        return  np.std(data1) - np.std(data2)\n",
    "\n",
    "    if input_ts_type ==  'cor_pearson':\n",
    "        return  scipy.stats.pearsonr(data1,data2)\n",
    "    \n",
    "    # //*** Chi Squared Reference\n",
    "    # https://www.geeksforgeeks.org/python-pearsons-chi-square-test/\n",
    "    if input_ts_type == 'chi-squared':\n",
    "        \n",
    "        if isinstance(data1, pd.Series) == False:\n",
    "            data1 = pd.Series(data=data1)\n",
    "        if isinstance(data2, pd.Series) == False:\n",
    "            data2 = pd.Series(data=data2)\n",
    "            \n",
    "        # Chi squared is sum( (observed - expected) ** 2 / expected )\n",
    "        # observed = histogram of values\n",
    "        # expected is a PMF from histogram of data1 and data2 combined with each value multipled by the total number of values.\n",
    "        # perform chi on each data set and add them together for the result\n",
    "        # //*** Observed is a histgram of the data\n",
    "        observed1 = data1.value_counts().sort_index()\n",
    "        # //*** Expectation:\n",
    "        # //*** 1. Concatenate both data sets.\n",
    "        # //*** 2. Convert to pd.Series\n",
    "        # //*** 3. Build histogram of both data sets\n",
    "        # //*** 4. build a PMF from pd.Series\n",
    "        # //*** 5. Multiply each Series value by length of data1\n",
    "        expectation_pmf1 = build_pmf(pd.Series(data=np.hstack( (data1,data2) ) ).value_counts().sort_index()) * len(data1)\n",
    "        expectation_pmf2 = build_pmf(pd.Series(data=np.hstack( (data1,data2) ) ).value_counts().sort_index()) * len(data2)\n",
    "\n",
    "        # //*** Build a list of the difference of observed - expectations\n",
    "        # //*** Since expectations and observed are of different lengths, on the values with the same index are compared\n",
    "        difference1 = np.array ( [ observed1[x] - expectation_pmf1[x] for x in observed1.index ] )\n",
    "        # //*** Sampe process to build the expectations\n",
    "        expectation1 = np.array( [ expectation_pmf1[x] for x in observed1.index ] )\n",
    "\n",
    "        observed2 = data2.value_counts().sort_index()\n",
    "        difference2 = np.array ( [ observed2[x] - expectation_pmf2[x] for x in observed2.index ] )\n",
    "        expectation2 = np.array( [ expectation_pmf2[x] for x in observed2.index ] )\n",
    "\n",
    "        # //*** Once the differences and expectations are of identical length, they can be plugged into the formula\n",
    "        stat1 = sum( (difference1**2)/expectation1 )\n",
    "        stat2 = sum( (difference2**2)/expectation2 )\n",
    "        \n",
    "        # //*** Return the sum of the stats\n",
    "        return stat1 + stat2\n",
    "\n",
    "        \n",
    "\n",
    "    return \"\""
   ]
  },
  {
   "cell_type": "code",
   "execution_count": 31,
   "metadata": {},
   "outputs": [],
   "source": [
    "def hypothesis_test(input_dict):\n",
    "    \n",
    "    if 'type' not in input_dict.keys():\n",
    "        print(f\"hypothesis test requires a type value\")\n",
    "        return \"\"\n",
    "    \n",
    "    if 'data' not in input_dict.keys():\n",
    "        print(f\"Need valid data\")\n",
    "        return \"\"\n",
    "    \n",
    "    # //*** Assign the total number of tests to run.\n",
    "    # //*** Defaults to 1000\n",
    "    if 'count' in input_dict.keys():\n",
    "        max_test_count = input_dict['count']\n",
    "    else:\n",
    "        max_test_count = 1000\n",
    "    \n",
    "    test_statistic = -1\n",
    "    \n",
    "\n",
    "    # //*** Convert data to Lists\n",
    "    data1 = input_dict['data'][0]\n",
    "    data2 = input_dict['data'][1]\n",
    "\n",
    "    # //*** Sample a random subset of data\n",
    "    # //*** Defaults to all data\n",
    "    if 'sample' in input_dict.keys():\n",
    "        # //*** Get random sample and convert to list\n",
    "        data1 = getSample_from_series(data1,input_dict['sample'])[0]\n",
    "        data2 = getSample_from_series(data2,input_dict['sample'])[0]\n",
    "        \n",
    "        \n",
    "    \n",
    "    #data1 = list(data1)\n",
    "    #data2 = list(data2)\n",
    "\n",
    "    # //*** Concatinate the lists\n",
    "    combined_data = np.hstack( (data1,data2) )\n",
    "    \n",
    "    n = int( len(combined_data) / 2) \n",
    "\n",
    "    \n",
    "    # //*** get the test statistic. Function performs calculation based on type\n",
    "    # //*** Assume data has been properly validated at this point.\n",
    "    test_statistic = get_test_stat(input_dict['type'],data1,data2)\n",
    "    \n",
    "    null_count = 0\n",
    "    # //*** Build random permutations\n",
    "    for loop_counter in range(max_test_count):\n",
    "        \n",
    "        # //*** randomly shuffle the combined data\n",
    "        np.random.shuffle(combined_data)\n",
    "        \n",
    "        \n",
    "        # //*** Split shuffled data evenly\n",
    "        data1,data2 = combined_data[0:n],combined_data[n:len(combined_data)]\n",
    "        \n",
    "        loop_test_statistic = get_test_stat(input_dict['type'],data1,data2)\n",
    "        \n",
    "        # //*** If loop test statistic greater than test statistic. Then add to null count\n",
    "        if loop_test_statistic > test_statistic:\n",
    "            null_count = null_count + 1\n",
    "        \n",
    "    return (null_count / max_test_count)\n",
    "\n",
    "#sample_df,remainder_df = getSample_from_series(total_weight,.1)\n",
    "\n",
    "#total_weight['totalwgt_lb']\n",
    "#total_weight['agepreg']\n",
    "\n",
    "#Permutation Test\n",
    "#Difference in standard deviation\n",
    "#print(np.std( total_weight['totalwgt_lb']))\n",
    "#print(np.std( total_weight['agepreg']))\n",
    "#abs(np.std( total_weight['totalwgt_lb']) - np.std( total_weight['agepreg']))\n",
    "\n",
    "#get_p_scores(total_weight['totalwgt_lb'])\n",
    "\n",
    "#print(f\"{scipy.stats.pearsonr(total_weight['totalwgt_lb'],total_weight['agepreg'])}\")\n",
    "#correlation Testing\n",
    "#Testing Proportions\n",
    "#Chi Squared test\n",
    "\n",
    "#Difference of Means Permutation test\n",
    "# Generate a test statistic for reference.\n",
    "# This is the difference of the means\n",
    "# test statistic or t-value is the abs(difference of means)\n",
    "# combine both data sets.\n",
    "# 1000 thousand times:\n",
    "#      Randomly split combined data in half.\n",
    "#      Find the difference of the means for the random samples, for a random sample test statistic\n",
    "#      count the random test statistics that are greater than the base line test statistic\n",
    "# The P-value is the count / total tests run (1000)\n",
    "# The P-value represents the chance of the outcome occuring randomly.\n",
    "# Reference: https://www.ohbmbrainmappingblog.com/blog/a-brief-overview-of-permutation-testing-with-examples\n"
   ]
  },
  {
   "cell_type": "code",
   "execution_count": 32,
   "metadata": {
    "scrolled": true
   },
   "outputs": [],
   "source": [
    "\n",
    "# //*** Combine the Hypothesis tests into a single function for display. To keep things tidy\n",
    "def display_hypothesis(input_type, input_data1, input_data2, input_iter=50,input_percentages=[.05,.1,.2,.5,.75]):\n",
    "    \n",
    "    test_statistic = get_test_stat(input_type,input_data1,input_data2)\n",
    "        \n",
    "    p_vals_test_statistic = [ hypothesis_test({ 'type':input_type,'data':(input_data1,input_data2) }) for i in range(pval_iter) ]\n",
    "    test_name = \"Test: XXXX\"\n",
    "    if input_type == 'mean_diff':\n",
    "        test_name = \"Mean Difference\"\n",
    "        \n",
    "    elif input_type == 'mean_diff_one_sided':\n",
    "        test_name = \"One Sided Mean Difference\"\n",
    "\n",
    "    elif input_type == 'cor_pearson':\n",
    "        test_name = \"Pearson's Correlation\"\n",
    "\n",
    "    elif input_type == 'std_diff':\n",
    "        test_name = \"Standard Deviation Difference\"\n",
    "        \n",
    "    elif input_type == 'chi-squared':\n",
    "        test_name = \"Chi-Squared\"\n",
    "        \n",
    "    print(f\"=======================================================\")\n",
    "    print(f\"{test_name}: {test_statistic}\")\n",
    "    print(f\"p-val: {np.mean(p_vals_test_statistic)} [ \\u03C3: {np.std(p_vals_test_statistic)} ]\")\n",
    "    print(f\"=======================================================\")\n",
    "\n",
    "    for x in input_percentages:\n",
    "        pvals = [ hypothesis_test({ 'type':'mean_diff','data':(first_preglen,other_preglen),'sample':x }) for i in range(input_iter) ]\n",
    "        pvals = np.array(pvals)\n",
    "        pstd = np.std(pvals)\n",
    "        #print(f\"================================================================================================\")\n",
    "        if x == 1:\n",
    "            x = x*10\n",
    "        print(f\"Sample size {round(x*100,2)}%: p-val: {round(np.mean(pvals),4)} [ \\u03C3: {pstd} ]\")\n",
    "        print(f\"================================================================================================\")\n",
    "\n",
    "    # //*** END display_hypothesis\n",
    "\n",
    "\n"
   ]
  },
  {
   "cell_type": "code",
   "execution_count": 33,
   "metadata": {},
   "outputs": [],
   "source": [
    "# //*** I initially built a random sampler to perform permutations.\n",
    "# //*** In hidsight I could have used np.random.shuffle and grabbed smaller sampling slices \n",
    "def getSample_from_series(input_df,input_percentage=.1):\n",
    "    #//*** Returns a random sampling of the input_df or Series\n",
    "    # //*** Series type conversion to dataFrame\n",
    "    \n",
    "    is_series = False\n",
    "    \n",
    "    if isinstance(input_df, pd.Series):\n",
    "        input_df = pd.DataFrame(input_df)\n",
    "        is_series = True\n",
    "    \n",
    "    sample_size = int(len(input_df) * input_percentage)\n",
    "    remainder_size = len(input_df) - sample_size\n",
    "    \n",
    "    #print(f\"{sample_size} {remainder_size}\")\n",
    "    \n",
    "    # //*** Set Loop safety as a function of sample_size and input_percentage\n",
    "    loop_safe_max = (sample_size * 1/input_percentage)**2\n",
    "    #print(f\"Loop Safe Max: {loop_safe_max}\")\n",
    "    \n",
    "    loop_safe = 0\n",
    "    sample_index = []\n",
    "    sample_dict = {}\n",
    "    \n",
    "    # //*** Get a random integer between 0 and size of input_series -1\n",
    "    # //*** Build a list of unique random numbers equal to the sample size\n",
    "    # //*** A dictionary is used to keep track of unique values.\n",
    "    while len(sample_index) < sample_size:\n",
    "        # //*** Pick a random integer between - and len(input_df) -1 \n",
    "        random_int = np.random.randint( (len(input_df)-1) )\n",
    "        \n",
    "        #//*** Convert integer to index key\n",
    "        random_int = input_df.index[random_int]\n",
    "        \n",
    "               \n",
    "        \n",
    "        #//*** Check if we've used this number\n",
    "        if random_int not in sample_dict.keys():\n",
    "            sample_index.append(random_int)\n",
    "            sample_dict[random_int] = \"\"\n",
    "        \n",
    "        loop_safe = loop_safe + 1\n",
    "        \n",
    "        if loop_safe > loop_safe_max:\n",
    "            print(\"Loop Maximum exceeded! Quitting for Safety!\")\n",
    "            break;\n",
    "    \n",
    "    #//*** Sort the values\n",
    "    sample_index = np.sort(sample_index)\n",
    "    \n",
    "    #//*** Build a list of values, 1 is sample, 0 is not sample\n",
    "    #//*** This will be a column to add to the input_df\n",
    "    is_sample = []\n",
    "    for x in input_df.index:\n",
    "        if x in sample_index:\n",
    "            is_sample.append(1)\n",
    "        else:\n",
    "            is_sample.append(0)\n",
    "    \n",
    "    #//*** Add is_sample column\n",
    "    input_df = input_df.assign( is_sample = is_sample)\n",
    "    \n",
    "    # //*** get sample and remainder dataframes based on is_sample attribute\n",
    "    # //*** Get the sample data frame and the remainder dataframe\n",
    "    sample_df = input_df[input_df ['is_sample'] == 1]\n",
    "    remainder_df = input_df[input_df ['is_sample'] == 0 ]\n",
    "    \n",
    "    # //**** Remove is_Sample Parameter\n",
    "    del sample_df['is_sample']\n",
    "    del remainder_df['is_sample']\n",
    "    \n",
    "    #print(len(sample_index))\n",
    "    #print(len(sample_df))\n",
    "\n",
    "    \n",
    "    if is_series == True:\n",
    "        sample_df = pd.Series(index= sample_df.index, data= sample_df.iloc[:,0])\n",
    "        remainder_df = pd.Series(index= remainder_df.index, data= remainder_df.iloc[:,0])\n",
    "    return sample_df, remainder_df"
   ]
  },
  {
   "cell_type": "code",
   "execution_count": 34,
   "metadata": {},
   "outputs": [],
   "source": [
    "# //*****************************************\n",
    "# //*** Build a probability mass function\n",
    "# //*****************************************\n",
    "# //*** Returns Series as a PMF\n",
    "# //*****************************************\n",
    "def build_pmf(input_series):\n",
    "    output_series = input_series.copy()\n",
    "    total_values = input_series.sum()\n",
    "    for value,freq in output_series.items():\n",
    "        #print(f\"{value} {freq} {total_values} {freq/total_values}\")\n",
    "        output_series.loc[value] = freq/total_values\n",
    "    return output_series"
   ]
  },
  {
   "cell_type": "code",
   "execution_count": 35,
   "metadata": {},
   "outputs": [
    {
     "name": "stdout",
     "output_type": "stream",
     "text": [
      "Compare Pregnancy Lengths between first births and other births\n",
      "Hypothesis: first births have a longer pregnancy length\n",
      "Null Hypothesis: first births and other births are no different\n",
      "Sampled: p-vals are run 50 times. With the p-Val's averaged together. This helps even out the\n",
      "sampled selection variance.\n",
      "=======================================================\n",
      "Chi-Squared: 119.84093173385406\n",
      "p-val: 0.0 [ σ: 0.0 ]\n",
      "=======================================================\n",
      "Sample size 5.0%: p-val: 0.466 [ σ: 0.2937420289982351 ]\n",
      "================================================================================================\n",
      "Sample size 10.0%: p-val: 0.4713 [ σ: 0.2744631151903658 ]\n",
      "================================================================================================\n",
      "Sample size 20.0%: p-val: 0.4639 [ σ: 0.3115342299009853 ]\n",
      "================================================================================================\n",
      "Sample size 50.0%: p-val: 0.3615 [ σ: 0.2902493576220282 ]\n",
      "================================================================================================\n",
      "Sample size 75.0%: p-val: 0.2933 [ σ: 0.2124778209602122 ]\n",
      "================================================================================================\n",
      "=======================================================\n",
      "Mean Difference: 0.0839628095830065\n",
      "p-val: 0.13558 [ σ: 0.011721928169034309 ]\n",
      "=======================================================\n",
      "Sample size 5.0%: p-val: 0.4306 [ σ: 0.2742685545227524 ]\n",
      "================================================================================================\n",
      "Sample size 10.0%: p-val: 0.5167 [ σ: 0.286739994420032 ]\n",
      "================================================================================================\n",
      "Sample size 20.0%: p-val: 0.5095 [ σ: 0.31689154043615614 ]\n",
      "================================================================================================\n",
      "Sample size 50.0%: p-val: 0.3476 [ σ: 0.2561007426775643 ]\n",
      "================================================================================================\n",
      "Sample size 75.0%: p-val: 0.2519 [ σ: 0.18510909323963531 ]\n",
      "================================================================================================\n",
      "=======================================================\n",
      "One Sided Mean Difference: 0.0839628095830065\n",
      "p-val: 0.06688000000000001 [ σ: 0.007067220104114488 ]\n",
      "=======================================================\n",
      "Sample size 5.0%: p-val: 0.4828 [ σ: 0.28598424362191704 ]\n",
      "================================================================================================\n",
      "Sample size 10.0%: p-val: 0.5003 [ σ: 0.29367192851888313 ]\n",
      "================================================================================================\n",
      "Sample size 20.0%: p-val: 0.5267 [ σ: 0.32083841727573714 ]\n",
      "================================================================================================\n",
      "Sample size 50.0%: p-val: 0.4131 [ σ: 0.3111132681195066 ]\n",
      "================================================================================================\n",
      "Sample size 75.0%: p-val: 0.2397 [ σ: 0.21987853465038373 ]\n",
      "================================================================================================\n",
      "=======================================================\n",
      "Standard Deviation Difference: 0.14967231279798243\n",
      "p-val: 0.08612 [ σ: 0.009324462450994159 ]\n",
      "=======================================================\n",
      "Sample size 5.0%: p-val: 0.4781 [ σ: 0.3073226864388634 ]\n",
      "================================================================================================\n",
      "Sample size 10.0%: p-val: 0.5248 [ σ: 0.27277873817436726 ]\n",
      "================================================================================================\n",
      "Sample size 20.0%: p-val: 0.3926 [ σ: 0.3068427062845066 ]\n",
      "================================================================================================\n",
      "Sample size 50.0%: p-val: 0.3008 [ σ: 0.2581503972493554 ]\n",
      "================================================================================================\n",
      "Sample size 75.0%: p-val: 0.2149 [ σ: 0.1598906188617706 ]\n",
      "================================================================================================\n"
     ]
    }
   ],
   "source": [
    "# //*** Compare birth order birth weights\n",
    "\n",
    "pval_iter = 50\n",
    "sample_percentages = [.05,.1,.2,.5,.75]\n",
    "\n",
    "# //*** Get the birthweight Series data from the preg dataframe\n",
    "print(f\"Compare Pregnancy Lengths between first births and other births\")\n",
    "print(f\"Hypothesis: first births have a longer pregnancy length\")\n",
    "print(f\"Null Hypothesis: first births and other births are no different\")\n",
    "print(f\"Sampled: p-vals are run {pval_iter} times. With the p-Val's averaged together. This helps even out the\")\n",
    "print(f\"sampled selection variance.\")\n",
    "    \n",
    "preg = preg.dropna(subset=['totalwgt_lb','agepreg','birthord'])\n",
    "\n",
    "firsts_df = preg[preg.birthord == 1]\n",
    "others_df = preg[preg.birthord != 1]\n",
    "\n",
    "first_preglen = firsts_df['prglngth'][firsts_df['prglngth'] > 0]\n",
    "other_preglen = others_df['prglngth']\n",
    "\n",
    "\n",
    "display_hypothesis('chi-squared',first_preglen,other_preglen,pval_iter,sample_percentages,)\n",
    "display_hypothesis('mean_diff',first_preglen,other_preglen,pval_iter,sample_percentages,)\n",
    "display_hypothesis('mean_diff_one_sided',first_preglen,other_preglen,pval_iter,sample_percentages,)\n",
    "display_hypothesis('std_diff',first_preglen,other_preglen,pval_iter,sample_percentages,)"
   ]
  },
  {
   "cell_type": "markdown",
   "metadata": {},
   "source": [
    "- ## Chapter 10, Exercise 1\n",
    "\n",
    "**Exercise:** Using the data from the BRFSS, compute the linear least squares fit for log(weight) versus height. How would you best present the estimated parameters for a model like this where one of the variables is log-transformed? If you were trying to guess someone’s weight, how much would it help to know their height?\n",
    "\n",
    "Like the NSFG, the BRFSS oversamples some groups and provides a sampling weight for each respondent. In the BRFSS data, the variable name for these weights is totalwt. Use resampling, with and without weights, to estimate the mean height of respondents in the BRFSS, the standard error of the mean, and a 90% confidence interval. How much does correct weighting affect the estimates?\n"
   ]
  },
  {
   "cell_type": "code",
   "execution_count": 36,
   "metadata": {},
   "outputs": [],
   "source": [
    "import brfss\n",
    "\n",
    "df = brfss.ReadBrfss(nrows=None)\n",
    "df = df.dropna(subset=['htm3', 'wtkg2'])\n",
    "heights, weights = df.htm3, df.wtkg2\n",
    "log_weights = np.log10(weights)"
   ]
  },
  {
   "cell_type": "markdown",
   "metadata": {},
   "source": [
    "#### FUNCTIONS #####\n",
    "\n",
    "**regression_least_squares:** Returns intercept and slope by estimating the least squares values.\n",
    "Code based on pulling apart thinkstats and reworking it\n",
    "\n",
    "**fitline:** generates fitted values (ideally to plot a regression) from x values, slope, & intercept\n",
    "Code is identical to thinkstats with a different variable naming convention.\n",
    "\n",
    "***Functions: reused from previous projects.***\n",
    "\n",
    "**build_cdf** builds a CDF from a PMF.\n",
    "\n",
    "**get_cdf_percentile** retrieves CDF Percentage closest to a given value.\n"
   ]
  },
  {
   "cell_type": "code",
   "execution_count": 114,
   "metadata": {},
   "outputs": [],
   "source": [
    "# //*** Estimate least squares \n",
    "# //*** returns slope and inetercept regression value, computed from least squares\n",
    "def regression_least_squares(input_xvals, input_yvals):\n",
    "    x_mean = np.mean(input_xvals)\n",
    "    y_mean = np.mean(input_yvals)\n",
    "    \n",
    "    # //*** cov = np.dot(xs-meanx, ys-meany) / len(xs)\n",
    "    covariance = np.dot(input_xvals-x_mean, input_yvals-y_mean) / len(input_xvals)\n",
    "    \n",
    "    # //*** slope = covariance(xval, yval, meanx, meany) / x_mean_var\n",
    "    slope = covariance / np.var(input_xvals)\n",
    "    \n",
    "    #//** intercept = meany - slope * meanx\n",
    "    intercept = y_mean - slope * x_mean\n",
    "    \n",
    "    return intercept,slope    \n",
    "\n",
    "# //*** Fit line\n",
    "# //*** Generates y values from x values slope and intercept\n",
    "# //*** Pretty much exactly the thinkstats code, because Occam's razor oddly enough\n",
    "def fitline(input_xvals, input_inter, input_slope):\n",
    "    output_xvals = np.sort(input_xvals)\n",
    "    output_yvals = input_inter + (input_slope * output_xvals)\n",
    "    return output_xvals, output_yvals\n",
    "\n",
    "#Residuals from my DSC520 project*\n",
    "#temp_residual <- temp_df$daily_total_deaths - temp_predict_df$daily_total_deaths\n",
    "#Base Error\n",
    "#temp_residual <- sum(temp_residual^2)\n",
    "\n",
    "# //*** Build a Cumulative Distribution Function from a Probability Mass Function\n",
    "# //*** Returns a Series\n",
    "def build_cdf(input_series):\n",
    "    # //*** If input is not panda or pd series, try to convert it\n",
    "    if not isinstance(input_series,pd.core.series.Series):\n",
    "        input_series = pd.Series(input_series)\n",
    "        \n",
    "    # //*** If input is np.Array\n",
    "    output_series = input_series.copy()\n",
    "    cumulative_value = 0\n",
    "    for value,freq in output_series.items():\n",
    "        #print(f\"{value} {freq} {cumulative_value} {freq + cumulative_value}\")\n",
    "        cumulative_value = freq + cumulative_value\n",
    "        output_series.loc[value] = cumulative_value\n",
    "    return output_series\n",
    "\n",
    "# //*** Retrieve a percentile value from a CDF.\n",
    "# //*** Returns index value closest to input parameter percentile.\n",
    "def get_cdf_percentile(input_cdf,percentile):\n",
    "    #print(f\"{input_cdf}\")\n",
    "    #//*** Initialize output to first value\n",
    "    output = input_cdf.index[0]\n",
    "    \n",
    "    #//*** Loop through all items till the value exceeds the percentile\n",
    "    #//*** Return value from last loop\n",
    "    for index,value in input_cdf.items():\n",
    "        \n",
    "        if value > percentile:\n",
    "            return output\n",
    "        else:\n",
    "            output = index"
   ]
  },
  {
   "cell_type": "markdown",
   "metadata": {},
   "source": [
    "**Estimate intercept and slope.**"
   ]
  },
  {
   "cell_type": "code",
   "execution_count": 123,
   "metadata": {},
   "outputs": [
    {
     "name": "stdout",
     "output_type": "stream",
     "text": [
      "Estimated Intercept: 0.9931\n",
      "Estimated Slope:     0.0052814541694166574\n"
     ]
    }
   ],
   "source": [
    "intercept,slope = regression_least_squares(heights,log_weights)\n",
    "print(f\"Estimated Intercept: {round(intercept,4)}\")\n",
    "print(f\"Estimated Slope:     {slope}\")"
   ]
  },
  {
   "cell_type": "markdown",
   "metadata": {},
   "source": [
    "Make a scatter plot of the data and show the fitted line."
   ]
  },
  {
   "cell_type": "code",
   "execution_count": 124,
   "metadata": {},
   "outputs": [
    {
     "data": {
      "image/png": "[encoded data removed]",
      "text/plain": [
       "<Figure size 432x288 with 1 Axes>"
      ]
     },
     "metadata": {
      "needs_background": "light"
     },
     "output_type": "display_data"
    }
   ],
   "source": [
    "# //*** Build fitted regression values\n",
    "regress_weights_fitted, regress_heights_fitted = fitline(heights,intercept,slope)\n",
    "\n",
    "# //*** Plot the Pareto CDF\n",
    "plt.scatter(heights,log_weights, 1, color='b')\n",
    "plt.plot(regress_weights_fitted, regress_heights_fitted,1,color='r')\n",
    "plt.xlabel('Height')\n",
    "# //*** Limit X to fitline range\n",
    "plt.xlim(regress_weights_fitted.min(),regress_weights_fitted.max())\n",
    "plt.ylabel('log Weight')\n",
    "plt.show()"
   ]
  },
  {
   "cell_type": "markdown",
   "metadata": {},
   "source": [
    "**Make the same plot but apply the inverse transform to show weights on a linear (not log) scale.**"
   ]
  },
  {
   "cell_type": "code",
   "execution_count": 127,
   "metadata": {},
   "outputs": [
    {
     "data": {
      "image/png": "[encoded data removed]",
      "text/plain": [
       "<Figure size 432x288 with 1 Axes>"
      ]
     },
     "metadata": {
      "needs_background": "light"
     },
     "output_type": "display_data"
    }
   ],
   "source": [
    "#intercept,slope = regression_least_squares(heights,weights)\n",
    "#print(f\"Estimated Intercept: {round(intercept,4)}\")\n",
    "#print(f\"Estimated Slope:     {slope}\")\n",
    "\n",
    "# //*** Build fitted regression values\n",
    "#regress_weights_fitted, regress_heights_fitted = fitline(heights,intercept,slope)\n",
    "\n",
    "plt.scatter(heights,weights, 1, color='b')\n",
    "plt.plot(regress_weights_fitted, 10**regress_heights_fitted,1,color='r')\n",
    "plt.xlabel('Height')\n",
    "# //*** Limit X to fitline range\n",
    "plt.xlim(regress_weights_fitted.min(),regress_weights_fitted.max())\n",
    "plt.ylabel('Weight')\n",
    "plt.show()"
   ]
  },
  {
   "cell_type": "markdown",
   "metadata": {},
   "source": [
    "Plot percentiles of the residuals."
   ]
  },
  {
   "cell_type": "code",
   "execution_count": 145,
   "metadata": {},
   "outputs": [
    {
     "name": "stdout",
     "output_type": "stream",
     "text": [
      "[61.0, 65.0, 74.0, 76.0, 81.0, 86.0, 89.0, 91.0, 97.0, 101.75, 104.5, 106.75, 109.0, 112.0, 117.0, 120.0, 122.0, 124.13333333333334, 127.0, 130.8842105263158, 135.0, 137.01149425287358, 139.992700729927, 142.0058651026393, 146.32511627906976, 149.9959794505249, 152.00168255748738, 155.00033462722527, 157.00194495769716, 160.00252872827375, 163.93274393881867, 167.9984366719661, 169.99969454456595, 172.99920706060814, 175.00124151630524, 178.89030507890715, 182.99956287974823, 184.99982169920656, 187.99977439368303, 190.9995766299746, 193.00065338124796, 196.6435810810811, 200.98425196850394, 203.0066225165563, 205.9591836734694, 208.0, 211.51282051282053, 218.0, 221.0, 225.0, 226.0, 229.0, 236.0]\n",
      "[160.91894002470815, 166.14076109982366, 175.9981618372494]\n"
     ]
    },
    {
     "ename": "ValueError",
     "evalue": "x and y must have same first dimension, but have shapes (395832,) and (53,)",
     "output_type": "error",
     "traceback": [
      "\u001b[1;31m---------------------------------------------------------------------------\u001b[0m",
      "\u001b[1;31mValueError\u001b[0m                                Traceback (most recent call last)",
      "\u001b[1;32m<ipython-input-145-5ae91db14895>\u001b[0m in \u001b[0;36m<module>\u001b[1;34m\u001b[0m\n\u001b[0;32m     57\u001b[0m     \u001b[0mweight_percentiles\u001b[0m \u001b[1;33m=\u001b[0m \u001b[1;33m[\u001b[0m\u001b[0mget_cdf_percentile\u001b[0m\u001b[1;33m(\u001b[0m\u001b[0mcdf\u001b[0m\u001b[1;33m,\u001b[0m\u001b[0mx\u001b[0m\u001b[1;33m)\u001b[0m \u001b[1;32mfor\u001b[0m \u001b[0mcdf\u001b[0m \u001b[1;32min\u001b[0m \u001b[0mCDFs\u001b[0m\u001b[1;33m]\u001b[0m\u001b[1;33m\u001b[0m\u001b[1;33m\u001b[0m\u001b[0m\n\u001b[0;32m     58\u001b[0m     \u001b[0mloop_label\u001b[0m\u001b[1;33m=\u001b[0m \u001b[1;34mf\"{int(x*100)}th\"\u001b[0m\u001b[1;33m\u001b[0m\u001b[1;33m\u001b[0m\u001b[0m\n\u001b[1;32m---> 59\u001b[1;33m     \u001b[0mplt\u001b[0m\u001b[1;33m.\u001b[0m\u001b[0mplot\u001b[0m\u001b[1;33m(\u001b[0m\u001b[0mweights\u001b[0m\u001b[1;33m,\u001b[0m\u001b[0mweight_percentiles\u001b[0m\u001b[1;33m,\u001b[0m\u001b[1;36m1\u001b[0m\u001b[1;33m,\u001b[0m \u001b[0mlabel\u001b[0m\u001b[1;33m=\u001b[0m\u001b[0mloop_label\u001b[0m\u001b[1;33m)\u001b[0m\u001b[1;33m\u001b[0m\u001b[1;33m\u001b[0m\u001b[0m\n\u001b[0m\u001b[0;32m     60\u001b[0m     \u001b[0mlabels\u001b[0m\u001b[1;33m.\u001b[0m\u001b[0mappend\u001b[0m\u001b[1;33m(\u001b[0m\u001b[0mloop_label\u001b[0m\u001b[1;33m)\u001b[0m\u001b[1;33m\u001b[0m\u001b[1;33m\u001b[0m\u001b[0m\n\u001b[0;32m     61\u001b[0m \u001b[1;33m\u001b[0m\u001b[0m\n",
      "\u001b[1;32m~\\anaconda3\\lib\\site-packages\\matplotlib\\pyplot.py\u001b[0m in \u001b[0;36mplot\u001b[1;34m(scalex, scaley, data, *args, **kwargs)\u001b[0m\n\u001b[0;32m   2759\u001b[0m \u001b[1;33m@\u001b[0m\u001b[0mdocstring\u001b[0m\u001b[1;33m.\u001b[0m\u001b[0mcopy\u001b[0m\u001b[1;33m(\u001b[0m\u001b[0mAxes\u001b[0m\u001b[1;33m.\u001b[0m\u001b[0mplot\u001b[0m\u001b[1;33m)\u001b[0m\u001b[1;33m\u001b[0m\u001b[1;33m\u001b[0m\u001b[0m\n\u001b[0;32m   2760\u001b[0m \u001b[1;32mdef\u001b[0m \u001b[0mplot\u001b[0m\u001b[1;33m(\u001b[0m\u001b[1;33m*\u001b[0m\u001b[0margs\u001b[0m\u001b[1;33m,\u001b[0m \u001b[0mscalex\u001b[0m\u001b[1;33m=\u001b[0m\u001b[1;32mTrue\u001b[0m\u001b[1;33m,\u001b[0m \u001b[0mscaley\u001b[0m\u001b[1;33m=\u001b[0m\u001b[1;32mTrue\u001b[0m\u001b[1;33m,\u001b[0m \u001b[0mdata\u001b[0m\u001b[1;33m=\u001b[0m\u001b[1;32mNone\u001b[0m\u001b[1;33m,\u001b[0m \u001b[1;33m**\u001b[0m\u001b[0mkwargs\u001b[0m\u001b[1;33m)\u001b[0m\u001b[1;33m:\u001b[0m\u001b[1;33m\u001b[0m\u001b[1;33m\u001b[0m\u001b[0m\n\u001b[1;32m-> 2761\u001b[1;33m     return gca().plot(\n\u001b[0m\u001b[0;32m   2762\u001b[0m         *args, scalex=scalex, scaley=scaley, **({\"data\": data} if data\n\u001b[0;32m   2763\u001b[0m         is not None else {}), **kwargs)\n",
      "\u001b[1;32m~\\anaconda3\\lib\\site-packages\\matplotlib\\axes\\_axes.py\u001b[0m in \u001b[0;36mplot\u001b[1;34m(self, scalex, scaley, data, *args, **kwargs)\u001b[0m\n\u001b[0;32m   1645\u001b[0m         \"\"\"\n\u001b[0;32m   1646\u001b[0m         \u001b[0mkwargs\u001b[0m \u001b[1;33m=\u001b[0m \u001b[0mcbook\u001b[0m\u001b[1;33m.\u001b[0m\u001b[0mnormalize_kwargs\u001b[0m\u001b[1;33m(\u001b[0m\u001b[0mkwargs\u001b[0m\u001b[1;33m,\u001b[0m \u001b[0mmlines\u001b[0m\u001b[1;33m.\u001b[0m\u001b[0mLine2D\u001b[0m\u001b[1;33m)\u001b[0m\u001b[1;33m\u001b[0m\u001b[1;33m\u001b[0m\u001b[0m\n\u001b[1;32m-> 1647\u001b[1;33m         \u001b[0mlines\u001b[0m \u001b[1;33m=\u001b[0m \u001b[1;33m[\u001b[0m\u001b[1;33m*\u001b[0m\u001b[0mself\u001b[0m\u001b[1;33m.\u001b[0m\u001b[0m_get_lines\u001b[0m\u001b[1;33m(\u001b[0m\u001b[1;33m*\u001b[0m\u001b[0margs\u001b[0m\u001b[1;33m,\u001b[0m \u001b[0mdata\u001b[0m\u001b[1;33m=\u001b[0m\u001b[0mdata\u001b[0m\u001b[1;33m,\u001b[0m \u001b[1;33m**\u001b[0m\u001b[0mkwargs\u001b[0m\u001b[1;33m)\u001b[0m\u001b[1;33m]\u001b[0m\u001b[1;33m\u001b[0m\u001b[1;33m\u001b[0m\u001b[0m\n\u001b[0m\u001b[0;32m   1648\u001b[0m         \u001b[1;32mfor\u001b[0m \u001b[0mline\u001b[0m \u001b[1;32min\u001b[0m \u001b[0mlines\u001b[0m\u001b[1;33m:\u001b[0m\u001b[1;33m\u001b[0m\u001b[1;33m\u001b[0m\u001b[0m\n\u001b[0;32m   1649\u001b[0m             \u001b[0mself\u001b[0m\u001b[1;33m.\u001b[0m\u001b[0madd_line\u001b[0m\u001b[1;33m(\u001b[0m\u001b[0mline\u001b[0m\u001b[1;33m)\u001b[0m\u001b[1;33m\u001b[0m\u001b[1;33m\u001b[0m\u001b[0m\n",
      "\u001b[1;32m~\\anaconda3\\lib\\site-packages\\matplotlib\\axes\\_base.py\u001b[0m in \u001b[0;36m__call__\u001b[1;34m(self, *args, **kwargs)\u001b[0m\n\u001b[0;32m    214\u001b[0m                 \u001b[0mthis\u001b[0m \u001b[1;33m+=\u001b[0m \u001b[0margs\u001b[0m\u001b[1;33m[\u001b[0m\u001b[1;36m0\u001b[0m\u001b[1;33m]\u001b[0m\u001b[1;33m,\u001b[0m\u001b[1;33m\u001b[0m\u001b[1;33m\u001b[0m\u001b[0m\n\u001b[0;32m    215\u001b[0m                 \u001b[0margs\u001b[0m \u001b[1;33m=\u001b[0m \u001b[0margs\u001b[0m\u001b[1;33m[\u001b[0m\u001b[1;36m1\u001b[0m\u001b[1;33m:\u001b[0m\u001b[1;33m]\u001b[0m\u001b[1;33m\u001b[0m\u001b[1;33m\u001b[0m\u001b[0m\n\u001b[1;32m--> 216\u001b[1;33m             \u001b[1;32myield\u001b[0m \u001b[1;32mfrom\u001b[0m \u001b[0mself\u001b[0m\u001b[1;33m.\u001b[0m\u001b[0m_plot_args\u001b[0m\u001b[1;33m(\u001b[0m\u001b[0mthis\u001b[0m\u001b[1;33m,\u001b[0m \u001b[0mkwargs\u001b[0m\u001b[1;33m)\u001b[0m\u001b[1;33m\u001b[0m\u001b[1;33m\u001b[0m\u001b[0m\n\u001b[0m\u001b[0;32m    217\u001b[0m \u001b[1;33m\u001b[0m\u001b[0m\n\u001b[0;32m    218\u001b[0m     \u001b[1;32mdef\u001b[0m \u001b[0mget_next_color\u001b[0m\u001b[1;33m(\u001b[0m\u001b[0mself\u001b[0m\u001b[1;33m)\u001b[0m\u001b[1;33m:\u001b[0m\u001b[1;33m\u001b[0m\u001b[1;33m\u001b[0m\u001b[0m\n",
      "\u001b[1;32m~\\anaconda3\\lib\\site-packages\\matplotlib\\axes\\_base.py\u001b[0m in \u001b[0;36m_plot_args\u001b[1;34m(self, tup, kwargs)\u001b[0m\n\u001b[0;32m    340\u001b[0m \u001b[1;33m\u001b[0m\u001b[0m\n\u001b[0;32m    341\u001b[0m         \u001b[1;32mif\u001b[0m \u001b[0mx\u001b[0m\u001b[1;33m.\u001b[0m\u001b[0mshape\u001b[0m\u001b[1;33m[\u001b[0m\u001b[1;36m0\u001b[0m\u001b[1;33m]\u001b[0m \u001b[1;33m!=\u001b[0m \u001b[0my\u001b[0m\u001b[1;33m.\u001b[0m\u001b[0mshape\u001b[0m\u001b[1;33m[\u001b[0m\u001b[1;36m0\u001b[0m\u001b[1;33m]\u001b[0m\u001b[1;33m:\u001b[0m\u001b[1;33m\u001b[0m\u001b[1;33m\u001b[0m\u001b[0m\n\u001b[1;32m--> 342\u001b[1;33m             raise ValueError(f\"x and y must have same first dimension, but \"\n\u001b[0m\u001b[0;32m    343\u001b[0m                              f\"have shapes {x.shape} and {y.shape}\")\n\u001b[0;32m    344\u001b[0m         \u001b[1;32mif\u001b[0m \u001b[0mx\u001b[0m\u001b[1;33m.\u001b[0m\u001b[0mndim\u001b[0m \u001b[1;33m>\u001b[0m \u001b[1;36m2\u001b[0m \u001b[1;32mor\u001b[0m \u001b[0my\u001b[0m\u001b[1;33m.\u001b[0m\u001b[0mndim\u001b[0m \u001b[1;33m>\u001b[0m \u001b[1;36m2\u001b[0m\u001b[1;33m:\u001b[0m\u001b[1;33m\u001b[0m\u001b[1;33m\u001b[0m\u001b[0m\n",
      "\u001b[1;31mValueError\u001b[0m: x and y must have same first dimension, but have shapes (395832,) and (53,)"
     ]
    },
    {
     "data": {
      "image/png": "[encoded data removed]",
      "text/plain": [
       "<Figure size 432x288 with 1 Axes>"
      ]
     },
     "metadata": {
      "needs_background": "light"
     },
     "output_type": "display_data"
    }
   ],
   "source": [
    "# //*** Residuals are the difference between the acual value, and the regression (or fitted) value.\n",
    "# //*** Are these on a log scale heights? Do I need to inverse transform later?\n",
    "residual_heights = heights - regress_heights_fitted\n",
    "\n",
    "# //*** Add residuals to the data frame, we'll use these for binning\n",
    "df['residuals'] = residual_heights \n",
    "\n",
    "# //*** Adding some abstraction. I'll eventually convert this to a portable function\n",
    "dependent_variable = 'htm3'\n",
    "independent_variable = 'wtkg2'\n",
    "input_bin_percentages = [.25,.5,.75]\n",
    "\n",
    "# //*** Get min and Max ages to set the limits of the group by bins\n",
    "# //*** Converting to integers adds headroom (extra space) to the floor\n",
    "# //*** Max + 1 gives a little extra room for Max\n",
    "minVal = int(df[dependent_variable].min())\n",
    "maxVal = int(df[dependent_variable].max())+1\n",
    "\n",
    "# //*** To plot percentiles we need a CDF of heights\n",
    "# //*** Build CDF of residuals\n",
    "input_mapping_cdf = build_cdf(build_pmf(residual_heights.value_counts().sort_index()))\n",
    "\n",
    "# //*** Get .25,.5,.75 percentile residual values for binning - stored in input_bin_percentages\n",
    "bin_values = [ get_cdf_percentile(input_mapping_cdf,x) for x in input_bin_percentages ]\n",
    "\n",
    "# //*** Build binning parameters. Minimum value, Maximum Value, # of Bins\n",
    "bins = np.arange(minVal, maxVal, len(bin_values))\n",
    "\n",
    "# //*** generate indices based on bins\n",
    "indices = np.digitize(df[dependent_variable], bins)\n",
    "groups = df.groupby(indices)\n",
    "\n",
    "# //*** Build mean of dependent variable\n",
    "# //*** Builds a list of means for each dependent binned values\n",
    "dependent_variable_mean = [group[dependent_variable].mean() for i, group in groups]\n",
    "\n",
    "print(f\"{dependent_variable_mean}\")\n",
    "\n",
    "# //*** Build a list CDFs for each binned value\n",
    "CDFs = []\n",
    "# //*** group is a tuple. Tuple[0] = index, tuple[1] = dataframe\n",
    "for group in groups:\n",
    "    #//*** CDF for each binned dataframe\n",
    "    #//*** Each group is a tuple (Index,dataFrame) - hence group[1] = dataFrame\n",
    "    #//*** Get the independent variable in each group\n",
    "    #//*** 1. Build histogram\n",
    "    #//*** 2. build PMF\n",
    "    #//*** 3. build CDF\n",
    "    #//*** 4. Add resulting CDF to CDFs\n",
    "    CDFs.append( build_cdf( build_pmf( (group[1][independent_variable].value_counts().sort_index() ) ) ) )\n",
    "    \n",
    "print(f\"{bin_values}\")\n",
    "\n",
    "labels = []\n",
    "for x in bin_values:\n",
    "    # //*** Build a list of percentiles to plot from each cdf using the percentile stored in bin_values\n",
    "    weight_percentiles = [get_cdf_percentile(cdf,x) for cdf in CDFs]\n",
    "    loop_label= f\"{int(x*100)}th\"\n",
    "    plt.plot(weights,weight_percentiles,1, label=loop_label)\n",
    "    labels.append(loop_label)\n",
    "\n",
    "#plt.xlabel('Age(mean)')\n",
    "#plt.ylabel('Birth Weight (lb)')\n",
    "\n",
    "plt.legend(labels)\n",
    "plt.xlim(minVal,maxVal)\n",
    "plt.ylim(5,9)\n",
    "plt.show()\n"
   ]
  },
  {
   "cell_type": "markdown",
   "metadata": {},
   "source": [
    "Compute correlation."
   ]
  },
  {
   "cell_type": "code",
   "execution_count": null,
   "metadata": {},
   "outputs": [],
   "source": []
  },
  {
   "cell_type": "markdown",
   "metadata": {},
   "source": [
    "Compute coefficient of determination."
   ]
  },
  {
   "cell_type": "code",
   "execution_count": null,
   "metadata": {},
   "outputs": [],
   "source": []
  },
  {
   "cell_type": "markdown",
   "metadata": {},
   "source": [
    "Confirm that $R^2 = \\rho^2$."
   ]
  },
  {
   "cell_type": "code",
   "execution_count": null,
   "metadata": {},
   "outputs": [],
   "source": []
  },
  {
   "cell_type": "markdown",
   "metadata": {},
   "source": [
    "Compute Std(ys), which is the RMSE of predictions that don't use height."
   ]
  },
  {
   "cell_type": "code",
   "execution_count": null,
   "metadata": {},
   "outputs": [],
   "source": []
  },
  {
   "cell_type": "markdown",
   "metadata": {},
   "source": [
    "Compute Std(res), the RMSE of predictions that do use height."
   ]
  },
  {
   "cell_type": "code",
   "execution_count": null,
   "metadata": {},
   "outputs": [],
   "source": []
  },
  {
   "cell_type": "markdown",
   "metadata": {},
   "source": [
    "How much does height information reduce RMSE?"
   ]
  },
  {
   "cell_type": "code",
   "execution_count": null,
   "metadata": {},
   "outputs": [],
   "source": []
  },
  {
   "cell_type": "markdown",
   "metadata": {},
   "source": [
    "Use resampling to compute sampling distributions for inter and slope."
   ]
  },
  {
   "cell_type": "code",
   "execution_count": null,
   "metadata": {},
   "outputs": [],
   "source": []
  },
  {
   "cell_type": "markdown",
   "metadata": {},
   "source": [
    "Plot the sampling distribution of slope."
   ]
  },
  {
   "cell_type": "code",
   "execution_count": null,
   "metadata": {},
   "outputs": [],
   "source": []
  },
  {
   "cell_type": "markdown",
   "metadata": {},
   "source": [
    "Compute the p-value of the slope."
   ]
  },
  {
   "cell_type": "code",
   "execution_count": null,
   "metadata": {},
   "outputs": [],
   "source": []
  },
  {
   "cell_type": "markdown",
   "metadata": {},
   "source": [
    "Compute the 90% confidence interval of slope."
   ]
  },
  {
   "cell_type": "code",
   "execution_count": null,
   "metadata": {},
   "outputs": [],
   "source": []
  },
  {
   "cell_type": "markdown",
   "metadata": {},
   "source": [
    "Compute the mean of the sampling distribution."
   ]
  },
  {
   "cell_type": "code",
   "execution_count": null,
   "metadata": {},
   "outputs": [],
   "source": []
  },
  {
   "cell_type": "markdown",
   "metadata": {},
   "source": [
    "Compute the standard deviation of the sampling distribution, which is the standard error."
   ]
  },
  {
   "cell_type": "code",
   "execution_count": null,
   "metadata": {},
   "outputs": [],
   "source": []
  },
  {
   "cell_type": "markdown",
   "metadata": {},
   "source": [
    "Resample rows without weights, compute mean height, and summarize results."
   ]
  },
  {
   "cell_type": "code",
   "execution_count": null,
   "metadata": {},
   "outputs": [],
   "source": []
  },
  {
   "cell_type": "markdown",
   "metadata": {},
   "source": [
    "Resample rows with weights.  Note that the weight column in this dataset is called `finalwt`."
   ]
  },
  {
   "cell_type": "code",
   "execution_count": null,
   "metadata": {},
   "outputs": [],
   "source": []
  },
  {
   "cell_type": "code",
   "execution_count": 37,
   "metadata": {},
   "outputs": [],
   "source": [
    "# //*** CODE HERE"
   ]
  },
  {
   "cell_type": "code",
   "execution_count": null,
   "metadata": {},
   "outputs": [],
   "source": []
  },
  {
   "cell_type": "code",
   "execution_count": null,
   "metadata": {},
   "outputs": [],
   "source": []
  },
  {
   "cell_type": "code",
   "execution_count": 38,
   "metadata": {},
   "outputs": [],
   "source": [
    "# //*** CODE HERE"
   ]
  },
  {
   "cell_type": "code",
   "execution_count": 66,
   "metadata": {},
   "outputs": [],
   "source": [
    "\n"
   ]
  }
 ],
 "metadata": {
  "kernelspec": {
   "display_name": "Python 3",
   "language": "python",
   "name": "python3"
  },
  "language_info": {
   "codemirror_mode": {
    "name": "ipython",
    "version": 3
   },
   "file_extension": ".py",
   "mimetype": "text/x-python",
   "name": "python",
   "nbconvert_exporter": "python",
   "pygments_lexer": "ipython3",
   "version": "3.8.3"
  }
 },
 "nbformat": 4,
 "nbformat_minor": 4
}
