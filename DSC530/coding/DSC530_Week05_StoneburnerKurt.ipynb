{
 "cells": [
  {
   "cell_type": "markdown",
   "metadata": {},
   "source": [
    "# Stoneburner, Kurt\n",
    "- ## DSC 530 - Week05\n",
    "- ## Chapter 5, Exercise 1\n"
   ]
  },
  {
   "cell_type": "code",
   "execution_count": 6,
   "metadata": {},
   "outputs": [],
   "source": [
    "# //****************************************************************************************\n",
    "# //*** Set Working Directory to thinkstats folder.\n",
    "# //*** This pseudo-relative path call should work on all Stoneburner localized projects. \n",
    "# //****************************************************************************************\n",
    "\n",
    "import os\n",
    "import sys\n",
    "workingPath = os.getcwd().replace(\"coding\", \"ThinkStats2\\\\code\")\n",
    "sys.path.insert(1, workingPath)\n",
    "os.chdir(workingPath)"
   ]
  },
  {
   "cell_type": "code",
   "execution_count": 7,
   "metadata": {},
   "outputs": [],
   "source": [
    "# //*** Imports and Load Data\n",
    "#import markdown\n",
    "import nsfg\n",
    "import thinkstats2\n",
    "import thinkplot\n",
    "import first\n",
    "import matplotlib.pyplot as plt\n",
    "import numpy as np\n",
    "import pandas as pd\n",
    "import analytic\n",
    "import scipy\n",
    "\n",
    "#resp = nsfg.ReadFemResp()\n",
    "#preg = nsfg.ReadFemPreg()\n",
    "\n"
   ]
  },
  {
   "cell_type": "markdown",
   "metadata": {},
   "source": [
    "**Exercise:** In the BRFSS (see Section 5.4), the distribution of heights is roughly normal with parameters µ = 178 cm and σ = 7.7 cm for men, and µ = 163 cm and σ = 7.3 cm for women.\n",
    "\n",
    "In order to join Blue Man Group, you have to be male between 5’10” and 6’1” (see http://bluemancasting.com). What percentage of the U.S. male population is in this range? Hint: use `scipy.stats.norm.cdf`."
   ]
  },
  {
   "cell_type": "code",
   "execution_count": 8,
   "metadata": {},
   "outputs": [],
   "source": [
    "# //*** scipy.stats.norm returns a normal distribution\n",
    "# //*** The location (loc) keyword specifies the mean. The scale (scale) keyword specifies the standard deviation.\n",
    "\n",
    "mu = 178\n",
    "sigma = 7.7\n",
    "dist = scipy.stats.norm(loc=mu, scale=sigma)\n",
    "#print(type(dist))\n",
    "\n",
    "#A \"frozen random variable\" can compute its mean and standard deviation.\n",
    "#print(dist.mean(), dist.std())\n",
    "\n",
    "#It can also evaluate its CDF. How many people are more than one standard deviation below the mean? About 16%\n",
    "#dist.cdf(mu-sigma)"
   ]
  },
  {
   "cell_type": "code",
   "execution_count": 9,
   "metadata": {},
   "outputs": [],
   "source": [
    "def inches_to_cm(defInput):\n",
    "    # //****************************************************************\n",
    "    # //*** Convert Inches to feet, because I can't do this in my head\n",
    "    # //*** Expected input defInput: feet: Number of Feet to convert\n",
    "    # //***                                Number of Inches to Convert\n",
    "    # //***                                Returns Centimenters as int\n",
    "    # //****************************************************************\n",
    "    \n",
    "    conversion_rate = 2.54\n",
    "    \n",
    "    total_cm = 0\n",
    "    \n",
    "    # //*** Convert feet to cm Feet * 12 * conversion_rate\n",
    "    if 'feet' in defInput.keys():\n",
    "        total_cm = total_cm + (defInput['feet'] * 12 * conversion_rate)\n",
    "    # //*** Convert Inches by multiplying vallue by conversion rate\n",
    "    if 'inches' in defInput.keys():\n",
    "        total_cm =  total_cm + (defInput['inches'] * conversion_rate)\n",
    "    \n",
    "    return total_cm"
   ]
  },
  {
   "cell_type": "code",
   "execution_count": 92,
   "metadata": {},
   "outputs": [
    {
     "name": "stdout",
     "output_type": "stream",
     "text": [
      "Min Height cm: 177.8 Max Height cm: 185.42\n",
      "51.0361% is tall enough to join the Blue Man Group\n",
      "83.2386% is not too tall to join the Blue Man Group\n",
      "Estimated 32.2025% of US male population is within the height range of 5'10\" - 6'1\"\n"
     ]
    }
   ],
   "source": [
    "# //*** Generate Min and Max height in cm.\n",
    "minHeight = inches_to_cm({'feet':5,'inches':10})\n",
    "maxHeight = inches_to_cm({'feet':6,'inches':1})\n",
    "\n",
    "print(f\"Min Height cm: {minHeight} Max Height cm: {maxHeight}\")\n",
    "\n",
    "# //*** Get the percentage of population that qualifies for the minimum height.\n",
    "# //*** This finds everyone below the minimum, so subtract from 1 to get everyone\n",
    "# //*** Above the minimum\n",
    "minQualified = 1 - dist.cdf(minHeight)\n",
    "# //*** Get the percentage of population that qualifies for the Maximum height.\n",
    "maxQualified = dist.cdf(maxHeight)\n",
    "print(f\"{round(minQualified*100,4)}% is tall enough to join the Blue Man Group\")\n",
    "print(f\"{round(maxQualified*100,4)}% is not too tall to join the Blue Man Group\")\n",
    "# //*** The answer in the maxHeight - minHeight\n",
    "print(f\"Estimated {round( (maxQualified - minQualified) * 100,4)}% of US male population is within the height range of 5'10\\\" - 6'1\\\"\")"
   ]
  },
  {
   "cell_type": "markdown",
   "metadata": {},
   "source": [
    "- ## Chapter 5, Exercise 2\n",
    "\n",
    "**Exercise:** To get a feel for the Pareto distribution, let’s see how different the world would be if the distribution of human height were Pareto. With the parameters xm = 1 m and α = 1.7, we get a distribution with a reasonable minimum, 1 m, and median, 1.5 m.\n",
    "\n",
    "Plot this Distribution"
   ]
  },
  {
   "cell_type": "code",
   "execution_count": 143,
   "metadata": {},
   "outputs": [
    {
     "data": {
      "image/png": "[encoded data removed]",
      "text/plain": [
       "<Figure size 432x288 with 1 Axes>"
      ]
     },
     "metadata": {
      "needs_background": "light"
     },
     "output_type": "display_data"
    },
    {
     "name": "stdout",
     "output_type": "stream",
     "text": [
      "2.428571428571429\n",
      "1.5034066538560549\n"
     ]
    }
   ],
   "source": [
    "# //*** Generate a pareto CDF from a set of 100 numbers evenly incremented from 1 - 10.\n",
    "pareto_cdf_series = pd.Series(index = scipy.stats.pareto.cdf(heights,scale=1, b=1.7), data=np.linspace(0,10,100))\n",
    "\n",
    "# //*** Histogram with matplotlib\n",
    "plt.plot(pareto_cdf_series, pareto_cdf_series.index.values, 1, color='b')\n",
    "plt.title(\"Pareto CDF\")\n",
    "plt.xlabel('Height')\n",
    "plt.ylabel('CDF')\n",
    "plt.show()\n",
    "\n",
    "pareto_dist = scipy.stats.pareto(b=1.7,scale=1)\n",
    "print(pareto_dist.mean())\n",
    "print(pareto_dist.median())\n",
    "\n",
    "# //*** Raw Pareto Calculations to work out later\n",
    "#xs = heights xmin = minimum alpha = 1,7\n",
    "#calc_pareto = 1- (heights / 1) ** 1.7\n",
    "#ps = 1 - (xs / xmin) ** -alpha\n",
    "#ps = stats.pareto.cdf(xs, scale=xmin, b=alpha)\n"
   ]
  },
  {
   "cell_type": "markdown",
   "metadata": {},
   "source": [
    "What is the mean human height in Pareto world?"
   ]
  },
  {
   "cell_type": "code",
   "execution_count": 111,
   "metadata": {},
   "outputs": [
    {
     "name": "stdout",
     "output_type": "stream",
     "text": [
      "Mean human height in Pareto World is 2.428571428571429\n"
     ]
    }
   ],
   "source": [
    "pareto_cdf_mean = pareto_dist.mean()\n",
    "print(f\"Mean human height in Pareto World is {pareto_cdf_mean}\")"
   ]
  },
  {
   "cell_type": "markdown",
   "metadata": {},
   "source": [
    "What fraction of the population is shorter than the mean? "
   ]
  },
  {
   "cell_type": "code",
   "execution_count": 115,
   "metadata": {},
   "outputs": [
    {
     "name": "stdout",
     "output_type": "stream",
     "text": [
      "77.87396975652881% of the total population is shorter than the mean\n"
     ]
    }
   ],
   "source": [
    "print(f\"{pareto_dist.cdf(pareto_cdf_mean)*100}% of the total population is shorter than the mean\")"
   ]
  },
  {
   "cell_type": "markdown",
   "metadata": {},
   "source": [
    "If there are 7 billion people in Pareto world, how many do we expect to be taller than 1 km? "
   ]
  },
  {
   "cell_type": "code",
   "execution_count": 122,
   "metadata": {},
   "outputs": [
    {
     "name": "stdout",
     "output_type": "stream",
     "text": [
      "In Pareto World 55602 people out of 7 billon will be over 1km tall.\n"
     ]
    }
   ],
   "source": [
    "# //*** Find the CDF of 1000m. Subtract from 1 to get everyone above.\n",
    "# //*** Multiply time 7 Billion\n",
    "pareto_giants = int( (1 - pareto_dist.cdf(1000)) * 7000000000)\n",
    "print(f\"In Pareto World {pareto_giants} people out of 7 billon will be over 1km tall.\")"
   ]
  },
  {
   "cell_type": "markdown",
   "metadata": {},
   "source": [
    "How tall do we expect the tallest person to be?"
   ]
  },
  {
   "cell_type": "markdown",
   "metadata": {},
   "source": [
    "scipy.stats.pareto represents a pareto distribution. In Pareto world, the distribution of human heights has parameters alpha=1.7 and xmin=1 meter. So the shortest person is 100 cm and the median is 150."
   ]
  },
  {
   "cell_type": "code",
   "execution_count": 90,
   "metadata": {},
   "outputs": [
    {
     "data": {
      "image/png": "[encoded data removed]",
      "text/plain": [
       "<Figure size 432x288 with 1 Axes>"
      ]
     },
     "metadata": {
      "needs_background": "light"
     },
     "output_type": "display_data"
    }
   ],
   "source": [
    "# //*** Text Reference for Pareto Distribution\n",
    "xmin = 1\n",
    "\n",
    "thinkplot.PrePlot(3)\n",
    "for alpha in [1.7]:\n",
    "    xs, ps = thinkstats2.RenderParetoCdf(xmin, alpha, 0, 10.0, n=100) \n",
    "    thinkplot.Plot(xs, ps, label=r'$\\alpha=%g$' % alpha)\n",
    "    \n",
    "thinkplot.Config(title='Pareto CDF', xlabel='x',\n",
    "                 ylabel='CDF', loc='lower right')"
   ]
  },
  {
   "cell_type": "markdown",
   "metadata": {},
   "source": [
    "- ## Chapter X, Exercise X\n",
    "\n"
   ]
  },
  {
   "cell_type": "code",
   "execution_count": 12,
   "metadata": {},
   "outputs": [],
   "source": [
    "# //*** CODE HERE"
   ]
  },
  {
   "cell_type": "markdown",
   "metadata": {},
   "source": [
    "- ## Chapter X, Exercise X\n",
    "\n"
   ]
  },
  {
   "cell_type": "code",
   "execution_count": 13,
   "metadata": {},
   "outputs": [],
   "source": [
    "# //*** CODE HERE"
   ]
  }
 ],
 "metadata": {
  "kernelspec": {
   "display_name": "Python 3",
   "language": "python",
   "name": "python3"
  },
  "language_info": {
   "codemirror_mode": {
    "name": "ipython",
    "version": 3
   },
   "file_extension": ".py",
   "mimetype": "text/x-python",
   "name": "python",
   "nbconvert_exporter": "python",
   "pygments_lexer": "ipython3",
   "version": "3.8.3"
  }
 },
 "nbformat": 4,
 "nbformat_minor": 4
}
