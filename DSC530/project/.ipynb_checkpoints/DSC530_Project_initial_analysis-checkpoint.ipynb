{
 "cells": [
  {
   "cell_type": "markdown",
   "metadata": {},
   "source": [
    "Can we measure Burnout in salaried Staff? What is the ratio of break time to billable time?\n",
    "Are Employees taking enough time off?\n",
    "\n",
    "Does more time off improve Productivity in salaried employees?\n",
    "\n",
    "Compare Time off hours between Salary and non-salary staff\n"
   ]
  },
  {
   "cell_type": "code",
   "execution_count": 25,
   "metadata": {},
   "outputs": [],
   "source": [
    "import numpy as np\n",
    "import pandas as pd\n",
    "import os\n",
    "import json\n",
    "import matplotlib.pyplot as plt"
   ]
  },
  {
   "cell_type": "code",
   "execution_count": 22,
   "metadata": {},
   "outputs": [],
   "source": [
    "# //*** Define Global Values\n",
    "g = {\n",
    "    'obfuscate': {},\n",
    "    'combined_df_filename' : 'combined.dat'\n",
    "}\n",
    "\n",
    "# //*** Load keys.json\n",
    "rawInput = \"\"\n",
    "with open('keys.json', 'r') as readfile:\n",
    "    for f in readfile.readlines():\n",
    "        rawInput = rawInput + f + \"\\n\"\n",
    "readfile.close()\n",
    "\n",
    "g['obfuscate'] = json.loads(rawInput)\n",
    "\n",
    "# //*** Load Combined df\n",
    "combined_df = pd.read_csv(g['combined_df_filename'])"
   ]
  },
  {
   "cell_type": "code",
   "execution_count": 82,
   "metadata": {},
   "outputs": [
    {
     "name": "stdout",
     "output_type": "stream",
     "text": [
      "       Unnamed: 0  local_date  hours                    jobcode_1  \\\n",
      "0               0  2019-01-01   8.00                      Holiday   \n",
      "2               2  2019-01-02   1.08  ALTUS Architecture + Design   \n",
      "4               4  2019-01-02   1.25        BDE Architecture Inc.   \n",
      "6               6  2019-01-03   0.67                  Lunch Break   \n",
      "8               8  2019-01-03   0.58        BDE Architecture Inc.   \n",
      "...           ...         ...    ...                          ...   \n",
      "22936        2796  2019-12-25   8.00                      Holiday   \n",
      "22937        2797  2019-12-26   7.20                     Vacation   \n",
      "22938        2798  2019-12-27   7.20                     Vacation   \n",
      "22939        2799  2019-12-30   7.20                     Vacation   \n",
      "22940        2800  2019-12-31   7.20                     Vacation   \n",
      "\n",
      "                                      jobcode_2               activity  \\\n",
      "0                                           NaN                    NaN   \n",
      "2      19009 - Munson Residence and Guest House  Energy Model/Takeoffs   \n",
      "4      17214 Walnut Creek Transit Village Phase  Energy Model/Takeoffs   \n",
      "6                                           NaN                    NaN   \n",
      "8      17214 Walnut Creek Transit Village Phase  Energy Model/Takeoffs   \n",
      "...                                         ...                    ...   \n",
      "22936                                       NaN                    NaN   \n",
      "22937                                       NaN                    NaN   \n",
      "22938                                       NaN                    NaN   \n",
      "22939                                       NaN                    NaN   \n",
      "22940                                       NaN                    NaN   \n",
      "\n",
      "      billable           class                 service item emp_name  salary  \n",
      "0          NaN             NaN                          NaN    EMP_1       1  \n",
      "2           No     Residential  Energy Code Compliance Work    EMP_1       1  \n",
      "4          Yes  Nonresidential  Energy Code Compliance Work    EMP_1       1  \n",
      "6          NaN             NaN                          NaN    EMP_1       1  \n",
      "8          Yes  Nonresidential               Extra Services    EMP_1       1  \n",
      "...        ...             ...                          ...      ...     ...  \n",
      "22936       No        Overhead                     Overhead   EMP_12       1  \n",
      "22937       No        Overhead                     Overhead   EMP_12       1  \n",
      "22938       No        Overhead                     Overhead   EMP_12       1  \n",
      "22939       No        Overhead                     Overhead   EMP_12       1  \n",
      "22940       No        Overhead                     Overhead   EMP_12       1  \n",
      "\n",
      "[12205 rows x 11 columns]\n"
     ]
    }
   ],
   "source": [
    "# //********************************************************************\n",
    "# //*** Pandas Frequency from dataframe\n",
    "# //********************************************************************\n",
    "#df.value_counts().sort_index()\n",
    "\n",
    "jobcode1_value_count = combined_df['jobcode_1'].value_counts().sort_values(ascending=False)[0:10]\n",
    "\n",
    "#print(jobcode1_value_count.str.contains('Gabel',regex=False))\n",
    "billable_jobs_gabel = combined_df[combined_df['jobcode_1'].str.contains('Gabel',regex=False) == False  ]\n",
    "\n",
    "#combined_df[combined_df.billable =='Yes']\n",
    "print(billable_jobs_gabel)\n",
    "\n",
    "# //*** Histogram with matplotlib\n",
    "#plt.bar(jobcode1_value_count.index.values, jobcode1_value_count, 1, color='b')\n",
    "#plt.plot(200, 200)\n",
    "#plt.tight_layout()\n",
    "#plt.title(f\"Biased Distribution\\nMean: {round(resp['numkdhh'][resp['numkdhh'] > 0].mean(),2)}\")\n",
    "#plt.xlabel('Children')\n",
    "#plt.ylabel('Frequency')\n",
    "#plt.show()\n",
    "\n",
    "#jobcode1_value_count.plot()"
   ]
  },
  {
   "cell_type": "code",
   "execution_count": 93,
   "metadata": {},
   "outputs": [
    {
     "name": "stdout",
     "output_type": "stream",
     "text": [
      "{'Holiday': 1, 'Lunch Break': 2, 'Rest Break': 3, 'PTO': 4, 'Vacation': 5}\n",
      "{1: 'Holiday', 2: 'Lunch Break', 3: 'Rest Break', 4: 'PTO', 5: 'Vacation'}\n",
      "Holiday 1\n",
      "Lunch Break 2\n",
      "Rest Break 3\n",
      "PTO 4\n",
      "Vacation 5\n",
      "0        1\n",
      "6        2\n",
      "15       2\n",
      "25       2\n",
      "29       3\n",
      "        ..\n",
      "22907    2\n",
      "22909    3\n",
      "22922    3\n",
      "22924    3\n",
      "22930    3\n",
      "Name: jobcode_1, Length: 4014, dtype: object\n"
     ]
    }
   ],
   "source": [
    "logged_rest_periods = combined_df[combined_df['billable'].isna() ]\n",
    "#print(logged_rest_periods)\n",
    "logged_rest_periods['jobcode_1'].unique()\n",
    "g['rest_period_dict'] = {}\n",
    "g['rest_period_reverse_dict'] = {}\n",
    "counter = 1\n",
    "for x in logged_rest_periods['jobcode_1'].unique():\n",
    "    g['rest_period_dict'][x] = counter\n",
    "    g['rest_period_reverse_dict'][counter] = x\n",
    "    counter = counter + 1\n",
    "\n",
    "print(g['rest_period_dict'])\n",
    "print(g['rest_period_reverse_dict'])\n",
    "\n",
    "jobID = logged_rest_periods['jobcode_1']\n",
    "\n",
    "for find,replace in g['rest_period_dict'].items():\n",
    "    print(f\"{find} {replace}\")\n",
    "    jobID = jobID.str.replace(find,str(replace))\n",
    "print(jobID)"
   ]
  }
 ],
 "metadata": {
  "kernelspec": {
   "display_name": "Python 3",
   "language": "python",
   "name": "python3"
  },
  "language_info": {
   "codemirror_mode": {
    "name": "ipython",
    "version": 3
   },
   "file_extension": ".py",
   "mimetype": "text/x-python",
   "name": "python",
   "nbconvert_exporter": "python",
   "pygments_lexer": "ipython3",
   "version": "3.8.3"
  }
 },
 "nbformat": 4,
 "nbformat_minor": 4
}
