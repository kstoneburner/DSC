{
 "cells": [
  {
   "cell_type": "markdown",
   "metadata": {},
   "source": [
    "A minimum of 5 variables in your dataset used during your analysis (for help with selecting, the author made his selection on page 6 of your book).  Consider what you think could have an impact on your question –remember this is never perfect, so don’t be worried if you miss one(Chapter 1)"
   ]
  },
  {
   "cell_type": "markdown",
   "metadata": {},
   "source": [
    "Describe what the 5 variables mean in the dataset(Chapter 1)"
   ]
  },
  {
   "cell_type": "markdown",
   "metadata": {},
   "source": [
    "Include a histogram of each of the 5variables –in your summary and analysis, identify any outliers and explain the reasoning for them being outliers and how you believe they should be handled(Chapter 2)."
   ]
  },
  {
   "cell_type": "markdown",
   "metadata": {},
   "source": [
    "Include the other descriptive characteristics about the variables: Mean, Mode, Spread, and Tails(Chapter 2)"
   ]
  },
  {
   "cell_type": "markdown",
   "metadata": {},
   "source": [
    "Using pg. 29 of your text as an example, compare two scenarios in your data using a PMF.  Reminder, this isn’t comparing two variables against each other –it is the same variable, but a different scenario.  Almost like a filter. The example in the book is first babies compared to all other babies, it is still the same variable, but breaking the data out based on criteria we are exploring(Chapter 3)"
   ]
  },
  {
   "cell_type": "markdown",
   "metadata": {},
   "source": [
    "Create 1 CDF with one of your variables, using page 41-44 as your guide, what does this tell you about your variable and how does it address the question you are trying to answer(Chapter 4)."
   ]
  },
  {
   "cell_type": "markdown",
   "metadata": {},
   "source": [
    "Plot 1 analytical distribution and provide your analysis on how it applies to the dataset you have chosen (Chapter 5"
   ]
  },
  {
   "cell_type": "markdown",
   "metadata": {},
   "source": [
    "Create two scatter plots comparing two variables and provide your analysis on correlation and causation. Remember, covariance, Pearson’s correlation, and Non-Linear Relationships should also be considered during your analysis(Chapter 7)."
   ]
  },
  {
   "cell_type": "markdown",
   "metadata": {},
   "source": [
    "Conduct a test on your hypothesis using one of the methods covered in Chapter 9."
   ]
  },
  {
   "cell_type": "markdown",
   "metadata": {},
   "source": [
    "Forthis project, conduct a regression analysis on either one dependent and one explanatory variable, or multiple explanatory variables(Chapter 10 & 11)"
   ]
  },
  {
   "cell_type": "code",
   "execution_count": 1,
   "metadata": {},
   "outputs": [],
   "source": [
    "import numpy as np\n",
    "import pandas as pd\n",
    "import os\n",
    "import json\n",
    "import matplotlib.pyplot as plt"
   ]
  },
  {
   "cell_type": "code",
   "execution_count": 2,
   "metadata": {},
   "outputs": [],
   "source": [
    "# //*** Define Global Values\n",
    "g = {\n",
    "    'obfuscate': {},\n",
    "    'combined_df_filename' : 'combined.dat',\n",
    "    'days_of_week' : [\"Monday\",\"Tuesday\",\"Wednesday\",\"Thursday\",\"Friday\"],\n",
    "    'person' : {}\n",
    "}\n",
    "#\"Saturday\",\"Sunday\"\n",
    "\n",
    "# //*** Load keys.json\n",
    "rawInput = \"\"\n",
    "with open('keys.json', 'r') as readfile:\n",
    "    for f in readfile.readlines():\n",
    "        rawInput = rawInput + f + \"\\n\"\n",
    "readfile.close()\n",
    "\n",
    "g['obfuscate'] = json.loads(rawInput)\n",
    "\n",
    "\n",
    "\n",
    "# //*******************************************\n",
    "# //*** Load Combined df - Master Data Frame\n",
    "# //*******************************************\n",
    "combined_df = pd.read_csv(g['combined_df_filename'])\n",
    "\n",
    "# //*** Delete First Column, I believe is a CSV artifact\n",
    "del combined_df[ combined_df.columns[0] ]\n",
    "\n",
    "# //**** Convert Local Date to Date Time Format\n",
    "# //**** Strip out exact time and keep date\n",
    "combined_df['local_date'] = combined_df['local_date'].str.replace(\" 00:00:00\",\"\")\n",
    "\n",
    "# //*** Run conversion once, ie check for timestamp property in first value\n",
    "# //*** Just a wee bit of fail safely\n",
    "if \"Timestamp\" not in str(type(combined_df['local_date'][0])):\n",
    "    # //**** Convert String to date\n",
    "    dateCol = pd.to_datetime(combined_df['local_date'], format='%Y-%m-%d')\n",
    "    \n",
    "    combined_df['local_date'] = dateCol\n",
    "    \n",
    "    \n",
    "    \n",
    "    # //*** Build Days of the Week Column as an Integer\n",
    "    combined_df['day_int'] = combined_df['local_date'].dt.dayofweek\n",
    "\n",
    "    # //*** Build Day Column as a String [ Monday ~ Sunday ]\n",
    "    # //*** Start With am empty list and convert 'day_int' column into a list of strings\n",
    "\n",
    "    day_list = []\n",
    "\n",
    "    date_dict = {0:\"Monday\",1:\"Tuesday\",2:\"Wednesday\",3:\"Thursday\",4:\"Friday\",5:\"Saturday\",6:\"Sunday\"}\n",
    "\n",
    "    for x in range(0,len(combined_df['day_int'])):\n",
    "        day_list.append(date_dict[combined_df['day_int'][x]])\n",
    "\n",
    "    # //*** Convert day_list to Series and add as 'day column'\n",
    "    combined_df['day'] = pd.Series(day_list)"
   ]
  },
  {
   "cell_type": "code",
   "execution_count": null,
   "metadata": {},
   "outputs": [],
   "source": []
  },
  {
   "cell_type": "code",
   "execution_count": null,
   "metadata": {},
   "outputs": [],
   "source": []
  },
  {
   "cell_type": "code",
   "execution_count": null,
   "metadata": {},
   "outputs": [],
   "source": []
  }
 ],
 "metadata": {
  "kernelspec": {
   "display_name": "Python 3",
   "language": "python",
   "name": "python3"
  },
  "language_info": {
   "codemirror_mode": {
    "name": "ipython",
    "version": 3
   },
   "file_extension": ".py",
   "mimetype": "text/x-python",
   "name": "python",
   "nbconvert_exporter": "python",
   "pygments_lexer": "ipython3",
   "version": "3.8.3"
  }
 },
 "nbformat": 4,
 "nbformat_minor": 4
}
