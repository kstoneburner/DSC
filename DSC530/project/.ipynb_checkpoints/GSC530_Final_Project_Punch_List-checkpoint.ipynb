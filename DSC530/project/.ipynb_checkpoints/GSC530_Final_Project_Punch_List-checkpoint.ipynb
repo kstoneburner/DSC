{
 "cells": [
  {
   "cell_type": "markdown",
   "metadata": {},
   "source": [
    "Include the other descriptive characteristics about the variables: Mean, Mode, Spread, and Tails(Chapter 2)"
   ]
  },
  {
   "cell_type": "markdown",
   "metadata": {},
   "source": [
    "Using pg. 29 of your text as an example, compare two scenarios in your data using a PMF.  Reminder, this isn’t comparing two variables against each other –it is the same variable, but a different scenario.  Almost like a filter. The example in the book is first babies compared to all other babies, it is still the same variable, but breaking the data out based on criteria we are exploring(Chapter 3)"
   ]
  },
  {
   "cell_type": "markdown",
   "metadata": {},
   "source": [
    "Create 1 CDF with one of your variables, using page 41-44 as your guide, what does this tell you about your variable and how does it address the question you are trying to answer(Chapter 4)."
   ]
  },
  {
   "cell_type": "markdown",
   "metadata": {},
   "source": [
    "Plot 1 analytical distribution and provide your analysis on how it applies to the dataset you have chosen (Chapter 5"
   ]
  },
  {
   "cell_type": "markdown",
   "metadata": {},
   "source": [
    "Create two scatter plots comparing two variables and provide your analysis on correlation and causation. Remember, covariance, Pearson’s correlation, and Non-Linear Relationships should also be considered during your analysis(Chapter 7)."
   ]
  },
  {
   "cell_type": "markdown",
   "metadata": {},
   "source": [
    "Conduct a test on your hypothesis using one of the methods covered in Chapter 9."
   ]
  },
  {
   "cell_type": "markdown",
   "metadata": {},
   "source": [
    "Forthis project, conduct a regression analysis on either one dependent and one explanatory variable, or multiple explanatory variables(Chapter 10 & 11)"
   ]
  },
  {
   "cell_type": "code",
   "execution_count": 1,
   "metadata": {},
   "outputs": [],
   "source": [
    "import numpy as np\n",
    "import pandas as pd\n",
    "import os\n",
    "import json\n",
    "import matplotlib.pyplot as plt"
   ]
  },
  {
   "cell_type": "code",
   "execution_count": 16,
   "metadata": {},
   "outputs": [],
   "source": [
    "# //*** Define Global Values\n",
    "g = {\n",
    "    'obfuscate': {},\n",
    "    'combined_df_filename' : 'combined.dat',\n",
    "    'days_of_week' : [\"Monday\",\"Tuesday\",\"Wednesday\",\"Thursday\",\"Friday\"],\n",
    "    'person' : {}\n",
    "}\n",
    "#\"Saturday\",\"Sunday\"\n",
    "\n",
    "# //*** Load keys.json\n",
    "rawInput = \"\"\n",
    "with open('keys.json', 'r') as readfile:\n",
    "    for f in readfile.readlines():\n",
    "        rawInput = rawInput + f + \"\\n\"\n",
    "readfile.close()\n",
    "\n",
    "g['obfuscate'] = json.loads(rawInput)\n",
    "\n",
    "\n",
    "\n",
    "# //*******************************************\n",
    "# //*** Load Combined df - Master Data Frame\n",
    "# //*******************************************\n",
    "combined_df = pd.read_csv(g['combined_df_filename'])\n",
    "\n",
    "# //*** Delete First Column, I believe is a CSV artifact\n",
    "del combined_df[ combined_df.columns[0] ]\n",
    "\n",
    "# //**** Convert Local Date to Date Time Format\n",
    "# //**** Strip out exact time and keep date\n",
    "combined_df['local_date'] = combined_df['local_date'].str.replace(\" 00:00:00\",\"\")\n",
    "\n",
    "# //*** Run conversion once, ie check for timestamp property in first value\n",
    "# //*** Just a wee bit of fail safely\n",
    "if \"Timestamp\" not in str(type(combined_df['local_date'][0])):\n",
    "    # //**** Convert String to date\n",
    "    dateCol = pd.to_datetime(combined_df['local_date'], format='%Y-%m-%d')\n",
    "    \n",
    "    combined_df['local_date'] = dateCol\n",
    "    \n",
    "    \n",
    "    \n",
    "    # //*** Build Days of the Week Column as an Integer\n",
    "    combined_df['day_int'] = combined_df['local_date'].dt.dayofweek\n",
    "\n",
    "    # //*** Build Day Column as a String [ Monday ~ Sunday ]\n",
    "    # //*** Start With am empty list and convert 'day_int' column into a list of strings\n",
    "\n",
    "    day_list = []\n",
    "\n",
    "    date_dict = {0:\"Monday\",1:\"Tuesday\",2:\"Wednesday\",3:\"Thursday\",4:\"Friday\",5:\"Saturday\",6:\"Sunday\"}\n",
    "\n",
    "    for x in range(0,len(combined_df['day_int'])):\n",
    "        day_list.append(date_dict[combined_df['day_int'][x]])\n",
    "\n",
    "    # //*** Convert day_list to Series and add as 'day column'\n",
    "    combined_df['day'] = pd.Series(day_list)\n",
    "\n",
    "# //*** Remove listings where hours == 0\n",
    "combined_df =  combined_df[combined_df['hours'] > 0]"
   ]
  },
  {
   "cell_type": "code",
   "execution_count": 3,
   "metadata": {},
   "outputs": [
    {
     "name": "stdout",
     "output_type": "stream",
     "text": [
      "  local_date  hours                    jobcode_1  \\\n",
      "0 2019-01-01   8.00                      Holiday   \n",
      "1 2019-01-02   1.75                 Gabel Energy   \n",
      "2 2019-01-02   1.08  ALTUS Architecture + Design   \n",
      "3 2019-01-02   1.58                 Gabel Energy   \n",
      "4 2019-01-02   1.25        BDE Architecture Inc.   \n",
      "\n",
      "                                  jobcode_2  \\\n",
      "0                                       NaN   \n",
      "1                                       NaN   \n",
      "2  19009 - Munson Residence and Guest House   \n",
      "3                                       NaN   \n",
      "4  17214 Walnut Creek Transit Village Phase   \n",
      "\n",
      "                                     activity billable           class  \\\n",
      "0                                         NaN      NaN             NaN   \n",
      "1  Gabel: Project Coordination (non-billable)       No        Overhead   \n",
      "2                       Energy Model/Takeoffs       No     Residential   \n",
      "3                                 Gabel: Misc       No        Overhead   \n",
      "4                       Energy Model/Takeoffs      Yes  Nonresidential   \n",
      "\n",
      "                  service item emp_name  salary activities  day_int        day  \n",
      "0                          NaN    EMP_1       1        NaN        1    Tuesday  \n",
      "1                     Overhead    EMP_1       1        NaN        2  Wednesday  \n",
      "2  Energy Code Compliance Work    EMP_1       1        NaN        2  Wednesday  \n",
      "3                     Overhead    EMP_1       1        NaN        2  Wednesday  \n",
      "4  Energy Code Compliance Work    EMP_1       1        NaN        2  Wednesday  \n"
     ]
    }
   ],
   "source": [
    "print(combined_df.head())"
   ]
  },
  {
   "cell_type": "markdown",
   "metadata": {},
   "source": [
    "### A minimum of 5 variables in your dataset used during your analysis (for help with selecting, the author made his selection on page 6 of your book).  Consider what you think could have an impact on your question –remember this is never perfect, so don’t be worried if you miss one(Chapter 1) ###"
   ]
  },
  {
   "cell_type": "markdown",
   "metadata": {},
   "source": [
    "**5 Variables**\n",
    "\n",
    "Hours - Primary Variable: 272 0 hour entries. These were removed from the data set. These are likely incorrect employee entries, likely inputting the wrong job code clocking out and failing to remove the zero length job from the time tracking software.\n",
    "\n",
    "Hours / Billable\n",
    "\n",
    "Hours / Overhead\n",
    "\n",
    "Hours / Salary\n",
    "\n",
    "Hours / Hourly\n",
    "\n",
    "Hours / Jobcode 2\n",
    "\n",
    "Hours / Jobcode 1"
   ]
  },
  {
   "cell_type": "markdown",
   "metadata": {},
   "source": [
    "### Describe what the 5 variables mean in the dataset(Chapter 1) ###"
   ]
  },
  {
   "cell_type": "code",
   "execution_count": null,
   "metadata": {},
   "outputs": [],
   "source": []
  },
  {
   "cell_type": "markdown",
   "metadata": {},
   "source": [
    "### Include a histogram of each of the 5variables –in your summary and analysis, identify any outliers and explain the reasoning for them being outliers and how you believe they should be handled(Chapter 2). ###\n"
   ]
  },
  {
   "cell_type": "code",
   "execution_count": 24,
   "metadata": {},
   "outputs": [
    {
     "data": {
      "image/png": "[encoded data removed]",
      "text/plain": [
       "<Figure size 432x288 with 1 Axes>"
      ]
     },
     "metadata": {
      "needs_background": "light"
     },
     "output_type": "display_data"
    }
   ],
   "source": [
    "#//*** Get Histogram of total Hours \n",
    "total_hours_hist = combined_df['hours'].value_counts().sort_index()\n",
    "\n",
    "plt.plot(total_hours_hist.index, total_hours_hist,1,color=\"b\")\n",
    "plt.xlabel('Hours')\n",
    "plt.ylabel('Frequency')\n",
    "plt.title(\"Histogram: All Hours\")\n",
    "plt.show()\n"
   ]
  },
  {
   "cell_type": "code",
   "execution_count": null,
   "metadata": {},
   "outputs": [],
   "source": [
    "#//*** Engineer a dataframe "
   ]
  },
  {
   "cell_type": "code",
   "execution_count": null,
   "metadata": {},
   "outputs": [],
   "source": []
  }
 ],
 "metadata": {
  "kernelspec": {
   "display_name": "Python 3",
   "language": "python",
   "name": "python3"
  },
  "language_info": {
   "codemirror_mode": {
    "name": "ipython",
    "version": 3
   },
   "file_extension": ".py",
   "mimetype": "text/x-python",
   "name": "python",
   "nbconvert_exporter": "python",
   "pygments_lexer": "ipython3",
   "version": "3.8.3"
  }
 },
 "nbformat": 4,
 "nbformat_minor": 4
}
