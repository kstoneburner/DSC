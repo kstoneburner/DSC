{
 "cells": [
  {
   "cell_type": "code",
   "execution_count": 2,
   "metadata": {},
   "outputs": [
    {
     "name": "stdout",
     "output_type": "stream",
     "text": [
      "Arielle\n",
      "Usher\n",
      "['username', 'payroll_id', 'fname', 'lname', 'number', 'group', 'local_date', 'local_day', 'local_start_time', 'local_end_time', 'tz', 'hours', 'jobcode_1', 'jobcode_2', 'activity', 'billable', 'class', 'service item', 'location', 'notes', 'approved_status']\n",
      "['local_date', 'hours', 'jobcode_1', 'jobcode_2', 'activity', 'billable', 'class', 'service item']\n"
     ]
    }
   ],
   "source": [
    "import xlrd # pandas dependency\n",
    "import numpy as np\n",
    "import pandas as pd\n",
    "import os\n",
    "###\n",
    "g = {\n",
    "    'remove_cols': ['username', 'payroll_id', 'fname', 'lname', 'number', 'group','local_day', 'local_start_time', 'local_end_time', 'tz', 'location', 'notes', 'approved_status'],\n",
    "    'obsfuscate': {},\n",
    "}\n",
    "curDir = os.getcwd()\n",
    "\n",
    "fileList = os.listdir(curDir + \"\\\\orig\")\n",
    "\n",
    "employee_counter = 0\n",
    "\n",
    "for fname in fileList:\n",
    "    ### For each Excel File\n",
    "    if \".xlsx\" in fname:\n",
    "\n",
    "        # //*** Build Generic Employee value\n",
    "        employee_counter = employee_counter + 1\n",
    "\n",
    "        # //*** Each employee is EMP_ with a number\n",
    "        generic_name = f\"EMP_{employee_counter}\"\n",
    "\n",
    "        loop_df = pd.read_excel(curDir+\"\\\\orig\\\\\"+fname,1)\n",
    "\n",
    "        print(loop_df.loc[0,'fname'])\n",
    "        print(loop_df.loc[0, 'lname'])\n",
    "\n",
    "        loop_user_details = {\n",
    "            'generic_name': generic_name,\n",
    "            'fname': loop_df.loc[0, 'fname'],\n",
    "            'lname': loop_df.loc[0, 'lname'],\n",
    "            'group': loop_df.loc[0, 'group'],\n",
    "        }\n",
    "        print(loop_df.columns.values.tolist())\n",
    "\n",
    "        ### Remove unneeded columns\n",
    "        loop_df = loop_df.drop(columns=g['remove_cols'])\n",
    "        \n",
    "        \n",
    "\n",
    "        print(loop_df.columns.values.tolist())\n",
    "        #print(loop_df.head(5))\n",
    "        break\n",
    "\n",
    "\n",
    "\n",
    "\n",
    "\n"
   ]
  }
 ],
 "metadata": {
  "kernelspec": {
   "display_name": "Python 3",
   "language": "python",
   "name": "python3"
  },
  "language_info": {
   "codemirror_mode": {
    "name": "ipython",
    "version": 3
   },
   "file_extension": ".py",
   "mimetype": "text/x-python",
   "name": "python",
   "nbconvert_exporter": "python",
   "pygments_lexer": "ipython3",
   "version": "3.8.3"
  }
 },
 "nbformat": 4,
 "nbformat_minor": 4
}
