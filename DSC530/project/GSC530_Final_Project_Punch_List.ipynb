{
 "cells": [
  {
   "cell_type": "code",
   "execution_count": 1,
   "metadata": {},
   "outputs": [],
   "source": [
    "def get_hist_variable_by_hours(input_df,input_primary_field):\n",
    "    input_constraint_field = 'hours'\n",
    "    \n",
    "    #//*** Get a value distribution of the primary field\n",
    "    primary_value_count = input_df[input_primary_field].value_counts().sort_values(ascending=False)\n",
    "\n",
    "    # //*** Build a list of summed constraint field(hours) for each primary_field (jobcode) category\n",
    "    # //*** Loop through each primary field value (billable jobcode ) to get the total hours for that constraint (job)\n",
    "    primary_value_distribution = {}\n",
    "    \n",
    "    for x in range(0,len(primary_value_count.index)):\n",
    "        loop_key = primary_value_count.index[x]\n",
    "    \n",
    "        # //*** get total hours for each job\n",
    "        primary_value_distribution[loop_key] = input_df[input_df[input_primary_field] == loop_key ][input_constraint_field].sum()\n",
    "    \n",
    "    # //*****************************\n",
    "    # //*** Sort by Constrained Sums\n",
    "    # //*****************************\n",
    "    # //*** https://www.geeksforgeeks.org/python-sort-python-dictionaries-by-key-or-value/\n",
    "    # //*** Builds a sorted dictionary\n",
    "    primary_value_distribution = sorted(primary_value_distribution.items(), key = lambda kv:(kv[1], kv[0]),reverse=True)\n",
    "    primary_keys = []\n",
    "    #//*** Round the hours to get a slightly better picture of the distribution\n",
    "    primary_values_munge = []\n",
    "    # //*** Pull the sorted dictionary apart\n",
    "    for x in primary_value_distribution:\n",
    "        primary_keys.append(x[0])\n",
    "        \n",
    "        #//*** Values less than 1 become 1 hour.\n",
    "        if int(x[1]) < 1:\n",
    "            primary_values_munge.append(1)\n",
    "        else:\n",
    "            primary_values_munge.append(round(x[1],0))\n",
    "\n",
    "    #//*** Return primary_field distribution as a histogram \n",
    "    return pd.Series(primary_values_munge).value_counts().sort_index()\n",
    "#//**************************************\n",
    "#//*** END get_hist_variable_by_hours\n",
    "#//**************************************\n"
   ]
  },
  {
   "cell_type": "markdown",
   "metadata": {},
   "source": [
    "Forthis project, conduct a regression analysis on either one dependent and one explanatory variable, or multiple explanatory variables(Chapter 10 & 11)"
   ]
  },
  {
   "cell_type": "code",
   "execution_count": 2,
   "metadata": {},
   "outputs": [],
   "source": [
    "import numpy as np\n",
    "import pandas as pd\n",
    "import os\n",
    "import json\n",
    "import matplotlib.pyplot as plt"
   ]
  },
  {
   "cell_type": "code",
   "execution_count": 3,
   "metadata": {},
   "outputs": [],
   "source": [
    "# //*** Define Global Values\n",
    "g = {\n",
    "    'obfuscate': {},\n",
    "    'combined_df_filename' : 'combined.dat',\n",
    "    'days_of_week' : [\"Monday\",\"Tuesday\",\"Wednesday\",\"Thursday\",\"Friday\"],\n",
    "    'person' : {}\n",
    "}\n",
    "#\"Saturday\",\"Sunday\"\n",
    "\n",
    "# //*** Load keys.json\n",
    "rawInput = \"\"\n",
    "with open('keys.json', 'r') as readfile:\n",
    "    for f in readfile.readlines():\n",
    "        rawInput = rawInput + f + \"\\n\"\n",
    "readfile.close()\n",
    "\n",
    "g['obfuscate'] = json.loads(rawInput)\n",
    "\n",
    "\n",
    "\n",
    "# //*******************************************\n",
    "# //*** Load Combined df - Master Data Frame\n",
    "# //*******************************************\n",
    "combined_df = pd.read_csv(g['combined_df_filename'])\n",
    "\n",
    "# //*** Delete First Column, I believe is a CSV artifact\n",
    "del combined_df[ combined_df.columns[0] ]\n",
    "\n",
    "# //**** Convert Local Date to Date Time Format\n",
    "# //**** Strip out exact time and keep date\n",
    "combined_df['local_date'] = combined_df['local_date'].str.replace(\" 00:00:00\",\"\")\n",
    "\n",
    "# //*** Run conversion once, ie check for timestamp property in first value\n",
    "# //*** Just a wee bit of fail safely\n",
    "if \"Timestamp\" not in str(type(combined_df['local_date'][0])):\n",
    "    # //**** Convert String to date\n",
    "    dateCol = pd.to_datetime(combined_df['local_date'], format='%Y-%m-%d')\n",
    "    \n",
    "    combined_df['local_date'] = dateCol\n",
    "    \n",
    "    \n",
    "    \n",
    "    # //*** Build Days of the Week Column as an Integer\n",
    "    combined_df['day_int'] = combined_df['local_date'].dt.dayofweek\n",
    "\n",
    "    # //*** Build Day Column as a String [ Monday ~ Sunday ]\n",
    "    # //*** Start With am empty list and convert 'day_int' column into a list of strings\n",
    "\n",
    "    day_list = []\n",
    "\n",
    "    date_dict = {0:\"Monday\",1:\"Tuesday\",2:\"Wednesday\",3:\"Thursday\",4:\"Friday\",5:\"Saturday\",6:\"Sunday\"}\n",
    "\n",
    "    for x in range(0,len(combined_df['day_int'])):\n",
    "        day_list.append(date_dict[combined_df['day_int'][x]])\n",
    "\n",
    "    # //*** Convert day_list to Series and add as 'day column'\n",
    "    combined_df['day'] = pd.Series(day_list)\n",
    "\n",
    "# //*** Remove listings where hours == 0\n",
    "combined_df =  combined_df[combined_df['hours'] > 0]"
   ]
  },
  {
   "cell_type": "code",
   "execution_count": 4,
   "metadata": {},
   "outputs": [
    {
     "name": "stdout",
     "output_type": "stream",
     "text": [
      "  local_date  hours                    jobcode_1  \\\n",
      "0 2019-01-01   8.00                      Holiday   \n",
      "1 2019-01-02   1.75                 Gabel Energy   \n",
      "2 2019-01-02   1.08  ALTUS Architecture + Design   \n",
      "3 2019-01-02   1.58                 Gabel Energy   \n",
      "4 2019-01-02   1.25        BDE Architecture Inc.   \n",
      "\n",
      "                                  jobcode_2  \\\n",
      "0                                       NaN   \n",
      "1                                       NaN   \n",
      "2  19009 - Munson Residence and Guest House   \n",
      "3                                       NaN   \n",
      "4  17214 Walnut Creek Transit Village Phase   \n",
      "\n",
      "                                     activity billable           class  \\\n",
      "0                                         NaN      NaN             NaN   \n",
      "1  Gabel: Project Coordination (non-billable)       No        Overhead   \n",
      "2                       Energy Model/Takeoffs       No     Residential   \n",
      "3                                 Gabel: Misc       No        Overhead   \n",
      "4                       Energy Model/Takeoffs      Yes  Nonresidential   \n",
      "\n",
      "                  service item emp_name  salary activities  day_int        day  \n",
      "0                          NaN    EMP_1       1        NaN        1    Tuesday  \n",
      "1                     Overhead    EMP_1       1        NaN        2  Wednesday  \n",
      "2  Energy Code Compliance Work    EMP_1       1        NaN        2  Wednesday  \n",
      "3                     Overhead    EMP_1       1        NaN        2  Wednesday  \n",
      "4  Energy Code Compliance Work    EMP_1       1        NaN        2  Wednesday  \n"
     ]
    }
   ],
   "source": [
    "print(combined_df.head())"
   ]
  },
  {
   "cell_type": "markdown",
   "metadata": {},
   "source": [
    "### A minimum of 5 variables in your dataset used during your analysis (for help with selecting, the author made his selection on page 6 of your book).  Consider what you think could have an impact on your question –remember this is never perfect, so don’t be worried if you miss one(Chapter 1) ###"
   ]
  },
  {
   "cell_type": "markdown",
   "metadata": {},
   "source": [
    "**5 Variables**\n",
    "\n",
    "Hours - Primary Variable: 272 0 hour entries. These were removed from the data set. These are likely incorrect employee entries, likely inputting the wrong job code clocking out and failing to remove the zero length job from the time tracking software.\n",
    "\n",
    "Hours / Billable\n",
    "\n",
    "Hours / Overhead\n",
    "\n",
    "Hours / Salary\n",
    "\n",
    "Hours / Hourly\n",
    "\n",
    "Hours / Jobcode 2\n",
    "\n",
    "Hours / Jobcode 1"
   ]
  },
  {
   "cell_type": "markdown",
   "metadata": {},
   "source": [
    "### Describe what the 5 variables mean in the dataset(Chapter 1) ###"
   ]
  },
  {
   "cell_type": "code",
   "execution_count": null,
   "metadata": {},
   "outputs": [],
   "source": []
  },
  {
   "cell_type": "markdown",
   "metadata": {},
   "source": [
    "### Include a histogram of each of the 5variables –in your summary and analysis, identify any outliers and explain the reasoning for them being outliers and how you believe they should be handled(Chapter 2). ###\n"
   ]
  },
  {
   "cell_type": "code",
   "execution_count": 5,
   "metadata": {},
   "outputs": [
    {
     "data": {
      "image/png": "[encoded data removed]",
      "text/plain": [
       "<Figure size 432x288 with 1 Axes>"
      ]
     },
     "metadata": {
      "needs_background": "light"
     },
     "output_type": "display_data"
    }
   ],
   "source": [
    "#//*** Get Histogram of total Hours \n",
    "total_hours_hist = combined_df['hours'].value_counts().sort_index()\n",
    "\n",
    "plt.plot(total_hours_hist.index, total_hours_hist,1,color=\"b\")\n",
    "plt.xlabel('Hours')\n",
    "plt.ylabel('Frequency')\n",
    "plt.title(\"Histogram: All Hours\")\n",
    "plt.show()\n"
   ]
  },
  {
   "cell_type": "code",
   "execution_count": 7,
   "metadata": {},
   "outputs": [
    {
     "data": {
      "image/png": "[encoded data removed]",
      "text/plain": [
       "<Figure size 432x288 with 1 Axes>"
      ]
     },
     "metadata": {
      "needs_background": "light"
     },
     "output_type": "display_data"
    },
    {
     "data": {
      "image/png": "[encoded data removed]",
      "text/plain": [
       "<Figure size 432x288 with 1 Axes>"
      ]
     },
     "metadata": {
      "needs_background": "light"
     },
     "output_type": "display_data"
    },
    {
     "data": {
      "image/png": "[encoded data removed]",
      "text/plain": [
       "<Figure size 432x288 with 1 Axes>"
      ]
     },
     "metadata": {
      "needs_background": "light"
     },
     "output_type": "display_data"
    }
   ],
   "source": [
    "# //*** Productivity Data Frame: These Jobs make the money\n",
    "billable_df = combined_df[combined_df['jobcode_2'].str.len() > 2]\n",
    "\n",
    "#//*** Histogram of all billable hours. NOT EVENly distributed\n",
    "#//*** Two Clients represent 50% of all hours. The remaining hours are split amongst many clients.\n",
    "billable_hist = get_hist_variable_by_hours(billable_df,'jobcode_1')\n",
    "\n",
    "#//*** Get hours of other clients (all hours minus the big client hours.)\n",
    "other_total_hours = billable_df['hours'].sum() - 2484 - 1369\n",
    "\n",
    "plt.bar(billable_hist.index, billable_hist,1,color=\"b\")\n",
    "plt.xlabel('Hours')\n",
    "plt.ylabel('Frequency')\n",
    "plt.title(\"Histogram: All Billable Hours (per Client)\")\n",
    "plt.show()\n",
    "\n",
    "plt.bar(billable_hist.index, billable_hist,1,color=\"b\")\n",
    "plt.xlabel('Hours')\n",
    "plt.ylabel('Frequency')\n",
    "plt.xlim(0,85)\n",
    "plt.title(\"Histogram: Billable Hours <80\\nSmaller Clients \")\n",
    "plt.show()\n",
    "\n",
    "plt.bar(['Other Clients',\"Company A\", \"Company B\"], [other_total_hours,2484,1369],1,color=\"b\")\n",
    "plt.ylabel('Hours')\n",
    "plt.title(\"Histogram: Summarized Billable Hours\")\n",
    "plt.show()\n",
    "\n"
   ]
  },
  {
   "cell_type": "code",
   "execution_count": 8,
   "metadata": {},
   "outputs": [
    {
     "data": {
      "image/png": "[encoded data removed]",
      "text/plain": [
       "<Figure size 432x288 with 1 Axes>"
      ]
     },
     "metadata": {
      "needs_background": "light"
     },
     "output_type": "display_data"
    }
   ],
   "source": [
    "# //*** Productivity Data Frame: These Jobs make the money\n",
    "billable_df = combined_df[combined_df['jobcode_2'].str.len() > 2]\n",
    "\n",
    "billable_hist = billable_df['hours'].value_counts().sort_index()\n",
    "\n",
    "plt.bar(billable_hist.index, billable_hist,1,color=\"b\")\n",
    "plt.xlabel('Hours')\n",
    "plt.ylabel('Frequency')\n",
    "plt.title(\"Histogram: All Billable Hours\")\n",
    "plt.show()"
   ]
  },
  {
   "cell_type": "code",
   "execution_count": 9,
   "metadata": {},
   "outputs": [
    {
     "name": "stdout",
     "output_type": "stream",
     "text": [
      "0.02      18\n",
      "0.03      34\n",
      "0.05      64\n",
      "0.07      69\n",
      "0.08     767\n",
      "        ... \n",
      "10.00      2\n",
      "10.13      1\n",
      "10.17      1\n",
      "10.67      1\n",
      "11.25      1\n",
      "Name: hours, Length: 275, dtype: int64\n"
     ]
    },
    {
     "data": {
      "image/png": "[encoded data removed]",
      "text/plain": [
       "<Figure size 432x288 with 1 Axes>"
      ]
     },
     "metadata": {
      "needs_background": "light"
     },
     "output_type": "display_data"
    }
   ],
   "source": [
    "# //*** Overhead Work: It's Work that's gotta get done\n",
    "overhead_df = combined_df[ combined_df['jobcode_1'].str.contains(\"Gabel\",na=False) ]\n",
    "\n",
    "overhead_hist = overhead_df['hours'].value_counts().sort_index()\n",
    "print(overhead_hist)\n",
    "plt.bar(overhead_hist.index, overhead_hist,1,color=\"b\")\n",
    "plt.xlabel('Hours')\n",
    "plt.ylabel('Frequency')\n",
    "plt.title(\"Histogram: All Overhead Hours\")\n",
    "plt.show()"
   ]
  },
  {
   "cell_type": "code",
   "execution_count": 10,
   "metadata": {},
   "outputs": [
    {
     "data": {
      "image/png": "[encoded data removed]",
      "text/plain": [
       "<Figure size 432x288 with 1 Axes>"
      ]
     },
     "metadata": {
      "needs_background": "light"
     },
     "output_type": "display_data"
    }
   ],
   "source": [
    "salary_df = combined_df[ combined_df['salary'] == 1]\n",
    "\n",
    "salary_hours_hist = salary_df['hours'].value_counts().sort_index()\n",
    "\n",
    "plt.bar(salary_hours_hist.index, salary_hours_hist,1,color=\"b\")\n",
    "plt.xlabel('Hours')\n",
    "plt.ylabel('Frequency')\n",
    "plt.title(\"Histogram: All Salary Hours\")\n",
    "plt.show()"
   ]
  },
  {
   "cell_type": "code",
   "execution_count": 11,
   "metadata": {},
   "outputs": [
    {
     "data": {
      "image/png": "[encoded data removed]",
      "text/plain": [
       "<Figure size 432x288 with 1 Axes>"
      ]
     },
     "metadata": {
      "needs_background": "light"
     },
     "output_type": "display_data"
    }
   ],
   "source": [
    "hourly_df = combined_df[ combined_df['salary'] == 0]\n",
    "\n",
    "hourly_hours_hist = hourly_df['hours'].value_counts().sort_index()\n",
    "\n",
    "plt.bar(hourly_hours_hist.index, hourly_hours_hist,1,color=\"b\")\n",
    "plt.xlabel('Hours')\n",
    "plt.ylabel('Frequency')\n",
    "plt.title(\"Histogram: All Hourly Hours\")\n",
    "plt.show()"
   ]
  },
  {
   "cell_type": "markdown",
   "metadata": {},
   "source": [
    "Include the other descriptive characteristics about the variables: Mean, Mode, Spread, and Tails(Chapter 2)"
   ]
  },
  {
   "cell_type": "code",
   "execution_count": 12,
   "metadata": {},
   "outputs": [
    {
     "name": "stdout",
     "output_type": "stream",
     "text": [
      "0.9626596576592314\n",
      "0.5\n",
      "0    0.25\n",
      "dtype: float64\n",
      "1.3170262736816314\n"
     ]
    }
   ],
   "source": [
    "print(combined_df['hours'].mean())\n",
    "print(combined_df['hours'].median())\n",
    "print(combined_df['hours'].mode())\n",
    "print(np.std(combined_df['hours']))"
   ]
  },
  {
   "cell_type": "markdown",
   "metadata": {},
   "source": [
    "Using pg. 29 of your text as an example, compare two scenarios in your data using a PMF.  Reminder, this isn’t comparing two variables against each other –it is the same variable, but a different scenario.  Almost like a filter. The example in the book is first babies compared to all other babies, it is still the same variable, but breaking the data out based on criteria we are exploring(Chapter 3)"
   ]
  },
  {
   "cell_type": "code",
   "execution_count": 16,
   "metadata": {},
   "outputs": [
    {
     "data": {
      "image/png": "[encoded data removed]",
      "text/plain": [
       "<Figure size 432x288 with 1 Axes>"
      ]
     },
     "metadata": {
      "needs_background": "light"
     },
     "output_type": "display_data"
    }
   ],
   "source": [
    "def build_pmf(input_series):\n",
    "    output_series = input_series.copy()\n",
    "    total_values = input_series.sum()\n",
    "    for value,freq in output_series.items():\n",
    "        #print(f\"{value} {freq} {total_values} {freq/total_values}\")\n",
    "        output_series.loc[value] = freq/total_values\n",
    "    return output_series\n",
    "\n",
    "# //*** Productivity Data Frame: These Jobs make the money\n",
    "billable_df = combined_df[combined_df['jobcode_2'].str.len() > 2]\n",
    "\n",
    "\n",
    "\n",
    "# //*** Overhead Work: It's Work that's gotta get done\n",
    "overhead_df = combined_df[ combined_df['jobcode_1'].str.contains(\"Gabel\",na=False) ]\n",
    "\n",
    "#print(productive_df['jobcode_1'].unique())\n",
    "#print(overhead_df['jobcode_1'].unique())\n",
    "\n",
    "total_employee_hours_distribution = []\n",
    "billable_employee_hours_distribution = []\n",
    "overhead_employee_hours_distribution = []\n",
    "salary_billable_hours_distribution = []\n",
    "salary_overhead_hours_distribution = []\n",
    "hourly_billable_hours_distribution = []\n",
    "hourly_overhead_hours_distribution = []\n",
    "\n",
    "for x in g['days_of_week']:\n",
    "    \n",
    "    # //*** Get income hours for all Employees by day\n",
    "    loop_billable = billable_df[billable_df['day'].str.contains(x) ]['hours'].sum()\n",
    "    loop_billable_salary_df = billable_df[billable_df['day'].str.contains(x) ]\n",
    "    \n",
    "    # //*** Salary Billable Hours\n",
    "    loop_salary_billable =loop_billable_salary_df[loop_billable_salary_df['salary'] == 1]['hours'].sum()\n",
    "\n",
    "    # //*** Hourly Billable Hours\n",
    "    loop_hourly_billable = loop_billable_salary_df[loop_billable_salary_df['salary'] == 0]['hours'].sum()\n",
    "    \n",
    "    \n",
    "    \n",
    "    \n",
    "    \n",
    "    # //*** Get Overhead hours for all Employees by day\n",
    "    loop_overhead = overhead_df[overhead_df['day'].str.contains(x) ]['hours'].sum()\n",
    "    loop_overhead_df = overhead_df[overhead_df['day'].str.contains(x) ]\n",
    "\n",
    "    # //*** Salary Billable Hours by day of week\n",
    "    loop_salary_overhead =loop_overhead_df[loop_overhead_df['salary'] == 1]['hours'].sum()\n",
    "    \n",
    "    # //*** Hourly Billable Hours\n",
    "    loop_hourly_overhead =loop_overhead_df[loop_overhead_df['salary'] == 0]['hours'].sum()\n",
    "    \n",
    "    \n",
    "    #print(f\"{loop_salary_billable} - {loop_hourly_billable} : {loop_salary_overhead} - {loop_hourly_overhead}\")\n",
    "    \n",
    "    # //*** Add to the lists\n",
    "    total_employee_hours_distribution.append(loop_billable + loop_overhead)\n",
    "    billable_employee_hours_distribution.append(loop_billable)\n",
    "    overhead_employee_hours_distribution.append(loop_overhead)\n",
    "    salary_billable_hours_distribution.append(loop_salary_billable) \n",
    "    salary_overhead_hours_distribution.append(loop_salary_overhead)\n",
    "    hourly_billable_hours_distribution.append(loop_hourly_billable)\n",
    "    hourly_overhead_hours_distribution.append(loop_hourly_overhead)\n",
    "\n",
    "\n",
    "total_employee_hours_distribution = pd.Series( index=g['days_of_week'], data= total_employee_hours_distribution)\n",
    "total_employee_hours_distribution_pmf = build_pmf(total_employee_hours_distribution)\n",
    "\n",
    "billable_employee_hours_distribution = pd.Series(index=g['days_of_week'], data= billable_employee_hours_distribution)\n",
    "billable_employee_hours_distribution_pmf = build_pmf(billable_employee_hours_distribution)\n",
    "\n",
    "overhead_employee_hours_distribution = pd.Series(index=g['days_of_week'], data= overhead_employee_hours_distribution)\n",
    "overhead_employee_hours_distribution_pmf = build_pmf(overhead_employee_hours_distribution)\n",
    "\n",
    "salary_billable_hours_distribution = pd.Series(index=g['days_of_week'], data= salary_billable_hours_distribution)\n",
    "salary_billable_hours_distribution = build_pmf(salary_billable_hours_distribution)\n",
    "\n",
    "salary_overhead_hours_distribution = pd.Series(index=g['days_of_week'], data= salary_overhead_hours_distribution)\n",
    "salary_overhead_hours_distribution = build_pmf(salary_overhead_hours_distribution)\n",
    "\n",
    "hourly_billable_hours_distribution = pd.Series(index=g['days_of_week'], data= hourly_billable_hours_distribution)\n",
    "hourly_billable_hours_distribution = build_pmf(hourly_billable_hours_distribution)\n",
    "\n",
    "hourly_overhead_hours_distribution = pd.Series(index=g['days_of_week'], data= hourly_overhead_hours_distribution)\n",
    "hourly_overhead_hours_distribution = build_pmf(hourly_overhead_hours_distribution)\n",
    "\n",
    "#print(total_employee_hours_distribution_pmf)\n",
    "#print(billable_employee_hours_distribution_pmf)\n",
    "#print(overhead_employee_hours_distribution_pmf)    \n",
    "#print(salary_billable_hours_distribution)    \n",
    "#print(salary_overhead_hours_distribution)    \n",
    "#print(hourly_billable_hours_distribution)    \n",
    "#print(hourly_overhead_hours_distribution)    \n",
    "\n",
    "#plt.style.use('ggplot')\n",
    "n = 5\n",
    "var1 = total_employee_hours_distribution_pmf\n",
    "var2 = billable_employee_hours_distribution_pmf\n",
    "var3 = overhead_employee_hours_distribution_pmf\n",
    "fig, ax = plt.subplots()\n",
    "index = np.arange(n)\n",
    "bar_width = 0.2\n",
    "opacity = 0.9\n",
    "ax.bar(index, var1, bar_width, alpha=opacity, color='navy',label='Total Productivity')\n",
    "                \n",
    "ax.bar(index+bar_width, var2, bar_width, alpha=opacity, color='darkcyan', label='Billable')\n",
    "ax.bar(index+(bar_width*2), var3, bar_width, alpha=opacity, color='skyblue', label='Overhead')\n",
    "plt.ylim(billable_employee_hours_distribution_pmf.min() * .95,billable_employee_hours_distribution_pmf.max() * 1.05)\n",
    "#ax.set_xlabel('Seasons')\n",
    "ax.set_ylabel('Frequencies')\n",
    "plt.title(f\"All Employee: Productivity Distribution\")\n",
    "ax.set_xticks(index + bar_width / 2)\n",
    "ax.set_xticklabels(g['days_of_week'])\n",
    "ax.legend()\n",
    "plt.show()\n",
    "    "
   ]
  },
  {
   "cell_type": "markdown",
   "metadata": {},
   "source": [
    "Create 1 CDF with one of your variables, using page 41-44 as your guide, what does this tell you about your variable and how does it address the question you are trying to answer(Chapter 4)."
   ]
  },
  {
   "cell_type": "code",
   "execution_count": 52,
   "metadata": {},
   "outputs": [
    {
     "name": "stdout",
     "output_type": "stream",
     "text": [
      "['Holiday' 'Lunch Break' 'Rest Break' 'PTO' 'Vacation']\n",
      "1071.58\n",
      "5045.8\n",
      "6086.7\n"
     ]
    },
    {
     "data": {
      "image/png": "[encoded data removed]",
      "text/plain": [
       "<Figure size 432x288 with 1 Axes>"
      ]
     },
     "metadata": {
      "needs_background": "light"
     },
     "output_type": "display_data"
    },
    {
     "data": {
      "image/png": "[encoded data removed]",
      "text/plain": [
       "<Figure size 432x288 with 1 Axes>"
      ]
     },
     "metadata": {
      "needs_background": "light"
     },
     "output_type": "display_data"
    }
   ],
   "source": [
    "# //*** Build a Cumulative Distribution Function from a Probability Mass Function\n",
    "# //*** Returns a Series\n",
    "def build_cdf(input_series):\n",
    "    # //*** If input is not panda or pd series, try to convert it\n",
    "    if not isinstance(input_series,pd.core.series.Series):\n",
    "        input_series = pd.Series(input_series)\n",
    "        \n",
    "    # //*** If input is np.Array\n",
    "    output_series = input_series.copy()\n",
    "    cumulative_value = 0\n",
    "    for value,freq in output_series.items():\n",
    "        #print(f\"{value} {freq} {cumulative_value} {freq + cumulative_value}\")\n",
    "        cumulative_value = freq + cumulative_value\n",
    "        output_series.loc[value] = cumulative_value\n",
    "    return output_series\n",
    "\n",
    "combined_employee_breaks = combined_df[ combined_df['activity'].isna() ]\n",
    "combined_employee_breaks = combined_employee_breaks[ combined_employee_breaks['billable'].isna()]\n",
    "combined_employee_breaks = combined_employee_breaks[ combined_employee_breaks['jobcode_1'] != \"K2D Consulting Engineers\"]\n",
    "print(combined_employee_breaks['jobcode_1'].unique())\n",
    "\n",
    "combined_employee_breaks_salary_1 = combined_employee_breaks[combined_employee_breaks['salary'] == 1 ]\n",
    "combined_employee_breaks_salary_0 = combined_employee_breaks[combined_employee_breaks['salary'] == 0 ]\n",
    "\n",
    "groups = combined_employee_breaks_salary_1.groupby('jobcode_1')\n",
    "\n",
    "#//Excludingg Rest Break and Lunch Break, Since these times are non-billable and tracking if this time is arbitrary.\n",
    "salary_timeoff_hours = 0\n",
    "\n",
    "#//*** get Total hours for holiday PTO and Vacation\n",
    "for group in groups:\n",
    "    if group[0] in ['Holiday','PTO','Vacation']:\n",
    "        salary_timeoff_hours += round(group[1]['hours'].sum(),2)\n",
    "\n",
    "print(salary_timeoff_hours)\n",
    "\n",
    "billable_salary_1_total = round(billable_df [billable_df['salary'] == 1 ]['hours'].sum(),2)\n",
    "print(billable_salary_1_total)\n",
    "\n",
    "overhead_salary_1_total = round(overhead_df [overhead_df['salary'] == 1 ]['hours'].sum(),2)\n",
    "\n",
    "print(overhead_salary_1_total)\n",
    "#//*** Build a salary CDF of time spent between TimeOff(Vacation, Timeoff )\n",
    "salary_time_pmf = build_pmf(pd.Series(index=['Time Off','Billable','Overhead'], data=[salary_timeoff_hours,billable_salary_1_total,overhead_salary_1_total]))\n",
    "salary_time_cdf = build_cdf(salary_time_pmf)\n",
    "\n",
    "plt.bar(salary_time_pmf.index,salary_time_pmf,1,color=\"b\")\n",
    "plt.show()\n",
    "\n",
    "plt.bar(salary_time_cdf.index,salary_time_cdf,1,color=\"b\")\n",
    "plt.show()\n"
   ]
  },
  {
   "cell_type": "code",
   "execution_count": 98,
   "metadata": {},
   "outputs": [
    {
     "data": {
      "image/png": "[encoded data removed]",
      "text/plain": [
       "<Figure size 432x288 with 1 Axes>"
      ]
     },
     "metadata": {
      "needs_background": "light"
     },
     "output_type": "display_data"
    },
    {
     "data": {
      "image/png": "[encoded data removed]",
      "text/plain": [
       "<Figure size 432x288 with 1 Axes>"
      ]
     },
     "metadata": {
      "needs_background": "light"
     },
     "output_type": "display_data"
    }
   ],
   "source": [
    "#pareto_cdf_series = scipy.stats.pareto.cdf(heights,scale=1, b=1.7)\n",
    "\n",
    "billable_value_count = billable_df['jobcode_1'].value_counts().sort_values(ascending=False)\n",
    "\n",
    "#print(billable_value_count)\n",
    "# //********************************************************************\n",
    "# //*** Build weighted values\n",
    "# //********************************************************************\n",
    "#print(f\"{billable_value_count}\")\n",
    "#print(f\"{jobcode1_value_count.index}\")\n",
    "\n",
    "# //*** Build a list of summed hours for each jobcode category\n",
    "# //*** Loop through each billable jobcode to get the total hours for that job \n",
    "billable_hours_distribution = {}\n",
    "for x in range(0,len(billable_value_count.index)):\n",
    "    loop_key = billable_value_count.index[x]\n",
    "    \n",
    "    # //*** get total hours for each job\n",
    "    billable_hours_distribution[loop_key] = combined_df[combined_df['jobcode_1'] == loop_key ]['hours'].sum()\n",
    "\n",
    "# //*************************\n",
    "# //*** Sort Billable Hours\n",
    "# //*************************\n",
    "# //*** https://www.geeksforgeeks.org/python-sort-python-dictionaries-by-key-or-value/\n",
    "# //*** Builds a sorted dictionary\n",
    "billable_hours_distribution = sorted(billable_hours_distribution.items(), key = lambda kv:(kv[1], kv[0]),reverse=True)\n",
    "jobcode1_keys = []\n",
    "jobcode1_values = []\n",
    "# //*** Pull the sorted dictionary apart\n",
    "for x in billable_hours_distribution:\n",
    "    jobcode1_keys.append(x[0])\n",
    "    jobcode1_values.append(x[1])\n",
    "\n",
    "# //*** Reassemble as an ordered pandas series\n",
    "billable_hours_distribution = pd.Series(index=jobcode1_keys, data=jobcode1_values)  \n",
    "\n",
    "# //*** Build \n",
    "qlist = []\n",
    "for x in range(0,len(billable_hours_distribution)):\n",
    "    qlist.append(x)\n",
    "# //*** Histogram with matplotlib\n",
    "plt.bar(qlist, billable_hours_distribution, 1, color='b')\n",
    "#plt.tight_layout()\n",
    "\n",
    "#plt.xticks(jobcode1_value_count_top_20.index.values, jobcode1_value_count_top_20.index, rotation='vertical')\n",
    "plt.title(f\"Jobs by Hours\")\n",
    "plt.xlabel('Unique Clients')\n",
    "plt.ylabel('Hours per each client')\n",
    "plt.show()\n",
    "\n",
    "#//*** CDF of Hours Distribution\n",
    "billable_hours_distribution_cdf = build_cdf(build_pmf(billable_hours_distribution) )\n",
    "plt.plot(qlist, billable_hours_distribution_cdf, 1, color='b')\n",
    "#plt.tight_layout()\n",
    "\n",
    "#plt.xticks(jobcode1_value_count_top_20.index.values, jobcode1_value_count_top_20.index, rotation='vertical')\n",
    "plt.title(f\"CDF Jobs by Hours\")\n",
    "plt.xlabel('Unique Clients')\n",
    "plt.ylabel('Hours per each client')\n",
    "plt.show()\n"
   ]
  },
  {
   "cell_type": "markdown",
   "metadata": {},
   "source": [
    "Plot 1 analytical distribution and provide your analysis on how it applies to the dataset you have chosen (Chapter 5"
   ]
  },
  {
   "cell_type": "code",
   "execution_count": 288,
   "metadata": {},
   "outputs": [
    {
     "data": {
      "image/png": "[encoded data removed]",
      "text/plain": [
       "<Figure size 432x288 with 1 Axes>"
      ]
     },
     "metadata": {
      "needs_background": "light"
     },
     "output_type": "display_data"
    }
   ],
   "source": [
    "#https://numpy.org/doc/stable/reference/random/generated/numpy.random.pareto.html\n",
    "a, m = 3, 10.  # shape and mode\n",
    "a, m = 1, 5\n",
    "#s = pd.Series( (np.random.pareto(a, 1000) ) * m ).value_counts().sort_index()\n",
    "s = pd.Series( (np.random.default_rng(160).pareto(a, 1000) ) * m ).value_counts().sort_index()\n",
    "s = s *10\n",
    "s = build_cdf(build_pmf(s))\n",
    "\n",
    "\n",
    "# //*** Generate a Pareto Culumlative distribution function as an np.array using a scale value of 1.7 (curve shape)\n",
    "s = pd.Series(scipy.stats.pareto.cdf(np.linspace(6,160,160),scale=6, b=1))\n",
    "s = pd.Series(scipy.stats.pareto.cdf(np.linspace(3,160,160),scale=3, b=.8))\n",
    "s = pd.Series(scipy.stats.pareto.cdf(np.linspace(3,160,160),scale=3, b=.85))\n",
    "s = pd.Series(scipy.stats.pareto.cdf(np.linspace(3,160,160),scale=3, b=.85))\n",
    "#//*** Scale and Shape, Larger the scale, the more dispersed or flatter the curve, Shape affect the rate as it approaches to 100\n",
    "\n",
    "#print(pareto_array)\n",
    "plt.plot(s.index,s,1,color=\"red\")\n",
    "plt.plot(qlist, billable_hours_distribution_cdf, 1, color='b')\n",
    "plt.show()\n",
    "#print(billable_hours_distribution)"
   ]
  },
  {
   "cell_type": "markdown",
   "metadata": {},
   "source": [
    "Create two scatter plots comparing two variables and provide your analysis on correlation and causation. Remember, covariance, Pearson’s correlation, and Non-Linear Relationships should also be considered during your analysis(Chapter 7)."
   ]
  },
  {
   "cell_type": "code",
   "execution_count": null,
   "metadata": {},
   "outputs": [],
   "source": [
    "#//Correlate Productivity between Salary Employees and Timeoff\n",
    "#//*** Compary to Hourly Employees and TimeOff"
   ]
  },
  {
   "cell_type": "markdown",
   "metadata": {},
   "source": [
    "Conduct a test on your hypothesis using one of the methods covered in Chapter 9."
   ]
  },
  {
   "cell_type": "code",
   "execution_count": null,
   "metadata": {},
   "outputs": [],
   "source": [
    "#//**** Compare Results of Correlation to Random p tests? d"
   ]
  }
 ],
 "metadata": {
  "kernelspec": {
   "display_name": "Python 3",
   "language": "python",
   "name": "python3"
  },
  "language_info": {
   "codemirror_mode": {
    "name": "ipython",
    "version": 3
   },
   "file_extension": ".py",
   "mimetype": "text/x-python",
   "name": "python",
   "nbconvert_exporter": "python",
   "pygments_lexer": "ipython3",
   "version": "3.8.3"
  }
 },
 "nbformat": 4,
 "nbformat_minor": 4
}
