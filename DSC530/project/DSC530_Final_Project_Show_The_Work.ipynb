{
 "cells": [
  {
   "cell_type": "markdown",
   "metadata": {},
   "source": [
    "Question: How Does unlimited vacation time affect productivity?"
   ]
  },
  {
   "cell_type": "code",
   "execution_count": 49,
   "metadata": {},
   "outputs": [],
   "source": [
    "def get_hist_variable_by_hours(input_df,input_primary_field):\n",
    "    input_constraint_field = 'hours'\n",
    "    \n",
    "    #//*** Get a value distribution of the primary field\n",
    "    primary_value_count = input_df[input_primary_field].value_counts().sort_values(ascending=False)\n",
    "\n",
    "    # //*** Build a list of summed constraint field(hours) for each primary_field (jobcode) category\n",
    "    # //*** Loop through each primary field value (billable jobcode ) to get the total hours for that constraint (job)\n",
    "    primary_value_distribution = {}\n",
    "    \n",
    "    for x in range(0,len(primary_value_count.index)):\n",
    "        loop_key = primary_value_count.index[x]\n",
    "    \n",
    "        # //*** get total hours for each job\n",
    "        primary_value_distribution[loop_key] = input_df[input_df[input_primary_field] == loop_key ][input_constraint_field].sum()\n",
    "    \n",
    "    # //*****************************\n",
    "    # //*** Sort by Constrained Sums\n",
    "    # //*****************************\n",
    "    # //*** https://www.geeksforgeeks.org/python-sort-python-dictionaries-by-key-or-value/\n",
    "    # //*** Builds a sorted dictionary\n",
    "    primary_value_distribution = sorted(primary_value_distribution.items(), key = lambda kv:(kv[1], kv[0]),reverse=True)\n",
    "    primary_keys = []\n",
    "    #//*** Round the hours to get a slightly better picture of the distribution\n",
    "    primary_values_munge = []\n",
    "    # //*** Pull the sorted dictionary apart\n",
    "    for x in primary_value_distribution:\n",
    "        primary_keys.append(x[0])\n",
    "        \n",
    "        #//*** Values less than 1 become 1 hour.\n",
    "        if int(x[1]) < 1:\n",
    "            primary_values_munge.append(1)\n",
    "        else:\n",
    "            primary_values_munge.append(round(x[1],0))\n",
    "\n",
    "    #//*** Return primary_field distribution as a histogram \n",
    "    return pd.Series(primary_values_munge).value_counts().sort_index()\n",
    "#//**************************************\n",
    "#//*** END get_hist_variable_by_hours\n",
    "#//**************************************\n"
   ]
  },
  {
   "cell_type": "markdown",
   "metadata": {},
   "source": [
    "Forthis project, conduct a regression analysis on either one dependent and one explanatory variable, or multiple explanatory variables(Chapter 10 & 11)"
   ]
  },
  {
   "cell_type": "code",
   "execution_count": 50,
   "metadata": {},
   "outputs": [],
   "source": [
    "import numpy as np\n",
    "import pandas as pd\n",
    "import os\n",
    "import json\n",
    "import matplotlib.pyplot as plt"
   ]
  },
  {
   "cell_type": "code",
   "execution_count": 51,
   "metadata": {},
   "outputs": [],
   "source": [
    "# //*** Define Global Values\n",
    "g = {\n",
    "    'obfuscate': {},\n",
    "    'combined_df_filename' : 'combined.dat',\n",
    "    'days_of_week' : [\"Monday\",\"Tuesday\",\"Wednesday\",\"Thursday\",\"Friday\"],\n",
    "    'person' : {}\n",
    "}\n",
    "#\"Saturday\",\"Sunday\"\n",
    "\n",
    "# //*** Load keys.json\n",
    "rawInput = \"\"\n",
    "with open('keys.json', 'r') as readfile:\n",
    "    for f in readfile.readlines():\n",
    "        rawInput = rawInput + f + \"\\n\"\n",
    "readfile.close()\n",
    "\n",
    "g['obfuscate'] = json.loads(rawInput)\n",
    "\n",
    "\n",
    "\n",
    "# //*******************************************\n",
    "# //*** Load Combined df - Master Data Frame\n",
    "# //*******************************************\n",
    "combined_df = pd.read_csv(g['combined_df_filename'])\n",
    "\n",
    "# //*** Delete First Column, I believe is a CSV artifact\n",
    "del combined_df[ combined_df.columns[0] ]\n",
    "\n",
    "# //**** Convert Local Date to Date Time Format\n",
    "# //**** Strip out exact time and keep date\n",
    "combined_df['local_date'] = combined_df['local_date'].str.replace(\" 00:00:00\",\"\")\n",
    "\n",
    "# //*** Run conversion once, ie check for timestamp property in first value\n",
    "# //*** Just a wee bit of fail safely\n",
    "if \"Timestamp\" not in str(type(combined_df['local_date'][0])):\n",
    "    # //**** Convert String to date\n",
    "    dateCol = pd.to_datetime(combined_df['local_date'], format='%Y-%m-%d')\n",
    "    \n",
    "    combined_df['local_date'] = dateCol\n",
    "    \n",
    "    \n",
    "    \n",
    "    # //*** Build Days of the Week Column as an Integer\n",
    "    combined_df['day_int'] = combined_df['local_date'].dt.dayofweek\n",
    "\n",
    "    # //*** Build Day Column as a String [ Monday ~ Sunday ]\n",
    "    # //*** Start With am empty list and convert 'day_int' column into a list of strings\n",
    "\n",
    "    day_list = []\n",
    "\n",
    "    date_dict = {0:\"Monday\",1:\"Tuesday\",2:\"Wednesday\",3:\"Thursday\",4:\"Friday\",5:\"Saturday\",6:\"Sunday\"}\n",
    "\n",
    "    for x in range(0,len(combined_df['day_int'])):\n",
    "        day_list.append(date_dict[combined_df['day_int'][x]])\n",
    "\n",
    "    # //*** Convert day_list to Series and add as 'day column'\n",
    "    combined_df['day'] = pd.Series(day_list)\n",
    "\n",
    "# //*** Remove listings where hours == 0\n",
    "combined_df =  combined_df[combined_df['hours'] > 0]"
   ]
  },
  {
   "cell_type": "code",
   "execution_count": 52,
   "metadata": {},
   "outputs": [
    {
     "name": "stdout",
     "output_type": "stream",
     "text": [
      "  local_date  hours                    jobcode_1  \\\n",
      "0 2019-01-01   8.00                      Holiday   \n",
      "1 2019-01-02   1.75                 Gabel Energy   \n",
      "2 2019-01-02   1.08  ALTUS Architecture + Design   \n",
      "3 2019-01-02   1.58                 Gabel Energy   \n",
      "4 2019-01-02   1.25        BDE Architecture Inc.   \n",
      "\n",
      "                                  jobcode_2  \\\n",
      "0                                       NaN   \n",
      "1                                       NaN   \n",
      "2  19009 - Munson Residence and Guest House   \n",
      "3                                       NaN   \n",
      "4  17214 Walnut Creek Transit Village Phase   \n",
      "\n",
      "                                     activity billable           class  \\\n",
      "0                                         NaN      NaN             NaN   \n",
      "1  Gabel: Project Coordination (non-billable)       No        Overhead   \n",
      "2                       Energy Model/Takeoffs       No     Residential   \n",
      "3                                 Gabel: Misc       No        Overhead   \n",
      "4                       Energy Model/Takeoffs      Yes  Nonresidential   \n",
      "\n",
      "                  service item emp_name  salary activities  day_int        day  \n",
      "0                          NaN    EMP_1       1        NaN        1    Tuesday  \n",
      "1                     Overhead    EMP_1       1        NaN        2  Wednesday  \n",
      "2  Energy Code Compliance Work    EMP_1       1        NaN        2  Wednesday  \n",
      "3                     Overhead    EMP_1       1        NaN        2  Wednesday  \n",
      "4  Energy Code Compliance Work    EMP_1       1        NaN        2  Wednesday  \n"
     ]
    }
   ],
   "source": [
    "print(combined_df.head())"
   ]
  },
  {
   "cell_type": "markdown",
   "metadata": {},
   "source": [
    "### A minimum of 5 variables in your dataset used during your analysis (for help with selecting, the author made his selection on page 6 of your book).  Consider what you think could have an impact on your question –remember this is never perfect, so don’t be worried if you miss one(Chapter 1) ###"
   ]
  },
  {
   "cell_type": "markdown",
   "metadata": {},
   "source": [
    "**5 Variables**\n",
    "\n",
    "Hours - Primary Variable: 272 0 hour entries. These were removed from the data set. These are likely incorrect employee entries, likely inputting the wrong job code clocking out and failing to remove the zero length job from the time tracking software.\n",
    "\n",
    "Hours / Billable\n",
    "\n",
    "Hours / Overhead\n",
    "\n",
    "Hours / Salary\n",
    "\n",
    "Hours / Hourly\n",
    "\n",
    "Hours / Jobcode 2\n",
    "\n",
    "Hours / Jobcode 1"
   ]
  },
  {
   "cell_type": "markdown",
   "metadata": {},
   "source": [
    "### Describe what the 5 variables mean in the dataset(Chapter 1) ###"
   ]
  },
  {
   "cell_type": "code",
   "execution_count": null,
   "metadata": {},
   "outputs": [],
   "source": []
  },
  {
   "cell_type": "markdown",
   "metadata": {},
   "source": [
    "### Include a histogram of each of the 5variables –in your summary and analysis, identify any outliers and explain the reasoning for them being outliers and how you believe they should be handled(Chapter 2). ###\n"
   ]
  },
  {
   "cell_type": "code",
   "execution_count": 53,
   "metadata": {},
   "outputs": [
    {
     "name": "stdout",
     "output_type": "stream",
     "text": [
      "Mean Hours: 0.9627\n",
      "Median Hours: 0.5\n",
      "Mode Hours: 0    0.25\n",
      "dtype: float64\n",
      "Spread Hours: 11.98\n",
      "Total Tasks: 23018\n"
     ]
    },
    {
     "data": {
      "image/png": "[encoded data removed]",
      "text/plain": [
       "<Figure size 432x288 with 1 Axes>"
      ]
     },
     "metadata": {
      "needs_background": "light"
     },
     "output_type": "display_data"
    }
   ],
   "source": [
    "print(f\"Mean Hours: {round(combined_df['hours'].mean(),4)}\")\n",
    "print(f\"Median Hours: {combined_df['hours'].median()}\")\n",
    "print(f\"Mode Hours: {combined_df['hours'].mode()}\")\n",
    "print(f\"Spread Hours: {combined_df['hours'].max() - combined_df['hours'].min()}\")\n",
    "print(f\"Total Tasks: {len(combined_df['hours'])}\")\n",
    "\n",
    "\n",
    "\n",
    "#//*** Get Histogram of total Hours \n",
    "total_hours_hist = combined_df['hours'].value_counts().sort_index()\n",
    "\n",
    "plt.plot(total_hours_hist.index, total_hours_hist,1,color=\"b\")\n",
    "plt.xlabel('Hours')\n",
    "plt.ylabel('Frequency')\n",
    "plt.title(\"Histogram: All Hours\")\n",
    "plt.show()\n",
    "\n"
   ]
  },
  {
   "cell_type": "code",
   "execution_count": 54,
   "metadata": {},
   "outputs": [
    {
     "data": {
      "image/png": "[encoded data removed]",
      "text/plain": [
       "<Figure size 432x288 with 1 Axes>"
      ]
     },
     "metadata": {
      "needs_background": "light"
     },
     "output_type": "display_data"
    },
    {
     "data": {
      "image/png": "[encoded data removed]",
      "text/plain": [
       "<Figure size 432x288 with 1 Axes>"
      ]
     },
     "metadata": {
      "needs_background": "light"
     },
     "output_type": "display_data"
    },
    {
     "data": {
      "image/png": "[encoded data removed]",
      "text/plain": [
       "<Figure size 432x288 with 1 Axes>"
      ]
     },
     "metadata": {
      "needs_background": "light"
     },
     "output_type": "display_data"
    },
    {
     "name": "stdout",
     "output_type": "stream",
     "text": [
      "Total Billable Hours: 7838.17\n",
      "Other Hours: 0.5084311771752845\n",
      "Company A Hours: 0.31691070747381084\n",
      "Company B Hours: 0.1746581153509046\n"
     ]
    }
   ],
   "source": [
    "# //*** Productivity Data Frame: These Jobs make the money\n",
    "billable_df = combined_df[combined_df['jobcode_2'].str.len() > 2]\n",
    "\n",
    "#//*** Histogram of all billable hours. NOT EVENly distributed\n",
    "#//*** Two Clients represent 50% of all hours. The remaining hours are split amongst many clients.\n",
    "billable_hist = get_hist_variable_by_hours(billable_df,'jobcode_1')\n",
    "\n",
    "#//*** Get hours of other clients (all hours minus the big client hours.)\n",
    "other_total_hours = billable_df['hours'].sum() - 2484 - 1369\n",
    "\n",
    "plt.bar(billable_hist.index, billable_hist,1,color=\"b\")\n",
    "plt.xlabel('Hours')\n",
    "plt.ylabel('Frequency')\n",
    "plt.title(\"Histogram: All Billable Hours (per Client)\")\n",
    "plt.show()\n",
    "\n",
    "plt.bar(billable_hist.index, billable_hist,1,color=\"b\")\n",
    "plt.xlabel('Hours')\n",
    "plt.ylabel('Frequency')\n",
    "plt.xlim(0,85)\n",
    "plt.title(\"Histogram: Billable Hours <80\\nSmaller Clients \")\n",
    "plt.show()\n",
    "\n",
    "plt.bar(['Other Clients',\"Company A\", \"Company B\"], [other_total_hours,2484,1369],1,color=\"b\")\n",
    "plt.ylabel('Hours')\n",
    "plt.title(\"Histogram: Summarized Billable Hours\")\n",
    "plt.show()\n",
    "total_billable_hours = other_total_hours +2484+1369\n",
    "print(f\"Total Billable Hours: {total_billable_hours}\")\n",
    "print(f\"Other Hours: {other_total_hours/total_billable_hours}\")\n",
    "print(f\"Company A Hours: {2484/total_billable_hours}\")\n",
    "print(f\"Company B Hours: {1369/total_billable_hours}\")\n",
    "\n"
   ]
  },
  {
   "cell_type": "code",
   "execution_count": 55,
   "metadata": {},
   "outputs": [
    {
     "data": {
      "image/png": "[encoded data removed]",
      "text/plain": [
       "<Figure size 432x288 with 1 Axes>"
      ]
     },
     "metadata": {
      "needs_background": "light"
     },
     "output_type": "display_data"
    }
   ],
   "source": [
    "# //*** Productivity Data Frame: These Jobs make the money\n",
    "billable_df = combined_df[combined_df['jobcode_2'].str.len() > 2]\n",
    "\n",
    "billable_hist = billable_df['hours'].value_counts().sort_index()\n",
    "\n",
    "plt.bar(billable_hist.index, billable_hist,1,color=\"b\")\n",
    "plt.xlabel('Hours')\n",
    "plt.ylabel('Frequency')\n",
    "plt.title(\"Histogram: All Billable Hours\")\n",
    "plt.show()"
   ]
  },
  {
   "cell_type": "code",
   "execution_count": 56,
   "metadata": {},
   "outputs": [
    {
     "name": "stdout",
     "output_type": "stream",
     "text": [
      "0.02      18\n",
      "0.03      34\n",
      "0.05      64\n",
      "0.07      69\n",
      "0.08     767\n",
      "        ... \n",
      "10.00      2\n",
      "10.13      1\n",
      "10.17      1\n",
      "10.67      1\n",
      "11.25      1\n",
      "Name: hours, Length: 275, dtype: int64\n"
     ]
    },
    {
     "data": {
      "image/png": "[encoded data removed]",
      "text/plain": [
       "<Figure size 432x288 with 1 Axes>"
      ]
     },
     "metadata": {
      "needs_background": "light"
     },
     "output_type": "display_data"
    }
   ],
   "source": [
    "# //*** Overhead Work: It's Work that's gotta get done\n",
    "overhead_df = combined_df[ combined_df['jobcode_1'].str.contains(\"Gabel\",na=False) ]\n",
    "\n",
    "overhead_hist = overhead_df['hours'].value_counts().sort_index()\n",
    "print(overhead_hist)\n",
    "plt.bar(overhead_hist.index, overhead_hist,1,color=\"b\")\n",
    "plt.xlabel('Hours')\n",
    "plt.ylabel('Frequency')\n",
    "plt.title(\"Histogram: All Overhead Hours\")\n",
    "plt.show()"
   ]
  },
  {
   "cell_type": "code",
   "execution_count": 57,
   "metadata": {},
   "outputs": [
    {
     "data": {
      "image/png": "[encoded data removed]",
      "text/plain": [
       "<Figure size 432x288 with 1 Axes>"
      ]
     },
     "metadata": {
      "needs_background": "light"
     },
     "output_type": "display_data"
    }
   ],
   "source": [
    "salary_df = combined_df[ combined_df['salary'] == 1]\n",
    "\n",
    "salary_hours_hist = salary_df['hours'].value_counts().sort_index()\n",
    "\n",
    "plt.bar(salary_hours_hist.index, salary_hours_hist,1,color=\"b\")\n",
    "plt.xlabel('Hours')\n",
    "plt.ylabel('Frequency')\n",
    "plt.title(\"Histogram: All Salary Hours\")\n",
    "plt.show()"
   ]
  },
  {
   "cell_type": "code",
   "execution_count": 58,
   "metadata": {},
   "outputs": [
    {
     "data": {
      "image/png": "[encoded data removed]",
      "text/plain": [
       "<Figure size 432x288 with 1 Axes>"
      ]
     },
     "metadata": {
      "needs_background": "light"
     },
     "output_type": "display_data"
    }
   ],
   "source": [
    "hourly_df = combined_df[ combined_df['salary'] == 0]\n",
    "\n",
    "hourly_hours_hist = hourly_df['hours'].value_counts().sort_index()\n",
    "\n",
    "plt.bar(hourly_hours_hist.index, hourly_hours_hist,1,color=\"b\")\n",
    "plt.xlabel('Hours')\n",
    "plt.ylabel('Frequency')\n",
    "plt.title(\"Histogram: All Hourly Hours\")\n",
    "plt.show()"
   ]
  },
  {
   "cell_type": "markdown",
   "metadata": {},
   "source": [
    "Include the other descriptive characteristics about the variables: Mean, Mode, Spread, and Tails(Chapter 2)"
   ]
  },
  {
   "cell_type": "code",
   "execution_count": 59,
   "metadata": {},
   "outputs": [
    {
     "name": "stdout",
     "output_type": "stream",
     "text": [
      "0.9626596576592314\n",
      "0.5\n",
      "0    0.25\n",
      "dtype: float64\n",
      "1.3170262736816314\n"
     ]
    }
   ],
   "source": [
    "print(combined_df['hours'].mean())\n",
    "print(combined_df['hours'].median())\n",
    "print(combined_df['hours'].mode())\n",
    "print(np.std(combined_df['hours']))"
   ]
  },
  {
   "cell_type": "code",
   "execution_count": 60,
   "metadata": {},
   "outputs": [
    {
     "data": {
      "image/png": "[encoded data removed]",
      "text/plain": [
       "<Figure size 432x288 with 1 Axes>"
      ]
     },
     "metadata": {
      "needs_background": "light"
     },
     "output_type": "display_data"
    }
   ],
   "source": [
    "#//*** Build a Histogram of Salary vs Hourly Productive Hours\n",
    "salary_df = combined_df[combined_df['salary'] == 1 ]\n",
    "hourly_df = combined_df[combined_df['salary'] == 0 ]\n",
    "\n",
    "salary_billable = salary_df[salary_df['jobcode_2'].isna() == False]['hours']\n",
    "salary_overhead = salary_df[ salary_df['jobcode_1'].str.contains(\"Gabel\",na=False) ]['hours']\n",
    "\n",
    "hourly_billable = hourly_df[hourly_df['jobcode_2'].isna() == False]['hours']\n",
    "hourly_overhead = hourly_df[ hourly_df['jobcode_1'].str.contains(\"Gabel\",na=False) ]['hours']\n",
    "\n",
    "#//*** Histogram of combined overhead and billable\n",
    "salary_productive = pd.Series(list(salary_overhead.values) + list(salary_billable.values)).value_counts().sort_index()\n",
    "hourly_productive = pd.Series(list(hourly_overhead.values) + list(hourly_billable.values)).value_counts().sort_index()\n",
    "\n",
    "plt.bar(salary_productive.index,salary_productive,1,label=\"Salary\")\n",
    "plt.bar(hourly_productive.index,hourly_productive,1,label=\"Hourly\")\n",
    "plt.title(\"All Productive Hours\\n(Combined Billable and Overhead Hours)\")\n",
    "plt.ylabel(\"Frequency\")\n",
    "plt.xlabel(\"Hours\")\n",
    "plt.legend()\n",
    "plt.show()\n",
    "\n",
    "\n",
    "\n",
    "#loop_billable_df = day_df[day_df['jobcode_2'].isna() == False]\n",
    "    \n",
    "#    loop_overhead_df = day_df[ day_df['jobcode_1'].str.contains(\"Gabel\",na=False) ]"
   ]
  },
  {
   "cell_type": "markdown",
   "metadata": {},
   "source": [
    "Using pg. 29 of your text as an example, compare two scenarios in your data using a PMF.  Reminder, this isn’t comparing two variables against each other –it is the same variable, but a different scenario.  Almost like a filter. The example in the book is first babies compared to all other babies, it is still the same variable, but breaking the data out based on criteria we are exploring(Chapter 3)"
   ]
  },
  {
   "cell_type": "code",
   "execution_count": 61,
   "metadata": {},
   "outputs": [
    {
     "name": "stdout",
     "output_type": "stream",
     "text": [
      "878.3900000000001 1164.85 2043.24\n",
      "525.76 754.79 1280.55\n",
      "957.9399999999999 1236.06 2194.0\n",
      "523.52 926.76 1450.28\n",
      "965.4100000000001 1216.9899999999998 2182.3999999999996\n",
      "562.28 763.42 1325.6999999999998\n",
      "1078.0700000000002 1017.35 2095.42\n",
      "624.96 791.92 1416.88\n",
      "838.42 1237.1899999999998 2075.6099999999997\n",
      "479.93000000000006 929.57 1409.5\n",
      "salary: Monday       2043.24\n",
      "Tuesday      2194.00\n",
      "Wednesday    2182.40\n",
      "Thursday     2095.42\n",
      "Friday       2075.61\n",
      "dtype: float64\n",
      "Hourly: Monday       1280.55\n",
      "Tuesday      1450.28\n",
      "Wednesday    1325.70\n",
      "Thursday     1416.88\n",
      "Friday       1409.50\n",
      "dtype: float64\n"
     ]
    },
    {
     "data": {
      "image/png": "[encoded data removed]",
      "text/plain": [
       "<Figure size 432x288 with 1 Axes>"
      ]
     },
     "metadata": {
      "needs_background": "light"
     },
     "output_type": "display_data"
    },
    {
     "data": {
      "image/png": "[encoded data removed]",
      "text/plain": [
       "<Figure size 432x288 with 1 Axes>"
      ]
     },
     "metadata": {
      "needs_background": "light"
     },
     "output_type": "display_data"
    }
   ],
   "source": [
    "def build_pmf(input_series):\n",
    "    output_series = input_series.copy()\n",
    "    total_values = input_series.sum()\n",
    "    for value,freq in output_series.items():\n",
    "        #print(f\"{value} {freq} {total_values} {freq/total_values}\")\n",
    "        output_series.loc[value] = freq/total_values\n",
    "    return output_series\n",
    "\n",
    "# //*** Productivity Data Frame: These Jobs make the money\n",
    "billable_df = combined_df[combined_df['jobcode_2'].str.len() > 2]\n",
    "\n",
    "\n",
    "\n",
    "# //*** Overhead Work: It's Work that's gotta get done\n",
    "overhead_df = combined_df[ combined_df['jobcode_1'].str.contains(\"Gabel\",na=False) ]\n",
    "\n",
    "#print(productive_df['jobcode_1'].unique())\n",
    "#print(overhead_df['jobcode_1'].unique())\n",
    "\n",
    "total_employee_hours_distribution = []\n",
    "billable_employee_hours_distribution = []\n",
    "overhead_employee_hours_distribution = []\n",
    "salary_billable_hours_distribution = []\n",
    "salary_overhead_hours_distribution = []\n",
    "hourly_billable_hours_distribution = []\n",
    "hourly_overhead_hours_distribution = []\n",
    "total_salary_productivity = []\n",
    "total_hourly_productivity = []\n",
    "\n",
    "for x in g['days_of_week']:\n",
    "    \n",
    "    # //*** Get income hours for all Employees by day\n",
    "    loop_billable = billable_df[billable_df['day'].str.contains(x) ]['hours'].sum()\n",
    "    loop_billable_salary_df = billable_df[billable_df['day'].str.contains(x) ]\n",
    "    \n",
    "    # //*** Salary Billable Hours\n",
    "    loop_salary_billable =loop_billable_salary_df[loop_billable_salary_df['salary'] == 1]['hours'].sum()\n",
    "\n",
    "    # //*** Hourly Billable Hours\n",
    "    loop_hourly_billable = loop_billable_salary_df[loop_billable_salary_df['salary'] == 0]['hours'].sum()\n",
    "    \n",
    "    \n",
    "    # //*** Get Overhead hours for all Employees by day\n",
    "    loop_overhead = overhead_df[overhead_df['day'].str.contains(x) ]['hours'].sum()\n",
    "    loop_overhead_df = overhead_df[overhead_df['day'].str.contains(x) ]\n",
    "\n",
    "    # //*** Salary Billable Hours by day of week\n",
    "    loop_salary_overhead =loop_overhead_df[loop_overhead_df['salary'] == 1]['hours'].sum()\n",
    "    \n",
    "    # //*** Hourly Billable Hours\n",
    "    loop_hourly_overhead =loop_overhead_df[loop_overhead_df['salary'] == 0]['hours'].sum()\n",
    "    \n",
    "    \n",
    "    #print(f\"{loop_salary_billable} - {loop_hourly_billable} : {loop_salary_overhead} - {loop_hourly_overhead}\")\n",
    "    \n",
    "    # //*** Add to the lists\n",
    "    total_employee_hours_distribution.append(loop_billable + loop_overhead)\n",
    "    \n",
    "    print(f\"{loop_salary_billable} {loop_salary_overhead} {loop_salary_billable + loop_salary_overhead}\" )\n",
    "    print(f\"{loop_hourly_billable} {loop_hourly_overhead} {loop_hourly_billable + loop_hourly_overhead}\")\n",
    "    \n",
    "    total_salary_productivity.append(loop_salary_billable + loop_salary_overhead)\n",
    "    total_hourly_productivity.append(loop_hourly_billable + loop_hourly_overhead)\n",
    "    \n",
    "    billable_employee_hours_distribution.append(loop_billable)\n",
    "    overhead_employee_hours_distribution.append(loop_overhead)\n",
    "    salary_billable_hours_distribution.append(loop_salary_billable) \n",
    "    salary_overhead_hours_distribution.append(loop_salary_overhead)\n",
    "    hourly_billable_hours_distribution.append(loop_hourly_billable)\n",
    "    hourly_overhead_hours_distribution.append(loop_hourly_overhead)\n",
    "\n",
    "\n",
    "total_employee_hours_distribution = pd.Series( index=g['days_of_week'], data= total_employee_hours_distribution)\n",
    "total_employee_hours_distribution_pmf = build_pmf(total_employee_hours_distribution)\n",
    "\n",
    "billable_employee_hours_distribution = pd.Series(index=g['days_of_week'], data= billable_employee_hours_distribution)\n",
    "billable_employee_hours_distribution_pmf = build_pmf(billable_employee_hours_distribution)\n",
    "\n",
    "overhead_employee_hours_distribution = pd.Series(index=g['days_of_week'], data= overhead_employee_hours_distribution)\n",
    "overhead_employee_hours_distribution_pmf = build_pmf(overhead_employee_hours_distribution)\n",
    "\n",
    "salary_billable_hours_distribution = pd.Series(index=g['days_of_week'], data= salary_billable_hours_distribution)\n",
    "salary_billable_hours_distribution = build_pmf(salary_billable_hours_distribution)\n",
    "\n",
    "salary_overhead_hours_distribution = pd.Series(index=g['days_of_week'], data= salary_overhead_hours_distribution)\n",
    "salary_overhead_hours_distribution = build_pmf(salary_overhead_hours_distribution)\n",
    "\n",
    "hourly_billable_hours_distribution = pd.Series(index=g['days_of_week'], data= hourly_billable_hours_distribution)\n",
    "hourly_billable_hours_distribution = build_pmf(hourly_billable_hours_distribution)\n",
    "\n",
    "hourly_overhead_hours_distribution = pd.Series(index=g['days_of_week'], data= hourly_overhead_hours_distribution)\n",
    "hourly_overhead_hours_distribution = build_pmf(hourly_overhead_hours_distribution)\n",
    "\n",
    "total_salary_productivity = pd.Series(index=g['days_of_week'], data= total_salary_productivity)\n",
    "total_salary_productivity_pmf = build_pmf(total_salary_productivity)\n",
    "total_hourly_productivity = pd.Series(index=g['days_of_week'], data= total_hourly_productivity)\n",
    "total_hourly_productivity_pmf = build_pmf(total_hourly_productivity)\n",
    "\n",
    "print(f\"salary: {total_salary_productivity}\")\n",
    "print(f\"Hourly: {total_hourly_productivity}\")\n",
    "\n",
    "#print(total_employee_hours_distribution_pmf)\n",
    "#print(billable_employee_hours_distribution_pmf)\n",
    "#print(overhead_employee_hours_distribution_pmf)    \n",
    "#print(salary_billable_hours_distribution)    \n",
    "#print(salary_overhead_hours_distribution)    \n",
    "#print(hourly_billable_hours_distribution)    \n",
    "#print(hourly_overhead_hours_distribution)    \n",
    "\n",
    "#plt.style.use('ggplot')\n",
    "n = 5\n",
    "var1 = total_employee_hours_distribution_pmf\n",
    "var2 = billable_employee_hours_distribution_pmf\n",
    "var3 = overhead_employee_hours_distribution_pmf\n",
    "fig, ax = plt.subplots()\n",
    "index = np.arange(n)\n",
    "bar_width = 0.2\n",
    "opacity = 0.9\n",
    "ax.bar(index, var1, bar_width, alpha=opacity, color='navy',label='Total Productivity')\n",
    "               \n",
    "ax.bar(index+bar_width, var2, bar_width, alpha=opacity, color='darkcyan', label='Billable')\n",
    "ax.bar(index+(bar_width*2), var3, bar_width, alpha=opacity, color='skyblue', label='Overhead')\n",
    "plt.ylim(billable_employee_hours_distribution_pmf.min() * .95,billable_employee_hours_distribution_pmf.max() * 1.05)\n",
    "#ax.set_xlabel('Seasons')\n",
    "ax.set_ylabel('Frequencies')\n",
    "plt.title(f\"All Employee: Productivity Distribution\")\n",
    "ax.set_xticks(index + bar_width / 2)\n",
    "ax.set_xticklabels(g['days_of_week'])\n",
    "ax.legend()\n",
    "plt.show()\n",
    "\n",
    "\n",
    "n = 5\n",
    "var1 = total_salary_productivity_pmf\n",
    "var2 = total_hourly_productivity_pmf\n",
    "#var3 = overhead_employee_hours_distribution_pmf\n",
    "fig, ax = plt.subplots()\n",
    "index = np.arange(n)\n",
    "bar_width = 0.2\n",
    "opacity = 0.9\n",
    "ax.bar(index, var1, bar_width, alpha=opacity, color='navy',label='Salary')\n",
    "               \n",
    "ax.bar(index+bar_width, var2, bar_width, alpha=opacity, color='darkred', label='Hourly')\n",
    "#ax.bar(index+(bar_width*2), var3, bar_width, alpha=opacity, color='skyblue', label='Overhead')\n",
    "plt.ylim(billable_employee_hours_distribution_pmf.min() * .95,billable_employee_hours_distribution_pmf.max() * 1.05)\n",
    "#ax.set_xlabel('Seasons')\n",
    "ax.set_ylabel('Frequencies')\n",
    "plt.title(f\"Productivity Distribution: Salary vs Hourly\")\n",
    "ax.set_xticks(index + bar_width / 2)\n",
    "ax.set_xticklabels(g['days_of_week'])\n",
    "ax.legend()\n",
    "plt.show()\n"
   ]
  },
  {
   "cell_type": "markdown",
   "metadata": {},
   "source": [
    "Create 1 CDF with one of your variables, using page 41-44 as your guide, what does this tell you about your variable and how does it address the question you are trying to answer(Chapter 4)."
   ]
  },
  {
   "cell_type": "code",
   "execution_count": 62,
   "metadata": {},
   "outputs": [
    {
     "name": "stdout",
     "output_type": "stream",
     "text": [
      "['Holiday' 'Lunch Break' 'Rest Break' 'PTO' 'Vacation']\n",
      "1071.58\n",
      "5045.8\n",
      "6086.7\n"
     ]
    },
    {
     "data": {
      "image/png": "[encoded data removed]",
      "text/plain": [
       "<Figure size 432x288 with 1 Axes>"
      ]
     },
     "metadata": {
      "needs_background": "light"
     },
     "output_type": "display_data"
    },
    {
     "data": {
      "image/png": "[encoded data removed]",
      "text/plain": [
       "<Figure size 432x288 with 1 Axes>"
      ]
     },
     "metadata": {
      "needs_background": "light"
     },
     "output_type": "display_data"
    }
   ],
   "source": [
    "# //*** Build a Cumulative Distribution Function from a Probability Mass Function\n",
    "# //*** Returns a Series\n",
    "def build_cdf(input_series):\n",
    "    # //*** If input is not panda or pd series, try to convert it\n",
    "    if not isinstance(input_series,pd.core.series.Series):\n",
    "        input_series = pd.Series(input_series)\n",
    "        \n",
    "    # //*** If input is np.Array\n",
    "    output_series = input_series.copy()\n",
    "    cumulative_value = 0\n",
    "    for value,freq in output_series.items():\n",
    "        #print(f\"{value} {freq} {cumulative_value} {freq + cumulative_value}\")\n",
    "        cumulative_value = freq + cumulative_value\n",
    "        output_series.loc[value] = cumulative_value\n",
    "    return output_series\n",
    "\n",
    "combined_employee_breaks = combined_df[ combined_df['activity'].isna() ]\n",
    "combined_employee_breaks = combined_employee_breaks[ combined_employee_breaks['billable'].isna()]\n",
    "combined_employee_breaks = combined_employee_breaks[ combined_employee_breaks['jobcode_1'] != \"K2D Consulting Engineers\"]\n",
    "print(combined_employee_breaks['jobcode_1'].unique())\n",
    "\n",
    "combined_employee_breaks_salary_1 = combined_employee_breaks[combined_employee_breaks['salary'] == 1 ]\n",
    "combined_employee_breaks_salary_0 = combined_employee_breaks[combined_employee_breaks['salary'] == 0 ]\n",
    "\n",
    "groups = combined_employee_breaks_salary_1.groupby('jobcode_1')\n",
    "\n",
    "#//Excludingg Rest Break and Lunch Break, Since these times are non-billable and tracking if this time is arbitrary.\n",
    "salary_timeoff_hours = 0\n",
    "\n",
    "#//*** get Total hours for holiday PTO and Vacation\n",
    "for group in groups:\n",
    "    if group[0] in ['Holiday','PTO','Vacation']:\n",
    "        salary_timeoff_hours += round(group[1]['hours'].sum(),2)\n",
    "\n",
    "print(salary_timeoff_hours)\n",
    "\n",
    "billable_salary_1_total = round(billable_df [billable_df['salary'] == 1 ]['hours'].sum(),2)\n",
    "print(billable_salary_1_total)\n",
    "\n",
    "overhead_salary_1_total = round(overhead_df [overhead_df['salary'] == 1 ]['hours'].sum(),2)\n",
    "\n",
    "print(overhead_salary_1_total)\n",
    "#//*** Build a salary CDF of time spent between TimeOff(Vacation, Timeoff )\n",
    "salary_time_pmf = build_pmf(pd.Series(index=['Time Off','Billable','Overhead'], data=[salary_timeoff_hours,billable_salary_1_total,overhead_salary_1_total]))\n",
    "salary_time_cdf = build_cdf(salary_time_pmf)\n",
    "\n",
    "plt.bar(salary_time_pmf.index,salary_time_pmf,1,color=\"b\")\n",
    "plt.show()\n",
    "\n",
    "plt.bar(salary_time_cdf.index,salary_time_cdf,1,color=\"b\")\n",
    "plt.show()\n"
   ]
  },
  {
   "cell_type": "code",
   "execution_count": 63,
   "metadata": {},
   "outputs": [
    {
     "data": {
      "image/png": "[encoded data removed]",
      "text/plain": [
       "<Figure size 432x288 with 1 Axes>"
      ]
     },
     "metadata": {
      "needs_background": "light"
     },
     "output_type": "display_data"
    },
    {
     "data": {
      "image/png": "[encoded data removed]",
      "text/plain": [
       "<Figure size 432x288 with 1 Axes>"
      ]
     },
     "metadata": {
      "needs_background": "light"
     },
     "output_type": "display_data"
    }
   ],
   "source": [
    "#pareto_cdf_series = scipy.stats.pareto.cdf(heights,scale=1, b=1.7)\n",
    "\n",
    "billable_value_count = billable_df['jobcode_1'].value_counts().sort_values(ascending=False)\n",
    "\n",
    "#print(billable_value_count)\n",
    "# //********************************************************************\n",
    "# //*** Build weighted values\n",
    "# //********************************************************************\n",
    "#print(f\"{billable_value_count}\")\n",
    "#print(f\"{jobcode1_value_count.index}\")\n",
    "\n",
    "# //*** Build a list of summed hours for each jobcode category\n",
    "# //*** Loop through each billable jobcode to get the total hours for that job \n",
    "billable_hours_distribution = {}\n",
    "for x in range(0,len(billable_value_count.index)):\n",
    "    loop_key = billable_value_count.index[x]\n",
    "    \n",
    "    # //*** get total hours for each job\n",
    "    billable_hours_distribution[loop_key] = combined_df[combined_df['jobcode_1'] == loop_key ]['hours'].sum()\n",
    "\n",
    "# //*************************\n",
    "# //*** Sort Billable Hours\n",
    "# //*************************\n",
    "# //*** https://www.geeksforgeeks.org/python-sort-python-dictionaries-by-key-or-value/\n",
    "# //*** Builds a sorted dictionary\n",
    "billable_hours_distribution = sorted(billable_hours_distribution.items(), key = lambda kv:(kv[1], kv[0]),reverse=True)\n",
    "jobcode1_keys = []\n",
    "jobcode1_values = []\n",
    "# //*** Pull the sorted dictionary apart\n",
    "for x in billable_hours_distribution:\n",
    "    jobcode1_keys.append(x[0])\n",
    "    jobcode1_values.append(x[1])\n",
    "\n",
    "# //*** Reassemble as an ordered pandas series\n",
    "billable_hours_distribution = pd.Series(index=jobcode1_keys, data=jobcode1_values)  \n",
    "\n",
    "# //*** Build \n",
    "qlist = []\n",
    "for x in range(0,len(billable_hours_distribution)):\n",
    "    qlist.append(x)\n",
    "# //*** Histogram with matplotlib\n",
    "plt.bar(qlist, billable_hours_distribution, 1, color='b')\n",
    "#plt.tight_layout()\n",
    "\n",
    "#plt.xticks(jobcode1_value_count_top_20.index.values, jobcode1_value_count_top_20.index, rotation='vertical')\n",
    "plt.title(f\"Jobs by Hours\")\n",
    "plt.xlabel('Unique Clients')\n",
    "plt.ylabel('Hours per each client')\n",
    "plt.show()\n",
    "\n",
    "#//*** CDF of Hours Distribution\n",
    "billable_hours_distribution_cdf = build_cdf(build_pmf(billable_hours_distribution) )\n",
    "plt.plot(qlist, billable_hours_distribution_cdf, 1, color='b')\n",
    "#plt.tight_layout()\n",
    "\n",
    "#plt.xticks(jobcode1_value_count_top_20.index.values, jobcode1_value_count_top_20.index, rotation='vertical')\n",
    "plt.title(f\"CDF Jobs by Hours\")\n",
    "plt.xlabel('Unique Clients')\n",
    "plt.ylabel('Hours per each client')\n",
    "plt.show()\n"
   ]
  },
  {
   "cell_type": "markdown",
   "metadata": {},
   "source": [
    "Plot 1 analytical distribution and provide your analysis on how it applies to the dataset you have chosen (Chapter 5"
   ]
  },
  {
   "cell_type": "code",
   "execution_count": 64,
   "metadata": {},
   "outputs": [
    {
     "data": {
      "image/png": "[encoded data removed]",
      "text/plain": [
       "<Figure size 432x288 with 1 Axes>"
      ]
     },
     "metadata": {
      "needs_background": "light"
     },
     "output_type": "display_data"
    }
   ],
   "source": [
    "import scipy.stats\n",
    "#https://numpy.org/doc/stable/reference/random/generated/numpy.random.pareto.html\n",
    "a, m = 3, 10.  # shape and mode\n",
    "a, m = 1, 5\n",
    "#s = pd.Series( (np.random.pareto(a, 1000) ) * m ).value_counts().sort_index()\n",
    "s = pd.Series( (np.random.default_rng(160).pareto(a, 1000) ) * m ).value_counts().sort_index()\n",
    "s = s *10\n",
    "s = build_cdf(build_pmf(s))\n",
    "\n",
    "\n",
    "# //*** Generate a Pareto Culumlative distribution function as an np.array using a scale value of 1.7 (curve shape)\n",
    "s = pd.Series(scipy.stats.pareto.cdf(np.linspace(6,160,160),scale=6, b=1))\n",
    "s = pd.Series(scipy.stats.pareto.cdf(np.linspace(3,160,160),scale=3, b=.8))\n",
    "s = pd.Series(scipy.stats.pareto.cdf(np.linspace(3,160,160),scale=3, b=.85))\n",
    "s = pd.Series(scipy.stats.pareto.cdf(np.linspace(3,160,160),scale=3, b=.85))\n",
    "#//*** Scale and Shape, Larger the scale, the more dispersed or flatter the curve, Shape affect the rate as it approaches to 100\n",
    "\n",
    "#print(pareto_array)\n",
    "plt.plot(s.index,s,1,color=\"red\", label=\"Pareto Distribution\")\n",
    "plt.plot(qlist, billable_hours_distribution_cdf, 1, color='b', label=\"Job Hours\")\n",
    "plt.title(\"CDF Job Hours vs Pareto Distribution\")\n",
    "plt.xlabel('Unique Clients')\n",
    "plt.ylabel('Hours per each client')\n",
    "plt.show()\n",
    "#print(billable_hours_distribution)"
   ]
  },
  {
   "cell_type": "markdown",
   "metadata": {},
   "source": [
    "Create two scatter plots comparing two variables and provide your analysis on correlation and causation. Remember, covariance, Pearson’s correlation, and Non-Linear Relationships should also be considered during your analysis(Chapter 7)."
   ]
  },
  {
   "cell_type": "code",
   "execution_count": 65,
   "metadata": {},
   "outputs": [],
   "source": [
    "#//*** Groups a df by input_groupby_col then calculates the input_sum_col.\n",
    "#//*** Valid calcs are sum,mean\n",
    "def calc_var_by_group(input_df,input_groupby_col,input_sum_col, calc=\"sum\" ):\n",
    "    \n",
    "    output = []\n",
    "    for label,loop_df in input_df.groupby(input_groupby_col):\n",
    "        \n",
    "        output.append(loop_df[input_sum_col].sum())\n",
    "    \n",
    "    if len(output) == 0:\n",
    "            return 0\n",
    "    if calc == \"sum\":\n",
    "        return pd.Series(output).sum()\n",
    "    \n",
    "    if calc == \"mean\":\n",
    "        return pd.Series(output).mean()\n",
    "#//Correlate Productivity between Salary Employees and Timeoff\n",
    "#//*** Compary to Hourly Employees and TimeOff\n",
    "\n",
    "#//*** Do a Time Series Plot Salary Productive Hours vs Timeoff\n",
    "\n",
    "year_dates = []\n",
    "\n",
    "#//*** - task_length_mean - average length of all tasks on a given day/category\n",
    "#//*** - total_hours -      total hours of all tasks on a given day/category\n",
    "#//*** - emp_hours_mean -   average total hours each employeeon a given/category (average productivity measure)\n",
    "\n",
    "day = {\n",
    "    \"salary\" : {\n",
    "        \"billable\" : {\n",
    "            \"task_length_mean\" : [],\n",
    "            \"total_hours\" : [],\n",
    "            \"emp_hours_mean\" : [],\n",
    "        },\n",
    "        \"overhead\" : {\n",
    "            \"task_length_mean\" : [],\n",
    "            \"total_hours\" : [],\n",
    "            \"emp_hours_mean\" : [],\n",
    "        },\n",
    "        \"productivity\" : {\n",
    "            \"task_length_mean\" : [],\n",
    "            \"total_hours\" : [],\n",
    "            \"emp_hours_mean\" : [],\n",
    "        },\n",
    "        \"timeoff\" : [],\n",
    "        \"emps\": {},\n",
    "    },\n",
    "    \"hourly\" : {\n",
    "        \"billable\" : {\n",
    "            \"task_length_mean\" : [],\n",
    "            \"total_hours\" : [],\n",
    "            \"emp_hours_mean\" : [],\n",
    "        },\n",
    "        \"overhead\" : {\n",
    "            \"task_length_mean\" : [],\n",
    "            \"total_hours\" : [],\n",
    "            \"emp_hours_mean\" : [],\n",
    "        },\n",
    "        \"productivity\" : {\n",
    "            \"task_length_mean\" : [],\n",
    "            \"total_hours\" : [],\n",
    "            \"emp_hours_mean\" : [],\n",
    "        },\n",
    "        \"timeoff\" : [],\n",
    "        \"emps\" : {},\n",
    "    },\n",
    "    \n",
    "}\n",
    "\n",
    "salary_emps = combined_df['emp_name'][combined_df['salary']==1].unique()\n",
    "hourly_emps = combined_df['emp_name'][combined_df['salary']==0].unique()\n",
    "\n",
    "for date,day_df in combined_df.groupby('local_date'):\n",
    "    \n",
    "    #//*** Add the Date\n",
    "    year_dates.append(date)\n",
    "    \n",
    "    #//*** Skip Weekends\n",
    "    #if len(day_df[day_df[\"day_int\"] > 4]) > 0:\n",
    "        #continue\n",
    "    \n",
    "    #print(day_df[day_df['salary']==1])\n",
    "    loop_billable_df = day_df[day_df['jobcode_2'].isna() == False]\n",
    "    \n",
    "    loop_overhead_df = day_df[ day_df['jobcode_1'].str.contains(\"Gabel\",na=False) ]\n",
    "\n",
    "    loop_vacation = day_df[ day_df['activity'].isna() ]\n",
    "    loop_vacation = loop_vacation[ loop_vacation['billable'].isna()]\n",
    "    loop_vacation = loop_vacation[ loop_vacation['jobcode_1'] != \"K2D Consulting Engineers\"]\n",
    "    \n",
    "    #this_df = loop_vacation[ loop_vacation['salary']==1 ]\n",
    "    \n",
    "    #//*** Add Vacation and PTO \n",
    "    #//*** Salary gets Vacation\n",
    "    #//*** Hourly gets PTO\n",
    "    day['salary']['timeoff'].append(loop_vacation[loop_vacation ['jobcode_1'] == \"Vacation\"]['hours'].sum())\n",
    "    day['hourly']['timeoff'].append(loop_vacation[loop_vacation ['jobcode_1'] == \"PTO\"]['hours'].sum())\n",
    "    \n",
    "    \n",
    "    #if not this_df.empty:\n",
    "        #this_df = this_df[this_df['jobcode_1']=='Vacation']\n",
    "        #print(this_df)\n",
    "    \n",
    "    \n",
    "    #//*** Get All Salary productive Hours\n",
    "    #//*** Get Mean Salary Productive Hours\n",
    "    this_df = loop_billable_df[ loop_billable_df['salary']==1 ]\n",
    "\n",
    "    #//*** Grab Values to sum for productivity\n",
    "    s_b_tlm = this_df['hours'].replace(np.nan, 0).mean()\n",
    "    s_b_th = this_df['hours'].replace(np.nan, 0).sum()\n",
    "    s_b_ehm = calc_var_by_group(this_df,'emp_name','hours',calc='mean')\n",
    "    day['salary']['billable'][\"task_length_mean\"].append(s_b_tlm)\n",
    "    day['salary']['billable'][\"total_hours\"].append(s_b_th)\n",
    "    day['salary']['billable'][\"emp_hours_mean\"].append(s_b_ehm)\n",
    "\n",
    "    this_df = loop_billable_df[ loop_billable_df['salary']==0 ]\n",
    "\n",
    "    #//*** Grab Values to sum for productivity\n",
    "    h_b_tlm = this_df['hours'].replace(np.nan, 0).mean()\n",
    "    h_b_th = this_df['hours'].replace(np.nan, 0).sum()\n",
    "    h_b_ehm = calc_var_by_group(this_df,'emp_name','hours',calc='mean')\n",
    "\n",
    "    day['hourly']['billable'][\"task_length_mean\"].append(h_b_tlm)\n",
    "    day['hourly']['billable'][\"total_hours\"].append(h_b_th)\n",
    "    day['hourly']['billable'][\"emp_hours_mean\"].append(h_b_ehm)\n",
    "\n",
    "    #//*** Overhead hours\n",
    "    this_df = loop_overhead_df[loop_overhead_df['salary']==1]\n",
    "\n",
    "    #//*** Grab Values to sum for productivity\n",
    "    s_o_tlm = this_df['hours'].replace(np.nan, 0).mean()\n",
    "    s_o_th = this_df['hours'].replace(np.nan, 0).sum()\n",
    "    s_o_ehm = calc_var_by_group(this_df,'emp_name','hours',calc='mean')\n",
    "\n",
    "    day['salary']['overhead'][\"task_length_mean\"].append(s_o_tlm)\n",
    "    day['salary']['overhead'][\"total_hours\"].append(s_o_th)\n",
    "    day['salary']['overhead'][\"emp_hours_mean\"].append(s_o_ehm)\n",
    "\n",
    "    this_df = loop_overhead_df[loop_overhead_df['salary']==0]\n",
    "    #//*** Grab Values to sum for productivity\n",
    "    h_o_tlm = this_df['hours'].replace(np.nan, 0).mean()\n",
    "    h_o_th = this_df['hours'].replace(np.nan, 0).sum()\n",
    "    h_o_ehm = calc_var_by_group(this_df,'emp_name','hours',calc='mean')\n",
    "\n",
    "    day['hourly']['overhead'][\"task_length_mean\"].append(h_o_tlm)\n",
    "    day['hourly']['overhead'][\"total_hours\"].append(h_o_th)\n",
    "    day['hourly']['overhead'][\"emp_hours_mean\"].append(h_o_ehm)\n",
    "\n",
    "    #print(f\"{s_b_tlm} {s_o_tlm} {s_b_tlm + s_o_tlm}\")\n",
    "\n",
    "    #//*** Build Productivity Values: Billable + Overhead\n",
    "    day['salary']['productivity'][\"task_length_mean\"].append( (s_b_tlm + s_o_tlm) /2 )\n",
    "    day['salary']['productivity'][\"total_hours\"].append(s_b_th + s_o_th)\n",
    "    day['salary']['productivity'][\"emp_hours_mean\"].append(s_b_ehm + s_o_ehm)\n",
    "\n",
    "    day['hourly']['productivity'][\"task_length_mean\"].append( (h_b_tlm + h_o_tlm)/2 ) \n",
    "    day['hourly']['productivity'][\"total_hours\"].append(h_b_th + h_o_th)\n",
    "    day['hourly']['productivity'][\"emp_hours_mean\"].append(h_b_ehm + h_o_ehm)\n",
    "    \n",
    "    #//*** Build individual Employee Productivity / timeoff Hours\n",
    "    \n",
    "    #//*** Employee Mode makes it easier to copy/paste duplicated code\n",
    "    emp_type = 'salary'\n",
    "    for emp in salary_emps:\n",
    "        #//*** Initialize default hour count\n",
    "        vacation_hours = 0\n",
    "        \n",
    "        emp_overhead_hours = loop_overhead_df[loop_overhead_df['emp_name']==emp ]['hours'].sum()\n",
    "        \n",
    "        emp_billable_hours = loop_billable_df[loop_billable_df['emp_name']==emp ]['hours'].sum()\n",
    "        if emp_type == 'salary':\n",
    "            emp_vacation = loop_vacation[ loop_vacation['jobcode_1']==\"Vacation\"  ]\n",
    "        else:\n",
    "            emp_vacation = loop_vacation[loop_vacation ['jobcode_1'] == \"PTO\" ]\n",
    "        \n",
    "        #//*** Get emp Vacation Hours\n",
    "        if emp in emp_vacation['emp_name'].unique():\n",
    "            vacation_hours = emp_vacation[emp_vacation['emp_name']==emp ]['hours'].sum()\n",
    "\n",
    "        #//*** Add Empty Dict if Key not exist\n",
    "        if emp not in day[emp_type][\"emps\"].keys():\n",
    "            day[emp_type][\"emps\"][emp] = {\n",
    "                \"productivity\" : [],\n",
    "                \"vacation\" : [],\n",
    "            }\n",
    "        \n",
    "        day[emp_type][\"emps\"][emp][\"vacation\"].append(vacation_hours)\n",
    "        day[emp_type][\"emps\"][emp][\"productivity\"].append( emp_overhead_hours + emp_billable_hours )\n",
    "\n",
    "    emp_type = 'hourly'\n",
    "    for emp in hourly_emps:\n",
    "        #//*** Initialize default hour count\n",
    "        vacation_hours = 0\n",
    "        \n",
    "        emp_overhead_hours = loop_overhead_df[loop_overhead_df['emp_name']==emp ]['hours'].sum()\n",
    "        \n",
    "        emp_billable_hours = loop_billable_df[loop_billable_df['emp_name']==emp ]['hours'].sum()\n",
    "        \n",
    "        if emp_type == 'salary':\n",
    "            emp_vacation = loop_vacation[ loop_vacation['jobcode_1']==\"Vacation\"  ]\n",
    "        else:\n",
    "            emp_vacation = loop_vacation[loop_vacation ['jobcode_1'] == \"PTO\" ]\n",
    "        \n",
    "        #//*** Get emp Vacation Hours\n",
    "        if emp in emp_vacation['emp_name'].unique():\n",
    "            vacation_hours = emp_vacation[emp_vacation['emp_name']==emp ]['hours'].sum()\n",
    "\n",
    "        #//*** Add Empty Dict if Key not exist\n",
    "        if emp not in day[emp_type][\"emps\"].keys():\n",
    "            day[emp_type][\"emps\"][emp] = {\n",
    "                \"productivity\" : [],\n",
    "                \"vacation\" : [],\n",
    "            }\n",
    "        \n",
    "        day[emp_type][\"emps\"][emp][\"vacation\"].append(vacation_hours)\n",
    "        day[emp_type][\"emps\"][emp][\"productivity\"].append( emp_overhead_hours + emp_billable_hours )\n",
    "        \n",
    "        \n"
   ]
  },
  {
   "cell_type": "code",
   "execution_count": 66,
   "metadata": {},
   "outputs": [
    {
     "name": "stdout",
     "output_type": "stream",
     "text": [
      "========================================================================\n",
      "Salary Billables: Mean Employee Hours - 3.39\n",
      "Salary Billables: Mean Daily Task Length - 1.28\n",
      "Salary Billables: Mean Total Daily Hours - 14.13\n",
      "========================================================================\n",
      "Hourly Billables: Mean Employee Hours - 2.89\n",
      "Hourly Billables: Mean Daily Task Length - 0.86\n",
      "Hourly Billables: Mean Total Daily Hours - 7.82\n",
      "========================================================================\n",
      "Salary Overhead: Mean Employee Hours - 3.48\n",
      "Salary Overhead: Mean Daily Task Length - 1.21\n",
      "Salary Overhead: Mean Total Daily Hours - 17.05\n",
      "========================================================================\n",
      "Hourly Overhead: Mean Employee Hours - 2.87\n",
      "Hourly Overhead: Mean Daily Task Length - 1.05\n",
      "Hourly Overhead: Mean Total Daily Hours - 11.79\n",
      "========================================================================\n",
      "Salary Productivity: Mean Employee Hours - 6.87\n",
      "Salary Productivity: Mean Daily Task Length - 1.17\n",
      "Salary Productivity: Mean Total Daily Hours - 31.18\n",
      "========================================================================\n",
      "Hourly Productivity: Mean Employee Hours - 5.76\n",
      "Hourly Productivity: Mean Daily Task Length - 0.87\n",
      "Hourly Productivity: Mean Total Daily Hours - 19.61\n",
      "========================================================================\n"
     ]
    }
   ],
   "source": [
    "print(\"========================================================================\")\n",
    "t_avg_task  = round(pd.Series(day['salary']['billable'][\"task_length_mean\"]).mean(),2)\n",
    "t_avg_hours = round(pd.Series(day['salary']['billable'][\"emp_hours_mean\"]).mean(),2)\n",
    "t_tot_hrs   = round(pd.Series(day['salary']['billable'][\"total_hours\"]).mean(),2)\n",
    "print(f\"Salary Billables: Mean Employee Hours - {t_avg_hours}\")\n",
    "print(f\"Salary Billables: Mean Daily Task Length - {t_avg_task}\")\n",
    "print(f\"Salary Billables: Mean Total Daily Hours - {t_tot_hrs}\")\n",
    "print(\"========================================================================\")\n",
    "t_avg_task  = round(pd.Series(day['hourly']['billable'][\"task_length_mean\"]).mean(),2)\n",
    "t_avg_hours = round(pd.Series(day['hourly']['billable'][\"emp_hours_mean\"]).mean(),2)\n",
    "t_tot_hrs   = round(pd.Series(day['hourly']['billable'][\"total_hours\"]).mean(),2)\n",
    "print(f\"Hourly Billables: Mean Employee Hours - {t_avg_hours}\")\n",
    "print(f\"Hourly Billables: Mean Daily Task Length - {t_avg_task}\")\n",
    "print(f\"Hourly Billables: Mean Total Daily Hours - {t_tot_hrs}\")\n",
    "print(\"========================================================================\")\n",
    "t_avg_task  = round(pd.Series(day['salary']['overhead'][\"task_length_mean\"]).mean(),2)\n",
    "t_avg_hours = round(pd.Series(day['salary']['overhead'][\"emp_hours_mean\"]).mean(),2)\n",
    "t_tot_hrs   = round(pd.Series(day['salary']['overhead'][\"total_hours\"]).mean(),2)\n",
    "print(f\"Salary Overhead: Mean Employee Hours - {t_avg_hours}\")\n",
    "print(f\"Salary Overhead: Mean Daily Task Length - {t_avg_task}\")\n",
    "print(f\"Salary Overhead: Mean Total Daily Hours - {t_tot_hrs}\")\n",
    "print(\"========================================================================\")\n",
    "t_avg_task  = round(pd.Series(day['hourly']['overhead'][\"task_length_mean\"]).mean(),2)\n",
    "t_avg_hours = round(pd.Series(day['hourly']['overhead'][\"emp_hours_mean\"]).mean(),2)\n",
    "t_tot_hrs   = round(pd.Series(day['hourly']['overhead'][\"total_hours\"]).mean(),2)\n",
    "print(f\"Hourly Overhead: Mean Employee Hours - {t_avg_hours}\")\n",
    "print(f\"Hourly Overhead: Mean Daily Task Length - {t_avg_task}\")\n",
    "print(f\"Hourly Overhead: Mean Total Daily Hours - {t_tot_hrs}\")\n",
    "print(\"========================================================================\")\n",
    "t_avg_task  = round(pd.Series(day['salary']['productivity'][\"task_length_mean\"]).mean(),2)\n",
    "t_avg_hours = round(pd.Series(day['salary']['productivity'][\"emp_hours_mean\"]).mean(),2)\n",
    "t_tot_hrs   = round(pd.Series(day['salary']['productivity'][\"total_hours\"]).mean(),2)\n",
    "print(f\"Salary Productivity: Mean Employee Hours - {t_avg_hours}\")\n",
    "print(f\"Salary Productivity: Mean Daily Task Length - {t_avg_task}\")\n",
    "print(f\"Salary Productivity: Mean Total Daily Hours - {t_tot_hrs}\")\n",
    "print(\"========================================================================\")\n",
    "t_avg_task  = round(pd.Series(day['hourly']['productivity'][\"task_length_mean\"]).mean(),2)\n",
    "t_avg_hours = round(pd.Series(day['hourly']['productivity'][\"emp_hours_mean\"]).mean(),2)\n",
    "t_tot_hrs   = round(pd.Series(day['hourly']['productivity'][\"total_hours\"]).mean(),2)\n",
    "print(f\"Hourly Productivity: Mean Employee Hours - {t_avg_hours}\")\n",
    "print(f\"Hourly Productivity: Mean Daily Task Length - {t_avg_task}\")\n",
    "print(f\"Hourly Productivity: Mean Total Daily Hours - {t_tot_hrs}\")\n",
    "print(\"========================================================================\")\n",
    "\n"
   ]
  },
  {
   "cell_type": "code",
   "execution_count": null,
   "metadata": {},
   "outputs": [],
   "source": []
  },
  {
   "cell_type": "code",
   "execution_count": 67,
   "metadata": {},
   "outputs": [
    {
     "name": "stdout",
     "output_type": "stream",
     "text": [
      "0.11005573799575538\n"
     ]
    },
    {
     "data": {
      "image/png": "[encoded data removed]",
      "text/plain": [
       "<Figure size 432x288 with 1 Axes>"
      ]
     },
     "metadata": {
      "needs_background": "light"
     },
     "output_type": "display_data"
    },
    {
     "name": "stdout",
     "output_type": "stream",
     "text": [
      "0.8405458172474254\n"
     ]
    },
    {
     "data": {
      "image/png": "[encoded data removed]",
      "text/plain": [
       "<Figure size 432x288 with 1 Axes>"
      ]
     },
     "metadata": {
      "needs_background": "light"
     },
     "output_type": "display_data"
    },
    {
     "name": "stdout",
     "output_type": "stream",
     "text": [
      "nan\n"
     ]
    },
    {
     "data": {
      "image/png": "[encoded data removed]",
      "text/plain": [
       "<Figure size 432x288 with 1 Axes>"
      ]
     },
     "metadata": {
      "needs_background": "light"
     },
     "output_type": "display_data"
    }
   ],
   "source": [
    "plt_salary=day['salary']['productivity'][\"emp_hours_mean\"]\n",
    "plt_hourly=day['hourly']['productivity'][\"emp_hours_mean\"]\n",
    "plt_sal_vac=day['salary']['timeoff']\n",
    "this_cor = np.corrcoef(plt_salary,plt_sal_vac)[0][1]\n",
    "print(this_cor)\n",
    "#plt.bar(year_dates,plt_sal_vac,1,color=\"black\",label='vacation')\n",
    "#plt.title(f\"Correlation\" )\n",
    "plt.scatter(year_dates,plt_salary,1,color=\"b\",label='salary')\n",
    "plt.scatter(year_dates,plt_hourly,1,color=\"r\",label='hourly')\n",
    "plt.legend()\n",
    "plt.ylabel(\"Hours\")\n",
    "plt.show()\n",
    "\n",
    "plt_salary=day['salary']['productivity'][\"total_hours\"]\n",
    "plt_hourly=day['hourly']['productivity'][\"total_hours\"]\n",
    "this_cor = np.corrcoef(plt_salary,plt_hourly)[0][1]\n",
    "print(this_cor)\n",
    "plt.scatter(year_dates,plt_salary,1,color=\"b\",label='salary')\n",
    "plt.scatter(year_dates,plt_hourly,1,color=\"r\",label='hourly')\n",
    "plt.show()\n",
    "\n",
    "plt_salary=day['salary']['productivity'][\"task_length_mean\"]\n",
    "plt_hourly=day['hourly']['productivity'][\"task_length_mean\"]\n",
    "this_cor = np.corrcoef(plt_salary,plt_hourly)[0][1]\n",
    "print(this_cor)\n",
    "plt.scatter(year_dates,plt_salary,1,color=\"b\",label='salary')\n",
    "plt.scatter(year_dates,plt_hourly,1,color=\"r\",label='hourly')\n",
    "plt.show()\n"
   ]
  },
  {
   "cell_type": "code",
   "execution_count": 68,
   "metadata": {},
   "outputs": [
    {
     "data": {
      "image/png": "[encoded data removed]",
      "text/plain": [
       "<Figure size 432x288 with 1 Axes>"
      ]
     },
     "metadata": {
      "needs_background": "light"
     },
     "output_type": "display_data"
    },
    {
     "data": {
      "image/png": "[encoded data removed]",
      "text/plain": [
       "<Figure size 432x288 with 1 Axes>"
      ]
     },
     "metadata": {
      "needs_background": "light"
     },
     "output_type": "display_data"
    },
    {
     "data": {
      "image/png": "[encoded data removed]",
      "text/plain": [
       "<Figure size 432x288 with 1 Axes>"
      ]
     },
     "metadata": {
      "needs_background": "light"
     },
     "output_type": "display_data"
    },
    {
     "data": {
      "image/png": "[encoded data removed]",
      "text/plain": [
       "<Figure size 432x288 with 1 Axes>"
      ]
     },
     "metadata": {
      "needs_background": "light"
     },
     "output_type": "display_data"
    },
    {
     "data": {
      "image/png": "[encoded data removed]",
      "text/plain": [
       "<Figure size 432x288 with 1 Axes>"
      ]
     },
     "metadata": {
      "needs_background": "light"
     },
     "output_type": "display_data"
    },
    {
     "data": {
      "image/png": "[encoded data removed]",
      "text/plain": [
       "<Figure size 432x288 with 1 Axes>"
      ]
     },
     "metadata": {
      "needs_background": "light"
     },
     "output_type": "display_data"
    }
   ],
   "source": [
    "\n",
    "plt_salary=day['salary']['billable'][\"emp_hours_mean\"]\n",
    "plt_hourly=day['hourly']['billable'][\"emp_hours_mean\"]\n",
    "plt.scatter(year_dates,plt_salary,1,color=\"b\")\n",
    "plt.scatter(year_dates,plt_hourly,1,color=\"r\")\n",
    "plt.show()\n",
    "\n",
    "plt_salary=day['salary']['billable'][\"total_hours\"]\n",
    "plt_hourly=day['hourly']['billable'][\"total_hours\"]\n",
    "plt.scatter(year_dates,plt_salary,1,color=\"b\")\n",
    "plt.scatter(year_dates,plt_hourly,1,color=\"r\")\n",
    "plt.show()\n",
    "\n",
    "plt_salary=day['salary']['billable'][\"task_length_mean\"]\n",
    "plt_hourly=day['hourly']['billable'][\"task_length_mean\"]\n",
    "plt.scatter(year_dates,plt_salary,1,color=\"b\")\n",
    "plt.scatter(year_dates,plt_hourly,1,color=\"r\")\n",
    "plt.show()\n",
    "\n",
    "plt_salary=day['salary']['overhead'][\"emp_hours_mean\"]\n",
    "plt_hourly=day['hourly']['overhead'][\"emp_hours_mean\"]\n",
    "plt.scatter(year_dates,plt_salary,1,color=\"b\")\n",
    "plt.scatter(year_dates,plt_hourly,1,color=\"r\")\n",
    "plt.show()\n",
    "\n",
    "plt_salary=day['salary']['overhead'][\"total_hours\"]\n",
    "plt_hourly=day['hourly']['overhead'][\"total_hours\"]\n",
    "plt.scatter(year_dates,plt_salary,1,color=\"b\")\n",
    "plt.scatter(year_dates,plt_hourly,1,color=\"r\")\n",
    "plt.show()\n",
    "\n",
    "plt_salary=day['salary']['overhead'][\"task_length_mean\"]\n",
    "plt_hourly=day['hourly']['overhead'][\"task_length_mean\"]\n",
    "plt.scatter(year_dates,plt_salary,1,color=\"b\")\n",
    "plt.scatter(year_dates,plt_hourly,1,color=\"r\")\n",
    "plt.show()\n"
   ]
  },
  {
   "cell_type": "code",
   "execution_count": 69,
   "metadata": {},
   "outputs": [
    {
     "data": {
      "image/png": "[encoded data removed]",
      "text/plain": [
       "<Figure size 432x288 with 1 Axes>"
      ]
     },
     "metadata": {
      "needs_background": "light"
     },
     "output_type": "display_data"
    },
    {
     "name": "stdout",
     "output_type": "stream",
     "text": [
      "[[1.         0.02271645]\n",
      " [0.02271645 1.        ]]\n"
     ]
    }
   ],
   "source": [
    "plt_salary=day['salary']['productivity'][\"total_hours\"]\n",
    "plt_timeoff=day['salary']['timeoff']\n",
    "#plt_hourly=day['hourly']['timeoff']\n",
    "#plt.bar(year_dates,plt_sal_vac,1,color=\"black\",label='vacation')\n",
    "plt.scatter(year_dates,plt_salary,1,color=\"b\",label='salary')\n",
    "plt.bar(year_dates,plt_timeoff,1,color=\"gray\",label='hourly')\n",
    "plt.legend()\n",
    "plt.ylabel(\"Hours\")\n",
    "plt.show()\n",
    "\n",
    "print(np.corrcoef(day['salary']['productivity'][\"total_hours\"],day['salary']['timeoff']))"
   ]
  },
  {
   "cell_type": "code",
   "execution_count": 70,
   "metadata": {},
   "outputs": [],
   "source": [
    "# //**** Legends automatically generate too many labels.\n",
    "def deduplicate_legend(input_ax):\n",
    "    # //**** Get handle and label list for the current legend\n",
    "    # //**** Use first instance, toss the rest.\n",
    "    handles, labels = input_ax.get_legend_handles_labels()\n",
    "\n",
    "    handle_dict = {}\n",
    "\n",
    "    for x in range(len(labels)):\n",
    "        if labels[x] not in handle_dict.keys():\n",
    "            # //*** Label = handle\n",
    "            handle_dict[labels[x]] = handles[x]\n",
    "\n",
    "    # //*** Build unique output ists and handles\n",
    "    out_handles = []\n",
    "    out_labels = []\n",
    "    \n",
    "    for label,handle in handle_dict.items():\n",
    "        out_handles.append(handle)\n",
    "        out_labels.append(label)\n",
    "    \n",
    "    return out_handles,out_labels"
   ]
  },
  {
   "cell_type": "code",
   "execution_count": 71,
   "metadata": {},
   "outputs": [
    {
     "data": {
      "image/png": "[encoded data removed]",
      "text/plain": [
       "<Figure size 432x288 with 1 Axes>"
      ]
     },
     "metadata": {
      "needs_background": "light"
     },
     "output_type": "display_data"
    },
    {
     "data": {
      "image/png": "[encoded data removed]",
      "text/plain": [
       "<Figure size 432x288 with 1 Axes>"
      ]
     },
     "metadata": {
      "needs_background": "light"
     },
     "output_type": "display_data"
    }
   ],
   "source": [
    "#//*** Plot Salary individual Productive Hours vs Vacation\n",
    "salary_cors = []\n",
    "fig,ax = plt.subplots()\n",
    "for emp in salary_emps:\n",
    "    #print(day['salary'][\"emps\"][emp][productivity])\n",
    "    plt_prod = day['salary'][\"emps\"][emp][\"productivity\"]\n",
    "    plt_vacation= day['salary'][\"emps\"][emp][\"vacation\"]\n",
    "    ax.scatter(year_dates,plt_prod,1,\"black\",label=\"Productive Hours\")\n",
    "    ax.scatter(year_dates,plt_vacation,1,\"red\",label=\"Vacation\")\n",
    "    ax.scatter(year_dates,plt_vacation,1,\"red\")\n",
    "    ax.scatter(year_dates,plt_vacation,1,\"red\")\n",
    "\n",
    "    salary_cors.append((np.corrcoef(plt_vacation,plt_prod)[0][1]))\n",
    "    \n",
    "handles,labels = deduplicate_legend(ax)\n",
    "plt.title(\"All Individual Salary Hours vs Vacation\")\n",
    "plt.ylabel(\"Hours\")\n",
    "plt.legend(handles,labels )\n",
    "plt.show()\n",
    "\n",
    "hourly_cors = []\n",
    "fig,ax = plt.subplots()\n",
    "for emp in hourly_emps:\n",
    "    #print(day['salary'][\"emps\"][emp][productivity])\n",
    "    plt_prod = day['hourly'][\"emps\"][emp][\"productivity\"]\n",
    "    plt_vacation= day['hourly'][\"emps\"][emp][\"vacation\"]\n",
    "    ax.scatter(year_dates,plt_prod,1,\"blue\",label=\"Salary Productive Hours\")\n",
    "    ax.scatter(year_dates,plt_vacation,1,\"red\",label=\"Vacation\")\n",
    "    ax.scatter(year_dates,plt_vacation,1,\"red\")\n",
    "    ax.scatter(year_dates,plt_vacation,1,\"red\")\n",
    "    if pd.Series(plt_vacation).sum() > 0:\n",
    "        hourly_cors.append((np.corrcoef(plt_vacation,plt_prod)[0][1]))\n",
    "handles,labels = deduplicate_legend(ax)\n",
    "plt.title(\"All Individual Hourly Hours vs Vacation\")\n",
    "plt.ylabel(\"Hours\")\n",
    "plt.legend(handles,labels )\n",
    "    \n",
    "plt.show()\n",
    "\n"
   ]
  },
  {
   "cell_type": "code",
   "execution_count": 72,
   "metadata": {},
   "outputs": [
    {
     "name": "stdout",
     "output_type": "stream",
     "text": [
      "Salary:\n",
      "-0.327714453424011\n",
      "-0.2725834641972188\n",
      "-0.0889985026497809\n",
      "-0.338397117718373\n",
      "-0.2804010721745739\n",
      "-0.18040137319920707\n",
      "Salary Mean Correlation: -0.2480826638938608\n",
      "Hourly:\n",
      "-0.27818688830287797\n",
      "-0.13396014155704877\n",
      "-0.10876369493391426\n",
      "-0.28476914860412805\n",
      "-0.043119729105559154\n",
      "Mean Correlation: -0.16975992050070565\n"
     ]
    }
   ],
   "source": [
    "#//*** Look at Salary vs Hourly Correlations\n",
    "print(\"Salary:\")\n",
    "for x in range(len(salary_cors)):\n",
    "    print(salary_cors[x])\n",
    "    \n",
    "print(f\"Salary Mean Correlation: {pd.Series(salary_cors).mean()}\")\n",
    "print(\"Hourly:\")\n",
    "for cor in hourly_cors:\n",
    "    print(cor)\n",
    "print(f\"Mean Correlation: {pd.Series(hourly_cors).mean()}\")\n"
   ]
  },
  {
   "cell_type": "markdown",
   "metadata": {},
   "source": [
    "Conduct a test on your hypothesis using one of the methods covered in Chapter 9."
   ]
  },
  {
   "cell_type": "code",
   "execution_count": 73,
   "metadata": {},
   "outputs": [
    {
     "name": "stdout",
     "output_type": "stream",
     "text": [
      "====================================\n",
      "Salary - Vacation Productivity Correlation\n",
      "EMP_1 -  -0.327714453424011\n",
      "====================================\n",
      "Lag Day(s): 1 - -0.2569218668004691\n",
      "Lag Day(s): 7 - -0.000688581781080181\n",
      "Lag Day(s): 14 - 0.16891239584637527\n",
      "Lag Day(s): 30 - 0.020820627934007373\n",
      "Lag Day(s): 60 - -0.0010178650843009577\n",
      "Lag Day(s): 90 - -0.013881107412249466\n",
      "Lag Day(s): 180 - 0.02649270056897551\n",
      "====================================\n",
      "Salary - Vacation Productivity Correlation\n",
      "EMP_2 -  -0.2725834641972188\n",
      "====================================\n",
      "Lag Day(s): 1 - -0.16444072191160883\n",
      "Lag Day(s): 7 - 0.10436947254781348\n",
      "Lag Day(s): 14 - 0.004329612473053029\n",
      "Lag Day(s): 30 - 0.07858483514328996\n",
      "Lag Day(s): 60 - -0.08530052669543851\n",
      "Lag Day(s): 90 - 0.0264842132134322\n",
      "Lag Day(s): 180 - 0.13233464609422982\n",
      "====================================\n",
      "Salary - Vacation Productivity Correlation\n",
      "EMP_6 -  -0.0889985026497809\n",
      "====================================\n",
      "Lag Day(s): 1 - -0.06214784298615789\n",
      "Lag Day(s): 7 - 0.024711423381506635\n",
      "Lag Day(s): 14 - -0.021032549972780673\n",
      "Lag Day(s): 30 - 0.0684731816880523\n",
      "Lag Day(s): 60 - -0.002505749671990143\n",
      "Lag Day(s): 90 - 0.05965411136491178\n",
      "Lag Day(s): 180 - -0.014514762137880303\n",
      "====================================\n",
      "Salary - Vacation Productivity Correlation\n",
      "EMP_8 -  -0.338397117718373\n",
      "====================================\n",
      "Lag Day(s): 1 - -0.2136607778172929\n",
      "Lag Day(s): 7 - 0.0750341116327751\n",
      "Lag Day(s): 14 - 0.04296174176670022\n",
      "Lag Day(s): 30 - -0.10416721256222988\n",
      "Lag Day(s): 60 - 0.008937281560401158\n",
      "Lag Day(s): 90 - 0.10484437874914522\n",
      "Lag Day(s): 180 - -0.04582507066515216\n",
      "====================================\n",
      "Salary - Vacation Productivity Correlation\n",
      "EMP_11 -  -0.2804010721745739\n",
      "====================================\n",
      "Lag Day(s): 1 - -0.19844394315021865\n",
      "Lag Day(s): 7 - 0.028111222606735643\n",
      "Lag Day(s): 14 - 0.10643858211607002\n",
      "Lag Day(s): 30 - 0.0007086202946926893\n",
      "Lag Day(s): 60 - -0.04210719047478268\n",
      "Lag Day(s): 90 - 0.03547247657357772\n",
      "Lag Day(s): 180 - -0.08955275811287935\n",
      "====================================\n",
      "Salary - Vacation Productivity Correlation\n",
      "EMP_12 -  -0.18040137319920707\n",
      "====================================\n",
      "Lag Day(s): 1 - -0.10352066579554248\n",
      "Lag Day(s): 7 - 0.09096700014924929\n",
      "Lag Day(s): 14 - 0.029115301390180193\n",
      "Lag Day(s): 30 - -0.025222969105197415\n",
      "Lag Day(s): 60 - -0.08257397099108571\n",
      "Lag Day(s): 90 - 0.007483417034128201\n",
      "Lag Day(s): 180 - -0.11410081055164664\n",
      "====================================\n",
      "Hourly - Vacation Productivity Correlation\n",
      "EMP_3 -  -0.27818688830287797\n",
      "====================================\n",
      "Lag Day(s): 1 - -0.04883617911577622\n",
      "Lag Day(s): 7 - 0.11640358704374676\n",
      "Lag Day(s): 14 - 0.17159905576719778\n",
      "Lag Day(s): 30 - -0.017433414889413572\n",
      "Lag Day(s): 60 - -0.15375260998784382\n",
      "Lag Day(s): 90 - 0.13701869998638774\n",
      "Lag Day(s): 180 - 0.015324385888837949\n",
      "====================================\n",
      "Hourly - Vacation Productivity Correlation\n",
      "EMP_4 -  -0.13396014155704877\n",
      "====================================\n",
      "Lag Day(s): 1 - -0.10484266541390969\n",
      "Lag Day(s): 7 - 0.06568480188798835\n",
      "Lag Day(s): 14 - 0.035387688062188644\n",
      "Lag Day(s): 30 - 0.04091731655048067\n",
      "Lag Day(s): 60 - -0.038085818332827565\n",
      "Lag Day(s): 90 - -0.01397633418405895\n",
      "Lag Day(s): 180 - -0.1124450301885411\n",
      "====================================\n",
      "Hourly - Vacation Productivity Correlation\n",
      "EMP_5 -  -0.10876369493391426\n",
      "====================================\n",
      "Lag Day(s): 1 - 0.026156107860097887\n",
      "Lag Day(s): 7 - 0.06581666288188802\n",
      "Lag Day(s): 14 - 0.07668180903091995\n",
      "Lag Day(s): 30 - -0.005211095239835969\n",
      "Lag Day(s): 60 - -0.048364195226747515\n",
      "Lag Day(s): 90 - 0.0039573416994294645\n",
      "Lag Day(s): 180 - 0.08981341333842871\n",
      "====================================\n",
      "Hourly - Vacation Productivity Correlation\n",
      "EMP_7 -  -0.28476914860412805\n",
      "====================================\n",
      "Lag Day(s): 1 - -0.225191998105904\n",
      "Lag Day(s): 7 - 0.09232398106901407\n",
      "Lag Day(s): 14 - 0.06268777048773536\n",
      "Lag Day(s): 30 - -0.1118351790877448\n",
      "Lag Day(s): 60 - 0.045741478512405155\n",
      "Lag Day(s): 90 - 0.008124041667367918\n",
      "Lag Day(s): 180 - 0.04681131064092202\n",
      "====================================\n",
      "Hourly - Vacation Productivity Correlation\n",
      "EMP_9 -  nan\n",
      "====================================\n",
      "Lag Day(s): 1 - nan\n",
      "Lag Day(s): 7 - nan\n",
      "Lag Day(s): 14 - nan\n",
      "Lag Day(s): 30 - nan\n",
      "Lag Day(s): 60 - nan\n",
      "Lag Day(s): 90 - nan\n",
      "Lag Day(s): 180 - nan\n",
      "====================================\n",
      "Hourly - Vacation Productivity Correlation\n",
      "EMP_10 -  -0.043119729105559154\n",
      "====================================\n",
      "Lag Day(s): 1 - 0.025798493666679263\n",
      "Lag Day(s): 7 - 0.12901564429126655\n",
      "Lag Day(s): 14 - 0.18709761496224947\n",
      "Lag Day(s): 30 - -0.007382319062536005\n",
      "Lag Day(s): 60 - 0.08500782681685781\n",
      "Lag Day(s): 90 - 0.22245653176781313\n",
      "Lag Day(s): 180 - nan\n"
     ]
    },
    {
     "name": "stderr",
     "output_type": "stream",
     "text": [
      "C:\\Users\\newcomb\\anaconda3\\lib\\site-packages\\numpy\\lib\\function_base.py:2534: RuntimeWarning: invalid value encountered in true_divide\n",
      "  c /= stddev[:, None]\n",
      "C:\\Users\\newcomb\\anaconda3\\lib\\site-packages\\numpy\\lib\\function_base.py:2535: RuntimeWarning: invalid value encountered in true_divide\n",
      "  c /= stddev[None, :]\n"
     ]
    }
   ],
   "source": [
    "#Try Serial Correlation\n",
    "def serial_correlation_two_values(input_data1,input_data2,input_lag):\n",
    "        #//*** Calculate the correlation between a variable and the offset (lag) of anoth. \n",
    "        #//*** A lag of 1, correlates with the previous value. This is exactly what we did with the COVID algorithm\n",
    "        #//*** Automatically convert data1 to Series if needed\n",
    "        if isinstance(input_data1, pd.Series) == False:\n",
    "            input_data1 = pd.Series(data=input_data1)\n",
    "        if isinstance(input_data2, pd.Series) == False:\n",
    "            input_data2 = pd.Series(data=input_data2)\n",
    "\n",
    "        #//*** Trim lag length from data\n",
    "        #base_data = input_data1[input_lag:].copy()\n",
    "        #//***\n",
    "        base_data = input_data1[input_lag:].copy()\n",
    "        #//*** Trim lag length from data, pd.Series.shift takes lag values from the top and append to the bottom.\n",
    "        #//*** pd.Series does most of the index handling for us\n",
    "        input_data2 = input_data2.shift(input_lag)[input_lag:].copy()\n",
    "        input_data1 = base_data.copy()\n",
    "        return np.corrcoef(input_data1,input_data2)[0][1]\n",
    "\n",
    "#print(day['salary']['emps'][ salary_emps[0] ]['productivity'] ) \n",
    "#print()\n",
    "\n",
    "for emp in salary_emps:\n",
    "    cor1 = day['salary']['emps'][ emp ]['vacation']\n",
    "    cor2 = day['salary']['emps'][ emp  ]['productivity']\n",
    "    vacation_cor = np.corrcoef(cor1,cor2)[0][1]\n",
    "    \n",
    "    print(\"====================================\")\n",
    "    print(\"Salary - Vacation Productivity Correlation\")\n",
    "    print(f\"{emp} -  {vacation_cor}\")\n",
    "    print(\"====================================\")\n",
    "    for x in [1,7,14,30,60,90,180]:\n",
    "        print(f\"Lag Day(s): {x} - {serial_correlation_two_values(cor1,cor2,x)}\"  )\n",
    "\n",
    "for emp in hourly_emps:\n",
    "    cor1 = day['hourly']['emps'][ emp ]['vacation']\n",
    "    cor2 = day['hourly']['emps'][ emp  ]['productivity']\n",
    "    vacation_cor = np.corrcoef(cor1,cor2)[0][1]\n",
    "    \n",
    "    print(\"====================================\")\n",
    "    print(\"Hourly - Vacation Productivity Correlation\")\n",
    "    print(f\"{emp} -  {vacation_cor}\")\n",
    "    print(\"====================================\")\n",
    "    for x in [1,7,14,30,60,90,180]:\n",
    "        print(f\"Lag Day(s): {x} - {serial_correlation_two_values(cor1,cor2,x)}\"  )\n",
    "    \n",
    "    \n",
    "        "
   ]
  },
  {
   "cell_type": "code",
   "execution_count": 74,
   "metadata": {},
   "outputs": [
    {
     "name": "stdout",
     "output_type": "stream",
     "text": [
      "Correlate Total Hours Worked with Timeoff\n",
      "0.02271645175145476\n",
      "-0.005884351719428202\n",
      "Correlate: Daily Hours Worked with timeoff\n",
      "0.11005573799575538\n",
      "0.056017682386859294\n"
     ]
    }
   ],
   "source": [
    "print(\"Correlate Total Hours Worked with Timeoff\")\n",
    "cor1=day['salary']['productivity'][\"total_hours\"]\n",
    "cor2=day['salary']['timeoff']\n",
    "print(np.corrcoef(cor1,cor2)[0][1])\n",
    "\n",
    "\n",
    "cor1=day['hourly']['productivity'][\"total_hours\"]\n",
    "cor2=day['hourly']['timeoff']\n",
    "print(np.corrcoef(cor1,cor2)[0][1])\n",
    "\n",
    "\n",
    "print(\"Correlate: Daily Hours Worked with timeoff\")\n",
    "cor1=day['salary']['productivity'][\"emp_hours_mean\"]\n",
    "cor2=day['salary']['timeoff']\n",
    "print(np.corrcoef(cor1,cor2)[0][1])\n",
    "\n",
    "\n",
    "cor1=day['hourly']['productivity'][\"emp_hours_mean\"]\n",
    "cor2=day['hourly']['timeoff']\n",
    "print(np.corrcoef(cor1,cor2)[0][1])\n"
   ]
  },
  {
   "cell_type": "code",
   "execution_count": 75,
   "metadata": {},
   "outputs": [
    {
     "name": "stdout",
     "output_type": "stream",
     "text": [
      "Salary Employee: EMP_1 - -0.327714453424011 p-Val: 0.0001\n",
      "Salary Employee: EMP_2 - -0.2725834641972188 p-Val: 0.0001\n",
      "Salary Employee: EMP_6 - -0.0889985026497809 p-Val: 0.0901\n",
      "Salary Employee: EMP_8 - -0.338397117718373 p-Val: 0.0001\n",
      "Salary Employee: EMP_11 - -0.2804010721745739 p-Val: 0.0001\n",
      "Salary Employee: EMP_12 - -0.18040137319920707 p-Val: 0.0001\n",
      "Hourly Employee: EMP_3 - -0.27818688830287797 p-Val: 0.0001\n",
      "Hourly Employee: EMP_4 - -0.13396014155704877 p-Val: 0.0301\n",
      "Hourly Employee: EMP_5 - -0.10876369493391426 p-Val: 0.0101\n",
      "Hourly Employee: EMP_7 - -0.28476914860412805 p-Val: 0.0001\n",
      "Hourly Employee: EMP_9 - nan p-Val: 0.0001\n",
      "Hourly Employee: EMP_10 - -0.043119729105559154 p-Val: 0.4201\n"
     ]
    }
   ],
   "source": [
    "#//*** Resample Salary and Hourly and generate an estimated P value\n",
    "import random\n",
    "#//*** Takes a Series \n",
    "def get_weighted_resample(input_series,input_cdf):\n",
    "    \n",
    "        \n",
    "        \n",
    "        #//*** Generate Weighted percentages within the range of the CDF\n",
    "        random_weights = [ random.uniform(input_cdf.min(),input_cdf.max()) for __ in range(len(input_series)) ]\n",
    "\n",
    "        #//*** Convert List of Random weights into values from the CDF.\n",
    "        resample = pd.Series(random.choices(list(input_series),weights=random_weights,k=len(input_series)))\n",
    "        return resample\n",
    "\n",
    "for emp in salary_emps:\n",
    "    actual_vacation = pd.Series(day['salary']['emps'][ emp ]['vacation'])\n",
    "    actual_hours = pd.Series(day['salary']['emps'][ emp  ]['productivity'])\n",
    "    \n",
    "    vacation_cdf = actual_vacation.value_counts().sort_index()\n",
    "    hours_cdf = actual_hours.value_counts().sort_index()\n",
    "    \n",
    "    baseline_cor = np.corrcoef(actual_vacation,actual_hours)[0][1]\n",
    "    #print(f\"BaseLine: {abs(baseline_cor)}\")\n",
    "    \n",
    "    #//*** Perform Random Tests. Get the percentage of random correlations that are\n",
    "    #//*** Greater than the observed (baseline) value\n",
    "    test_total = 100\n",
    "    null_count = .01\n",
    "    for test in range(test_total):\n",
    "        random_vacation = get_weighted_resample(actual_vacation,vacation_cdf)\n",
    "        random_hours = get_weighted_resample(actual_hours,hours_cdf)\n",
    "        random_cor = np.corrcoef(random_vacation,random_hours)[0][1]\n",
    "        if abs(baseline_cor) < abs(random_cor):\n",
    "            #print(f\"{abs(baseline_cor)} < {abs(random_cor)} - {abs(baseline_cor) < abs(random_cor)}\")\n",
    "            null_count +=1\n",
    "        \n",
    "    p_value = null_count / test_total\n",
    "    \n",
    "    print(f\"Salary Employee: {emp} - {baseline_cor} p-Val: {p_value}\")\n",
    "\n",
    "for emp in hourly_emps:\n",
    "    actual_vacation = pd.Series(day['hourly']['emps'][ emp ]['vacation'])\n",
    "    actual_hours = pd.Series(day['hourly']['emps'][ emp  ]['productivity'])\n",
    "    \n",
    "    vacation_cdf = actual_vacation.value_counts().sort_index()\n",
    "    hours_cdf = actual_hours.value_counts().sort_index()\n",
    "    \n",
    "    baseline_cor = np.corrcoef(actual_vacation,actual_hours)[0][1]\n",
    "    #print(f\"BaseLine: {abs(baseline_cor)}\")\n",
    "    \n",
    "    #//*** Perform Random Tests. Get the percentage of random correlations that are\n",
    "    #//*** Greater than the observed (baseline) value\n",
    "    test_total = 100\n",
    "    null_count = .01\n",
    "    for test in range(test_total):\n",
    "        random_vacation = get_weighted_resample(actual_vacation,vacation_cdf)\n",
    "        random_hours = get_weighted_resample(actual_hours,hours_cdf)\n",
    "        random_cor = np.corrcoef(random_vacation,random_hours)[0][1]\n",
    "        if abs(baseline_cor) < abs(random_cor):\n",
    "            #print(f\"{abs(baseline_cor)} < {abs(random_cor)} - {abs(baseline_cor) < abs(random_cor)}\")\n",
    "            null_count +=1\n",
    "        \n",
    "    p_value = null_count / test_total\n",
    "    \n",
    "    print(f\"Hourly Employee: {emp} - {baseline_cor} p-Val: {p_value}\")\n",
    "    \n",
    "    \n",
    "    \n",
    "        \n"
   ]
  },
  {
   "cell_type": "code",
   "execution_count": 76,
   "metadata": {},
   "outputs": [],
   "source": [
    "#//*********************************************************************\n",
    "#//*** Quick regression model results using patsy formula.\n",
    "#//*********************************************************************\n",
    "#//*** input_dict kwargs:\n",
    "#//*** summary (boolean) - Display a summary evaluation of the model\n",
    "#//*** pval (boolean) - Display the p-value of the model\n",
    "#//*** getrsquared (boolean) - returns the r**2 value of the model\n",
    "#//*** getpvalue (boolean) - returns the p value of the model\n",
    "#//*** getmodel (boolean) - returns the model\n",
    "#//*** method (string) - model type to run\n",
    "#//***       ols (default) - Ordinary Least Squares (linear regression)\n",
    "#//***       poisson - Poisson regression\n",
    "#//***       logit - logistic regression.\n",
    "#//*** Single output are returned as a single tyoe\n",
    "#//*** Multiple outots return as a string in the following order: rsquared, pvalue, model\n",
    "#//*****************************************************************************************\n",
    "def qmodel_patsy_ols(df,formula,**input_dict):\n",
    "    #//*** Check that Statsmodel is loaded.\n",
    "    #//*** Requires the sys library which imports if not in use.\n",
    "    try:\n",
    "        if 'sys' not in sys.modules:\n",
    "            print(f\"{sys.modules}\")\n",
    "        else:\n",
    "            import sys\n",
    "    except:\n",
    "        import sys\n",
    "\n",
    "    if 'sm' not in sys.modules:\n",
    "        try:\n",
    "            import statsmodels.api as sm\n",
    "        except:\n",
    "            print(f\"This Function requires the 'statsmodel' library to be installed\")\n",
    "            return\n",
    "    if 'sm' not in sys.modules:\n",
    "        try:\n",
    "            import statsmodels.formula.api as smf\n",
    "        except:\n",
    "            print(f\"This Function requires the 'statsmodel' library to be installed\")\n",
    "            return\n",
    "\n",
    "    output = []\n",
    "    display_summary = False\n",
    "    display_pval = False\n",
    "    getpvalue = False\n",
    "    getrsquared = False\n",
    "    getmodel = False\n",
    "    method = \"ols\"\n",
    "    getresults = False\n",
    "    generalError = False\n",
    "    \n",
    "    for key,value in input_dict.items():\n",
    "        if key == 'summary':\n",
    "            display_summary = value\n",
    "        if key == 'pvalue':\n",
    "            display_pval = value\n",
    "        if key == 'getpvalue':\n",
    "            getpvalue = value\n",
    "        if key == 'getrsquared':\n",
    "            getrsquared = value\n",
    "        if key == 'method':\n",
    "            method = value\n",
    "        if key == 'getmodel':\n",
    "            getmodel = value\n",
    "        if key == 'getresults':\n",
    "            getresults = value\n",
    "\n",
    "    if method == \"ols\":\n",
    "        model = smf.ols(formula=formula, data=df)\n",
    "        results = model.fit()\n",
    "    elif method == \"poisson\":\n",
    "        model = smf.poisson(formula, data=join).fit()\n",
    "        results = model.fit()\n",
    "    elif method == \"logit\":\n",
    "        try:\n",
    "            #model = smf.logit(formula, data=df).fit()\n",
    "            model = smf.logit(formula, data=df)\n",
    "            \n",
    "            #//*** Endogenous variables designates variables in an economic/econometric model that are explained, or predicted, by that mode\n",
    "            #//*** Test for endogenous variables. If less than half the variables are explained by the model, reject the model.\n",
    "            nobs = len(model.endog)\n",
    "            \n",
    "            if nobs < len(df)/2:\n",
    "                generalError = True\n",
    "            else:\n",
    "                results = model.fit()\n",
    "                results = model.fit()\n",
    "\n",
    "        except:\n",
    "            generalError = True\n",
    "    else:\n",
    "        print(f\"Provide a valid Method:\\n method='ols' [default]\\nmethod='logit'\")\n",
    "        return\n",
    "    # //*** On an error return 999 for all requested values\n",
    "    if generalError:\n",
    "        if getrsquared:\n",
    "            output.append(999)\n",
    "\n",
    "        if getpvalue:\n",
    "            output.append(pd.Series(data=[999]))\n",
    "        \n",
    "        return output\n",
    "        \n",
    "    #//**** Display Methods\n",
    "    if display_summary:\n",
    "        print(\"==========================\")\n",
    "        print(\"Q model Quick Display\")\n",
    "        print(\"==========================\")\n",
    "        print_model = results.summary()\n",
    "        print(f\"{print_model}\")\n",
    "    if display_pval:\n",
    "        print(\"==========================\")\n",
    "        print(\"Q model P Values\")\n",
    "        print(\"==========================\")\n",
    "        results.pvalues.drop(['Intercept'])\n",
    "        for x,y in results.pvalues.items():\n",
    "            if x != 'Intercept':\n",
    "                print(f\"{x} : {y}\")\n",
    "\n",
    "    #//**** Return Methods            \n",
    "    if getmodel:\n",
    "        output.append(model)\n",
    "    if getresults:\n",
    "        output.append(results)\n",
    "\n",
    "    if getrsquared:\n",
    "        if method == \"logit\":\n",
    "            output.append(results.prsquared)\n",
    "        else:\n",
    "            output.append(results.rsquared)\n",
    "    \n",
    "    if getpvalue:\n",
    "        try:\n",
    "            output.append(results.pvalues.drop(index='Intercept') )\n",
    "        except:\n",
    "            output.append(results.pvalues.values)\n",
    "    \n",
    "\n",
    "    #//*** If more than one output variable, output a list\n",
    "    if len(output) > 1:\n",
    "        return output\n",
    "    elif len(output) == 1:\n",
    "        #//*** Single elements, just return the element\n",
    "        return output[0]\n",
    "        \n",
    "        \n",
    "        "
   ]
  },
  {
   "cell_type": "code",
   "execution_count": 77,
   "metadata": {},
   "outputs": [
    {
     "name": "stdout",
     "output_type": "stream",
     "text": [
      "Intercept    4.354012\n",
      "vacation    -0.530665\n",
      "dtype: float64\n",
      "4.354011976047907 0.5306645404842487\n",
      "6.519390863176833\n"
     ]
    },
    {
     "data": {
      "image/png": "[encoded data removed]",
      "text/plain": [
       "<Figure size 432x288 with 1 Axes>"
      ]
     },
     "metadata": {
      "needs_background": "light"
     },
     "output_type": "display_data"
    }
   ],
   "source": [
    "#//***https://www.geeksforgeeks.org/ordinary-least-squares-ols-using-statsmodels/\n",
    "#for emp in salary_emps:\n",
    "actual_vacation = pd.Series(day['salary']['emps'][ salary_emps[0] ]['vacation'])\n",
    "actual_hours = pd.Series(day['salary']['emps'][ salary_emps[0]  ]['productivity'])\n",
    "\n",
    "emp_df = pd.DataFrame()\n",
    "emp_df['vacation'] = actual_vacation\n",
    "emp_df['productivity'] = actual_hours\n",
    "\n",
    "emp_model = qmodel_patsy_ols(emp_df,\"productivity~vacation\",getmodel=True)\n",
    "\n",
    "results = emp_model.fit()\n",
    "print(results.params)\n",
    "\n",
    "inter = results.params[0]\n",
    "coef = abs(results.params[1])\n",
    "\n",
    "print(f\"{inter} {coef}\")\n",
    "x_filler = np.arange(1, len(actual_vacation)+1, 1) \n",
    "# the substituted equation \n",
    "\n",
    "fig,ax = plt.subplots()\n",
    "\n",
    "#print(day['salary'][\"emps\"][emp][productivity])\n",
    "plt_prod = actual_hours\n",
    "plt_vacation= actual_vacation\n",
    "y_model = pd.Series(coef * actual_hours + inter)\n",
    "\n",
    "print(y_model.mean())\n",
    "ax.scatter(year_dates,plt_prod,1,\"black\",label=\"Productive Hours\")\n",
    "ax.scatter(year_dates,plt_vacation,1,\"red\",label=\"Vacation\")\n",
    "#ax.scatter(year_dates,y_model,1,\"green\")\n",
    "\n",
    "#print(y_model)\n",
    "\n",
    "plt.show()\n",
    "\n",
    "# range of values for plotting \n",
    "# the regression line \n",
    "\n",
    "#print(f\"{len(x)} {len(actual_vacation)}\")\n",
    "  \n"
   ]
  },
  {
   "cell_type": "code",
   "execution_count": 78,
   "metadata": {},
   "outputs": [
    {
     "name": "stdout",
     "output_type": "stream",
     "text": [
      "Total Salary Employees: 6\n",
      "-0.6617655334613892\n",
      "Intercept    516.649259\n",
      "vacation      -1.636000\n",
      "dtype: float64\n",
      "Salary Model: 516.65 -1.64\n",
      "Salary rSquared: 0.43793362127743696\n",
      "(No Vacation)  Coefficient per Employee: 86.11\n",
      "(Max Vacation) Coefficient per Employee: 79.84\n",
      "Total Salary Productive Hours: 11132.5\n",
      "Total Salary Vacation Hours: 774.5\n",
      "Mean Salary Productive Hours: 1855.42\n",
      "Mean Salary Vacation Hours: 129.08\n",
      "479.02125246229764\n"
     ]
    },
    {
     "data": {
      "image/png": "[encoded data removed]",
      "text/plain": [
       "<Figure size 432x288 with 1 Axes>"
      ]
     },
     "metadata": {
      "needs_background": "light"
     },
     "output_type": "display_data"
    }
   ],
   "source": [
    "def build_plot_from_model(input_iter,input_coef,input_length):\n",
    "    output = []\n",
    "    for x in range(input_length):\n",
    "        output.append(input_iter + (input_coef*x) )\n",
    "    \n",
    "    return output\n",
    "    \n",
    "\n",
    "#//*** Slpit a series into Quarters and sum the results\n",
    "def get_summed_quarters(input_series, input_master_list):\n",
    "    \n",
    "    quarter_int = int(len(actual_hours)/4)\n",
    "    \n",
    "    input_master_list.append(input_series[:quarter_int].sum())\n",
    "    input_master_list.append(input_series[quarter_int:quarter_int*2].sum())\n",
    "    input_master_list.append(input_series[quarter_int*2:quarter_int*3].sum())\n",
    "    input_master_list.append(input_series[quarter_int*3:].sum())\n",
    "    \n",
    "    return input_master_list\n",
    "\n",
    "\n",
    "\n",
    "emp_quarter_productivity = []\n",
    "emp_quarter_vacation = []\n",
    "\n",
    "for emp in salary_emps:\n",
    "    actual_vacation = pd.Series(day['salary']['emps'][ emp ]['vacation'])\n",
    "    actual_hours = pd.Series(day['salary']['emps'][ emp  ]['productivity'])\n",
    "    \n",
    "    emp_quarter_vacation = get_summed_quarters(actual_vacation,emp_quarter_vacation)\n",
    "    emp_quarter_productivity = get_summed_quarters(actual_hours,emp_quarter_productivity)\n",
    "    \n",
    "\n",
    "quarter_vacation_cor = np.corrcoef(emp_quarter_vacation,emp_quarter_productivity)[0][1]\n",
    "\n",
    "print(f\"Total Salary Employees: {len(salary_emps)}\")\n",
    "print(quarter_vacation_cor)\n",
    "\n",
    "emp_df = pd.DataFrame()\n",
    "emp_df['vacation'] = emp_quarter_vacation\n",
    "emp_df['productivity'] = emp_quarter_productivity\n",
    "\n",
    "qtr_prod_hist = emp_df['productivity'].value_counts().sort_index()\n",
    "qtr_vac_hist = emp_df['vacation'].value_counts().sort_index()\n",
    "\n",
    "\n",
    "emp_model = qmodel_patsy_ols(emp_df,\"productivity~vacation\",getmodel=True)\n",
    "\n",
    "total_salary_emps = len(salary_emps)\n",
    "results = emp_model.fit()\n",
    "print(results.params)\n",
    "inter = results.params[0]\n",
    "coef = results.params[1]\n",
    "y_model = build_plot_from_model(inter,coef,len(emp_quarter_vacation))\n",
    "print(f\"Salary Model: {round(inter,2)} {round(coef,2)}\")\n",
    "print(f\"Salary rSquared: {results.rsquared}\")\n",
    "print(f\"(No Vacation)  Coefficient per Employee: {round(inter/total_salary_emps,2)}\")\n",
    "print(f\"(Max Vacation) Coefficient per Employee: {round(y_model[-1]/total_salary_emps,2)}\")\n",
    "print(f\"Total Salary Productive Hours: {emp_df['productivity'].sum()}\")\n",
    "print(f\"Total Salary Vacation Hours: {emp_df['vacation'].sum()}\")\n",
    "print(f\"Mean Salary Productive Hours: {round(emp_df['productivity'].sum()/total_salary_emps,2)}\")\n",
    "print(f\"Mean Salary Vacation Hours: {round(emp_df['vacation'].sum()/total_salary_emps,2)}\")\n",
    "print(y_model[-1])\n",
    "salary_modeled_productivity_value = y_model[-1]/total_salary_emps\n",
    "salary_mean_productivity_hours = emp_df['productivity'].sum()/total_salary_emps\n",
    "\n",
    "\n",
    "fig,ax = plt.subplots()\n",
    "\n",
    "plt_prod = emp_quarter_productivity\n",
    "plt_vacation= emp_quarter_vacation\n",
    "plt_prod_salary = emp_quarter_productivity\n",
    "plt_vacation_salary = emp_quarter_vacation\n",
    "y_model_salary = y_model\n",
    "ax.scatter(sorted(emp_quarter_vacation),(emp_quarter_productivity),1,\"black\",label=\"Productive Hours\")\n",
    "ax.plot(sorted(emp_quarter_vacation),y_model,1,color=\"red\")\n",
    "plt.ylim(emp_df['productivity'].min(),emp_df['productivity'].max())\n",
    "plt.title(\"Salary: Productive Hours vs Vacation Hours\\n(per Quarter)\")\n",
    "plt.ylabel(\"Work Hours\")\n",
    "plt.xlabel(\"Vacation Hours\")\n",
    "plt.show()    "
   ]
  },
  {
   "cell_type": "code",
   "execution_count": 79,
   "metadata": {},
   "outputs": [
    {
     "name": "stdout",
     "output_type": "stream",
     "text": [
      "Salary Employees 6\n",
      "Hourly Employees: 6\n",
      "['EMP_1' 'EMP_2' 'EMP_6' 'EMP_8' 'EMP_11' 'EMP_12']\n",
      "['EMP_3' 'EMP_4' 'EMP_5' 'EMP_7' 'EMP_9' 'EMP_10']\n",
      "Hourly vacation Cor: 0.6050121933494857\n",
      "hourly Model: 221.61963249471097 4.018642746460783\n",
      "hourly rSquared: 0.3660397541015554\n",
      "(No Vacation)  Coefficient per Employee: 36.94\n",
      "(Max Vacation) Coefficient per Employee: 52.34\n",
      "Total Hourly Productive Hours: 6999.99\n",
      "Total Hourly Vacation Hours: 418.33\n",
      "Mean Hourly Productive Hours: 1166.66\n",
      "Mean Hourly Vacation Hours: 69.72\n"
     ]
    },
    {
     "data": {
      "image/png": "[encoded data removed]",
      "text/plain": [
       "<Figure size 432x288 with 1 Axes>"
      ]
     },
     "metadata": {
      "needs_background": "light"
     },
     "output_type": "display_data"
    }
   ],
   "source": [
    "print(f\"Salary Employees {len(salary_emps)}\")\n",
    "print(f\"Hourly Employees: {len(hourly_emps)}\")\n",
    "print(salary_emps)\n",
    "print(hourly_emps)\n",
    "\n",
    "emp_quarter_productivity = []\n",
    "emp_quarter_vacation = []\n",
    "\n",
    "for emp in hourly_emps:\n",
    "    actual_vacation = pd.Series(day['hourly']['emps'][ emp ]['vacation'])\n",
    "    actual_hours = pd.Series(day['hourly']['emps'][ emp  ]['productivity'])\n",
    "    \n",
    "    emp_quarter_vacation = get_summed_quarters(actual_vacation,emp_quarter_vacation)\n",
    "    emp_quarter_productivity = get_summed_quarters(actual_hours,emp_quarter_productivity)\n",
    "    \n",
    "\n",
    "quarter_vacation_cor = np.corrcoef(emp_quarter_vacation,emp_quarter_productivity)[0][1]\n",
    "\n",
    "print(f\"Hourly vacation Cor: {quarter_vacation_cor}\")\n",
    "\n",
    "emp_df = pd.DataFrame()\n",
    "emp_df['vacation'] = emp_quarter_vacation\n",
    "emp_df['productivity'] = emp_quarter_productivity\n",
    "\n",
    "\n",
    "\n",
    "emp_model = qmodel_patsy_ols(emp_df,\"productivity~vacation\",getmodel=True)\n",
    "total_hourly_emps = len(hourly_emps)\n",
    "results = emp_model.fit()\n",
    "#print(results.params)\n",
    "inter = results.params[0]\n",
    "coef = results.params[1]\n",
    "y_model = build_plot_from_model(inter,coef,len(emp_quarter_vacation) )\n",
    "y_model_hourly = build_plot_from_model(inter,coef,len(emp_quarter_vacation) )\n",
    "print(f\"hourly Model: {inter} {coef}\")\n",
    "print(f\"hourly rSquared: {results.rsquared}\")\n",
    "print(f\"(No Vacation)  Coefficient per Employee: {round(inter/total_hourly_emps,2)}\")\n",
    "print(f\"(Max Vacation) Coefficient per Employee: {round(y_model[-1]/total_hourly_emps,2)}\")\n",
    "print(f\"Total Hourly Productive Hours: {emp_df['productivity'].sum()}\")\n",
    "print(f\"Total Hourly Vacation Hours: {emp_df['vacation'].sum()}\")\n",
    "print(f\"Mean Hourly Productive Hours: {round(emp_df['productivity'].sum()/total_hourly_emps,2)}\")\n",
    "print(f\"Mean Hourly Vacation Hours: {round(emp_df['vacation'].sum()/total_hourly_emps,2)}\")\n",
    "\n",
    "hourly_modeled_productivity_value = y_model[-1]/total_hourly_emps\n",
    "hourly_mean_productivity_hours = emp_df['productivity'].sum()/total_hourly_emps\n",
    "\n",
    "fig,ax = plt.subplots()\n",
    "plt_prod = emp_quarter_productivity\n",
    "plt_vacation= emp_quarter_vacation\n",
    "plt_prod_hourly = emp_quarter_productivity\n",
    "plt_vacation_hourly= emp_quarter_vacation\n",
    "ax.scatter(sorted(plt_vacation),(plt_prod),1,\"black\",label=\"Productive Hours\")\n",
    "ax.plot(sorted(emp_quarter_vacation),y_model,1,color=\"red\")\n",
    "plt.ylim(emp_df['productivity'].min(),emp_df['productivity'].max())\n",
    "plt.title(\"Hourly: Productive Hours vs Vacation Hours\\n(per Quarter)\")\n",
    "plt.ylabel(\"Work Hours\")\n",
    "plt.xlabel(\"Vacation Hours\")\n",
    "\n",
    "plt.show()\n"
   ]
  },
  {
   "cell_type": "code",
   "execution_count": 80,
   "metadata": {},
   "outputs": [
    {
     "data": {
      "image/png": "[encoded data removed]",
      "text/plain": [
       "<Figure size 432x288 with 1 Axes>"
      ]
     },
     "metadata": {
      "needs_background": "light"
     },
     "output_type": "display_data"
    }
   ],
   "source": [
    "#plt_prod_salary = emp_quarter_productivity\n",
    "#plt_vacation_salary = emp_quarter_vacation\n",
    "#plt_prod_hourly = emp_quarter_productivity\n",
    "#plt_vacation_hourly= emp_quarter_vacation\n",
    "\n",
    "#y_model_salary = y_model\n",
    "#y_model_hourly\n",
    "\n",
    "fig,ax = plt.subplots()\n",
    "#plt_prod = emp_quarter_productivity\n",
    "#plt_vacation= emp_quarter_vacation\n",
    "#ax.scatter(sorted(plt_vacation_salary),(plt_prod_salary),1,\"blue\",label=\"Productive Hours\")\n",
    "ax.scatter(sorted(plt_vacation_salary),(plt_prod_salary),1,\"blue\")\n",
    "ax.plot(sorted(plt_vacation_salary),y_model_salary,1,color=\"blue\",label=\"Salary\")\n",
    "ax.scatter(sorted(plt_vacation_hourly),(plt_prod_hourly),1,\"red\")\n",
    "ax.plot(sorted(plt_vacation_hourly),y_model_hourly,1,color=\"red\",label=\"Hourly\")\n",
    "\n",
    "plt.title(\"Quarterly Productive Hours vs Vacation Hours\")\n",
    "plt.ylabel(\"Work Hours\")\n",
    "plt.xlabel(\"Vacation Hours\")\n",
    "handles,labels = deduplicate_legend(ax)\n",
    "plt.legend(handles,labels )\n",
    "plt.show()"
   ]
  },
  {
   "cell_type": "code",
   "execution_count": 81,
   "metadata": {},
   "outputs": [
    {
     "name": "stdout",
     "output_type": "stream",
     "text": [
      "Salary Quarterly Productivity: -0.6617655334613892 p-Val: 0.001\n",
      "Hourly Quarterly Productivity: 0.6050121933494857 p-Val: 0.003\n"
     ]
    }
   ],
   "source": [
    "#//*** Resample Quarter year Vacation and Productivity to test the null hypothesis\n",
    "actual_vacation = pd.Series(plt_vacation_salary)\n",
    "actual_hours = pd.Series(plt_prod_salary)\n",
    "\n",
    "vacation_cdf = actual_vacation.value_counts().sort_index()\n",
    "hours_cdf = actual_hours.value_counts().sort_index()\n",
    "\n",
    "baseline_cor = np.corrcoef(actual_vacation,actual_hours)[0][1]\n",
    "#print(f\"BaseLine: {abs(baseline_cor)}\")\n",
    "\n",
    "#//*** Perform Random Tests. Get the percentage of random correlations that are\n",
    "#//*** Greater than the observed (baseline) value\n",
    "test_total = 1000\n",
    "null_count = 0\n",
    "for test in range(test_total):\n",
    "    random_vacation = get_weighted_resample(actual_vacation,vacation_cdf)\n",
    "    random_hours = get_weighted_resample(actual_hours,hours_cdf)\n",
    "    random_cor = np.corrcoef(random_vacation,random_hours)[0][1]\n",
    "    if abs(baseline_cor) < abs(random_cor):\n",
    "        #print(f\"{abs(baseline_cor)} < {abs(random_cor)} - {abs(baseline_cor) < abs(random_cor)}\")\n",
    "        null_count +=1\n",
    "\n",
    "p_value = null_count / test_total\n",
    "\n",
    "print(f\"Salary Quarterly Productivity: {baseline_cor} p-Val: {p_value}\")\n",
    "\n",
    "\n",
    "actual_vacation = pd.Series(plt_vacation_hourly)\n",
    "actual_hours = pd.Series(plt_prod_hourly)\n",
    "\n",
    "vacation_cdf = actual_vacation.value_counts().sort_index()\n",
    "hours_cdf = actual_hours.value_counts().sort_index()\n",
    "\n",
    "baseline_cor = np.corrcoef(actual_vacation,actual_hours)[0][1]\n",
    "#print(f\"BaseLine: {abs(baseline_cor)}\")\n",
    "\n",
    "#//*** Perform Random Tests. Get the percentage of random correlations that are\n",
    "#//*** Greater than the observed (baseline) value\n",
    "test_total = 1000\n",
    "null_count = 0\n",
    "for test in range(test_total):\n",
    "    random_vacation = get_weighted_resample(actual_vacation,vacation_cdf)\n",
    "    random_hours = get_weighted_resample(actual_hours,hours_cdf)\n",
    "    random_cor = np.corrcoef(random_vacation,random_hours)[0][1]\n",
    "    if abs(baseline_cor) < abs(random_cor):\n",
    "        #print(f\"{abs(baseline_cor)} < {abs(random_cor)} - {abs(baseline_cor) < abs(random_cor)}\")\n",
    "        null_count +=1\n",
    "\n",
    "p_value = null_count / test_total\n",
    "\n",
    "print(f\"Hourly Quarterly Productivity: {baseline_cor} p-Val: {p_value}\")"
   ]
  },
  {
   "cell_type": "code",
   "execution_count": 82,
   "metadata": {},
   "outputs": [
    {
     "name": "stdout",
     "output_type": "stream",
     "text": [
      "Avg Salary annual Hours: 1855.4166666666667\n",
      "Avg Hourly annual Hours: 1166.665\n",
      "Avg Salary Employee is 62.88% more Productive than Hourly\n",
      "\n",
      "Salary: Avg Annual Vacation Cost (in Hours): 79.83687541038294\n",
      "Hourly Productivity Value: 52.34140261055149\n",
      "Productivity Cost: 0.043029081739258714\n"
     ]
    }
   ],
   "source": [
    "#//***\n",
    "print(f\"Avg Salary annual Hours: {salary_mean_productivity_hours}\")\n",
    "print(f\"Avg Hourly annual Hours: {hourly_mean_productivity_hours}\")\n",
    "print(f\"Avg Salary Employee is {round(hourly_mean_productivity_hours/salary_mean_productivity_hours,4)*100}% more Productive than Hourly\")\n",
    "\n",
    "print()\n",
    "\n",
    "print(f\"Salary: Avg Annual Vacation Cost (in Hours): {salary_modeled_productivity_value}\")\n",
    "print(f\"Hourly Productivity Value: {hourly_modeled_productivity_value}\")\n",
    "\n",
    "print(f\"Productivity Cost: {salary_modeled_productivity_value/salary_mean_productivity_hours}\")\n"
   ]
  }
 ],
 "metadata": {
  "kernelspec": {
   "display_name": "Python 3",
   "language": "python",
   "name": "python3"
  },
  "language_info": {
   "codemirror_mode": {
    "name": "ipython",
    "version": 3
   },
   "file_extension": ".py",
   "mimetype": "text/x-python",
   "name": "python",
   "nbconvert_exporter": "python",
   "pygments_lexer": "ipython3",
   "version": "3.8.5"
  }
 },
 "nbformat": 4,
 "nbformat_minor": 4
}
