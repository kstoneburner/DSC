{
 "cells": [
  {
   "cell_type": "markdown",
   "metadata": {},
   "source": [
    "# Stoneburner, Kurt\n",
    "- ## DSC 630 - Week XX"
   ]
  },
  {
   "cell_type": "markdown",
   "metadata": {},
   "source": [
    "\n",
    "Online travel agencies are scrambling to meet the artificial intelligence driven personalization standard set by companies like Amazon and Netflix. In addition, the world of online travel has become a highly competitive space where brands try to capture our attention (and wallet) with recommending, comparing, matching, and sharing. For this assignment, we would like to create the optimal hotel recommendations for Expedia’s users that are searching for a hotel to book. For this assignment, you need to predict which “hotel cluster” the user is likely to book, given his (or her) search details.\n",
    "\n",
    "The data set can be found at Kaggle: Expedia Hotel Recommendations. To get started, I would suggest exploring the file train.csv, which contains the logs of user behavior.  There is another file named destinations.csv, which contains information related to hotel reviews made by users. There is a lot of data here, and making an accurate prediction is rather difficult, e.g., simply running a standard prediction algorithm will probably yield below 10% accuracy. Stary by doing some exploratory analysis of this data to help understand how to make a prediction on the hotel cluster the user is likely to select. Then, split train.csv into a training and test set (feel free to select a smaller random subset of train.csv). Then, build at least two prediction models from the training set, and report the accuracies on the test set. As I mentioned, this is a difficult problem, so be creative with your solutions. You might want to try building your own predictor rather than a standard predictor model, e.g., a random forest.  The purpose of this project is not necessarily to get great results but to understand the nuances and challenges of such problems.\n"
   ]
  },
  {
   "cell_type": "code",
   "execution_count": 1,
   "metadata": {},
   "outputs": [
    {
     "data": {
      "text/html": [
       "<style>.container { width:100% !important; }</style>"
      ],
      "text/plain": [
       "<IPython.core.display.HTML object>"
      ]
     },
     "metadata": {},
     "output_type": "display_data"
    }
   ],
   "source": [
    "import os\n",
    "import sys\n",
    "# //*** Imports and Load Data\n",
    "import matplotlib.pyplot as plt\n",
    "import numpy as np\n",
    "import pandas as pd\n",
    "\n",
    "#//*** Use the whole window in the IPYNB editor\n",
    "from IPython.core.display import display, HTML\n",
    "display(HTML(\"<style>.container { width:100% !important; }</style>\"))\n",
    "\n",
    "#//*** Maximize columns and rows displayed by pandas\n",
    "pd.set_option('display.max_rows', 100)\n",
    "pd.set_option('display.max_columns', None)"
   ]
  },
  {
   "cell_type": "code",
   "execution_count": null,
   "metadata": {},
   "outputs": [],
   "source": []
  },
  {
   "cell_type": "code",
   "execution_count": 2,
   "metadata": {},
   "outputs": [
    {
     "name": "stdout",
     "output_type": "stream",
     "text": [
      "Read/Write ./ignore/wk05/destinations.csv\n",
      "Read/Write ./ignore/wk05/sample_submission.csv\n",
      "Read/Write ./ignore/wk05/test.csv\n",
      "Read/Write ./ignore/wk05/train.csv\n",
      "done\n"
     ]
    }
   ],
   "source": [
    "\"\"\"\n",
    "import os\n",
    "path =f'./ignore/wk05'\n",
    "list_of_files = []\n",
    "\n",
    "ag_df = pd.DataFrame()\n",
    "\n",
    "\n",
    "for root, dirs, files in os.walk(path):\n",
    "    for file in files:\n",
    "        list_of_files.append(os.path.join(root,file).replace(\"\\\\\",\"/\"))\n",
    "for name in list_of_files:\n",
    "    print(f\"Read/Write {name}\")\n",
    "    pd.read_csv(name).to_csv(f\"{name}.zip\", compression=\"zip\", index=False)\n",
    "\n",
    "print(\"done\")\n",
    "\"\"\""
   ]
  },
  {
   "cell_type": "code",
   "execution_count": 6,
   "metadata": {},
   "outputs": [
    {
     "name": "stdout",
     "output_type": "stream",
     "text": [
      "Reading:./ignore/wk05/destinations.csv.zip\n",
      "Read:./ignore/wk05/destinations.csv.zip - 1.56s\n",
      "Reading:./ignore/wk05/sample_submission.csv.zip\n",
      "Read:./ignore/wk05/sample_submission.csv.zip - 0.41s\n",
      "Reading:./ignore/wk05/test.csv.zip\n",
      "Read:./ignore/wk05/test.csv.zip - 4.44s\n",
      "Reading:./ignore/wk05/train.csv.zip\n",
      "Read:./ignore/wk05/train.csv.zip - 62.58s\n",
      "Reading:./ignore/wk05/destinations.csv\n",
      "Read:./ignore/wk05/destinations.csv - 63.73s\n",
      "Reading:./ignore/wk05/sample_submission.csv\n",
      "Read:./ignore/wk05/sample_submission.csv - 64.08s\n",
      "Reading:./ignore/wk05/test.csv\n",
      "Read:./ignore/wk05/test.csv - 67.58s\n",
      "Reading:./ignore/wk05/train.csv\n",
      "Read:./ignore/wk05/train.csv - 121.32s\n"
     ]
    }
   ],
   "source": [
    "import time\n",
    "\n",
    "path =f'./ignore/wk05/'\n",
    "list_of_files = ['destinations.csv.zip','sample_submission.csv.zip','test.csv.zip','train.csv.zip']\n",
    "\n",
    "for file in list_of_files:\n",
    "    start_time = time.time()\n",
    "    print(f\"Reading:{path}{file}\")\n",
    "    pd.read_csv(f\"{path}{file}\")\n",
    "    print(f\"Read:{path}{file} - {round(time.time()-start_time,2)}s\")\n",
    "    \n",
    "for file in list_of_files:\n",
    "    file=file.replace(\".zip\",\"\")\n",
    "    print(f\"Reading:{path}{file}\")\n",
    "    pd.read_csv(f\"{path}{file}\")\n",
    "    print(f\"Read:{path}{file} - {round(time.time()-start_time,2)}s\")\n"
   ]
  },
  {
   "cell_type": "code",
   "execution_count": null,
   "metadata": {},
   "outputs": [],
   "source": [
    "# //*** CODE HERE"
   ]
  },
  {
   "cell_type": "code",
   "execution_count": null,
   "metadata": {},
   "outputs": [],
   "source": [
    "# //*** CODE HERE"
   ]
  },
  {
   "cell_type": "code",
   "execution_count": null,
   "metadata": {},
   "outputs": [],
   "source": [
    "# //*** CODE HERE"
   ]
  },
  {
   "cell_type": "code",
   "execution_count": null,
   "metadata": {},
   "outputs": [],
   "source": [
    "# //*** CODE HERE"
   ]
  }
 ],
 "metadata": {
  "kernelspec": {
   "display_name": "Python 3",
   "language": "python",
   "name": "python3"
  },
  "language_info": {
   "codemirror_mode": {
    "name": "ipython",
    "version": 3
   },
   "file_extension": ".py",
   "mimetype": "text/x-python",
   "name": "python",
   "nbconvert_exporter": "python",
   "pygments_lexer": "ipython3",
   "version": "3.8.5"
  }
 },
 "nbformat": 4,
 "nbformat_minor": 4
}
