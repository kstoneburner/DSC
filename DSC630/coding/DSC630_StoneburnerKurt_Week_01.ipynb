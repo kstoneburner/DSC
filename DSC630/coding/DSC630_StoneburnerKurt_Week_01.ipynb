{
 "cells": [
  {
   "cell_type": "code",
   "execution_count": 5,
   "id": "849b5326",
   "metadata": {},
   "outputs": [
    {
     "ename": "ERROR",
     "evalue": "Error in read.table(\"z_wk01_2020.q1.by_size.csv\", header = TRUE): more columns than column names\n",
     "output_type": "error",
     "traceback": [
      "Error in read.table(\"z_wk01_2020.q1.by_size.csv\", header = TRUE): more columns than column names\nTraceback:\n",
      "1. read.table(\"z_wk01_2020.q1.by_size.csv\", header = TRUE)",
      "2. stop(\"more columns than column names\")"
     ]
    }
   ],
   "source": [
    "raw_df <- read.table(\"z_wk01_2020.q1.by_size.csv\", header = TRUE)"
   ]
  },
  {
   "cell_type": "code",
   "execution_count": 4,
   "id": "4039409b",
   "metadata": {},
   "outputs": [
    {
     "data": {
      "text/html": [
       "<table>\n",
       "<thead><tr><th scope=col>PK...</th></tr></thead>\n",
       "<tbody>\n",
       "</tbody>\n",
       "</table>\n"
      ],
      "text/latex": [
       "\\begin{tabular}{r|l}\n",
       " PK...\\\\\n",
       "\\hline\n",
       "\\end{tabular}\n"
      ],
      "text/markdown": [
       "\n",
       "| PK... |\n",
       "|---|\n",
       "\n"
      ],
      "text/plain": [
       "     PK..."
      ]
     },
     "metadata": {},
     "output_type": "display_data"
    }
   ],
   "source": [
    "raw_df"
   ]
  }
 ],
 "metadata": {
  "kernelspec": {
   "display_name": "R",
   "language": "R",
   "name": "ir"
  },
  "language_info": {
   "codemirror_mode": "r",
   "file_extension": ".r",
   "mimetype": "text/x-r-source",
   "name": "R",
   "pygments_lexer": "r",
   "version": "3.6.1"
  }
 },
 "nbformat": 4,
 "nbformat_minor": 5
}
