{
 "cells": [
  {
   "cell_type": "markdown",
   "metadata": {},
   "source": [
    "# Stoneburner, Kurt\n",
    "- ## DSC 630 - Week 07"
   ]
  },
  {
   "cell_type": "code",
   "execution_count": 98,
   "metadata": {},
   "outputs": [
    {
     "data": {
      "text/html": [
       "<style>.container { width:100% !important; }</style>"
      ],
      "text/plain": [
       "<IPython.core.display.HTML object>"
      ]
     },
     "metadata": {},
     "output_type": "display_data"
    }
   ],
   "source": [
    "import os\n",
    "import sys\n",
    "# //*** Imports and Load Data\n",
    "import matplotlib.pyplot as plt\n",
    "import numpy as np\n",
    "import pandas as pd\n",
    "\n",
    "#//*** Use the whole window in the IPYNB editor\n",
    "from IPython.core.display import display, HTML\n",
    "display(HTML(\"<style>.container { width:100% !important; }</style>\"))\n",
    "\n",
    "#//*** Maximize columns and rows displayed by pandas\n",
    "pd.set_option('display.max_rows', 100)\n",
    "pd.set_option('display.max_columns', None)"
   ]
  },
  {
   "cell_type": "markdown",
   "metadata": {},
   "source": [
    "For this assignment I dredged up some code on predicting binomial distributions. I modified the code to return only the distributions where the majority 50% >= are successful."
   ]
  },
  {
   "cell_type": "markdown",
   "metadata": {},
   "source": [
    "Introduction to the Binomial Distribution - https://medium.com/weightsandbiases/an-introduction-to-model-ensembling-63effc2ca4b3\n",
    "\n",
    "Binomial Distribution Code - https://python.plainenglish.io/using-python-to-calculate-binomial-probabilities-6b5d7a8230df\n",
    "\n",
    "Generate Random Binomials - https://www.statology.org/binomial-distribution-python/"
   ]
  },
  {
   "cell_type": "code",
   "execution_count": 114,
   "metadata": {},
   "outputs": [
    {
     "name": "stdout",
     "output_type": "stream",
     "text": [
      "7 of 11 Individual: 0.0388\n",
      "8 of 11 Individual: 0.1107\n",
      "9 of 11 Individual: 0.2215\n",
      "10 of 11 Individual: 0.2953\n",
      "11 of 11 Individual: 0.2362\n",
      "12 of 11 Individual: 0.0859\n",
      "0.98834579456\n"
     ]
    }
   ],
   "source": [
    "import math\n",
    "\n",
    "#//*** Get the odds of the majority of a binomial distribution \n",
    "def majority_binomial(trials, success):\n",
    "    \n",
    "    #//*** Simple Majority is 50% or greater.\n",
    "    #//*** Divide by 2 \n",
    "    required = math.ceil(trials/2)\n",
    "    total_percent = 0\n",
    "    out = []\n",
    "    while required <= trials:\n",
    "        a = math.factorial(required)\n",
    "        b = math.factorial(trials)\n",
    "        c = math.factorial(trials - required)\n",
    "        \n",
    "        combinations = b / (a * c)\n",
    "        percent_success = success ** required\n",
    "        percent_failure = (1 - success) ** (trials - required)\n",
    "        answer = combinations * percent_success * percent_failure\n",
    "        total_percent += answer\n",
    "\n",
    "        required += 1\n",
    "        #//*** Ignore itera\n",
    "        #if required < math.ceil(trials/2):\n",
    "        #    continue\n",
    "        print(f\"{required} of {trials} Individual: {round(answer,4)}\")\n",
    "        out.append(answer)\n",
    "    return np.array(out)\n",
    "    #print(\"The total percentage ={}\".format(round(total_percent,4)))\n",
    "        \n",
    "\n",
    "print(majority_binomial(11, .8).sum())"
   ]
  },
  {
   "cell_type": "markdown",
   "metadata": {},
   "source": [
    "Calculate the probability of a model ensemble that uses simple majority voting making an incorrect prediction in the following scenarios. (Hint: Understanding how to use the binomial distribution will be useful in answering this question.)"
   ]
  },
  {
   "cell_type": "markdown",
   "metadata": {},
   "source": [
    "**The ensemble contains 11 independent models, all of which have an error rate of 0.2.**"
   ]
  },
  {
   "cell_type": "code",
   "execution_count": 112,
   "metadata": {},
   "outputs": [
    {
     "name": "stdout",
     "output_type": "stream",
     "text": [
      "7 of 11 Individual: 0.0388\n",
      "8 of 11 Individual: 0.1107\n",
      "9 of 11 Individual: 0.2215\n",
      "10 of 11 Individual: 0.2953\n",
      "11 of 11 Individual: 0.2362\n",
      "12 of 11 Individual: 0.0859\n",
      "0.98834579456\n"
     ]
    }
   ],
   "source": [
    "print(majority_binomial(11, .8).sum())"
   ]
  },
  {
   "cell_type": "markdown",
   "metadata": {},
   "source": [
    "**The ensemble contains 11 independent models, all of which have an error rate of 0.49.**"
   ]
  },
  {
   "cell_type": "code",
   "execution_count": 110,
   "metadata": {},
   "outputs": [
    {
     "name": "stdout",
     "output_type": "stream",
     "text": [
      "7 of 11 Individual: 0.2296\n",
      "8 of 11 Individual: 0.1707\n",
      "9 of 11 Individual: 0.0888\n",
      "10 of 11 Individual: 0.0308\n",
      "11 of 11 Individual: 0.0064\n",
      "12 of 11 Individual: 0.0006\n",
      "0.5270522742850253\n"
     ]
    }
   ],
   "source": [
    "print(majority_binomial(11, .51).sum())"
   ]
  },
  {
   "cell_type": "markdown",
   "metadata": {},
   "source": [
    "**The ensemble contains 21 independent models, all of which have an error rate of 0.49.**"
   ]
  },
  {
   "cell_type": "code",
   "execution_count": 113,
   "metadata": {},
   "outputs": [
    {
     "name": "stdout",
     "output_type": "stream",
     "text": [
      "12 of 21 Individual: 0.1709\n",
      "13 of 21 Individual: 0.1482\n",
      "14 of 21 Individual: 0.1068\n",
      "15 of 21 Individual: 0.0635\n",
      "16 of 21 Individual: 0.0308\n",
      "17 of 21 Individual: 0.012\n",
      "18 of 21 Individual: 0.0037\n",
      "19 of 21 Individual: 0.0009\n",
      "20 of 21 Individual: 0.0001\n",
      "21 of 21 Individual: 0.0\n",
      "22 of 21 Individual: 0.0\n",
      "0.5369520989872645\n"
     ]
    }
   ],
   "source": [
    "print(majority_binomial(21, .51).sum())"
   ]
  },
  {
   "cell_type": "code",
   "execution_count": 116,
   "metadata": {},
   "outputs": [
    {
     "data": {
      "text/plain": [
       "array([0, 1, 1, 1, 1, 1, 1, 1, 0, 1, 1])"
      ]
     },
     "execution_count": 116,
     "metadata": {},
     "output_type": "execute_result"
    }
   ],
   "source": [
    "from numpy import random\n",
    "\n",
    "#generate an array of 10 values that follow a binomial distribution\n",
    "ensemble = random.binomial(n=1, p=.7, size=11)\n",
    "\n",
    "ensemble"
   ]
  }
 ],
 "metadata": {
  "kernelspec": {
   "display_name": "Python 3",
   "language": "python",
   "name": "python3"
  },
  "language_info": {
   "codemirror_mode": {
    "name": "ipython",
    "version": 3
   },
   "file_extension": ".py",
   "mimetype": "text/x-python",
   "name": "python",
   "nbconvert_exporter": "python",
   "pygments_lexer": "ipython3",
   "version": "3.8.10"
  }
 },
 "nbformat": 4,
 "nbformat_minor": 4
}
