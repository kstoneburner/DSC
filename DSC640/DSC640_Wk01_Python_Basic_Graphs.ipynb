{
 "cells": [
  {
   "cell_type": "markdown",
   "metadata": {},
   "source": [
    "# Stoneburner, Kurt\n",
    "- ## DSC 640 - Week XX"
   ]
  },
  {
   "cell_type": "code",
   "execution_count": 1,
   "metadata": {},
   "outputs": [
    {
     "data": {
      "text/html": [
       "<style>.container { width:100% !important; }</style>"
      ],
      "text/plain": [
       "<IPython.core.display.HTML object>"
      ]
     },
     "metadata": {},
     "output_type": "display_data"
    }
   ],
   "source": [
    "import os\n",
    "import sys\n",
    "# //*** Imports and Load Data\n",
    "import matplotlib.pyplot as plt\n",
    "import numpy as np\n",
    "import pandas as pd\n",
    "\n",
    "#//*** Use the whole window in the IPYNB editor\n",
    "from IPython.core.display import display, HTML\n",
    "display(HTML(\"<style>.container { width:100% !important; }</style>\"))\n",
    "\n",
    "#//*** Maximize columns and rows displayed by pandas\n",
    "pd.set_option('display.max_rows', 100)\n",
    "pd.set_option('display.max_columns', None)"
   ]
  },
  {
   "cell_type": "code",
   "execution_count": 2,
   "metadata": {},
   "outputs": [],
   "source": [
    "raw_df = pd.read_excel(\"z_wk01_allhlcn20.xlsx\")"
   ]
  },
  {
   "cell_type": "code",
   "execution_count": 3,
   "metadata": {},
   "outputs": [
    {
     "name": "stdout",
     "output_type": "stream",
     "text": [
      "      Area\\nCode   St  Cnty  Own  NAICS  Year Qtr Area Type St Name  \\\n",
      "0          US000   US   0.0    0     10  2020   A    Nation     NaN   \n",
      "1          US000   US   0.0    1     10  2020   A    Nation     NaN   \n",
      "2          US000   US   0.0    2     10  2020   A    Nation     NaN   \n",
      "3          US000   US   0.0    3     10  2020   A    Nation     NaN   \n",
      "4          US000   US   0.0    5     10  2020   A    Nation     NaN   \n",
      "...          ...  ...   ...  ...    ...   ...  ..       ...     ...   \n",
      "62883      C4974  NaN   NaN    5   1024  2020   A       MSA     NaN   \n",
      "62884      C4974  NaN   NaN    5   1025  2020   A       MSA     NaN   \n",
      "62885      C4974  NaN   NaN    5   1026  2020   A       MSA     NaN   \n",
      "62886      C4974  NaN   NaN    5   1027  2020   A       MSA     NaN   \n",
      "62887      C4974  NaN   NaN    5   1029  2020   A       MSA     NaN   \n",
      "\n",
      "               Area           Ownership  \\\n",
      "0        U.S. TOTAL       Total Covered   \n",
      "1        U.S. TOTAL  Federal Government   \n",
      "2        U.S. TOTAL    State Government   \n",
      "3        U.S. TOTAL    Local Government   \n",
      "4        U.S. TOTAL             Private   \n",
      "...             ...                 ...   \n",
      "62883  Yuma, AZ MSA             Private   \n",
      "62884  Yuma, AZ MSA             Private   \n",
      "62885  Yuma, AZ MSA             Private   \n",
      "62886  Yuma, AZ MSA             Private   \n",
      "62887  Yuma, AZ MSA             Private   \n",
      "\n",
      "                                      Industry Annual Average Status Code  \\\n",
      "0                     10 Total, all industries                        NaN   \n",
      "1                     10 Total, all industries                        NaN   \n",
      "2                     10 Total, all industries                        NaN   \n",
      "3                     10 Total, all industries                        NaN   \n",
      "4                     10 Total, all industries                        NaN   \n",
      "...                                        ...                        ...   \n",
      "62883  1024 Professional and business services                        NaN   \n",
      "62884       1025 Education and health services                        NaN   \n",
      "62885             1026 Leisure and hospitality                        NaN   \n",
      "62886                      1027 Other services                        NaN   \n",
      "62887                        1029 Unclassified                        NaN   \n",
      "\n",
      "       Annual Average Establishment Count  Annual Average Employment  \\\n",
      "0                                10494952                  139106969   \n",
      "1                                   61310                    2927788   \n",
      "2                                   70057                    4590784   \n",
      "3                                  171046                   13643540   \n",
      "4                                10192539                  117944857   \n",
      "...                                   ...                        ...   \n",
      "62883                                 454                       6684   \n",
      "62884                                 436                       7722   \n",
      "62885                                 326                       5655   \n",
      "62886                                 215                       1205   \n",
      "62887                                  11                         25   \n",
      "\n",
      "       Annual Total Wages  Annual Average Weekly Wage  Annual Average Pay  \\\n",
      "0           8904710745957                        1231               64013   \n",
      "1            250261448866                        1644               85478   \n",
      "2            301891443958                        1265               65760   \n",
      "3            776056455733                        1094               56881   \n",
      "4           7576501397400                        1235               64238   \n",
      "...                   ...                         ...                 ...   \n",
      "62883           317588317                         914               47517   \n",
      "62884           434850090                        1083               56315   \n",
      "62885           127159067                         432               22486   \n",
      "62886            43710299                         697               36267   \n",
      "62887              725989                         549               28564   \n",
      "\n",
      "       Employment Location Quotient Relative to U.S.  \\\n",
      "0                                               1.00   \n",
      "1                                               1.00   \n",
      "2                                               1.00   \n",
      "3                                               1.00   \n",
      "4                                               1.00   \n",
      "...                                              ...   \n",
      "62883                                           0.69   \n",
      "62884                                           0.73   \n",
      "62885                                           0.93   \n",
      "62886                                           0.64   \n",
      "62887                                           0.34   \n",
      "\n",
      "       Total Wage Location Quotient Relative to U.S.  \n",
      "0                                               1.00  \n",
      "1                                               1.00  \n",
      "2                                               1.00  \n",
      "3                                               1.00  \n",
      "4                                               1.00  \n",
      "...                                              ...  \n",
      "62883                                           0.56  \n",
      "62884                                           1.07  \n",
      "62885                                           1.16  \n",
      "62886                                           0.76  \n",
      "62887                                           0.21  \n",
      "\n",
      "[62888 rows x 20 columns]\n"
     ]
    }
   ],
   "source": [
    "print(raw_df)"
   ]
  },
  {
   "cell_type": "code",
   "execution_count": null,
   "metadata": {},
   "outputs": [],
   "source": [
    "# //*** CODE HERE"
   ]
  },
  {
   "cell_type": "code",
   "execution_count": null,
   "metadata": {},
   "outputs": [],
   "source": [
    "# //*** CODE HERE"
   ]
  },
  {
   "cell_type": "code",
   "execution_count": null,
   "metadata": {},
   "outputs": [],
   "source": [
    "# //*** CODE HERE"
   ]
  }
 ],
 "metadata": {
  "kernelspec": {
   "display_name": "Python 3",
   "language": "python",
   "name": "python3"
  },
  "language_info": {
   "codemirror_mode": {
    "name": "ipython",
    "version": 3
   },
   "file_extension": ".py",
   "mimetype": "text/x-python",
   "name": "python",
   "nbconvert_exporter": "python",
   "pygments_lexer": "ipython3",
   "version": "3.8.3"
  }
 },
 "nbformat": 4,
 "nbformat_minor": 4
}
