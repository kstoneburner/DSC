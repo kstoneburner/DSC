{
 "cells": [
  {
   "cell_type": "markdown",
   "metadata": {},
   "source": [
    "# Stoneburner, Kurt\n",
    "- ## DSC 640 - HTML Pipeline Tool"
   ]
  },
  {
   "cell_type": "code",
   "execution_count": 3,
   "metadata": {},
   "outputs": [
    {
     "data": {
      "text/html": [
       "<style>.container { width:100% !important; }</style>"
      ],
      "text/plain": [
       "<IPython.core.display.HTML object>"
      ]
     },
     "metadata": {},
     "output_type": "display_data"
    }
   ],
   "source": [
    "import os\n",
    "import sys\n",
    "import shutil\n",
    "\n",
    "#//*** Use the whole window in the IPYNB editor\n",
    "from IPython.core.display import display, HTML\n",
    "display(HTML(\"<style>.container { width:100% !important; }</style>\"))\n",
    "\n"
   ]
  },
  {
   "cell_type": "code",
   "execution_count": 4,
   "metadata": {},
   "outputs": [],
   "source": [
    "#//**** \n",
    "g = {\n",
    "    'week' : 'Week 03/04',\n",
    "    'exercise' : 'Exercise 2.2: Line Charts and Step Charts',\n",
    "    'root_path' : 'kstoneburner.github.io',\n",
    "    'folder_path': \"DSC640/wk03_04\",\n",
    "    'html' : \"wk03_04.html\",\n",
    "    'files' : {\n",
    "        'output_wk03_04_python_line_step' :'output_wk03_04_python_line_step.png',\n",
    "        'output_wk03_04_r_line' : 'output_wk03_04_r_line.jpg',\n",
    "        'output_wk03_04_r_step' : 'output_wk03_04_r_step.jpg',\n",
    "        'output_wk03_04_powerbi_line_step' : 'output_wk03_04_powerbi_line_step.png',\n",
    "    },\n",
    "    'text_replace' : {\n",
    "        'link_1' : 'https://github.com/kstoneburner/DSC/blob/master/DSC640/DSC640_wk03_Python_Line_Step_Chart.ipynb',\n",
    "        'link_description_1' : 'Github Notebook: Python Line & Step Graph',\n",
    "        'link_2' : 'https://github.com/kstoneburner/DSC/blob/master/DSC640/DSC640_wk03_R_Line_and_Step_Graphs.ipynb',\n",
    "        'link_description_2' : 'Github Notebook: R Line & Step Graph',\n",
    "    }\n",
    "    \n",
    "    \n",
    "}\n"
   ]
  },
  {
   "cell_type": "code",
   "execution_count": 8,
   "metadata": {},
   "outputs": [],
   "source": [
    "#//**** \n",
    "g = {\n",
    "    'week' : 'Week 05/06',\n",
    "    'exercise' : 'Exercise 3.2: Tree Maps, Area Charts, and Stacked Area Charts',\n",
    "    'root_path' : 'kstoneburner.github.io',\n",
    "    'folder_path': \"DSC640/wk05_06\",\n",
    "    'html' : \"wk05_06.html\",\n",
    "    'files' : {\n",
    "        'output_wk05_06_python_treemap_housing' : 'output_wk05_06_python_treemap_housing.png',\n",
    "        'output_wk05_06_python_area_stacked_expenditures' : 'output_wk05_06_python_area_stacked_expenditures.png',\n",
    "        'output_wk05_06_python_area_stacked_expenditures_percent' : 'output_wk05_06_python_area_stacked_expenditures_percent.png',\n",
    "        'output_wk05_06_python_area_stacked_unemployment' : 'output_wk05_06_python_area_stacked_unemployment.png',\n",
    "        'output_wk05_06_python_area_us_unemployment' : 'output_wk05_06_python_area_us_unemployment.png',\n",
    "    },\n",
    "    'text_replace' : {\n",
    "        'link_1' : 'https://github.com/kstoneburner/DSC/blob/master/DSC640/DSC640_wk03_Python_Line_Step_Chart.ipynb',\n",
    "        'link_description_1' : 'Github Notebook: Python Line & Step Graph',\n",
    "        'link_2' : 'https://github.com/kstoneburner/DSC/blob/master/DSC640/DSC640_wk03_R_Line_and_Step_Graphs.ipynb',\n",
    "        'link_description_2' : 'Github Notebook: R Line & Step Graph',\n",
    "    },\n",
    "    'copy_folders' : {\n",
    "        '/anim_gif/wk05' : '/images'\n",
    "    }\n",
    "    \n",
    "}\n"
   ]
  },
  {
   "cell_type": "code",
   "execution_count": 15,
   "metadata": {
    "scrolled": true
   },
   "outputs": [
    {
     "name": "stdout",
     "output_type": "stream",
     "text": [
      "C:/Users/family/DSCProjects/DSC/DSC640\n"
     ]
    }
   ],
   "source": [
    "#//****************************************************************************************\n",
    "#//*** Copy the HTML/Javascript & Animated GIFs o the Website Production Folder\n",
    "#//****************************************************************************************\n",
    "directory_path = os.getcwd()\n",
    "\n",
    "directory_path = directory_path.replace(\"\\\\\",\"/\")\n",
    "\n",
    "#//*** Remove two sublevels to get to github root\n",
    "directory_path = \"\".join(f\"{x}/\" for x in directory_path.split(\"/\")[:-2])\n",
    "\n",
    "#//*** Add in Fixed Relative path\n",
    "directory_path += f\"{g['root_path']}/{g['folder_path']}/\"\n",
    "\n",
    "directory_path\n",
    "\n",
    "template_filename = g['html'].replace('.html','.template.html')\n",
    "\n",
    "directory_path,template_filename\n",
    "\n",
    "#//*** Load the Template\n",
    "with open(f\"{directory_path}{template_filename}\" , \"r\") as f:\n",
    "    template_text = f.read()\n",
    "\n",
    "#//*** Copy Files and perform template update\n",
    "for find,replace in g['files'].items():\n",
    "    shutil.copyfile(replace, f\"{directory_path}{replace}\")\n",
    "    \n",
    "    template_text = template_text.replace(f\"$${find}$$\",replace)\n",
    "\n",
    "#//*** Find and Replace text based placeholders\n",
    "for find,replace in g['text_replace'].items():\n",
    "    template_text = template_text.replace(f\"$${find}$$\",replace)\n",
    "\n",
    "    \n",
    "#//*** Specific Replacement\n",
    "template_text = template_text.replace(f\"$$week$$\",g['week'])\n",
    "template_text = template_text.replace(f\"$$exercise$$\",g['exercise'])\n",
    "\n",
    "#//*** Copy Folders\n",
    "if 'copy_folders' in g.keys():\n",
    "    cur_dir = os.getcwd().replace(\"\\\\\",\"/\")\n",
    "    for source,dest in g['copy_folders']\n",
    "    print(cur_dir)\n",
    "    \n",
    "\n",
    "#//*** Write the updated text to file\n",
    "with open(f\"{directory_path}{g['html']}\" , \"w\") as f:\n",
    "    f.write(template_text)"
   ]
  },
  {
   "cell_type": "code",
   "execution_count": null,
   "metadata": {},
   "outputs": [],
   "source": [
    "# //*** CODE HERE"
   ]
  },
  {
   "cell_type": "code",
   "execution_count": null,
   "metadata": {},
   "outputs": [],
   "source": [
    "# //*** CODE HERE"
   ]
  },
  {
   "cell_type": "code",
   "execution_count": null,
   "metadata": {},
   "outputs": [],
   "source": [
    "# //*** CODE HERE"
   ]
  }
 ],
 "metadata": {
  "kernelspec": {
   "display_name": "Python 3",
   "language": "python",
   "name": "python3"
  },
  "language_info": {
   "codemirror_mode": {
    "name": "ipython",
    "version": 3
   },
   "file_extension": ".py",
   "mimetype": "text/x-python",
   "name": "python",
   "nbconvert_exporter": "python",
   "pygments_lexer": "ipython3",
   "version": "3.8.10"
  }
 },
 "nbformat": 4,
 "nbformat_minor": 4
}
