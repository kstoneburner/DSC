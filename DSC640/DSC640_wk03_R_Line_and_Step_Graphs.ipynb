{
 "cells": [
  {
   "cell_type": "code",
   "execution_count": 2,
   "id": "5d738f0b",
   "metadata": {},
   "outputs": [
    {
     "name": "stderr",
     "output_type": "stream",
     "text": [
      "Loading required package: pacman\n",
      "Warning message:\n",
      "\"package 'pacman' was built under R version 3.6.3\""
     ]
    }
   ],
   "source": [
    "#//*** Load Libraries.\n",
    "#//*** Install Pacman installer if not loaded\n",
    "if (!require(\"pacman\")) install.packages(\"pacman\")\n",
    "\n",
    "#//*** Load libraries with pacman.\n",
    "#//*** Automatically installs libraries as needed.\n",
    "p_load(ggplot2, ggthemes, dplyr, readr, scales, forcats, readxl, showtext, ggrepel)"
   ]
  },
  {
   "cell_type": "code",
   "execution_count": 3,
   "id": "83e96a2c",
   "metadata": {},
   "outputs": [],
   "source": [
    "font_add(\"Tahoma\",\"Tahoma.ttf\")\n",
    "font_add(\"XKCD\",\"./fonts/xkcd-Regular.otf\")\n",
    "font_add(\"Roboto Condensed\", \"./fonts/RobotoCondensed-Regular.ttf\")\n",
    "#font_add(\"Decima Mono Pro\",\"DecimaMonoPro.otf\")\n",
    "showtext_auto()"
   ]
  },
  {
   "cell_type": "code",
   "execution_count": 4,
   "id": "658f6814",
   "metadata": {},
   "outputs": [
    {
     "data": {
      "text/html": [
       "<table>\n",
       "<thead><tr><th scope=col>Year</th><th scope=col>Population</th></tr></thead>\n",
       "<tbody>\n",
       "\t<tr><td>1960      </td><td>3028654024</td></tr>\n",
       "\t<tr><td>1961      </td><td>3068356747</td></tr>\n",
       "\t<tr><td>1962      </td><td>3121963107</td></tr>\n",
       "\t<tr><td>1963      </td><td>3187471383</td></tr>\n",
       "\t<tr><td>1964      </td><td>3253112403</td></tr>\n",
       "\t<tr><td>1965      </td><td>3320396924</td></tr>\n",
       "\t<tr><td>1966      </td><td>3390712300</td></tr>\n",
       "\t<tr><td>1967      </td><td>3460521851</td></tr>\n",
       "\t<tr><td>1968      </td><td>3531547287</td></tr>\n",
       "\t<tr><td>1969      </td><td>3606994959</td></tr>\n",
       "\t<tr><td>1970      </td><td>3682870688</td></tr>\n",
       "\t<tr><td>1971      </td><td>3761750672</td></tr>\n",
       "\t<tr><td>1972      </td><td>3839147707</td></tr>\n",
       "\t<tr><td>1973      </td><td>3915742695</td></tr>\n",
       "\t<tr><td>1974      </td><td>3992806090</td></tr>\n",
       "\t<tr><td>1975      </td><td>4068032705</td></tr>\n",
       "\t<tr><td>1976      </td><td>4141383058</td></tr>\n",
       "\t<tr><td>1977      </td><td>4214499013</td></tr>\n",
       "\t<tr><td>1978      </td><td>4288485981</td></tr>\n",
       "\t<tr><td>1979      </td><td>4363754326</td></tr>\n",
       "\t<tr><td>1980      </td><td>4439638086</td></tr>\n",
       "\t<tr><td>1981      </td><td>4516734312</td></tr>\n",
       "\t<tr><td>1982      </td><td>4595890494</td></tr>\n",
       "\t<tr><td>1983      </td><td>4675178812</td></tr>\n",
       "\t<tr><td>1984      </td><td>4753877875</td></tr>\n",
       "\t<tr><td>1985      </td><td>4834206631</td></tr>\n",
       "\t<tr><td>1986      </td><td>4918126890</td></tr>\n",
       "\t<tr><td>1987      </td><td>5004006066</td></tr>\n",
       "\t<tr><td>1988      </td><td>5090899475</td></tr>\n",
       "\t<tr><td>1989      </td><td>5178059174</td></tr>\n",
       "\t<tr><td>1990      </td><td>5266783430</td></tr>\n",
       "\t<tr><td>1991      </td><td>5351836347</td></tr>\n",
       "\t<tr><td>1992      </td><td>5433823608</td></tr>\n",
       "\t<tr><td>1993      </td><td>5516863641</td></tr>\n",
       "\t<tr><td>1994      </td><td>5598658151</td></tr>\n",
       "\t<tr><td>1995      </td><td>5681689325</td></tr>\n",
       "\t<tr><td>1996      </td><td>5762235749</td></tr>\n",
       "\t<tr><td>1997      </td><td>5842585301</td></tr>\n",
       "\t<tr><td>1998      </td><td>5921799957</td></tr>\n",
       "\t<tr><td>1999      </td><td>6001269553</td></tr>\n",
       "\t<tr><td>2000      </td><td>6078274622</td></tr>\n",
       "\t<tr><td>2001      </td><td>6155652495</td></tr>\n",
       "\t<tr><td>2002      </td><td>6232413711</td></tr>\n",
       "\t<tr><td>2003      </td><td>6309266583</td></tr>\n",
       "\t<tr><td>2004      </td><td>6385778679</td></tr>\n",
       "\t<tr><td>2005      </td><td>6462054420</td></tr>\n",
       "\t<tr><td>2006      </td><td>6538196688</td></tr>\n",
       "\t<tr><td>2007      </td><td>6614396907</td></tr>\n",
       "\t<tr><td>2008      </td><td>6692030277</td></tr>\n",
       "\t<tr><td>2009      </td><td>6775235741</td></tr>\n",
       "</tbody>\n",
       "</table>\n"
      ],
      "text/latex": [
       "\\begin{tabular}{r|ll}\n",
       " Year & Population\\\\\n",
       "\\hline\n",
       "\t 1960       & 3028654024\\\\\n",
       "\t 1961       & 3068356747\\\\\n",
       "\t 1962       & 3121963107\\\\\n",
       "\t 1963       & 3187471383\\\\\n",
       "\t 1964       & 3253112403\\\\\n",
       "\t 1965       & 3320396924\\\\\n",
       "\t 1966       & 3390712300\\\\\n",
       "\t 1967       & 3460521851\\\\\n",
       "\t 1968       & 3531547287\\\\\n",
       "\t 1969       & 3606994959\\\\\n",
       "\t 1970       & 3682870688\\\\\n",
       "\t 1971       & 3761750672\\\\\n",
       "\t 1972       & 3839147707\\\\\n",
       "\t 1973       & 3915742695\\\\\n",
       "\t 1974       & 3992806090\\\\\n",
       "\t 1975       & 4068032705\\\\\n",
       "\t 1976       & 4141383058\\\\\n",
       "\t 1977       & 4214499013\\\\\n",
       "\t 1978       & 4288485981\\\\\n",
       "\t 1979       & 4363754326\\\\\n",
       "\t 1980       & 4439638086\\\\\n",
       "\t 1981       & 4516734312\\\\\n",
       "\t 1982       & 4595890494\\\\\n",
       "\t 1983       & 4675178812\\\\\n",
       "\t 1984       & 4753877875\\\\\n",
       "\t 1985       & 4834206631\\\\\n",
       "\t 1986       & 4918126890\\\\\n",
       "\t 1987       & 5004006066\\\\\n",
       "\t 1988       & 5090899475\\\\\n",
       "\t 1989       & 5178059174\\\\\n",
       "\t 1990       & 5266783430\\\\\n",
       "\t 1991       & 5351836347\\\\\n",
       "\t 1992       & 5433823608\\\\\n",
       "\t 1993       & 5516863641\\\\\n",
       "\t 1994       & 5598658151\\\\\n",
       "\t 1995       & 5681689325\\\\\n",
       "\t 1996       & 5762235749\\\\\n",
       "\t 1997       & 5842585301\\\\\n",
       "\t 1998       & 5921799957\\\\\n",
       "\t 1999       & 6001269553\\\\\n",
       "\t 2000       & 6078274622\\\\\n",
       "\t 2001       & 6155652495\\\\\n",
       "\t 2002       & 6232413711\\\\\n",
       "\t 2003       & 6309266583\\\\\n",
       "\t 2004       & 6385778679\\\\\n",
       "\t 2005       & 6462054420\\\\\n",
       "\t 2006       & 6538196688\\\\\n",
       "\t 2007       & 6614396907\\\\\n",
       "\t 2008       & 6692030277\\\\\n",
       "\t 2009       & 6775235741\\\\\n",
       "\\end{tabular}\n"
      ],
      "text/markdown": [
       "\n",
       "| Year | Population |\n",
       "|---|---|\n",
       "| 1960       | 3028654024 |\n",
       "| 1961       | 3068356747 |\n",
       "| 1962       | 3121963107 |\n",
       "| 1963       | 3187471383 |\n",
       "| 1964       | 3253112403 |\n",
       "| 1965       | 3320396924 |\n",
       "| 1966       | 3390712300 |\n",
       "| 1967       | 3460521851 |\n",
       "| 1968       | 3531547287 |\n",
       "| 1969       | 3606994959 |\n",
       "| 1970       | 3682870688 |\n",
       "| 1971       | 3761750672 |\n",
       "| 1972       | 3839147707 |\n",
       "| 1973       | 3915742695 |\n",
       "| 1974       | 3992806090 |\n",
       "| 1975       | 4068032705 |\n",
       "| 1976       | 4141383058 |\n",
       "| 1977       | 4214499013 |\n",
       "| 1978       | 4288485981 |\n",
       "| 1979       | 4363754326 |\n",
       "| 1980       | 4439638086 |\n",
       "| 1981       | 4516734312 |\n",
       "| 1982       | 4595890494 |\n",
       "| 1983       | 4675178812 |\n",
       "| 1984       | 4753877875 |\n",
       "| 1985       | 4834206631 |\n",
       "| 1986       | 4918126890 |\n",
       "| 1987       | 5004006066 |\n",
       "| 1988       | 5090899475 |\n",
       "| 1989       | 5178059174 |\n",
       "| 1990       | 5266783430 |\n",
       "| 1991       | 5351836347 |\n",
       "| 1992       | 5433823608 |\n",
       "| 1993       | 5516863641 |\n",
       "| 1994       | 5598658151 |\n",
       "| 1995       | 5681689325 |\n",
       "| 1996       | 5762235749 |\n",
       "| 1997       | 5842585301 |\n",
       "| 1998       | 5921799957 |\n",
       "| 1999       | 6001269553 |\n",
       "| 2000       | 6078274622 |\n",
       "| 2001       | 6155652495 |\n",
       "| 2002       | 6232413711 |\n",
       "| 2003       | 6309266583 |\n",
       "| 2004       | 6385778679 |\n",
       "| 2005       | 6462054420 |\n",
       "| 2006       | 6538196688 |\n",
       "| 2007       | 6614396907 |\n",
       "| 2008       | 6692030277 |\n",
       "| 2009       | 6775235741 |\n",
       "\n"
      ],
      "text/plain": [
       "   Year Population\n",
       "1  1960 3028654024\n",
       "2  1961 3068356747\n",
       "3  1962 3121963107\n",
       "4  1963 3187471383\n",
       "5  1964 3253112403\n",
       "6  1965 3320396924\n",
       "7  1966 3390712300\n",
       "8  1967 3460521851\n",
       "9  1968 3531547287\n",
       "10 1969 3606994959\n",
       "11 1970 3682870688\n",
       "12 1971 3761750672\n",
       "13 1972 3839147707\n",
       "14 1973 3915742695\n",
       "15 1974 3992806090\n",
       "16 1975 4068032705\n",
       "17 1976 4141383058\n",
       "18 1977 4214499013\n",
       "19 1978 4288485981\n",
       "20 1979 4363754326\n",
       "21 1980 4439638086\n",
       "22 1981 4516734312\n",
       "23 1982 4595890494\n",
       "24 1983 4675178812\n",
       "25 1984 4753877875\n",
       "26 1985 4834206631\n",
       "27 1986 4918126890\n",
       "28 1987 5004006066\n",
       "29 1988 5090899475\n",
       "30 1989 5178059174\n",
       "31 1990 5266783430\n",
       "32 1991 5351836347\n",
       "33 1992 5433823608\n",
       "34 1993 5516863641\n",
       "35 1994 5598658151\n",
       "36 1995 5681689325\n",
       "37 1996 5762235749\n",
       "38 1997 5842585301\n",
       "39 1998 5921799957\n",
       "40 1999 6001269553\n",
       "41 2000 6078274622\n",
       "42 2001 6155652495\n",
       "43 2002 6232413711\n",
       "44 2003 6309266583\n",
       "45 2004 6385778679\n",
       "46 2005 6462054420\n",
       "47 2006 6538196688\n",
       "48 2007 6614396907\n",
       "49 2008 6692030277\n",
       "50 2009 6775235741"
      ]
     },
     "metadata": {},
     "output_type": "display_data"
    }
   ],
   "source": [
    "raw_df <- read_excel(\"z_wk03_world-population.xlsm\")\n",
    "raw_df"
   ]
  },
  {
   "cell_type": "code",
   "execution_count": 5,
   "id": "0a7d3555",
   "metadata": {
    "scrolled": false
   },
   "outputs": [
    {
     "data": {
      "text/html": [
       "<strong>png:</strong> 2"
      ],
      "text/latex": [
       "\\textbf{png:} 2"
      ],
      "text/markdown": [
       "**png:** 2"
      ],
      "text/plain": [
       "png \n",
       "  2 "
      ]
     },
     "metadata": {},
     "output_type": "display_data"
    },
    {
     "data": {
      "image/png": "[encoded data removed]",
      "text/plain": [
       "plot without title"
      ]
     },
     "metadata": {},
     "output_type": "display_data"
    }
   ],
   "source": [
    "plot_df <- raw_df\n",
    "\n",
    "fill <- c(\"#b2d183\",\"#40b8d0\")\n",
    "fill <- c(\"#c44240\",\"#ca5553\", \"#d06866\", \"#d67b79\", \"#dc8e8c\", \"#e2a1a0\", \"#e7b3b3\", \"#edc6c6\", \"#f3d9d9\", \"#f9ecec\", \"#ffffff\")\n",
    "fill <- c(\"#d06866\", \"#e2a1a0\", \"#f3d9d9\", \"#f9ecec\", \"#ffffff\")\n",
    "fontsize <- 20\n",
    "p <- ggplot(data=plot_df, aes(x=Population/1000000000, y=Year))+\n",
    "    geom_line(size=1.5, color='red')+\n",
    "    labs(\n",
    "        title=\"World Population [1960 - 2010]\",\n",
    "        subtitle=\"('R' Graph)\",\n",
    "        x=\"\",\n",
    "        y=\"Year\",\n",
    "        size=1.5\n",
    "\n",
    "\n",
    "    ) +\n",
    "    #theme_fivethirtyeight()+\n",
    "    scale_x_continuous(\"Population (billions)\", expand = c(0, 0),labels=comma)+\n",
    "    theme(#axis.line.x = element_blank(),\n",
    "        #axis.line = element_blank(),\n",
    "        #axis.line.y = element_line(size = .5, colour = \"black\"),\n",
    "        axis.text.x = element_text(colour = \"black\", size = fontsize/1.5),\n",
    "        axis.text.y = element_text(colour = \"black\", size = fontsize/1.5),\n",
    "        legend.key = element_rect(fill = \"white\", colour = \"white\"),\n",
    "        legend.position = \"bottom\", legend.direction = \"horizontal\",\n",
    "        legend.title = element_blank(),\n",
    "        #panel.grid.major = element_blank(),\n",
    "        #panel.grid.minor = element_blank(), panel.border = element_blank(),\n",
    "        panel.background = element_rect(fill = '#CCCCFF'),\n",
    "        plot.title = element_text(family = \"Tahoma\", size=fontsize),\n",
    "        axis.ticks = element_blank(),\n",
    "        text = element_text(family = \"Tahoma\"),\n",
    "        axis.title = element_text(size=fontsize)\n",
    "    ) \n",
    "p\n",
    "\n",
    "jpeg(\"output_wk03_04_r_line.jpg\")\n",
    "print(p)\n",
    "dev.off()\n",
    "\n",
    "#sum(plot_df[\"Annual Average Employment\"])"
   ]
  },
  {
   "cell_type": "code",
   "execution_count": 6,
   "id": "31dc7f47",
   "metadata": {},
   "outputs": [
    {
     "data": {
      "text/html": [
       "<strong>png:</strong> 2"
      ],
      "text/latex": [
       "\\textbf{png:} 2"
      ],
      "text/markdown": [
       "**png:** 2"
      ],
      "text/plain": [
       "png \n",
       "  2 "
      ]
     },
     "metadata": {},
     "output_type": "display_data"
    },
    {
     "data": {
      "image/png": "[encoded data removed]",
      "text/plain": [
       "plot without title"
      ]
     },
     "metadata": {},
     "output_type": "display_data"
    }
   ],
   "source": [
    "p <- ggplot(data=plot_df, aes(x=Population/1000000000, y=Year))+\n",
    "    geom_step(size=1.5, color='red')+\n",
    "    labs(\n",
    "        title=\"World Population [1960 - 2010]\",\n",
    "        subtitle=\"('R' Graph)\",\n",
    "        x=\"\",\n",
    "        y=\"Year\",\n",
    "        size=1.5\n",
    "\n",
    "\n",
    "    ) +\n",
    "    #theme_fivethirtyeight()+\n",
    "    scale_x_continuous(\"Population (billions)\", expand = c(0, 0),labels=comma)+\n",
    "    theme(#axis.line.x = element_blank(),\n",
    "        #axis.line = element_blank(),\n",
    "        #axis.line.y = element_line(size = .5, colour = \"black\"),\n",
    "        axis.text.x = element_text(colour = \"black\", size = fontsize/1.5),\n",
    "        axis.text.y = element_text(colour = \"black\", size = fontsize/1.5),\n",
    "        legend.key = element_rect(fill = \"white\", colour = \"white\"),\n",
    "        legend.position = \"bottom\", legend.direction = \"horizontal\",\n",
    "        legend.title = element_blank(),\n",
    "        #panel.grid.major = element_blank(),\n",
    "        #panel.grid.minor = element_blank(), panel.border = element_blank(),\n",
    "        panel.background = element_rect(fill = '#CCCCFF'),\n",
    "        plot.title = element_text(family = \"Tahoma\", size=fontsize),\n",
    "        axis.ticks = element_blank(),\n",
    "        text = element_text(family = \"Tahoma\"),\n",
    "        axis.title = element_text(size=fontsize)\n",
    "    )\n",
    "p\n",
    "jpeg(\"output_wk03_04_r_step.jpg\")\n",
    "print(p)\n",
    "dev.off()"
   ]
  },
  {
   "cell_type": "code",
   "execution_count": null,
   "id": "ccabef5a",
   "metadata": {},
   "outputs": [],
   "source": []
  }
 ],
 "metadata": {
  "kernelspec": {
   "display_name": "R",
   "language": "R",
   "name": "ir"
  },
  "language_info": {
   "codemirror_mode": "r",
   "file_extension": ".r",
   "mimetype": "text/x-r-source",
   "name": "R",
   "pygments_lexer": "r",
   "version": "3.6.1"
  }
 },
 "nbformat": 4,
 "nbformat_minor": 5
}
