{
 "cells": [
  {
   "cell_type": "markdown",
   "metadata": {},
   "source": [
    "# Stoneburner, Kurt\n",
    "- ## DSC 650 - Assignment 12\n",
    "\n",
    "\n",
    "Importing Pillow images into Numpy\n",
    "https://www.pluralsight.com/guides/importing-image-data-into-numpy-arrays\n",
    "\n",
    "Pillow Resize Images: https://pythonexamples.org/python-pillow-resize-image/\n",
    "\n",
    "Celeb A Dataset: http://mmlab.ie.cuhk.edu.hk/projects/CelebA.html"
   ]
  },
  {
   "cell_type": "code",
   "execution_count": 1,
   "metadata": {},
   "outputs": [
    {
     "ename": "ModuleNotFoundError",
     "evalue": "No module named 'tensorflow'",
     "output_type": "error",
     "traceback": [
      "\u001b[1;31m---------------------------------------------------------------------------\u001b[0m",
      "\u001b[1;31mModuleNotFoundError\u001b[0m                       Traceback (most recent call last)",
      "\u001b[1;32m~\\AppData\\Local\\Temp/ipykernel_13404/3732029774.py\u001b[0m in \u001b[0;36m<module>\u001b[1;34m\u001b[0m\n\u001b[0;32m      8\u001b[0m \u001b[1;32mimport\u001b[0m \u001b[0mtime\u001b[0m\u001b[1;33m\u001b[0m\u001b[1;33m\u001b[0m\u001b[0m\n\u001b[0;32m      9\u001b[0m \u001b[1;33m\u001b[0m\u001b[0m\n\u001b[1;32m---> 10\u001b[1;33m \u001b[1;32mimport\u001b[0m \u001b[0mtensorflow\u001b[0m \u001b[1;32mas\u001b[0m \u001b[0mtf\u001b[0m\u001b[1;33m\u001b[0m\u001b[1;33m\u001b[0m\u001b[0m\n\u001b[0m\u001b[0;32m     11\u001b[0m \u001b[1;32mfrom\u001b[0m \u001b[0mtensorflow\u001b[0m \u001b[1;32mimport\u001b[0m \u001b[0mkeras\u001b[0m\u001b[1;33m\u001b[0m\u001b[1;33m\u001b[0m\u001b[0m\n\u001b[0;32m     12\u001b[0m \u001b[1;32mfrom\u001b[0m \u001b[0mtensorflow\u001b[0m\u001b[1;33m.\u001b[0m\u001b[0mkeras\u001b[0m \u001b[1;32mimport\u001b[0m \u001b[0mlayers\u001b[0m\u001b[1;33m\u001b[0m\u001b[1;33m\u001b[0m\u001b[0m\n",
      "\u001b[1;31mModuleNotFoundError\u001b[0m: No module named 'tensorflow'"
     ]
    }
   ],
   "source": [
    "import os\n",
    "import sys\n",
    "# //*** Imports and Load Data\n",
    "import matplotlib.pyplot as plt\n",
    "import numpy as np\n",
    "import pandas as pd\n",
    "from pathlib import Path\n",
    "import time\n",
    "\n",
    "import tensorflow as tf\n",
    "from tensorflow import keras\n",
    "from tensorflow.keras import layers\n",
    "\n",
    "#//*** Use the whole window in the IPYNB editor\n",
    "from IPython.display import display, HTML\n",
    "display(HTML(\"<style>.container { width:100% !important; }</style>\"))\n",
    "\n",
    "#//*** Clear the output display, helpful for content that updates\n",
    "from IPython.display import clear_output\n",
    "\n",
    "\n",
    "#//*** Maximize columns and rows displayed by pandas\n",
    "pd.set_option('display.max_rows', 100)\n",
    "pd.set_option('display.max_columns', None)\n",
    "\n",
    "import PIL\n",
    "from PIL import Image\n",
    "#//*** Get Working Directory\n",
    "current_dir = Path(os.getcwd()).absolute()\n",
    "\n",
    "#//*** Build Image Directory\n",
    "base_image_dir = current_dir.parents[2].joinpath(\"img_align_celeba\")\n",
    "\n",
    "resize_dir = base_image_dir.joinpath(\"resize_28\")\n",
    "\n",
    "if os.path.exists(resize_dir) == False:\n",
    "    os.mkdir( resize_dir)"
   ]
  },
  {
   "cell_type": "code",
   "execution_count": null,
   "metadata": {},
   "outputs": [],
   "source": []
  },
  {
   "cell_type": "markdown",
   "metadata": {},
   "source": [
    "Tensorflow Datasets: https://www.tensorflow.org/datasets/overview"
   ]
  },
  {
   "cell_type": "code",
   "execution_count": null,
   "metadata": {
    "scrolled": false
   },
   "outputs": [],
   "source": [
    "\n",
    "#//**** 128x128 attributes\n",
    "attribs = {\n",
    "    'size' : (128,128),\n",
    "    'keras_dims' : (128,128,3),\n",
    "\n",
    "    'sample_size' : 1005,\n",
    "    'test_split' : .5\n",
    "}\n",
    "\n",
    "#//**** 28x28 attributes\n",
    "attribs = {\n",
    "    'size' : (28,28),\n",
    "    'keras_dims' : (28,28,3),\n",
    "\n",
    "    'sample_size' : 100000,\n",
    "    'test_split' : .1\n",
    "}\n",
    "\n",
    "\n",
    "\n",
    "\n",
    "x_train = []\n",
    "\n",
    "\n",
    "\n",
    "\n",
    "counter = 1\n",
    "for filename in os.listdir(base_image_dir)[:attribs['sample_size']]:\n",
    "    clear_output(wait=True)\n",
    "    \n",
    "    \n",
    "    #//*** Check if File has already been resized\n",
    "    if os.path.exists(resize_dir.joinpath(filename)) == False:\n",
    "        print(\"Resizing: \", counter,\"/\",attribs['sample_size'])\n",
    "\n",
    "        #//*** File does not exist. Open original and resize\n",
    "    \n",
    "        #//*** Open Pillow Image Object\n",
    "        image = Image.open(base_image_dir.joinpath(filename))\n",
    "    \n",
    "        #//*** Resize Image\n",
    "        image = image.resize(attribs['size'])\n",
    "        \n",
    "        #//*** Save Image\n",
    "        image.save(resize_dir.joinpath(filename))\n",
    "         \n",
    "        #//*** Add image to training set\n",
    "        x_train.append( np.asarray(image) )\n",
    "    \n",
    "    else:\n",
    "        print(\"Processing: \", counter,\"/\",attribs['sample_size'])\n",
    "        #//*** File Exists, Load it\n",
    "        #//*** Open Pillow Image Object\n",
    "        x_train.append(np.asarray(Image.open(resize_dir.joinpath(filename))))\n",
    "        \n",
    "    counter += 1\n",
    "\n",
    "    \n",
    "    #//*** Display Images\n",
    "    #plt.imshow(image.resize(attribs['dims']))\n",
    "    #plt.show()\n",
    "    #print(type(data))\n",
    "    #print(data.shape)\n",
    "\n",
    "#//*** Display a sample image\n",
    "plt.imshow(Image.fromarray(x_train[0])   )\n",
    "plt.show()\n",
    "\n",
    "print(x_train[0].shape)\n",
    "\n",
    "#//*** Index to split for test train\n",
    "split_index = len(x_train) - int(len(x_train)*attribs['test_split'])\n",
    "print(split_index)\n",
    "\n",
    "x_test = x_train[split_index:]\n",
    "\n",
    "x_train = x_train[:split_index]\n",
    "\n",
    "print(len(x_train),len(x_test))"
   ]
  },
  {
   "cell_type": "code",
   "execution_count": null,
   "metadata": {},
   "outputs": [],
   "source": []
  },
  {
   "cell_type": "code",
   "execution_count": null,
   "metadata": {},
   "outputs": [],
   "source": []
  },
  {
   "cell_type": "markdown",
   "metadata": {},
   "source": [
    "**Variational Autoencoder network**"
   ]
  },
  {
   "cell_type": "code",
   "execution_count": null,
   "metadata": {},
   "outputs": [],
   "source": [
    "latent_dim = 3\n",
    "\n",
    "encoder_inputs = keras.Input(shape=(attribs['keras_dims']))\n",
    "x = layers.Conv2D(32, 3, activation=\"relu\", strides=2, padding=\"same\")(encoder_inputs)\n",
    "x = layers.Conv2D(64, 3, activation=\"relu\", strides=2, padding=\"same\")(x)\n",
    "x = layers.Flatten()(x)\n",
    "x = layers.Dense(16, activation=\"relu\")(x)\n",
    "z_mean = layers.Dense(latent_dim, name=\"z_mean\")(x)\n",
    "z_log_var = layers.Dense(latent_dim, name=\"z_log_var\")(x)\n",
    "encoder = keras.Model(encoder_inputs, [z_mean, z_log_var], name=\"encoder\")\n",
    "\n",
    "encoder.summary()"
   ]
  },
  {
   "cell_type": "markdown",
   "metadata": {},
   "source": [
    "**Latent-Sapce-Sampling Layer**"
   ]
  },
  {
   "cell_type": "code",
   "execution_count": null,
   "metadata": {},
   "outputs": [],
   "source": [
    "class Sampler(layers.Layer):\n",
    "    def call(self, z_mean, z_log_var):\n",
    "        batch_size = tf.shape(z_mean)[0]\n",
    "        z_size = tf.shape(z_mean)[1]\n",
    "        epsilon = tf.random.normal(shape=(batch_size, z_size))\n",
    "        return z_mean + tf.exp(0.5 * z_log_var) * epsilon\n",
    "\n"
   ]
  },
  {
   "cell_type": "markdown",
   "metadata": {},
   "source": [
    "**Variational decoder network, mapping latent space points to images**"
   ]
  },
  {
   "cell_type": "code",
   "execution_count": null,
   "metadata": {},
   "outputs": [],
   "source": [
    "#//*** Dimensional Value. Convenience value for resizing the output layer to match the input size.\n",
    "dv = 7\n",
    "latent_inputs = keras.Input(shape=(latent_dim,))\n",
    "x = layers.Dense(dv * dv * 64, activation=\"relu\")(latent_inputs)\n",
    "x = layers.Reshape((dv, dv, 64))(x)\n",
    "x = layers.Conv2DTranspose(64, 3, activation=\"relu\", strides=2, padding=\"same\")(x)\n",
    "x = layers.Conv2DTranspose(32, 3, activation=\"relu\", strides=2, padding=\"same\")(x)\n",
    "decoder_outputs = layers.Conv2D(3, 3, activation=\"sigmoid\", padding=\"same\")(x)\n",
    "decoder = keras.Model(latent_inputs, decoder_outputs, name=\"decoder\")\n",
    "\n",
    "decoder.summary()"
   ]
  },
  {
   "cell_type": "markdown",
   "metadata": {},
   "source": [
    "**Variational Autoencoder with custom train_step()**"
   ]
  },
  {
   "cell_type": "code",
   "execution_count": null,
   "metadata": {},
   "outputs": [],
   "source": [
    "class VAE(keras.Model):\n",
    "    def __init__(self, encoder, decoder, **kwargs):\n",
    "        super().__init__(**kwargs)\n",
    "        self.encoder = encoder\n",
    "        self.decoder = decoder\n",
    "        self.sampler = Sampler()\n",
    "        self.total_loss_tracker = keras.metrics.Mean(name=\"total_loss\")\n",
    "        self.reconstruction_loss_tracker = keras.metrics.Mean(\n",
    "            name=\"reconstruction_loss\")\n",
    "        self.kl_loss_tracker = keras.metrics.Mean(name=\"kl_loss\")\n",
    "\n",
    "    @property\n",
    "    def metrics(self):\n",
    "        return [self.total_loss_tracker,\n",
    "                self.reconstruction_loss_tracker,\n",
    "                self.kl_loss_tracker]\n",
    "\n",
    "    def train_step(self, data):\n",
    "        with tf.GradientTape() as tape:\n",
    "            z_mean, z_log_var = self.encoder(data)\n",
    "            z = self.sampler(z_mean, z_log_var)\n",
    "            reconstruction = decoder(z)\n",
    "            reconstruction_loss = tf.reduce_mean(\n",
    "                tf.reduce_sum(\n",
    "                    keras.losses.binary_crossentropy(data, reconstruction),\n",
    "                    axis=(1, 2)\n",
    "                )\n",
    "            )\n",
    "            kl_loss = -0.5 * (1 + z_log_var - tf.square(z_mean) - tf.exp(z_log_var))\n",
    "            total_loss = reconstruction_loss + tf.reduce_mean(kl_loss)\n",
    "        grads = tape.gradient(total_loss, self.trainable_weights)\n",
    "        self.optimizer.apply_gradients(zip(grads, self.trainable_weights))\n",
    "        self.total_loss_tracker.update_state(total_loss)\n",
    "        self.reconstruction_loss_tracker.update_state(reconstruction_loss)\n",
    "        self.kl_loss_tracker.update_state(kl_loss)\n",
    "        return {\n",
    "            \"total_loss\": self.total_loss_tracker.result(),\n",
    "            \"reconstruction_loss\": self.reconstruction_loss_tracker.result(),\n",
    "            \"kl_loss\": self.kl_loss_tracker.result(),\n",
    "        }"
   ]
  },
  {
   "cell_type": "markdown",
   "metadata": {},
   "source": [
    "**Training the Variational Auto Encoder**"
   ]
  },
  {
   "cell_type": "code",
   "execution_count": null,
   "metadata": {
    "scrolled": false
   },
   "outputs": [],
   "source": [
    "mnist_digits = np.concatenate([x_train, x_test], axis=0).astype(\"float32\") / 255\n",
    "#mnist_digits = np.expand_dims(mnist_digits, -1).astype(\"float32\") / 255\n",
    "\n",
    "\n",
    "\n",
    "print(mnist_digits.shape)\n",
    "#print(mnist_digits[0])\n",
    "\n",
    "for epoch in range(20):\n",
    "    \n",
    "    vae = VAE(encoder, decoder)\n",
    "    vae.compile(optimizer=keras.optimizers.Adam(), run_eagerly=True)\n",
    "    vae.fit(mnist_digits, epochs=1, verbose=1, batch_size=128)\n",
    "\n",
    "\n",
    "    import matplotlib.pyplot as plt\n",
    "    \n",
    "    \n",
    "    if epoch  == 0 or (epoch+1)%5 == 0:\n",
    "        print(\"==============\")\n",
    "        print(\"Epochs:\",epoch+1)\n",
    "        print(\"==============\")\n",
    "        \n",
    "\n",
    "        n = 10\n",
    "        digit_size = 128\n",
    "        figure = np.zeros((digit_size * n, digit_size * n))\n",
    "\n",
    "        grid_x = np.linspace(-1, 1, n)\n",
    "        grid_y = np.linspace(-1, 1, n)[::-1]\n",
    "        plt.figure(figsize=(40,40))\n",
    "        count=1\n",
    "        for i, yi in enumerate(grid_y):\n",
    "            for j, xi in enumerate(grid_x):\n",
    "                z_sample = np.array([[xi, yi,yi]])\n",
    "                x_decoded = vae.decoder.predict(z_sample)[0]\n",
    "                raw_img = (x_decoded*255).astype(np.uint8)\n",
    "                plt.subplot(n,n,count)\n",
    "                plt.imshow(Image.fromarray(raw_img)   )\n",
    "                plt.axis(\"off\")\n",
    "\n",
    "\n",
    "                count+=1\n",
    "\n",
    "        plt.show()\n",
    "        \n",
    "if (epoch+1)%5 != 0:\n",
    "    print(\"==============\")\n",
    "    print(\"Epochs:\",epoch+1)\n",
    "    print(\"==============\")\n",
    "\n",
    "\n",
    "    n = 10\n",
    "    digit_size = 128\n",
    "    figure = np.zeros((digit_size * n, digit_size * n))\n",
    "\n",
    "    grid_x = np.linspace(-1, 1, n)\n",
    "    grid_y = np.linspace(-1, 1, n)[::-1]\n",
    "    plt.figure(figsize=(40,40))\n",
    "    count=1\n",
    "    for i, yi in enumerate(grid_y):\n",
    "        for j, xi in enumerate(grid_x):\n",
    "            z_sample = np.array([[xi, yi,yi]])\n",
    "            x_decoded = vae.decoder.predict(z_sample)[0]\n",
    "            raw_img = (x_decoded*255).astype(np.uint8)\n",
    "            plt.subplot(n,n,count)\n",
    "            plt.imshow(Image.fromarray(raw_img)   )\n",
    "            plt.axis(\"off\")\n",
    "\n",
    "\n",
    "            count+=1\n",
    "\n",
    "    plt.show()"
   ]
  },
  {
   "cell_type": "code",
   "execution_count": null,
   "metadata": {
    "scrolled": false
   },
   "outputs": [],
   "source": []
  },
  {
   "cell_type": "code",
   "execution_count": null,
   "metadata": {
    "scrolled": false
   },
   "outputs": [],
   "source": []
  },
  {
   "cell_type": "code",
   "execution_count": null,
   "metadata": {},
   "outputs": [],
   "source": []
  },
  {
   "cell_type": "markdown",
   "metadata": {},
   "source": [
    "**Sampling a grid of images from the 2D latent space**"
   ]
  },
  {
   "cell_type": "code",
   "execution_count": null,
   "metadata": {},
   "outputs": [],
   "source": []
  },
  {
   "cell_type": "code",
   "execution_count": null,
   "metadata": {},
   "outputs": [],
   "source": []
  },
  {
   "cell_type": "code",
   "execution_count": null,
   "metadata": {},
   "outputs": [],
   "source": []
  },
  {
   "cell_type": "code",
   "execution_count": null,
   "metadata": {},
   "outputs": [],
   "source": []
  },
  {
   "cell_type": "code",
   "execution_count": null,
   "metadata": {},
   "outputs": [],
   "source": []
  },
  {
   "cell_type": "code",
   "execution_count": null,
   "metadata": {},
   "outputs": [],
   "source": []
  },
  {
   "cell_type": "code",
   "execution_count": null,
   "metadata": {},
   "outputs": [],
   "source": [
    "# //*** CODE HERE"
   ]
  }
 ],
 "metadata": {
  "kernelspec": {
   "display_name": "Python 3 (ipykernel)",
   "language": "python",
   "name": "python3"
  },
  "language_info": {
   "codemirror_mode": {
    "name": "ipython",
    "version": 3
   },
   "file_extension": ".py",
   "mimetype": "text/x-python",
   "name": "python",
   "nbconvert_exporter": "python",
   "pygments_lexer": "ipython3",
   "version": "3.9.7"
  }
 },
 "nbformat": 4,
 "nbformat_minor": 4
}
