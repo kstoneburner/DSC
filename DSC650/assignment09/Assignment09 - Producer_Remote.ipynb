{
 "cells": [
  {
   "cell_type": "code",
   "execution_count": 1,
   "metadata": {},
   "outputs": [],
   "source": [
    "import os\n",
    "import uuid\n",
    "import shutil\n",
    "import json\n",
    "from pathlib import Path\n",
    "from IPython.display import clear_output\n",
    "\n",
    "import pandas as pd\n",
    "\n",
    "from kafka import KafkaProducer, KafkaAdminClient\n",
    "from kafka.admin.new_topic import NewTopic\n",
    "from kafka.errors import TopicAlreadyExistsError\n",
    "\n",
    "import pyarrow as pa\n",
    "#from pyarrow.json import read_json\n",
    "import pyarrow.parquet as pq"
   ]
  },
  {
   "cell_type": "code",
   "execution_count": 2,
   "metadata": {},
   "outputs": [
    {
     "data": {
      "text/plain": [
       "{'bootstrap_servers': ['kafka.kafka.svc.cluster.local:9092'],\n",
       " 'first_name': 'Kurt',\n",
       " 'last_name': 'Stoneburner',\n",
       " 'client_id': 'StoneburnerKurt',\n",
       " 'topic_prefix': 'StoneburnerKurt'}"
      ]
     },
     "execution_count": 2,
     "metadata": {},
     "output_type": "execute_result"
    }
   ],
   "source": [
    "config = dict(\n",
    "    bootstrap_servers=['kafka.kafka.svc.cluster.local:9092'],\n",
    "    first_name='Kurt',\n",
    "    last_name='Stoneburner'\n",
    ")\n",
    "\n",
    "config['client_id'] = '{}{}'.format(\n",
    "    config['last_name'], \n",
    "    config['first_name']\n",
    ")\n",
    "config['topic_prefix'] = '{}{}'.format(\n",
    "    config['last_name'], \n",
    "    config['first_name']\n",
    ")\n",
    "\n",
    "config"
   ]
  },
  {
   "cell_type": "code",
   "execution_count": 3,
   "metadata": {},
   "outputs": [
    {
     "name": "stdout",
     "output_type": "stream",
     "text": [
      "Accel Dir:  ['t=077.1', 't=021.3', 't=066.7', 't=106.0', 't=017.9', 't=063.8', 't=004.5', 't=052.5', 't=007.8', 't=081.4', 't=049.5', 't=117.2', 't=014.9', 't=102.5', 't=094.7', 't=088.3', 't=041.5', 't=109.9', 't=033.7', 't=037.7', 't=121.4', 't=113.2', 't=045.4', 't=060.1', 't=026.1', 't=030.4', 't=070.9', 't=091.7', 't=085.1', 't=000.0', 't=073.9', 't=056.4', 't=098.8', 't=010.6']\n",
      "Location Dir:  ['t=077.1', 't=021.3', 't=066.7', 't=106.0', 't=017.9', 't=063.8', 't=004.5', 't=052.5', 't=007.8', 't=081.4', 't=049.5', 't=117.2', 't=014.9', 't=102.5', 't=094.7', 't=088.3', 't=041.5', 't=109.9', 't=033.7', 't=037.7', 't=121.4', 't=113.2', 't=045.4', 't=060.1', 't=026.1', 't=030.4', 't=070.9', 't=091.7', 't=085.1', 't=000.0', 't=073.9', 't=056.4', 't=098.8', 't=010.6']\n",
      "Parsed time Values in Seconds: dict_keys([77.1, 21.3, 66.7, 106.0, 17.9, 63.8, 4.5, 52.5, 7.8, 81.4, 49.5, 117.2, 14.9, 102.5, 94.7, 88.3, 41.5, 109.9, 33.7, 37.7, 121.4, 113.2, 45.4, 60.1, 26.1, 30.4, 70.9, 91.7, 85.1, 0.0, 73.9, 56.4, 98.8, 10.6])\n"
     ]
    }
   ],
   "source": [
    "#//*** Get Working Directory\n",
    "current_dir = Path(os.getcwd()).absolute()\n",
    "\n",
    "#//*** Go up Two folders\n",
    "project_dir = current_dir.parents[2]\n",
    "\n",
    "#//*** Bdd Data Path\n",
    "project_dir = project_dir.joinpath(\"dsc650/data/processed/bdd\")\n",
    "\n",
    "accel_dir = project_dir.joinpath(\"accelerations\")\n",
    "location_dir = project_dir.joinpath(\"locations\")\n",
    "print(\"Accel Dir: \",os.listdir(accel_dir))\n",
    "print(\"Location Dir: \",os.listdir(location_dir))\n",
    "\n",
    "#//*** Build a list of times, to simulate packet transmission\n",
    "\n",
    "#//*** Parse the dir, each directory represents a time. Convert the string to a float\n",
    "#//*** This feels very pythonic. I ended up not using this. But it's still cool. I'm keeping it as a reference\n",
    "times = [float(name.replace(\"t=\",\"\")) for name in os.listdir(location_dir)]\n",
    "\n",
    "data = {\n",
    "    \"accelerations\" : {},\n",
    "    \"locations\" : {},\n",
    "}\n",
    "\n",
    "for root, dirs, files in os.walk(project_dir, topdown=False):\n",
    "\n",
    "    #//*** Load each Parquet FilePath dictionary\n",
    "    for file in files:\n",
    "        key = \"\"\n",
    "        if str(accel_dir) in root:\n",
    "            key = \"accelerations\"\n",
    "\n",
    "        if str(location_dir) in root:\n",
    "            key = \"locations\"\n",
    "        \n",
    "        #//*** Convert the t= folder to a float time. This syncs the folder keys with the times\n",
    "        time_index = float(root.split(\"/\")[-1].replace(\"t=\",\"\"))\n",
    "        \n",
    "        #//*** Build Time_index Keys as needed\n",
    "        if time_index not in data[key].keys():\n",
    "            data[key][time_index] = []\n",
    "        \n",
    "        data[key][time_index].append(Path(root).joinpath(file))\n",
    "        \n",
    "\n",
    "print(\"Parsed time Values in Seconds:\",data[\"accelerations\"].keys())\n",
    "        "
   ]
  },
  {
   "cell_type": "code",
   "execution_count": null,
   "metadata": {},
   "outputs": [],
   "source": []
  },
  {
   "cell_type": "code",
   "execution_count": 4,
   "metadata": {},
   "outputs": [
    {
     "name": "stdout",
     "output_type": "stream",
     "text": [
      "Topic \"StoneburnerKurt-locations\" already exists\n",
      "Topic \"StoneburnerKurt-accelerations\" already exists\n"
     ]
    }
   ],
   "source": [
    "def create_kafka_topic(topic_name, config=config, num_partitions=1, replication_factor=1):\n",
    "    bootstrap_servers = config['bootstrap_servers']\n",
    "    client_id = config['client_id']\n",
    "    topic_prefix = config['topic_prefix']\n",
    "    name = '{}-{}'.format(topic_prefix, topic_name)\n",
    "    \n",
    "    admin_client = KafkaAdminClient(\n",
    "        bootstrap_servers=bootstrap_servers, \n",
    "        client_id=client_id\n",
    "    )\n",
    "    \n",
    "    topic = NewTopic(\n",
    "        name=name,\n",
    "        num_partitions=num_partitions,\n",
    "        replication_factor=replication_factor\n",
    "    )\n",
    "\n",
    "    topic_list = [topic]\n",
    "    try:\n",
    "        admin_client.create_topics(new_topics=topic_list)\n",
    "        print('Created topic \"{}\"'.format(name))\n",
    "    except TopicAlreadyExistsError as e:\n",
    "        print('Topic \"{}\" already exists'.format(name))\n",
    "for topic in ['locations','accelerations']:\n",
    "    create_kafka_topic(topic)"
   ]
  },
  {
   "cell_type": "code",
   "execution_count": 5,
   "metadata": {},
   "outputs": [],
   "source": [
    "producer = KafkaProducer(\n",
    "  bootstrap_servers=config['bootstrap_servers'],\n",
    "  value_serializer=lambda x: json.dumps(x).encode('utf-8')\n",
    ")"
   ]
  },
  {
   "cell_type": "code",
   "execution_count": 6,
   "metadata": {},
   "outputs": [],
   "source": [
    "def on_send_success(record_metadata):\n",
    "    print('Message sent:\\n    Topic: \"{}\"\\n    Partition: {}\\n    Offset: {}'.format(\n",
    "        record_metadata.topic,\n",
    "        record_metadata.partition,\n",
    "        record_metadata.offset\n",
    "    ))\n",
    "    \n",
    "def on_send_error(excp):\n",
    "    print('I am an errback', exc_info=excp)\n",
    "    # handle exception\n",
    "\n",
    "def send_data(topic, data, config=config, producer=producer, msg_key=None):\n",
    "    topic_prefix = config['topic_prefix']\n",
    "    topic_name = '{}-{}'.format(topic_prefix, topic)\n",
    "    \n",
    "    if msg_key is not None:\n",
    "        key = msg_key\n",
    "    else:\n",
    "        key = uuid.uuid4().hex\n",
    "    \n",
    "    producer.send(\n",
    "        topic_name, \n",
    "        value=data,\n",
    "        key=key.encode('utf-8')\n",
    "    ).add_callback(on_send_success).add_errback(on_send_error)"
   ]
  },
  {
   "cell_type": "code",
   "execution_count": 7,
   "metadata": {},
   "outputs": [
    {
     "name": "stdout",
     "output_type": "stream",
     "text": [
      "\n"
     ]
    }
   ],
   "source": [
    "print()"
   ]
  },
  {
   "cell_type": "markdown",
   "metadata": {},
   "source": [
    "Publish Packets at a Fixed Data_rate"
   ]
  },
  {
   "cell_type": "code",
   "execution_count": 28,
   "metadata": {},
   "outputs": [
    {
     "name": "stdout",
     "output_type": "stream",
     "text": [
      "\n",
      "=======================================\n",
      "=======================================\n",
      "Sending Values at Time: 121.4\n",
      "=======================================\n",
      "=======================================\n",
      "Sending:  locations\n",
      "Message sent:\n",
      "    Topic: \"StoneburnerKurt-locations\"\n",
      "    Partition: 0\n",
      "    Offset: 11499\n",
      "Message sent:\n",
      "    Topic: \"StoneburnerKurt-locations\"\n",
      "    Partition: 0\n",
      "    Offset: 11500\n",
      "Message sent:\n",
      "    Topic: \"StoneburnerKurt-locations\"\n",
      "    Partition: 0\n",
      "    Offset: 11501\n",
      "Sending:  accelerations\n",
      "Message sent:\n",
      "    Topic: \"StoneburnerKurt-locations\"\n",
      "    Partition: 0\n",
      "    Offset: 11502\n",
      "Message sent:\n",
      "    Topic: \"StoneburnerKurt-accelerations\"\n",
      "    Partition: 0\n",
      "    Offset: 11416\n",
      "Message sent:\n",
      "    Topic: \"StoneburnerKurt-accelerations\"\n",
      "    Partition: 0\n",
      "    Offset: 11417\n",
      "Message sent:\n",
      "    Topic: \"StoneburnerKurt-accelerations\"\n",
      "    Partition: 0\n",
      "    Offset: 11418\n",
      "Message sent:\n",
      "    Topic: \"StoneburnerKurt-accelerations\"\n",
      "    Partition: 0\n",
      "    Offset: 11419\n"
     ]
    }
   ],
   "source": [
    "import time\n",
    "\n",
    "#//*** Create an iterable of the times\n",
    "times = iter(sorted(list(data['accelerations'].keys())))\n",
    "\n",
    "\n",
    "start_time = time.time()\n",
    "element = next(times)\n",
    "while True:\n",
    "    \n",
    "    #//*** Get the elapsed time\n",
    "    elapsed_time = time.time()-start_time\n",
    "    \n",
    "    #//*** Check if it's time to perform an action\n",
    "    if element <= elapsed_time:\n",
    "        try:\n",
    "            clear_output(wait=True)\n",
    "            print()\n",
    "            print(\"=======================================\")\n",
    "            print(\"=======================================\")\n",
    "            print(\"Sending Values at Time:\", element)\n",
    "            print(\"=======================================\")\n",
    "            print(\"=======================================\")\n",
    "                \n",
    "            for topic in ['locations','accelerations']:\n",
    "\n",
    "                print(\"Sending: \",topic)\n",
    "\n",
    "                for filepath in data[topic][element]:\n",
    "                    send_data(topic, pd.read_parquet(filepath).to_json())\n",
    "            \n",
    "            #//*** Get Next Element\n",
    "            element = next(times)\n",
    "\n",
    "        except(StopIteration):\n",
    "            break\n",
    "\n",
    "    #//*** Sleep for 100ms so we don't crush the CPU while waiting\n",
    "    time.sleep(.1)\n",
    "        \n"
   ]
  },
  {
   "cell_type": "code",
   "execution_count": 11,
   "metadata": {
    "scrolled": false
   },
   "outputs": [
    {
     "name": "stdout",
     "output_type": "stream",
     "text": [
      "Sending:  locations\n",
      "locations 60.1\n",
      "Message sent:\n",
      "    Topic: \"StoneburnerKurt-locations\"\n",
      "    Partition: 0\n",
      "    Offset: 10162\n"
     ]
    },
    {
     "ename": "KeyboardInterrupt",
     "evalue": "",
     "output_type": "error",
     "traceback": [
      "\u001b[0;31m---------------------------------------------------------------------------\u001b[0m",
      "\u001b[0;31mKeyboardInterrupt\u001b[0m                         Traceback (most recent call last)",
      "\u001b[0;32m<ipython-input-11-d61906e528c4>\u001b[0m in \u001b[0;36m<module>\u001b[0;34m\u001b[0m\n\u001b[1;32m     18\u001b[0m             \u001b[0msend_data\u001b[0m\u001b[0;34m(\u001b[0m\u001b[0mtopic\u001b[0m\u001b[0;34m,\u001b[0m \u001b[0mpd\u001b[0m\u001b[0;34m.\u001b[0m\u001b[0mread_parquet\u001b[0m\u001b[0;34m(\u001b[0m\u001b[0mfilepath\u001b[0m\u001b[0;34m)\u001b[0m\u001b[0;34m.\u001b[0m\u001b[0mto_json\u001b[0m\u001b[0;34m(\u001b[0m\u001b[0;34m)\u001b[0m\u001b[0;34m)\u001b[0m\u001b[0;34m\u001b[0m\u001b[0;34m\u001b[0m\u001b[0m\n\u001b[1;32m     19\u001b[0m \u001b[0;34m\u001b[0m\u001b[0m\n\u001b[0;32m---> 20\u001b[0;31m             \u001b[0mtime\u001b[0m\u001b[0;34m.\u001b[0m\u001b[0msleep\u001b[0m\u001b[0;34m(\u001b[0m\u001b[0mdata_rate\u001b[0m\u001b[0;34m)\u001b[0m\u001b[0;34m\u001b[0m\u001b[0;34m\u001b[0m\u001b[0m\n\u001b[0m\u001b[1;32m     21\u001b[0m \u001b[0;34m\u001b[0m\u001b[0m\n\u001b[1;32m     22\u001b[0m \u001b[0;34m\u001b[0m\u001b[0m\n",
      "\u001b[0;31mKeyboardInterrupt\u001b[0m: "
     ]
    }
   ],
   "source": [
    "import time\n",
    "\n",
    "\n",
    "#//*** Create an iterable of the times\n",
    "times = sorted(list(data['accelerations'].keys()))\n",
    "\n",
    "data_rate = 1\n",
    "\n",
    "for element in times:\n",
    "    \n",
    "    for topic in ['locations','accelerations']:    \n",
    "        \n",
    "        for filepath in data[topic][element]:\n",
    "            clear_output(wait=True)\n",
    "            print(\"Sending: \",topic)\n",
    "            print(topic,element)\n",
    "            #print(pd.read_parquet(filepath).to_json())\n",
    "            send_data(topic, pd.read_parquet(filepath).to_json())\n",
    "            \n",
    "            time.sleep(data_rate)\n",
    "\n",
    "    \n"
   ]
  },
  {
   "cell_type": "code",
   "execution_count": null,
   "metadata": {},
   "outputs": [],
   "source": []
  },
  {
   "cell_type": "code",
   "execution_count": null,
   "metadata": {},
   "outputs": [],
   "source": []
  }
 ],
 "metadata": {
  "kernelspec": {
   "display_name": "Python 3",
   "language": "python",
   "name": "python3"
  },
  "language_info": {
   "codemirror_mode": {
    "name": "ipython",
    "version": 3
   },
   "file_extension": ".py",
   "mimetype": "text/x-python",
   "name": "python",
   "nbconvert_exporter": "python",
   "pygments_lexer": "ipython3",
   "version": "3.8.3"
  }
 },
 "nbformat": 4,
 "nbformat_minor": 5
}
