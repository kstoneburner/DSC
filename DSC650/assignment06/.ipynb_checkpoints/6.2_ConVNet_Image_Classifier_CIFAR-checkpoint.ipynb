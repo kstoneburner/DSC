{
 "cells": [
  {
   "cell_type": "markdown",
   "id": "d43838d8",
   "metadata": {},
   "source": [
    "# Stoneburner, Kurt\n",
    "- ## DSC 650 - Week 06\n",
    "- ## Assignment 6.2 - ConvNet Model that classifies images in the CIFAR digital dataset."
   ]
  },
  {
   "cell_type": "markdown",
   "id": "958ffbb2",
   "metadata": {},
   "source": [
    "Reference:\n",
    "https://keras.io/api/datasets/cifar10/\n",
    "\n",
    "\n",
    "Max-Pooling Explained: \n",
    "https://analyticsindiamag.com/max-pooling-in-convolutional-neural-network-and-its-features/\n",
    "\n",
    "Conv2D Official Documentation:\n",
    "https://keras.io/api/layers/convolution_layers/convolution2d/"
   ]
  },
  {
   "cell_type": "code",
   "execution_count": 1,
   "id": "c7ca03b5",
   "metadata": {},
   "outputs": [
    {
     "data": {
      "text/html": [
       "<style>.container { width:100% !important; }</style>"
      ],
      "text/plain": [
       "<IPython.core.display.HTML object>"
      ]
     },
     "metadata": {},
     "output_type": "display_data"
    }
   ],
   "source": [
    "import os\n",
    "import sys\n",
    "# //*** Imports and Load Data\n",
    "import matplotlib.pyplot as plt\n",
    "import numpy as np\n",
    "import pandas as pd\n",
    "\n",
    "#//*** Use the whole window in the IPYNB editor\n",
    "from IPython.core.display import display, HTML\n",
    "display(HTML(\"<style>.container { width:100% !important; }</style>\"))\n",
    "\n",
    "#//*** Maximize columns and rows displayed by pandas\n",
    "pd.set_option('display.max_rows', 100)\n",
    "pd.set_option('display.max_columns', None)\n",
    "\n",
    "import tensorflow as tf\n",
    "\n",
    "from tensorflow import keras\n",
    "from tensorflow.keras import layers"
   ]
  },
  {
   "cell_type": "code",
   "execution_count": 2,
   "id": "27f6f89f",
   "metadata": {},
   "outputs": [],
   "source": [
    "#//*** Enable Plaid-Ml GPU backend for Radeon Cards. (it works faster on some things)\n",
    "from os import environ\n",
    "\n",
    "environ[\"KERAS_BACKEND\"] = \"plaidml.keras.backend\"\n",
    "\n",
    "import tensorflow.keras"
   ]
  },
  {
   "cell_type": "markdown",
   "id": "5d6e0bc4",
   "metadata": {},
   "source": [
    "**Assignment 6.2a**\n",
    "\n",
    "Using section 5.2 in Deep Learning with Python as a guide, create a ConvNet model that classifies images CIFAR10 small images classification dataset. \n",
    "Do not use dropout or data-augmentation in this part. \n",
    "\n",
    "Save the model, predictions, metrics, and validation plots in the dsc650/assignments/assignment06/results directory. If you are using JupyterHub, you can include those plots in your Jupyter notebook."
   ]
  },
  {
   "cell_type": "code",
   "execution_count": 3,
   "id": "5620ece5",
   "metadata": {},
   "outputs": [],
   "source": [
    "\n",
    "\n",
    "#//*** Inputs reflects the shape of each individual piece of data.\n",
    "#//*** The MNIST is a 28x28 single channel image.\n",
    "#//*** The third is 1 channel. This is a greyscale image, therefore it only uses one channel.\n",
    "#//*** See Link above for further explanation\n",
    "\n",
    "#//*** Conv2D: Filters defines the number of tensors at the layer. Kernal_size = feature detection size. The default is 3x3.\n",
    "#//***         Conv2D reduces the image size by (filter_size - 1) in each dimension.\n",
    "#//*** MaxPooling2D: Is a form of feature reduction. In this case, The Max-Pooling layer takes the reduced feature mapped data and processes by pool_size (default 2x2). Only the highest value in the \n",
    "#//***               pool-size value (2x2) is kept. With a pool value of 2x2 this essentially cuts the shape in half for each dimension. With a pool_size of 2 (4 pixels) only 1 is kept, this reduces the features\n",
    "#//***               by 75%.\n",
    "#//***               At each stage of max pooling, the image gets smaller. Subsequent conv2d layers perform feature extraction on a reduced set of features. Each layer has less information and more tensors looking\n",
    "#//***               for relationships between the reduced features. The model becomes more general (and abstract) as it moves through the layers. It's kind of brilliant.\n",
    "\n"
   ]
  },
  {
   "cell_type": "markdown",
   "id": "2b22d338",
   "metadata": {},
   "source": [
    "Reference:\n",
    "https://machinelearningknowledge.ai/keras-activation-layers-ultimate-guide-for-beginners/\n",
    "\n",
    "### Keras Activation Cheat Sheet ###\n",
    "\n",
    "\n",
    "**relu**: Rectified linear unit.\n",
    "\n",
    "    - ReLu activation function is computationally efficient hence it enables neural networks to converge faster during the training phase.\n",
    "    - It is both non-linear and differentiable which are good characteristics for activation function.\n",
    "    - ReLU does not suffer from the issue of Vanishing Gradient issue like other activation functions and hence it is very effective in hidden layers of large neural networks.\n",
    "    \n",
    "    Data used in **ReLu** layers must be positive. Negative numbers cannot be back-propagated and these values basically 'die'.\n",
    "\n",
    "\n",
    "**softmax:** Generates a weighted value between 0 and 1. Use for multiple classification tasks.\n",
    "\n",
    "**sigmoid:** Generates either 0 or 1. Data must be normalized. Does not handle outliers well Use for Binary Classification tasks.\n",
    "\n",
    "**tanh:** Generates values from -1 to +1. Data must be normalized. Does not handle outliers well.\n",
    "\n",
    "#### Which Activation Function to use in Neural Network? ####\n",
    "\n",
    "**Sigmoid** and Tanh activation function should be avoided in hidden layers as they suffer from Vanishing Gradient problem.\n",
    "\n",
    "**Sigmoid** activation function should be used in the output layer in case of Binary Classification\n",
    "\n",
    "**ReLU** activation functions are ideal for hidden layers of neural networks as they do not suffer from the Vanishing Gradient problem and are computationally fast.\n",
    "\n",
    "**Softmax** activation function should be used in the output layer in case of multiclass classification.\n",
    "\n",
    "\n"
   ]
  },
  {
   "cell_type": "markdown",
   "id": "867bd891",
   "metadata": {},
   "source": [
    "\n",
    "| Label | Description   | \n",
    "|-------|--------------:|\n",
    "| 0 | airplane |\n",
    "| 1 | automobile |\n",
    "| 2 | bird |\n",
    "| 3 | cat |\n",
    "| 4 | deer |\n",
    "| 5 | dog |\n",
    "| 6 | frog |\n",
    "| 7 | horse |\n",
    "| 8 | ship |\n",
    "| 9 | truck |\n",
    "\n"
   ]
  },
  {
   "cell_type": "code",
   "execution_count": 26,
   "id": "bcb3864b",
   "metadata": {},
   "outputs": [],
   "source": [
    "#//*** Load the CIFAR10 dataset into test train split\n",
    "(x_train, y_train), (x_test, y_test) = tf.keras.datasets.cifar10.load_data()"
   ]
  },
  {
   "cell_type": "code",
   "execution_count": 27,
   "id": "9afc2654",
   "metadata": {},
   "outputs": [],
   "source": [
    "#//*** Use Assert statements to verify the shape of the data\n",
    "assert x_train.shape == (50000, 32, 32, 3)\n",
    "assert x_test.shape == (10000, 32, 32, 3)\n",
    "assert y_train.shape == (50000, 1)\n",
    "assert y_test.shape == (10000, 1)"
   ]
  },
  {
   "cell_type": "markdown",
   "id": "0d948883",
   "metadata": {},
   "source": [
    "Returns\n",
    "\n",
    "    Tuple of NumPy arrays: (x_train, y_train), (x_test, y_test).\n",
    "\n",
    "**x_train**: uint8 NumPy array of grayscale image data with shapes (50000, 32, 32, 3), containing the training data. Pixel values range from 0 to 255.\n",
    "\n",
    "**y_train**: uint8 NumPy array of labels (integers in range 0-9) with shape (50000, 1) for the training data.\n",
    "\n",
    "**x_test**: uint8 NumPy array of grayscale image data with shapes (10000, 32, 32, 3), containing the test data. Pixel values range from 0 to 255.\n",
    "\n",
    "**y_test**: uint8 NumPy array of labels (integers in range 0-9) with shape (10000, 1) for the test data."
   ]
  },
  {
   "cell_type": "code",
   "execution_count": 54,
   "id": "4cb8c86c",
   "metadata": {},
   "outputs": [
    {
     "name": "stdout",
     "output_type": "stream",
     "text": [
      "(50000, 32, 32, 3)\n",
      "(50000, 1)\n",
      "(10000, 32, 32, 3)\n",
      "(10000, 1)\n"
     ]
    }
   ],
   "source": [
    "#//*** Load the CIFAR10 dataset into the default test train splits\n",
    "(x_train, y_train), (x_test, y_test) = tf.keras.datasets.cifar10.load_data()\n",
    "\n",
    "\n",
    "#//*** Build a subset of the data for model exploration\n",
    "subset_size = 50000\n",
    "\n",
    "x_train = x_train[:subset_size]\n",
    "y_train = y_train[:subset_size]\n",
    "\n",
    "print(x_train.shape)\n",
    "print(y_train.shape)\n",
    "\n",
    "#//*** Verify the subsets are the proper shape\n",
    "assert x_train.shape == (subset_size, 32, 32, 3)\n",
    "assert y_train.shape == (subset_size, 1)\n",
    "\n",
    "#//*** Max test size is 10000\n",
    "if subset_size > 10000:\n",
    "    subset_size = 10000\n",
    "\n",
    "x_test = x_test[:subset_size]\n",
    "y_test = y_test[:subset_size]\n",
    "\n",
    "print(x_test.shape)\n",
    "print(y_test.shape)\n",
    "\n",
    "#//*** Verify the subsets are the proper shape\n",
    "assert x_test.shape == (subset_size, 32, 32, 3)\n",
    "assert y_test.shape == (subset_size, 1)\n",
    "\n"
   ]
  },
  {
   "cell_type": "code",
   "execution_count": 56,
   "id": "77aecbf0",
   "metadata": {},
   "outputs": [
    {
     "name": "stdout",
     "output_type": "stream",
     "text": [
      "Model: \"functional_23\"\n",
      "_________________________________________________________________\n",
      "Layer (type)                 Output Shape              Param #   \n",
      "=================================================================\n",
      "input_12 (InputLayer)        [(None, 32, 32, 3)]       0         \n",
      "_________________________________________________________________\n",
      "conv2d_42 (Conv2D)           (None, 30, 30, 32)        896       \n",
      "_________________________________________________________________\n",
      "max_pooling2d_19 (MaxPooling (None, 15, 15, 32)        0         \n",
      "_________________________________________________________________\n",
      "conv2d_43 (Conv2D)           (None, 13, 13, 64)        18496     \n",
      "_________________________________________________________________\n",
      "max_pooling2d_20 (MaxPooling (None, 6, 6, 64)          0         \n",
      "_________________________________________________________________\n",
      "conv2d_44 (Conv2D)           (None, 4, 4, 128)         73856     \n",
      "_________________________________________________________________\n",
      "conv2d_45 (Conv2D)           (None, 2, 2, 256)         295168    \n",
      "_________________________________________________________________\n",
      "flatten_11 (Flatten)         (None, 1024)              0         \n",
      "_________________________________________________________________\n",
      "dense_11 (Dense)             (None, 10)                10250     \n",
      "=================================================================\n",
      "Total params: 398,666\n",
      "Trainable params: 398,666\n",
      "Non-trainable params: 0\n",
      "_________________________________________________________________\n"
     ]
    }
   ],
   "source": [
    "#//*** The images are 32 x 32 full color images. The input shape will be 32, 32, 3. \n",
    "#//*** The first two inputs (32,32) reflect the pixel dimensions. The final tuple value (3) represents the image channels. 3 channels likely represents full color RGB. As in there are three sets of 32x32 \n",
    "#//*** data. Each reflecting a particular set of color (RGB) data.\n",
    "\n",
    "\n",
    "\n",
    "inputs = keras.Input(shape=(32, 32, 3))\n",
    "#//*** No need to rescale since all images have the same size. \n",
    "#x = layers.Rescaling(1./255)(inputs)\n",
    "\n",
    "#//*** Using relu (Rectified Linear Units) for the hidden layers. This is good all-purpose ML choice.\n",
    "#//*** Using Convolution2d kernal_size =3, create unique features for each 3x3 group of pixels\n",
    "#//*** MaxPooling 2, takes the 3x3 feature pixels (which are now represented as a single feature pixel). The feature pixels are organized into groups of 2x2 pixels and only the highest value is kept.\n",
    "#//*** This reduces the features by 75% per feature group. This is a generalization step.\n",
    "x = layers.Conv2D(filters=32, kernel_size=3, activation=\"relu\")(inputs)\n",
    "x = layers.MaxPooling2D(pool_size=2)(x)\n",
    "x = layers.Conv2D(filters=64, kernel_size=3, activation=\"relu\")(x)\n",
    "x = layers.MaxPooling2D(pool_size=2)(x)\n",
    "x = layers.Conv2D(filters=128, kernel_size=3, activation=\"relu\")(x)\n",
    "x = layers.Conv2D(filters=256, kernel_size=3, activation=\"relu\")(x)\n",
    "x = layers.Flatten()(x)\n",
    "outputs = layers.Dense(10, activation=\"softmax\")(x)\n",
    "model = keras.Model(inputs=inputs, outputs=outputs)\n",
    "\n",
    "#x = layers.Conv2D(filters=256, kernel_size=3, activation=\"relu\")(x)\n",
    "#x = layers.MaxPooling2D(pool_size=2)(x)\n",
    "#x = layers.Conv2D(filters=256, kernel_size=3, activation=\"relu\")(x)\n",
    "#x = layers.Flatten()(x)\n",
    "\n",
    "model.summary()"
   ]
  },
  {
   "cell_type": "code",
   "execution_count": 57,
   "id": "98a4375a",
   "metadata": {},
   "outputs": [
    {
     "name": "stdout",
     "output_type": "stream",
     "text": [
      "Epoch 1/14\n",
      "782/782 [==============================] - 19s 24ms/step - loss: 1.9380 - accuracy: 0.3984\n",
      "Epoch 2/14\n",
      "782/782 [==============================] - 20s 26ms/step - loss: 1.2663 - accuracy: 0.5639\n",
      "Epoch 3/14\n",
      "782/782 [==============================] - 20s 26ms/step - loss: 1.1111 - accuracy: 0.6219\n",
      "Epoch 4/14\n",
      "782/782 [==============================] - 20s 26ms/step - loss: 1.0267 - accuracy: 0.6569\n",
      "Epoch 5/14\n",
      "782/782 [==============================] - 20s 26ms/step - loss: 0.9744 - accuracy: 0.6758\n",
      "Epoch 6/14\n",
      "782/782 [==============================] - 20s 26ms/step - loss: 0.9438 - accuracy: 0.6876\n",
      "Epoch 7/14\n",
      "782/782 [==============================] - 20s 26ms/step - loss: 0.9338 - accuracy: 0.6957\n",
      "Epoch 8/14\n",
      "782/782 [==============================] - 20s 26ms/step - loss: 0.9302 - accuracy: 0.7017\n",
      "Epoch 9/14\n",
      "782/782 [==============================] - 20s 26ms/step - loss: 0.9156 - accuracy: 0.7092\n",
      "Epoch 10/14\n",
      "782/782 [==============================] - 20s 26ms/step - loss: 0.9291 - accuracy: 0.7030\n",
      "Epoch 11/14\n",
      "782/782 [==============================] - 20s 26ms/step - loss: 0.9376 - accuracy: 0.7055\n",
      "Epoch 12/14\n",
      "782/782 [==============================] - 20s 26ms/step - loss: 0.9463 - accuracy: 0.7034\n",
      "Epoch 13/14\n",
      "782/782 [==============================] - 21s 26ms/step - loss: 0.9573 - accuracy: 0.7001\n",
      "Epoch 14/14\n",
      "782/782 [==============================] - 20s 26ms/step - loss: 0.9763 - accuracy: 0.6948\n",
      "313/313 [==============================] - 1s 4ms/step - loss: 1.5878 - accuracy: 0.6025\n",
      "Test accuracy: 0.603\n"
     ]
    }
   ],
   "source": [
    "model.compile(optimizer=\"rmsprop\",\n",
    "    loss=\"sparse_categorical_crossentropy\",\n",
    "    metrics=[\"accuracy\"])\n",
    "#model.fit(x_train, y_train, epochs=39, batch_size=64)\n",
    "model.fit(x_train, y_train, epochs=14, batch_size=64)\n",
    "\n",
    "test_loss, test_acc = model.evaluate(x_test, y_test)\n",
    "print(f\"Test accuracy: {test_acc:.3f}\")\n"
   ]
  },
  {
   "cell_type": "code",
   "execution_count": 9,
   "id": "ba078002",
   "metadata": {},
   "outputs": [],
   "source": [
    "# //*** CODE HERE"
   ]
  },
  {
   "cell_type": "code",
   "execution_count": null,
   "id": "f8d70f78",
   "metadata": {},
   "outputs": [],
   "source": []
  }
 ],
 "metadata": {
  "kernelspec": {
   "display_name": "Python 3",
   "language": "python",
   "name": "python3"
  },
  "language_info": {
   "codemirror_mode": {
    "name": "ipython",
    "version": 3
   },
   "file_extension": ".py",
   "mimetype": "text/x-python",
   "name": "python",
   "nbconvert_exporter": "python",
   "pygments_lexer": "ipython3",
   "version": "3.8.11"
  }
 },
 "nbformat": 4,
 "nbformat_minor": 5
}
