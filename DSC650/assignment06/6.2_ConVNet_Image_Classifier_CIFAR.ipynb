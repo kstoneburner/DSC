{
 "cells": [
  {
   "cell_type": "markdown",
   "id": "d43838d8",
   "metadata": {},
   "source": [
    "# Stoneburner, Kurt\n",
    "- ## DSC 650 - Week 06\n",
    "- ## Assignment 6.2 - ConvNet Model that classifies images in the CIFAR digital dataset."
   ]
  },
  {
   "cell_type": "markdown",
   "id": "958ffbb2",
   "metadata": {},
   "source": [
    "Reference:\n",
    "https://keras.io/api/datasets/cifar10/\n",
    "\n",
    "\n",
    "Max-Pooling Explained: \n",
    "https://analyticsindiamag.com/max-pooling-in-convolutional-neural-network-and-its-features/\n",
    "\n",
    "Conv2D Official Documentation:\n",
    "https://keras.io/api/layers/convolution_layers/convolution2d/"
   ]
  },
  {
   "cell_type": "code",
   "execution_count": 1,
   "id": "27f6f89f",
   "metadata": {},
   "outputs": [],
   "source": [
    "#//*** Enable Plaid-Ml GPU backend for Radeon Cards. (it works faster on some things)\n",
    "from os import environ\n",
    "\n",
    "environ[\"KERAS_BACKEND\"] = \"plaidml.keras.backend\"\n",
    "\n",
    "import tensorflow.keras"
   ]
  },
  {
   "cell_type": "code",
   "execution_count": 2,
   "id": "c7ca03b5",
   "metadata": {},
   "outputs": [
    {
     "data": {
      "text/html": [
       "<style>.container { width:100% !important; }</style>"
      ],
      "text/plain": [
       "<IPython.core.display.HTML object>"
      ]
     },
     "metadata": {},
     "output_type": "display_data"
    }
   ],
   "source": [
    "import os\n",
    "import sys\n",
    "# //*** Imports and Load Data\n",
    "import matplotlib.pyplot as plt\n",
    "import numpy as np\n",
    "import pandas as pd\n",
    "\n",
    "#//*** Use the whole window in the IPYNB editor\n",
    "from IPython.core.display import display, HTML\n",
    "display(HTML(\"<style>.container { width:100% !important; }</style>\"))\n",
    "\n",
    "#//*** Maximize columns and rows displayed by pandas\n",
    "pd.set_option('display.max_rows', 100)\n",
    "pd.set_option('display.max_columns', None)\n",
    "\n",
    "import tensorflow as tf\n",
    "\n",
    "from tensorflow import keras\n",
    "from tensorflow.keras import layers"
   ]
  },
  {
   "cell_type": "code",
   "execution_count": 3,
   "id": "64aca4d0",
   "metadata": {},
   "outputs": [],
   "source": [
    "#//********************************************************\n",
    "#//*** Plot a Fitted Models History of Loss and Accuracy\n",
    "#//********************************************************\n",
    "def plot_model_history(input_history,loss='loss',acc='accuracy'):\n",
    "    loss = input_history.history[loss]\n",
    "    acc = input_history.history[acc]\n",
    "    \n",
    "    \n",
    "    epochs = range(1, len(loss) + 1)\n",
    "    plt.plot(epochs, acc, \"b\", label=\"Training Accuracy\")\n",
    "    plt.title(\"Training Accuracy\\nAccuracy should go up\")\n",
    "    plt.xlabel(\"Epochs\")\n",
    "    plt.ylabel(\"Loss\")\n",
    "    plt.legend()\n",
    "    \n",
    "\n",
    "    epochs = range(1, len(loss) + 1)\n",
    "    plt.plot(epochs, loss, \"bo\", label=\"Training Loss\")\n",
    "    \n",
    "    plt.title(\"Training Loss \\nLoss should go down\")\n",
    "    plt.xlabel(\"Epochs\")\n",
    "    plt.ylabel(\"Loss\")\n",
    "    plt.legend()\n",
    "    plt.show()\n",
    "    \n",
    "#//****************************************************************\n",
    "#//*** Plot a Fitted Models History Training and Validation Loss\n",
    "#//****************************************************************\n",
    "def plot_model_validation(input_history, acc='accuracy', loss='loss',val_acc='val_accuracy',val_loss='val_loss'):\n",
    "    loss = input_history.history[loss]\n",
    "    val_loss = input_history.history[val_loss]\n",
    "    epochs = range(1, len(loss) + 1)\n",
    "    plt.plot(epochs, loss, \"bo\", label=\"Training loss\")\n",
    "    plt.plot(epochs, val_loss, \"b\", label=\"Validation loss\")\n",
    "    plt.title(\"Training and validation loss\")\n",
    "    plt.xlabel(\"Epochs\")\n",
    "    plt.ylabel(\"Loss\")\n",
    "    plt.legend()\n",
    "    plt.show()\n",
    "\n",
    "    #//*** Plot the Validation Set Accuracy\n",
    "    plt.clf()\n",
    "    acc = input_history.history[acc]\n",
    "    val_acc = input_history.history[val_acc]\n",
    "    plt.plot(epochs, acc, \"bo\", label=\"Training accuracy\")\n",
    "    plt.plot(epochs, val_acc, \"b\", label=\"Validation accuracy\")\n",
    "    plt.title(\"Training and validation accuracy\")\n",
    "    plt.xlabel(\"Epochs\")\n",
    "    plt.ylabel(\"Accuracy\")\n",
    "    plt.legend()\n",
    "    plt.show()\n",
    "    \n"
   ]
  },
  {
   "cell_type": "markdown",
   "id": "5d6e0bc4",
   "metadata": {},
   "source": [
    "**Assignment 6.2a**\n",
    "\n",
    "Using section 5.2 in Deep Learning with Python as a guide, create a ConvNet model that classifies images CIFAR10 small images classification dataset. \n",
    "Do not use dropout or data-augmentation in this part. \n",
    "\n",
    "Save the model, predictions, metrics, and validation plots in the dsc650/assignments/assignment06/results directory. If you are using JupyterHub, you can include those plots in your Jupyter notebook."
   ]
  },
  {
   "cell_type": "code",
   "execution_count": 4,
   "id": "5620ece5",
   "metadata": {},
   "outputs": [],
   "source": [
    "\n",
    "\n",
    "#//*** Inputs reflects the shape of each individual piece of data.\n",
    "#//*** The MNIST is a 28x28 single channel image.\n",
    "#//*** The third is 1 channel. This is a greyscale image, therefore it only uses one channel.\n",
    "#//*** See Link above for further explanation\n",
    "\n",
    "#//*** Conv2D: Filters defines the number of tensors at the layer. Kernal_size = feature detection size. The default is 3x3.\n",
    "#//***         Conv2D reduces the image size by (filter_size - 1) in each dimension.\n",
    "#//*** MaxPooling2D: Is a form of feature reduction. In this case, The Max-Pooling layer takes the reduced feature mapped data and processes by pool_size (default 2x2). Only the highest value in the \n",
    "#//***               pool-size value (2x2) is kept. With a pool value of 2x2 this essentially cuts the shape in half for each dimension. With a pool_size of 2 (4 pixels) only 1 is kept, this reduces the features\n",
    "#//***               by 75%.\n",
    "#//***               At each stage of max pooling, the image gets smaller. Subsequent conv2d layers perform feature extraction on a reduced set of features. Each layer has less information and more tensors looking\n",
    "#//***               for relationships between the reduced features. The model becomes more general (and abstract) as it moves through the layers. It's kind of brilliant.\n",
    "\n"
   ]
  },
  {
   "cell_type": "markdown",
   "id": "2b22d338",
   "metadata": {},
   "source": [
    "Reference:\n",
    "https://machinelearningknowledge.ai/keras-activation-layers-ultimate-guide-for-beginners/\n",
    "\n",
    "### Keras Activation Cheat Sheet ###\n",
    "\n",
    "\n",
    "**relu**: Rectified linear unit.\n",
    "\n",
    "    - ReLu activation function is computationally efficient hence it enables neural networks to converge faster during the training phase.\n",
    "    - It is both non-linear and differentiable which are good characteristics for activation function.\n",
    "    - ReLU does not suffer from the issue of Vanishing Gradient issue like other activation functions and hence it is very effective in hidden layers of large neural networks.\n",
    "    \n",
    "    Data used in **ReLu** layers must be positive. Negative numbers cannot be back-propagated and these values basically 'die'.\n",
    "\n",
    "\n",
    "**softmax:** Generates a weighted value between 0 and 1. Use for multiple classification tasks.\n",
    "\n",
    "**sigmoid:** Generates either 0 or 1. Data must be normalized. Does not handle outliers well Use for Binary Classification tasks.\n",
    "\n",
    "**tanh:** Generates values from -1 to +1. Data must be normalized. Does not handle outliers well.\n",
    "\n",
    "#### Which Activation Function to use in Neural Network? ####\n",
    "\n",
    "**Sigmoid** and Tanh activation function should be avoided in hidden layers as they suffer from Vanishing Gradient problem.\n",
    "\n",
    "**Sigmoid** activation function should be used in the output layer in case of Binary Classification\n",
    "\n",
    "**ReLU** activation functions are ideal for hidden layers of neural networks as they do not suffer from the Vanishing Gradient problem and are computationally fast.\n",
    "\n",
    "**Softmax** activation function should be used in the output layer in case of multiclass classification.\n",
    "\n",
    "\n"
   ]
  },
  {
   "cell_type": "markdown",
   "id": "867bd891",
   "metadata": {},
   "source": [
    "\n",
    "| Label | Description   | \n",
    "|-------|--------------:|\n",
    "| 0 | airplane |\n",
    "| 1 | automobile |\n",
    "| 2 | bird |\n",
    "| 3 | cat |\n",
    "| 4 | deer |\n",
    "| 5 | dog |\n",
    "| 6 | frog |\n",
    "| 7 | horse |\n",
    "| 8 | ship |\n",
    "| 9 | truck |\n",
    "\n"
   ]
  },
  {
   "cell_type": "code",
   "execution_count": 5,
   "id": "bcb3864b",
   "metadata": {},
   "outputs": [],
   "source": [
    "#//*** Load the CIFAR10 dataset into test train split\n",
    "(x_train, y_train), (x_test, y_test) = tf.keras.datasets.cifar10.load_data()"
   ]
  },
  {
   "cell_type": "code",
   "execution_count": 6,
   "id": "9afc2654",
   "metadata": {},
   "outputs": [],
   "source": [
    "#//*** Use Assert statements to verify the shape of the data\n",
    "assert x_train.shape == (50000, 32, 32, 3)\n",
    "assert x_test.shape == (10000, 32, 32, 3)\n",
    "assert y_train.shape == (50000, 1)\n",
    "assert y_test.shape == (10000, 1)"
   ]
  },
  {
   "cell_type": "markdown",
   "id": "0d948883",
   "metadata": {},
   "source": [
    "Returns\n",
    "\n",
    "    Tuple of NumPy arrays: (x_train, y_train), (x_test, y_test).\n",
    "\n",
    "**x_train**: uint8 NumPy array of grayscale image data with shapes (50000, 32, 32, 3), containing the training data. Pixel values range from 0 to 255.\n",
    "\n",
    "**y_train**: uint8 NumPy array of labels (integers in range 0-9) with shape (50000, 1) for the training data.\n",
    "\n",
    "**x_test**: uint8 NumPy array of grayscale image data with shapes (10000, 32, 32, 3), containing the test data. Pixel values range from 0 to 255.\n",
    "\n",
    "**y_test**: uint8 NumPy array of labels (integers in range 0-9) with shape (10000, 1) for the test data."
   ]
  },
  {
   "cell_type": "code",
   "execution_count": 7,
   "id": "4cb8c86c",
   "metadata": {},
   "outputs": [
    {
     "name": "stdout",
     "output_type": "stream",
     "text": [
      "(5000, 32, 32, 3)\n",
      "(5000, 1)\n",
      "(5000, 32, 32, 3)\n",
      "(5000, 1)\n"
     ]
    }
   ],
   "source": [
    "#//*** Load the CIFAR10 dataset into the default test train splits\n",
    "(x_train, y_train), (x_test, y_test) = tf.keras.datasets.cifar10.load_data()\n",
    "\n",
    "\n",
    "#//*** Build a subset of the data for model exploration\n",
    "subset_size = 5000\n",
    "\n",
    "#//*** Generate Partial validation sets\n",
    "x_validation = x_train[subset_size:subset_size*2]\n",
    "y_validation = y_train[subset_size:subset_size*2]\n",
    "\n",
    "#//*** Validation subset\n",
    "x_train = x_train[:subset_size]\n",
    "y_train = y_train[:subset_size]\n",
    "\n",
    "\n",
    "print(x_train.shape)\n",
    "print(y_train.shape)\n",
    "\n",
    "#//*** Verify the subsets are the proper shape\n",
    "assert x_train.shape == (subset_size, 32, 32, 3)\n",
    "assert y_train.shape == (subset_size, 1)\n",
    "\n",
    "#//*** Max test size is 10000\n",
    "if subset_size > 10000:\n",
    "    subset_size = 10000\n",
    "\n",
    "x_test = x_test[:subset_size]\n",
    "y_test = y_test[:subset_size]\n",
    "\n",
    "print(x_test.shape)\n",
    "print(y_test.shape)\n",
    "\n",
    "#//*** Verify the subsets are the proper shape\n",
    "assert x_test.shape == (subset_size, 32, 32, 3)\n",
    "assert y_test.shape == (subset_size, 1)\n",
    "\n"
   ]
  },
  {
   "cell_type": "code",
   "execution_count": 8,
   "id": "77aecbf0",
   "metadata": {},
   "outputs": [
    {
     "name": "stdout",
     "output_type": "stream",
     "text": [
      "Model: \"model\"\n",
      "_________________________________________________________________\n",
      "Layer (type)                 Output Shape              Param #   \n",
      "=================================================================\n",
      "input_1 (InputLayer)         [(None, 32, 32, 3)]       0         \n",
      "_________________________________________________________________\n",
      "conv2d (Conv2D)              (None, 30, 30, 32)        896       \n",
      "_________________________________________________________________\n",
      "max_pooling2d (MaxPooling2D) (None, 15, 15, 32)        0         \n",
      "_________________________________________________________________\n",
      "conv2d_1 (Conv2D)            (None, 13, 13, 64)        18496     \n",
      "_________________________________________________________________\n",
      "max_pooling2d_1 (MaxPooling2 (None, 6, 6, 64)          0         \n",
      "_________________________________________________________________\n",
      "conv2d_2 (Conv2D)            (None, 4, 4, 128)         73856     \n",
      "_________________________________________________________________\n",
      "flatten (Flatten)            (None, 2048)              0         \n",
      "_________________________________________________________________\n",
      "dense (Dense)                (None, 10)                20490     \n",
      "=================================================================\n",
      "Total params: 113,738\n",
      "Trainable params: 113,738\n",
      "Non-trainable params: 0\n",
      "_________________________________________________________________\n"
     ]
    }
   ],
   "source": [
    "#//*** The images are 32 x 32 full color images. The input shape will be 32, 32, 3. \n",
    "#//*** The first two inputs (32,32) reflect the pixel dimensions. The final tuple value (3) represents the image channels. 3 channels likely represents full color RGB. As in there are three sets of 32x32 \n",
    "#//*** data. Each reflecting a particular set of color (RGB) data.\n",
    "\n",
    "\n",
    "\n",
    "inputs = keras.Input(shape=(32, 32, 3))\n",
    "#//*** No need to rescale since all images have the same size. \n",
    "#x = layers.Rescaling(1./255)(inputs)\n",
    "\n",
    "#//*** Using relu (Rectified Linear Units) for the hidden layers. This is good all-purpose ML choice.\n",
    "#//*** Using Convolution2d kernal_size =3, create unique features for each 3x3 group of pixels\n",
    "#//*** MaxPooling 2, takes the 3x3 feature pixels (which are now represented as a single feature pixel). The feature pixels are organized into groups of 2x2 pixels and only the highest value is kept.\n",
    "#//*** This reduces the features by 75% per feature group. This is a generalization step.\n",
    "x = layers.Conv2D(filters=32, kernel_size=3, activation=\"relu\")(inputs)\n",
    "x = layers.MaxPooling2D(pool_size=2)(x)\n",
    "x = layers.Conv2D(filters=64, kernel_size=3, activation=\"relu\")(x)\n",
    "x = layers.MaxPooling2D(pool_size=2)(x)\n",
    "x = layers.Conv2D(filters=128, kernel_size=3, activation=\"relu\")(x)\n",
    "#x = layers.Conv2D(filters=256, kernel_size=3, activation=\"relu\")(x)\n",
    "x = layers.Flatten()(x)\n",
    "outputs = layers.Dense(10, activation=\"softmax\")(x)\n",
    "model = keras.Model(inputs=inputs, outputs=outputs)\n",
    "\n",
    "#x = layers.Conv2D(filters=256, kernel_size=3, activation=\"relu\")(x)\n",
    "#x = layers.MaxPooling2D(pool_size=2)(x)\n",
    "#x = layers.Conv2D(filters=256, kernel_size=3, activation=\"relu\")(x)\n",
    "#x = layers.Flatten()(x)\n",
    "\n",
    "model.summary()"
   ]
  },
  {
   "cell_type": "code",
   "execution_count": 9,
   "id": "98a4375a",
   "metadata": {},
   "outputs": [
    {
     "name": "stdout",
     "output_type": "stream",
     "text": [
      "Epoch 1/30\n",
      "79/79 [==============================] - 7s 74ms/step - loss: 4.6733 - accuracy: 0.1810 - val_loss: 3.4862 - val_accuracy: 0.1446\n",
      "Epoch 2/30\n",
      "79/79 [==============================] - 5s 63ms/step - loss: 2.2803 - accuracy: 0.2602 - val_loss: 2.9104 - val_accuracy: 0.1890\n",
      "Epoch 3/30\n",
      "79/79 [==============================] - 5s 63ms/step - loss: 1.9198 - accuracy: 0.3404 - val_loss: 2.0673 - val_accuracy: 0.3126\n",
      "Epoch 4/30\n",
      "79/79 [==============================] - 5s 68ms/step - loss: 1.6789 - accuracy: 0.4256 - val_loss: 1.9988 - val_accuracy: 0.3446\n",
      "Epoch 5/30\n",
      "79/79 [==============================] - 5s 67ms/step - loss: 1.4378 - accuracy: 0.4992 - val_loss: 2.3776 - val_accuracy: 0.2848\n",
      "Epoch 6/30\n",
      "79/79 [==============================] - 5s 64ms/step - loss: 1.2198 - accuracy: 0.5742 - val_loss: 2.1717 - val_accuracy: 0.3590\n",
      "Epoch 7/30\n",
      "79/79 [==============================] - 6s 76ms/step - loss: 1.0432 - accuracy: 0.6428 - val_loss: 2.1893 - val_accuracy: 0.3676\n",
      "Epoch 8/30\n",
      "79/79 [==============================] - 6s 70ms/step - loss: 0.8859 - accuracy: 0.6942 - val_loss: 2.4735 - val_accuracy: 0.3808\n",
      "Epoch 9/30\n",
      "79/79 [==============================] - 6s 71ms/step - loss: 0.7242 - accuracy: 0.7538 - val_loss: 2.0311 - val_accuracy: 0.4398\n",
      "Epoch 10/30\n",
      "79/79 [==============================] - 6s 73ms/step - loss: 0.6119 - accuracy: 0.7904 - val_loss: 2.3502 - val_accuracy: 0.4204\n",
      "Epoch 11/30\n",
      "79/79 [==============================] - 5s 68ms/step - loss: 0.4862 - accuracy: 0.8444 - val_loss: 2.7077 - val_accuracy: 0.4406\n",
      "Epoch 12/30\n",
      "79/79 [==============================] - 6s 71ms/step - loss: 0.3973 - accuracy: 0.8688 - val_loss: 2.7712 - val_accuracy: 0.4060\n",
      "Epoch 13/30\n",
      "79/79 [==============================] - 6s 73ms/step - loss: 0.3433 - accuracy: 0.8914 - val_loss: 3.2673 - val_accuracy: 0.3990\n",
      "Epoch 14/30\n",
      "79/79 [==============================] - 6s 75ms/step - loss: 0.3097 - accuracy: 0.8988 - val_loss: 3.4202 - val_accuracy: 0.4214\n",
      "Epoch 15/30\n",
      "79/79 [==============================] - 6s 72ms/step - loss: 0.2706 - accuracy: 0.9170 - val_loss: 5.4767 - val_accuracy: 0.3406\n",
      "Epoch 16/30\n",
      "79/79 [==============================] - 5s 64ms/step - loss: 0.2634 - accuracy: 0.9176 - val_loss: 4.1785 - val_accuracy: 0.4206\n",
      "Epoch 17/30\n",
      "79/79 [==============================] - 5s 67ms/step - loss: 0.2117 - accuracy: 0.9366 - val_loss: 3.9715 - val_accuracy: 0.4466\n",
      "Epoch 18/30\n",
      "79/79 [==============================] - 5s 63ms/step - loss: 0.2056 - accuracy: 0.9358 - val_loss: 4.0115 - val_accuracy: 0.4276\n",
      "Epoch 19/30\n",
      "79/79 [==============================] - 5s 66ms/step - loss: 0.1762 - accuracy: 0.9420 - val_loss: 4.7245 - val_accuracy: 0.4298\n",
      "Epoch 20/30\n",
      "79/79 [==============================] - 4s 57ms/step - loss: 0.1783 - accuracy: 0.9438 - val_loss: 5.0327 - val_accuracy: 0.4222\n",
      "Epoch 21/30\n",
      "79/79 [==============================] - 5s 63ms/step - loss: 0.1637 - accuracy: 0.9482 - val_loss: 5.8310 - val_accuracy: 0.3768\n",
      "Epoch 22/30\n",
      "79/79 [==============================] - 5s 61ms/step - loss: 0.1701 - accuracy: 0.9500 - val_loss: 5.1876 - val_accuracy: 0.4372\n",
      "Epoch 23/30\n",
      "79/79 [==============================] - 5s 58ms/step - loss: 0.1553 - accuracy: 0.9590 - val_loss: 4.7411 - val_accuracy: 0.4234\n",
      "Epoch 24/30\n",
      "79/79 [==============================] - 5s 64ms/step - loss: 0.1454 - accuracy: 0.9556 - val_loss: 5.1012 - val_accuracy: 0.4480\n",
      "Epoch 25/30\n",
      "79/79 [==============================] - 5s 69ms/step - loss: 0.1406 - accuracy: 0.9592 - val_loss: 5.0603 - val_accuracy: 0.4494\n",
      "Epoch 26/30\n",
      "79/79 [==============================] - 4s 57ms/step - loss: 0.1439 - accuracy: 0.9570 - val_loss: 6.9136 - val_accuracy: 0.3982\n",
      "Epoch 27/30\n",
      "79/79 [==============================] - 4s 54ms/step - loss: 0.1437 - accuracy: 0.9564 - val_loss: 6.5016 - val_accuracy: 0.4130\n",
      "Epoch 28/30\n",
      "79/79 [==============================] - 5s 62ms/step - loss: 0.1238 - accuracy: 0.9626 - val_loss: 7.2492 - val_accuracy: 0.4148\n",
      "Epoch 29/30\n",
      "79/79 [==============================] - 5s 59ms/step - loss: 0.1258 - accuracy: 0.9634 - val_loss: 6.3177 - val_accuracy: 0.4390\n",
      "Epoch 30/30\n",
      "79/79 [==============================] - 6s 73ms/step - loss: 0.1334 - accuracy: 0.9624 - val_loss: 6.1056 - val_accuracy: 0.4460\n",
      "157/157 [==============================] - 3s 20ms/step - loss: 6.1811 - accuracy: 0.4412\n",
      "Test accuracy: 0.441\n"
     ]
    },
    {
     "data": {
      "image/png": "[encoded data removed]",
      "text/plain": [
       "<Figure size 432x288 with 1 Axes>"
      ]
     },
     "metadata": {
      "needs_background": "light"
     },
     "output_type": "display_data"
    },
    {
     "data": {
      "image/png": "[encoded data removed]",
      "text/plain": [
       "<Figure size 432x288 with 1 Axes>"
      ]
     },
     "metadata": {
      "needs_background": "light"
     },
     "output_type": "display_data"
    }
   ],
   "source": [
    "model.compile(optimizer=\"rmsprop\",\n",
    "    loss=\"sparse_categorical_crossentropy\",\n",
    "    metrics=[\"accuracy\"])\n",
    "#model.fit(x_train, y_train, epochs=39, batch_size=64)\n",
    "\n",
    "\n",
    "history = model.fit(x_train, y_train, epochs=30, batch_size=64, validation_data=(x_validation, y_validation))\n",
    "\n",
    "test_loss, test_acc = model.evaluate(x_test, y_test)\n",
    "print(f\"Test accuracy: {test_acc:.3f}\")\n",
    "\n",
    "\n",
    "\n",
    "plot_model_validation(history)"
   ]
  },
  {
   "cell_type": "code",
   "execution_count": null,
   "id": "ba078002",
   "metadata": {},
   "outputs": [],
   "source": []
  },
  {
   "cell_type": "code",
   "execution_count": 10,
   "id": "f8d70f78",
   "metadata": {},
   "outputs": [
    {
     "data": {
      "image/png": "[encoded data removed]",
      "text/plain": [
       "<Figure size 432x288 with 1 Axes>"
      ]
     },
     "metadata": {
      "needs_background": "light"
     },
     "output_type": "display_data"
    },
    {
     "data": {
      "image/png": "[encoded data removed]",
      "text/plain": [
       "<Figure size 432x288 with 1 Axes>"
      ]
     },
     "metadata": {
      "needs_background": "light"
     },
     "output_type": "display_data"
    }
   ],
   "source": [
    "#//*** Plotting the training and validation loss\n",
    "history_dict = history.history\n",
    "loss_values = history_dict['loss']\n",
    "val_loss_values = history_dict['val_loss']\n",
    "acc = history_dict['accuracy']\n",
    "epochs = range(1, len(acc) + 1)\n",
    "plt.plot(epochs, loss_values, 'bo', label='Training loss')\n",
    "plt.plot(epochs, val_loss_values, 'b', label='Validation loss')\n",
    "plt.title('Training and validation loss')\n",
    "plt.xlabel('Epochs')\n",
    "plt.ylabel('Loss')\n",
    "plt.legend()\n",
    "plt.show()\n",
    "\n",
    "plt.clf()\n",
    "acc_values = history_dict['accuracy']\n",
    "val_acc_values = history_dict['val_accuracy']\n",
    "plt.plot(epochs, acc_values, 'bo', label='Training acc')\n",
    "plt.plot(epochs, val_acc_values, 'b', label='Validation acc')\n",
    "plt.title('Training and validation accuracy')\n",
    "plt.xlabel('Epochs')\n",
    "plt.ylabel('Loss')\n",
    "plt.legend()\n",
    "plt.show()"
   ]
  },
  {
   "cell_type": "code",
   "execution_count": null,
   "id": "336f9d1f",
   "metadata": {},
   "outputs": [],
   "source": []
  },
  {
   "cell_type": "code",
   "execution_count": null,
   "id": "d138fe3f",
   "metadata": {},
   "outputs": [],
   "source": []
  }
 ],
 "metadata": {
  "kernelspec": {
   "display_name": "Python 3 (ipykernel)",
   "language": "python",
   "name": "python3"
  },
  "language_info": {
   "codemirror_mode": {
    "name": "ipython",
    "version": 3
   },
   "file_extension": ".py",
   "mimetype": "text/x-python",
   "name": "python",
   "nbconvert_exporter": "python",
   "pygments_lexer": "ipython3",
   "version": "3.9.7"
  }
 },
 "nbformat": 4,
 "nbformat_minor": 5
}
