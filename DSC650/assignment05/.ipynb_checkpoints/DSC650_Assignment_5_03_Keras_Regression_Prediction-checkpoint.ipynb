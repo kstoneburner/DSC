{
 "cells": [
  {
   "cell_type": "markdown",
   "metadata": {},
   "source": [
    "# Stoneburner, Kurt\n",
    "- ## DSC 650 - Week XX"
   ]
  },
  {
   "cell_type": "markdown",
   "metadata": {},
   "source": [
    "https://github.com/fchollet/deep-learning-with-python-notebooks/blob/master/chapter04_getting-started-with-neural-networks.ipynb"
   ]
  },
  {
   "cell_type": "code",
   "execution_count": 1,
   "metadata": {},
   "outputs": [
    {
     "data": {
      "text/html": [
       "<style>.container { width:100% !important; }</style>"
      ],
      "text/plain": [
       "<IPython.core.display.HTML object>"
      ]
     },
     "metadata": {},
     "output_type": "display_data"
    }
   ],
   "source": [
    "import os\n",
    "import sys\n",
    "# //*** Imports and Load Data\n",
    "import matplotlib.pyplot as plt\n",
    "import numpy as np\n",
    "import pandas as pd\n",
    "\n",
    "#//*** Use the whole window in the IPYNB editor\n",
    "from IPython.core.display import display, HTML\n",
    "display(HTML(\"<style>.container { width:100% !important; }</style>\"))\n",
    "\n",
    "#//*** Maximize columns and rows displayed by pandas\n",
    "pd.set_option('display.max_rows', 100)\n",
    "pd.set_option('display.max_columns', None)\n",
    "\n",
    "\n",
    "from tensorflow import keras\n",
    "from tensorflow.keras import layers"
   ]
  },
  {
   "cell_type": "markdown",
   "metadata": {},
   "source": [
    "## Predicting house prices: A regression example ##"
   ]
  },
  {
   "cell_type": "code",
   "execution_count": 2,
   "metadata": {},
   "outputs": [],
   "source": [
    "#//*** Import the housing Dataset from Keras\n",
    "from tensorflow.keras.datasets import boston_housing\n",
    "(train_data, train_targets), (test_data, test_targets) = boston_housing.load_data()"
   ]
  },
  {
   "cell_type": "markdown",
   "metadata": {},
   "source": [
    "Need Notes on normalizing the Data"
   ]
  },
  {
   "cell_type": "code",
   "execution_count": 3,
   "metadata": {},
   "outputs": [],
   "source": [
    "#//*** Normalize the Data\n",
    "mean = train_data.mean(axis=0)\n",
    "train_data -= mean\n",
    "std = train_data.std(axis=0)\n",
    "train_data /= std\n",
    "test_data -= mean\n",
    "test_data /= std"
   ]
  },
  {
   "cell_type": "code",
   "execution_count": 6,
   "metadata": {},
   "outputs": [],
   "source": [
    "#//*** Define the model\n",
    "\n",
    "#//*** Loss is Mean Squared Error...Guessing that's because we are predicting a Quantitative Value\n",
    "#//*** Metrics, MAE - Mean Absolute Error. Again because of the Quantitative nature of housing prices.\n",
    "def build_model():\n",
    "    from tensorflow import keras\n",
    "    from tensorflow.keras import layers\n",
    "    \n",
    "    model = keras.Sequential([\n",
    "        layers.Dense(64, activation=\"relu\"),\n",
    "        layers.Dense(64, activation=\"relu\"),\n",
    "        layers.Dense(1)\n",
    "    ])\n",
    "    model.compile(optimizer=\"rmsprop\", loss=\"mse\", metrics=[\"mae\"])\n",
    "    return model\n",
    "\n"
   ]
  },
  {
   "cell_type": "markdown",
   "metadata": {},
   "source": [
    "Need Notes on K-Fold Validation. This is important and I don't understand it"
   ]
  },
  {
   "cell_type": "code",
   "execution_count": 5,
   "metadata": {},
   "outputs": [
    {
     "name": "stdout",
     "output_type": "stream",
     "text": [
      "Processing fold #0\n",
      "Processing fold #1\n",
      "Processing fold #2\n",
      "Processing fold #3\n"
     ]
    }
   ],
   "source": [
    "#//*** F-Fold Validation\n",
    "k = 4\n",
    "num_val_samples = len(train_data) // k #//*** Floor Division\n",
    "num_epochs = 100\n",
    "all_scores = []\n",
    "for i in range(k):\n",
    "    print(f\"Processing fold #{i}\")\n",
    "    val_data = train_data[i * num_val_samples: (i + 1) * num_val_samples]\n",
    "    val_targets = train_targets[i * num_val_samples: (i + 1) * num_val_samples]\n",
    "    partial_train_data = np.concatenate(\n",
    "        [train_data[:i * num_val_samples],\n",
    "         train_data[(i + 1) * num_val_samples:]],\n",
    "        axis=0)\n",
    "    partial_train_targets = np.concatenate(\n",
    "        [train_targets[:i * num_val_samples],\n",
    "         train_targets[(i + 1) * num_val_samples:]],\n",
    "        axis=0)\n",
    "    model = build_model()\n",
    "    model.fit(partial_train_data, partial_train_targets,\n",
    "              epochs=num_epochs, batch_size=16, verbose=0)\n",
    "    val_mse, val_mae = model.evaluate(val_data, val_targets, verbose=0)\n",
    "    all_scores.append(val_mae)\n",
    "\n"
   ]
  },
  {
   "cell_type": "code",
   "execution_count": 9,
   "metadata": {},
   "outputs": [
    {
     "name": "stdout",
     "output_type": "stream",
     "text": [
      "All Scores:  [2.0487587451934814, 2.2888150215148926, 2.5012688636779785, 2.575662136077881]\n",
      "Mean Scores:  2.3536261916160583\n"
     ]
    }
   ],
   "source": [
    "print(\"All Scores: \", all_scores)\n",
    "print(\"Mean Scores: \",np.mean(all_scores))"
   ]
  },
  {
   "cell_type": "code",
   "execution_count": 11,
   "metadata": {},
   "outputs": [
    {
     "name": "stdout",
     "output_type": "stream",
     "text": [
      "Processing fold #0\n",
      "Processing fold #1\n",
      "Processing fold #2\n",
      "Processing fold #3\n"
     ]
    }
   ],
   "source": [
    "#//*** Saving the validation logs of each fold\n",
    "num_epochs = 500\n",
    "all_mae_histories = []\n",
    "for i in range(k):\n",
    "    print(f\"Processing fold #{i}\")\n",
    "    val_data = train_data[i * num_val_samples: (i + 1) * num_val_samples]\n",
    "    val_targets = train_targets[i * num_val_samples: (i + 1) * num_val_samples]\n",
    "    partial_train_data = np.concatenate(\n",
    "        [train_data[:i * num_val_samples],\n",
    "         train_data[(i + 1) * num_val_samples:]],\n",
    "        axis=0)\n",
    "    partial_train_targets = np.concatenate(\n",
    "        [train_targets[:i * num_val_samples],\n",
    "         train_targets[(i + 1) * num_val_samples:]],\n",
    "        axis=0)\n",
    "    model = build_model()\n",
    "    history = model.fit(partial_train_data, partial_train_targets,\n",
    "                        validation_data=(val_data, val_targets),\n",
    "                        epochs=num_epochs, batch_size=16, verbose=0)\n",
    "    mae_history = history.history[\"val_mae\"]\n",
    "    all_mae_histories.append(mae_history)\n",
    "\n"
   ]
  },
  {
   "cell_type": "code",
   "execution_count": 12,
   "metadata": {},
   "outputs": [],
   "source": [
    "#//*** Building the history of successive mean K-fold validation Scores\n",
    "average_mae_history = [\n",
    "    np.mean([x[i] for x in all_mae_histories]) for i in range(num_epochs)]"
   ]
  },
  {
   "cell_type": "code",
   "execution_count": 14,
   "metadata": {},
   "outputs": [
    {
     "data": {
      "image/png": "[encoded data removed]",
      "text/plain": [
       "<Figure size 640x480 with 1 Axes>"
      ]
     },
     "metadata": {},
     "output_type": "display_data"
    },
    {
     "data": {
      "image/png": "[encoded data removed]",
      "text/plain": [
       "<Figure size 640x480 with 1 Axes>"
      ]
     },
     "metadata": {},
     "output_type": "display_data"
    }
   ],
   "source": [
    "#//*** Plotting Validation scores\n",
    "plt.plot(range(1, len(average_mae_history) + 1), average_mae_history)\n",
    "plt.xlabel(\"Epochs\")\n",
    "plt.ylabel(\"Validation MAE\")\n",
    "plt.show()\n",
    "\n",
    "#//*** Plotting Validation scores excluding the first 10 data Points\n",
    "\n",
    "\n",
    "truncated_mae_history = average_mae_history[10:]\n",
    "plt.plot(range(1, len(truncated_mae_history) + 1), truncated_mae_history)\n",
    "plt.xlabel(\"Epochs\")\n",
    "plt.ylabel(\"Validation MAE\")\n",
    "plt.show()\n",
    "\n"
   ]
  },
  {
   "cell_type": "code",
   "execution_count": 19,
   "metadata": {},
   "outputs": [
    {
     "name": "stdout",
     "output_type": "stream",
     "text": [
      "4/4 [==============================] - 0s 0s/step - loss: 14.5622 - mae: 2.3508\n",
      "test_mae_score:  2.3508379459381104\n",
      "Predictions:  [7.404916]\n"
     ]
    },
    {
     "data": {
      "text/plain": [
       "array([[ 7.404916 ],\n",
       "       [19.386995 ],\n",
       "       [21.273804 ],\n",
       "       [33.123943 ],\n",
       "       [25.171398 ],\n",
       "       [22.211506 ],\n",
       "       [26.779411 ],\n",
       "       [21.357162 ],\n",
       "       [19.032127 ],\n",
       "       [22.208933 ],\n",
       "       [18.156017 ],\n",
       "       [16.407843 ],\n",
       "       [16.114952 ],\n",
       "       [42.172985 ],\n",
       "       [20.319252 ],\n",
       "       [20.913576 ],\n",
       "       [24.110558 ],\n",
       "       [19.192839 ],\n",
       "       [19.43861  ],\n",
       "       [25.318863 ],\n",
       "       [10.239025 ],\n",
       "       [12.453246 ],\n",
       "       [21.523497 ],\n",
       "       [15.742915 ],\n",
       "       [18.610271 ],\n",
       "       [23.186575 ],\n",
       "       [27.704851 ],\n",
       "       [29.22881  ],\n",
       "       [10.586696 ],\n",
       "       [19.178986 ],\n",
       "       [19.77951  ],\n",
       "       [13.96835  ],\n",
       "       [31.845257 ],\n",
       "       [22.620789 ],\n",
       "       [18.540756 ],\n",
       "       [ 7.0459228],\n",
       "       [16.962294 ],\n",
       "       [17.322779 ],\n",
       "       [18.914734 ],\n",
       "       [25.457615 ],\n",
       "       [29.771042 ],\n",
       "       [26.856705 ],\n",
       "       [12.896235 ],\n",
       "       [42.61001  ],\n",
       "       [28.655357 ],\n",
       "       [25.423195 ],\n",
       "       [28.00761  ],\n",
       "       [18.900314 ],\n",
       "       [22.89119  ],\n",
       "       [23.119215 ],\n",
       "       [35.407192 ],\n",
       "       [19.952858 ],\n",
       "       [10.291239 ],\n",
       "       [13.639493 ],\n",
       "       [34.915962 ],\n",
       "       [28.256123 ],\n",
       "       [10.811343 ],\n",
       "       [47.780994 ],\n",
       "       [32.196503 ],\n",
       "       [22.714857 ],\n",
       "       [24.0997   ],\n",
       "       [15.605777 ],\n",
       "       [15.057769 ],\n",
       "       [20.571022 ],\n",
       "       [23.435593 ],\n",
       "       [19.637953 ],\n",
       "       [12.835755 ],\n",
       "       [21.053608 ],\n",
       "       [10.122381 ],\n",
       "       [ 6.7094374],\n",
       "       [23.760107 ],\n",
       "       [30.596834 ],\n",
       "       [27.186842 ],\n",
       "       [10.946158 ],\n",
       "       [24.988031 ],\n",
       "       [18.207876 ],\n",
       "       [18.838406 ],\n",
       "       [24.245575 ],\n",
       "       [36.792812 ],\n",
       "       [ 9.775897 ],\n",
       "       [21.690983 ],\n",
       "       [37.328438 ],\n",
       "       [15.676857 ],\n",
       "       [12.643762 ],\n",
       "       [17.209324 ],\n",
       "       [17.222456 ],\n",
       "       [22.88039  ],\n",
       "       [21.620487 ],\n",
       "       [21.69672  ],\n",
       "       [29.781044 ],\n",
       "       [20.471373 ],\n",
       "       [17.84958  ],\n",
       "       [26.016905 ],\n",
       "       [42.593956 ],\n",
       "       [37.35222  ],\n",
       "       [21.403496 ],\n",
       "       [34.759987 ],\n",
       "       [45.807835 ],\n",
       "       [23.018562 ],\n",
       "       [47.37961  ],\n",
       "       [28.624456 ],\n",
       "       [20.230564 ]], dtype=float32)"
      ]
     },
     "execution_count": 19,
     "metadata": {},
     "output_type": "execute_result"
    }
   ],
   "source": [
    "#//*** Training the Final Model\n",
    "model = build_model()\n",
    "model.fit(train_data, train_targets,\n",
    "          epochs=130, batch_size=16, verbose=0)\n",
    "test_mse_score, test_mae_score = model.evaluate(test_data, test_targets)\n",
    "\n",
    "print(\"test_mae_score: \",test_mae_score)\n",
    "\n",
    "#//*** Generate Predictions on the test_data\n",
    "predictions = model.predict(test_data)\n",
    "print(\"Predictions: \", predictions[0])\n",
    "\n",
    "predictions"
   ]
  },
  {
   "cell_type": "code",
   "execution_count": null,
   "metadata": {},
   "outputs": [],
   "source": []
  },
  {
   "cell_type": "code",
   "execution_count": null,
   "metadata": {},
   "outputs": [],
   "source": []
  }
 ],
 "metadata": {
  "kernelspec": {
   "display_name": "Python 3",
   "language": "python",
   "name": "python3"
  },
  "language_info": {
   "codemirror_mode": {
    "name": "ipython",
    "version": 3
   },
   "file_extension": ".py",
   "mimetype": "text/x-python",
   "name": "python",
   "nbconvert_exporter": "python",
   "pygments_lexer": "ipython3",
   "version": "3.8.11"
  }
 },
 "nbformat": 4,
 "nbformat_minor": 4
}
