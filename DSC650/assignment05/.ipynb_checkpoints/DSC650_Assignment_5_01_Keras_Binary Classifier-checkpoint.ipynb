{
 "cells": [
  {
   "cell_type": "markdown",
   "metadata": {},
   "source": [
    "Notes:\n",
    "For 5.1 I'm choosing to work from the eBook. My process primarily involves copy/pasting code and copy from the book. My goal is to treat this assignment as future reference material. Therefore, my preference is to comment every line of code so I understand it's function. I'll bring in sections of the book as contextual reference material as well. It's a time-consuming process that isn't focused on learning the material per se, but as getting a general conceptual understanding then creating a method for future retrieval.\n",
    "\n",
    "At this phase of my life I have forgotten many multiples of anything I have created. One of my personal running themes is whenever I need to update old code, my first thought is 'who wrote this?'. The answer is always me....Every bit of it. Now, I try to over comment as much as possible. I don't always succeed, but it's a good goal."
   ]
  },
  {
   "cell_type": "markdown",
   "metadata": {},
   "source": [
    "# Stoneburner, Kurt\n",
    "- ## DSC 650 - Week XX"
   ]
  },
  {
   "cell_type": "code",
   "execution_count": 1,
   "metadata": {},
   "outputs": [
    {
     "name": "stderr",
     "output_type": "stream",
     "text": [
      "Using TensorFlow backend.\n"
     ]
    },
    {
     "data": {
      "text/html": [
       "<style>.container { width:100% !important; }</style>"
      ],
      "text/plain": [
       "<IPython.core.display.HTML object>"
      ]
     },
     "metadata": {},
     "output_type": "display_data"
    }
   ],
   "source": [
    "import os\n",
    "import sys\n",
    "# //*** Imports and Load Data\n",
    "import matplotlib.pyplot as plt\n",
    "import numpy as np\n",
    "import pandas as pd\n",
    "from keras.datasets import imdb\n",
    "from keras import models\n",
    "from keras import layers\n",
    "from keras import optimizers\n",
    "\n",
    "\n",
    "#//*** Use the whole window in the IPYNB editor\n",
    "from IPython.core.display import display, HTML\n",
    "display(HTML(\"<style>.container { width:100% !important; }</style>\"))\n",
    "\n",
    "#//*** Maximize columns and rows displayed by pandas\n",
    "pd.set_option('display.max_rows', 100)\n",
    "pd.set_option('display.max_columns', None)"
   ]
  },
  {
   "cell_type": "code",
   "execution_count": 2,
   "metadata": {},
   "outputs": [
    {
     "name": "stderr",
     "output_type": "stream",
     "text": [
      "C:\\Users\\stonk013\\Anaconda3\\envs\\tensorflow_1\\lib\\site-packages\\keras\\datasets\\imdb.py:101: VisibleDeprecationWarning: Creating an ndarray from ragged nested sequences (which is a list-or-tuple of lists-or-tuples-or ndarrays with different lengths or shapes) is deprecated. If you meant to do this, you must specify 'dtype=object' when creating the ndarray\n",
      "  x_train, y_train = np.array(xs[:idx]), np.array(labels[:idx])\n",
      "C:\\Users\\stonk013\\Anaconda3\\envs\\tensorflow_1\\lib\\site-packages\\keras\\datasets\\imdb.py:102: VisibleDeprecationWarning: Creating an ndarray from ragged nested sequences (which is a list-or-tuple of lists-or-tuples-or ndarrays with different lengths or shapes) is deprecated. If you meant to do this, you must specify 'dtype=object' when creating the ndarray\n",
      "  x_test, y_test = np.array(xs[idx:]), np.array(labels[idx:])\n"
     ]
    }
   ],
   "source": [
    "#//*** Download Data and Load arrays\n",
    "(train_data, train_labels), (test_data,test_labels) = imdb.load_data(num_words=10000)"
   ]
  },
  {
   "cell_type": "code",
   "execution_count": null,
   "metadata": {},
   "outputs": [],
   "source": []
  },
  {
   "cell_type": "code",
   "execution_count": 3,
   "metadata": {},
   "outputs": [],
   "source": [
    "\n",
    "#//*** Word_index is dictionary mapping words to an integer index\n",
    "word_index = imdb.get_word_index()\n",
    "\n",
    "#//*** Maps indexes to words\n",
    "reverse_word_index = dict(\n",
    "    [(value, key) for (key, value) in word_index.items()])\n",
    "\n",
    "#//*** Decodes the Review\n",
    "decoded_review = ' '.join(\n",
    "    [reverse_word_index.get(i - 3, '?') for i in train_data[0]] )"
   ]
  },
  {
   "cell_type": "code",
   "execution_count": null,
   "metadata": {},
   "outputs": [],
   "source": []
  },
  {
   "cell_type": "markdown",
   "metadata": {},
   "source": [
    "You can’t feed lists of integers into a neural network. You have to turn your lists intotensors. There are two ways to do that:\n",
    " - Pad your lists so that they all have the same length, turn them into an integertensor  of  shape  (samples,word_indices),  and  then  use  as  the  first  layer  inyour network a layer capable of handling such integer tensors (the Embeddinglayer, which we’ll cover in detail later in the book).\n",
    " \n",
    " \n",
    " - **(Example Below: vectorize_sequences)** One-hot  encode  your  lists  to  turn  them  into  vectors  of  0s  and  1s.  This  would mean, for instance, turning the sequence [3, 5] into a 10,000-dimensional vec-tor that would be all 0s except for indices 3 and 5, which would be 1s. Then you could use as the first layer in your network a Dense layer, capable of handling floating-point vector data."
   ]
  },
  {
   "cell_type": "code",
   "execution_count": 4,
   "metadata": {},
   "outputs": [],
   "source": [
    "#//*** Lists of integers must be converted into tensors.\n",
    "def vectorize_sequences(sequences, dimension=10000):\n",
    "    #//*** Builds zero filled matrix of shape dimension\n",
    "    results = np.zeros((len(sequences), dimension))\n",
    "    \n",
    "    #//*** Assigns 1s to the specific integer for references.\n",
    "    #//*** This is manual one-hot encoding\n",
    "    for i, sequence in enumerate(sequences):\n",
    "        \n",
    "         for j in sequence:   \n",
    "            results[i, j] = 1.\n",
    "                \n",
    "    return results\n",
    "    \n",
    "#//*** Download Data and Load arrays\n",
    "(train_data, train_labels), (test_data,test_labels) = imdb.load_data(num_words=10000)    \n",
    "    \n",
    "#//*** Vectorize the Training and Test data\n",
    "x_train = vectorize_sequences(train_data)\n",
    "x_test = vectorize_sequences(test_data)\n",
    "\n",
    "#//*** Vectorize the Training and Test Labels\n",
    "y_train = np.asarray(train_labels).astype('float32')\n",
    "y_test = np.asarray(test_labels).astype('float32')"
   ]
  },
  {
   "cell_type": "markdown",
   "metadata": {},
   "source": [
    "## Build the Network ##\n",
    "The input data is vectors, and the labels are scalars (1s and 0s): this is the easiest setup you’ll  ever  encounter.  A  type  of  network  that  performs  well  on  such  a  problem  is a simple  stack  of  fully  connected  (Dense)  layers  with  relu  activations:  *Dense(16,activation='relu')*.  \n",
    "\n",
    "The argument  being  passed  to  each  Dense layer (16) is the number of hidden units of the layer. A hidden unit is a dimension in the representation space of the layer. Each such Dense layer with a relu activation implements the following chain of tensor operations: \n",
    "\n",
    "**output = relu(dot(W, input) + b)** \n",
    "\n",
    "Having 16 hidden units means the weight matrix W will have shape (input_dimension,16): the dot product with W will project the input data onto a 16-dimensional representation space (and then you’ll add the bias vector b and apply the relu operation). \n",
    "\n",
    "You can  intuitively understand the dimensionality of your representation space as  “how much freedom you’re allowing the network to have when learning internal representations.” *Having more hidden units (a  higher-dimensional representation  space) allows your network to learn more-complex representations, but it makes the network more  computationally  expensive and may lead to learning unwanted patterns (patterns that will improve performance on the training data but not on the test data).*\n",
    "\n",
    "There are two key architecture decisions to be made about such a stack of Dense layers: \n",
    "- How many layers to use\n",
    "- How many hidden units to choose for each layer\n",
    "\n",
    "For the time being go with the following architecture choice: \n",
    "- Two intermediate layers with 16 hidden units each \n",
    "- A third layer that will output the scalar prediction regarding the sentiment ofthe current review\n",
    "\n",
    "The intermediate layers will use *relu* as their activation function, and the final layer will use a sigmoid activation so as to output a probability (a score between 0 and 1, indicating how likely the sample is to have the target “1”: how likely the review is to be positive). A *relu* (rectified linear unit) is a function meant to zero out negative values, whereas a sigmoid “squashes” arbitrary values into the [0, 1] interval, outputting something that can be interpreted as a probability"
   ]
  },
  {
   "cell_type": "code",
   "execution_count": 5,
   "metadata": {},
   "outputs": [
    {
     "name": "stdout",
     "output_type": "stream",
     "text": [
      "Train on 15000 samples, validate on 10000 samples\n",
      "Epoch 1/20\n",
      "15000/15000 [==============================] - 2s 145us/step - loss: 0.5089 - acc: 0.7859 - val_loss: 0.4025 - val_acc: 0.8471\n",
      "Epoch 2/20\n",
      "15000/15000 [==============================] - 2s 114us/step - loss: 0.3072 - acc: 0.9012 - val_loss: 0.3041 - val_acc: 0.8879\n",
      "Epoch 3/20\n",
      "15000/15000 [==============================] - 2s 115us/step - loss: 0.2237 - acc: 0.9272 - val_loss: 0.3107 - val_acc: 0.8724\n",
      "Epoch 4/20\n",
      "15000/15000 [==============================] - 2s 114us/step - loss: 0.1766 - acc: 0.9430 - val_loss: 0.2723 - val_acc: 0.8914\n",
      "Epoch 5/20\n",
      "15000/15000 [==============================] - 2s 115us/step - loss: 0.1479 - acc: 0.9519 - val_loss: 0.2768 - val_acc: 0.8898\n",
      "Epoch 6/20\n",
      "15000/15000 [==============================] - 2s 116us/step - loss: 0.1196 - acc: 0.9623 - val_loss: 0.2960 - val_acc: 0.8842\n",
      "Epoch 7/20\n",
      "15000/15000 [==============================] - 2s 116us/step - loss: 0.1002 - acc: 0.9695 - val_loss: 0.3075 - val_acc: 0.8848\n",
      "Epoch 8/20\n",
      "15000/15000 [==============================] - 2s 116us/step - loss: 0.0873 - acc: 0.9753 - val_loss: 0.3296 - val_acc: 0.8819\n",
      "Epoch 9/20\n",
      "15000/15000 [==============================] - 2s 116us/step - loss: 0.0695 - acc: 0.9810 - val_loss: 0.3513 - val_acc: 0.8768\n",
      "Epoch 10/20\n",
      "15000/15000 [==============================] - 2s 115us/step - loss: 0.0613 - acc: 0.9850 - val_loss: 0.3666 - val_acc: 0.8784\n",
      "Epoch 11/20\n",
      "15000/15000 [==============================] - 2s 116us/step - loss: 0.0508 - acc: 0.9866 - val_loss: 0.3977 - val_acc: 0.8745\n",
      "Epoch 12/20\n",
      "15000/15000 [==============================] - 2s 116us/step - loss: 0.0395 - acc: 0.9917 - val_loss: 0.4217 - val_acc: 0.8744\n",
      "Epoch 13/20\n",
      "15000/15000 [==============================] - 2s 116us/step - loss: 0.0339 - acc: 0.9921 - val_loss: 0.4550 - val_acc: 0.8738\n",
      "Epoch 14/20\n",
      "15000/15000 [==============================] - 2s 116us/step - loss: 0.0279 - acc: 0.9944 - val_loss: 0.4865 - val_acc: 0.8723\n",
      "Epoch 15/20\n",
      "15000/15000 [==============================] - 2s 117us/step - loss: 0.0218 - acc: 0.9965 - val_loss: 0.5227 - val_acc: 0.8692\n",
      "Epoch 16/20\n",
      "15000/15000 [==============================] - 2s 115us/step - loss: 0.0173 - acc: 0.9975 - val_loss: 0.5645 - val_acc: 0.8698\n",
      "Epoch 17/20\n",
      "15000/15000 [==============================] - 2s 115us/step - loss: 0.0155 - acc: 0.9974 - val_loss: 0.5916 - val_acc: 0.8676\n",
      "Epoch 18/20\n",
      "15000/15000 [==============================] - 2s 116us/step - loss: 0.0115 - acc: 0.9985 - val_loss: 0.6789 - val_acc: 0.8628\n",
      "Epoch 19/20\n",
      "15000/15000 [==============================] - 2s 115us/step - loss: 0.0073 - acc: 0.9997 - val_loss: 0.6474 - val_acc: 0.8668\n",
      "Epoch 20/20\n",
      "15000/15000 [==============================] - 2s 115us/step - loss: 0.0075 - acc: 0.9995 - val_loss: 0.6891 - val_acc: 0.8665\n"
     ]
    }
   ],
   "source": [
    "\n",
    "model = models.Sequential()\n",
    "model.add(layers.Dense(16, activation='relu', input_shape=(10000,)))\n",
    "model.add(layers.Dense(16, activation='relu'))\n",
    "model.add(layers.Dense(1, activation='sigmoid'))\n",
    "\n",
    "#//*** Compile the Model\n",
    "\n",
    "\n",
    "\n",
    "model.compile(\n",
    "    optimizer=optimizers.RMSprop(lr=0.001),\n",
    "    loss='binary_crossentropy',\n",
    "    metrics=['accuracy']\n",
    ")\n",
    "\n",
    "#//*** Configure the Optimizer\n",
    "#model.compile(\n",
    "#    optimizer=optimizers.RMSprop(lr=0.001),\n",
    "#    loss=losses.binary_crossentropy,\n",
    "#    metrics=[metrics.binary_accuracy]\n",
    "#)\n",
    "\n",
    "\n",
    "#//*** Use Custom Losses and Metrics\n",
    "from keras import losses\n",
    "from keras import metrics\n",
    "\n",
    "#//*** Set Aside a Validation Set\n",
    "x_val = x_train[:10000]\n",
    "partial_x_train = x_train[10000:]\n",
    "\n",
    "y_val = y_train[:10000]\n",
    "partial_y_train = y_train[10000:]\n",
    "\n",
    "#//*** Train Model\n",
    "model.compile(\n",
    "    optimizer='rmsprop',\n",
    "    loss='binary_crossentropy',\n",
    "    metrics=['acc']\n",
    ")\n",
    "\n",
    "history = model.fit(\n",
    "    partial_x_train,\n",
    "    partial_y_train,\n",
    "    epochs=20,\n",
    "    batch_size=512,\n",
    "    validation_data=(x_val, y_val))"
   ]
  },
  {
   "cell_type": "code",
   "execution_count": 6,
   "metadata": {},
   "outputs": [
    {
     "data": {
      "image/png": "[encoded data removed]",
      "text/plain": [
       "<Figure size 432x288 with 1 Axes>"
      ]
     },
     "metadata": {
      "needs_background": "light"
     },
     "output_type": "display_data"
    }
   ],
   "source": [
    "#//*** Plotting the training and validation loss\n",
    "history_dict = history.history\n",
    "loss_values = history_dict['loss']\n",
    "val_loss_values = history_dict['val_loss']\n",
    "acc = history_dict['acc']\n",
    "epochs = range(1, len(acc) + 1)\n",
    "plt.plot(epochs, loss_values, 'bo', label='Training loss')\n",
    "plt.plot(epochs, val_loss_values, 'b', label='Validation loss')\n",
    "plt.title('Training and validation loss')\n",
    "plt.xlabel('Epochs')\n",
    "plt.ylabel('Loss')\n",
    "plt.legend()\n",
    "plt.show()\n"
   ]
  },
  {
   "cell_type": "code",
   "execution_count": null,
   "metadata": {},
   "outputs": [],
   "source": []
  },
  {
   "cell_type": "code",
   "execution_count": 7,
   "metadata": {},
   "outputs": [
    {
     "data": {
      "image/png": "[encoded data removed]",
      "text/plain": [
       "<Figure size 432x288 with 1 Axes>"
      ]
     },
     "metadata": {
      "needs_background": "light"
     },
     "output_type": "display_data"
    }
   ],
   "source": [
    "plt.clf()\n",
    "acc_values = history_dict['acc']\n",
    "val_acc_values = history_dict['val_acc']\n",
    "plt.plot(epochs, acc_values, 'bo', label='Training acc')\n",
    "plt.plot(epochs, val_acc_values, 'b', label='Validation acc')\n",
    "plt.title('Training and validation accuracy')\n",
    "plt.xlabel('Epochs')\n",
    "plt.ylabel('Loss')\n",
    "plt.legend()\n",
    "plt.show()"
   ]
  },
  {
   "cell_type": "code",
   "execution_count": 8,
   "metadata": {},
   "outputs": [
    {
     "name": "stdout",
     "output_type": "stream",
     "text": [
      "Epoch 1/20\n",
      "25000/25000 [==============================] - 2s 73us/step - loss: 0.4688 - accuracy: 0.8216\n",
      "Epoch 2/20\n",
      "25000/25000 [==============================] - 2s 70us/step - loss: 0.2688 - accuracy: 0.9067\n",
      "Epoch 3/20\n",
      "25000/25000 [==============================] - 2s 71us/step - loss: 0.2044 - accuracy: 0.9282\n",
      "Epoch 4/20\n",
      "25000/25000 [==============================] - 2s 71us/step - loss: 0.1719 - accuracy: 0.9395\n",
      "Epoch 5/20\n",
      "25000/25000 [==============================] - 2s 71us/step - loss: 0.1481 - accuracy: 0.9479\n",
      "Epoch 6/20\n",
      "25000/25000 [==============================] - 2s 70us/step - loss: 0.1295 - accuracy: 0.9559\n",
      "Epoch 7/20\n",
      "25000/25000 [==============================] - 2s 71us/step - loss: 0.1142 - accuracy: 0.9614\n",
      "Epoch 8/20\n",
      "25000/25000 [==============================] - 2s 70us/step - loss: 0.0998 - accuracy: 0.9657\n",
      "Epoch 9/20\n",
      "25000/25000 [==============================] - 2s 71us/step - loss: 0.0903 - accuracy: 0.9712\n",
      "Epoch 10/20\n",
      "25000/25000 [==============================] - 2s 71us/step - loss: 0.0784 - accuracy: 0.9746\n",
      "Epoch 11/20\n",
      "25000/25000 [==============================] - 2s 71us/step - loss: 0.0698 - accuracy: 0.9786\n",
      "Epoch 12/20\n",
      "25000/25000 [==============================] - 2s 70us/step - loss: 0.0582 - accuracy: 0.9830\n",
      "Epoch 13/20\n",
      "25000/25000 [==============================] - 2s 70us/step - loss: 0.0529 - accuracy: 0.9850\n",
      "Epoch 14/20\n",
      "25000/25000 [==============================] - 2s 71us/step - loss: 0.0453 - accuracy: 0.9871\n",
      "Epoch 15/20\n",
      "25000/25000 [==============================] - 2s 71us/step - loss: 0.0375 - accuracy: 0.9904\n",
      "Epoch 16/20\n",
      "25000/25000 [==============================] - 2s 70us/step - loss: 0.0335 - accuracy: 0.9915\n",
      "Epoch 17/20\n",
      "25000/25000 [==============================] - 2s 71us/step - loss: 0.0274 - accuracy: 0.9939\n",
      "Epoch 18/20\n",
      "25000/25000 [==============================] - 2s 71us/step - loss: 0.0223 - accuracy: 0.9951\n",
      "Epoch 19/20\n",
      "25000/25000 [==============================] - 2s 71us/step - loss: 0.0202 - accuracy: 0.9954\n",
      "Epoch 20/20\n",
      "25000/25000 [==============================] - 2s 71us/step - loss: 0.0157 - accuracy: 0.9971\n",
      "25000/25000 [==============================] - 3s 109us/step\n"
     ]
    },
    {
     "data": {
      "text/plain": [
       "[0.7674488276898861, 0.8497999906539917]"
      ]
     },
     "execution_count": 8,
     "metadata": {},
     "output_type": "execute_result"
    }
   ],
   "source": [
    "#//*** retraining a model from scratch\n",
    "#//*** Previous Results didn't go well. Book suggests Overfitting, But it doesn't look like the \n",
    "#//*** Accuracy and Validation values worked well. \n",
    "\n",
    "model = models.Sequential()\n",
    "model.add(layers.Dense(16, activation='relu', input_shape=(10000,)))\n",
    "model.add(layers.Dense(16, activation='relu'))\n",
    "model.add(layers.Dense(1, activation='sigmoid'))\n",
    "model.compile(optimizer='rmsprop',loss='binary_crossentropy',metrics=['accuracy'])\n",
    "model.fit(x_train, y_train, epochs=20, batch_size=512)\n",
    "results = model.evaluate(x_test, y_test)\n",
    "\n",
    "results"
   ]
  },
  {
   "cell_type": "code",
   "execution_count": 9,
   "metadata": {},
   "outputs": [],
   "source": [
    "def build_binary_output_model(**kwargs):\n",
    "    #//*** Define the Model\n",
    "    from keras import models\n",
    "    from keras import layers\n",
    "    from keras import optimizers\n",
    "    \n",
    "    \n",
    "    #//*****************************\n",
    "    #//*** Set Default values\n",
    "    #//*****************************\n",
    "    total_layers = 2\n",
    "    hidden_units = 16\n",
    "    first_activation = \"relu\"\n",
    "    final_activation='sigmoid'\n",
    "    optimizer='rmsprop'  \n",
    "    loss = 'mse'\n",
    "    metrics=['accuracy']\n",
    "    shape = (0,0)\n",
    "    do_compile = True\n",
    "    \n",
    "    #//*** Apply Kwargs\n",
    "    for key,value in kwargs.items():\n",
    "        \n",
    "        if key == 'layers':\n",
    "            total_layers=value\n",
    "\n",
    "        if key == 'hidden_units':\n",
    "            hidden_units=value\n",
    "        \n",
    "        if key == 'loss':\n",
    "            loss=value\n",
    "        \n",
    "        if key == 'first_activation':\n",
    "            first_activation=value\n",
    "    \n",
    "        if key == 'final_activation':\n",
    "            final_activation=value\n",
    "    \n",
    "        if key == 'optimizer':\n",
    "            optimizer=value\n",
    "    \n",
    "        if key == 'metrics':\n",
    "            metrics=value\n",
    "            \n",
    "        if key == 'shape':\n",
    "            shape = value\n",
    "\n",
    "        if key == 'compile':\n",
    "            do_compile = value\n",
    "\n",
    "    model = models.Sequential()\n",
    "    \n",
    "    \n",
    "    #//*** Add First Layer\n",
    "    model.add(layers.Dense(hidden_units, activation=first_activation, input_shape=shape ))\n",
    "    \n",
    "    \n",
    "    #//*** Add Additional Layers if total_layers greater than 2\n",
    "    for x in range(total_layers-2):\n",
    "        \n",
    "        #//*** These are basic layers with same number of hidden units and using first_activation\n",
    "        model.add(layers.Dense(hidden_units, activation=first_activation))\n",
    "    \n",
    "    \n",
    "    \n",
    "    #//*** Add Final Layer\n",
    "    model.add(layers.Dense(1, activation=final_activation))\n",
    "    \n",
    "    #//*** Compile Model\n",
    "    if do_compile:\n",
    "        \n",
    "        model.compile(optimizer=optimizer,loss=loss,metrics=metrics)\n",
    "    \n",
    "    return model\n",
    "\n"
   ]
  },
  {
   "cell_type": "code",
   "execution_count": 10,
   "metadata": {},
   "outputs": [
    {
     "name": "stdout",
     "output_type": "stream",
     "text": [
      "Epoch 1/20\n",
      "25000/25000 [==============================] - 2s 72us/step - loss: 0.4433 - accuracy: 0.8272\n",
      "Epoch 2/20\n",
      "25000/25000 [==============================] - 2s 69us/step - loss: 0.2559 - accuracy: 0.9098\n",
      "Epoch 3/20\n",
      "25000/25000 [==============================] - 2s 69us/step - loss: 0.1996 - accuracy: 0.9286\n",
      "Epoch 4/20\n",
      "25000/25000 [==============================] - 2s 69us/step - loss: 0.1669 - accuracy: 0.9406\n",
      "Epoch 5/20\n",
      "25000/25000 [==============================] - 2s 69us/step - loss: 0.1442 - accuracy: 0.9498\n",
      "Epoch 6/20\n",
      "25000/25000 [==============================] - 2s 70us/step - loss: 0.1297 - accuracy: 0.9548\n",
      "Epoch 7/20\n",
      "25000/25000 [==============================] - 2s 69us/step - loss: 0.1145 - accuracy: 0.9604\n",
      "Epoch 8/20\n",
      "25000/25000 [==============================] - 2s 69us/step - loss: 0.1040 - accuracy: 0.9650\n",
      "Epoch 9/20\n",
      "25000/25000 [==============================] - 2s 69us/step - loss: 0.0925 - accuracy: 0.9685\n",
      "Epoch 10/20\n",
      "25000/25000 [==============================] - 2s 69us/step - loss: 0.0837 - accuracy: 0.9720\n",
      "Epoch 11/20\n",
      "25000/25000 [==============================] - 2s 69us/step - loss: 0.0749 - accuracy: 0.9761\n",
      "Epoch 12/20\n",
      "25000/25000 [==============================] - 2s 69us/step - loss: 0.0680 - accuracy: 0.9780\n",
      "Epoch 13/20\n",
      "25000/25000 [==============================] - 2s 70us/step - loss: 0.0603 - accuracy: 0.9809\n",
      "Epoch 14/20\n",
      "25000/25000 [==============================] - 2s 70us/step - loss: 0.0546 - accuracy: 0.9821\n",
      "Epoch 15/20\n",
      "25000/25000 [==============================] - 2s 70us/step - loss: 0.0472 - accuracy: 0.9862\n",
      "Epoch 16/20\n",
      "25000/25000 [==============================] - 2s 70us/step - loss: 0.0439 - accuracy: 0.9866\n",
      "Epoch 17/20\n",
      "25000/25000 [==============================] - 2s 70us/step - loss: 0.0363 - accuracy: 0.9894\n",
      "Epoch 18/20\n",
      "25000/25000 [==============================] - 2s 70us/step - loss: 0.0339 - accuracy: 0.9897\n",
      "Epoch 19/20\n",
      "25000/25000 [==============================] - 2s 70us/step - loss: 0.0289 - accuracy: 0.9915\n",
      "Epoch 20/20\n",
      "25000/25000 [==============================] - 2s 69us/step - loss: 0.0254 - accuracy: 0.9930\n",
      "25000/25000 [==============================] - 2s 98us/step\n"
     ]
    },
    {
     "data": {
      "text/plain": [
       "[0.784260949203968, 0.8456000089645386]"
      ]
     },
     "execution_count": 10,
     "metadata": {},
     "output_type": "execute_result"
    }
   ],
   "source": [
    "#//****************************\n",
    "#//*** Book Supplied Settings\n",
    "#//****************************\n",
    "model_shape = (10000,)\n",
    "layers = 3\n",
    "hidden_units = 16\n",
    "first_activation = \"relu\"\n",
    "final_activation = \"sigmoid\"\n",
    "optimizer = \"rmsprop\"\n",
    "loss = 'binary_crossentropy'\n",
    "model = build_binary_output_model(\n",
    "    shape=model_shape,\n",
    "    layers=layers, \n",
    "    hidden_units = hidden_units,\n",
    "    first_activation = first_activation,\n",
    "    final_activation=final_activation, \n",
    "    optimizer=optimizer,\n",
    "    loss=loss,metrics=['accuracy']  \n",
    ")\n",
    "\n",
    "model.fit(x_train, y_train, epochs=20, batch_size=512)\n",
    "results = model.evaluate(x_test, y_test)\n",
    "\n",
    "results"
   ]
  },
  {
   "cell_type": "markdown",
   "metadata": {},
   "source": [
    "### Further experiments ### \n",
    "The following experiments will help convince you that the architecture choices you’ve made are all fairly reasonable, although there’s still room for improvement:\n",
    " - You used two hidden layers. Try using one or three hidden layers, and see how doing so affects validation and test accuracy.\n",
    " - Try using layers with more hidden units or fewer hidden units: 32 units, 64 units,and so on.\n",
    " - Try using the mse loss function instead of binary_crossentropy.\n",
    " - Try using the tanh activation (an activation that was popular in the early days ofneural networks) instead of relu."
   ]
  },
  {
   "cell_type": "code",
   "execution_count": 11,
   "metadata": {},
   "outputs": [
    {
     "name": "stdout",
     "output_type": "stream",
     "text": [
      "Epoch 1/20\n",
      "25000/25000 [==============================] - 2s 72us/step - loss: 0.4433 - accuracy: 0.8302\n",
      "Epoch 2/20\n",
      "25000/25000 [==============================] - 2s 70us/step - loss: 0.2723 - accuracy: 0.9088\n",
      "Epoch 3/20\n",
      "25000/25000 [==============================] - 2s 70us/step - loss: 0.2169 - accuracy: 0.9256\n",
      "Epoch 4/20\n",
      "25000/25000 [==============================] - 2s 70us/step - loss: 0.1853 - accuracy: 0.9362\n",
      "Epoch 5/20\n",
      "25000/25000 [==============================] - 2s 70us/step - loss: 0.1622 - accuracy: 0.9458\n",
      "Epoch 6/20\n",
      "25000/25000 [==============================] - 2s 70us/step - loss: 0.1461 - accuracy: 0.9507\n",
      "Epoch 7/20\n",
      "25000/25000 [==============================] - 2s 70us/step - loss: 0.1328 - accuracy: 0.9561\n",
      "Epoch 8/20\n",
      "25000/25000 [==============================] - 2s 69us/step - loss: 0.1212 - accuracy: 0.9601\n",
      "Epoch 9/20\n",
      "25000/25000 [==============================] - 2s 70us/step - loss: 0.1116 - accuracy: 0.9649\n",
      "Epoch 10/20\n",
      "25000/25000 [==============================] - 2s 70us/step - loss: 0.1030 - accuracy: 0.9675\n",
      "Epoch 11/20\n",
      "25000/25000 [==============================] - 2s 70us/step - loss: 0.0957 - accuracy: 0.9701\n",
      "Epoch 12/20\n",
      "25000/25000 [==============================] - 2s 70us/step - loss: 0.0886 - accuracy: 0.9721\n",
      "Epoch 13/20\n",
      "25000/25000 [==============================] - 2s 70us/step - loss: 0.0820 - accuracy: 0.9750\n",
      "Epoch 14/20\n",
      "25000/25000 [==============================] - 2s 70us/step - loss: 0.0755 - accuracy: 0.9773\n",
      "Epoch 15/20\n",
      "25000/25000 [==============================] - 2s 70us/step - loss: 0.0699 - accuracy: 0.9804\n",
      "Epoch 16/20\n",
      "25000/25000 [==============================] - 2s 70us/step - loss: 0.0655 - accuracy: 0.9808\n",
      "Epoch 17/20\n",
      "25000/25000 [==============================] - 2s 70us/step - loss: 0.0604 - accuracy: 0.9829\n",
      "Epoch 18/20\n",
      "25000/25000 [==============================] - 2s 70us/step - loss: 0.0560 - accuracy: 0.9849\n",
      "Epoch 19/20\n",
      "25000/25000 [==============================] - 2s 70us/step - loss: 0.0530 - accuracy: 0.9854\n",
      "Epoch 20/20\n",
      "25000/25000 [==============================] - 2s 70us/step - loss: 0.0497 - accuracy: 0.9874\n",
      "25000/25000 [==============================] - 2s 99us/step\n"
     ]
    },
    {
     "data": {
      "text/plain": [
       "[0.5378031985211372, 0.8550000190734863]"
      ]
     },
     "execution_count": 11,
     "metadata": {},
     "output_type": "execute_result"
    }
   ],
   "source": [
    "#//****************************\n",
    "#//*** Suggestion use One Hidden Layer\n",
    "#//****************************\n",
    "model_shape = (10000,)\n",
    "layers = 2\n",
    "hidden_units = 16\n",
    "first_activation = \"relu\"\n",
    "final_activation = \"sigmoid\"\n",
    "optimizer = \"rmsprop\"\n",
    "loss = 'binary_crossentropy'\n",
    "model = build_binary_output_model(\n",
    "    shape=model_shape,\n",
    "    layers=layers, \n",
    "    hidden_units = hidden_units,\n",
    "    first_activation = first_activation,\n",
    "    final_activation=final_activation, \n",
    "    optimizer=optimizer,\n",
    "    loss=loss,metrics=['accuracy']  \n",
    ")\n",
    "\n",
    "model.fit(x_train, y_train, epochs=20, batch_size=512)\n",
    "results = model.evaluate(x_test, y_test)\n",
    "\n",
    "results"
   ]
  },
  {
   "cell_type": "code",
   "execution_count": 12,
   "metadata": {},
   "outputs": [
    {
     "name": "stdout",
     "output_type": "stream",
     "text": [
      "Epoch 1/20\n",
      "25000/25000 [==============================] - 2s 74us/step - loss: 0.4713 - accuracy: 0.8161\n",
      "Epoch 2/20\n",
      "25000/25000 [==============================] - 2s 70us/step - loss: 0.2571 - accuracy: 0.9082\n",
      "Epoch 3/20\n",
      "25000/25000 [==============================] - 2s 70us/step - loss: 0.1938 - accuracy: 0.9312\n",
      "Epoch 4/20\n",
      "25000/25000 [==============================] - 2s 70us/step - loss: 0.1637 - accuracy: 0.9408\n",
      "Epoch 5/20\n",
      "25000/25000 [==============================] - 2s 70us/step - loss: 0.1381 - accuracy: 0.9507\n",
      "Epoch 6/20\n",
      "25000/25000 [==============================] - 2s 70us/step - loss: 0.1166 - accuracy: 0.9599\n",
      "Epoch 7/20\n",
      "25000/25000 [==============================] - 2s 71us/step - loss: 0.1029 - accuracy: 0.9652\n",
      "Epoch 8/20\n",
      "25000/25000 [==============================] - 2s 71us/step - loss: 0.0848 - accuracy: 0.9725\n",
      "Epoch 9/20\n",
      "25000/25000 [==============================] - 2s 70us/step - loss: 0.0700 - accuracy: 0.9784\n",
      "Epoch 10/20\n",
      "25000/25000 [==============================] - 2s 71us/step - loss: 0.0587 - accuracy: 0.9816\n",
      "Epoch 11/20\n",
      "25000/25000 [==============================] - 2s 70us/step - loss: 0.0492 - accuracy: 0.9848\n",
      "Epoch 12/20\n",
      "25000/25000 [==============================] - 2s 70us/step - loss: 0.0373 - accuracy: 0.9897\n",
      "Epoch 13/20\n",
      "25000/25000 [==============================] - 2s 70us/step - loss: 0.0315 - accuracy: 0.9910\n",
      "Epoch 14/20\n",
      "25000/25000 [==============================] - 2s 70us/step - loss: 0.0240 - accuracy: 0.9933\n",
      "Epoch 15/20\n",
      "25000/25000 [==============================] - 2s 70us/step - loss: 0.0193 - accuracy: 0.9947\n",
      "Epoch 16/20\n",
      "25000/25000 [==============================] - 2s 70us/step - loss: 0.0195 - accuracy: 0.9946\n",
      "Epoch 17/20\n",
      "25000/25000 [==============================] - 2s 71us/step - loss: 0.0138 - accuracy: 0.9957\n",
      "Epoch 18/20\n",
      "25000/25000 [==============================] - 2s 71us/step - loss: 0.0131 - accuracy: 0.9964\n",
      "Epoch 19/20\n",
      "25000/25000 [==============================] - 2s 72us/step - loss: 0.0124 - accuracy: 0.9967\n",
      "Epoch 20/20\n",
      "25000/25000 [==============================] - 2s 71us/step - loss: 0.0021 - accuracy: 0.9999\n",
      "25000/25000 [==============================] - 3s 100us/step\n"
     ]
    },
    {
     "data": {
      "text/plain": [
       "[0.904493507720232, 0.8524399995803833]"
      ]
     },
     "execution_count": 12,
     "metadata": {},
     "output_type": "execute_result"
    }
   ],
   "source": [
    "#//****************************************\n",
    "#//*** Suggestion: use Three Hidden Layers\n",
    "#//****************************************\n",
    "model_shape = (10000,)\n",
    "layers = 4\n",
    "hidden_units = 16\n",
    "first_activation = \"relu\"\n",
    "final_activation = \"sigmoid\"\n",
    "optimizer = \"rmsprop\"\n",
    "loss = 'binary_crossentropy'\n",
    "model = build_binary_output_model(\n",
    "    shape=model_shape,\n",
    "    layers=layers, \n",
    "    hidden_units = hidden_units,\n",
    "    first_activation = first_activation,\n",
    "    final_activation=final_activation, \n",
    "    optimizer=optimizer,\n",
    "    loss=loss,metrics=['accuracy']  \n",
    ")\n",
    "\n",
    "model.fit(x_train, y_train, epochs=20, batch_size=512)\n",
    "results = model.evaluate(x_test, y_test)\n",
    "\n",
    "results"
   ]
  },
  {
   "cell_type": "code",
   "execution_count": 13,
   "metadata": {},
   "outputs": [
    {
     "name": "stdout",
     "output_type": "stream",
     "text": [
      "Epoch 1/20\n",
      "25000/25000 [==============================] - 2s 74us/step - loss: 0.4372 - accuracy: 0.8187\n",
      "Epoch 2/20\n",
      "25000/25000 [==============================] - 2s 72us/step - loss: 0.2454 - accuracy: 0.9107\n",
      "Epoch 3/20\n",
      "25000/25000 [==============================] - 2s 71us/step - loss: 0.1895 - accuracy: 0.9308\n",
      "Epoch 4/20\n",
      "25000/25000 [==============================] - 2s 71us/step - loss: 0.1567 - accuracy: 0.9434\n",
      "Epoch 5/20\n",
      "25000/25000 [==============================] - 2s 72us/step - loss: 0.1382 - accuracy: 0.9496\n",
      "Epoch 6/20\n",
      "25000/25000 [==============================] - 2s 71us/step - loss: 0.1186 - accuracy: 0.9571\n",
      "Epoch 7/20\n",
      "25000/25000 [==============================] - 2s 71us/step - loss: 0.0982 - accuracy: 0.9656\n",
      "Epoch 8/20\n",
      "25000/25000 [==============================] - 2s 71us/step - loss: 0.0906 - accuracy: 0.9670\n",
      "Epoch 9/20\n",
      "25000/25000 [==============================] - 2s 71us/step - loss: 0.0756 - accuracy: 0.9738\n",
      "Epoch 10/20\n",
      "25000/25000 [==============================] - 2s 71us/step - loss: 0.0646 - accuracy: 0.9781\n",
      "Epoch 11/20\n",
      "25000/25000 [==============================] - 2s 71us/step - loss: 0.0543 - accuracy: 0.9830\n",
      "Epoch 12/20\n",
      "25000/25000 [==============================] - 2s 71us/step - loss: 0.0482 - accuracy: 0.9842\n",
      "Epoch 13/20\n",
      "25000/25000 [==============================] - 2s 71us/step - loss: 0.0372 - accuracy: 0.9880\n",
      "Epoch 14/20\n",
      "25000/25000 [==============================] - 2s 72us/step - loss: 0.0317 - accuracy: 0.9898\n",
      "Epoch 15/20\n",
      "25000/25000 [==============================] - 2s 71us/step - loss: 0.0239 - accuracy: 0.9930\n",
      "Epoch 16/20\n",
      "25000/25000 [==============================] - 2s 71us/step - loss: 0.0228 - accuracy: 0.9933\n",
      "Epoch 17/20\n",
      "25000/25000 [==============================] - 2s 71us/step - loss: 0.0195 - accuracy: 0.9944\n",
      "Epoch 18/20\n",
      "25000/25000 [==============================] - 2s 71us/step - loss: 0.0142 - accuracy: 0.9963\n",
      "Epoch 19/20\n",
      "25000/25000 [==============================] - 2s 71us/step - loss: 0.0157 - accuracy: 0.9962\n",
      "Epoch 20/20\n",
      "25000/25000 [==============================] - 2s 71us/step - loss: 0.0140 - accuracy: 0.9960\n",
      "25000/25000 [==============================] - 2s 99us/step\n"
     ]
    },
    {
     "data": {
      "text/plain": [
       "[0.9630567930829524, 0.8492400050163269]"
      ]
     },
     "execution_count": 13,
     "metadata": {},
     "output_type": "execute_result"
    }
   ],
   "source": [
    "#//****************************************\n",
    "#//*** Suggestion: use 32 Hidden Units\n",
    "#//****************************************\n",
    "model_shape = (10000,)\n",
    "layers = 3\n",
    "hidden_units = 32\n",
    "first_activation = \"relu\"\n",
    "final_activation = \"sigmoid\"\n",
    "optimizer = \"rmsprop\"\n",
    "loss = 'binary_crossentropy'\n",
    "model = build_binary_output_model(\n",
    "    shape=model_shape,\n",
    "    layers=layers, \n",
    "    hidden_units = hidden_units,\n",
    "    first_activation = first_activation,\n",
    "    final_activation=final_activation, \n",
    "    optimizer=optimizer,\n",
    "    loss=loss,metrics=['accuracy']  \n",
    ")\n",
    "\n",
    "model.fit(x_train, y_train, epochs=20, batch_size=512)\n",
    "results = model.evaluate(x_test, y_test)\n",
    "\n",
    "results"
   ]
  },
  {
   "cell_type": "code",
   "execution_count": 14,
   "metadata": {},
   "outputs": [
    {
     "name": "stdout",
     "output_type": "stream",
     "text": [
      "Epoch 1/5\n",
      "25000/25000 [==============================] - 2s 76us/step - loss: 0.4062 - accuracy: 0.8296\n",
      "Epoch 2/5\n",
      "25000/25000 [==============================] - 2s 73us/step - loss: 0.2327 - accuracy: 0.9105\n",
      "Epoch 3/5\n",
      "25000/25000 [==============================] - 2s 73us/step - loss: 0.1814 - accuracy: 0.9320\n",
      "Epoch 4/5\n",
      "25000/25000 [==============================] - 2s 73us/step - loss: 0.1433 - accuracy: 0.9466\n",
      "Epoch 5/5\n",
      "25000/25000 [==============================] - 2s 73us/step - loss: 0.1113 - accuracy: 0.9587\n",
      "25000/25000 [==============================] - 3s 101us/step\n"
     ]
    },
    {
     "data": {
      "text/plain": [
       "[0.3624061553812027, 0.8736799955368042]"
      ]
     },
     "execution_count": 14,
     "metadata": {},
     "output_type": "execute_result"
    }
   ],
   "source": [
    "#//****************************************\n",
    "#//*** Suggestion: use 64 Hidden Units\n",
    "#//****************************************\n",
    "model_shape = (10000,)\n",
    "layers = 3\n",
    "hidden_units = 64\n",
    "first_activation = \"relu\"\n",
    "final_activation = \"sigmoid\"\n",
    "optimizer = \"rmsprop\"\n",
    "loss = 'binary_crossentropy'\n",
    "model = build_binary_output_model(\n",
    "    shape=model_shape,\n",
    "    layers=layers, \n",
    "    hidden_units = hidden_units,\n",
    "    first_activation = first_activation,\n",
    "    final_activation=final_activation, \n",
    "    optimizer=optimizer,\n",
    "    loss=loss,metrics=['accuracy']  \n",
    ")\n",
    "\n",
    "model.fit(x_train, y_train, epochs=5, batch_size=512)\n",
    "results = model.evaluate(x_test, y_test)\n",
    "\n",
    "results"
   ]
  },
  {
   "cell_type": "code",
   "execution_count": 15,
   "metadata": {},
   "outputs": [
    {
     "name": "stdout",
     "output_type": "stream",
     "text": [
      "Epoch 1/5\n",
      "25000/25000 [==============================] - 2s 73us/step - loss: 0.4265 - accuracy: 0.8335\n",
      "Epoch 2/5\n",
      "25000/25000 [==============================] - 2s 70us/step - loss: 0.2351 - accuracy: 0.9137\n",
      "Epoch 3/5\n",
      "25000/25000 [==============================] - 2s 71us/step - loss: 0.1782 - accuracy: 0.9334\n",
      "Epoch 4/5\n",
      "25000/25000 [==============================] - 2s 71us/step - loss: 0.1483 - accuracy: 0.9466\n",
      "Epoch 5/5\n",
      "25000/25000 [==============================] - 2s 71us/step - loss: 0.1260 - accuracy: 0.9558\n",
      "25000/25000 [==============================] - 2s 100us/step\n"
     ]
    },
    {
     "data": {
      "text/plain": [
       "[0.37048709134817126, 0.8697999715805054]"
      ]
     },
     "execution_count": 15,
     "metadata": {},
     "output_type": "execute_result"
    }
   ],
   "source": [
    "#//****************************************\n",
    "#//*** Suggestion: use tanh activation\n",
    "#//****************************************\n",
    "model_shape = (10000,)\n",
    "layers = 3\n",
    "hidden_units = 16\n",
    "first_activation = \"tanh\"\n",
    "final_activation = \"sigmoid\"\n",
    "optimizer = \"rmsprop\"\n",
    "loss = 'binary_crossentropy'\n",
    "model = build_binary_output_model(\n",
    "    shape=model_shape,\n",
    "    layers=layers, \n",
    "    hidden_units = hidden_units,\n",
    "    first_activation = first_activation,\n",
    "    final_activation=final_activation, \n",
    "    optimizer=optimizer,\n",
    "    loss=loss,metrics=['accuracy']  \n",
    ")\n",
    "\n",
    "model.fit(x_train, y_train, epochs=5, batch_size=512)\n",
    "results = model.evaluate(x_test, y_test)\n",
    "\n",
    "results"
   ]
  },
  {
   "cell_type": "code",
   "execution_count": 16,
   "metadata": {},
   "outputs": [
    {
     "name": "stdout",
     "output_type": "stream",
     "text": [
      "Epoch 1/5\n",
      "25000/25000 [==============================] - 2s 73us/step - loss: 0.1425 - accuracy: 0.8243\n",
      "Epoch 2/5\n",
      "25000/25000 [==============================] - 2s 71us/step - loss: 0.0765 - accuracy: 0.9115\n",
      "Epoch 3/5\n",
      "25000/25000 [==============================] - 2s 71us/step - loss: 0.0577 - accuracy: 0.9314\n",
      "Epoch 4/5\n",
      "25000/25000 [==============================] - 2s 71us/step - loss: 0.0467 - accuracy: 0.9453\n",
      "Epoch 5/5\n",
      "25000/25000 [==============================] - 2s 71us/step - loss: 0.0396 - accuracy: 0.9538\n",
      "25000/25000 [==============================] - 3s 101us/step\n"
     ]
    },
    {
     "data": {
      "text/plain": [
       "[0.09036892065763473, 0.8791999816894531]"
      ]
     },
     "execution_count": 16,
     "metadata": {},
     "output_type": "execute_result"
    }
   ],
   "source": [
    "#//****************************************\n",
    "#//*** Suggestion: use MSE loss\n",
    "#//****************************************\n",
    "model_shape = (10000,)\n",
    "layers = 3\n",
    "hidden_units = 16\n",
    "first_activation = \"relu\"\n",
    "final_activation = \"sigmoid\"\n",
    "optimizer = \"rmsprop\"\n",
    "loss = 'mse'\n",
    "model = build_binary_output_model(\n",
    "    shape=model_shape,\n",
    "    layers=layers, \n",
    "    hidden_units = hidden_units,\n",
    "    first_activation = first_activation,\n",
    "    final_activation=final_activation, \n",
    "    optimizer=optimizer,\n",
    "    loss=loss,metrics=['accuracy']  \n",
    ")\n",
    "\n",
    "model.fit(x_train, y_train, epochs=5, batch_size=512)\n",
    "results = model.evaluate(x_test, y_test)\n",
    "\n",
    "results"
   ]
  },
  {
   "cell_type": "code",
   "execution_count": null,
   "metadata": {},
   "outputs": [],
   "source": []
  }
 ],
 "metadata": {
  "kernelspec": {
   "display_name": "Python 3",
   "language": "python",
   "name": "python3"
  },
  "language_info": {
   "codemirror_mode": {
    "name": "ipython",
    "version": 3
   },
   "file_extension": ".py",
   "mimetype": "text/x-python",
   "name": "python",
   "nbconvert_exporter": "python",
   "pygments_lexer": "ipython3",
   "version": "3.6.13"
  }
 },
 "nbformat": 4,
 "nbformat_minor": 4
}
