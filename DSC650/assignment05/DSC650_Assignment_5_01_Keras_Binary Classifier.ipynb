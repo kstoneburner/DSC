{
 "cells": [
  {
   "cell_type": "markdown",
   "metadata": {},
   "source": [
    "# Stoneburner, Kurt\n",
    "- ## DSC 650 - Tensorflow Keras Binary Classifier Example"
   ]
  },
  {
   "cell_type": "code",
   "execution_count": 1,
   "metadata": {},
   "outputs": [
    {
     "data": {
      "text/html": [
       "<style>.container { width:100% !important; }</style>"
      ],
      "text/plain": [
       "<IPython.core.display.HTML object>"
      ]
     },
     "metadata": {},
     "output_type": "display_data"
    }
   ],
   "source": [
    "import os\n",
    "import sys\n",
    "# //*** Imports and Load Data\n",
    "import matplotlib.pyplot as plt\n",
    "import numpy as np\n",
    "import pandas as pd\n",
    "from tensorflow.keras.datasets import imdb\n",
    "from tensorflow.keras import models\n",
    "from tensorflow.keras import layers\n",
    "from tensorflow.keras import optimizers\n",
    "\n",
    "\n",
    "#//*** Use the whole window in the IPYNB editor\n",
    "from IPython.core.display import display, HTML\n",
    "display(HTML(\"<style>.container { width:100% !important; }</style>\"))\n",
    "\n",
    "#//*** Maximize columns and rows displayed by pandas\n",
    "pd.set_option('display.max_rows', 100)\n",
    "pd.set_option('display.max_columns', None)"
   ]
  },
  {
   "cell_type": "code",
   "execution_count": 2,
   "metadata": {},
   "outputs": [],
   "source": [
    "from os import environ\n",
    "\n",
    "environ[\"KERAS_BACKEND\"] = \"plaidml.keras.backend\"\n",
    "\n",
    "import tensorflow.keras"
   ]
  },
  {
   "cell_type": "code",
   "execution_count": 3,
   "metadata": {},
   "outputs": [
    {
     "name": "stderr",
     "output_type": "stream",
     "text": [
      "<__array_function__ internals>:5: VisibleDeprecationWarning: Creating an ndarray from ragged nested sequences (which is a list-or-tuple of lists-or-tuples-or ndarrays with different lengths or shapes) is deprecated. If you meant to do this, you must specify 'dtype=object' when creating the ndarray.\n",
      "C:\\Users\\stonk013\\Anaconda3\\envs\\keras_env\\lib\\site-packages\\tensorflow\\python\\keras\\datasets\\imdb.py:159: VisibleDeprecationWarning: Creating an ndarray from ragged nested sequences (which is a list-or-tuple of lists-or-tuples-or ndarrays with different lengths or shapes) is deprecated. If you meant to do this, you must specify 'dtype=object' when creating the ndarray.\n",
      "  x_train, y_train = np.array(xs[:idx]), np.array(labels[:idx])\n",
      "C:\\Users\\stonk013\\Anaconda3\\envs\\keras_env\\lib\\site-packages\\tensorflow\\python\\keras\\datasets\\imdb.py:160: VisibleDeprecationWarning: Creating an ndarray from ragged nested sequences (which is a list-or-tuple of lists-or-tuples-or ndarrays with different lengths or shapes) is deprecated. If you meant to do this, you must specify 'dtype=object' when creating the ndarray.\n",
      "  x_test, y_test = np.array(xs[idx:]), np.array(labels[idx:])\n"
     ]
    }
   ],
   "source": [
    "#//*** Download Data and Load arrays\n",
    "(train_data, train_labels), (test_data,test_labels) = imdb.load_data(num_words=10000)"
   ]
  },
  {
   "cell_type": "code",
   "execution_count": null,
   "metadata": {},
   "outputs": [],
   "source": []
  },
  {
   "cell_type": "code",
   "execution_count": 4,
   "metadata": {},
   "outputs": [],
   "source": [
    "\n",
    "#//*** Word_index is dictionary mapping words to an integer index\n",
    "word_index = imdb.get_word_index()\n",
    "\n",
    "#//*** Maps indexes to words\n",
    "reverse_word_index = dict(\n",
    "    [(value, key) for (key, value) in word_index.items()])\n",
    "\n",
    "#//*** Decodes the Review\n",
    "decoded_review = ' '.join(\n",
    "    [reverse_word_index.get(i - 3, '?') for i in train_data[0]] )"
   ]
  },
  {
   "cell_type": "code",
   "execution_count": null,
   "metadata": {},
   "outputs": [],
   "source": []
  },
  {
   "cell_type": "markdown",
   "metadata": {},
   "source": [
    "You can’t feed lists of integers into a neural network. You have to turn your lists intotensors. There are two ways to do that:\n",
    " - Pad your lists so that they all have the same length, turn them into an integertensor  of  shape  (samples,word_indices),  and  then  use  as  the  first  layer  inyour network a layer capable of handling such integer tensors (the Embeddinglayer, which we’ll cover in detail later in the book).\n",
    " \n",
    " \n",
    " - **(Example Below: vectorize_sequences)** One-hot  encode  your  lists  to  turn  them  into  vectors  of  0s  and  1s.  This  would mean, for instance, turning the sequence [3, 5] into a 10,000-dimensional vec-tor that would be all 0s except for indices 3 and 5, which would be 1s. Then you could use as the first layer in your network a Dense layer, capable of handling floating-point vector data."
   ]
  },
  {
   "cell_type": "code",
   "execution_count": 5,
   "metadata": {},
   "outputs": [],
   "source": [
    "#//*** Lists of integers must be converted into tensors.\n",
    "def vectorize_sequences(sequences, dimension=10000):\n",
    "    #//*** Builds zero filled matrix of shape dimension\n",
    "    results = np.zeros((len(sequences), dimension))\n",
    "    \n",
    "    #//*** Assigns 1s to the specific integer for references.\n",
    "    #//*** This is manual one-hot encoding\n",
    "    for i, sequence in enumerate(sequences):\n",
    "        \n",
    "         for j in sequence:   \n",
    "            results[i, j] = 1.\n",
    "                \n",
    "    return results\n",
    "    \n",
    "#//*** Download Data and Load arrays\n",
    "(train_data, train_labels), (test_data,test_labels) = imdb.load_data(num_words=10000)    \n",
    "    \n",
    "#//*** Vectorize the Training and Test data\n",
    "x_train = vectorize_sequences(train_data)\n",
    "x_test = vectorize_sequences(test_data)\n",
    "\n",
    "#//*** Vectorize the Training and Test Labels\n",
    "y_train = np.asarray(train_labels).astype('float32')\n",
    "y_test = np.asarray(test_labels).astype('float32')"
   ]
  },
  {
   "cell_type": "markdown",
   "metadata": {},
   "source": [
    "## Build the Network ##\n",
    "The input data is vectors, and the labels are scalars (1s and 0s): this is the easiest setup you’ll  ever  encounter.  A  type  of  network  that  performs  well  on  such  a  problem  is a simple  stack  of  fully  connected  (Dense)  layers  with  relu  activations:  *Dense(16,activation='relu')*.  \n",
    "\n",
    "The argument  being  passed  to  each  Dense layer (16) is the number of hidden units of the layer. A hidden unit is a dimension in the representation space of the layer. Each such Dense layer with a relu activation implements the following chain of tensor operations: \n",
    "\n",
    "**output = relu(dot(W, input) + b)** \n",
    "\n",
    "Having 16 hidden units means the weight matrix W will have shape (input_dimension,16): the dot product with W will project the input data onto a 16-dimensional representation space (and then you’ll add the bias vector b and apply the relu operation). \n",
    "\n",
    "You can  intuitively understand the dimensionality of your representation space as  “how much freedom you’re allowing the network to have when learning internal representations.” *Having more hidden units (a  higher-dimensional representation  space) allows your network to learn more-complex representations, but it makes the network more  computationally  expensive and may lead to learning unwanted patterns (patterns that will improve performance on the training data but not on the test data).*\n",
    "\n",
    "There are two key architecture decisions to be made about such a stack of Dense layers: \n",
    "- How many layers to use\n",
    "- How many hidden units to choose for each layer\n",
    "\n",
    "For the time being go with the following architecture choice: \n",
    "- Two intermediate layers with 16 hidden units each \n",
    "- A third layer that will output the scalar prediction regarding the sentiment ofthe current review\n",
    "\n",
    "The intermediate layers will use *relu* as their activation function, and the final layer will use a sigmoid activation so as to output a probability (a score between 0 and 1, indicating how likely the sample is to have the target “1”: how likely the review is to be positive). A *relu* (rectified linear unit) is a function meant to zero out negative values, whereas a sigmoid “squashes” arbitrary values into the [0, 1] interval, outputting something that can be interpreted as a probability"
   ]
  },
  {
   "cell_type": "code",
   "execution_count": 6,
   "metadata": {},
   "outputs": [
    {
     "name": "stdout",
     "output_type": "stream",
     "text": [
      "Epoch 1/20\n",
      "30/30 [==============================] - 1s 22ms/step - loss: 0.5176 - acc: 0.7755 - val_loss: 0.4462 - val_acc: 0.7928\n",
      "Epoch 2/20\n",
      "30/30 [==============================] - 0s 10ms/step - loss: 0.3044 - acc: 0.9021 - val_loss: 0.3056 - val_acc: 0.8882\n",
      "Epoch 3/20\n",
      "30/30 [==============================] - 0s 10ms/step - loss: 0.2242 - acc: 0.9257 - val_loss: 0.2771 - val_acc: 0.8926\n",
      "Epoch 4/20\n",
      "30/30 [==============================] - 0s 11ms/step - loss: 0.1767 - acc: 0.9417 - val_loss: 0.2825 - val_acc: 0.8852\n",
      "Epoch 5/20\n",
      "30/30 [==============================] - 0s 10ms/step - loss: 0.1452 - acc: 0.9531 - val_loss: 0.2785 - val_acc: 0.8908\n",
      "Epoch 6/20\n",
      "30/30 [==============================] - 0s 10ms/step - loss: 0.1202 - acc: 0.9635 - val_loss: 0.2968 - val_acc: 0.8861\n",
      "Epoch 7/20\n",
      "30/30 [==============================] - 0s 10ms/step - loss: 0.1008 - acc: 0.9705 - val_loss: 0.3074 - val_acc: 0.8827\n",
      "Epoch 8/20\n",
      "30/30 [==============================] - 0s 10ms/step - loss: 0.0836 - acc: 0.9768 - val_loss: 0.3281 - val_acc: 0.8821\n",
      "Epoch 9/20\n",
      "30/30 [==============================] - 0s 10ms/step - loss: 0.0714 - acc: 0.9789 - val_loss: 0.3535 - val_acc: 0.8776\n",
      "Epoch 10/20\n",
      "30/30 [==============================] - 0s 10ms/step - loss: 0.0590 - acc: 0.9844 - val_loss: 0.3713 - val_acc: 0.8790\n",
      "Epoch 11/20\n",
      "30/30 [==============================] - 0s 10ms/step - loss: 0.0482 - acc: 0.9883 - val_loss: 0.3954 - val_acc: 0.8757\n",
      "Epoch 12/20\n",
      "30/30 [==============================] - 0s 10ms/step - loss: 0.0441 - acc: 0.9897 - val_loss: 0.4227 - val_acc: 0.8734\n",
      "Epoch 13/20\n",
      "30/30 [==============================] - 0s 10ms/step - loss: 0.0341 - acc: 0.9930 - val_loss: 0.4499 - val_acc: 0.8718\n",
      "Epoch 14/20\n",
      "30/30 [==============================] - 0s 10ms/step - loss: 0.0244 - acc: 0.9963 - val_loss: 0.5105 - val_acc: 0.8634\n",
      "Epoch 15/20\n",
      "30/30 [==============================] - 0s 11ms/step - loss: 0.0233 - acc: 0.9956 - val_loss: 0.5066 - val_acc: 0.8693\n",
      "Epoch 16/20\n",
      "30/30 [==============================] - 0s 10ms/step - loss: 0.0155 - acc: 0.9984 - val_loss: 0.5628 - val_acc: 0.8631\n",
      "Epoch 17/20\n",
      "30/30 [==============================] - 0s 10ms/step - loss: 0.0145 - acc: 0.9983 - val_loss: 0.5830 - val_acc: 0.8660\n",
      "Epoch 18/20\n",
      "30/30 [==============================] - 0s 10ms/step - loss: 0.0138 - acc: 0.9971 - val_loss: 0.6116 - val_acc: 0.8660\n",
      "Epoch 19/20\n",
      "30/30 [==============================] - 0s 11ms/step - loss: 0.0064 - acc: 0.9996 - val_loss: 0.6432 - val_acc: 0.8650\n",
      "Epoch 20/20\n",
      "30/30 [==============================] - 0s 10ms/step - loss: 0.0089 - acc: 0.9985 - val_loss: 0.6731 - val_acc: 0.8653\n"
     ]
    }
   ],
   "source": [
    "\n",
    "model = models.Sequential()\n",
    "model.add(layers.Dense(16, activation='relu', input_shape=(10000,)))\n",
    "model.add(layers.Dense(16, activation='relu'))\n",
    "model.add(layers.Dense(1, activation='sigmoid'))\n",
    "\n",
    "#//*** Compile the Model\n",
    "\n",
    "\n",
    "\n",
    "model.compile(\n",
    "    optimizer=optimizers.RMSprop(lr=0.001),\n",
    "    loss='binary_crossentropy',\n",
    "    metrics=['accuracy']\n",
    ")\n",
    "\n",
    "#//*** Configure the Optimizer\n",
    "#model.compile(\n",
    "#    optimizer=optimizers.RMSprop(lr=0.001),\n",
    "#    loss=losses.binary_crossentropy,\n",
    "#    metrics=[metrics.binary_accuracy]\n",
    "#)\n",
    "\n",
    "\n",
    "#//*** Use Custom Losses and Metrics\n",
    "from tensorflow.keras import losses\n",
    "from tensorflow.keras import metrics\n",
    "\n",
    "#//*** Set Aside a Validation Set\n",
    "x_val = x_train[:10000]\n",
    "partial_x_train = x_train[10000:]\n",
    "\n",
    "y_val = y_train[:10000]\n",
    "partial_y_train = y_train[10000:]\n",
    "\n",
    "#//*** Train Model\n",
    "model.compile(\n",
    "    optimizer='rmsprop',\n",
    "    loss='binary_crossentropy',\n",
    "    metrics=['acc']\n",
    ")\n",
    "\n",
    "history = model.fit(\n",
    "    partial_x_train,\n",
    "    partial_y_train,\n",
    "    epochs=20,\n",
    "    batch_size=512,\n",
    "    validation_data=(x_val, y_val))"
   ]
  },
  {
   "cell_type": "code",
   "execution_count": 12,
   "metadata": {},
   "outputs": [
    {
     "data": {
      "image/png": "[encoded data removed]",
      "text/plain": [
       "<Figure size 432x288 with 1 Axes>"
      ]
     },
     "metadata": {
      "needs_background": "light"
     },
     "output_type": "display_data"
    }
   ],
   "source": [
    "#//*** Plotting the training and validation loss\n",
    "history_dict = history.history\n",
    "loss_values = history_dict['loss']\n",
    "val_loss_values = history_dict['val_loss']\n",
    "acc = history_dict['acc']\n",
    "epochs = range(1, len(acc) + 1)\n",
    "plt.plot(epochs, loss_values, 'bo', label='Training loss')\n",
    "plt.plot(epochs, val_loss_values, 'b', label='Validation loss')\n",
    "plt.title('Training and validation loss')\n",
    "plt.xlabel('Epochs')\n",
    "plt.ylabel('Loss')\n",
    "plt.legend()\n",
    "plt.show()\n"
   ]
  },
  {
   "cell_type": "code",
   "execution_count": null,
   "metadata": {},
   "outputs": [],
   "source": []
  },
  {
   "cell_type": "code",
   "execution_count": 13,
   "metadata": {},
   "outputs": [
    {
     "data": {
      "image/png": "[encoded data removed]",
      "text/plain": [
       "<Figure size 432x288 with 1 Axes>"
      ]
     },
     "metadata": {
      "needs_background": "light"
     },
     "output_type": "display_data"
    }
   ],
   "source": [
    "plt.clf()\n",
    "acc_values = history_dict['acc']\n",
    "val_acc_values = history_dict['val_acc']\n",
    "plt.plot(epochs, acc_values, 'bo', label='Training acc')\n",
    "plt.plot(epochs, val_acc_values, 'b', label='Validation acc')\n",
    "plt.title('Training and validation accuracy')\n",
    "plt.xlabel('Epochs')\n",
    "plt.ylabel('Loss')\n",
    "plt.legend()\n",
    "plt.show()"
   ]
  },
  {
   "cell_type": "code",
   "execution_count": 14,
   "metadata": {},
   "outputs": [
    {
     "name": "stdout",
     "output_type": "stream",
     "text": [
      "Epoch 1/20\n",
      "49/49 [==============================] - 3s 15ms/step - loss: 0.4363 - accuracy: 0.8263\n",
      "Epoch 2/20\n",
      "49/49 [==============================] - 1s 10ms/step - loss: 0.2505 - accuracy: 0.9109\n",
      "Epoch 3/20\n",
      "49/49 [==============================] - 1s 11ms/step - loss: 0.1930 - accuracy: 0.9325\n",
      "Epoch 4/20\n",
      "49/49 [==============================] - 1s 12ms/step - loss: 0.1635 - accuracy: 0.9431\n",
      "Epoch 5/20\n",
      "49/49 [==============================] - 0s 9ms/step - loss: 0.1384 - accuracy: 0.9535\n",
      "Epoch 6/20\n",
      "49/49 [==============================] - 1s 11ms/step - loss: 0.1228 - accuracy: 0.9582 0s - loss: 0.1166 - ac\n",
      "Epoch 7/20\n",
      "49/49 [==============================] - 0s 9ms/step - loss: 0.1100 - accuracy: 0.9635\n",
      "Epoch 8/20\n",
      "49/49 [==============================] - 0s 9ms/step - loss: 0.0953 - accuracy: 0.9691\n",
      "Epoch 9/20\n",
      "49/49 [==============================] - 0s 9ms/step - loss: 0.0816 - accuracy: 0.9749\n",
      "Epoch 10/20\n",
      "49/49 [==============================] - 0s 8ms/step - loss: 0.0747 - accuracy: 0.9764\n",
      "Epoch 11/20\n",
      "49/49 [==============================] - 0s 8ms/step - loss: 0.0626 - accuracy: 0.9814\n",
      "Epoch 12/20\n",
      "49/49 [==============================] - 0s 8ms/step - loss: 0.0569 - accuracy: 0.9824\n",
      "Epoch 13/20\n",
      "49/49 [==============================] - 0s 9ms/step - loss: 0.0506 - accuracy: 0.9847\n",
      "Epoch 14/20\n",
      "49/49 [==============================] - 1s 11ms/step - loss: 0.0391 - accuracy: 0.9899\n",
      "Epoch 15/20\n",
      "49/49 [==============================] - 0s 9ms/step - loss: 0.0352 - accuracy: 0.9905\n",
      "Epoch 16/20\n",
      "49/49 [==============================] - 0s 9ms/step - loss: 0.0301 - accuracy: 0.9920\n",
      "Epoch 17/20\n",
      "49/49 [==============================] - 0s 8ms/step - loss: 0.0285 - accuracy: 0.9916\n",
      "Epoch 18/20\n",
      "49/49 [==============================] - 1s 10ms/step - loss: 0.0222 - accuracy: 0.9945\n",
      "Epoch 19/20\n",
      "49/49 [==============================] - 0s 9ms/step - loss: 0.0166 - accuracy: 0.9964\n",
      "Epoch 20/20\n",
      "49/49 [==============================] - 0s 8ms/step - loss: 0.0139 - accuracy: 0.9975\n",
      "782/782 [==============================] - 29s 37ms/step - loss: 0.7695 - accuracy: 0.8504\n"
     ]
    },
    {
     "data": {
      "text/plain": [
       "[0.7695156931877136, 0.8503599762916565]"
      ]
     },
     "execution_count": 14,
     "metadata": {},
     "output_type": "execute_result"
    }
   ],
   "source": [
    "#//*** retraining a model from scratch\n",
    "#//*** Previous Results didn't go well. Book suggests Overfitting, But it doesn't look like the \n",
    "#//*** Accuracy and Validation values worked well. \n",
    "\n",
    "model = models.Sequential()\n",
    "model.add(layers.Dense(16, activation='relu', input_shape=(10000,)))\n",
    "model.add(layers.Dense(16, activation='relu'))\n",
    "model.add(layers.Dense(1, activation='sigmoid'))\n",
    "model.compile(optimizer='rmsprop',loss='binary_crossentropy',metrics=['accuracy'])\n",
    "model.fit(x_train, y_train, epochs=20, batch_size=512)\n",
    "results = model.evaluate(x_test, y_test)\n",
    "\n",
    "results"
   ]
  },
  {
   "cell_type": "code",
   "execution_count": 17,
   "metadata": {},
   "outputs": [],
   "source": [
    "def build_binary_output_model(**kwargs):\n",
    "    #//*** Define the Model\n",
    "    from tensorflow.keras import models\n",
    "    from tensorflow.keras import layers\n",
    "    from tensorflow.keras import optimizers\n",
    "    \n",
    "    \n",
    "    #//*****************************\n",
    "    #//*** Set Default values\n",
    "    #//*****************************\n",
    "    total_layers = 2\n",
    "    hidden_units = 16\n",
    "    first_activation = \"relu\"\n",
    "    final_activation='sigmoid'\n",
    "    optimizer='rmsprop'  \n",
    "    loss = 'mse'\n",
    "    metrics=['accuracy']\n",
    "    shape = (0,0)\n",
    "    do_compile = True\n",
    "    \n",
    "    #//*** Apply Kwargs\n",
    "    for key,value in kwargs.items():\n",
    "        \n",
    "        if key == 'layers':\n",
    "            total_layers=value\n",
    "\n",
    "        if key == 'hidden_units':\n",
    "            hidden_units=value\n",
    "        \n",
    "        if key == 'loss':\n",
    "            loss=value\n",
    "        \n",
    "        if key == 'first_activation':\n",
    "            first_activation=value\n",
    "    \n",
    "        if key == 'final_activation':\n",
    "            final_activation=value\n",
    "    \n",
    "        if key == 'optimizer':\n",
    "            optimizer=value\n",
    "    \n",
    "        if key == 'metrics':\n",
    "            metrics=value\n",
    "            \n",
    "        if key == 'shape':\n",
    "            shape = value\n",
    "\n",
    "        if key == 'compile':\n",
    "            do_compile = value\n",
    "\n",
    "    model = models.Sequential()\n",
    "    \n",
    "    \n",
    "    #//*** Add First Layer\n",
    "    model.add(layers.Dense(hidden_units, activation=first_activation, input_shape=shape ))\n",
    "    \n",
    "    \n",
    "    #//*** Add Additional Layers if total_layers greater than 2\n",
    "    for x in range(total_layers-2):\n",
    "        \n",
    "        #//*** These are basic layers with same number of hidden units and using first_activation\n",
    "        model.add(layers.Dense(hidden_units, activation=first_activation))\n",
    "    \n",
    "    \n",
    "    \n",
    "    #//*** Add Final Layer\n",
    "    model.add(layers.Dense(1, activation=final_activation))\n",
    "    \n",
    "    #//*** Compile Model\n",
    "    if do_compile:\n",
    "        \n",
    "        model.compile(optimizer=optimizer,loss=loss,metrics=metrics)\n",
    "    \n",
    "    return model\n",
    "\n"
   ]
  },
  {
   "cell_type": "code",
   "execution_count": 19,
   "metadata": {},
   "outputs": [
    {
     "name": "stdout",
     "output_type": "stream",
     "text": [
      "Epoch 1/20\n",
      "49/49 [==============================] - 2s 23ms/step - loss: 0.4584 - accuracy: 0.8221\n",
      "Epoch 2/20\n",
      "49/49 [==============================] - 1s 11ms/step - loss: 0.2575 - accuracy: 0.9127\n",
      "Epoch 3/20\n",
      "49/49 [==============================] - 1s 12ms/step - loss: 0.2012 - accuracy: 0.9289\n",
      "Epoch 4/20\n",
      "49/49 [==============================] - 1s 12ms/step - loss: 0.1671 - accuracy: 0.9422\n",
      "Epoch 5/20\n",
      "49/49 [==============================] - 1s 11ms/step - loss: 0.1470 - accuracy: 0.9476\n",
      "Epoch 6/20\n",
      "49/49 [==============================] - 1s 11ms/step - loss: 0.1283 - accuracy: 0.9560\n",
      "Epoch 7/20\n",
      "49/49 [==============================] - 1s 11ms/step - loss: 0.1127 - accuracy: 0.9611\n",
      "Epoch 8/20\n",
      "49/49 [==============================] - 0s 10ms/step - loss: 0.1001 - accuracy: 0.9661\n",
      "Epoch 9/20\n",
      "49/49 [==============================] - 0s 10ms/step - loss: 0.0855 - accuracy: 0.9720\n",
      "Epoch 10/20\n",
      "49/49 [==============================] - 0s 9ms/step - loss: 0.0766 - accuracy: 0.9756\n",
      "Epoch 11/20\n",
      "49/49 [==============================] - 0s 10ms/step - loss: 0.0677 - accuracy: 0.9780\n",
      "Epoch 12/20\n",
      "49/49 [==============================] - 0s 10ms/step - loss: 0.0588 - accuracy: 0.9821\n",
      "Epoch 13/20\n",
      "49/49 [==============================] - 0s 9ms/step - loss: 0.0517 - accuracy: 0.9849\n",
      "Epoch 14/20\n",
      "49/49 [==============================] - 0s 8ms/step - loss: 0.0423 - accuracy: 0.9883\n",
      "Epoch 15/20\n",
      "49/49 [==============================] - 0s 8ms/step - loss: 0.0348 - accuracy: 0.9913\n",
      "Epoch 16/20\n",
      "49/49 [==============================] - 0s 10ms/step - loss: 0.0330 - accuracy: 0.9902\n",
      "Epoch 17/20\n",
      "49/49 [==============================] - 0s 9ms/step - loss: 0.0239 - accuracy: 0.9938\n",
      "Epoch 18/20\n",
      "49/49 [==============================] - 1s 11ms/step - loss: 0.0209 - accuracy: 0.9946\n",
      "Epoch 19/20\n",
      "49/49 [==============================] - 1s 11ms/step - loss: 0.0157 - accuracy: 0.9967\n",
      "Epoch 20/20\n",
      "49/49 [==============================] - 0s 10ms/step - loss: 0.0149 - accuracy: 0.9967\n",
      "782/782 [==============================] - 29s 37ms/step - loss: 0.8006 - accuracy: 0.8504\n"
     ]
    },
    {
     "data": {
      "text/plain": [
       "[0.8005822896957397, 0.8503599762916565]"
      ]
     },
     "execution_count": 19,
     "metadata": {},
     "output_type": "execute_result"
    }
   ],
   "source": [
    "#//****************************\n",
    "#//*** Book Supplied Settings\n",
    "#//****************************\n",
    "model_shape = (10000,)\n",
    "layers = 3\n",
    "hidden_units = 16\n",
    "first_activation = \"relu\"\n",
    "final_activation = \"sigmoid\"\n",
    "optimizer = \"rmsprop\"\n",
    "loss = 'binary_crossentropy'\n",
    "model = build_binary_output_model(\n",
    "    shape=model_shape,\n",
    "    layers=layers, \n",
    "    hidden_units = hidden_units,\n",
    "    first_activation = first_activation,\n",
    "    final_activation=final_activation, \n",
    "    optimizer=optimizer,\n",
    "    loss=loss,metrics=['accuracy']  \n",
    ")\n",
    "\n",
    "model.fit(x_train, y_train, epochs=20, batch_size=512)\n",
    "results = model.evaluate(x_test, y_test)\n",
    "\n",
    "results"
   ]
  },
  {
   "cell_type": "markdown",
   "metadata": {},
   "source": [
    "### Further experiments ### \n",
    "The following experiments will help convince you that the architecture choices you’ve made are all fairly reasonable, although there’s still room for improvement:\n",
    " - You used two hidden layers. Try using one or three hidden layers, and see how doing so affects validation and test accuracy.\n",
    " - Try using layers with more hidden units or fewer hidden units: 32 units, 64 units,and so on.\n",
    " - Try using the mse loss function instead of binary_crossentropy.\n",
    " - Try using the tanh activation (an activation that was popular in the early days ofneural networks) instead of relu."
   ]
  },
  {
   "cell_type": "code",
   "execution_count": 20,
   "metadata": {},
   "outputs": [
    {
     "name": "stdout",
     "output_type": "stream",
     "text": [
      "Epoch 1/20\n",
      "49/49 [==============================] - 1s 16ms/step - loss: 0.4495 - accuracy: 0.8324\n",
      "Epoch 2/20\n",
      "49/49 [==============================] - 1s 16ms/step - loss: 0.2785 - accuracy: 0.9081\n",
      "Epoch 3/20\n",
      "49/49 [==============================] - 0s 8ms/step - loss: 0.2204 - accuracy: 0.9239\n",
      "Epoch 4/20\n",
      "49/49 [==============================] - 0s 9ms/step - loss: 0.1874 - accuracy: 0.9370\n",
      "Epoch 5/20\n",
      "49/49 [==============================] - 0s 10ms/step - loss: 0.1650 - accuracy: 0.9436\n",
      "Epoch 6/20\n",
      "49/49 [==============================] - 0s 9ms/step - loss: 0.1493 - accuracy: 0.9503\n",
      "Epoch 7/20\n",
      "49/49 [==============================] - 1s 10ms/step - loss: 0.1349 - accuracy: 0.9552\n",
      "Epoch 8/20\n",
      "49/49 [==============================] - 0s 10ms/step - loss: 0.1243 - accuracy: 0.9589\n",
      "Epoch 9/20\n",
      "49/49 [==============================] - 1s 13ms/step - loss: 0.1146 - accuracy: 0.9626\n",
      "Epoch 10/20\n",
      "49/49 [==============================] - 0s 10ms/step - loss: 0.1049 - accuracy: 0.9666\n",
      "Epoch 11/20\n",
      "49/49 [==============================] - 0s 10ms/step - loss: 0.0973 - accuracy: 0.9700\n",
      "Epoch 12/20\n",
      "49/49 [==============================] - 0s 8ms/step - loss: 0.0896 - accuracy: 0.9720\n",
      "Epoch 13/20\n",
      "49/49 [==============================] - 1s 11ms/step - loss: 0.0839 - accuracy: 0.9736\n",
      "Epoch 14/20\n",
      "49/49 [==============================] - 1s 10ms/step - loss: 0.0779 - accuracy: 0.9768\n",
      "Epoch 15/20\n",
      "49/49 [==============================] - 0s 10ms/step - loss: 0.0726 - accuracy: 0.9778\n",
      "Epoch 16/20\n",
      "49/49 [==============================] - 1s 11ms/step - loss: 0.0671 - accuracy: 0.9800\n",
      "Epoch 17/20\n",
      "49/49 [==============================] - 0s 10ms/step - loss: 0.0631 - accuracy: 0.9818\n",
      "Epoch 18/20\n",
      "49/49 [==============================] - 0s 9ms/step - loss: 0.0584 - accuracy: 0.9832\n",
      "Epoch 19/20\n",
      "49/49 [==============================] - 1s 12ms/step - loss: 0.0537 - accuracy: 0.9857\n",
      "Epoch 20/20\n",
      "49/49 [==============================] - 0s 9ms/step - loss: 0.0499 - accuracy: 0.9870\n",
      "782/782 [==============================] - 29s 37ms/step - loss: 0.5385 - accuracy: 0.8537\n"
     ]
    },
    {
     "data": {
      "text/plain": [
       "[0.5385316610336304, 0.8536800146102905]"
      ]
     },
     "execution_count": 20,
     "metadata": {},
     "output_type": "execute_result"
    }
   ],
   "source": [
    "#//****************************\n",
    "#//*** Suggestion use One Hidden Layer\n",
    "#//****************************\n",
    "model_shape = (10000,)\n",
    "layers = 2\n",
    "hidden_units = 16\n",
    "first_activation = \"relu\"\n",
    "final_activation = \"sigmoid\"\n",
    "optimizer = \"rmsprop\"\n",
    "loss = 'binary_crossentropy'\n",
    "model = build_binary_output_model(\n",
    "    shape=model_shape,\n",
    "    layers=layers, \n",
    "    hidden_units = hidden_units,\n",
    "    first_activation = first_activation,\n",
    "    final_activation=final_activation, \n",
    "    optimizer=optimizer,\n",
    "    loss=loss,metrics=['accuracy']  \n",
    ")\n",
    "\n",
    "model.fit(x_train, y_train, epochs=20, batch_size=512)\n",
    "results = model.evaluate(x_test, y_test)\n",
    "\n",
    "results"
   ]
  },
  {
   "cell_type": "code",
   "execution_count": 21,
   "metadata": {},
   "outputs": [
    {
     "name": "stdout",
     "output_type": "stream",
     "text": [
      "Epoch 1/20\n",
      "49/49 [==============================] - 5s 12ms/step - loss: 0.4572 - accuracy: 0.8080\n",
      "Epoch 2/20\n",
      "49/49 [==============================] - 1s 11ms/step - loss: 0.2557 - accuracy: 0.9085\n",
      "Epoch 3/20\n",
      "49/49 [==============================] - 0s 7ms/step - loss: 0.1973 - accuracy: 0.9289\n",
      "Epoch 4/20\n",
      "49/49 [==============================] - 0s 8ms/step - loss: 0.1648 - accuracy: 0.9420\n",
      "Epoch 5/20\n",
      "49/49 [==============================] - 0s 10ms/step - loss: 0.1415 - accuracy: 0.9494\n",
      "Epoch 6/20\n",
      "49/49 [==============================] - 0s 10ms/step - loss: 0.1246 - accuracy: 0.9551\n",
      "Epoch 7/20\n",
      "49/49 [==============================] - 0s 10ms/step - loss: 0.1048 - accuracy: 0.9638\n",
      "Epoch 8/20\n",
      "49/49 [==============================] - 0s 9ms/step - loss: 0.0933 - accuracy: 0.9686\n",
      "Epoch 9/20\n",
      "49/49 [==============================] - 1s 10ms/step - loss: 0.0817 - accuracy: 0.9736 0s - loss: 0.0794 - accuracy: 0.\n",
      "Epoch 10/20\n",
      "49/49 [==============================] - 0s 8ms/step - loss: 0.0671 - accuracy: 0.9793\n",
      "Epoch 11/20\n",
      "49/49 [==============================] - 1s 11ms/step - loss: 0.0574 - accuracy: 0.9816\n",
      "Epoch 12/20\n",
      "49/49 [==============================] - 1s 12ms/step - loss: 0.0459 - accuracy: 0.9872\n",
      "Epoch 13/20\n",
      "49/49 [==============================] - 0s 9ms/step - loss: 0.0402 - accuracy: 0.9889\n",
      "Epoch 14/20\n",
      "49/49 [==============================] - 0s 8ms/step - loss: 0.0352 - accuracy: 0.9893\n",
      "Epoch 15/20\n",
      "49/49 [==============================] - 0s 10ms/step - loss: 0.0277 - accuracy: 0.9921\n",
      "Epoch 16/20\n",
      "49/49 [==============================] - 1s 11ms/step - loss: 0.0219 - accuracy: 0.9941\n",
      "Epoch 17/20\n",
      "49/49 [==============================] - 0s 9ms/step - loss: 0.0162 - accuracy: 0.9958\n",
      "Epoch 18/20\n",
      "49/49 [==============================] - 1s 12ms/step - loss: 0.0163 - accuracy: 0.9956\n",
      "Epoch 19/20\n",
      "49/49 [==============================] - 1s 12ms/step - loss: 0.0130 - accuracy: 0.9963\n",
      "Epoch 20/20\n",
      "49/49 [==============================] - 0s 9ms/step - loss: 0.0105 - accuracy: 0.9970\n",
      "782/782 [==============================] - 29s 38ms/step - loss: 0.8851 - accuracy: 0.8500\n"
     ]
    },
    {
     "data": {
      "text/plain": [
       "[0.8851346969604492, 0.8499600291252136]"
      ]
     },
     "execution_count": 21,
     "metadata": {},
     "output_type": "execute_result"
    }
   ],
   "source": [
    "#//****************************************\n",
    "#//*** Suggestion: use Three Hidden Layers\n",
    "#//****************************************\n",
    "model_shape = (10000,)\n",
    "layers = 4\n",
    "hidden_units = 16\n",
    "first_activation = \"relu\"\n",
    "final_activation = \"sigmoid\"\n",
    "optimizer = \"rmsprop\"\n",
    "loss = 'binary_crossentropy'\n",
    "model = build_binary_output_model(\n",
    "    shape=model_shape,\n",
    "    layers=layers, \n",
    "    hidden_units = hidden_units,\n",
    "    first_activation = first_activation,\n",
    "    final_activation=final_activation, \n",
    "    optimizer=optimizer,\n",
    "    loss=loss,metrics=['accuracy']  \n",
    ")\n",
    "\n",
    "model.fit(x_train, y_train, epochs=20, batch_size=512)\n",
    "results = model.evaluate(x_test, y_test)\n",
    "\n",
    "results"
   ]
  },
  {
   "cell_type": "code",
   "execution_count": 22,
   "metadata": {},
   "outputs": [
    {
     "name": "stdout",
     "output_type": "stream",
     "text": [
      "Epoch 1/20\n",
      "49/49 [==============================] - 1s 13ms/step - loss: 0.4266 - accuracy: 0.8257\n",
      "Epoch 2/20\n",
      "49/49 [==============================] - 1s 11ms/step - loss: 0.2386 - accuracy: 0.9136\n",
      "Epoch 3/20\n",
      "49/49 [==============================] - 1s 14ms/step - loss: 0.1878 - accuracy: 0.9325\n",
      "Epoch 4/20\n",
      "49/49 [==============================] - 1s 13ms/step - loss: 0.1589 - accuracy: 0.9416\n",
      "Epoch 5/20\n",
      "49/49 [==============================] - 1s 13ms/step - loss: 0.1383 - accuracy: 0.9494\n",
      "Epoch 6/20\n",
      "49/49 [==============================] - 1s 12ms/step - loss: 0.1209 - accuracy: 0.9580\n",
      "Epoch 7/20\n",
      "49/49 [==============================] - 1s 12ms/step - loss: 0.1022 - accuracy: 0.9631\n",
      "Epoch 8/20\n",
      "49/49 [==============================] - 1s 14ms/step - loss: 0.0927 - accuracy: 0.9674\n",
      "Epoch 9/20\n",
      "49/49 [==============================] - 1s 16ms/step - loss: 0.0812 - accuracy: 0.9720 0s - loss: 0.0737 - accuracy\n",
      "Epoch 10/20\n",
      "49/49 [==============================] - 1s 14ms/step - loss: 0.0681 - accuracy: 0.9779\n",
      "Epoch 11/20\n",
      "49/49 [==============================] - 1s 13ms/step - loss: 0.0606 - accuracy: 0.9811\n",
      "Epoch 12/20\n",
      "49/49 [==============================] - 1s 12ms/step - loss: 0.0499 - accuracy: 0.9839\n",
      "Epoch 13/20\n",
      "49/49 [==============================] - 1s 11ms/step - loss: 0.0393 - accuracy: 0.9883\n",
      "Epoch 14/20\n",
      "49/49 [==============================] - 1s 13ms/step - loss: 0.0352 - accuracy: 0.9893\n",
      "Epoch 15/20\n",
      "49/49 [==============================] - 1s 12ms/step - loss: 0.0269 - accuracy: 0.9925\n",
      "Epoch 16/20\n",
      "49/49 [==============================] - 1s 13ms/step - loss: 0.0254 - accuracy: 0.9919\n",
      "Epoch 17/20\n",
      "49/49 [==============================] - 1s 12ms/step - loss: 0.0199 - accuracy: 0.9946 0s - loss: 0.0111 - \n",
      "Epoch 18/20\n",
      "49/49 [==============================] - 1s 12ms/step - loss: 0.0199 - accuracy: 0.9948\n",
      "Epoch 19/20\n",
      "49/49 [==============================] - 1s 12ms/step - loss: 0.0156 - accuracy: 0.9956\n",
      "Epoch 20/20\n",
      "49/49 [==============================] - 1s 11ms/step - loss: 0.0126 - accuracy: 0.9964\n",
      "782/782 [==============================] - 31s 39ms/step - loss: 0.9208 - accuracy: 0.8514\n"
     ]
    },
    {
     "data": {
      "text/plain": [
       "[0.9207907319068909, 0.8514400124549866]"
      ]
     },
     "execution_count": 22,
     "metadata": {},
     "output_type": "execute_result"
    }
   ],
   "source": [
    "#//****************************************\n",
    "#//*** Suggestion: use 32 Hidden Units\n",
    "#//****************************************\n",
    "model_shape = (10000,)\n",
    "layers = 3\n",
    "hidden_units = 32\n",
    "first_activation = \"relu\"\n",
    "final_activation = \"sigmoid\"\n",
    "optimizer = \"rmsprop\"\n",
    "loss = 'binary_crossentropy'\n",
    "model = build_binary_output_model(\n",
    "    shape=model_shape,\n",
    "    layers=layers, \n",
    "    hidden_units = hidden_units,\n",
    "    first_activation = first_activation,\n",
    "    final_activation=final_activation, \n",
    "    optimizer=optimizer,\n",
    "    loss=loss,metrics=['accuracy']  \n",
    ")\n",
    "\n",
    "model.fit(x_train, y_train, epochs=20, batch_size=512)\n",
    "results = model.evaluate(x_test, y_test)\n",
    "\n",
    "results"
   ]
  },
  {
   "cell_type": "code",
   "execution_count": 23,
   "metadata": {},
   "outputs": [
    {
     "name": "stdout",
     "output_type": "stream",
     "text": [
      "Epoch 1/5\n",
      "49/49 [==============================] - 1s 16ms/step - loss: 0.4240 - accuracy: 0.8107\n",
      "Epoch 2/5\n",
      "49/49 [==============================] - 1s 18ms/step - loss: 0.2395 - accuracy: 0.9076\n",
      "Epoch 3/5\n",
      "49/49 [==============================] - 1s 16ms/step - loss: 0.1847 - accuracy: 0.9298\n",
      "Epoch 4/5\n",
      "49/49 [==============================] - 1s 20ms/step - loss: 0.1458 - accuracy: 0.9434\n",
      "Epoch 5/5\n",
      "49/49 [==============================] - 1s 19ms/step - loss: 0.1128 - accuracy: 0.9589\n",
      "782/782 [==============================] - 31s 40ms/step - loss: 0.3607 - accuracy: 0.8748\n"
     ]
    },
    {
     "data": {
      "text/plain": [
       "[0.36067381501197815, 0.8748000264167786]"
      ]
     },
     "execution_count": 23,
     "metadata": {},
     "output_type": "execute_result"
    }
   ],
   "source": [
    "#//****************************************\n",
    "#//*** Suggestion: use 64 Hidden Units\n",
    "#//****************************************\n",
    "model_shape = (10000,)\n",
    "layers = 3\n",
    "hidden_units = 64\n",
    "first_activation = \"relu\"\n",
    "final_activation = \"sigmoid\"\n",
    "optimizer = \"rmsprop\"\n",
    "loss = 'binary_crossentropy'\n",
    "model = build_binary_output_model(\n",
    "    shape=model_shape,\n",
    "    layers=layers, \n",
    "    hidden_units = hidden_units,\n",
    "    first_activation = first_activation,\n",
    "    final_activation=final_activation, \n",
    "    optimizer=optimizer,\n",
    "    loss=loss,metrics=['accuracy']  \n",
    ")\n",
    "\n",
    "model.fit(x_train, y_train, epochs=5, batch_size=512)\n",
    "results = model.evaluate(x_test, y_test)\n",
    "\n",
    "results"
   ]
  },
  {
   "cell_type": "code",
   "execution_count": 24,
   "metadata": {},
   "outputs": [
    {
     "name": "stdout",
     "output_type": "stream",
     "text": [
      "Epoch 1/5\n",
      "49/49 [==============================] - 4s 11ms/step - loss: 0.4162 - accuracy: 0.8337\n",
      "Epoch 2/5\n",
      "49/49 [==============================] - 0s 10ms/step - loss: 0.2328 - accuracy: 0.9142\n",
      "Epoch 3/5\n",
      "49/49 [==============================] - 1s 11ms/step - loss: 0.1780 - accuracy: 0.9352\n",
      "Epoch 4/5\n",
      "49/49 [==============================] - 0s 9ms/step - loss: 0.1474 - accuracy: 0.9478\n",
      "Epoch 5/5\n",
      "49/49 [==============================] - 0s 8ms/step - loss: 0.1265 - accuracy: 0.9558\n",
      "782/782 [==============================] - 29s 37ms/step - loss: 0.3728 - accuracy: 0.8677\n"
     ]
    },
    {
     "data": {
      "text/plain": [
       "[0.3727782070636749, 0.867680013179779]"
      ]
     },
     "execution_count": 24,
     "metadata": {},
     "output_type": "execute_result"
    }
   ],
   "source": [
    "#//****************************************\n",
    "#//*** Suggestion: use tanh activation\n",
    "#//****************************************\n",
    "model_shape = (10000,)\n",
    "layers = 3\n",
    "hidden_units = 16\n",
    "first_activation = \"tanh\"\n",
    "final_activation = \"sigmoid\"\n",
    "optimizer = \"rmsprop\"\n",
    "loss = 'binary_crossentropy'\n",
    "model = build_binary_output_model(\n",
    "    shape=model_shape,\n",
    "    layers=layers, \n",
    "    hidden_units = hidden_units,\n",
    "    first_activation = first_activation,\n",
    "    final_activation=final_activation, \n",
    "    optimizer=optimizer,\n",
    "    loss=loss,metrics=['accuracy']  \n",
    ")\n",
    "\n",
    "model.fit(x_train, y_train, epochs=5, batch_size=512)\n",
    "results = model.evaluate(x_test, y_test)\n",
    "\n",
    "results"
   ]
  },
  {
   "cell_type": "code",
   "execution_count": 25,
   "metadata": {},
   "outputs": [
    {
     "name": "stdout",
     "output_type": "stream",
     "text": [
      "Epoch 1/5\n",
      "49/49 [==============================] - 1s 10ms/step - loss: 0.1479 - accuracy: 0.8266\n",
      "Epoch 2/5\n",
      "49/49 [==============================] - 0s 9ms/step - loss: 0.0767 - accuracy: 0.9126\n",
      "Epoch 3/5\n",
      "49/49 [==============================] - 0s 8ms/step - loss: 0.0587 - accuracy: 0.9320\n",
      "Epoch 4/5\n",
      "49/49 [==============================] - 0s 10ms/step - loss: 0.0476 - accuracy: 0.9447\n",
      "Epoch 5/5\n",
      "49/49 [==============================] - 0s 8ms/step - loss: 0.0407 - accuracy: 0.9539\n",
      "782/782 [==============================] - 29s 37ms/step - loss: 0.0892 - accuracy: 0.8794\n"
     ]
    },
    {
     "data": {
      "text/plain": [
       "[0.0892355889081955, 0.8794400095939636]"
      ]
     },
     "execution_count": 25,
     "metadata": {},
     "output_type": "execute_result"
    }
   ],
   "source": [
    "#//****************************************\n",
    "#//*** Suggestion: use MSE loss\n",
    "#//****************************************\n",
    "model_shape = (10000,)\n",
    "layers = 3\n",
    "hidden_units = 16\n",
    "first_activation = \"relu\"\n",
    "final_activation = \"sigmoid\"\n",
    "optimizer = \"rmsprop\"\n",
    "loss = 'mse'\n",
    "model = build_binary_output_model(\n",
    "    shape=model_shape,\n",
    "    layers=layers, \n",
    "    hidden_units = hidden_units,\n",
    "    first_activation = first_activation,\n",
    "    final_activation=final_activation, \n",
    "    optimizer=optimizer,\n",
    "    loss=loss,metrics=['accuracy']  \n",
    ")\n",
    "\n",
    "model.fit(x_train, y_train, epochs=5, batch_size=512)\n",
    "results = model.evaluate(x_test, y_test)\n",
    "\n",
    "results"
   ]
  },
  {
   "cell_type": "code",
   "execution_count": null,
   "metadata": {},
   "outputs": [],
   "source": []
  }
 ],
 "metadata": {
  "kernelspec": {
   "display_name": "Python 3",
   "language": "python",
   "name": "python3"
  },
  "language_info": {
   "codemirror_mode": {
    "name": "ipython",
    "version": 3
   },
   "file_extension": ".py",
   "mimetype": "text/x-python",
   "name": "python",
   "nbconvert_exporter": "python",
   "pygments_lexer": "ipython3",
   "version": "3.8.11"
  }
 },
 "nbformat": 4,
 "nbformat_minor": 4
}
