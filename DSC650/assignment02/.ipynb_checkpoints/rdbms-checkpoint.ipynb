{
 "cells": [
  {
   "cell_type": "code",
   "execution_count": 1,
   "metadata": {},
   "outputs": [],
   "source": [
    "from pathlib import Path\n",
    "import os\n",
    "import sqlite3\n",
    "\n",
    "import pandas as pd\n",
    "\n",
    "current_dir = Path(os.getcwd()).absolute()\n",
    "results_dir = current_dir.joinpath('results')\n",
    "kv_data_dir = results_dir.joinpath('kvdb')\n",
    "kv_data_dir.mkdir(parents=True, exist_ok=True)\n",
    "\n",
    "#//****************************************************************\n",
    "#//****************************************************************\n",
    "#//*** Skipping S3 Cluster this week due to reliability issues\n",
    "#//****************************************************************\n",
    "#import s3fs\n",
    "#\n",
    "#def read_cluster_csv(file_path, endpoint_url='https://storage.budsc.midwest-datascience.com'):\n",
    "#    s3 = s3fs.S3FileSystem(\n",
    "#        anon=True,\n",
    "#        client_kwargs={\n",
    "#            'endpoint_url': endpoint_url\n",
    "#        }\n",
    "#    )\n",
    "#    return pd.read_csv(s3.open(file_path, mode='rb'))\n",
    "#//****************************************************************\n",
    "#//****************************************************************"
   ]
  },
  {
   "cell_type": "markdown",
   "metadata": {},
   "source": [
    "## Create and Load Measurements Table"
   ]
  },
  {
   "cell_type": "code",
   "execution_count": 6,
   "metadata": {},
   "outputs": [],
   "source": [
    "def create_measurements_table(conn):\n",
    "    sql = \"\"\"\n",
    "    CREATE TABLE IF NOT EXISTS measurements (\n",
    "        visit_id integer NOT NULL,\n",
    "        person_id text NOT NULL,\n",
    "        quantity text,\n",
    "        reading real,\n",
    "        FOREIGN KEY (visit_id) REFERENCES visits (visit_id),\n",
    "        FOREIGN KEY (person_id) REFERENCES people (people_id)\n",
    "        );\n",
    "    \"\"\"\n",
    "\n",
    "    c = conn.cursor()\n",
    "    c.execute(sql)\n",
    "    \n",
    "def load_measurements_table(conn):\n",
    "    create_measurements_table(conn)\n",
    "    #df = read_cluster_csv('data/external/tidynomicon/measurements.csv')\n",
    "    df = pd.read_csv('./source/measurements.csv')\n",
    "    \n",
    "    measurements = df.values\n",
    "    \n",
    "    c = conn.cursor()\n",
    "    c.execute('DELETE FROM measurements;') # Delete data if exists\n",
    "    c.executemany('INSERT INTO measurements VALUES (?,?,?,?)', measurements)"
   ]
  },
  {
   "cell_type": "markdown",
   "metadata": {},
   "source": [
    "## Create and Load People Table"
   ]
  },
  {
   "cell_type": "code",
   "execution_count": 19,
   "metadata": {},
   "outputs": [],
   "source": [
    "def create_people_table(conn):\n",
    "    sql = \"\"\"\n",
    "    CREATE TABLE IF NOT EXISTS people (\n",
    "        person_id text NOT NULL,\n",
    "        personal_name text,\n",
    "        family_name text,\n",
    "        FOREIGN KEY (person_id) REFERENCES measurements (people_id) \n",
    "        );\n",
    "    \"\"\"    \n",
    "\n",
    "    c = conn.cursor()\n",
    "    c.execute(sql)\n",
    "    \n",
    "def load_people_table(conn):\n",
    "    create_people_table(conn)\n",
    "    ## TODO: Complete code\n",
    "    \n",
    "\n",
    "db_path = results_dir.joinpath('patient-info.db')\n",
    "conn = sqlite3.connect(str(db_path))\n",
    "\n",
    "#//*** Return Rows with Columns\n",
    "conn.row_factory = sqlite3.Row \n",
    "\n",
    "# TODO: Uncomment once functions completed\n",
    "load_people_table(conn) \n",
    "# load_sites_table(conn)\n",
    "# load_visits_table(conn)\n",
    "#load_measurements_table(conn)\n",
    "\n",
    "conn.commit()\n",
    "conn.close()"
   ]
  },
  {
   "cell_type": "markdown",
   "metadata": {},
   "source": [
    "## Create and Load Sites Table"
   ]
  },
  {
   "cell_type": "code",
   "execution_count": null,
   "metadata": {},
   "outputs": [],
   "source": [
    "def create_sites_table(conn):\n",
    "    sql = \"\"\"\n",
    "    CREATE TABLE IF NOT EXISTS sites (\n",
    "        site_id text PRIMARY KEY,\n",
    "        latitude double NOT NULL,\n",
    "        longitude double NOT NULL\n",
    "        );\n",
    "    \"\"\"\n",
    "\n",
    "    c = conn.cursor()\n",
    "    c.execute(sql)\n",
    "\n",
    "def load_sites_table(conn):\n",
    "    create_sites_table(conn)\n",
    "    ## TODO: Complete code"
   ]
  },
  {
   "cell_type": "markdown",
   "metadata": {},
   "source": [
    "## Create and Load Visits Table"
   ]
  },
  {
   "cell_type": "code",
   "execution_count": null,
   "metadata": {},
   "outputs": [],
   "source": [
    "def create_visits_table(conn):\n",
    "    sql = \"\"\"\n",
    "    CREATE TABLE IF NOT EXISTS visits (\n",
    "        visit_id integer PRIMARY KEY,\n",
    "        site_id text NOT NULL,\n",
    "        visit_date text,\n",
    "        FOREIGN KEY (site_id) REFERENCES sites (site_id)\n",
    "        );\n",
    "    \"\"\"\n",
    "\n",
    "    c = conn.cursor()\n",
    "    c.execute(sql)\n",
    "\n",
    "def load_visits_table(conn):\n",
    "    create_visits_table(conn)\n",
    "    ## TODO: Complete code"
   ]
  },
  {
   "cell_type": "markdown",
   "metadata": {},
   "source": [
    "## Create DB and Load Tables"
   ]
  },
  {
   "cell_type": "code",
   "execution_count": 13,
   "metadata": {},
   "outputs": [
    {
     "name": "stdout",
     "output_type": "stream",
     "text": [
      "{'visit_id': 619, 'person_id': 'dyer', 'quantity': 'rad', 'reading': 9.82}\n",
      "{'visit_id': 619, 'person_id': 'dyer', 'quantity': 'sal', 'reading': 0.13}\n",
      "{'visit_id': 622, 'person_id': 'dyer', 'quantity': 'rad', 'reading': 7.8}\n",
      "{'visit_id': 622, 'person_id': 'dyer', 'quantity': 'sal', 'reading': 0.09}\n",
      "{'visit_id': 734, 'person_id': 'pb', 'quantity': 'rad', 'reading': 8.41}\n",
      "{'visit_id': 734, 'person_id': 'lake', 'quantity': 'sal', 'reading': 0.05}\n",
      "{'visit_id': 734, 'person_id': 'pb', 'quantity': 'temp', 'reading': -21.5}\n",
      "{'visit_id': 735, 'person_id': 'pb', 'quantity': 'rad', 'reading': 7.22}\n",
      "{'visit_id': 735, 'person_id': 'pb', 'quantity': 'sal', 'reading': 0.06}\n",
      "{'visit_id': 735, 'person_id': 'pb', 'quantity': 'temp', 'reading': -26.0}\n",
      "{'visit_id': 751, 'person_id': 'pb', 'quantity': 'rad', 'reading': 4.35}\n",
      "{'visit_id': 751, 'person_id': 'pb', 'quantity': 'temp', 'reading': -18.5}\n",
      "{'visit_id': 752, 'person_id': 'lake', 'quantity': 'rad', 'reading': 2.19}\n",
      "{'visit_id': 752, 'person_id': 'lake', 'quantity': 'sal', 'reading': 0.09}\n",
      "{'visit_id': 752, 'person_id': 'lake', 'quantity': 'temp', 'reading': -16.0}\n",
      "{'visit_id': 752, 'person_id': 'roe', 'quantity': 'sal', 'reading': 41.6}\n",
      "{'visit_id': 837, 'person_id': 'lake', 'quantity': 'rad', 'reading': 1.46}\n",
      "{'visit_id': 837, 'person_id': 'lake', 'quantity': 'sal', 'reading': 0.21}\n",
      "{'visit_id': 837, 'person_id': 'roe', 'quantity': 'sal', 'reading': 22.5}\n",
      "{'visit_id': 844, 'person_id': 'roe', 'quantity': 'rad', 'reading': 11.25}\n"
     ]
    }
   ],
   "source": [
    "db_path = results_dir.joinpath('patient-info.db')\n",
    "conn = sqlite3.connect(str(db_path))\n",
    "\n",
    "#//*** Return Rows with Columns\n",
    "conn.row_factory = sqlite3.Row \n",
    "\n",
    "# TODO: Uncomment once functions completed\n",
    "# load_people_table(conn) \n",
    "# load_sites_table(conn)\n",
    "# load_visits_table(conn)\n",
    "load_measurements_table(conn)\n",
    "\n",
    "conn.commit()\n",
    "conn.close()"
   ]
  },
  {
   "cell_type": "code",
   "execution_count": 14,
   "metadata": {},
   "outputs": [
    {
     "name": "stdout",
     "output_type": "stream",
     "text": [
      "{'visit_id': 619, 'person_id': 'dyer', 'quantity': 'rad', 'reading': 9.82}\n",
      "{'visit_id': 619, 'person_id': 'dyer', 'quantity': 'sal', 'reading': 0.13}\n",
      "{'visit_id': 622, 'person_id': 'dyer', 'quantity': 'rad', 'reading': 7.8}\n",
      "{'visit_id': 622, 'person_id': 'dyer', 'quantity': 'sal', 'reading': 0.09}\n",
      "{'visit_id': 734, 'person_id': 'pb', 'quantity': 'rad', 'reading': 8.41}\n",
      "{'visit_id': 734, 'person_id': 'lake', 'quantity': 'sal', 'reading': 0.05}\n",
      "{'visit_id': 734, 'person_id': 'pb', 'quantity': 'temp', 'reading': -21.5}\n",
      "{'visit_id': 735, 'person_id': 'pb', 'quantity': 'rad', 'reading': 7.22}\n",
      "{'visit_id': 735, 'person_id': 'pb', 'quantity': 'sal', 'reading': 0.06}\n",
      "{'visit_id': 735, 'person_id': 'pb', 'quantity': 'temp', 'reading': -26.0}\n",
      "{'visit_id': 751, 'person_id': 'pb', 'quantity': 'rad', 'reading': 4.35}\n",
      "{'visit_id': 751, 'person_id': 'pb', 'quantity': 'temp', 'reading': -18.5}\n",
      "{'visit_id': 752, 'person_id': 'lake', 'quantity': 'rad', 'reading': 2.19}\n",
      "{'visit_id': 752, 'person_id': 'lake', 'quantity': 'sal', 'reading': 0.09}\n",
      "{'visit_id': 752, 'person_id': 'lake', 'quantity': 'temp', 'reading': -16.0}\n",
      "{'visit_id': 752, 'person_id': 'roe', 'quantity': 'sal', 'reading': 41.6}\n",
      "{'visit_id': 837, 'person_id': 'lake', 'quantity': 'rad', 'reading': 1.46}\n",
      "{'visit_id': 837, 'person_id': 'lake', 'quantity': 'sal', 'reading': 0.21}\n",
      "{'visit_id': 837, 'person_id': 'roe', 'quantity': 'sal', 'reading': 22.5}\n",
      "{'visit_id': 844, 'person_id': 'roe', 'quantity': 'rad', 'reading': 11.25}\n"
     ]
    }
   ],
   "source": [
    "db_path = results_dir.joinpath('patient-info.db')\n",
    "conn = sqlite3.connect(str(db_path))\n",
    "\n",
    "#//*** Return Rows with Columns\n",
    "conn.row_factory = sqlite3.Row \n",
    "\n",
    "\n",
    "query = \"\"\"\n",
    "SELECT *\n",
    "FROM measurements\n",
    "\"\"\"\n",
    "cursor = conn.cursor()\n",
    "\n",
    "cursor.execute(query)\n",
    "\n",
    "rows = cursor.fetchall()\n",
    "\n",
    "for row in rows:\n",
    "    print(dict(row))\n",
    "\n",
    "conn.commit()\n",
    "conn.close()"
   ]
  }
 ],
 "metadata": {
  "kernelspec": {
   "display_name": "Python 3",
   "language": "python",
   "name": "python3"
  },
  "language_info": {
   "codemirror_mode": {
    "name": "ipython",
    "version": 3
   },
   "file_extension": ".py",
   "mimetype": "text/x-python",
   "name": "python",
   "nbconvert_exporter": "python",
   "pygments_lexer": "ipython3",
   "version": "3.6.13"
  }
 },
 "nbformat": 4,
 "nbformat_minor": 4
}
