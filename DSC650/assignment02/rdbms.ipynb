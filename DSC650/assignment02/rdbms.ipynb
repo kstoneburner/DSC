{
 "cells": [
  {
   "cell_type": "code",
   "execution_count": 1,
   "metadata": {},
   "outputs": [],
   "source": [
    "from pathlib import Path\n",
    "import os\n",
    "import sqlite3\n",
    "\n",
    "import pandas as pd\n",
    "\n",
    "current_dir = Path(os.getcwd()).absolute()\n",
    "results_dir = current_dir.joinpath('results')\n",
    "kv_data_dir = results_dir.joinpath('kvdb')\n",
    "kv_data_dir.mkdir(parents=True, exist_ok=True)\n",
    "\n",
    "#//****************************************************************\n",
    "#//****************************************************************\n",
    "#//*** Skipping S3 Cluster this week due to reliability issues\n",
    "#//****************************************************************\n",
    "#import s3fs\n",
    "#\n",
    "#def read_cluster_csv(file_path, endpoint_url='https://storage.budsc.midwest-datascience.com'):\n",
    "#    s3 = s3fs.S3FileSystem(\n",
    "#        anon=True,\n",
    "#        client_kwargs={\n",
    "#            'endpoint_url': endpoint_url\n",
    "#        }\n",
    "#    )\n",
    "#    return pd.read_csv(s3.open(file_path, mode='rb'))\n",
    "#//****************************************************************\n",
    "#//****************************************************************"
   ]
  },
  {
   "cell_type": "markdown",
   "metadata": {},
   "source": [
    "## Create and Load Measurements Table"
   ]
  },
  {
   "cell_type": "code",
   "execution_count": 2,
   "metadata": {},
   "outputs": [],
   "source": [
    "def create_measurements_table(conn):\n",
    "    sql = \"\"\"\n",
    "    CREATE TABLE IF NOT EXISTS measurements (\n",
    "        visit_id integer NOT NULL,\n",
    "        person_id text NOT NULL,\n",
    "        quantity text,\n",
    "        reading real,\n",
    "        FOREIGN KEY (visit_id) REFERENCES visits (visit_id),\n",
    "        FOREIGN KEY (person_id) REFERENCES people (people_id)\n",
    "        );\n",
    "    \"\"\"\n",
    "\n",
    "    c = conn.cursor()\n",
    "    c.execute(sql)\n",
    "    "
   ]
  },
  {
   "cell_type": "markdown",
   "metadata": {},
   "source": [
    "## Create People Table"
   ]
  },
  {
   "cell_type": "code",
   "execution_count": 3,
   "metadata": {},
   "outputs": [],
   "source": [
    "def create_people_table(conn):\n",
    "    sql = \"\"\"\n",
    "    CREATE TABLE IF NOT EXISTS people (\n",
    "        person_id text NOT NULL,\n",
    "        personal_name text,\n",
    "        family_name text,\n",
    "        FOREIGN KEY (person_id) REFERENCES measurements (people_id) \n",
    "        );\n",
    "    \"\"\"    \n",
    "\n",
    "    c = conn.cursor()\n",
    "    c.execute(sql)\n"
   ]
  },
  {
   "cell_type": "markdown",
   "metadata": {},
   "source": [
    "## Create Sites Table"
   ]
  },
  {
   "cell_type": "code",
   "execution_count": 4,
   "metadata": {},
   "outputs": [],
   "source": [
    "def create_sites_table(conn):\n",
    "    sql = \"\"\"\n",
    "    CREATE TABLE IF NOT EXISTS sites (\n",
    "        site_id text PRIMARY KEY,\n",
    "        latitude double NOT NULL,\n",
    "        longitude double NOT NULL\n",
    "        );\n",
    "    \"\"\"\n",
    "\n",
    "    c = conn.cursor()\n",
    "    c.execute(sql)\n",
    "\n"
   ]
  },
  {
   "cell_type": "markdown",
   "metadata": {},
   "source": [
    "## Create Visits Table"
   ]
  },
  {
   "cell_type": "code",
   "execution_count": 5,
   "metadata": {},
   "outputs": [],
   "source": [
    "def create_visits_table(conn):\n",
    "    sql = \"\"\"\n",
    "    CREATE TABLE IF NOT EXISTS visits (\n",
    "        visit_id integer PRIMARY KEY,\n",
    "        site_id text NOT NULL,\n",
    "        visit_date text,\n",
    "        FOREIGN KEY (site_id) REFERENCES sites (site_id)\n",
    "        );\n",
    "    \"\"\"\n",
    "\n",
    "    c = conn.cursor()\n",
    "    c.execute(sql)\n"
   ]
  },
  {
   "cell_type": "markdown",
   "metadata": {},
   "source": [
    "## Create DB and Load Tables"
   ]
  },
  {
   "cell_type": "code",
   "execution_count": 6,
   "metadata": {},
   "outputs": [],
   "source": [
    "#//*******************************************************************************************\n",
    "#//*** Using a single function to load tables. It cuts down on repetitve code\n",
    "#//*** And makes the function easier to update and expand for future uses.\n",
    "#//*******************************************************************************************\n",
    "def load_table(conn,table):\n",
    "    \n",
    "    #//*** Initialize Tables \n",
    "    if table == \"measurements\":\n",
    "        create_measurements_table(conn)\n",
    "    elif table == \"people\":\n",
    "        create_people_table(conn)\n",
    "    elif table == \"sites\":\n",
    "        create_sites_table(conn)\n",
    "    elif table == \"visits\":\n",
    "        create_visits_table(conn)\n",
    "\n",
    "\n",
    "    #//*** Load CSV Path\n",
    "    path = {\n",
    "        \"measurements\" : './source/measurements.csv',\n",
    "        \"people\" : './source/person.csv',\n",
    "        \"sites\" : './source/site.csv',\n",
    "        \"visits\" : './source/visited.csv',\n",
    "        \n",
    "    }\n",
    "    \n",
    "    #//*** Load CSV\n",
    "    df = pd.read_csv(path[table])\n",
    "    \n",
    "    #//**** Get Cursor\n",
    "    c = conn.cursor()\n",
    "    \n",
    "    #//*** Delete values if already exist in table\n",
    "    c.execute(f'DELETE FROM {table};') \n",
    "    \n",
    "    #//*** Write values to tables. The Number of ? needs to match the number of df column\n",
    "    #//*** Reference: c.executemany('INSERT INTO measurements VALUES (?,?,?,?)', measurements)\n",
    "    c.executemany(f'INSERT INTO {table} VALUES ({(len(df.columns)*\"?,\")[:-1]})', df.values)\n",
    "\n",
    "\n",
    "\n",
    "db_path = results_dir.joinpath('patient-info.db')\n",
    "conn = sqlite3.connect(str(db_path))\n",
    "\n",
    "\n",
    "\n",
    "#//*** Return Rows with Columns\n",
    "conn.row_factory = sqlite3.Row \n",
    "\n",
    "load_table(conn,\"measurements\")\n",
    "load_table(conn,\"people\")\n",
    "load_table(conn,\"sites\")\n",
    "load_table(conn,\"visits\")\n",
    "\n",
    "conn.commit()\n",
    "conn.close()\n",
    "\n",
    "\n",
    "db_path = results_dir.joinpath('patient-info.db')\n",
    "conn = sqlite3.connect(str(db_path))\n",
    "\n",
    "#//*** Return Rows with Columns\n",
    "conn.row_factory = sqlite3.Row \n",
    "\n",
    "conn.commit()\n",
    "conn.close()"
   ]
  },
  {
   "cell_type": "code",
   "execution_count": 7,
   "metadata": {},
   "outputs": [
    {
     "name": "stdout",
     "output_type": "stream",
     "text": [
      "========================\n",
      "visits\n",
      "========================\n",
      "{'visit_id': 619, 'site_id': 'DR-1', 'visit_date': '1927-02-08'}\n",
      "{'visit_id': 622, 'site_id': 'DR-1', 'visit_date': '1927-02-10'}\n",
      "{'visit_id': 734, 'site_id': 'DR-3', 'visit_date': '1930-01-07'}\n",
      "{'visit_id': 735, 'site_id': 'DR-3', 'visit_date': '1930-01-12'}\n",
      "{'visit_id': 751, 'site_id': 'DR-3', 'visit_date': '1930-02-26'}\n",
      "{'visit_id': 752, 'site_id': 'DR-3', 'visit_date': None}\n",
      "{'visit_id': 837, 'site_id': 'MSK-4', 'visit_date': '1932-01-14'}\n",
      "{'visit_id': 844, 'site_id': 'DR-1', 'visit_date': '1932-03-22'}\n",
      "========================\n",
      "sites\n",
      "========================\n",
      "{'site_id': 'DR-1', 'latitude': -49.85, 'longitude': -128.57}\n",
      "{'site_id': 'DR-3', 'latitude': -47.15, 'longitude': -126.72}\n",
      "{'site_id': 'MSK-4', 'latitude': -48.87, 'longitude': -123.4}\n",
      "========================\n",
      "people\n",
      "========================\n",
      "{'person_id': 'dyer', 'personal_name': 'William', 'family_name': 'Dyer'}\n",
      "{'person_id': 'pb', 'personal_name': 'Frank', 'family_name': 'Pabodie'}\n",
      "{'person_id': 'lake', 'personal_name': 'Anderson', 'family_name': 'Lake'}\n",
      "{'person_id': 'roe', 'personal_name': 'Valentina', 'family_name': 'Roerich'}\n",
      "{'person_id': 'danforth', 'personal_name': 'Frank', 'family_name': 'Danforth'}\n",
      "========================\n",
      "measurements\n",
      "========================\n",
      "{'visit_id': 619, 'person_id': 'dyer', 'quantity': 'rad', 'reading': 9.82}\n",
      "{'visit_id': 619, 'person_id': 'dyer', 'quantity': 'sal', 'reading': 0.13}\n",
      "{'visit_id': 622, 'person_id': 'dyer', 'quantity': 'rad', 'reading': 7.8}\n",
      "{'visit_id': 622, 'person_id': 'dyer', 'quantity': 'sal', 'reading': 0.09}\n",
      "{'visit_id': 734, 'person_id': 'pb', 'quantity': 'rad', 'reading': 8.41}\n",
      "{'visit_id': 734, 'person_id': 'lake', 'quantity': 'sal', 'reading': 0.05}\n",
      "{'visit_id': 734, 'person_id': 'pb', 'quantity': 'temp', 'reading': -21.5}\n",
      "{'visit_id': 735, 'person_id': 'pb', 'quantity': 'rad', 'reading': 7.22}\n",
      "{'visit_id': 735, 'person_id': 'pb', 'quantity': 'sal', 'reading': 0.06}\n",
      "{'visit_id': 735, 'person_id': 'pb', 'quantity': 'temp', 'reading': -26.0}\n",
      "{'visit_id': 751, 'person_id': 'pb', 'quantity': 'rad', 'reading': 4.35}\n",
      "{'visit_id': 751, 'person_id': 'pb', 'quantity': 'temp', 'reading': -18.5}\n",
      "{'visit_id': 752, 'person_id': 'lake', 'quantity': 'rad', 'reading': 2.19}\n",
      "{'visit_id': 752, 'person_id': 'lake', 'quantity': 'sal', 'reading': 0.09}\n",
      "{'visit_id': 752, 'person_id': 'lake', 'quantity': 'temp', 'reading': -16.0}\n",
      "{'visit_id': 752, 'person_id': 'roe', 'quantity': 'sal', 'reading': 41.6}\n",
      "{'visit_id': 837, 'person_id': 'lake', 'quantity': 'rad', 'reading': 1.46}\n",
      "{'visit_id': 837, 'person_id': 'lake', 'quantity': 'sal', 'reading': 0.21}\n",
      "{'visit_id': 837, 'person_id': 'roe', 'quantity': 'sal', 'reading': 22.5}\n",
      "{'visit_id': 844, 'person_id': 'roe', 'quantity': 'rad', 'reading': 11.25}\n"
     ]
    }
   ],
   "source": [
    "db_path = results_dir.joinpath('patient-info.db')\n",
    "conn = sqlite3.connect(str(db_path))\n",
    "\n",
    "#//*** Return Rows with Columns\n",
    "conn.row_factory = sqlite3.Row \n",
    "\n",
    "for table in ['visits','sites','people','measurements']:\n",
    "\n",
    "    query = f\"\"\"\n",
    "    SELECT *\n",
    "    FROM {table}\n",
    "    \"\"\"\n",
    "    cursor = conn.cursor()\n",
    "\n",
    "    cursor.execute(query)\n",
    "\n",
    "    rows = cursor.fetchall()\n",
    "    print(\"========================\")\n",
    "    print(table)\n",
    "    print(\"========================\")\n",
    "    for row in rows:\n",
    "        print(dict(row))\n",
    "\n",
    "conn.commit()\n",
    "conn.close()"
   ]
  },
  {
   "cell_type": "code",
   "execution_count": null,
   "metadata": {},
   "outputs": [],
   "source": []
  }
 ],
 "metadata": {
  "kernelspec": {
   "display_name": "Python 3",
   "language": "python",
   "name": "python3"
  },
  "language_info": {
   "codemirror_mode": {
    "name": "ipython",
    "version": 3
   },
   "file_extension": ".py",
   "mimetype": "text/x-python",
   "name": "python",
   "nbconvert_exporter": "python",
   "pygments_lexer": "ipython3",
   "version": "3.6.13"
  }
 },
 "nbformat": 4,
 "nbformat_minor": 4
}
