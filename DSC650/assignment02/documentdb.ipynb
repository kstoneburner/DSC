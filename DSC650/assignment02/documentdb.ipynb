{
 "cells": [
  {
   "cell_type": "code",
   "execution_count": 42,
   "metadata": {},
   "outputs": [
    {
     "name": "stdout",
     "output_type": "stream",
     "text": [
      "{'danforth': {'person_id': 'danforth', 'personal_name': 'Frank', 'family_name': 'Danforth'}, 'dyer': {'person_id': 'dyer', 'personal_name': 'William', 'family_name': 'Dyer'}, 'lake': {'person_id': 'lake', 'personal_name': 'Anderson', 'family_name': 'Lake'}, 'pb': {'person_id': 'pb', 'personal_name': 'Frank', 'family_name': 'Pabodie'}, 'roe': {'person_id': 'roe', 'personal_name': 'Valentina', 'family_name': 'Roerich'}}\n",
      "================\n",
      "\n",
      "<TinyDB tables=[], tables_count=0, default_table_documents_count=0, all_tables_documents_count=[]>\n"
     ]
    }
   ],
   "source": [
    "from pathlib import Path\n",
    "import json\n",
    "import os\n",
    "\n",
    "from tinydb import TinyDB\n",
    "\n",
    "current_dir = Path(os.getcwd()).absolute()\n",
    "results_dir = current_dir.joinpath('results')\n",
    "kv_data_dir = results_dir.joinpath('kvdb')\n",
    "kv_data_dir.mkdir(parents=True, exist_ok=True)\n",
    "\n",
    "\n",
    "class DocumentDB(object):\n",
    "    def __init__(self, db_path):\n",
    "        \n",
    "        #people_json = kv_data_dir.joinpath('people.json')\n",
    "        #visited_json = kv_data_dir.joinpath('visited.json')\n",
    "        #sites_json = kv_data_dir.joinpath('sites.json')\n",
    "        #measurements_json = kv_data_dir.joinpath('measurements.json')\n",
    "\n",
    "        filepaths = []\n",
    "        \n",
    "        ## You can use the code from the previous exmaple if you would like\n",
    "        filepaths.append( kv_data_dir.joinpath('people.json') )\n",
    "        filepaths.append( kv_data_dir.joinpath('visited.json') )\n",
    "        filepaths.append( kv_data_dir.joinpath('sites.json') )\n",
    "        filepaths.append( kv_data_dir.joinpath('measurements.json') )\n",
    "\n",
    "\n",
    "        \n",
    "        self._db_path = Path(db_path)\n",
    "        self._db = None\n",
    "        \n",
    "        #//*** Loop through each JSON File path\n",
    "        for filepath in filepaths:\n",
    "            \n",
    "            #//*** Load JSON content from each filepath\n",
    "            self._read_file(filepath)\n",
    "            \n",
    "            print(self._json_content)\n",
    "            print(\"================\")\n",
    "            \n",
    "            self._load_db()\n",
    "            break\n",
    "        \n",
    "        print(self._db)\n",
    "        self._db.close()\n",
    "        \n",
    "        \n",
    "        \n",
    "    def _load_db(self):\n",
    "        \n",
    "        self._db = TinyDB(self._db_path)\n",
    "        print()\n",
    "        ## TODO: Implement code\n",
    "\n",
    "    #//*** Load JSON from file as dic\n",
    "    def _read_file(self,jsonpath):\n",
    "        if jsonpath.exists():\n",
    "            with open(jsonpath) as f:\n",
    "                self._json_content = json.load(f)\n",
    "\n",
    "db_path = results_dir.joinpath('patient-info.json')\n",
    "if db_path.exists():\n",
    "    os.remove(db_path)\n",
    "\n",
    "db = DocumentDB(db_path)"
   ]
  },
  {
   "cell_type": "code",
   "execution_count": 12,
   "metadata": {},
   "outputs": [
    {
     "name": "stdout",
     "output_type": "stream",
     "text": [
      "[WindowsPath('C:/Users/family/DSCProjects/DSC/DSC650/assignment02/results/kvdb/people.json'), WindowsPath('C:/Users/family/DSCProjects/DSC/DSC650/assignment02/results/kvdb/visited.json'), WindowsPath('C:/Users/family/DSCProjects/DSC/DSC650/assignment02/results/kvdb/sites.json'), WindowsPath('C:/Users/family/DSCProjects/DSC/DSC650/assignment02/results/kvdb/measurements.json')]\n",
      "\n"
     ]
    }
   ],
   "source": [
    "db_path = results_dir.joinpath('patient-info.json')\n",
    "if db_path.exists():\n",
    "    os.remove(db_path)\n",
    "\n",
    "db = DocumentDB(db_path)"
   ]
  },
  {
   "cell_type": "code",
   "execution_count": 36,
   "metadata": {},
   "outputs": [
    {
     "ename": "PermissionError",
     "evalue": "[WinError 32] The process cannot access the file because it is being used by another process: 'C:\\\\Users\\\\family\\\\DSCProjects\\\\DSC\\\\DSC650\\\\assignment02\\\\results\\\\patient-info.json'",
     "output_type": "error",
     "traceback": [
      "\u001b[1;31m---------------------------------------------------------------------------\u001b[0m",
      "\u001b[1;31mPermissionError\u001b[0m                           Traceback (most recent call last)",
      "\u001b[1;32m<ipython-input-36-7c42accda594>\u001b[0m in \u001b[0;36m<module>\u001b[1;34m\u001b[0m\n\u001b[0;32m      1\u001b[0m \u001b[1;32mif\u001b[0m \u001b[0mdb_path\u001b[0m\u001b[1;33m.\u001b[0m\u001b[0mexists\u001b[0m\u001b[1;33m(\u001b[0m\u001b[1;33m)\u001b[0m\u001b[1;33m:\u001b[0m\u001b[1;33m\u001b[0m\u001b[1;33m\u001b[0m\u001b[0m\n\u001b[1;32m----> 2\u001b[1;33m     \u001b[0mos\u001b[0m\u001b[1;33m.\u001b[0m\u001b[0mremove\u001b[0m\u001b[1;33m(\u001b[0m\u001b[0mdb_path\u001b[0m\u001b[1;33m)\u001b[0m\u001b[1;33m\u001b[0m\u001b[1;33m\u001b[0m\u001b[0m\n\u001b[0m",
      "\u001b[1;31mPermissionError\u001b[0m: [WinError 32] The process cannot access the file because it is being used by another process: 'C:\\\\Users\\\\family\\\\DSCProjects\\\\DSC\\\\DSC650\\\\assignment02\\\\results\\\\patient-info.json'"
     ]
    }
   ],
   "source": [
    "if db_path.exists():\n",
    "    os.remove(db_path)\n"
   ]
  },
  {
   "cell_type": "code",
   "execution_count": 33,
   "metadata": {},
   "outputs": [
    {
     "data": {
      "text/plain": [
       "['__class__',\n",
       " '__delattr__',\n",
       " '__dict__',\n",
       " '__dir__',\n",
       " '__doc__',\n",
       " '__enter__',\n",
       " '__eq__',\n",
       " '__exit__',\n",
       " '__format__',\n",
       " '__ge__',\n",
       " '__getattr__',\n",
       " '__getattribute__',\n",
       " '__gt__',\n",
       " '__hash__',\n",
       " '__init__',\n",
       " '__init_subclass__',\n",
       " '__iter__',\n",
       " '__le__',\n",
       " '__len__',\n",
       " '__lt__',\n",
       " '__module__',\n",
       " '__ne__',\n",
       " '__new__',\n",
       " '__reduce__',\n",
       " '__reduce_ex__',\n",
       " '__repr__',\n",
       " '__setattr__',\n",
       " '__sizeof__',\n",
       " '__str__',\n",
       " '__subclasshook__',\n",
       " '__weakref__',\n",
       " 'close',\n",
       " 'default_storage_class',\n",
       " 'default_table_name',\n",
       " 'drop_table',\n",
       " 'drop_tables',\n",
       " 'storage',\n",
       " 'table',\n",
       " 'table_class',\n",
       " 'tables']"
      ]
     },
     "execution_count": 33,
     "metadata": {},
     "output_type": "execute_result"
    }
   ],
   "source": [
    "dir(TinyDB)"
   ]
  }
 ],
 "metadata": {
  "kernelspec": {
   "display_name": "Python 3",
   "language": "python",
   "name": "python3"
  },
  "language_info": {
   "codemirror_mode": {
    "name": "ipython",
    "version": 3
   },
   "file_extension": ".py",
   "mimetype": "text/x-python",
   "name": "python",
   "nbconvert_exporter": "python",
   "pygments_lexer": "ipython3",
   "version": "3.6.13"
  }
 },
 "nbformat": 4,
 "nbformat_minor": 4
}
