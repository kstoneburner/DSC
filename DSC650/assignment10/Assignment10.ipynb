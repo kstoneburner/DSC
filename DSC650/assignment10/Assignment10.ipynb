{
 "cells": [
  {
   "cell_type": "markdown",
   "metadata": {},
   "source": [
    "# Stoneburner, Kurt\n",
    "- ## DSC 650 - Assignment 10\n",
    "\n",
    "\n",
    "Links to Deep Learning Sample Code:\n",
    "- https://github.com/fchollet/deep-learning-with-python-notebooks/blob/master/chapter11_part01_introduction.ipynb\n",
    "\n",
    "- https://github.com/fchollet/deep-learning-with-python-notebooks/blob/master/chapter11_part02_sequence-models.ipynb\n",
    "\n",
    "- https://github.com/fchollet/deep-learning-with-python-notebooks/blob/master/chapter11_part03_transformer.ipynb\n",
    "\n",
    "- https://github.com/fchollet/deep-learning-with-python-notebooks/blob/master/chapter11_part04_sequence-to-sequence-learning.ipynb\n",
    "\n",
    "ngram reference:\n",
    "- https://www.analyticsvidhya.com/blog/2021/09/what-are-n-grams-and-how-to-implement-them-in-python/\n",
    "\n"
   ]
  },
  {
   "cell_type": "code",
   "execution_count": 51,
   "metadata": {},
   "outputs": [
    {
     "data": {
      "text/html": [
       "<style>.container { width:100% !important; }</style>"
      ],
      "text/plain": [
       "<IPython.core.display.HTML object>"
      ]
     },
     "metadata": {},
     "output_type": "display_data"
    }
   ],
   "source": [
    "import os\n",
    "from pathlib import Path\n",
    "import sys\n",
    "# //*** Imports and Load Data\n",
    "import matplotlib.pyplot as plt\n",
    "import numpy as np\n",
    "import pandas as pd\n",
    "\n",
    "from tensorflow import keras\n",
    "\n",
    "#//*** Reusing Code from assignment 04\n",
    "from chardet.universaldetector import UniversalDetector\n",
    "from bs4 import BeautifulSoup\n",
    "\n",
    "\n",
    "import re\n",
    "\n",
    "#//*** Use the whole window in the IPYNB editor\n",
    "from IPython.core.display import display, HTML\n",
    "display(HTML(\"<style>.container { width:100% !important; }</style>\"))\n",
    "\n",
    "#//*** Maximize columns and rows displayed by pandas\n",
    "pd.set_option('display.max_rows', 100)\n",
    "pd.set_option('display.max_columns', None)"
   ]
  },
  {
   "cell_type": "code",
   "execution_count": 2,
   "metadata": {},
   "outputs": [
    {
     "name": "stdout",
     "output_type": "stream",
     "text": [
      "Bromwell High is a cartoon comedy. It ran at the same time as some other programs about school life, such as \"Teachers\". My 35 years in the teaching profession lead me to believe that Bromwell High's satire is much closer to reality than is \"Teachers\". The scramble to survive financially, the insightful students who can see right through their pathetic teachers' pomp, the pettiness of the whole situation, all remind me of the schools I knew and their students. When I saw the episode in which a student repeatedly tried to burn down the school, I immediately recalled ......... at .......... High. A classic line: INSPECTOR: I'm here to sack one of your teachers. STUDENT: Welcome to Bromwell High. I expect that many adults of my age think that Bromwell High is far fetched. What a pity that it isn't!\n"
     ]
    }
   ],
   "source": [
    "#//*** Get Working Directory\n",
    "current_dir = Path(os.getcwd()).absolute()\n",
    "\n",
    "#//*** Go up Two folders\n",
    "project_dir = current_dir.parents[2]\n",
    "\n",
    "#//*** IMDB Data Path\n",
    "imdb_path = project_dir.joinpath(\"dsc650/data/external/imdb/aclImdb\")\n",
    "\n",
    "file_path = imdb_path.joinpath(\"train/pos\")\n",
    "\n",
    "#//*** Grab the first positive review text for testing\n",
    "file_path = file_path.joinpath(os.listdir(file_path)[0])\n",
    "\n",
    "with open(file_path,'r') as f:\n",
    "    sample_text = f.read()\n",
    "\n",
    "print(sample_text)\n"
   ]
  },
  {
   "cell_type": "markdown",
   "metadata": {},
   "source": [
    "# Load IMDB Dataset #"
   ]
  },
  {
   "cell_type": "code",
   "execution_count": 57,
   "metadata": {},
   "outputs": [
    {
     "name": "stdout",
     "output_type": "stream",
     "text": [
      "Loading Raw Validation Set\n",
      "Loading Raw Train Data\n",
      "Dropping File: 7714_1.txt due to decoding issues\n",
      "Dropping File: 11351_9.txt due to decoding issues\n",
      "Dropping File: 8263_9.txt due to decoding issues\n",
      "Loading Raw Test Data\n",
      "Dropping File: 4414_1.txt due to decoding issues\n",
      "Dropping File: 6973_1.txt due to decoding issues\n",
      "Dropping File: 2464_10.txt due to decoding issues\n",
      "Dropping File: 5281_10.txt due to decoding issues\n",
      "Done\n"
     ]
    }
   ],
   "source": [
    "#//*** Use Universal Detector to determine file encoding.\n",
    "def read_file_with_encoding(filepath):\n",
    "\n",
    "    detector = UniversalDetector()\n",
    "    \n",
    "    try:\n",
    "        with open(filepath) as f:\n",
    "            return f.read()\n",
    "    except UnicodeDecodeError:\n",
    "        detector.reset()\n",
    "        with open(filepath, 'rb') as f:\n",
    "            for line in f.readlines():\n",
    "                detector.feed(line)\n",
    "                if detector.done:\n",
    "                    break\n",
    "        detector.close()\n",
    "        encoding = detector.result['encoding']\n",
    "        with open(filepath, encoding=encoding) as f:\n",
    "            return f.read()\n",
    "\n",
    "def parse_html_payload(payload):\n",
    "    \"\"\"\n",
    "    This function uses Beautiful Soup to read HTML data\n",
    "    and return the text.  If the payload is plain text, then\n",
    "    Beautiful Soup will return the original content\n",
    "    \"\"\"\n",
    "    soup = BeautifulSoup(payload, 'html.parser')\n",
    "    return str(soup.get_text()).encode('utf-8').decode('utf-8')\n",
    "\n",
    "def load_dataset(dir_path):\n",
    "    \n",
    "    text = []\n",
    "    targets = []\n",
    "    \n",
    "    #//*** Load Validation Data\n",
    "    for category in (\"neg\", \"pos\"):\n",
    "        files = os.listdir(dir_path.joinpath(category))\n",
    "        \n",
    "        for file in files:\n",
    "            try:\n",
    "                #//*** Add processed file to text\n",
    "                text.append(\n",
    "                    #//*** Strip HTML Tags\n",
    "                    parse_html_payload(\n",
    "                        #//*** Read File from disk. Function uses Universal Detector to determine file encoding\n",
    "                        read_file_with_encoding(\n",
    "                            dir_path.joinpath(category).joinpath(file))))\n",
    "\n",
    "                #//*** Append Target Value\n",
    "                if category == 'neg':\n",
    "                    targets.append(0)\n",
    "                else:\n",
    "                    targets.append(1)\n",
    "            except:\n",
    "                print(f\"Dropping File: {file} due to decoding issues\")\n",
    "    return text,targets\n",
    "print(\"Loading Raw Validation Set\")\n",
    "raw_val_text, val_targets = load_dataset(val_dir)\n",
    "\n",
    "print(\"Loading Raw Train Data\")\n",
    "raw_train_text, train_targets = load_dataset(train_dir)\n",
    "\n",
    "print(\"Loading Raw Test Data\")\n",
    "raw_test_text, test_targets = load_dataset(test_dir)\n",
    "print(\"Done\")"
   ]
  },
  {
   "cell_type": "markdown",
   "metadata": {},
   "source": [
    "# Assignment 10.1 #"
   ]
  },
  {
   "cell_type": "code",
   "execution_count": 78,
   "metadata": {},
   "outputs": [
    {
     "name": "stdout",
     "output_type": "stream",
     "text": [
      "max: 1000\n",
      "['airport', '77', 'starts', 'as', 'a', 'brand', 'new', 'luxury', '747', 'plane', 'is', 'loaded', 'up', 'with', 'valuable', 'paintings', 'such', 'belonging', 'to', 'rich', 'businessman', 'philip', 'stevens', 'james', 'stewart', 'who', 'is', 'flying', 'them', 'a', 'bunch', 'of', 'vips', 'to', 'his', 'estate', 'in', 'preparation', 'of', 'it', 'being', 'opened', 'to', 'the', 'public', 'as', 'a', 'museum', 'also', 'on', 'board', 'is', 'stevens', 'daughter', 'julie', 'kathleen', 'quinlan', 'her', 'son', 'the', 'luxury', 'jetliner', 'takes', 'off', 'as', 'planned', 'but', 'midair', 'the', 'plane', 'is', 'hijacked', 'by', 'the', 'copilot', 'chambers', 'robert', 'foxworth', 'his', 'two', 'accomplices', 'banker', 'monte', 'markham', 'wilson', 'michael', 'pataki', 'who', 'knock', 'the', 'passengers', 'crew', 'out', 'with', 'sleeping', 'gas', 'they', 'plan', 'to', 'steal', 'the', 'valuable', 'cargo', 'land', 'on', 'a', 'disused', 'plane', 'strip', 'on', 'an', 'isolated', 'island', 'but', 'while', 'making', 'his', 'descent', 'chambers', 'almost', 'hits', 'an', 'oil', 'rig', 'in', 'the', 'ocean', 'loses', 'control', 'of', 'the', 'plane', 'sending', 'it', 'crashing', 'into', 'the', 'sea', 'where', 'it', 'sinks', 'to', 'the', 'bottom', 'right', 'bang', 'in', 'the', 'middle', 'of', 'the', 'bermuda', 'triangle', 'with', 'air', 'in', 'short', 'supply', 'water', 'leaking', 'in', 'having', 'flown', 'over', '200', 'miles', 'off', 'course', 'the', 'problems', 'mount', 'for', 'the', 'survivors', 'as', 'they', 'await', 'help', 'with', 'time', 'fast', 'running', 'outalso', 'known', 'under', 'the', 'slightly', 'different', 'tile', 'airport', '1977', 'this', 'second', 'sequel', 'to', 'the', 'smashhit', 'disaster', 'thriller', 'airport', '1970', 'was', 'directed', 'by', 'jerry', 'jameson', 'while', 'once', 'again', 'like', 'its', 'predecessors', 'i', 'cant', 'say', 'airport', '77', 'is', 'any', 'sort', 'of', 'forgotten', 'classic', 'it', 'is', 'entertaining', 'although', 'not', 'necessarily', 'for', 'the', 'right', 'reasons', 'out', 'of', 'the', 'three', 'airport', 'films', 'i', 'have', 'seen', 'so', 'far', 'i', 'actually', 'liked', 'this', 'one', 'the', 'best', 'just', 'it', 'has', 'my', 'favourite', 'plot', 'of', 'the', 'three', 'with', 'a', 'nice', 'midair', 'hijacking', 'then', 'the', 'crashing', 'didnt', 'he', 'see', 'the', 'oil', 'rig', 'sinking', 'of', 'the', '747', 'maybe', 'the', 'makers', 'were', 'trying', 'to', 'cross', 'the', 'original', 'airport', 'with', 'another', 'popular', 'disaster', 'flick', 'of', 'the', 'period', 'the', 'poseidon', 'adventure', '1972', 'submerged', 'is', 'where', 'it', 'stays', 'until', 'the', 'end', 'with', 'a', 'stark', 'dilemma', 'facing', 'those', 'trapped', 'inside', 'either', 'suffocate', 'when', 'the', 'air', 'runs', 'out', 'or', 'drown', 'as', 'the', '747', 'floods', 'or', 'if', 'any', 'of', 'the', 'doors', 'are', 'opened', 'its', 'a', 'decent', 'idea', 'that', 'could', 'have', 'made', 'for', 'a', 'great', 'little', 'disaster', 'flick', 'but', 'bad', 'unsympathetic', 'characters', 'dull', 'dialogue', 'lethargic', 'setpieces', 'a', 'real', 'lack', 'of', 'danger', 'or', 'suspense', 'or', 'tension', 'means', 'this', 'is', 'a', 'missed', 'opportunity', 'while', 'the', 'rather', 'sluggish', 'plot', 'keeps', 'one', 'entertained', 'for', '108', 'odd', 'minutes', 'not', 'that', 'much', 'happens', 'after', 'the', 'plane', 'sinks', 'theres', 'not', 'as', 'much', 'urgency', 'as', 'i', 'thought', 'there', 'should', 'have', 'been', 'even', 'when', 'the', 'navy', 'become', 'involved', 'things', 'dont', 'pick', 'up', 'that', 'much', 'with', 'a', 'few', 'shots', 'of', 'huge', 'ships', 'helicopters', 'flying', 'about', 'but', 'theres', 'just', 'something', 'lacking', 'here', 'george', 'kennedy', 'as', 'the', 'jinxed', 'airline', 'worker', 'joe', 'patroni', 'is', 'back', 'but', 'only', 'gets', 'a', 'couple', 'of', 'scenes', 'barely', 'even', 'says', 'anything', 'preferring', 'to', 'just', 'look', 'worried', 'in', 'the', 'backgroundthe', 'home', 'video', 'theatrical', 'version', 'of', 'airport', '77', 'run', '108', 'minutes', 'while', 'the', 'us', 'tv', 'versions', 'add', 'an', 'extra', 'hour', 'of', 'footage', 'including', 'a', 'new', 'opening', 'credits', 'sequence', 'many', 'more', 'scenes', 'with', 'george', 'kennedy', 'as', 'patroni', 'flashbacks', 'to', 'flesh', 'out', 'characters', 'longer', 'rescue', 'scenes', 'the', 'discovery', 'or', 'another', 'couple', 'of', 'dead', 'bodies', 'including', 'the', 'navigator', 'while', 'i', 'would', 'like', 'to', 'see', 'this', 'extra', 'footage', 'i', 'am', 'not', 'sure', 'i', 'could', 'sit', 'through', 'a', 'near', 'three', 'hour', 'cut', 'of', 'airport', '77', 'as', 'expected', 'the', 'film', 'has', 'dated', 'badly', 'with', 'horrible', 'fashions', 'interior', 'design', 'choices', 'i', 'will', 'say', 'no', 'more', 'other', 'than', 'the', 'toy', 'plane', 'model', 'effects', 'arent', 'great', 'either', 'along', 'with', 'the', 'other', 'two', 'airport', 'sequels', 'this', 'takes', 'pride', 'of', 'place', 'in', 'the', 'razzie', 'awards', 'hall', 'of', 'shame', 'although', 'i', 'can', 'think', 'of', 'lots', 'of', 'worse', 'films', 'than', 'this', 'so', 'i', 'reckon', 'thats', 'a', 'little', 'harsh', 'the', 'action', 'scenes', 'are', 'a', 'little', 'dull', 'unfortunately', 'the', 'pace', 'is', 'slow', 'not', 'much', 'excitement', 'or', 'tension', 'is', 'generated', 'which', 'is', 'a', 'shame', 'as', 'i', 'reckon', 'this', 'could', 'have', 'been', 'a', 'pretty', 'good', 'film', 'if', 'made', 'properlythe', 'production', 'values', 'are', 'alright', 'if', 'nothing', 'spectacular', 'the', 'acting', 'isnt', 'great', 'two', 'time', 'oscar', 'winner', 'jack', 'lemmon', 'has', 'said', 'since', 'it', 'was', 'a', 'mistake', 'to', 'star', 'in', 'this', 'one', 'time', 'oscar', 'winner', 'james', 'stewart', 'looks', 'old', 'frail', 'also', 'one', 'time', 'oscar', 'winner', 'lee', 'grant', 'looks', 'drunk', 'while', 'sir', 'christopher', 'lee', 'is', 'given', 'little', 'to', 'do', 'there', 'are', 'plenty', 'of', 'other', 'familiar', 'faces', 'to', 'look', 'out', 'for', 'tooairport', '77', 'is', 'the', 'most', 'disaster', 'orientated', 'of', 'the', 'three', 'airport', 'films', 'so', 'far', 'i', 'liked', 'the', 'ideas', 'behind', 'it', 'even', 'if', 'they', 'were', 'a', 'bit', 'silly', 'the', 'production', 'bland', 'direction', 'doesnt', 'help', 'though', 'a', 'film', 'about', 'a', 'sunken', 'plane', 'just', 'shouldnt', 'be', 'this', 'boring', 'or', 'lethargic', 'followed', 'by', 'the', 'concorde', 'airport', '79', '1979']\n",
      "===\n",
      "['this', 'film', 'lacked', 'something', 'i', 'couldnt', 'put', 'my', 'finger', 'on', 'at', 'first', 'charisma', 'on', 'the', 'part', 'of', 'the', 'leading', 'actress', 'this', 'inevitably', 'translated', 'to', 'lack', 'of', 'chemistry', 'when', 'she', 'shared', 'the', 'screen', 'with', 'her', 'leading', 'man', 'even', 'the', 'romantic', 'scenes', 'came', 'across', 'as', 'being', 'merely', 'the', 'actors', 'at', 'play', 'it', 'could', 'very', 'well', 'have', 'been', 'the', 'director', 'who', 'miscalculated', 'what', 'he', 'needed', 'from', 'the', 'actors', 'i', 'just', 'dont', 'knowbut', 'could', 'it', 'have', 'been', 'the', 'screenplay', 'just', 'exactly', 'who', 'was', 'the', 'chef', 'in', 'love', 'with', 'he', 'seemed', 'more', 'enamored', 'of', 'his', 'culinary', 'skills', 'and', 'restaurant', 'and', 'ultimately', 'of', 'himself', 'and', 'his', 'youthful', 'exploits', 'than', 'of', 'anybody', 'or', 'anything', 'else', 'he', 'never', 'convinced', 'me', 'he', 'was', 'in', 'love', 'with', 'the', 'princessi', 'was', 'disappointed', 'in', 'this', 'movie', 'but', 'dont', 'forget', 'it', 'was', 'nominated', 'for', 'an', 'oscar', 'so', 'judge', 'for', 'yourself']\n",
      "===\n",
      "['sorry', 'everyone', 'i', 'know', 'this', 'is', 'supposed', 'to', 'be', 'an', 'art', 'film', 'but', 'wow', 'they', 'should', 'have', 'handed', 'out', 'guns', 'at', 'the', 'screening', 'so', 'people', 'could', 'blow', 'their', 'brains', 'out', 'and', 'not', 'watch', 'although', 'the', 'scene', 'design', 'and', 'photographic', 'direction', 'was', 'excellent', 'this', 'story', 'is', 'too', 'painful', 'to', 'watch', 'the', 'absence', 'of', 'a', 'sound', 'track', 'was', 'brutal', 'the', 'loooonnnnng', 'shots', 'were', 'too', 'long', 'how', 'long', 'can', 'you', 'watch', 'two', 'people', 'just', 'sitting', 'there', 'and', 'talking', 'especially', 'when', 'the', 'dialogue', 'is', 'two', 'people', 'complaining', 'i', 'really', 'had', 'a', 'hard', 'time', 'just', 'getting', 'through', 'this', 'film', 'the', 'performances', 'were', 'excellent', 'but', 'how', 'much', 'of', 'that', 'dark', 'sombre', 'uninspired', 'stuff', 'can', 'you', 'take', 'the', 'only', 'thing', 'i', 'liked', 'was', 'maureen', 'stapleton', 'and', 'her', 'red', 'dress', 'and', 'dancing', 'scene', 'otherwise', 'this', 'was', 'a', 'ripoff', 'of', 'bergman', 'and', 'im', 'no', 'fan', 'f', 'his', 'either', 'i', 'think', 'anyone', 'who', 'says', 'they', 'enjoyed', '1', '12', 'hours', 'of', 'this', 'is', 'well', 'lying']\n",
      "===\n",
      "['vijay', 'krishna', 'acharyas', 'tashan', 'is', 'a', 'overhyped', 'stylized', 'product', 'sure', 'its', 'a', 'one', 'of', 'the', 'most', 'stylish', 'films', 'but', 'when', 'it', 'comes', 'to', 'content', 'even', 'the', 'masses', 'will', 'reject', 'this', 'one', 'why', 'the', 'films', 'script', 'is', 'as', 'amateur', 'as', 'a', '2', 'year', 'old', 'baby', 'script', 'is', 'king', 'without', 'a', 'good', 'script', 'even', 'the', 'greatest', 'director', 'of', 'alltime', 'cannot', 'do', 'anything', 'tashan', 'is', 'produced', 'by', 'the', 'most', 'successful', 'production', 'banner', 'yash', 'raj', 'films', 'and', 'mega', 'stars', 'appearing', 'in', 'it', 'but', 'nothing', 'on', 'earth', 'can', 'save', 'you', 'if', 'you', 'script', 'is', 'bland', 'thumbs', 'down', 'performances', 'anil', 'kapoor', 'is', 'a', 'veteran', 'actor', 'but', 'how', 'could', 'he', 'okay', 'a', 'role', 'like', 'this', 'akshay', 'kumar', 'is', 'great', 'actor', 'in', 'fact', 'hes', 'the', 'sole', 'saving', 'grace', 'kareena', 'kapoor', 'has', 'never', 'looked', 'so', 'hot', 'she', 'looks', 'stunning', 'and', 'leaves', 'you', 'all', 'stand', 'up', 'saif', 'ali', 'khan', 'doesnt', 'get', 'his', 'due', 'in', 'here', 'sanjay', 'mishra', 'manoj', 'phawa', 'and', 'yashpal', 'sharma', 'are', 'wastedtashan', 'is', 'a', 'boring', 'film', 'the', 'films', 'failure', 'at', 'the', 'box', 'office', 'should', 'you', 'keep', 'away']\n",
      "===\n",
      "['the', 'worst', 'movie', 'i', 'have', 'seen', 'since', 'tera', 'jadoo', 'chal', 'gaya', 'there', 'is', 'no', 'story', 'no', 'humor', 'no', 'nothing', 'the', 'action', 'sequences', 'seem', 'more', 'like', 'a', 'series', 'of', 'haphazard', 'akshay', 'kumar', 'thumbsup', 'advertisements', 'stitched', 'together', 'heavily', 'influenced', 'from', 'the', 'matrix', 'and', 'kungfu', 'hustle', 'but', 'very', 'poorly', 'executedi', 'did', 'not', 'go', 'a', 'lot', 'of', 'expectations', 'but', 'watching', 'this', 'movie', 'is', 'an', 'exasperating', 'experience', 'which', 'makes', 'you', 'wonder', 'what', 'were', 'these', 'guys', 'thinkingthe', 'only', 'thing', 'you', 'might', 'remember', 'after', 'watching', 'it', 'is', 'an', 'anorexic', 'kareena', 'in', 'a', 'bikinithe', 'reason', 'why', 'i', 'did', 'not', 'give', 'a', 'rating', 'of', '1', 'is', 'that', 'every', 'time', 'i', 'think', 'i', 'have', 'seen', 'the', 'worst', 'bollywood', 'proves', 'me', 'wrong']\n",
      "===\n",
      "['shame', 'on', 'yash', 'raj', 'films', 'and', 'aditya', 'chopra', 'who', 'seems', 'to', 'have', 'lost', 'their', 'intelligence', 'over', 'the', 'years', 'and', 'providing', 'steady', 'fare', 'of', 'tripe', 'in', 'this', 'piece', 'of', 'cinematic', 'crap', 'thats', 'not', 'even', 'worth', 'you', 'tube', 'standards', 'i', 'was', 'gritting', 'my', 'teeth', 'throughout', 'the', 'whole', 'flick', 'start', 'to', 'finish', 'with', 'the', 'schizophrenic', 'direction', 'plot', 'line', 'that', 'never', 'quite', 'materialized', 'and', 'on', 'the', 'last', 'scene', 'i', 'just', 'felt', 'ashamed', 'that', 'my', 'country', 'and', 'its', 'crorepati', 'film', 'makers', 'can', 'throw', 'away', 'crores', 'on', 'such', 'stupidity', 'shame', 'on', 'the', 'actors', 'for', 'taking', 'this', 'work', 'and', 'even', 'commenting', 'on', 'it', 'as', 'some', 'piece', 'of', 'work', 'they', 'can', 'own', 'up', 'to', 'saif', 'ali', 'khan', 'completely', 'disappointed', 'in', 'your', 'choice', 'of', 'film', 'kareen', 'shows', 'enough', 'skin', 'for', 'the', 'puberty', 'stricken', 'and', 'akshay', 'comes', 'up', 'as', 'the', 'dimwit', 'anil', 'another', 'retard', 'with', 'a', 'pubescent', 'fascination', 'for', 'english', 'his', 'cronies', 'were', 'commendable', 'in', 'their', 'acting', 'and', 'with', 'the', 'bizarre', 'cinematography', 'scattered', 'in', 'the', 'last', '15', 'minutes', 'it', 'was', 'enough', 'to', 'pop', 'a', 'blood', 'vessel', 'dont', 'waste', 'any', 'brain', 'cells', 'energy', 'or', 'your', 'money', 'to', 'go', 'see', 'this', 'go', 'see', 'rent', 'amu', 'with', 'konkana', 'sensharma', 'instead', 'a', 'beautiful', 'piece', 'of', 'independent', 'film', 'thats', 'ever', 'come', 'out', 'of', 'indiaintelligent', 'poignant', 'and', 'a', 'wonderful', 'storytale', 'that', 'will', 'touch', 'everyone', 'with', 'intelligent', 'actors', 'and', 'gave', 'me', 'hope', 'that', 'all', 'is', 'not', 'lost', 'in', 'indian', 'cinema', 'making']\n",
      "===\n",
      "['tashan', 'the', 'title', 'itself', 'explains', 'the', 'nature', 'of', 'the', 'moviethis', 'type', 'of', 'movies', 'are', 'actually', 'made', 'for', 'flop', 'what', 'a', 'shame', 'that', 'yash', 'raj', 'films', 'produces', 'such', 'movies', 'those', 'are', 'worthless', 'than', 'cgrade', 'movies', 'or', 'even', 'some', 'cgrade', 'movies', 'have', 'better', 'and', 'pleasing', 'story', 'than', 'tashan', 'the', 'much', 'hyped', 'and', 'overconfidently', 'promoted', 'tashan', 'poorly', 'bombed', 'at', 'the', 'boxoffice', 'which', 'it', 'certainly', 'deservedin', 'my', 'view', 'this', 'is', 'the', 'worst', 'movie', 'ever', 'made', 'from', 'honourable', 'yash', 'raj', 'films', 'banner', 'how', 'come', 'they', 'handled', 'such', 'a', 'heavy', 'project', 'to', 'new', 'vijay', 'krishna', 'acharya', 'who', 'has', 'no', 'actual', 'sense', 'of', 'making', 'action', 'flick', 'he', 'tried', 'to', 'imitate', 'sanjay', 'gadhvis', 'ways', 'of', 'making', 'like', 'dhoom', 'but', 'he', 'suffered', 'at', 'last', 'the', 'action', 'scenes', 'are', 'more', 'like', 'than', 'comics', 'or', 'cartoon', 'movies', 'made', 'for', 'exhausting', 'the', 'audiencesthe', 'story', 'also', 'loses', 'in', 'its', 'meaning', 'and', 'substances', 'to', 'tenderly', 'win', 'the', 'audiences', 'hearts', 'in', 'most', 'scenes', 'anil', 'kapoor', 'reminds', 'me', 'of', 'southern', 'tamil', 'star', 'rajnikant', 'in', 'his', 'body', 'languages', 'and', 'wordly', 'expressions', 'i', 'am', 'not', 'a', 'fan', 'of', 'neither', 'saif', 'nor', 'akshay', 'but', 'the', 'award', 'of', 'kareena', 'should', 'have', 'finally', 'gone', 'to', 'saifs', 'hand', 'instead', 'of', 'akshay', 'just', 'from', 'the', 'starting', 'point', 'i', 'expected', 'of', 'it', 'but', 'at', 'the', 'end', 'it', 'displeased', 'me', 'with', 'the', 'climax', 'truth', 'saif', 'is', 'the', 'main', 'behind', 'the', 'whole', 'adventure', 'while', 'akshay', 'joins', 'in', 'the', 'midst', 'in', 'any', 'movie', 'the', 'final', 'should', 'be', 'judged', 'with', 'the', 'whole', 'characters', 'of', 'the', 'entire', 'story', 'and', 'the', 'award', 'or', 'say', 'reward', 'should', 'be', 'given', 'to', 'the', 'one', 'who', 'deserves', 'credit', 'and', 'tashan', 'loses', 'in', 'this', 'way', 'and', 'unexpectedly', 'failed', 'to', 'become', 'a', 'hitakshays', 'has', 'nothing', 'new', 'to', 'show', 'off', 'his', 'comedian', 'talent', 'here', 'but', 'still', 'reminds', 'of', 'his', 'previous', 'movies', 'he', 'seriously', 'need', 'to', 'form', 'a', 'new', 'image', 'to', 'his', 'fans', 'that', 'would', 'impress', 'them', 'again', 'and', 'again', 'in', 'between', 'saif', 'did', 'a', 'great', 'job', 'in', 'race', 'and', 'now', 'he', 'returned', 'again', 'in', 'his', 'hilarious', 'nature', 'through', 'this', 'movie', 'but', 'he', 'has', 'fully', 'developed', 'himself', 'in', 'the', 'acting', 'field', 'and', 'last', 'but', 'not', 'the', 'least', 'about', 'kareena', 'she', 'looks', 'really', 'hot', 'with', 'bikini', 'dress', 'of', 'which', 'some', 'complain', 'as', 'she', 'became', 'too', 'lean', 'but', 'i', 'myself', 'dont', 'think', 'so', 'instead', 'she', 'became', 'slim', 'yes', 'slim', 'it', 'is', 'a', 'good', 'factor', 'for', 'a', 'female', 'to', 'attract', 'the', 'major', 'people', 'or', 'say', 'male', 'beside', 'them', 'it', 'is', 'nice', 'that', 'saifs', 'son', 'ibrahim', 'appears', 'in', 'the', 'beginning', 'last', 'as', 'young', 'saif', 'i', 'hope', 'now', 'he', 'too', 'will', 'lean', 'forward', 'in', 'target', 'of', 'making', 'acting', 'as', 'his', 'careerthose', 'who', 'like', 'this', 'tashan', 'they', 'are', 'either', 'mentally', 'immatured', 'or', 'still', 'want', 'to', 'go', 'back', 'to', 'childhood', 'or', 'say', 'want', 'to', 'be', 'admitted', 'in', 'an', 'asylum', 'thumbs', 'down', 'to', 'debutante', 'director', 'vijay', 'krishna', 'acharya', 'who', 'mishandled', 'the', 'project', 'offered', 'by', 'yash', 'raj', 'films', 'in', 'future', 'he', 'should', 'experiment', 'and', 'study', 'the', 'script', 'minimum', 'of', '5', 'years', 'before', 'going', 'into', 'practical', 'directionssorry', 'i', 'dont', 'like', 'to', 'rate', 'good', 'stars', 'to', 'this', 'type', 'of', 'junk', 'movies']\n",
      "===\n",
      "['i', 'was', 'very', 'displeased', 'with', 'this', 'move', 'everything', 'was', 'terrible', 'from', 'the', 'start', 'the', 'comedy', 'was', 'unhumorous', 'the', 'action', 'overdone', 'the', 'songs', 'unmelodious', 'even', 'the', 'storyline', 'was', 'weightless', 'from', 'a', 'writer', 'who', 'has', 'written', 'successful', 'scripts', 'like', 'guru', 'and', 'dhoom', 'i', 'had', 'high', 'expectations', 'the', 'actors', 'worked', 'way', 'too', 'hard', 'and', 'did', 'not', 'help', 'the', 'film', 'at', 'all', 'of', 'course', 'kareena', 'rocked', 'the', 'screen', 'in', 'a', 'bikini', 'but', 'for', 'two', 'seconds', 'i', 'think', 'hindi', 'stunt', 'directors', 'should', 'research', 'how', 'action', 'movies', 'are', 'done', 'they', 'tend', 'to', 'exaggerate', 'way', 'too', 'much', 'in', 'chinese', 'films', 'this', 'style', 'works', 'because', 'that', 'is', 'their', 'signature', 'piece', 'but', 'hindi', 'cinemas', 'signature', 'are', 'the', 'songs', 'a', 'good', 'action', 'movie', 'should', 'last', 'no', 'more', 'than', 'two', 'hours', 'and', 'cannot', 'look', 'unrealistic', 'but', 'in', 'the', 'future', 'im', 'sure', 'these', 'action', 'movies', 'will', 'get', 'much', 'sharper', 'also', 'to', 'be', 'noted', 'comedy', 'and', 'action', 'films', 'do', 'not', 'mix', 'unless', 'done', 'properly', 'good', 'luck', 'next', 'time']\n",
      "===\n",
      "['such', 'a', 'long', 'awaited', 'movie', 'but', 'it', 'has', 'disappointed', 'me', 'and', 'my', 'friends', 'who', 'had', 'gone', 'to', 'see', 'the', 'movie', 'on', 'the', 'first', 'day', 'from', 'the', 'trailers', 'it', 'looked', 'like', 'a', 'action', 'movie', 'but', 'it', 'turned', 'out', 'to', 'be', 'a', 'out', 'out', 'comedya', 'bad', 'comedy', 'but', 'one', 'thing', 'that', 'deserves', 'appreciation', 'is', 'the', 'acting', 'by', 'these', 'professional', 'actors', 'theyve', 'done', 'their', 'part', 'of', 'the', 'movie', 'very', 'well', 'good', 'acting', 'but', 'i', 'dont', 'think', 'that', 'can', 'save', 'the', 'movie', 'india', 'has', 'been', 'shot', 'beautifully', 'kerala', 'rajasthan', 'ladakh', 'were', 'all', 'saturated', 'with', 'color', 'alright', 'nevertheless', 'the', 'way', 'the', 'intrinsic', 'beauty', 'of', 'these', 'places', 'was', 'shot', 'made', 'me', 'want', 'to', 'find', 'out', 'exactly', 'where', 'those', 'places', 'were', 'and', 'when', 'i', 'could', 'go', 'there', 'action', 'sequences', 'were', 'shot', 'very', 'shabbily', 'no', 'one', 'could', 'make', 'out', 'head', 'tail', 'of', 'the', 'stunts', 'theyve', 'used', 'akkiakshay', 'kumar', 'very', 'well', 'but', 'couldve', 'been', 'done', 'much', 'much', 'betteranimation', 'is', 'the', 'worst', 'ive', 'seen', 'in', 'recent', 'movies90s', 'movies', 'had', 'better', 'animation', 'scenes', 'i', 'guessinitial', 'scene', 'where', 'the', 'car', 'is', 'falling', 'off', 'flying', 'should', 'be', 'better', 'word', 'the', 'road', 'into', 'lakeand', 'the', 'movies', 'name', 'has', 'been', 'mentioned', 'nearly', 'every', '20', 'to', '30', 'mins', 'just', 'to', 'make', 'sure', 'audiences', 'dont', 'forget', 'the', 'movie', 'name', 'i', 'guess']\n",
      "===\n",
      "['this', 'is', 'the', 'biggest', 'flop', 'of', '2008', 'i', 'don', 'know', 'what', 'director', 'has', 'is', 'his', 'mind', 'of', 'creating', 'such', 'a', 'big', 'disaster', 'the', 'songs', 'have', 'been', 'added', 'without', 'situations', 'the', 'story', 'have', 'been', 'stretched', 'to', 'fill', 'the', '3', 'hrs', 'gap', 'and', 'most', 'disgusting', 'are', 'the', 'action', 'stunts', 'performed', 'by', 'the', 'actors', 'its', 'like', 'everyone', 'are', 'having', 'superpowers', 'they', 'can', 'run', 'in', 'between', 'the', 'bullets', 'are', 'fire', 'and', 'nothing', 'happens', 'to', 'them', 'and', 'one', 'person', 'fighting', 'with', '100', 'people', 'only', 'the', 'best', 'performance', 'was', 'by', 'anil', 'kapoor', 'man', 'he', 'is', 'all', 'time', 'at', 'his', 'best', 'playing', 'the', 'role', 'of', 'villain', 'with', 'a', 'comic', 'act', 'speaking', 'hinglish', 'akki', 'is', 'also', 'done', 'a', 'good', 'job', 'but', 'the', 'movieee', 'just', 'forget', 'it']\n",
      "===\n",
      "\n"
     ]
    }
   ],
   "source": [
    "#//*** Vectorize a corpus\n",
    "class Vectorizer:\n",
    "    def __init__(self,**kwargs):\n",
    "        self.tokens = []\n",
    "        self.ngrams = []\n",
    "        self.encoded = []\n",
    "        self.max_tokens = None\n",
    "        \n",
    "        for key,value in kwargs.items():\n",
    "            if key ==\"max_tokens\":\n",
    "                self.max_tokens = value\n",
    "            \n",
    "        print(\"max:\", self.max_tokens)\n",
    "        \n",
    "        \n",
    "        #//*** One Hot Encoding Dictionaries\n",
    "        #//*** Key = Token Index, Value = Word\n",
    "        self.token_index = {}\n",
    "        \n",
    "        #//*** Key = Word, Value = Token Index\n",
    "        self.vocabulary_index = {}\n",
    "        \n",
    "    def tokenize(self,raw_text):\n",
    "        #//*** Initialize Output Tokens\n",
    "        tokens = []\n",
    "\n",
    "        #//*** Split Text into words\n",
    "        for x in re.split(\"\\s\",raw_text):\n",
    "\n",
    "            #//*** Findall Non text characters in each word\n",
    "            non_text = re.findall(\"\\W\",x)\n",
    "\n",
    "            #//*** Remove non_text Characters\n",
    "            for i in non_text:\n",
    "                x = x.replace(i,\"\")\n",
    "\n",
    "            #//*** If X has length, append out\n",
    "            if len(x) > 0:\n",
    "                tokens.append(x.lower())\n",
    "        return tokens\n",
    "\n",
    "    def build_ngrams(self, ngram_size):\n",
    "        if ngram_size <= 0:\n",
    "            print(\"Ngram size must be an integer > 1 and < tokens size\")\n",
    "            print(\"Quitting!\")\n",
    "            return None\n",
    "\n",
    "        if ngram_size >= len(self.tokens)-1:\n",
    "            print(\"Ngram size must be an integer > 1 and < tokens size\")\n",
    "            print(\"Quitting!\")\n",
    "            return None\n",
    "\n",
    "        self.ngrams = []\n",
    "        \n",
    "        \n",
    "        #//*** Use an index based range to loop through tokens\n",
    "        for x in range(0,len(self.tokens) ):\n",
    "\n",
    "            #//*** Check if index + ngram_size exceeds the length of tokens\n",
    "            if x+ngram_size <= len(self.tokens):\n",
    "\n",
    "                result = \"\"\n",
    "\n",
    "                #//*** Build the ngram\n",
    "                for y in range(ngram_size):\n",
    "                    result += self.tokens[x+y] + \" \"\n",
    "                \n",
    "                self.ngrams.append(result[:-1])\n",
    "            \n",
    "            else:\n",
    "                break\n",
    "\n",
    "    def one_hot_encode(self):\n",
    "        #//*** If ngrams Not built use tokens, defaulting to unigrams\n",
    "        if len(self.ngrams) == 0:\n",
    "            self.ngrams = self.tokens\n",
    "        \n",
    "        #//*** Build dictionary of unique words\n",
    "        for word in self.ngrams:\n",
    "            \n",
    "            #//*** Add unique words to dictionaries\n",
    "            if word not in self.token_index.values():\n",
    "                index = len(self.token_index.values())\n",
    "                self.token_index[ index ] = word\n",
    "                self.vocabulary_index [ word ] = index\n",
    "\n",
    "        #//*** With dictionary built, hot encode each word\n",
    "        for word in self.ngrams:\n",
    "            \n",
    "            #//*** Generate Array of Zeroes of Vocabulary length \n",
    "            encoded_text = list(np.zeros(index+1,dtype = int))\n",
    "            \n",
    "            #//*** Set Index of Vocabulary Word to 1\n",
    "            encoded_text[ self.vocabulary_index[word] ] = 1\n",
    "            \n",
    "            #//*** Add the one-hot-encoded word to encoded text\n",
    "            self.encoded.append(encoded_text)\n",
    "    \n",
    "    def build_vocabulary(self,corpus):\n",
    "        \n",
    "        if not isinstance(corpus,list) :\n",
    "            print(\"Vectorizer Requires a corpus (list of text):\")\n",
    "            return None\n",
    "        self.tokens = []\n",
    "        \n",
    "        for raw_text in corpus:\n",
    "            self.tokens.append(self.tokenize(raw_text))\n",
    "        \n",
    "        \n",
    "            \n",
    "vectorizer = Vectorizer(max_tokens=1000)\n",
    "\n",
    "vectorizer.build_vocabulary(raw_val_text[:10])\n",
    "for x in vectorizer.tokens:\n",
    "    print(x)\n",
    "    print(\"===\")\n",
    "#vectorizer.tokenize(sample_text)\n",
    "#vectorizer.build_ngrams(2)\n",
    "#vectorizer.one_hot_encode()\n",
    "#vectorizer.ngrams[:10]\n",
    "\"\"\"\n",
    "print(\"Sample Text:\")\n",
    "#print(sample_text)\n",
    "print()\n",
    "print(\"Tokens:\")\n",
    "print(vectorizer.tokens)\n",
    "print()\n",
    "print(\"ngrams:\")\n",
    "print(vectorizer.ngrams)\n",
    "print()\n",
    "print(\"Encoded:\")\n",
    "print(vectorizer.encoded[:5])\n",
    "print()\n",
    "print(\"Encoded Vocabulary\")\n",
    "print(vectorizer.vocabulary_index)\n",
    "\"\"\"\n",
    "print()\n"
   ]
  },
  {
   "cell_type": "code",
   "execution_count": 4,
   "metadata": {},
   "outputs": [
    {
     "data": {
      "text/plain": [
       "['CustomObjectScope',\n",
       " 'GeneratorEnqueuer',\n",
       " 'OrderedEnqueuer',\n",
       " 'Progbar',\n",
       " 'Sequence',\n",
       " 'SequenceEnqueuer',\n",
       " '__builtins__',\n",
       " '__cached__',\n",
       " '__doc__',\n",
       " '__file__',\n",
       " '__loader__',\n",
       " '__name__',\n",
       " '__package__',\n",
       " '__path__',\n",
       " '__spec__',\n",
       " '_sys',\n",
       " 'array_to_img',\n",
       " 'custom_object_scope',\n",
       " 'deserialize_keras_object',\n",
       " 'experimental',\n",
       " 'get_custom_objects',\n",
       " 'get_file',\n",
       " 'get_registered_name',\n",
       " 'get_registered_object',\n",
       " 'get_source_inputs',\n",
       " 'image_dataset_from_directory',\n",
       " 'img_to_array',\n",
       " 'load_img',\n",
       " 'model_to_dot',\n",
       " 'normalize',\n",
       " 'pack_x_y_sample_weight',\n",
       " 'plot_model',\n",
       " 'register_keras_serializable',\n",
       " 'save_img',\n",
       " 'serialize_keras_object',\n",
       " 'text_dataset_from_directory',\n",
       " 'timeseries_dataset_from_array',\n",
       " 'to_categorical',\n",
       " 'unpack_x_y_sample_weight']"
      ]
     },
     "execution_count": 4,
     "metadata": {},
     "output_type": "execute_result"
    }
   ],
   "source": [
    "dir(keras.utils)"
   ]
  },
  {
   "cell_type": "code",
   "execution_count": 35,
   "metadata": {},
   "outputs": [],
   "source": [
    "#//*** Randomly assign 20% of the training Data and copy to a validation folder\n",
    "import os, pathlib, shutil, random\n",
    "\n",
    "val_dir = imdb_path.joinpath(\"val\")\n",
    "train_dir = imdb_path.joinpath(\"train\")\n",
    "test_dir = imdb_path.joinpath(\"test\")\n",
    "\n",
    "for category in (\"neg\", \"pos\"):\n",
    "    #//*** Skip if val folder exists (Delete Folder to resample)\n",
    "    if os.path.exists(val_dir.joinpath(category)):\n",
    "        break\n",
    "    \n",
    "    os.makedirs(val_dir.joinpath(category))\n",
    "    files = os.listdir(train_dir.joinpath(category))\n",
    "    random.Random(1337).shuffle(files)\n",
    "    num_val_samples = int(0.2 * len(files))\n",
    "    val_files = files[-num_val_samples:]\n",
    "    for fname in val_files:\n",
    "        shutil.move(train_dir / category / fname,\n",
    "                    val_dir / category / fname)\n",
    "\n"
   ]
  },
  {
   "cell_type": "code",
   "execution_count": 49,
   "metadata": {},
   "outputs": [
    {
     "name": "stdout",
     "output_type": "stream",
     "text": [
      "[\"Airport '77 starts as a brand new luxury 747 plane is loaded up with valuable paintings & such belonging to rich businessman Philip Stevens (James Stewart) who is flying them & a bunch of VIP's to his estate in preparation of it being opened to the public as a museum, also on board is Stevens daughter Julie (Kathleen Quinlan) & her son. The luxury jetliner takes off as planned but mid-air the plane is hi-jacked by the co-pilot Chambers (Robert Foxworth) & his two accomplice's Banker (Monte Markham) & Wilson (Michael Pataki) who knock the passengers & crew out with sleeping gas, they plan to steal the valuable cargo & land on a disused plane strip on an isolated island but while making his descent Chambers almost hits an oil rig in the Ocean & loses control of the plane sending it crashing into the sea where it sinks to the bottom right bang in the middle of the Bermuda Triangle. With air in short supply, water leaking in & having flown over 200 miles off course the problems mount for the survivor's as they await help with time fast running out...<br /><br />Also known under the slightly different tile Airport 1977 this second sequel to the smash-hit disaster thriller Airport (1970) was directed by Jerry Jameson & while once again like it's predecessors I can't say Airport '77 is any sort of forgotten classic it is entertaining although not necessarily for the right reasons. Out of the three Airport films I have seen so far I actually liked this one the best, just. It has my favourite plot of the three with a nice mid-air hi-jacking & then the crashing (didn't he see the oil rig?) & sinking of the 747 (maybe the makers were trying to cross the original Airport with another popular disaster flick of the period The Poseidon Adventure (1972)) & submerged is where it stays until the end with a stark dilemma facing those trapped inside, either suffocate when the air runs out or drown as the 747 floods or if any of the doors are opened & it's a decent idea that could have made for a great little disaster flick but bad unsympathetic character's, dull dialogue, lethargic set-pieces & a real lack of danger or suspense or tension means this is a missed opportunity. While the rather sluggish plot keeps one entertained for 108 odd minutes not that much happens after the plane sinks & there's not as much urgency as I thought there should have been. Even when the Navy become involved things don't pick up that much with a few shots of huge ships & helicopters flying about but there's just something lacking here. George Kennedy as the jinxed airline worker Joe Patroni is back but only gets a couple of scenes & barely even says anything preferring to just look worried in the background.<br /><br />The home video & theatrical version of Airport '77 run 108 minutes while the US TV versions add an extra hour of footage including a new opening credits sequence, many more scenes with George Kennedy as Patroni, flashbacks to flesh out character's, longer rescue scenes & the discovery or another couple of dead bodies including the navigator. While I would like to see this extra footage I am not sure I could sit through a near three hour cut of Airport '77. As expected the film has dated badly with horrible fashions & interior design choices, I will say no more other than the toy plane model effects aren't great either. Along with the other two Airport sequels this takes pride of place in the Razzie Award's Hall of Shame although I can think of lots of worse films than this so I reckon that's a little harsh. The action scenes are a little dull unfortunately, the pace is slow & not much excitement or tension is generated which is a shame as I reckon this could have been a pretty good film if made properly.<br /><br />The production values are alright if nothing spectacular. The acting isn't great, two time Oscar winner Jack Lemmon has said since it was a mistake to star in this, one time Oscar winner James Stewart looks old & frail, also one time Oscar winner Lee Grant looks drunk while Sir Christopher Lee is given little to do & there are plenty of other familiar faces to look out for too.<br /><br />Airport '77 is the most disaster orientated of the three Airport films so far & I liked the ideas behind it even if they were a bit silly, the production & bland direction doesn't help though & a film about a sunken plane just shouldn't be this boring or lethargic. Followed by The Concorde ... Airport '79 (1979).\", \"This film lacked something I couldn't put my finger on at first: charisma on the part of the leading actress. This inevitably translated to lack of chemistry when she shared the screen with her leading man. Even the romantic scenes came across as being merely the actors at play. It could very well have been the director who miscalculated what he needed from the actors. I just don't know.<br /><br />But could it have been the screenplay? Just exactly who was the chef in love with? He seemed more enamored of his culinary skills and restaurant, and ultimately of himself and his youthful exploits, than of anybody or anything else. He never convinced me he was in love with the princess.<br /><br />I was disappointed in this movie. But, don't forget it was nominated for an Oscar, so judge for yourself.\", 'Sorry everyone,,, I know this is supposed to be an \"art\" film,, but wow, they should have handed out guns at the screening so people could blow their brains out and not watch. Although the scene design and photographic direction was excellent, this story is too painful to watch. The absence of a sound track was brutal. The loooonnnnng shots were too long. How long can you watch two people just sitting there and talking? Especially when the dialogue is two people complaining. I really had a hard time just getting through this film. The performances were excellent, but how much of that dark, sombre, uninspired, stuff can you take? The only thing i liked was Maureen Stapleton and her red dress and dancing scene. Otherwise this was a ripoff of Bergman. And i\\'m no fan f his either. I think anyone who says they enjoyed 1 1/2 hours of this is,, well, lying.', \"Vijay Krishna Acharya's 'Tashan' is a over-hyped, stylized, product. Sure its a one of the most stylish films, but when it comes to content, even the masses will reject this one. Why? The films script is as amateur as a 2 year old baby. Script is king, without a good script even the greatest director of all-time cannot do anything. Tashan is produced by the most successful production banner 'Yash Raj Films' and Mega Stars appearing in it. But nothing on earth can save you if you script is bland. Thumbs down! <br /><br />Performances: Anil Kapoor, is a veteran actor. But how could he okay a role like this? Akshay Kumar is great actor, in fact he's the sole saving grace. Kareena Kapoor has never looked so hot. She looks stunning and leaves you, all stand up. Saif Ali Khan doesn't get his due in here. Sanjay Mishra, Manoj Phawa and Yashpal Sharma are wasted.<br /><br />'Tashan' is a boring film. The films failure at the box office, should you keep away.\", 'The worst movie I have seen since Tera Jadoo Chal Gaya. There is no story, no humor, no nothing! The action sequences seem more like a series of haphazard Akshay Kumar Thumbs-Up advertisements stitched together. Heavily influenced from The Matrix and Kung-Fu Hustle but very poorly executed.<br /><br />I did not go a lot of expectations, but watching this movie is an exasperating experience which makes you wonder \"What were these guys thinking??!!\".<br /><br />The only thing you might remember after watching it is an anorexic Kareena in a bikini.<br /><br />The reason why I did not give a rating of \\'1\\' is that every time I think I have seen the worst, Bollywood proves me wrong.', 'Shame on Yash Raj films and Aditya Chopra who seems to have lost their intelligence over the years and providing steady fare of tripe in this piece of cinematic crap thats not even worth You Tube standards. I was gritting my teeth throughout the whole flick start to finish with the schizophrenic direction, plot line that never quite materialized and on the last scene I just felt ashamed that my country and its crorepati film makers can \"THROW AWAY\" crores on such stupidity. Shame on the actors for taking this work and even commenting on it as some piece of work they can own up to. Saif Ali Khan -completely disappointed in your choice of film. Kareen shows enough skin for the puberty stricken and Akshay comes up as the dim-wit. Anil another retard with a pubescent fascination for English. His cronies were commendable in their acting and with the bizarre cinematography scattered in the last 15 minutes, it was enough to pop a blood vessel. DON\\'T WASTe any brain cells, energy or your money to go see this- Go SEE / Rent AMU -with Konkana Sensharma instead- a beautiful piece of independent film thats ever come out of India.Intelligent, poignant and a wonderful story-tale that will touch everyone with intelligent actors and gave me hope that all is not lost in Indian cinema making.', \"Tashan - the title itself explains the nature of the movie.<br /><br />This type of movies are actually made for flop. What a shame that Yash Raj Films produces such movies those are worthless than C-grade movies. Or even some C-grade movies have better and pleasing story than Tashan. The much hyped and over-confidently promoted Tashan poorly bombed at the box-office which it certainly deserved.<br /><br />In my view, this is the worst movie ever made from honourable Yash Raj Films' banner. How come they handled such a heavy project to new Vijay Krishna Acharya who has no actual sense of making action flick? He tried to imitate Sanjay Gadhvi's ways of making like Dhoom but he suffered at last. The action scenes are more like than comics or cartoon movies made for exhausting the audiences.<br /><br />The story also loses in its meaning and substances to tenderly win the audiences' hearts. In most scenes Anil Kapoor reminds me of southern Tamil star Rajnikant in his body languages and wordly expressions. I am not a fan of neither Saif nor Akshay, but the award of Kareena should have finally gone to Saif''s hand instead of Akshay. Just from the starting point I expected of it, but at the end it displeased me with the climax truth. Saif is the main behind the whole adventure, while Akshay joins in the midst. In any movie, the final should be judged with the whole characters of the entire story and the award or say reward should be given to the one who deserves credit. And Tashan loses in this way, and unexpectedly failed to become a hit.<br /><br />Akshay's has nothing new to show off his comedian talent here but still reminds of his previous movies. He seriously need to form a new image to his fans that would impress them again and again. In between Saif did a great job in Race, and now he returned again in his hilarious nature through this movie. But he has fully developed himself in the acting field. And last but not the least about Kareena. She looks really hot with bikini dress of which some complain as she became too lean. But I myself don't think so, instead she became slim. Yes slim!!! it is a good factor for a female to attract the major people (or say, male). Beside them it is nice that Saif's son Ibrahim appears in the beginning & last as young Saif. I hope now he too will lean forward in target of making acting as his career.<br /><br />Those who like this Tashan they are either mentally immatured or still want to go back to childhood, or say want to be admitted in an asylum. Thumbs down to debutante director Vijay Krishna Acharya who mishandled the project offered by Yash Raj Films. In future he should experiment and study the script minimum of 5 years before going into practical directions.<br /><br />Sorry, I don't like to rate good stars to this type of junk movies.\", \"I was very displeased with this move. Everything was terrible from the start. The comedy was unhumorous, the action overdone, the songs unmelodious. Even the storyline was weightless. From a writer who has written successful scripts like Guru and Dhoom, I had high expectations. The actors worked way too hard and did not help the film at all. Of course, Kareena rocked the screen in a bikini but for two seconds. I think Hindi stunt directors should research how action movies are done. They tend to exaggerate way too much. In Chinese films, this style works because that is their signature piece. But, Hindi cinema's signature are the songs. A good action movie should last no more than two hours and cannot look unrealistic. But, in the future, I'm sure these action movies will get much sharper. Also to be noted: Comedy and action films do not mix unless done properly. Good Luck next time.\", \"Such a long awaited movie.. But it has disappointed me and my friends who had gone to see the movie on the first day.. From the trailers it looked like a action movie, but it turned out to be a out & out comedy(a bad comedy). But one thing that deserves appreciation is the acting by these professional actors, they've done their part of the movie very well. Good acting, but i don't think that can save the movie.. India has been shot beautifully. Kerala, Rajasthan, (Ladakh?) were all saturated with color, alright. Nevertheless the way the intrinsic beauty of these places was shot made me want to find out exactly where those places were and when I could go there ;-)<br /><br />Action sequences were shot very shabbily, no one could make out head & tail of the stunts, they've used Akki(akshay kumar) very well but could've been done much much better..<br /><br />Animation is the worst i've seen in recent movies(90's movies had better animation scenes i guess(initial scene where the car is falling off 'flying should be better word' the road into lake).<br /><br />And the movies name has been mentioned nearly every 20 to 30 mins, just to make sure audiences don't forget the movie name i guess..\", \"This is the biggest Flop of 2008. I don know what Director has is his mind of creating such a big disaster. The songs have been added without situations, the story have been stretched to fill the 3 hrs gap and most disgusting are the action stunts performed by the actors it's like everyone are having superpowers they can run in between the bullets are fire and nothing happens to them and one person fighting with 100 people. Only the best performance was by Anil Kapoor man he is all time at his best playing the role of villain with a comic act speaking Hinglish... Akki is also done a good job.... But the movieee just forget it.\"]\n"
     ]
    }
   ],
   "source": [
    "print(raw_val_text[:10])"
   ]
  },
  {
   "cell_type": "code",
   "execution_count": null,
   "metadata": {},
   "outputs": [],
   "source": []
  },
  {
   "cell_type": "code",
   "execution_count": null,
   "metadata": {},
   "outputs": [],
   "source": []
  },
  {
   "cell_type": "code",
   "execution_count": null,
   "metadata": {},
   "outputs": [],
   "source": []
  },
  {
   "cell_type": "code",
   "execution_count": null,
   "metadata": {},
   "outputs": [],
   "source": []
  },
  {
   "cell_type": "code",
   "execution_count": null,
   "metadata": {},
   "outputs": [],
   "source": []
  },
  {
   "cell_type": "code",
   "execution_count": 23,
   "metadata": {},
   "outputs": [
    {
     "name": "stdout",
     "output_type": "stream",
     "text": [
      "Build: Training Data Set\n",
      "Found 70000 files belonging to 3 classes.\n",
      "Build: Validation Data Set\n",
      "Found 5000 files belonging to 2 classes.\n",
      "Build: Test Data Set\n",
      "Found 25000 files belonging to 2 classes.\n"
     ]
    }
   ],
   "source": [
    "\n",
    "batch_size = 32\n",
    "\n",
    "print(\"Build: Training Data Set\")\n",
    "train_ds = keras.utils.text_dataset_from_directory(\n",
    "    imdb_path.joinpath(\"train\"), batch_size=batch_size\n",
    ")\n",
    "\n",
    "print(\"Build: Validation Data Set\")\n",
    "val_ds = keras.utils.text_dataset_from_directory(\n",
    "    imdb_path.joinpath(\"val\"), batch_size=batch_size\n",
    ")\n",
    "\n",
    "print(\"Build: Test Data Set\")\n",
    "test_ds = keras.utils.text_dataset_from_directory(\n",
    "    imdb_path.joinpath(\"test\"), batch_size=batch_size\n",
    ")\n",
    "\n",
    "\n"
   ]
  },
  {
   "cell_type": "code",
   "execution_count": 30,
   "metadata": {},
   "outputs": [
    {
     "name": "stdout",
     "output_type": "stream",
     "text": [
      "inputs.shape: (32,)\n",
      "inputs.dtype: <dtype: 'string'>\n",
      "targets.shape: (32,)\n",
      "targets.dtype: <dtype: 'int32'>\n",
      "inputs[0]: tf.Tensor(b\"Good grief! Why was this one made? The first Exorcist movie was sheer cinema magic. The second was a waste of money and talent. This movie is what gives sequels a bad name. It was not so much the acting that was below standard - I don't think anyone could have made such a muddled script look good. This looked like it was written by a committee of accountants. (Nothing personal against accountants, I am one. I also know I have no business writing a script.) Richard Burton was one of the best actors of his generation. If you based his career on this movie, you would have thought him a hack. He might have needed the cash and therefore just slept his way through this. I recommend avoiding this unless you have a thing for pain. Linda Blair went on to a career that seemingly matched the quality of this movie. Yes, this movie is scary, but not in a good way. It is scary they actually released this.\", shape=(), dtype=string)\n",
      "targets[0]: tf.Tensor(2, shape=(), dtype=int32)\n"
     ]
    },
    {
     "data": {
      "text/plain": [
       "2188"
      ]
     },
     "execution_count": 30,
     "metadata": {},
     "output_type": "execute_result"
    }
   ],
   "source": [
    "#//*** Displaying the shapes and dtypes of the first batch\n",
    "\n",
    "for inputs, targets in train_ds:\n",
    "    print(\"inputs.shape:\", inputs.shape)\n",
    "    print(\"inputs.dtype:\", inputs.dtype)\n",
    "    print(\"targets.shape:\", targets.shape)\n",
    "    print(\"targets.dtype:\", targets.dtype)\n",
    "    print(\"inputs[0]:\", inputs[0])\n",
    "    print(\"targets[0]:\", targets[0])\n",
    "    break\n",
    "\n",
    "len(train_ds)"
   ]
  },
  {
   "cell_type": "code",
   "execution_count": 26,
   "metadata": {},
   "outputs": [],
   "source": [
    "from tensorflow.keras.layers import TextVectorization\n",
    "\n",
    "text_vectorization = TextVectorization(\n",
    "    max_tokens=20000,\n",
    "    output_mode=\"multi_hot\",\n",
    ")\n",
    "text_only_train_ds = train_ds.map(lambda x, y: x)\n",
    "text_vectorization.adapt(text_only_train_ds)\n",
    "\n",
    "binary_1gram_train_ds = train_ds.map(\n",
    "    lambda x, y: (text_vectorization(x), y),\n",
    "    num_parallel_calls=4)\n",
    "binary_1gram_val_ds = val_ds.map(\n",
    "    lambda x, y: (text_vectorization(x), y),\n",
    "    num_parallel_calls=4)\n",
    "binary_1gram_test_ds = test_ds.map(\n",
    "    lambda x, y: (text_vectorization(x), y),\n",
    "    num_parallel_calls=4)"
   ]
  },
  {
   "cell_type": "code",
   "execution_count": 29,
   "metadata": {},
   "outputs": [
    {
     "name": "stdout",
     "output_type": "stream",
     "text": [
      "inputs.shape: (32, 20000)\n",
      "inputs.dtype: <dtype: 'float32'>\n",
      "targets.shape: (32,)\n",
      "targets.dtype: <dtype: 'int32'>\n",
      "inputs[0]: tf.Tensor([1. 1. 1. ... 0. 0. 0.], shape=(20000,), dtype=float32)\n",
      "targets[0]: tf.Tensor(1, shape=(), dtype=int32)\n"
     ]
    }
   ],
   "source": [
    "\n",
    "\n",
    "for inputs, targets in binary_1gram_val_ds:\n",
    "    print(\"inputs.shape:\", inputs.shape)\n",
    "    print(\"inputs.dtype:\", inputs.dtype)\n",
    "    print(\"targets.shape:\", targets.shape)\n",
    "    print(\"targets.dtype:\", targets.dtype)\n",
    "    print(\"inputs[0]:\", inputs[0])\n",
    "    print(\"targets[0]:\", targets[0])\n",
    "    break\n",
    "\n"
   ]
  },
  {
   "cell_type": "code",
   "execution_count": null,
   "metadata": {},
   "outputs": [],
   "source": [
    "# //*** CODE HERE"
   ]
  }
 ],
 "metadata": {
  "kernelspec": {
   "display_name": "Python 3",
   "language": "python",
   "name": "python3"
  },
  "language_info": {
   "codemirror_mode": {
    "name": "ipython",
    "version": 3
   },
   "file_extension": ".py",
   "mimetype": "text/x-python",
   "name": "python",
   "nbconvert_exporter": "python",
   "pygments_lexer": "ipython3",
   "version": "3.6.10"
  }
 },
 "nbformat": 4,
 "nbformat_minor": 4
}
