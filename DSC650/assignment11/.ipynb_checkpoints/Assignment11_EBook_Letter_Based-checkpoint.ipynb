{
 "cells": [
  {
   "cell_type": "markdown",
   "metadata": {},
   "source": [
    "# Stoneburner, Kurt\n",
    "- ## DSC 650 - Assignment 11 Generative Text Modeling\n",
    "- Using LSTM to predict characters based on the works of Edgar Allen Poe\n"
   ]
  },
  {
   "cell_type": "code",
   "execution_count": 1,
   "metadata": {},
   "outputs": [
    {
     "data": {
      "text/html": [
       "<style>.container { width:100% !important; }</style>"
      ],
      "text/plain": [
       "<IPython.core.display.HTML object>"
      ]
     },
     "metadata": {},
     "output_type": "display_data"
    }
   ],
   "source": [
    "import os\n",
    "import sys\n",
    "# //*** Imports and Load Data\n",
    "#import matplotlib.pyplot as plt\n",
    "import numpy as np\n",
    "#import pandas as pd\n",
    "\n",
    "\n",
    "from pathlib import Path\n",
    "\n",
    "\n",
    "#//*** Use the whole window in the IPYNB editor\n",
    "from IPython.display import display, HTML\n",
    "display(HTML(\"<style>.container { width:100% !important; }</style>\"))\n",
    "\n",
    "#//*** Maximize columns and rows displayed by pandas\n",
    "#pd.set_option('display.max_rows', 100)\n",
    "#pd.set_option('display.max_columns', None)\n",
    "\n",
    "import email\n",
    "from email.policy import default\n",
    "from email.parser import Parser\n",
    "\n",
    "   \n",
    "\n",
    "from chardet.universaldetector import UniversalDetector\n",
    "from bs4 import BeautifulSoup\n",
    "    \n",
    "#//*** Quiet the BS4 warnings\n",
    "import warnings\n",
    "warnings.filterwarnings(\"ignore\", category=UserWarning, module='bs4')"
   ]
  },
  {
   "cell_type": "code",
   "execution_count": 78,
   "metadata": {},
   "outputs": [],
   "source": [
    "def parse_html_payload(payload):\n",
    "    #from bs4 import BeautifulSoup\n",
    "    \n",
    "    #//*** Quiet the BS4 warnings\n",
    "    #import warnings\n",
    "    #warnings.filterwarnings(\"ignore\", category=UserWarning, module='bs4')\n",
    "    \"\"\"\n",
    "    This function uses Beautiful Soup to read HTML data\n",
    "    and return the text.  If the payload is plain text, then\n",
    "    Beautiful Soup will return the original content\n",
    "    \"\"\"\n",
    "    soup = BeautifulSoup(payload, 'html.parser')\n",
    "    #print(soup.find_all(\"p\"))\n",
    "    return str(soup.get_text()).encode('utf-8').decode('utf-8')\n",
    "    #return soup\n",
    "#//********************************************************\n",
    "#//*** Plot a Fitted Models History of Loss and Accuracy\n",
    "#//********************************************************\n",
    "def plot_model_history(input_history):\n",
    "    import matplotlib.pyplot as plt\n",
    "    \n",
    "\n",
    "    loss_key, acc_key = list(input_history['history'].keys())[:2]\n",
    "    \n",
    "\n",
    "    acc = input_history['history'][acc_key]\n",
    "    loss = input_history['history'][loss_key]\n",
    "\n",
    "    \n",
    "    epochs = range(1, len(loss) + 1)\n",
    "    plt.plot(epochs, acc, \"b\", label=\"Training Accuracy\")\n",
    "    plt.title(\"Training Accuracy\\nAccuracy should go up\")\n",
    "    plt.xlabel(\"Epochs\")\n",
    "    plt.ylabel(\"Loss\")\n",
    "    plt.legend()\n",
    "    plt.show()\n",
    "\n",
    "    plt.plot(epochs, loss, \"bo\", label=\"Training Loss\")\n",
    "    \n",
    "    plt.title(\"Training Loss \\nLoss should go down\")\n",
    "    plt.xlabel(\"Epochs\")\n",
    "    plt.ylabel(\"Loss\")\n",
    "    plt.legend()\n",
    "    plt.show()\n",
    "\n",
    "    #//*** Quit if only accuracy and Loss\n",
    "    if len(list(input_history['history'].keys())) == 2:\n",
    "        return\n",
    "    \n",
    "\n",
    "    val_loss_key, val_acc_key = list(input_history.history.keys())[2:]\n",
    "    \n",
    "    val_loss = input_history.history[val_loss_key]\n",
    "    val_acc = input_history.history[val_acc_key]\n",
    "\n",
    "    plt.plot(epochs, loss, \"bo\", label=\"Training loss\")\n",
    "    plt.plot(epochs, val_loss, \"b\", label=\"Validation loss\")\n",
    "    plt.title(\"Training and validation loss\")\n",
    "    plt.xlabel(\"Epochs\")\n",
    "    plt.ylabel(\"Loss\")\n",
    "    plt.legend()\n",
    "    plt.show()\n",
    "    \n",
    "    #//*** Plot the Validation Set Accuracy\n",
    "    plt.clf()\n",
    "    \n",
    "    plt.plot(epochs, acc, \"bo\", label=\"Training accuracy\")\n",
    "    plt.plot(epochs, val_acc, \"b\", label=\"Validation accuracy\")\n",
    "    plt.title(\"Training and validation accuracy\")\n",
    "    plt.xlabel(\"Epochs\")\n",
    "    plt.ylabel(\"Accuracy\")\n",
    "    plt.legend()\n",
    "    plt.show()\n",
    "    "
   ]
  },
  {
   "cell_type": "code",
   "execution_count": 2,
   "metadata": {},
   "outputs": [],
   "source": [
    "import ebooklib\n",
    "from ebooklib import epub\n",
    "from html.parser import HTMLParser\n",
    "\n",
    "#book = epub.read_epub('./books/Moby-Dick-Herman-Melville.epub')\n",
    "\n",
    "\n",
    "#book = epub.read_epub('./books/Moby-Dick-Herman-Melville.epub')\n",
    "book = epub.read_epub('./books/pg25525.epub')"
   ]
  },
  {
   "cell_type": "code",
   "execution_count": 3,
   "metadata": {},
   "outputs": [
    {
     "name": "stdout",
     "output_type": "stream",
     "text": [
      "tf.Tensor([4. 6.], shape=(2,), dtype=float32)\n"
     ]
    }
   ],
   "source": [
    "import tensorflow.compat.v1 as tf \n",
    "import tensorflow as tf \n",
    "#tf.enable_eager_execution(tf.ConfigProto(log_device_placement=True)) \n",
    "\n",
    "print(tf.add([1.0, 2.0], [3.0, 4.0])) "
   ]
  },
  {
   "cell_type": "code",
   "execution_count": 4,
   "metadata": {},
   "outputs": [],
   "source": []
  },
  {
   "cell_type": "code",
   "execution_count": 110,
   "metadata": {
    "scrolled": false
   },
   "outputs": [
    {
     "name": "stdout",
     "output_type": "stream",
     "text": [
      "Length Before Cleaning:  2592579\n",
      "Length After Cleaning:  2493812\n"
     ]
    }
   ],
   "source": [
    "\"\"\"\n",
    "Moby Dick Cleaning\n",
    "raw_text = \"\"\n",
    "for x in book.get_items():\n",
    "    if x.get_type() == 9:\n",
    "        raw_text += parse_html_payload(x.get_body_content())\n",
    "\n",
    "#//*** Manually remove all text before chapter1 - This is the header plus a bunch of quotes\n",
    "text = raw_text[raw_text.find(\"Chapter 1 Loomings\"):]\n",
    "\"\"\"\n",
    "raw_text = \"\"\n",
    "for x in book.get_items():\n",
    "    if x.get_type() == 9:\n",
    "        raw_text += parse_html_payload(x.get_body_content())\n",
    "\n",
    "\n",
    "print(\"Length Before Cleaning: \", len(raw_text))\n",
    "#//*******************\n",
    "#//*** Light cleaning\n",
    "#//*******************\n",
    "#//*** Manually remove all text before the first original Poe Story\n",
    "raw_text = raw_text[raw_text.find(\"THE UNPARALLELED ADVENTURES OF ONE HANS PFAAL\")+1:]    \n",
    "\n",
    "#//*** Find the end of his collected works, this will remove all the copyright notices and additional comments\n",
    "end_dex = raw_text.find(\"NOTES\\nOf the many verses from time to time ascribed to the pen of Edgar Poe\")\n",
    "raw_text = raw_text[raw_text.find(\"THE UNPARALLELED ADVENTURES OF ONE HANS PFAAL\"):end_dex]\n",
    "\n",
    "\n",
    "#//*** Remove \\xa0 spacing characters\n",
    "while \"\\xa0\" in raw_text:\n",
    "    raw_text = raw_text.replace(\"\\xa0\",\"\")\n",
    "print(\"Length After Cleaning: \", len(raw_text))"
   ]
  },
  {
   "cell_type": "code",
   "execution_count": null,
   "metadata": {},
   "outputs": [],
   "source": [
    "import random\n",
    "import sys\n",
    "\n",
    "def sample(preds, temperature=1.0):\n",
    "    preds = np.asarray(preds).astype('float64')\n",
    "    preds = np.log(preds) / temperature\n",
    "    exp_preds = np.exp(preds)\n",
    "    preds = exp_preds / np.sum(exp_preds)\n",
    "    probas = np.random.multinomial(1, preds, 1)\n",
    "    return np.argmax(probas)\n",
    "\n"
   ]
  },
  {
   "cell_type": "markdown",
   "metadata": {},
   "source": [
    "## Build and Save an LSTM model and additional Parameters for reproduction ##\n",
    "This is the final results after numerous model testing runs. Some these tests models have been preserved."
   ]
  },
  {
   "cell_type": "code",
   "execution_count": 129,
   "metadata": {
    "scrolled": false
   },
   "outputs": [
    {
     "name": "stdout",
     "output_type": "stream",
     "text": [
      "6\n",
      "Number of sequences: 415626\n",
      "Unique characters: 151\n",
      "Vectorization...\n",
      "(415626, 60, 151)\n",
      "(415626, 151)\n",
      "Model: \"sequential_49\"\n",
      "_________________________________________________________________\n",
      "Layer (type)                 Output Shape              Param #   \n",
      "=================================================================\n",
      "lstm_54 (LSTM)               (None, 256)               417792    \n",
      "_________________________________________________________________\n",
      "dense_45 (Dense)             (None, 151)               38807     \n",
      "=================================================================\n",
      "Total params: 456,599\n",
      "Trainable params: 456,599\n",
      "Non-trainable params: 0\n",
      "_________________________________________________________________\n",
      "['iend.\\nOINOS. But does not The Most High know all?\\nAGATHOS. T', 'er from my thoughts—“Dammit,” I suggested—“the gentleman say', 'e “peculiar shape of that box”; and, as I spoke the words, I']\n",
      "epoch 1\n",
      "Epoch 1/5\n",
      "3248/3248 [==============================] - 694s 213ms/step - loss: 2.2683 - accuracy: 0.3620\n",
      "Epoch 2/5\n",
      "3248/3248 [==============================] - 691s 213ms/step - loss: 1.8503 - accuracy: 0.4614\n",
      "Epoch 3/5\n",
      "3248/3248 [==============================] - 692s 213ms/step - loss: 1.6837 - accuracy: 0.5058\n",
      "Epoch 4/5\n",
      "3248/3248 [==============================] - 691s 213ms/step - loss: 1.5795 - accuracy: 0.5355\n",
      "Epoch 5/5\n",
      "3248/3248 [==============================] - 691s 213ms/step - loss: 1.5058 - accuracy: 0.5557\n",
      "[ Once upon a midnight dreary, while I pondered, weak and wear ]th the strange of the strange of the strange of the strange of the strange of the strange of the strange of the strange \n",
      "epoch 2\n",
      "Epoch 1/5\n",
      "3248/3248 [==============================] - 692s 213ms/step - loss: 1.4493 - accuracy: 0.5707\n",
      "Epoch 2/5\n",
      "3248/3248 [==============================] - 682s 210ms/step - loss: 1.4031 - accuracy: 0.5831\n",
      "Epoch 3/5\n",
      "3248/3248 [==============================] - 682s 210ms/step - loss: 1.3640 - accuracy: 0.5938\n",
      "Epoch 4/5\n",
      "3248/3248 [==============================] - 691s 213ms/step - loss: 1.3300 - accuracy: 0.6029\n",
      "Epoch 5/5\n",
      "3248/3248 [==============================] - 692s 213ms/step - loss: 1.2988 - accuracy: 0.6121\n",
      "[ Once upon a midnight dreary, while I pondered, weak and wear ]s of the seven of the bottom of the seas of the seven of the bottom of the seas of the bottom of the seas of the seven o\n",
      "epoch 3\n",
      "Epoch 1/5\n",
      "3248/3248 [==============================] - 694s 214ms/step - loss: 1.2701 - accuracy: 0.6203\n",
      "Epoch 2/5\n",
      "3248/3248 [==============================] - 686s 211ms/step - loss: 1.2441 - accuracy: 0.6272\n",
      "Epoch 3/5\n",
      "3248/3248 [==============================] - 686s 211ms/step - loss: 1.2209 - accuracy: 0.6343\n",
      "Epoch 4/5\n",
      "3248/3248 [==============================] - 685s 211ms/step - loss: 1.1991 - accuracy: 0.6406\n",
      "Epoch 5/5\n",
      "3248/3248 [==============================] - 685s 211ms/step - loss: 1.1784 - accuracy: 0.6465\n",
      "[ Once upon a midnight dreary, while I pondered, weak and wear ]s the personal ruby of the board and the thing, and the personal region of the constractic and the state of the manner o\n",
      "epoch 4\n",
      "Epoch 1/5\n",
      "3248/3248 [==============================] - 693s 213ms/step - loss: 1.1592 - accuracy: 0.6517\n",
      "Epoch 2/5\n",
      "3248/3248 [==============================] - 694s 214ms/step - loss: 1.1423 - accuracy: 0.6572\n",
      "Epoch 3/5\n",
      "3248/3248 [==============================] - 693s 213ms/step - loss: 1.1284 - accuracy: 0.6609\n",
      "Epoch 4/5\n",
      "3248/3248 [==============================] - 693s 213ms/step - loss: 1.1136 - accuracy: 0.6646\n",
      "Epoch 5/5\n",
      "3248/3248 [==============================] - 694s 214ms/step - loss: 1.1024 - accuracy: 0.6680\n",
      "[ Once upon a midnight dreary, while I pondered, weak and wear ]s she said that I had been suppered the point of the surface of the cornsparatical and the sounds. I had not been attemp\n",
      "epoch 5\n",
      "Epoch 1/5\n",
      "3248/3248 [==============================] - 683s 210ms/step - loss: 1.0914 - accuracy: 0.6710\n",
      "Epoch 2/5\n",
      "3248/3248 [==============================] - 683s 210ms/step - loss: 1.0810 - accuracy: 0.6733\n",
      "Epoch 3/5\n",
      "3248/3248 [==============================] - 683s 210ms/step - loss: 1.0715 - accuracy: 0.6767\n",
      "Epoch 4/5\n",
      "3248/3248 [==============================] - 683s 210ms/step - loss: 1.0644 - accuracy: 0.6783\n",
      "Epoch 5/5\n",
      "3248/3248 [==============================] - 682s 210ms/step - loss: 1.0561 - accuracy: 0.6804\n",
      "[ Once upon a midnight dreary, while I pondered, weak and wear ]s succeeded in the same time, the most intentions of the true, and the conscious of the corpse, the contiment of the thi\n",
      "epoch 6\n",
      "Epoch 1/5\n",
      "3248/3248 [==============================] - 688s 212ms/step - loss: 1.0490 - accuracy: 0.6830\n",
      "Epoch 2/5\n",
      "3248/3248 [==============================] - 688s 212ms/step - loss: 1.0432 - accuracy: 0.6846\n",
      "Epoch 3/5\n",
      "3248/3248 [==============================] - 688s 212ms/step - loss: 1.0375 - accuracy: 0.6853\n",
      "Epoch 4/5\n",
      "3248/3248 [==============================] - 688s 212ms/step - loss: 1.0317 - accuracy: 0.6866\n",
      "Epoch 5/5\n",
      "3248/3248 [==============================] - 688s 212ms/step - loss: 1.0279 - accuracy: 0.6878\n",
      "[ Once upon a midnight dreary, while I pondered, weak and wear ]s and a security which should have been the most exalt to the seas to the sea. I saw the way brought to the summer withi\n",
      "epoch 7\n",
      "Epoch 1/5\n",
      "3248/3248 [==============================] - 678s 209ms/step - loss: 1.0215 - accuracy: 0.6904\n",
      "Epoch 2/5\n",
      "3248/3248 [==============================] - 679s 209ms/step - loss: 1.0171 - accuracy: 0.6910\n",
      "Epoch 3/5\n",
      "3248/3248 [==============================] - 679s 209ms/step - loss: 1.0122 - accuracy: 0.6926\n",
      "Epoch 4/5\n",
      "3248/3248 [==============================] - 679s 209ms/step - loss: 1.0083 - accuracy: 0.6937\n",
      "Epoch 5/5\n",
      "3248/3248 [==============================] - 679s 209ms/step - loss: 1.0044 - accuracy: 0.6947\n",
      "[ Once upon a midnight dreary, while I pondered, weak and wear ]s, and that the more through the most sight of the most silence of the sea, as if in goventy I could not have been seen \n"
     ]
    },
    {
     "data": {
      "image/png": "[encoded data removed]",
      "text/plain": [
       "<Figure size 432x288 with 1 Axes>"
      ]
     },
     "metadata": {
      "needs_background": "light"
     },
     "output_type": "display_data"
    },
    {
     "data": {
      "image/png": "[encoded data removed]",
      "text/plain": [
       "<Figure size 432x288 with 1 Axes>"
      ]
     },
     "metadata": {
      "needs_background": "light"
     },
     "output_type": "display_data"
    },
    {
     "name": "stdout",
     "output_type": "stream",
     "text": [
      "(5, '[ Once upon a midnight dreary, while I pondered, weak and wear ]th the strange of the strange of the strange of the strange of the strange of the strange of the strange of the strange ')\n",
      "(10, '[ Once upon a midnight dreary, while I pondered, weak and wear ]s of the seven of the bottom of the seas of the seven of the bottom of the seas of the bottom of the seas of the seven o')\n",
      "(15, '[ Once upon a midnight dreary, while I pondered, weak and wear ]s the personal ruby of the board and the thing, and the personal region of the constractic and the state of the manner o')\n",
      "(20, '[ Once upon a midnight dreary, while I pondered, weak and wear ]s she said that I had been suppered the point of the surface of the cornsparatical and the sounds. I had not been attemp')\n",
      "(25, '[ Once upon a midnight dreary, while I pondered, weak and wear ]s succeeded in the same time, the most intentions of the true, and the conscious of the corpse, the contiment of the thi')\n",
      "(30, '[ Once upon a midnight dreary, while I pondered, weak and wear ]s and a security which should have been the most exalt to the seas to the sea. I saw the way brought to the summer withi')\n",
      "(35, '[ Once upon a midnight dreary, while I pondered, weak and wear ]s, and that the more through the most sight of the most silence of the sea, as if in goventy I could not have been seen ')\n"
     ]
    }
   ],
   "source": [
    "# Length of extracted character sequences\n",
    "maxlen = 60\n",
    "\n",
    "# We sample a new sequence every `step` characters\n",
    "step = int(maxlen *.1)\n",
    "\n",
    "if step <= 0:\n",
    "    step=1\n",
    "\n",
    "print(step)\n",
    "\n",
    "pct = 1\n",
    "tensor_count = 256\n",
    "text = raw_text[:int(len(raw_text)*pct)]\n",
    "\n",
    "# This holds our extracted sequences\n",
    "sentences = []\n",
    "\n",
    "# This holds the targets (the follow-up characters)\n",
    "next_chars = []\n",
    "\n",
    "for i in range(0, len(text) - maxlen, step):\n",
    "    sentences.append(text[i: i + maxlen])\n",
    "    next_chars.append(text[i + maxlen])\n",
    "print('Number of sequences:', len(sentences))\n",
    "\n",
    "# List of unique characters in the corpus\n",
    "chars = sorted(list(set(text)))\n",
    "print('Unique characters:', len(chars))\n",
    "# Dictionary mapping unique characters to their index in `chars`\n",
    "char_indices = dict((char, chars.index(char)) for char in chars)\n",
    "\n",
    "# Next, one-hot encode the characters into binary arrays.\n",
    "print('Vectorization...')\n",
    "x = np.zeros((len(sentences), maxlen, len(chars)), dtype=np.bool)\n",
    "y = np.zeros((len(sentences), len(chars)), dtype=np.bool)\n",
    "for i, sentence in enumerate(sentences):\n",
    "    for t, char in enumerate(sentence):\n",
    "        x[i, t, char_indices[char]] = 1\n",
    "    y[i, char_indices[next_chars[i]]] = 1\n",
    "    \n",
    "print(x.shape)\n",
    "print(y.shape)\n",
    "\n",
    "from tensorflow import keras\n",
    "from keras import layers\n",
    "\n",
    "model = keras.models.Sequential()\n",
    "model.add(layers.LSTM(tensor_count, input_shape=(maxlen, len(chars))))\n",
    "#model.add(layers.Dropout(0.5))\n",
    "#model.add(layers.LSTM(64))\n",
    "model.add(layers.Dense(len(chars), activation='softmax'))\n",
    "\n",
    "model.compile(loss='categorical_crossentropy', optimizer=\"rmsprop\",metrics=[\"accuracy\"])\n",
    "              \n",
    "model.summary()\n",
    "\n",
    "seeds  = []\n",
    "\n",
    "for i in range(0,3):\n",
    "    start_index = random.randint(0, len(text) - maxlen - 1)\n",
    "    seeds.append(text[start_index: start_index + maxlen])\n",
    "    \n",
    "print(seeds)\n",
    "\n",
    "import random\n",
    "import sys\n",
    "train = x\n",
    "targets = y\n",
    "history = {\n",
    "    'loss' : [],\n",
    "    'accuracy':[]\n",
    "}\n",
    "\n",
    "seed_text = \"Once upon a midnight dreary, while I pondered, weak and weary,Over many a quaint and curious volume of forgotten lore— While I nodded, nearly napping, suddenly there came a tapping, As of some one gently rapping, rapping at my chamber door— 'Tis some visitor, I muttered, tapping at my chamber door— Only this and nothing more.\"\n",
    "\n",
    "\n",
    "\n",
    "predictions = []\n",
    "for epoch in range(1, 8):\n",
    "    print('epoch', epoch)\n",
    "    # Fit the model for 1 epoch on the available training data\n",
    "    result = model.fit(train, targets,\n",
    "              batch_size=128,\n",
    "              epochs=5)\n",
    "\n",
    "    # Select a text seed at random\n",
    "    #start_index = random.randint(0, len(text) - maxlen - 1)\n",
    "    #generated_text = text[start_index: start_index + maxlen]\n",
    "    #print('--- Generating with seed: \"' + generated_text + '\"')\n",
    "    \n",
    "    history['loss'] = history['loss'] + result.history['loss'] \n",
    "    history['accuracy'] = history['accuracy'] + result.history['accuracy'] \n",
    "    \n",
    "\n",
    "\n",
    "    \n",
    "\n",
    "    generated_text = seed_text[:maxlen]\n",
    "    predict = f\"[ {generated_text} ]\"\n",
    "    \n",
    "    # We generate 400 characters\n",
    "    for i in range(120):\n",
    "        sampled = np.zeros((1, maxlen, len(chars)))\n",
    "        for t, char in enumerate(generated_text):\n",
    "            sampled[0, t, char_indices[char]] = 1.\n",
    "\n",
    "        preds = model.predict(sampled, verbose=0)[0]\n",
    "\n",
    "        next_char = chars[np.argmax(preds)]\n",
    "\n",
    "        predict += next_char\n",
    "\n",
    "        generated_text += next_char\n",
    "        generated_text = generated_text[1:]\n",
    "\n",
    "        #sys.stdout.write(next_char)\n",
    "        #sys.stdout.flush()\n",
    "    print(predict)\n",
    "    predictions.append((epoch*5,predict))\n",
    "\n",
    "plot_model_history({\"history\":history})\n",
    "for pred in predictions:\n",
    "    print(pred)\n",
    "\n",
    "\n",
    "\n",
    "import pickle\n",
    "\n",
    "filename = f\"./results/model_EdgarAllenPoe_Letters_PCT{pct*100}_ML{maxlen}_S{step}_TC{tensor_count}\"\n",
    "\n",
    "#//*** Save The Model\n",
    "from keras.models import load_model\n",
    "model.save(f\"{filename}.h5\")\n",
    "\n",
    "#//*** Save dictionaries parameters and ngrams\n",
    "pickle_collection = {\n",
    "\n",
    "    \"chars\" : chars,\n",
    "    \n",
    "    \"char_indices\" : char_indices,\n",
    "    \n",
    "    \"history\" : {\"history\":history},\n",
    "\n",
    "    \"params\" : {\n",
    "        \"max_len\" : maxlen,\n",
    "        \"pct\":pct,\n",
    "        \"step\" : step,\n",
    "        \"tensor_count\" : tensor_count\n",
    "    },\n",
    "    \"predictions\" : predictions,\n",
    "}\n",
    "\n",
    "with open(f\"{filename}.pkl\",'wb') as f:\n",
    "    pickle.dump(pickle_collection, f)\n",
    "    \n",
    "#print(filename)\n",
    "#print(\"Done\")\n",
    "\n"
   ]
  },
  {
   "cell_type": "markdown",
   "metadata": {},
   "source": [
    "## Examples of model prediction and accuracy curves ## \n"
   ]
  },
  {
   "cell_type": "code",
   "execution_count": 130,
   "metadata": {},
   "outputs": [
    {
     "data": {
      "image/png": "[encoded data removed]",
      "text/plain": [
       "<Figure size 432x288 with 1 Axes>"
      ]
     },
     "metadata": {
      "needs_background": "light"
     },
     "output_type": "display_data"
    },
    {
     "data": {
      "image/png": "[encoded data removed]",
      "text/plain": [
       "<Figure size 432x288 with 1 Axes>"
      ]
     },
     "metadata": {
      "needs_background": "light"
     },
     "output_type": "display_data"
    },
    {
     "name": "stdout",
     "output_type": "stream",
     "text": [
      "(5, '[ Once upon a midnight dreary, while I pondered, weak and wear ]th the strange of the strange of the strange of the strange of the strange of the strange of the strange of the strange ')\n",
      "(10, '[ Once upon a midnight dreary, while I pondered, weak and wear ]s of the seven of the bottom of the seas of the seven of the bottom of the seas of the bottom of the seas of the seven o')\n",
      "(15, '[ Once upon a midnight dreary, while I pondered, weak and wear ]s the personal ruby of the board and the thing, and the personal region of the constractic and the state of the manner o')\n",
      "(20, '[ Once upon a midnight dreary, while I pondered, weak and wear ]s she said that I had been suppered the point of the surface of the cornsparatical and the sounds. I had not been attemp')\n",
      "(25, '[ Once upon a midnight dreary, while I pondered, weak and wear ]s succeeded in the same time, the most intentions of the true, and the conscious of the corpse, the contiment of the thi')\n",
      "(30, '[ Once upon a midnight dreary, while I pondered, weak and wear ]s and a security which should have been the most exalt to the seas to the sea. I saw the way brought to the summer withi')\n",
      "(35, '[ Once upon a midnight dreary, while I pondered, weak and wear ]s, and that the more through the most sight of the most silence of the sea, as if in goventy I could not have been seen ')\n"
     ]
    }
   ],
   "source": [
    "plot_model_history({\"history\":history})\n",
    "for pred in predictions:\n",
    "    print(pred)\n",
    "    \n",
    "    "
   ]
  },
  {
   "cell_type": "code",
   "execution_count": 126,
   "metadata": {},
   "outputs": [
    {
     "data": {
      "image/png": "[encoded data removed]",
      "text/plain": [
       "<Figure size 432x288 with 1 Axes>"
      ]
     },
     "metadata": {
      "needs_background": "light"
     },
     "output_type": "display_data"
    },
    {
     "data": {
      "image/png": "[encoded data removed]",
      "text/plain": [
       "<Figure size 432x288 with 1 Axes>"
      ]
     },
     "metadata": {
      "needs_background": "light"
     },
     "output_type": "display_data"
    },
    {
     "name": "stdout",
     "output_type": "stream",
     "text": [
      "(5, '[ d the blather my sible to the latter in the eart. It was as  ] and the sound the sound the sound the sound the sound the sound the sound the sound the sound the sound the sound the s')\n",
      "(10, '[ ound the sound the sound the sound the sound the sound the s ] be to the some of the contine of the some of the contine of the some of the contine of the some of the contine of the s')\n",
      "(15, '[  the some of the contine of the some of the contine of the s ]d the disting of the contrines of the seames with with the reat of the seat with with the reat of the contined of the se')\n",
      "(20, '[ eat of the seat with with the reat of the contined of the se ]d, in the dinstent, he passived the cranter pearress of the charr, and the sterning and some not a chulfer and dacaries ')\n",
      "(25, '[ charr, and the sterning and some not a chulfer and dacaries  ]d. The supperers, whine in in a consing abreith in curition, which the assess that of menicain collusion that the eartic')\n",
      "(30, '[  which the assess that of menicain collusion that the eartic ], and med a drick of the boat, which colling to cuppreht of didection is the apentrous of my and of the intentice of pro')\n",
      "(35, '[ didection is the apentrous of my and of the intentice of pro ]s, and caulity the carming of the preception of the contlanion of the acks water at linging retorced the witereationstou')\n"
     ]
    }
   ],
   "source": [
    "plot_model_history({\"history\":history})\n",
    "for pred in predictions:\n",
    "    print(pred)\n",
    "    \n",
    "    "
   ]
  },
  {
   "cell_type": "code",
   "execution_count": 114,
   "metadata": {},
   "outputs": [
    {
     "data": {
      "image/png": "[encoded data removed]",
      "text/plain": [
       "<Figure size 432x288 with 1 Axes>"
      ]
     },
     "metadata": {
      "needs_background": "light"
     },
     "output_type": "display_data"
    },
    {
     "data": {
      "image/png": "[encoded data removed]",
      "text/plain": [
       "<Figure size 432x288 with 1 Axes>"
      ]
     },
     "metadata": {
      "needs_background": "light"
     },
     "output_type": "display_data"
    },
    {
     "name": "stdout",
     "output_type": "stream",
     "text": [
      "(5, '[  parallel of southern latitude, it turned off suddenly, at a ]ne the the the the the the the the the the the the the the the the the the the the the the the the the the the the the t')\n",
      "(10, '[  parallel of southern latitude, it turned off suddenly, at a ]nd and and and and and and and and and and and and and and and and and and and and and and and and and and and and and a')\n",
      "(15, '[  parallel of southern latitude, it turned off suddenly, at a ]nd and and and and and and and and and and and and and and and and and and and and and and and and and and and and and a')\n",
      "(20, '[  parallel of southern latitude, it turned off suddenly, at a ]nd the the the the the the the the the the the the the the the the the the the the the the the the the the the the the t')\n",
      "(25, '[  parallel of southern latitude, it turned off suddenly, at a ]nd and and and and and and and and and and and and and and and and and and and and and and and and and and and and and a')\n",
      "(30, '[  parallel of southern latitude, it turned off suddenly, at a ]nd and the coned and the conter of the porthing the eat and and and and and and and and and and and and and and and and ')\n",
      "(35, '[  parallel of southern latitude, it turned off suddenly, at a ]nd the pores of the porthing of the eat of the satting the ere the corserer in the porthing the wath the that and the ce')\n",
      "(40, '[  parallel of southern latitude, it turned off suddenly, at a ]nd for the comphar of the eat of the satting of the eat of the satting of the eat of the satting of the eat of the satti')\n",
      "(45, '[  parallel of southern latitude, it turned off suddenly, at a ]nd for the corthind of the eathing of the sabiting of the antingent of the compare of the sabithon of the abreath hit th')\n",
      "(50, '[  parallel of southern latitude, it turned off suddenly, at a ]nd fored, in the pare the thenterer of the imation of the abrer of the porthons. Thes y ay byou dassible. I had sereent ')\n",
      "(55, '[  parallel of southern latitude, it turned off suddenly, at a ]nd forlly the eat of the souttrend de poppichithes meat of the sabitur of the abrer in amuratlly corsine. The biger of t')\n",
      "(60, '[  parallel of southern latitude, it turned off suddenly, at a ]nd for the poott. In the bret to the eatt the thint of rechemate to mented, and thang his les and atle the cally the ent')\n",
      "(65, '[  parallel of southern latitude, it turned off suddenly, at a ]nd from sorentane the furting of the eatt by und wat wacl as anderert the cassing of the sabte the prarinestrecomesse ou')\n",
      "(70, '[  parallel of southern latitude, it turned off suddenly, at a ]nded fol the eath of the tatturchtherrer outionssess the anding the compabe the of at reattors, an the ceant. I had wool')\n",
      "(75, '[  parallel of southern latitude, it turned off suddenly, at a ]nd fow lece moutine to the eas by a a bong narirent the furthing the myouss of the saght hit of the soott.\\nI nond, noun ')\n",
      "(80, '[  parallel of southern latitude, it turned off suddenly, at a ]nd forle seroon doy, and untar of perpaition. The war tye, to therrrim marchint of the conttorow has deigall I kanttty h')\n",
      "(85, '[  parallel of southern latitude, it turned off suddenly, at a ]nd for toons, at alled the the martad, argrres, the foullare sondinns on shere tortassenter, and whin he peath, Inded, t')\n",
      "(90, '[  parallel of southern latitude, it turned off suddenly, at a ]nd distine piened be comperies in the fof of the eat of the soont ryor seeveve the madintureit tee foftely, and nownsigh')\n",
      "(95, '[  parallel of southern latitude, it turned off suddenly, at a ]nd foll, wis meaped in the ter, nothoug the motion sust essuction of a surition of the ead by un and rromk.\\nTe no persey')\n"
     ]
    }
   ],
   "source": [
    "plot_model_history({\"history\":history})\n",
    "for pred in predictions:\n",
    "    print(pred)\n",
    "    \n",
    "    "
   ]
  },
  {
   "cell_type": "markdown",
   "metadata": {
    "scrolled": false
   },
   "source": [
    "## Originial Deep Learning with Python Reference Code with Samples and Temperatures ## "
   ]
  },
  {
   "cell_type": "code",
   "execution_count": null,
   "metadata": {
    "scrolled": false
   },
   "outputs": [],
   "source": [
    "def sample(preds, temperature=1.0):\n",
    "    preds = np.asarray(preds).astype('float64')\n",
    "    preds = np.log(preds) / temperature\n",
    "    exp_preds = np.exp(preds)\n",
    "    preds = exp_preds / np.sum(exp_preds)\n",
    "    probas = np.random.multinomial(1, preds, 1)\n",
    "    return np.argmax(probas)\n",
    "\n",
    "import random\n",
    "import sys\n",
    "\n",
    "for epoch in range(1,60):\n",
    "    print('epoch', epoch)\n",
    "    model.fit(train, targets, batch_size=128, epochs=1)\n",
    "\n",
    "    start_index = random.randint(0, len(vectorizer.vocabulary_ngrams) - phrase_size - 1)\n",
    "\n",
    "    generated_text = vectorizer.vocabulary_ngrams[start_index : start_index + phrase_size]\n",
    "\n",
    "\n",
    "    for temperature in [0.2, 0.5, 1.0, 1.2]:\n",
    "        print(\"----- temperature: \", temperature)\n",
    "        predicted_words = []\n",
    "        for i in range(60):\n",
    "            sampled = np.zeros( (1, phrase_size,len(vectorizer.vocabulary_index.keys())) )\n",
    "\n",
    "            for t, char in enumerate(generated_text):\n",
    "\n",
    "                sampled[0, t, vectorizer.vocabulary_index[char]]\n",
    "\n",
    "            preds = model.predict(sampled, verbose=0)[0]\n",
    "            next_index = sample(preds, temperature)\n",
    "            next_char = vectorizer.vocabulary_ngrams[next_index]\n",
    "\n",
    "            generated_text.pop(0)\n",
    "            generated_text.append(next_char)\n",
    "\n",
    "            predicted_words.append(next_char)\n",
    "        print(\" \".join(predicted_words))\n",
    "    "
   ]
  },
  {
   "cell_type": "code",
   "execution_count": 131,
   "metadata": {},
   "outputs": [
    {
     "data": {
      "text/plain": [
       "[(5,\n",
       "  '[ Once upon a midnight dreary, while I pondered, weak and wear ]th the strange of the strange of the strange of the strange of the strange of the strange of the strange of the strange '),\n",
       " (10,\n",
       "  '[ Once upon a midnight dreary, while I pondered, weak and wear ]s of the seven of the bottom of the seas of the seven of the bottom of the seas of the bottom of the seas of the seven o'),\n",
       " (15,\n",
       "  '[ Once upon a midnight dreary, while I pondered, weak and wear ]s the personal ruby of the board and the thing, and the personal region of the constractic and the state of the manner o'),\n",
       " (20,\n",
       "  '[ Once upon a midnight dreary, while I pondered, weak and wear ]s she said that I had been suppered the point of the surface of the cornsparatical and the sounds. I had not been attemp'),\n",
       " (25,\n",
       "  '[ Once upon a midnight dreary, while I pondered, weak and wear ]s succeeded in the same time, the most intentions of the true, and the conscious of the corpse, the contiment of the thi'),\n",
       " (30,\n",
       "  '[ Once upon a midnight dreary, while I pondered, weak and wear ]s and a security which should have been the most exalt to the seas to the sea. I saw the way brought to the summer withi'),\n",
       " (35,\n",
       "  '[ Once upon a midnight dreary, while I pondered, weak and wear ]s, and that the more through the most sight of the most silence of the sea, as if in goventy I could not have been seen ')]"
      ]
     },
     "execution_count": 131,
     "metadata": {},
     "output_type": "execute_result"
    }
   ],
   "source": [
    "\n",
    "predictions"
   ]
  },
  {
   "cell_type": "code",
   "execution_count": 132,
   "metadata": {},
   "outputs": [],
   "source": [
    "#//*** Save dictionaries parameters and ngrams\n",
    "pickle_collection = {\n",
    "\n",
    "    \"chars\" : chars,\n",
    "    \n",
    "    \"char_indices\" : char_indices,\n",
    "    \n",
    "    \"history\" : {\"history\":history},\n",
    "\n",
    "    \"params\" : {\n",
    "        \"max_len\" : maxlen,\n",
    "        \"pct\":pct,\n",
    "        \"step\" : step,\n",
    "        \"tensor_count\" : tensor_count\n",
    "    },\n",
    "    \"predictions\" : predictions,\n",
    "}\n",
    "\n",
    "with open(f\"{filename}.pkl\",'wb') as f:\n",
    "    pickle.dump(pickle_collection, f)"
   ]
  },
  {
   "cell_type": "code",
   "execution_count": 134,
   "metadata": {},
   "outputs": [
    {
     "data": {
      "text/plain": [
       "'./results/model_EdgarAllenPoe_Letters_PCT100_ML60_S6_TC256'"
      ]
     },
     "execution_count": 134,
     "metadata": {},
     "output_type": "execute_result"
    }
   ],
   "source": [
    "filename"
   ]
  }
 ],
 "metadata": {
  "kernelspec": {
   "display_name": "Python 3 (ipykernel)",
   "language": "python",
   "name": "python3"
  },
  "language_info": {
   "codemirror_mode": {
    "name": "ipython",
    "version": 3
   },
   "file_extension": ".py",
   "mimetype": "text/x-python",
   "name": "python",
   "nbconvert_exporter": "python",
   "pygments_lexer": "ipython3",
   "version": "3.9.10"
  }
 },
 "nbformat": 4,
 "nbformat_minor": 4
}
