{
 "cells": [
  {
   "cell_type": "markdown",
   "metadata": {},
   "source": [
    "# Stoneburner, Kurt\n",
    "- ## DSC 550 - Week 01"
   ]
  },
  {
   "cell_type": "code",
   "execution_count": 29,
   "metadata": {},
   "outputs": [],
   "source": [
    "import os\n",
    "import sys\n",
    "# //*** Imports and Load Data\n",
    "import matplotlib.pyplot as plt\n",
    "import numpy as np\n",
    "import pandas as pd"
   ]
  },
  {
   "cell_type": "markdown",
   "metadata": {},
   "source": [
    "### 1. Create an array of size [10,50] and use the random function to fill it with integers between 1 and 500 (inclusive). Load it to a DataFrame.###"
   ]
  },
  {
   "cell_type": "code",
   "execution_count": 30,
   "metadata": {},
   "outputs": [
    {
     "name": "stdout",
     "output_type": "stream",
     "text": [
      "    0    1    2    3    4    5    6    7    8    9   ...   40   41   42   43  \\\n",
      "0  276   67  132   75  496  441  169   32   63   26  ...  479    2  404   45   \n",
      "1   53  362  102  475  163  235  257  142  279  195  ...   34  324  335  447   \n",
      "2  231  468  298  307  368  478   43  226   63  458  ...   18  498  252  421   \n",
      "3  191  401  387  341  197   64  124  156  119  399  ...  150  197  327  107   \n",
      "4  313  356  117   80  206  359  184  134  424  499  ...  426  266  394  365   \n",
      "5  319   18  490   66  384  135  447  152   26  290  ...  350  178  490  136   \n",
      "6   78  155  138  376  270  271  181  242  275   44  ...  466  486   33  247   \n",
      "7  307  224  420  144  242  119  162   13  348  303  ...   60  453   17  488   \n",
      "8  407  343  299  286  338  479  239  164  146  419  ...  163  344  277  362   \n",
      "9  232   60  229  303  410  380  244  162  313  139  ...  324  492   16   55   \n",
      "\n",
      "    44   45   46   47   48   49  \n",
      "0  341  282  168  156  312  402  \n",
      "1  365  379  151  182  381  419  \n",
      "2  159  163   49  294  275  283  \n",
      "3  183  479  138  429  308  444  \n",
      "4  255  360  480  344  374  306  \n",
      "5  283   35   40   57  231  211  \n",
      "6  122  331  168  302  462  106  \n",
      "7  469  479  266   91  369  268  \n",
      "8   92   54  331   39  344  320  \n",
      "9  250  224  320  197  260  413  \n",
      "\n",
      "[10 rows x 50 columns]\n"
     ]
    }
   ],
   "source": [
    "#//*** There is a lot going on in one line of code\n",
    "#//*** 1. np.random.randint generates random number between x and y-1. \n",
    "#//***    It's a Zero based random number hence starting at 1. \n",
    "#//***    501 makes the random number inclusive to 500\n",
    "#//*** 2. size=(10,50) generates a 10 row, by 50 Column Array which is filled with pseudo-random numbers\n",
    "#//*** 3. The 10,50 is piped into a DataFrame.\n",
    "\n",
    "bt_df = pd.DataFrame(np.random.randint(1,501,size=(10,50)))\n",
    "print(bt_df)"
   ]
  },
  {
   "cell_type": "markdown",
   "metadata": {},
   "source": [
    "### 2. Calculate the sum of each row; the sum of each column; and the sum of all entries. ###"
   ]
  },
  {
   "cell_type": "code",
   "execution_count": 31,
   "metadata": {
    "scrolled": false
   },
   "outputs": [
    {
     "name": "stdout",
     "output_type": "stream",
     "text": [
      "Sum of each column\n",
      "\n",
      "0    12351\n",
      "1    12643\n",
      "2    13461\n",
      "3    13583\n",
      "4    13727\n",
      "5    11232\n",
      "6    12414\n",
      "7    11991\n",
      "8    12826\n",
      "9    12836\n",
      "dtype: int64\n",
      "Sum of each Row\n",
      "\n",
      "0     2407\n",
      "1     2454\n",
      "2     2612\n",
      "3     2453\n",
      "4     3074\n",
      "5     2961\n",
      "6     2050\n",
      "7     1423\n",
      "8     2056\n",
      "9     2772\n",
      "10    2838\n",
      "11    2521\n",
      "12    2877\n",
      "13    3362\n",
      "14    2926\n",
      "15    1752\n",
      "16    2370\n",
      "17    2715\n",
      "18    3168\n",
      "19    2320\n",
      "20    2303\n",
      "21    3030\n",
      "22    2557\n",
      "23    2954\n",
      "24    2002\n",
      "25    2157\n",
      "26    1847\n",
      "27    2747\n",
      "28    1992\n",
      "29    2407\n",
      "30    2722\n",
      "31    2359\n",
      "32    2729\n",
      "33    2705\n",
      "34    2106\n",
      "35    3552\n",
      "36    2532\n",
      "37    1896\n",
      "38    1926\n",
      "39    2507\n",
      "40    2470\n",
      "41    3240\n",
      "42    2545\n",
      "43    2673\n",
      "44    2519\n",
      "45    2786\n",
      "46    2111\n",
      "47    2091\n",
      "48    3316\n",
      "49    3172\n",
      "dtype: int64\n",
      "Sum of all Values\n",
      "127064\n"
     ]
    }
   ],
   "source": [
    "#//*** Use the dataframe in-built sum function. Axis=1 Refers to a column-wise operation.\n",
    "print(\"Sum of each column\\n\")\n",
    "print(bt_df.sum(axis=1))\n",
    "\n",
    "#//*** Use the dataframe in-built sum function. Axis=1 Refers to a row-wise operation.\n",
    "print(\"Sum of each Row\\n\")\n",
    "print(bt_df.sum(axis=0))\n",
    "\n",
    "#//*** Get the Sum of each column (or row) and sum the result\n",
    "print(\"Sum of all Values\")\n",
    "print(bt_df.sum(axis=1).sum())"
   ]
  },
  {
   "cell_type": "code",
   "execution_count": 32,
   "metadata": {},
   "outputs": [
    {
     "name": "stdout",
     "output_type": "stream",
     "text": [
      "===========================================\n",
      "Manually verify the row sums match pd.sum()\n",
      "===========================================\n",
      "Manual : pd.Sum() : Equal\n",
      "=========================\n",
      "12351  : 12351    : True\n",
      "12643  : 12643    : True\n",
      "13461  : 13461    : True\n",
      "13583  : 13583    : True\n",
      "13727  : 13727    : True\n",
      "11232  : 11232    : True\n",
      "12414  : 12414    : True\n",
      "11991  : 11991    : True\n",
      "12826  : 12826    : True\n",
      "12836  : 12836    : True\n"
     ]
    }
   ],
   "source": [
    "#//*** Double check the Pandas Row Sums\n",
    "print(\"===========================================\")\n",
    "print(\"Manually verify the row sums match pd.sum()\")\n",
    "print(\"===========================================\")\n",
    "print(\"Manual : pd.Sum() : Equal\")\n",
    "print(\"=========================\")\n",
    "for row_dex in range(0,len(bt_df)):\n",
    "    #//*** This is still cheating since, we're still using the Series.sum()\n",
    "    #print(bt_df.iloc[rowdex].sum())\n",
    "    row_total = 0\n",
    "    for series_dex in range(0,len(bt_df.iloc[row_dex])):\n",
    "        row_total += bt_df.iloc[row_dex][series_dex]\n",
    "    print(f\"{row_total}  : {bt_df.sum(axis=1)[row_dex]}    : {(row_total == bt_df.sum(axis=1)[row_dex])}\")"
   ]
  },
  {
   "cell_type": "markdown",
   "metadata": {},
   "source": [
    "### 3. Determine the minimum; maximum; average; and standard deviation of all entries. ###"
   ]
  },
  {
   "cell_type": "code",
   "execution_count": 34,
   "metadata": {},
   "outputs": [
    {
     "name": "stdout",
     "output_type": "stream",
     "text": [
      "Min value: 1\n",
      "Max value: 499\n",
      "Mean value: 254.128\n",
      "std Dev: 143.20723311341504\n"
     ]
    }
   ],
   "source": [
    "print(f\"Min value: { bt_df.values.flatten().min()}\")\n",
    "print(f\"Max value: { bt_df.values.flatten().max()}\")\n",
    "print(f\"Mean value: { bt_df.values.flatten().mean()}\")\n",
    "print(f\"std Dev: { bt_df.values.flatten().std()}\")\n",
    "      "
   ]
  },
  {
   "cell_type": "markdown",
   "metadata": {},
   "source": [
    "### 4. Sort the DataFrame: a) sort on column 2; b) sort on row 2. ###"
   ]
  },
  {
   "cell_type": "code",
   "execution_count": 35,
   "metadata": {},
   "outputs": [],
   "source": [
    "# //*** CODE HERE"
   ]
  },
  {
   "cell_type": "code",
   "execution_count": 36,
   "metadata": {},
   "outputs": [],
   "source": [
    "# //*** CODE HERE"
   ]
  }
 ],
 "metadata": {
  "kernelspec": {
   "display_name": "Python 3",
   "language": "python",
   "name": "python3"
  },
  "language_info": {
   "codemirror_mode": {
    "name": "ipython",
    "version": 3
   },
   "file_extension": ".py",
   "mimetype": "text/x-python",
   "name": "python",
   "nbconvert_exporter": "python",
   "pygments_lexer": "ipython3",
   "version": "3.8.3"
  }
 },
 "nbformat": 4,
 "nbformat_minor": 4
}
