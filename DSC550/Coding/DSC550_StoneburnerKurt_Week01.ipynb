{
 "cells": [
  {
   "cell_type": "markdown",
   "metadata": {},
   "source": [
    "# Stoneburner, Kurt\n",
    "- ## DSC 550 - Week 01"
   ]
  },
  {
   "cell_type": "code",
   "execution_count": 35,
   "metadata": {},
   "outputs": [],
   "source": [
    "import os\n",
    "import sys\n",
    "# //*** Imports and Load Data\n",
    "import matplotlib.pyplot as plt\n",
    "import numpy as np\n",
    "import pandas as pd"
   ]
  },
  {
   "cell_type": "markdown",
   "metadata": {},
   "source": [
    "### 1. Create an array of size [10,50] and use the random function to fill it with integers between 1 and 500 (inclusive). Load it to a DataFrame.###"
   ]
  },
  {
   "cell_type": "code",
   "execution_count": 36,
   "metadata": {},
   "outputs": [
    {
     "name": "stdout",
     "output_type": "stream",
     "text": [
      "    0    1    2    3    4    5    6    7    8    9   ...   40   41   42   43  \\\n",
      "0  188  382   30  242  276  326  115  347  243  419  ...  230  415  359  185   \n",
      "1  127  353  427  485  449  368    1  444   61  433  ...   89  360   71  423   \n",
      "2   44  408  246  234  322  425  153  218   87  151  ...  472  144  184  408   \n",
      "3  230   94  319  500  118  442  247  288  172  136  ...  143  389  281  482   \n",
      "4  162  143  233  102  491   64   84   55  218  183  ...   66  322  202  250   \n",
      "5   43  460  225  412  421  224  219  413  205  412  ...  178  446  387   93   \n",
      "6  172   61   15   71  450  374   44  439   43  438  ...  214  324    9  118   \n",
      "7  110   41  119  174  346    9  361  121  299  477  ...  306  126  393  287   \n",
      "8  402  232  382  328   60  287   27  358  439   44  ...  151  168  471  302   \n",
      "9  153  193   68  370  480   51   83  340  229   24  ...  348  126  379  325   \n",
      "\n",
      "    44   45   46   47   48   49  \n",
      "0  311  494  368  214  156  149  \n",
      "1   27  280  496  275  309  307  \n",
      "2  215   91  238  288  364   83  \n",
      "3  108  227  191  374   58  396  \n",
      "4  185   20  498  241  276  100  \n",
      "5  455   89  323  194  227  184  \n",
      "6  480  199  200  271  432  153  \n",
      "7   55  201  240  485  366  295  \n",
      "8  477  159  226   49  417  282  \n",
      "9  484  230  259  318  484  236  \n",
      "\n",
      "[10 rows x 50 columns]\n"
     ]
    }
   ],
   "source": [
    "#//*** There is a lot going on in one line of code\n",
    "#//*** 1. np.random.randint generates random number between x and y-1. \n",
    "#//***    It's a Zero based random number hence starting at 1. \n",
    "#//***    501 makes the random number inclusive to 500\n",
    "#//*** 2. size=(10,50) generates a 10 row, by 50 Column Array which is filled with pseudo-random numbers\n",
    "#//*** 3. The 10,50 is piped into a DataFrame.\n",
    "\n",
    "bt_df = pd.DataFrame(np.random.randint(1,501,size=(10,50)))\n",
    "print(bt_df)"
   ]
  },
  {
   "cell_type": "markdown",
   "metadata": {},
   "source": [
    "### 2. Calculate the sum of each row; the sum of each column; and the sum of all entries. ###"
   ]
  },
  {
   "cell_type": "code",
   "execution_count": 37,
   "metadata": {
    "scrolled": false
   },
   "outputs": [
    {
     "name": "stdout",
     "output_type": "stream",
     "text": [
      "Sum of each column\n",
      "\n",
      "0    12898\n",
      "1    14353\n",
      "2    10892\n",
      "3    11908\n",
      "4    12280\n",
      "5    13198\n",
      "6    11812\n",
      "7    12268\n",
      "8    14260\n",
      "9    12538\n",
      "dtype: int64\n",
      "\n",
      "Sum of each Row\n",
      "\n",
      "0     1631\n",
      "1     2367\n",
      "2     2064\n",
      "3     2918\n",
      "4     3413\n",
      "5     2570\n",
      "6     1334\n",
      "7     3023\n",
      "8     1996\n",
      "9     2717\n",
      "10    3048\n",
      "11    2167\n",
      "12    2412\n",
      "13    2204\n",
      "14    2424\n",
      "15    2402\n",
      "16    2112\n",
      "17    3227\n",
      "18    2853\n",
      "19    3249\n",
      "20    2850\n",
      "21    2829\n",
      "22    2026\n",
      "23    2476\n",
      "24    2235\n",
      "25    2624\n",
      "26    1643\n",
      "27    2531\n",
      "28    2297\n",
      "29    3636\n",
      "30    2220\n",
      "31    2700\n",
      "32    2270\n",
      "33    2652\n",
      "34    2411\n",
      "35    2327\n",
      "36    3142\n",
      "37    2311\n",
      "38    2526\n",
      "39    2135\n",
      "40    2197\n",
      "41    2820\n",
      "42    2736\n",
      "43    2873\n",
      "44    2797\n",
      "45    1990\n",
      "46    3039\n",
      "47    2709\n",
      "48    3089\n",
      "49    2185\n",
      "dtype: int64\n",
      "Sum of all Values\n",
      "126407\n"
     ]
    }
   ],
   "source": [
    "#//*** Use the dataframe in-built sum function. Axis=1 Refers to a column-wise operation.\n",
    "print(\"Sum of each column\\n\")\n",
    "print(bt_df.sum(axis=1))\n",
    "print()\n",
    "\n",
    "#//*** Use the dataframe in-built sum function. Axis=1 Refers to a row-wise operation.\n",
    "print(\"Sum of each Row\\n\")\n",
    "print(bt_df.sum(axis=0))\n",
    "\n",
    "#//*** Get the Sum of each column (or row) and sum the result\n",
    "print(\"Sum of all Values\")\n",
    "print(bt_df.sum(axis=1).sum())"
   ]
  },
  {
   "cell_type": "code",
   "execution_count": 38,
   "metadata": {},
   "outputs": [
    {
     "name": "stdout",
     "output_type": "stream",
     "text": [
      "===========================================\n",
      "Manually verify the row sums match pd.sum()\n",
      "===========================================\n",
      "Manual : pd.Sum() : Equal\n",
      "=========================\n",
      "12898  : 12898    : True\n",
      "14353  : 14353    : True\n",
      "10892  : 10892    : True\n",
      "11908  : 11908    : True\n",
      "12280  : 12280    : True\n",
      "13198  : 13198    : True\n",
      "11812  : 11812    : True\n",
      "12268  : 12268    : True\n",
      "14260  : 14260    : True\n",
      "12538  : 12538    : True\n"
     ]
    }
   ],
   "source": [
    "#//*** Double check the Pandas Row Sums\n",
    "print(\"===========================================\")\n",
    "print(\"Manually verify the row sums match pd.sum()\")\n",
    "print(\"===========================================\")\n",
    "print(\"Manual : pd.Sum() : Equal\")\n",
    "print(\"=========================\")\n",
    "for row_dex in range(0,len(bt_df)):\n",
    "    #//*** This is still cheating since, we're still using the Series.sum()\n",
    "    #print(bt_df.iloc[rowdex].sum())\n",
    "    row_total = 0\n",
    "    for series_dex in range(0,len(bt_df.iloc[row_dex])):\n",
    "        row_total += bt_df.iloc[row_dex][series_dex]\n",
    "    print(f\"{row_total}  : {bt_df.sum(axis=1)[row_dex]}    : {(row_total == bt_df.sum(axis=1)[row_dex])}\")"
   ]
  },
  {
   "cell_type": "markdown",
   "metadata": {},
   "source": [
    "### 3. Determine the minimum; maximum; average; and standard deviation of all entries. ###"
   ]
  },
  {
   "cell_type": "code",
   "execution_count": 39,
   "metadata": {},
   "outputs": [
    {
     "name": "stdout",
     "output_type": "stream",
     "text": [
      "Min value: 1\n",
      "Max value: 500\n",
      "Mean value: 252.814\n",
      "std Dev: 143.99538674554822\n"
     ]
    }
   ],
   "source": [
    "print(f\"Min value: { bt_df.values.flatten().min()}\")\n",
    "print(f\"Max value: { bt_df.values.flatten().max()}\")\n",
    "print(f\"Mean value: { bt_df.values.flatten().mean()}\")\n",
    "print(f\"std Dev: { bt_df.values.flatten().std()}\")\n",
    "      "
   ]
  },
  {
   "cell_type": "markdown",
   "metadata": {},
   "source": [
    "### 4. Sort the DataFrame: a) sort on column 2; b) sort on row 2. ###"
   ]
  },
  {
   "cell_type": "code",
   "execution_count": 40,
   "metadata": {},
   "outputs": [
    {
     "name": "stdout",
     "output_type": "stream",
     "text": [
      "=========================\n",
      "Sort By Column 2\n",
      "=========================\n",
      "    0    1    2    3    4    5    6    7    8    9   ...   40   41   42   43  \\\n",
      "7  110   41  119  174  346    9  361  121  299  477  ...  306  126  393  287   \n",
      "6  172   61   15   71  450  374   44  439   43  438  ...  214  324    9  118   \n",
      "3  230   94  319  500  118  442  247  288  172  136  ...  143  389  281  482   \n",
      "4  162  143  233  102  491   64   84   55  218  183  ...   66  322  202  250   \n",
      "9  153  193   68  370  480   51   83  340  229   24  ...  348  126  379  325   \n",
      "8  402  232  382  328   60  287   27  358  439   44  ...  151  168  471  302   \n",
      "1  127  353  427  485  449  368    1  444   61  433  ...   89  360   71  423   \n",
      "0  188  382   30  242  276  326  115  347  243  419  ...  230  415  359  185   \n",
      "2   44  408  246  234  322  425  153  218   87  151  ...  472  144  184  408   \n",
      "5   43  460  225  412  421  224  219  413  205  412  ...  178  446  387   93   \n",
      "\n",
      "    44   45   46   47   48   49  \n",
      "7   55  201  240  485  366  295  \n",
      "6  480  199  200  271  432  153  \n",
      "3  108  227  191  374   58  396  \n",
      "4  185   20  498  241  276  100  \n",
      "9  484  230  259  318  484  236  \n",
      "8  477  159  226   49  417  282  \n",
      "1   27  280  496  275  309  307  \n",
      "0  311  494  368  214  156  149  \n",
      "2  215   91  238  288  364   83  \n",
      "5  455   89  323  194  227  184  \n",
      "\n",
      "[10 rows x 50 columns]\n",
      "\n",
      "=========================\n",
      "Sort By Row 2\n",
      "=========================\n",
      "    6    28   44   36   32   8    42   30   31   40  ...   19   22   7    4   \\\n",
      "0  115    9  311  477  346  243  359  317  310  230  ...  456   22  347  276   \n",
      "1    1    3   27   29   54   61   71   79   86   89  ...  436  444  444  449   \n",
      "2  153  450  215  329  168   87  184  404  368  472  ...  385  210  218  322   \n",
      "3  247   33  108  493  207  172  281  428  483  143  ...  278   41  288  118   \n",
      "4   84  173  185  304  194  218  202  124  430   66  ...  143  188   55  491   \n",
      "5  219  460  455  215  443  205  387   55  298  178  ...  113  151  413  421   \n",
      "6   44   84  480  251  177   43    9  230  182  214  ...  469  146  439  450   \n",
      "7  361  250   55  432  191  299  393  196  196  306  ...  302  431  121  346   \n",
      "8   27  394  477  395  162  439  471   11  206  151  ...  400   29  358   60   \n",
      "9   83  441  484  217  328  229  379  376  141  348  ...  267  364  340  480   \n",
      "\n",
      "    3    33   11   15   46   29  \n",
      "0  242  152   32  294  368  473  \n",
      "1  485  488  489  492  496  499  \n",
      "2  234   68   50  112  238  139  \n",
      "3  500  479   89   13  191   10  \n",
      "4  102  333  323    1  498  335  \n",
      "5  412   32  250  109  323  421  \n",
      "6   71    7   71  389  200  451  \n",
      "7  174  284  363  493  240  382  \n",
      "8  328  494   70  226  226  470  \n",
      "9  370  315  430  273  259  456  \n",
      "\n",
      "[10 rows x 50 columns]\n"
     ]
    }
   ],
   "source": [
    "print(\"=========================\")\n",
    "print(\"Sort By Column 2\")\n",
    "print(\"=========================\")\n",
    "print(bt_df.sort_values(by=(bt_df.columns[1]), axis=0))\n",
    "print()\n",
    "print(\"=========================\")\n",
    "print(\"Sort By Row 2\")\n",
    "print(\"=========================\")\n",
    "print(bt_df.sort_values(by=(bt_df.index.values[1]), axis=1))\n"
   ]
  }
 ],
 "metadata": {
  "kernelspec": {
   "display_name": "Python 3",
   "language": "python",
   "name": "python3"
  },
  "language_info": {
   "codemirror_mode": {
    "name": "ipython",
    "version": 3
   },
   "file_extension": ".py",
   "mimetype": "text/x-python",
   "name": "python",
   "nbconvert_exporter": "python",
   "pygments_lexer": "ipython3",
   "version": "3.8.3"
  }
 },
 "nbformat": 4,
 "nbformat_minor": 4
}
