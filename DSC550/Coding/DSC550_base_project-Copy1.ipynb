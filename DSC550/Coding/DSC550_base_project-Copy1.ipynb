{
 "cells": [
  {
   "cell_type": "markdown",
   "metadata": {},
   "source": [
    "# Stoneburner, Kurt\n",
    "- ## DSC 550 - Week 01"
   ]
  },
  {
   "cell_type": "code",
   "execution_count": 4,
   "metadata": {},
   "outputs": [],
   "source": [
    "import os\n",
    "import sys\n",
    "# //*** Imports and Load Data\n",
    "import matplotlib.pyplot as plt\n",
    "import numpy as np\n",
    "import pandas as pd"
   ]
  },
  {
   "cell_type": "markdown",
   "metadata": {},
   "source": [
    "### 1. Create an array of size [10,50] and use the random function to fill it with integers between 1 and 500 (inclusive). Load it to a DataFrame.###"
   ]
  },
  {
   "cell_type": "code",
   "execution_count": 23,
   "metadata": {},
   "outputs": [
    {
     "name": "stdout",
     "output_type": "stream",
     "text": [
      "    0    1    2    3    4    5    6    7    8    9   ...   40   41   42   43  \\\n",
      "0  465  155  260  340   42  348  111  453  137  465  ...  266  457  347  402   \n",
      "1  161  344  470  256  153  248  100   62  327   17  ...  274  213  156  367   \n",
      "2  382  310  499  329   52  500  313  385  322   34  ...   64  369  236  202   \n",
      "3   19  347  199   45  136  264  275  193  337  377  ...   76   99  296   55   \n",
      "4   86  198   82  178  224  306  375  456  219  387  ...  179  367  177   30   \n",
      "5   97  400  281  189  157  284  416  392  145  375  ...  419  244  342   88   \n",
      "6   96  339  309  466  226  372  407  450  355  129  ...  327  417  262  381   \n",
      "7  442   71  418  272  108  473   19  490  192   40  ...  165  133  248  168   \n",
      "8  255  258  220  363   36  110  205   86  122  426  ...   39   85  361  267   \n",
      "9  300  203   52  458  169   79  149  292  336  485  ...  476   45  326  344   \n",
      "\n",
      "    44   45   46   47   48   49  \n",
      "0  242  217  425  343   16  117  \n",
      "1  154  101  408  287   49   92  \n",
      "2  368   13  403   63  340  172  \n",
      "3  231  180  244  314  298  225  \n",
      "4  493  336  176   90  412    9  \n",
      "5  490  278  401  452  294   40  \n",
      "6  470   97   65  185   31  492  \n",
      "7  309  252  266  382  413  479  \n",
      "8  112   15   31   81   44  270  \n",
      "9  416  171  160  198  253  237  \n",
      "\n",
      "[10 rows x 50 columns]\n"
     ]
    }
   ],
   "source": [
    "#//*** There is a lot going on in one line of code\n",
    "#//*** 1. np.random.randint generates random number between x and y-1. \n",
    "#//***    It's a Zero based random number hence starting at 1. \n",
    "#//***    501 makes the random number inclusive to 500\n",
    "#//*** 2. size=(10,50) generates a 10 row, by 50 Column Array which is filled with pseudo-random numbers\n",
    "#//*** 3. The 10,50 is piped into a DataFrame.\n",
    "\n",
    "bt_df = pd.DataFrame(np.random.randint(1,501,size=(10,50)))\n",
    "print(bt_df)"
   ]
  },
  {
   "cell_type": "markdown",
   "metadata": {},
   "source": [
    "### 2. Calculate the sum of each row; the sum of each column; and the sum of all entries. ###"
   ]
  },
  {
   "cell_type": "code",
   "execution_count": 33,
   "metadata": {
    "scrolled": false
   },
   "outputs": [
    {
     "name": "stdout",
     "output_type": "stream",
     "text": [
      "Sum of each column\n",
      "\n",
      "0    13793\n",
      "1    11794\n",
      "2    12371\n",
      "3    10535\n",
      "4    11288\n",
      "5    12543\n",
      "6    12997\n",
      "7    11889\n",
      "8    10220\n",
      "9    14065\n",
      "dtype: int64\n",
      "Sum of each Row\n",
      "\n",
      "0     2303\n",
      "1     2625\n",
      "2     2790\n",
      "3     2896\n",
      "4     1303\n",
      "5     2984\n",
      "6     2370\n",
      "7     3259\n",
      "8     2492\n",
      "9     2735\n",
      "10    2263\n",
      "11    2198\n",
      "12    2162\n",
      "13    1357\n",
      "14    2588\n",
      "15    1557\n",
      "16    2356\n",
      "17    2380\n",
      "18    2335\n",
      "19    2410\n",
      "20    2129\n",
      "21    2732\n",
      "22    2333\n",
      "23    2161\n",
      "24    2117\n",
      "25    2517\n",
      "26    2600\n",
      "27    2089\n",
      "28    3110\n",
      "29    2833\n",
      "30    2591\n",
      "31    1606\n",
      "32    2371\n",
      "33    2534\n",
      "34    3093\n",
      "35    3249\n",
      "36    2441\n",
      "37    2110\n",
      "38    2931\n",
      "39    2614\n",
      "40    2285\n",
      "41    2429\n",
      "42    2751\n",
      "43    2304\n",
      "44    3285\n",
      "45    1660\n",
      "46    2579\n",
      "47    2395\n",
      "48    2150\n",
      "49    2133\n",
      "dtype: int64\n",
      "Sum of all Values\n",
      "121495\n"
     ]
    }
   ],
   "source": [
    "#//*** Use the dataframe in-built sum function. Axis=1 Refers to a column-wise operation.\n",
    "print(\"Sum of each column\\n\")\n",
    "print(bt_df.sum(axis=1))\n",
    "\n",
    "#//*** Use the dataframe in-built sum function. Axis=1 Refers to a row-wise operation.\n",
    "print(\"Sum of each Row\\n\")\n",
    "print(bt_df.sum(axis=0))\n",
    "\n",
    "#//*** Get the Sum of each column (or row) and sum the result\n",
    "print(\"Sum of all Values\")\n",
    "print(bt_df.sum(axis=1).sum())"
   ]
  },
  {
   "cell_type": "code",
   "execution_count": 51,
   "metadata": {},
   "outputs": [
    {
     "name": "stdout",
     "output_type": "stream",
     "text": [
      "===========================================\n",
      "Manually verify the row sums match pd.sum()\n",
      "===========================================\n",
      "Manual : pd.Sum() : Equal\n",
      "=========================\n",
      "13793  : 13793    : True\n",
      "11794  : 11794    : True\n",
      "12371  : 12371    : True\n",
      "10535  : 10535    : True\n",
      "11288  : 11288    : True\n",
      "12543  : 12543    : True\n",
      "12997  : 12997    : True\n",
      "11889  : 11889    : True\n",
      "10220  : 10220    : True\n",
      "14065  : 14065    : True\n"
     ]
    }
   ],
   "source": [
    "#//*** Double check the Pandas Row Sums\n",
    "print(\"===========================================\")\n",
    "print(\"Manually verify the row sums match pd.sum()\")\n",
    "print(\"===========================================\")\n",
    "print(\"Manual : pd.Sum() : Equal\")\n",
    "print(\"=========================\")\n",
    "for row_dex in range(0,len(bt_df)):\n",
    "    #//*** This is still cheating since, we're still using the Series.sum()\n",
    "    #print(bt_df.iloc[rowdex].sum())\n",
    "    row_total = 0\n",
    "    for series_dex in range(0,len(bt_df.iloc[row_dex])):\n",
    "        row_total += bt_df.iloc[row_dex][series_dex]\n",
    "    print(f\"{row_total}  : {bt_df.sum(axis=1)[row_dex]}    : {(row_total == bt_df.sum(axis=1)[row_dex])}\")"
   ]
  },
  {
   "cell_type": "markdown",
   "metadata": {},
   "source": [
    "### 3. Determine the minimum; maximum; average; and standard deviation of all entries. ###"
   ]
  },
  {
   "cell_type": "code",
   "execution_count": 55,
   "metadata": {},
   "outputs": [
    {
     "data": {
      "text/plain": [
       "0     230.3\n",
       "1     262.5\n",
       "2     279.0\n",
       "3     289.6\n",
       "4     130.3\n",
       "5     298.4\n",
       "6     237.0\n",
       "7     325.9\n",
       "8     249.2\n",
       "9     273.5\n",
       "10    226.3\n",
       "11    219.8\n",
       "12    216.2\n",
       "13    135.7\n",
       "14    258.8\n",
       "15    155.7\n",
       "16    235.6\n",
       "17    238.0\n",
       "18    233.5\n",
       "19    241.0\n",
       "20    212.9\n",
       "21    273.2\n",
       "22    233.3\n",
       "23    216.1\n",
       "24    211.7\n",
       "25    251.7\n",
       "26    260.0\n",
       "27    208.9\n",
       "28    311.0\n",
       "29    283.3\n",
       "30    259.1\n",
       "31    160.6\n",
       "32    237.1\n",
       "33    253.4\n",
       "34    309.3\n",
       "35    324.9\n",
       "36    244.1\n",
       "37    211.0\n",
       "38    293.1\n",
       "39    261.4\n",
       "40    228.5\n",
       "41    242.9\n",
       "42    275.1\n",
       "43    230.4\n",
       "44    328.5\n",
       "45    166.0\n",
       "46    257.9\n",
       "47    239.5\n",
       "48    215.0\n",
       "49    213.3\n",
       "dtype: float64"
      ]
     },
     "execution_count": 55,
     "metadata": {},
     "output_type": "execute_result"
    }
   ],
   "source": [
    "bt_df.mean()"
   ]
  },
  {
   "cell_type": "markdown",
   "metadata": {},
   "source": [
    "### 4. Sort the DataFrame: a) sort on column 2; b) sort on row 2. ###"
   ]
  },
  {
   "cell_type": "code",
   "execution_count": null,
   "metadata": {},
   "outputs": [],
   "source": [
    "# //*** CODE HERE"
   ]
  },
  {
   "cell_type": "code",
   "execution_count": null,
   "metadata": {},
   "outputs": [],
   "source": [
    "# //*** CODE HERE"
   ]
  }
 ],
 "metadata": {
  "kernelspec": {
   "display_name": "Python 3",
   "language": "python",
   "name": "python3"
  },
  "language_info": {
   "codemirror_mode": {
    "name": "ipython",
    "version": 3
   },
   "file_extension": ".py",
   "mimetype": "text/x-python",
   "name": "python",
   "nbconvert_exporter": "python",
   "pygments_lexer": "ipython3",
   "version": "3.8.3"
  }
 },
 "nbformat": 4,
 "nbformat_minor": 4
}
