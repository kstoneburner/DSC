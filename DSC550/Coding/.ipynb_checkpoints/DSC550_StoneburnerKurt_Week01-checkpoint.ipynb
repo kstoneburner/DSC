{
 "cells": [
  {
   "cell_type": "markdown",
   "metadata": {},
   "source": [
    "# Stoneburner, Kurt\n",
    "- ## DSC 550 - Week 01"
   ]
  },
  {
   "cell_type": "code",
   "execution_count": 35,
   "metadata": {},
   "outputs": [],
   "source": [
    "import os\n",
    "import sys\n",
    "# //*** Imports and Load Data\n",
    "import matplotlib.pyplot as plt\n",
    "import numpy as np\n",
    "import pandas as pd"
   ]
  },
  {
   "cell_type": "markdown",
   "metadata": {},
   "source": [
    "### 1. Create an array of size [10,50] and use the random function to fill it with integers between 1 and 500 (inclusive). Load it to a DataFrame.###"
   ]
  },
  {
   "cell_type": "code",
   "execution_count": 36,
   "metadata": {},
   "outputs": [
    {
     "name": "stdout",
     "output_type": "stream",
     "text": [
      "    0    1    2    3    4    5    6    7    8    9   ...   40   41   42   43  \\\n",
      "0  188  382   30  242  276  326  115  347  243  419  ...  230  415  359  185   \n",
      "1  127  353  427  485  449  368    1  444   61  433  ...   89  360   71  423   \n",
      "2   44  408  246  234  322  425  153  218   87  151  ...  472  144  184  408   \n",
      "3  230   94  319  500  118  442  247  288  172  136  ...  143  389  281  482   \n",
      "4  162  143  233  102  491   64   84   55  218  183  ...   66  322  202  250   \n",
      "5   43  460  225  412  421  224  219  413  205  412  ...  178  446  387   93   \n",
      "6  172   61   15   71  450  374   44  439   43  438  ...  214  324    9  118   \n",
      "7  110   41  119  174  346    9  361  121  299  477  ...  306  126  393  287   \n",
      "8  402  232  382  328   60  287   27  358  439   44  ...  151  168  471  302   \n",
      "9  153  193   68  370  480   51   83  340  229   24  ...  348  126  379  325   \n",
      "\n",
      "    44   45   46   47   48   49  \n",
      "0  311  494  368  214  156  149  \n",
      "1   27  280  496  275  309  307  \n",
      "2  215   91  238  288  364   83  \n",
      "3  108  227  191  374   58  396  \n",
      "4  185   20  498  241  276  100  \n",
      "5  455   89  323  194  227  184  \n",
      "6  480  199  200  271  432  153  \n",
      "7   55  201  240  485  366  295  \n",
      "8  477  159  226   49  417  282  \n",
      "9  484  230  259  318  484  236  \n",
      "\n",
      "[10 rows x 50 columns]\n"
     ]
    }
   ],
   "source": [
    "#//*** There is a lot going on in one line of code\n",
    "#//*** 1. np.random.randint generates random number between x and y-1. \n",
    "#//***    It's a Zero based random number hence starting at 1. \n",
    "#//***    501 makes the random number inclusive to 500\n",
    "#//*** 2. size=(10,50) generates a 10 row, by 50 Column Array which is filled with pseudo-random numbers\n",
    "#//*** 3. The 10,50 is piped into a DataFrame.\n",
    "\n",
    "bt_df = pd.DataFrame(np.random.randint(1,501,size=(10,50)))\n",
    "print(bt_df)"
   ]
  },
  {
   "cell_type": "markdown",
   "metadata": {},
   "source": [
    "### 2. Calculate the sum of each row; the sum of each column; and the sum of all entries. ###"
   ]
  },
  {
   "cell_type": "code",
   "execution_count": 37,
   "metadata": {
    "scrolled": false
   },
   "outputs": [
    {
     "name": "stdout",
     "output_type": "stream",
     "text": [
      "Sum of each column\n",
      "\n",
      "0    12898\n",
      "1    14353\n",
      "2    10892\n",
      "3    11908\n",
      "4    12280\n",
      "5    13198\n",
      "6    11812\n",
      "7    12268\n",
      "8    14260\n",
      "9    12538\n",
      "dtype: int64\n",
      "\n",
      "Sum of each Row\n",
      "\n",
      "0     1631\n",
      "1     2367\n",
      "2     2064\n",
      "3     2918\n",
      "4     3413\n",
      "5     2570\n",
      "6     1334\n",
      "7     3023\n",
      "8     1996\n",
      "9     2717\n",
      "10    3048\n",
      "11    2167\n",
      "12    2412\n",
      "13    2204\n",
      "14    2424\n",
      "15    2402\n",
      "16    2112\n",
      "17    3227\n",
      "18    2853\n",
      "19    3249\n",
      "20    2850\n",
      "21    2829\n",
      "22    2026\n",
      "23    2476\n",
      "24    2235\n",
      "25    2624\n",
      "26    1643\n",
      "27    2531\n",
      "28    2297\n",
      "29    3636\n",
      "30    2220\n",
      "31    2700\n",
      "32    2270\n",
      "33    2652\n",
      "34    2411\n",
      "35    2327\n",
      "36    3142\n",
      "37    2311\n",
      "38    2526\n",
      "39    2135\n",
      "40    2197\n",
      "41    2820\n",
      "42    2736\n",
      "43    2873\n",
      "44    2797\n",
      "45    1990\n",
      "46    3039\n",
      "47    2709\n",
      "48    3089\n",
      "49    2185\n",
      "dtype: int64\n",
      "Sum of all Values\n",
      "126407\n"
     ]
    }
   ],
   "source": [
    "#//*** Use the dataframe in-built sum function. Axis=1 Refers to a column-wise operation.\n",
    "print(\"Sum of each column\\n\")\n",
    "print(bt_df.sum(axis=1))\n",
    "print()\n",
    "\n",
    "#//*** Use the dataframe in-built sum function. Axis=1 Refers to a row-wise operation.\n",
    "print(\"Sum of each Row\\n\")\n",
    "print(bt_df.sum(axis=0))\n",
    "\n",
    "#//*** Get the Sum of each column (or row) and sum the result\n",
    "print(\"Sum of all Values\")\n",
    "print(bt_df.sum(axis=1).sum())"
   ]
  },
  {
   "cell_type": "code",
   "execution_count": 38,
   "metadata": {},
   "outputs": [
    {
     "name": "stdout",
     "output_type": "stream",
     "text": [
      "===========================================\n",
      "Manually verify the row sums match pd.sum()\n",
      "===========================================\n",
      "Manual : pd.Sum() : Equal\n",
      "=========================\n",
      "12898  : 12898    : True\n",
      "14353  : 14353    : True\n",
      "10892  : 10892    : True\n",
      "11908  : 11908    : True\n",
      "12280  : 12280    : True\n",
      "13198  : 13198    : True\n",
      "11812  : 11812    : True\n",
      "12268  : 12268    : True\n",
      "14260  : 14260    : True\n",
      "12538  : 12538    : True\n"
     ]
    }
   ],
   "source": [
    "#//*** Double check the Pandas Row Sums\n",
    "print(\"===========================================\")\n",
    "print(\"Manually verify the row sums match pd.sum()\")\n",
    "print(\"===========================================\")\n",
    "print(\"Manual : pd.Sum() : Equal\")\n",
    "print(\"=========================\")\n",
    "for row_dex in range(0,len(bt_df)):\n",
    "    #//*** This is still cheating since, we're still using the Series.sum()\n",
    "    #print(bt_df.iloc[rowdex].sum())\n",
    "    row_total = 0\n",
    "    for series_dex in range(0,len(bt_df.iloc[row_dex])):\n",
    "        row_total += bt_df.iloc[row_dex][series_dex]\n",
    "    print(f\"{row_total}  : {bt_df.sum(axis=1)[row_dex]}    : {(row_total == bt_df.sum(axis=1)[row_dex])}\")"
   ]
  },
  {
   "cell_type": "markdown",
   "metadata": {},
   "source": [
    "### 3. Determine the minimum; maximum; average; and standard deviation of all entries. ###"
   ]
  },
  {
   "cell_type": "code",
   "execution_count": 39,
   "metadata": {},
   "outputs": [
    {
     "name": "stdout",
     "output_type": "stream",
     "text": [
      "Min value: 1\n",
      "Max value: 500\n",
      "Mean value: 252.814\n",
      "std Dev: 143.99538674554822\n"
     ]
    }
   ],
   "source": [
    "#//*** df.flatten() converts the dataframe to a numpy array which allows the operations to be performed\n",
    "\n",
    "print(f\"Min value: { bt_df.values.flatten().min()}\")\n",
    "print(f\"Max value: { bt_df.values.flatten().max()}\")\n",
    "print(f\"Mean value: { bt_df.values.flatten().mean()}\")\n",
    "print(f\"std Dev: { bt_df.values.flatten().std()}\")\n",
    "      "
   ]
  },
  {
   "cell_type": "markdown",
   "metadata": {},
   "source": [
    "### 4. Sort the DataFrame:  a) sort on column 2; b) sort on row 2. ###"
   ]
  },
  {
   "cell_type": "code",
   "execution_count": null,
   "metadata": {},
   "outputs": [],
   "source": [
    "print(\"=========================\")\n",
    "print(\"Sort By Column 2\")\n",
    "print(\"=========================\")\n",
    "print(bt_df.sort_values(by=(bt_df.columns[1]), axis=0))\n",
    "print()\n",
    "print(\"=========================\")\n",
    "print(\"Sort By Row 2\")\n",
    "print(\"=========================\")\n",
    "print(bt_df.sort_values(by=(bt_df.index.values[1]), axis=1))"
   ]
  },
  {
   "cell_type": "code",
   "execution_count": 41,
   "metadata": {},
   "outputs": [
    {
     "name": "stdout",
     "output_type": "stream",
     "text": [
      "0    [9, 22, 23, 25, 30, 32, 60, 89, 104, 115, 132,...\n",
      "1    [1, 3, 27, 29, 54, 61, 71, 79, 86, 89, 127, 17...\n",
      "2    [11, 18, 44, 50, 55, 68, 74, 78, 83, 87, 90, 9...\n",
      "3    [10, 12, 13, 18, 21, 33, 41, 53, 58, 86, 89, 9...\n",
      "4    [1, 20, 55, 58, 64, 66, 84, 100, 102, 124, 143...\n",
      "5    [5, 21, 32, 43, 55, 89, 93, 109, 113, 135, 143...\n",
      "6    [7, 9, 15, 34, 43, 44, 61, 71, 71, 75, 77, 84,...\n",
      "7    [9, 13, 16, 41, 46, 49, 55, 55, 79, 90, 110, 1...\n",
      "8    [11, 22, 27, 29, 44, 49, 60, 70, 151, 157, 159...\n",
      "9    [3, 24, 29, 51, 53, 58, 68, 69, 81, 83, 126, 1...\n",
      "dtype: object\n",
      "    0    1    2    3    4    5    6    7    8    9   ...   40   41   42   43  \\\n",
      "0   43   41   15   71   60    9    1   55   43   24  ...   66  126    9   93   \n",
      "1   44   61   30  102  118   51   27  121   61   44  ...   89  126   71  118   \n",
      "2  110   94   68  174  276   64   44  218   87  136  ...  143  144  184  185   \n",
      "3  127  143  119  234  322  224   83  288  172  151  ...  151  168  202  250   \n",
      "4  153  193  225  242  346  287   84  340  205  183  ...  178  322  281  287   \n",
      "5  162  232  233  328  421  326  115  347  218  412  ...  214  324  359  302   \n",
      "6  172  353  246  370  449  368  153  358  229  419  ...  230  360  379  325   \n",
      "7  188  382  319  412  450  374  219  413  243  433  ...  306  389  387  408   \n",
      "8  230  408  382  485  480  425  247  439  299  438  ...  348  415  393  423   \n",
      "9  402  460  427  500  491  442  361  444  439  477  ...  472  446  471  482   \n",
      "\n",
      "    44   45   46   47   48   49  \n",
      "0   27   20  191   49   58   83  \n",
      "1   55   89  200  194  156  100  \n",
      "2  108   91  226  214  227  149  \n",
      "3  185  159  238  241  276  153  \n",
      "4  215  199  240  271  309  184  \n",
      "5  311  201  259  275  364  236  \n",
      "6  455  227  323  288  366  282  \n",
      "7  477  230  368  318  417  295  \n",
      "8  480  280  496  374  432  307  \n",
      "9  484  494  498  485  484  396  \n",
      "\n",
      "[10 rows x 50 columns]\n"
     ]
    }
   ],
   "source": [
    "print(bt_df.apply(np.sort, axis=1))\n",
    "print(bt_df.apply(np.sort, axis=0))\n"
   ]
  }
 ],
 "metadata": {
  "kernelspec": {
   "display_name": "Python 3",
   "language": "python",
   "name": "python3"
  },
  "language_info": {
   "codemirror_mode": {
    "name": "ipython",
    "version": 3
   },
   "file_extension": ".py",
   "mimetype": "text/x-python",
   "name": "python",
   "nbconvert_exporter": "python",
   "pygments_lexer": "ipython3",
   "version": "3.8.3"
  }
 },
 "nbformat": 4,
 "nbformat_minor": 4
}
