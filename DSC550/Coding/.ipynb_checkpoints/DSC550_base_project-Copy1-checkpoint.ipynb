{
 "cells": [
  {
   "cell_type": "markdown",
   "metadata": {},
   "source": [
    "# Stoneburner, Kurt\n",
    "- ## DSC 550 - Week 01"
   ]
  },
  {
   "cell_type": "code",
   "execution_count": 4,
   "metadata": {},
   "outputs": [],
   "source": [
    "import os\n",
    "import sys\n",
    "# //*** Imports and Load Data\n",
    "import matplotlib.pyplot as plt\n",
    "import numpy as np\n",
    "import pandas as pd"
   ]
  },
  {
   "cell_type": "markdown",
   "metadata": {},
   "source": [
    "### 1. Create an array of size [10,50] and use the random function to fill it with integers between 1 and 500 (inclusive). Load it to a DataFrame.###"
   ]
  },
  {
   "cell_type": "code",
   "execution_count": 23,
   "metadata": {},
   "outputs": [
    {
     "name": "stdout",
     "output_type": "stream",
     "text": [
      "    0    1    2    3    4    5    6    7    8    9   ...   40   41   42   43  \\\n",
      "0  465  155  260  340   42  348  111  453  137  465  ...  266  457  347  402   \n",
      "1  161  344  470  256  153  248  100   62  327   17  ...  274  213  156  367   \n",
      "2  382  310  499  329   52  500  313  385  322   34  ...   64  369  236  202   \n",
      "3   19  347  199   45  136  264  275  193  337  377  ...   76   99  296   55   \n",
      "4   86  198   82  178  224  306  375  456  219  387  ...  179  367  177   30   \n",
      "5   97  400  281  189  157  284  416  392  145  375  ...  419  244  342   88   \n",
      "6   96  339  309  466  226  372  407  450  355  129  ...  327  417  262  381   \n",
      "7  442   71  418  272  108  473   19  490  192   40  ...  165  133  248  168   \n",
      "8  255  258  220  363   36  110  205   86  122  426  ...   39   85  361  267   \n",
      "9  300  203   52  458  169   79  149  292  336  485  ...  476   45  326  344   \n",
      "\n",
      "    44   45   46   47   48   49  \n",
      "0  242  217  425  343   16  117  \n",
      "1  154  101  408  287   49   92  \n",
      "2  368   13  403   63  340  172  \n",
      "3  231  180  244  314  298  225  \n",
      "4  493  336  176   90  412    9  \n",
      "5  490  278  401  452  294   40  \n",
      "6  470   97   65  185   31  492  \n",
      "7  309  252  266  382  413  479  \n",
      "8  112   15   31   81   44  270  \n",
      "9  416  171  160  198  253  237  \n",
      "\n",
      "[10 rows x 50 columns]\n"
     ]
    }
   ],
   "source": [
    "#//*** np.random.randint generates random number between x and y-1. It's a Zero based random number hence starting at 1. \n",
    "#//** 501 makes the r\n",
    "bt_df = pd.DataFrame(np.random.randint(1,501,size=(10,50)))\n",
    "print(bt_df)"
   ]
  },
  {
   "cell_type": "markdown",
   "metadata": {},
   "source": [
    "### 2. Calculate the sum of each row; the sum of each column; and the sum of all entries. ###"
   ]
  },
  {
   "cell_type": "code",
   "execution_count": null,
   "metadata": {},
   "outputs": [],
   "source": [
    "# //*** CODE HERE"
   ]
  },
  {
   "cell_type": "markdown",
   "metadata": {},
   "source": [
    "### 3. Determine the minimum; maximum; average; and standard deviation of all entries. ###"
   ]
  },
  {
   "cell_type": "code",
   "execution_count": null,
   "metadata": {},
   "outputs": [],
   "source": [
    "# //*** CODE HERE"
   ]
  },
  {
   "cell_type": "markdown",
   "metadata": {},
   "source": [
    "### 4. Sort the DataFrame: a) sort on column 2; b) sort on row 2. ###"
   ]
  },
  {
   "cell_type": "code",
   "execution_count": null,
   "metadata": {},
   "outputs": [],
   "source": [
    "# //*** CODE HERE"
   ]
  },
  {
   "cell_type": "code",
   "execution_count": null,
   "metadata": {},
   "outputs": [],
   "source": [
    "# //*** CODE HERE"
   ]
  }
 ],
 "metadata": {
  "kernelspec": {
   "display_name": "Python 3",
   "language": "python",
   "name": "python3"
  },
  "language_info": {
   "codemirror_mode": {
    "name": "ipython",
    "version": 3
   },
   "file_extension": ".py",
   "mimetype": "text/x-python",
   "name": "python",
   "nbconvert_exporter": "python",
   "pygments_lexer": "ipython3",
   "version": "3.8.3"
  }
 },
 "nbformat": 4,
 "nbformat_minor": 4
}
