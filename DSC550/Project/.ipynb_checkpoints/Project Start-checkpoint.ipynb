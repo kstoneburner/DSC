{
 "cells": [
  {
   "cell_type": "markdown",
   "metadata": {},
   "source": [
    "# Stoneburner, Kurt#\n",
    "- ## DSC 550 - Week 06\n",
    "- ## Milestone #1"
   ]
  },
  {
   "cell_type": "code",
   "execution_count": null,
   "metadata": {},
   "outputs": [],
   "source": [
    "#//*** Consider using Waterfall Charts to plot Expected vs actual values.\n",
    "#//*** This may require bar charts and binning."
   ]
  },
  {
   "cell_type": "code",
   "execution_count": 1,
   "metadata": {},
   "outputs": [
    {
     "data": {
      "text/html": [
       "<style>.container { width:100% !important; }</style>"
      ],
      "text/plain": [
       "<IPython.core.display.HTML object>"
      ]
     },
     "metadata": {},
     "output_type": "display_data"
    }
   ],
   "source": [
    "import os\n",
    "import sys\n",
    "# //*** Imports and Load Data\n",
    "import matplotlib.pyplot as plt\n",
    "import numpy as np\n",
    "import pandas as pd\n",
    "\n",
    "#//*** Use the whole window in the IPYNB editor\n",
    "from IPython.core.display import display, HTML\n",
    "display(HTML(\"<style>.container { width:100% !important; }</style>\"))\n",
    "\n",
    "#//*** Maximize columns and rows displayed by pandas\n",
    "pd.set_option('display.max_rows', 100)\n",
    "pd.set_option('display.max_columns', None)"
   ]
  },
  {
   "cell_type": "markdown",
   "metadata": {},
   "source": [
    "Begin Milestone 1 with a 250-500-word narrative describing an original idea for an analysis/model building business problem. Then, do a graphical analysis creating a minimum of four graphs. Label your graphs appropriately and explain/analyze the information provided by each graph. Keep in mind that your analysis may look very different from the Titanic tutorial graphical analysis. Write a short overview/conclusion of the insights gained from your graphical analysis."
   ]
  },
  {
   "cell_type": "code",
   "execution_count": 9,
   "metadata": {},
   "outputs": [
    {
     "name": "stdout",
     "output_type": "stream",
     "text": [
      "              date    race   cases  deaths         county  cty_newconfirm  \\\n",
      "0       2020-04-13  Latino    5276     170         Solano               1   \n",
      "1       2020-04-13  Latino    5276     170         Sonoma               2   \n",
      "2       2020-04-13  Latino    5276     170   Contra Costa              28   \n",
      "6       2020-04-13  Latino    5276     170  San Francisco              73   \n",
      "9       2020-04-13  Latino    5276     170      San Mateo              15   \n",
      "...            ...     ...     ...     ...            ...             ...   \n",
      "130221  2021-02-27   Black  109591    3161     Sacramento             101   \n",
      "130225  2021-02-27   Black  109591    3161   Contra Costa             134   \n",
      "130237  2021-02-27   Black  109591    3161    Los Angeles            1144   \n",
      "130241  2021-02-27   Black  109591    3161      San Diego             450   \n",
      "130254  2021-02-27   Black  109591    3161        Alameda             178   \n",
      "\n",
      "        cty_newdeath  state_confirmed       pop  pop_race  pop_100k  \\\n",
      "0                  0            22348    447643    122103         4   \n",
      "1                  0            22348    494336    134954         4   \n",
      "2                  1            22348   1153526    300420        11   \n",
      "6                  3            22348    881549    134309         8   \n",
      "9                  0            22348    766573    183978         7   \n",
      "...              ...              ...       ...       ...       ...   \n",
      "130221             0          3470877   1552058    151589        15   \n",
      "130225             7          3470877   1153526    100798        11   \n",
      "130237            87          3470877  10039107    798279       100   \n",
      "130241            13          3470877   3338330    157113        33   \n",
      "130254             0          3470877   1671329    169954        16   \n",
      "\n",
      "        race_100k  confirm_cty_100k  confirm_state_100k  \n",
      "0               1                 0                5587  \n",
      "1               1                 0                5587  \n",
      "2               3                 2                2031  \n",
      "6               1                 9                2793  \n",
      "9               1                 2                3192  \n",
      "...           ...               ...                 ...  \n",
      "130221          1                 6              231391  \n",
      "130225          1                12              315534  \n",
      "130237          7                11               34708  \n",
      "130241          1                13              105178  \n",
      "130254          1                11              216929  \n",
      "\n",
      "[24075 rows x 14 columns]\n"
     ]
    }
   ],
   "source": [
    "nbt_df = pd.read_pickle(\"z_ca_covid_by_race.zip\")\n",
    "state_race_df = pd.read_pickle(\"z_state_ethnic_totals.zip\")\n",
    "\n",
    "pop_attrib_df = pd.read_pickle(\"z_pop_attrib_df.zip\")\n",
    "print(nbt_df)"
   ]
  },
  {
   "cell_type": "code",
   "execution_count": 10,
   "metadata": {},
   "outputs": [
    {
     "name": "stdout",
     "output_type": "stream",
     "text": [
      "           date  all_races     Latino  Multiracial     Black     Asian  \\\n",
      "0    2020-04-13   0.000000   0.000000     0.000000  0.000000  0.000000   \n",
      "1    2020-04-14   2.506329   1.605063     0.088608  0.194937  0.362025   \n",
      "2    2020-04-15   2.749367   1.324051     0.065823  0.174684  0.293671   \n",
      "3    2020-04-16   4.450633   1.468354     0.083544  0.172152  0.506329   \n",
      "4    2020-04-17   3.407595   1.554430     0.035443  0.172152  0.324051   \n",
      "..          ...        ...        ...          ...       ...       ...   \n",
      "316  2021-02-23   8.726582   7.683544     0.318987  0.696203  1.313924   \n",
      "317  2021-02-24  13.425316  11.653165     0.825316  0.658228  1.445570   \n",
      "318  2021-02-25  12.569620   5.997468     0.863291  0.825316  1.377215   \n",
      "319  2021-02-26  13.670886  12.764557     0.179747  0.726582  1.331646   \n",
      "320  2021-02-27  13.040506   8.027848     0.521519  0.605063  1.027848   \n",
      "\n",
      "        White  \n",
      "0    0.000000  \n",
      "1    0.759494  \n",
      "2    0.759494  \n",
      "3    0.670886  \n",
      "4    0.640506  \n",
      "..        ...  \n",
      "316  3.000000  \n",
      "317  3.483544  \n",
      "318  4.410127  \n",
      "319  2.215190  \n",
      "320  2.893671  \n",
      "\n",
      "[321 rows x 7 columns]\n"
     ]
    }
   ],
   "source": [
    "print(state_race_df)"
   ]
  },
  {
   "cell_type": "code",
   "execution_count": null,
   "metadata": {},
   "outputs": [],
   "source": [
    "print(pop_attrib_df)\n"
   ]
  }
 ],
 "metadata": {
  "kernelspec": {
   "display_name": "Python 3",
   "language": "python",
   "name": "python3"
  },
  "language_info": {
   "codemirror_mode": {
    "name": "ipython",
    "version": 3
   },
   "file_extension": ".py",
   "mimetype": "text/x-python",
   "name": "python",
   "nbconvert_exporter": "python",
   "pygments_lexer": "ipython3",
   "version": "3.8.3"
  }
 },
 "nbformat": 4,
 "nbformat_minor": 4
}
