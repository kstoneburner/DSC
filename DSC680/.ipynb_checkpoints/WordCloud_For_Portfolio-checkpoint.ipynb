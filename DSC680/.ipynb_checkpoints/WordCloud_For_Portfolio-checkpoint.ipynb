{
 "cells": [
  {
   "cell_type": "markdown",
   "id": "9677473f",
   "metadata": {},
   "source": [
    "Code References\n",
    "- https://www.tutorialexample.com/python-create-word-cloud-image-by-word-frequency-or-weight-value-python-wordcloud-tutorial/\n",
    "- https://stackoverflow.com/questions/45588724/generating-word-cloud-for-items-in-a-list-in-python"
   ]
  },
  {
   "cell_type": "code",
   "execution_count": 35,
   "id": "9138ca6a",
   "metadata": {},
   "outputs": [
    {
     "ename": "SyntaxError",
     "evalue": "invalid syntax (4285801933.py, line 16)",
     "output_type": "error",
     "traceback": [
      "\u001b[1;36m  Input \u001b[1;32mIn [35]\u001b[1;36m\u001b[0m\n\u001b[1;33m    \"matplotlib\" : 80,\u001b[0m\n\u001b[1;37m    ^\u001b[0m\n\u001b[1;31mSyntaxError\u001b[0m\u001b[1;31m:\u001b[0m invalid syntax\n"
     ]
    }
   ],
   "source": [
    "import matplotlib.pyplot as plt\n",
    "from wordcloud import WordCloud\n",
    "\n",
    "\n",
    "\n",
    "#convert list to string and generate\n",
    "#unique_string=(\" \").join(my_list)\n",
    "weighted_dict = {\n",
    "    \"python\" : 100,\n",
    "    \"javascript\" : 100,\n",
    "    \"NodeJS\" : 100,\n",
    "    \"SQL\" : 100,\n",
    "    \"tensorflow\" : 100,\n",
    "    \"time series\" : 80,\n",
    "    \"linear regression\" : 80,\n",
    "    \"matplotlib\" : 80,\n",
    "    \"leadership\" : 80,\n",
    "    \"teamwork\" : 80,\n",
    "    \"story telling\" : 50,\n",
    "    \"real-time environment\" : 50,\n",
    "    \"Production\" : 50,\n",
    "    \"Dashboards\" : 50,\n",
    "    \"COVID\" : 50,\n",
    "    \"research\" : 30,\n",
    "    \"autohotkey\" : 30,\n",
    "    \"frameworks\" : 30,\n",
    "    \"Selenium\" : 30,\n",
    "    \"R\" : 30,\n",
    "    \"rising tide raises all boats\" : 10,\n",
    "    \"non mihi, non tibi, sed nobis\" : 10\n",
    "}\n",
    "unique_string = \"\"\n",
    "for key,value in weighted_dict.items():\n",
    "    \n",
    "    unique_string += ((key + \" \") * value)\n",
    "\n",
    "\n",
    "#wordcloud = WordCloud(width = 1000, height = 500).generate(unique_string)\n",
    "for x in range(1,11):\n",
    "    wordcloud = WordCloud(width = 1000, height = 500, background_color=\"white\").fit_words(weighted_dict)\n",
    "    plt.figure(figsize=(15,8))\n",
    "    plt.imshow(wordcloud)\n",
    "    plt.axis(\"off\")\n",
    "    plt.savefig(f\"skill_cloud_{x}.png\", bbox_inches='tight')\n",
    "plt.show()\n",
    "plt.close()"
   ]
  }
 ],
 "metadata": {
  "kernelspec": {
   "display_name": "Python 3 (ipykernel)",
   "language": "python",
   "name": "python3"
  },
  "language_info": {
   "codemirror_mode": {
    "name": "ipython",
    "version": 3
   },
   "file_extension": ".py",
   "mimetype": "text/x-python",
   "name": "python",
   "nbconvert_exporter": "python",
   "pygments_lexer": "ipython3",
   "version": "3.9.12"
  }
 },
 "nbformat": 4,
 "nbformat_minor": 5
}
