{
 "cells": [
  {
   "cell_type": "markdown",
   "id": "365fba98",
   "metadata": {},
   "source": [
    "Select Hospital Data - https://healthdata.gov/Hospital/COVID-19-Reported-Patient-Impact-and-Hospital-Capa/anag-cw7u\n",
    "\n",
    "CDC De-identified individual cases - 9gb File!: https://data.cdc.gov/Case-Surveillance/COVID-19-Case-Surveillance-Public-Use-Data-with-Ge/n8mc-b4w4\n",
    "\n",
    "\n"
   ]
  },
  {
   "cell_type": "markdown",
   "id": "e0c7fefa",
   "metadata": {},
   "source": [
    "# Download and Build Combined COVID Datasets #\n",
    "This process takes roughly 40 minutes to complete."
   ]
  },
  {
   "cell_type": "markdown",
   "id": "0d741e15",
   "metadata": {},
   "source": [
    "### DataSets ###\n",
    "**John's Hopkins COVID Cases:** https://github.com/CSSEGISandData/COVID-19/raw/master/csse_covid_19_data/csse_covid_19_time_series/time_series_covid19_confirmed_US.csv\n",
    "\n",
    "**John's Hopkins COVID Deaths:** https://github.com/CSSEGISandData/COVID-19/raw/master/csse_covid_19_data/csse_covid_19_time_series/time_series_covid19_deaths_US.csv \n",
    "\n",
    "**CDC U.S. Vaccine Data:** https://data.cdc.gov/api/views/unsk-b7fc/rows.csv?accessType=DOWNLOAD\n",
    "\n",
    "**CDC County Vaccine Data:** https://data.cdc.gov/api/views/8xkx-amqh/rows.csv?accessType=DOWNLOAD\n",
    "\n",
    "**State Hospitalization Data:** https://healthdata.gov/api/views/g62h-syeh/rows.csv?accessType=DOWNLOAD"
   ]
  },
  {
   "cell_type": "code",
   "execution_count": 2,
   "id": "241dcb9e",
   "metadata": {},
   "outputs": [
    {
     "name": "stderr",
     "output_type": "stream",
     "text": [
      "C:\\Users\\stonk013\\AppData\\Local\\Temp\\ipykernel_8940\\1977143726.py:10: DeprecationWarning: Importing display from IPython.core.display is deprecated since IPython 7.14, please import from IPython display\n",
      "  from IPython.core.display import display, HTML\n"
     ]
    },
    {
     "data": {
      "text/html": [
       "<style>.container { width:100% !important; }</style>"
      ],
      "text/plain": [
       "<IPython.core.display.HTML object>"
      ]
     },
     "metadata": {},
     "output_type": "display_data"
    }
   ],
   "source": [
    "import pandas as pd\n",
    "import requests\n",
    "import numpy as np\n",
    "import matplotlib.pyplot as plt\n",
    "import time\n",
    "\n",
    "from importlib import reload #//*** Reload library reloads an external python File.\n",
    "\n",
    "#//*** Use the whole window in the IPYNB editor\n",
    "from IPython.core.display import display, HTML\n",
    "display(HTML(\"<style>.container { width:100% !important; }</style>\"))\n",
    "from IPython.display import clear_output\n",
    "\n",
    "from datetime import datetime\n",
    "from pathlib import Path\n",
    "import os\n",
    "\n",
    "\n",
    "pd.set_option('display.max_colwidth', None)\n",
    "pd.options.display.max_columns = 100\n",
    "pd.options.display.max_rows = 100\n",
    "\n",
    "#//*** Custom Functions outboarded here for Brevity\n",
    "import process_covid\n",
    "\n",
    "\n",
    "data_folder_name = \"raw_data\"\n",
    "#//***  Raw and Processed Filenames\n",
    "confirmed_data_filename = \"z_us_confirmed.csv\"\n",
    "death_data_filename =  \"z_us_death_cases.csv\"\n",
    "county_daily_df_filename = \"z_county_daily_df.csv.zip\"\n",
    "aggregate_hospital_filename = \"z_county_hospital_aggregate.csv.zip\"\n",
    "combined_daily_casevax_filename = \"z_county_daily_casevax.csv.zip\"\n",
    "weekly_combined_filename = \"z_county_weekly_df.csv.zip\"\n",
    "\n",
    "#//*** Weekly Combined Cases,Deaths, Vaccines, Hospital\n",
    "weekly_combined_cdvh_df_filename = \"z_county_weekly_combined_cdvh_df.csv.zip\"\n"
   ]
  },
  {
   "cell_type": "code",
   "execution_count": null,
   "id": "ba0cd0b7",
   "metadata": {},
   "outputs": [],
   "source": []
  },
  {
   "cell_type": "code",
   "execution_count": null,
   "id": "5f7a3910",
   "metadata": {},
   "outputs": [],
   "source": []
  },
  {
   "cell_type": "code",
   "execution_count": 3,
   "id": "2f914a9b",
   "metadata": {},
   "outputs": [
    {
     "name": "stdout",
     "output_type": "stream",
     "text": [
      "Elapsed Time: 0s\n",
      "Exporting DataFrame to Disk.\n",
      "DONE! Total Elapsed Time: 1211s\n"
     ]
    }
   ],
   "source": [
    "\n",
    "reload(process_covid)\n",
    "\n",
    "\n",
    "#//******************************************************\n",
    "#//*** Begin Full Download and Data set Processing\n",
    "#//******************************************************\n",
    "\n",
    "start_time = time.time()\n",
    "#//***************************************************************************************************\n",
    "#//*** Download Latest Data - Updates Daily for Confirmed And Deaths\n",
    "#//***************************************************************************************************\n",
    "pc = process_covid.download_data()\n",
    "\n",
    "print(f\"Data Downloaded: {int(time.time() - start_time)}s\")\n",
    "\n",
    "#//*** Merge County Level Cases and Deaths. Converts Column based Days to Row based Days.\n",
    "process_covid.build_county_case_death(\n",
    "    folder = data_folder_name,\n",
    "    confirm = confirmed_data_filename,\n",
    "    death = death_data_filename,\n",
    "    export = county_daily_df_filename,\n",
    ")\n",
    "\n",
    "print(f\"Total Elapsed Time: {int(time.time() - start_time)}s\")\n",
    "\n",
    "#//***************************************************************************************************\n",
    "#//*** Build Weekly Aggregated hospital Values. Sum all hospital stats for each county by Week\n",
    "#//*** Exports to File\n",
    "#//***************************************************************************************************\n",
    "#//*** 4 - 5 Minute Process!\n",
    "#//***************************************************************************************************\n",
    "#//*** Load Raw Hospital Data\n",
    "raw_hosp_df = process_covid.load_data(filename=\"z_county_hospital.csv.zip\")\n",
    "\n",
    "#//*** Daily Average Columns\n",
    "#//*** Columns to Display\n",
    "#disp_cols = ['collection_week', 'fips_code','state', 'total_beds_7_day_avg','inpatient_beds_7_day_avg','inpatient_beds_used_7_day_avg', 'inpatient_beds_used_covid_7_day_avg', 'total_icu_beds_7_day_avg', 'icu_beds_used_7_day_avg','staffed_icu_adult_patients_confirmed_and_suspected_covid_7_day_avg']\n",
    "\n",
    "#//*** Descriptive Classification Columns: Will take a single value\n",
    "#base_cols = ['collection_week', \"fips_code\",'state']\n",
    "\n",
    "#//*** Columns to Process, ie sum \n",
    "#process_cols = ['total_beds_7_day_avg','inpatient_beds_7_day_avg','inpatient_beds_used_7_day_avg', 'inpatient_beds_used_covid_7_day_avg', 'total_icu_beds_7_day_avg', 'icu_beds_used_7_day_avg','staffed_icu_adult_patients_confirmed_and_suspected_covid_7_day_avg']\n",
    "\n",
    "#//*** Weekly Summed Bed Counts\n",
    "#//*** Columns to Display\n",
    "disp_cols = ['collection_week', 'fips_code','state', 'total_beds_7_day_sum','inpatient_beds_7_day_sum','inpatient_beds_used_7_day_sum', 'inpatient_beds_used_covid_7_day_sum', 'total_icu_beds_7_day_sum', 'icu_beds_used_7_day_sum','staffed_icu_adult_patients_confirmed_and_suspected_covid_7_day_sum']\n",
    "\n",
    "#//*** Descriptive Classification Columns: Will take a single value\n",
    "base_cols = ['collection_week', \"fips_code\",'state']\n",
    "\n",
    "#//*** Columns to Process, ie sum \n",
    "process_cols = ['total_beds_7_day_sum','inpatient_beds_7_day_sum','inpatient_beds_used_7_day_sum', 'inpatient_beds_used_covid_7_day_sum', 'total_icu_beds_7_day_sum', 'icu_beds_used_7_day_sum','staffed_icu_adult_patients_confirmed_and_suspected_covid_7_day_sum']\n",
    "\n",
    "\n",
    "#//***************************************************************************************************\n",
    "#//*** Aggregate (sum) Raw Hospital Data\n",
    "#//*** Combine all Hospitals in each county on a given day.\n",
    "#//***************************************************************************************************\n",
    "process_covid.aggregate_columns(raw_hosp_df,\n",
    "    by = \"fips_code\", #//*** All Granular Values to sum. All Hospitals in a County\n",
    "    date_col = 'collection_week', #//*** Date Column \n",
    "    method = 'sum', #//*** Add Columns\n",
    "    base_cols = base_cols, #//** Descriptive Columns\n",
    "    process_cols = process_cols, #//*** Columns to Sum\n",
    "    disp_cols = disp_cols, #//*** Columns to Display\n",
    "    folder=\"raw_data\",\n",
    "    export=aggregate_hospital_filename, #//*** Filename to export DataFrame Too\n",
    ")\n",
    "print(f\"Total Elapsed Time: {int(time.time() - start_time)}s\")\n",
    "\n",
    "\n",
    "#//***************************************************************************************************\n",
    "#//*** Merge Cases & Deaths with Vaccines\n",
    "#//*** Daily Interval, by County\n",
    "#//***************************************************************************************************\n",
    "\n",
    "#//*** Load Vaccine Data. County Level, Daily Interval\n",
    "county_vax_df = process_covid.load_data(action=\"county_vaccine\")\n",
    "display(county_vax_df)\n",
    "\n",
    "#//*** Load Confirmed Cases and Deaths\n",
    "county_daily_df = process_covid.load_data(file=county_daily_df_filename, min_date=county_vax_df['Date'].min())\n",
    "county_daily_df = county_daily_df[county_daily_df[\"Population\"] > 0]\n",
    "display(county_daily_df)\n",
    "\n",
    "#//*** Merge Daily Cases\n",
    "process_covid.merge_df(county_vax_df,county_daily_df,by=\"Date\",left_col=\"FIPS\",right_col=\"FIPS\",export=combined_daily_casevax_filename)\n",
    "\n",
    "#//***************************************************************************************************\n",
    "#//*** Convert Combined Cases & Deaths & Vaccines\n",
    "#//*** To Weekly Interval from Daily\n",
    "#//*** by County \n",
    "#//***************************************************************************************************\n",
    "\n",
    "#//*** Load the Combined Daily Cases and Vaccinations by County\n",
    "daily_casevax_df = process_covid.load_data(filename=combined_daily_casevax_filename)\n",
    "\n",
    "    #//************************************************************\n",
    "    #//*** Load aggregated (summed by county) Hospital Data\n",
    "    #//************************************************************\n",
    "\n",
    "#//*** Load Weekly Aggregated Hospital by County\n",
    "week_hosp_df = process_covid.load_data(filename=aggregate_hospital_filename)\n",
    "\n",
    "\n",
    "#//*** Convert county daily to weekly interval\n",
    "#//*** 10 Minute Build\n",
    "process_covid.create_weekly_data(daily_casevax_df,export=weekly_combined_filename,dates=week_hosp_df['collection_week'].unique() )\n",
    "\n",
    "#//***************************************************************************************************\n",
    "#//*** Combine Aggregated Hospital Data with Weekly Cases & Deaths & Vaccines\n",
    "#//*** Weekly Interval\n",
    "#//*** By County\n",
    "#//***************************************************************************************************\n",
    "\n",
    "#//*** Load Weekly Case Death Vax by County\n",
    "casevax_weekly_df = process_covid.load_data(filename=weekly_combined_filename)\n",
    "\n",
    "\n",
    "\n",
    "#//*** Convert collection_week to datetime\n",
    "week_hosp_df[\"collection_week\"] = pd.to_datetime(week_hosp_df[\"collection_week\"])\n",
    "\n",
    "#//*** Rename columns: collection_week --> Date\n",
    "week_hosp_df.columns = ['Date' if item == 'collection_week' else item for item in week_hosp_df.columns]\n",
    "#//*** Rename columns: fips_code --> FIPS\n",
    "week_hosp_df.columns = ['FIPS' if item == 'fips_code' else item for item in week_hosp_df.columns]\n",
    "\n",
    "#//*** Merge Hospital and Case Death Vax Dataframes\n",
    "process_covid.merge_df(casevax_weekly_df, #//*** Left Df\n",
    "                       week_hosp_df,      #//*** Right DF\n",
    "                       by=\"Date\",         #//*** Aggregate using By Column (should always be a date column since this is a timeseries)\n",
    "                       left_col=\"FIPS\",   #//*** Left Col to Merge\n",
    "                       right_col=\"FIPS\",  #//*** Right Col to Merge\n",
    "                       remove_cols = ['Recip_County'], #//*** Remove these columns for tidiness\n",
    "                       export=weekly_combined_cdvh_df_filename)\n",
    "\n",
    "\n",
    "print(f\"DONE! Total Elapsed Time: {int(time.time() - start_time)}s\")\n"
   ]
  },
  {
   "cell_type": "code",
   "execution_count": null,
   "id": "e6bb76f0",
   "metadata": {},
   "outputs": [],
   "source": [
    "\n"
   ]
  },
  {
   "cell_type": "code",
   "execution_count": null,
   "id": "048efd84",
   "metadata": {},
   "outputs": [],
   "source": [
    "\n"
   ]
  },
  {
   "cell_type": "code",
   "execution_count": null,
   "id": "b82a1f49",
   "metadata": {},
   "outputs": [],
   "source": []
  },
  {
   "cell_type": "code",
   "execution_count": null,
   "id": "21708a22",
   "metadata": {},
   "outputs": [],
   "source": []
  },
  {
   "cell_type": "code",
   "execution_count": null,
   "id": "70b7de67",
   "metadata": {},
   "outputs": [],
   "source": [
    "\n"
   ]
  },
  {
   "cell_type": "code",
   "execution_count": null,
   "id": "0ff62fb4",
   "metadata": {},
   "outputs": [],
   "source": []
  },
  {
   "cell_type": "code",
   "execution_count": null,
   "id": "d24ab330",
   "metadata": {
    "code_folding": [],
    "scrolled": false
   },
   "outputs": [],
   "source": []
  },
  {
   "cell_type": "code",
   "execution_count": null,
   "id": "78bb0fb7",
   "metadata": {},
   "outputs": [],
   "source": []
  },
  {
   "cell_type": "code",
   "execution_count": null,
   "id": "25760f15",
   "metadata": {},
   "outputs": [],
   "source": []
  },
  {
   "cell_type": "code",
   "execution_count": null,
   "id": "0fc4b58a",
   "metadata": {
    "scrolled": false
   },
   "outputs": [],
   "source": []
  },
  {
   "cell_type": "markdown",
   "id": "f3b287d8",
   "metadata": {},
   "source": [
    "## Code Below is Designed to fail. Want to preserve the Notebook Output ##\n"
   ]
  },
  {
   "cell_type": "code",
   "execution_count": 3,
   "id": "fc873864",
   "metadata": {},
   "outputs": [
    {
     "ename": "NameError",
     "evalue": "name 'fail' is not defined",
     "output_type": "error",
     "traceback": [
      "\u001b[1;31m---------------------------------------------------------------------------\u001b[0m",
      "\u001b[1;31mNameError\u001b[0m                                 Traceback (most recent call last)",
      "\u001b[1;32m<ipython-input-3-9f13ecf36e1b>\u001b[0m in \u001b[0;36m<module>\u001b[1;34m\u001b[0m\n\u001b[1;32m----> 1\u001b[1;33m \u001b[1;32mdel\u001b[0m \u001b[0mfail\u001b[0m\u001b[1;33m\u001b[0m\u001b[1;33m\u001b[0m\u001b[0m\n\u001b[0m\u001b[0;32m      2\u001b[0m \u001b[0mfail\u001b[0m\u001b[1;33m\u001b[0m\u001b[1;33m\u001b[0m\u001b[0m\n",
      "\u001b[1;31mNameError\u001b[0m: name 'fail' is not defined"
     ]
    }
   ],
   "source": [
    "del fail\n",
    "fail"
   ]
  },
  {
   "cell_type": "code",
   "execution_count": null,
   "id": "ecdaff2c",
   "metadata": {},
   "outputs": [],
   "source": [
    "if False:\n",
    "    #//*** The original dataset is 9gb and comprises 69 million rows.\n",
    "    #//*** The data has been split into separate dataframes by state, compressed and pickled.\n",
    "    #//*** Process patient impact parses those files, and sum s\n",
    "    reload(process_covid)\n",
    "\n",
    "\n",
    "    pc = process_covid.process_covid()\n",
    "\n",
    "    #//*** Build aggregated Dataframe from the original split dataset\n",
    "    df = pc.process_patient_impact(\n",
    "\n",
    "        #//*** Names of the Columns to Keep \n",
    "        base_cols = [\"case_month\",\"res_state\",\"state_fips_code\",\"res_county\",\"county_fips_code\"],\n",
    "\n",
    "        #//*** Columns to Process (Sum)\n",
    "        process_cols = ['hosp_yn','icu_yn','death_yn','underlying_conditions_yn'],\n",
    "\n",
    "        #//*** Rename columns using a tuple\n",
    "        rename_cols = [('hosp_yn','hosp'),('icu_yn','icu'),('death_yn','death'),('underlying_conditions_yn','uc')],\n",
    "    )\n",
    "    df.to_pickle(f\"./raw_data/summed_outcomes.pkl.zip\")"
   ]
  },
  {
   "cell_type": "code",
   "execution_count": null,
   "id": "84a1e29b",
   "metadata": {},
   "outputs": [],
   "source": [
    "#//*** Aggregate Combined Data\n",
    "reload(process_covid)\n",
    "\n",
    "#//*** Run as Needed takes 4minutes to Process\n",
    "if False:\n",
    "    #//*** Load County Level Daily Cases and Deaths\n",
    "    combined_df = process_covid.load_data(file=county_daily_df_filename )\n",
    "    \n",
    "    #//*** Aggregate Each County into Monthly Data, save results to a File\n",
    "    process_covid.create_monthly_data(combined_df,export=\"z_county_monthly_df.csv.zip\")\n"
   ]
  },
  {
   "cell_type": "code",
   "execution_count": null,
   "id": "c47e72b1",
   "metadata": {
    "scrolled": true
   },
   "outputs": [],
   "source": [
    "#//*** Load and combine Summed Outcomes and Monthly Data: Obsolete Since the Monthly Data is inaccurate for Hospitalization numbers\n",
    "reload(process_covid)\n",
    "#//*** Load Monthly Summed outcomes - Built from Individual Ethno - demographics values\n",
    "outcomes_df = process_covid.load_data(filename=\"summed_outcomes.pkl.zip\")\n",
    "\n",
    "#//*** Load Cases and Deaths Aggregated to Monthly data\n",
    "monthly_df = process_covid.load_data(filename=\"z_county_monthly_df.csv.zip\",trim_first_date=True,trim_last_date=True)\n",
    "\n",
    "\n",
    "#//*** Rename Case_month to Date\n",
    "outcomes_df.columns = [\"Date\" if item == \"case_month\" else item for item in list(outcomes_df.columns)]\n",
    "outcomes_df = outcomes_df[['Date','county_fips_code','case_count','hosp','icu','death','uc']]\n",
    "\n",
    "#//*** Merge Monthly Cases with Monthly Ethno-Demographic Hospital Data\n",
    "df = process_covid.merge_df(outcomes_df,monthly_df,by=\"Date\",left_col=\"county_fips_code\", right_col=\"FIPS\")\n",
    "del df['county_fips_code']\n",
    "df\n",
    "\n",
    "\n",
    "\n",
    "print(df['New_Confirm'].sum(),df['case_count'].sum(),(df['case_count'].sum()/ df['New_Confirm'].sum()))\n",
    "\n",
    "cor_cols = ['hosp','icu','total_vaccinated_percent','total_vaccinated_count','tot_confirm','tot_deaths']\n",
    "disp_cols = ['Date', 'Combined_Key','Population', 'total_vaccinated_percent', 'total_vaccinated_count', 'tot_confirm', 'tot_deaths', 'New_Confirm', 'hosp','icu','New_Deaths','death', 'case_count']  \n",
    "         \n",
    "#'Recip_County', 'FIPS', 'Recip_State' New_Confirm_100k','New_Confirm_avg_daily_100k', 'New_Deaths_100k','New_Deaths_avg_daily_100k'\n",
    "ca_df = df [df['Recip_State'] == \"CA\"]\n",
    "#ca_df = df [df['FIPS'] == 6037]\n",
    "#tdf = ca_df[ca_df['Date'] == ca_df['Date'].max()].sort_values('New_Deaths_avg_daily_100k',ascending=False)[cor_cols]\n",
    "#print(ca_df.columns)\n",
    "\n",
    "#//*** Print Everything to watch it not work\n",
    "for group in ca_df.groupby(\"FIPS\"):\n",
    "    display(group[1][disp_cols])\n",
    "    print(group[1]['New_Confirm'].sum(),group[1]['case_count'].sum())"
   ]
  }
 ],
 "metadata": {
  "kernelspec": {
   "display_name": "Python 3 (ipykernel)",
   "language": "python",
   "name": "python3"
  },
  "language_info": {
   "codemirror_mode": {
    "name": "ipython",
    "version": 3
   },
   "file_extension": ".py",
   "mimetype": "text/x-python",
   "name": "python",
   "nbconvert_exporter": "python",
   "pygments_lexer": "ipython3",
   "version": "3.8.13"
  }
 },
 "nbformat": 4,
 "nbformat_minor": 5
}
