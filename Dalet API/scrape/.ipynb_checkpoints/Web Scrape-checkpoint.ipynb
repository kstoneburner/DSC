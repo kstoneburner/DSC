{
 "cells": [
  {
   "cell_type": "markdown",
   "id": "7ad90e15",
   "metadata": {},
   "source": [
    "https://towardsdatascience.com/data-science-skills-web-scraping-javascript-using-python-97a29738353f"
   ]
  },
  {
   "cell_type": "code",
   "execution_count": 75,
   "id": "4b701b52",
   "metadata": {},
   "outputs": [
    {
     "name": "stdout",
     "output_type": "stream",
     "text": [
      "https://abc7news.com/education/\n"
     ]
    }
   ],
   "source": [
    "import requests\n",
    "\n",
    "urlpage ='https://abc7news.com/education/'\n",
    "\n",
    "print(urlpage)\n",
    "\n",
    "from selenium import webdriver\n",
    "import time\n",
    "import pandas as pd\n",
    "\n",
    "# run firefox webdriver from executable path of your choice\n",
    "driver = webdriver.Firefox()\n",
    "\n",
    "\n",
    "# get web page\n",
    "driver.get(urlpage)\n",
    "# execute script to scroll down the page\n",
    "driver.execute_script(\"window.scrollTo(0, document.body.scrollHeight);var lenOfPage=document.body.scrollHeight;return lenOfPage;\")\n",
    "# sleep for 30s\n",
    "time.sleep(30)\n",
    "#driver.quit()"
   ]
  },
  {
   "cell_type": "code",
   "execution_count": 6,
   "id": "4a76ef6b",
   "metadata": {},
   "outputs": [
    {
     "data": {
      "text/plain": [
       "['CONTEXT_CHROME',\n",
       " 'CONTEXT_CONTENT',\n",
       " 'NATIVE_EVENTS_ALLOWED',\n",
       " '__class__',\n",
       " '__delattr__',\n",
       " '__dict__',\n",
       " '__dir__',\n",
       " '__doc__',\n",
       " '__enter__',\n",
       " '__eq__',\n",
       " '__exit__',\n",
       " '__format__',\n",
       " '__ge__',\n",
       " '__getattribute__',\n",
       " '__gt__',\n",
       " '__hash__',\n",
       " '__init__',\n",
       " '__init_subclass__',\n",
       " '__le__',\n",
       " '__lt__',\n",
       " '__module__',\n",
       " '__ne__',\n",
       " '__new__',\n",
       " '__reduce__',\n",
       " '__reduce_ex__',\n",
       " '__repr__',\n",
       " '__setattr__',\n",
       " '__sizeof__',\n",
       " '__str__',\n",
       " '__subclasshook__',\n",
       " '__weakref__',\n",
       " '_file_detector',\n",
       " '_is_remote',\n",
       " '_mobile',\n",
       " '_switch_to',\n",
       " '_unwrap_value',\n",
       " '_web_element_cls',\n",
       " '_wrap_value',\n",
       " 'add_cookie',\n",
       " 'application_cache',\n",
       " 'back',\n",
       " 'binary',\n",
       " 'capabilities',\n",
       " 'close',\n",
       " 'command_executor',\n",
       " 'context',\n",
       " 'create_web_element',\n",
       " 'current_url',\n",
       " 'current_window_handle',\n",
       " 'delete_all_cookies',\n",
       " 'delete_cookie',\n",
       " 'desired_capabilities',\n",
       " 'error_handler',\n",
       " 'execute',\n",
       " 'execute_async_script',\n",
       " 'execute_script',\n",
       " 'file_detector',\n",
       " 'file_detector_context',\n",
       " 'find_element',\n",
       " 'find_element_by_class_name',\n",
       " 'find_element_by_css_selector',\n",
       " 'find_element_by_id',\n",
       " 'find_element_by_link_text',\n",
       " 'find_element_by_name',\n",
       " 'find_element_by_partial_link_text',\n",
       " 'find_element_by_tag_name',\n",
       " 'find_element_by_xpath',\n",
       " 'find_elements',\n",
       " 'find_elements_by_class_name',\n",
       " 'find_elements_by_css_selector',\n",
       " 'find_elements_by_id',\n",
       " 'find_elements_by_link_text',\n",
       " 'find_elements_by_name',\n",
       " 'find_elements_by_partial_link_text',\n",
       " 'find_elements_by_tag_name',\n",
       " 'find_elements_by_xpath',\n",
       " 'firefox_profile',\n",
       " 'forward',\n",
       " 'fullscreen_window',\n",
       " 'get',\n",
       " 'get_cookie',\n",
       " 'get_cookies',\n",
       " 'get_log',\n",
       " 'get_screenshot_as_base64',\n",
       " 'get_screenshot_as_file',\n",
       " 'get_screenshot_as_png',\n",
       " 'get_window_position',\n",
       " 'get_window_rect',\n",
       " 'get_window_size',\n",
       " 'implicitly_wait',\n",
       " 'install_addon',\n",
       " 'log_types',\n",
       " 'maximize_window',\n",
       " 'minimize_window',\n",
       " 'mobile',\n",
       " 'name',\n",
       " 'orientation',\n",
       " 'page_source',\n",
       " 'profile',\n",
       " 'quit',\n",
       " 'refresh',\n",
       " 'save_screenshot',\n",
       " 'service',\n",
       " 'session_id',\n",
       " 'set_context',\n",
       " 'set_page_load_timeout',\n",
       " 'set_script_timeout',\n",
       " 'set_window_position',\n",
       " 'set_window_rect',\n",
       " 'set_window_size',\n",
       " 'start_client',\n",
       " 'start_session',\n",
       " 'stop_client',\n",
       " 'switch_to',\n",
       " 'switch_to_active_element',\n",
       " 'switch_to_alert',\n",
       " 'switch_to_default_content',\n",
       " 'switch_to_frame',\n",
       " 'switch_to_window',\n",
       " 'title',\n",
       " 'uninstall_addon',\n",
       " 'w3c',\n",
       " 'window_handles']"
      ]
     },
     "execution_count": 6,
     "metadata": {},
     "output_type": "execute_result"
    }
   ],
   "source": [
    "dir(driver)"
   ]
  },
  {
   "cell_type": "code",
   "execution_count": 87,
   "id": "9ab6ea35",
   "metadata": {},
   "outputs": [
    {
     "name": "stdout",
     "output_type": "stream",
     "text": [
      "True\n",
      "2774\n",
      "True\n"
     ]
    }
   ],
   "source": [
    "from selenium.webdriver.common.action_chains import ActionChains\n",
    "\n",
    "#element = driver.find_element_by_id(\"my-id\")\n",
    "\n",
    "\n",
    "#results = driver.find_elements_by_class_name(\"headline-list-item has-image\")\n",
    "#results = driver.find_elements_by_class_name(\"grid3\")\n",
    "element = driver.find_elements_by_class_name(\"show-button-more\")[0]\n",
    "\n",
    "#actions = ActionChains(driver)\n",
    "#actions.move_to_element(element).perform()\n",
    "\n",
    "print(element.is_displayed())\n",
    "print(element.location['y'])\n",
    "\n",
    "driver.execute_script(\"arguments[0].click();\", element)\n",
    "print(element.is_displayed())"
   ]
  },
  {
   "cell_type": "code",
   "execution_count": 154,
   "id": "292d3a8d",
   "metadata": {},
   "outputs": [
    {
     "name": "stdout",
     "output_type": "stream",
     "text": [
      "https://abc7news.com/san-francisco-schools-sexual-harassment-high-student-protests-walkouts/11322220/\n",
      "https://abc7news.com/gavin-newsom-new-book-dyslexia-crime/11316952/\n",
      "https://abc7news.com/d-f-grades-dropping-and-pass-no-grade-ca-distance-learning/11313459/\n",
      "https://abc7news.com/junior-achievement-of-northern-california-ja-student-programs-volunteers-financial-literacy/11307004/\n",
      "https://abc7news.com/california-schools-drop-d-f-grades-oakland-unified-phases-out-below-c-competency-learning-mastery-based/11308550/\n",
      "https://abc7news.com/try-harder-film-documentary-lowell-high-school/11298710/\n",
      "https://abc7news.com/stem-femineer-club-program-for-girls-bay-area/11294002/\n",
      "https://abc7news.com/disney-surprise-walt-world-resort/11261908/\n",
      "https://abc7news.com/hayward-school-closures-strobridge-elementary-close-bowman-unified-district-closes-2-schools/11248638/\n",
      "https://abc7news.com/uc-lecturers-strike-called-off-campus-university-of-california-berkeley/11245986/\n",
      "https://abc7news.com/redwood-forest-california-redwoods-climate-change/11219785/\n",
      "https://abc7news.com/jose-antonio-diaz-music-institute-noche-caliente-cma-teacher-of-excellence/11217232/\n",
      "https://abc7news.com/sfusd-school-board-recall-election-mayor-london-breed-alison-collins/11219614/\n",
      "https://abc7news.com/country-music-teachers-educators-cma-awards/11217145/\n",
      "https://abc7news.com/oakland-schools-sexual-harassment-high-student-protests-walkouts/11213422/\n",
      "https://abc7news.com/zoom-hacked-racism-sfusd-pornographic-images/11203888/\n",
      "https://abc7news.com/sfusd-budget-cuts-zone-based-process-sf-covid-19-enrollment/11195569/\n",
      "https://abc7news.com/john-j-cairns-high-school-alternative-education-lindsay-california/11195158/\n",
      "https://abc7news.com/sfusd-budget-cuts-payroll-math-core-curriculum-covid/11192789/\n",
      "https://abc7news.com/ucsb-dorm-munger-hall-windowless-dorms-charlie/11183852/\n",
      "https://abc7news.com/internet-online-gaming-coding-fantasy/11177214/\n",
      "https://abc7news.com/san-francisco-state-university-csu-health-order-sf-vaccine-mandate-ca-schools/11179035/\n",
      "https://abc7news.com/oakland-school-board-george-floyd-resolution-ok-program-unified-district/11178201/\n",
      "https://abc7news.com/national-museum-of-funeral-history-houston-museums-genevieve-keeney-day-the-dead/11140477/\n",
      "https://abc7news.com/howard-university-protest-hbcu-housing-mold/11159279/\n",
      "https://abc7news.com/mount-diablo-unified-school-district-job-fair-mdusd-east-bay/11153939/\n",
      "https://abc7news.com/hayward-unified-school-closures-education-funding-issues/11150093/\n",
      "https://abc7news.com/sfusd-board-of-education-recall-in-person-learning-san-francisco-school/11142129/\n",
      "https://abc7news.com/oakland-school-of-the-arts-charter-sexual-misconduct-walkout/11128100/\n",
      "https://abc7news.com/oregon-substitute-teachers-college-degree-teacher-pay-shortage/11125039/\n",
      "https://abc7news.com/teacher-shortage-substitute-teachers-bay-area-pandemic/11118700/\n",
      "https://abc7news.com/mariachi-los-pasajeros-kinder-hspva-uil-state-festival/11099876/\n",
      "https://abc7news.com/teacher-pulls-off-hijab-muslim-maplewood-seth-boyden-elementary-school/11103242/\n",
      "https://abc7news.com/athleta-stem-diversity-in-tech-non-profit-smash/11099987/\n",
      "https://abc7news.com/bus-driver-shortage-limo-ohio-columbus-city-school-board/11098822/\n",
      "https://abc7news.com/sjsu-president-resigns-san-jose-state-university-news-mary-papazian-sj-sexual-assault/11095114/\n"
     ]
    }
   ],
   "source": [
    "results = driver.find_elements_by_class_name(\"grid3\")[0].find_elements_by_class_name(\"AnchorLink\")\n",
    "\n",
    "for result in results:\n",
    "    print(result.get_property('href'))"
   ]
  },
  {
   "cell_type": "code",
   "execution_count": 131,
   "id": "bd51b491",
   "metadata": {},
   "outputs": [
    {
     "name": "stdout",
     "output_type": "stream",
     "text": [
      "https://abc7news.com/sjsu-president-resigns-san-jose-state-university-news-mary-papazian-sj-sexual-assault/11095114/\n"
     ]
    }
   ],
   "source": [
    "#for result in results:\n",
    "#    print(result.get_property('href'))\n",
    "print(results[-1].get_property('href'))\n",
    "page_driver = webdriver.Firefox()\n",
    "page_driver.get(results[-1].get_property('href'))\n",
    "\n",
    "    "
   ]
  },
  {
   "cell_type": "code",
   "execution_count": 153,
   "id": "9c512559",
   "metadata": {},
   "outputs": [
    {
     "name": "stdout",
     "output_type": "stream",
     "text": [
      "San Jose State president to step down after fall semester\n",
      "Thursday, October 7, 2021\n"
     ]
    },
    {
     "data": {
      "text/plain": [
       "'SAN JOSE, Calif. (KGO) -- San Jose State University President Dr. Mary Papazian announced Thursday that she will resign at the end of the fall semester -- Dec. 21, 2021.\\n\\nPapazian announced the decision in an email sent out to the SJSU community amid a sexual harassment investigation of the school by the Department of Justice and US Attorney\\'s office.\\n\\nRELATED: SJSU to pay $1.6M to student-athletes after sexual harassment investigation: DOJ\\n\\n\"The best interest of the campus continues to be at the forefront of every decision I make. After thoughtful consideration, I have made the decision to step away as president,\" said Papazian in a statement. \"I truly love this university and believe this choice will allow the focus to be positively and solely on our talented, diverse, and outstanding campus. It has been my great honor and privilege to work with the exceptional SJSU students, faculty, staff, alumni and community partners. I am incredibly grateful to the entire SJSU and San José communities for the opportunity to serve at what I consider to be one of the best and most transformational universities in the country.\"\\n\\nPapazian became the 30th president and third woman to lead the university on July 1, 2016.\\n\\nShe oversaw the construction of the state of the art student health and wellness center and SJSU was named the #1 Most Transformative University according to Money magazine during her tenure.\\n\\nWhile she saw great victories, she leaves shortly after the DOJ said the school mishandled the sexual assault claims by more than a dozen female student-athletes who alleged that they had been sexually harassed by a former athletic trainer.\\n\\nLast month, the university agreed to pay $1.6 million in a settlement and announced new Title IX regulations.\\n\\nIn her statement today, Papazian said she will continue with the investigation.\\n\\n\"This transition does not impact our intention and obligation to understand what occurred and how the university responded at the time,\" Papazian stated. \"I made a promise to our community and to the affected student-athletes and their families, and I plan to honor it.\"\\n\\nThe suddenness of the decision came as a surprise to SJSU Professor Janet Stemwedel.\\n\\n\"I\\'m surprised, at least I\\'m surprised it\\'s happening on this timeline, but I also think it\\'s probably the right decision,\" Stemwedel said. \"I think leadership requires taking responsibility for what went wrong in the institution and I think Mary Papazian is doing that.\"\\n\\nSan Jose Mayor Sam Liccardo told ABC7 News in a statement: \"President Papazian has been an invaluable and trusted partner for our City, and an inspiring community leader. I can only hope that the tremendous progress that the University made under her watch--particularly in expanding opportunities for underserved students--will continue under her successor.\"\\n\\nStill, students are hoping for more from the next president of the university.\\n\\n\"I would really like to see the next president pull through with what they say and really understand the student base here,\" SJSU Senior Darwin Saquilayan said.\\n\\n\"I\\'m hoping the next president can take care of that, take care of the student athletes who were hurt in that case, settle it and bring San Jose back into good things in the news instead of just allegations,\" SJSU Senior Samantha-Herrera said.\\n\\nThe California State University Chancellor Joseph Castro will oversee the hiring of the interim president.\\n\\n\"We are grateful for the innovative educational services and cutting-edge resources that she and her team have put into place, which have positioned San José State University as a transformational higher learning institution,\" Castro said.\\n\\n\\n\\nGet ABC7’s top stories delivered to your inbox every morning\\nSign up for our daily newsletter\\nBy providing my email address, I agree to the Terms of Use and acknowledge that I have read the Privacy Policy.\\nSign me up\\nReport a correction or typo'"
      ]
     },
     "execution_count": 153,
     "metadata": {},
     "output_type": "execute_result"
    }
   ],
   "source": [
    "headline = page_driver.find_elements_by_class_name(\"headline\")[0].text\n",
    "story_time = page_driver.find_elements_by_tag_name(\"time\")[0].text\n",
    "body_text = page_driver.find_elements_by_class_name(\"body-text\")[0].text\n",
    "\n",
    "print(headline)\n",
    "print(story_time)\n",
    "\n"
   ]
  },
  {
   "cell_type": "code",
   "execution_count": null,
   "id": "e18d70ad",
   "metadata": {},
   "outputs": [],
   "source": [
    "driver.quit()"
   ]
  },
  {
   "cell_type": "code",
   "execution_count": 129,
   "id": "fb7af990",
   "metadata": {
    "scrolled": false
   },
   "outputs": [
    {
     "name": "stdout",
     "output_type": "stream",
     "text": [
      "\n"
     ]
    }
   ],
   "source": [
    "\"\"\"\n",
    "##///**** On the Off hand we'll yse requests and beautiful soup\n",
    "#//*** It's a good reference anyway\n",
    "\n",
    "import requests\n",
    "raw_html = requests.get(results[-1].get_property('href'))\n",
    "\n",
    "print(raw_html.text)\n",
    "\n",
    "from bs4 import BeautifulSoup\n",
    "soup = BeautifulSoup(raw_html.text, 'html.parser')\n",
    "#soup = BeautifulSoup(raw_html.text, 'html5lib')\n",
    "headline = soup.find_all(class_=\"headline\")[0].text\n",
    "\n",
    "print(headline)\n",
    "\n",
    "soup.find_all(class_=\"meta lastmodified\")[0]\n",
    "soup.prettify()\n",
    "\"\"\"\n",
    "print()"
   ]
  }
 ],
 "metadata": {
  "kernelspec": {
   "display_name": "Python 3 (ipykernel)",
   "language": "python",
   "name": "python3"
  },
  "language_info": {
   "codemirror_mode": {
    "name": "ipython",
    "version": 3
   },
   "file_extension": ".py",
   "mimetype": "text/x-python",
   "name": "python",
   "nbconvert_exporter": "python",
   "pygments_lexer": "ipython3",
   "version": "3.8.12"
  }
 },
 "nbformat": 4,
 "nbformat_minor": 5
}
