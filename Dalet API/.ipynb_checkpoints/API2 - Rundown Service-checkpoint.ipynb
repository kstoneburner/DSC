{
 "cells": [
  {
   "cell_type": "markdown",
   "metadata": {},
   "source": [
    "# API2 - Rundown Service"
   ]
  },
  {
   "cell_type": "markdown",
   "metadata": {
    "slideshow": {
     "slide_type": "-"
    }
   },
   "source": [
    "### Service general description:"
   ]
  },
  {
   "cell_type": "markdown",
   "metadata": {},
   "source": [
    "This service provides methods to create, retrieve, update and delete Rundowns (Playout) in a Dalet system.  \n",
    "\n",
    "A Rundown is a 2-level tree where nodes are called Blocks and leaves are called Items.<br/>\n",
    "Currently, only AssetItems are supported. We can link all kind of Assets to a Rundown and an Asset can appear several times in the same Rundown at different rank.  \n",
    "**Note:** Blocks cannot be included in another Block.\n",
    " \n",
    "![](files/pictures/rundown-class-diagram.svg)"
   ]
  },
  {
   "cell_type": "markdown",
   "metadata": {},
   "source": [
    "### Related types & methods:"
   ]
  },
  {
   "cell_type": "markdown",
   "metadata": {},
   "source": [
    "* **Type - Rundown**\n",
    "<table>\n",
    "    <tr>\n",
    "        <th>Field</th> <th>Type</th> <th>Description</th>\n",
    "    </tr>\n",
    "    <tr>\n",
    "        <td>id</td> <td>long</td> <td>Unique identifier of the rundown.</td>\n",
    "    </tr>\n",
    "    <tr>\n",
    "        <td>name</td> <td>string</td> <td>Name of the rundown.</td>\n",
    "    </tr>\n",
    "    <tr>\n",
    "        <td>stationId</td> <td>string</td> <td>ID of the playout station the rundown is scheduled on.</td>\n",
    "    </tr>\n",
    "    <tr>\n",
    "        <td>startDate</td> <td>string</td> <td>Beginning of the rundown.</td>\n",
    "    </tr>\n",
    "    <tr>\n",
    "        <td>expectedDuration</td> <td>timeCodeWS</td> <td>Expected duration from the start date.</td>\n",
    "    </tr>\n",
    "    <tr>\n",
    "        <td>duration</td> <td>timeCodeWS</td> <td>Real duration computed from all the items inside the rundown.</td>\n",
    "    </tr>\n",
    "    <tr>\n",
    "        <td>items</td> <td>list of Items</td> <td>The list of items contained in the rundown.</td>\n",
    "    </tr>\n",
    "</table>\n",
    "\n",
    "* **Type - BlockItem**\n",
    "<table>\n",
    "    <tr>\n",
    "        <th>Field</th> <th>Type</th> <th>Description</th>\n",
    "    </tr>\n",
    "    <tr>\n",
    "        <td>blockId</td> <td>long</td> <td>Unique identifier of the block.</td>\n",
    "    </tr>\n",
    "    <tr>\n",
    "        <td>name</td> <td>string</td> <td>The name of the block (displayed in the GUI).</td>\n",
    "    </tr>\n",
    "        <tr>\n",
    "        <td>items</td> <td>list of Items</td> <td>The list of items contained in the block.</td>\n",
    "    </tr>\n",
    "</table>\n",
    "\n",
    "* **Type - AssetItem**\n",
    "<table>\n",
    "    <tr>\n",
    "        <th>Field</th> <th>Type</th> <th>Description</th>\n",
    "    </tr>\n",
    "    <tr>\n",
    "        <td>assetId</td> <td>long</td> <td>ID of the asset attached to this asset item.</td>\n",
    "    </tr>\n",
    "</table>\n",
    "\n",
    "* **Type - StoryAssetItem**\n",
    "<table>\n",
    "    <tr>\n",
    "        <th>Field</th> <th>Type</th> <th>Description</th>\n",
    "    </tr>\n",
    "    <tr>\n",
    "        <td>items</td> <td>list of Items</td> <td>List of embedded AssetItems.</td>\n",
    "    </tr>\n",
    "</table>\n",
    "\n",
    "* **Type - TxVersionAssetItem**\n",
    "<table>\n",
    "    <tr>\n",
    "        <th>Field</th> <th>Type</th> <th>Description</th>\n",
    "    </tr>\n",
    "    <tr>\n",
    "        <td>items</td> <td>list of Items</td> <td>List of embedded AssetItems.</td>\n",
    "    </tr>\n",
    "</table>\n",
    "\n",
    "* **Type - BroadcastReportItem**\n",
    "<table>\n",
    "    <tr>\n",
    "        <th>Field</th> <th>Type</th> <th>Description</th>\n",
    "    </tr>\n",
    "    <tr>\n",
    "        <td>assetId</td> <td>long</td> <td>ID of the asset attached to this asset item.</td>\n",
    "    </tr>\n",
    "    <tr>\n",
    "        <td>rundownId</td> <td>long</td> <td>Unique identifier of the rundown.</td>\n",
    "    </tr>\n",
    "    <tr>\n",
    "        <td>stationId</td> <td>string</td> <td>ID of the playout station of the broadcast.</td>\n",
    "    </tr>\n",
    "    <tr>\n",
    "        <td>startDate</td> <td>string</td> <td>Beginning of the broadcast.</td>\n",
    "    </tr>\n",
    "    <tr>\n",
    "        <td>duration</td> <td>timeCodeWS</td> <td>Duration of the broadcast.</td>\n",
    "    </tr>\n",
    "</table>\n",
    "\n",
    "* **Key operations**\n",
    "\n",
    "\n",
    "\n",
    "1. Constructors:\n",
    "\n",
    "        1. createRundown\n",
    "        2. createFullRundown\n",
    "        \n",
    "2. Getters:\n",
    "\n",
    "        1. getRundowns\n",
    "        2. getRundownsByRange\n",
    "        3. getBroadcastReportByRange\n",
    "        4. getRundownItemFields\n",
    "        5. getItemOnAirStatus\n",
    "\n",
    "3. Setters:\n",
    "\n",
    "        1. createBlockItemInRundown\n",
    "        2. deleteBlockItemFromRundown\n",
    "        3. createAssetItemInRundown\n",
    "        4. deleteAssetItemFromRundown\n",
    "        5. updateRundown\n",
    "        6. setRundownItemFields\n",
    "\n",
    "4. Destructors:\n",
    "\n",
    "        1. deleteRundown"
   ]
  },
  {
   "cell_type": "markdown",
   "metadata": {},
   "source": [
    "# Initialization"
   ]
  },
  {
   "cell_type": "markdown",
   "metadata": {},
   "source": [
    "To connect to the Dalet WebService server, one must know the URL of the server and use the WSUtil package."
   ]
  },
  {
   "cell_type": "code",
   "execution_count": "",
   "metadata": {},
   "outputs": [],
   "source": [
    "from WSUtils import initAPI2, init, typesMap, setCredentials"
   ]
  },
  {
   "cell_type": "markdown",
   "metadata": {},
   "source": [
    "InitAPI2(url) loads the WSDL definitions and creates proxy objects in the Python client for each WSDL method and XDS data type defined in the WSDL."
   ]
  },
  {
   "cell_type": "code",
   "execution_count": "",
   "metadata": {},
   "outputs": [],
   "source": [
    "initAPI2(\"http://10.218.97.23:8080/DaletWebService/\")"
   ]
  },
  {
   "cell_type": "markdown",
   "metadata": {},
   "source": [
    "The init() method extracts information from the WSDL descriptions to support the describe(name) and find(regexp) functions."
   ]
  },
  {
   "cell_type": "code",
   "execution_count": "",
   "metadata": {},
   "outputs": [],
   "source": [
    "init()"
   ]
  },
  {
   "cell_type": "code",
   "execution_count": "",
   "metadata": {},
   "outputs": [],
   "source": [
    "from WSUtils import find, describe, clientsMap, createInstance, makeConstRec, getOrCreateUser, getOrCreateVideoAsset\n",
    "from datetime import datetime, timedelta"
   ]
  },
  {
   "cell_type": "markdown",
   "metadata": {},
   "source": [
    "# Login"
   ]
  },
  {
   "cell_type": "markdown",
   "metadata": {},
   "source": [
    "Before we can use API methods, we must open an authenticated session. The login session obtained remains valid for a given period, and is renewed each time an operation is invoked."
   ]
  },
  {
   "cell_type": "markdown",
   "metadata": {},
   "source": [
    "##### Note: If the User Authentication Mode is Active Directory you should format the user as User@Domain"
   ]
  },
  {
   "cell_type": "code",
   "execution_count": "",
   "metadata": {},
   "outputs": [],
   "source": [
    "setCredentials('ENTER_YOUR_USER_NAME_HERE', 'ENTER_YOUR_PASSWORD_HERE')"
   ]
  },
  {
   "cell_type": "markdown",
   "metadata": {},
   "source": [
    "# Pre-requisite objects"
   ]
  },
  {
   "cell_type": "markdown",
   "metadata": {},
   "source": [
    "To create or retrieve a rundown, we need to get first the ID of a playout station:"
   ]
  },
  {
   "cell_type": "code",
   "execution_count": "",
   "metadata": {},
   "outputs": [],
   "source": [
    "def getPlayoutStationId():\n",
    "    configurationService = clientsMap.get(\"ConfigurationService\").service\n",
    "    for station in configurationService.getAllStations():\n",
    "        if not station.isRecordingType:\n",
    "            return station.id\n",
    "    print \"There is no playout station available!\"\n",
    "    return None\n",
    "\n",
    "playoutStationId = getPlayoutStationId()"
   ]
  },
  {
   "cell_type": "markdown",
   "metadata": {},
   "source": [
    "A rundown is populated with several Items. One of them is an asset, so let's create a video asset:"
   ]
  },
  {
   "cell_type": "code",
   "execution_count": "",
   "metadata": {},
   "outputs": [],
   "source": [
    "categoryService = clientsMap.get(\"CategoryService\").service\n",
    "assetService = clientsMap.get(\"AssetService\").service\n",
    "\n",
    "rootCategoryId = categoryService.getCategoriesByPath(\"CATEGORIES\")[0].id\n",
    "videoAssetId = getOrCreateVideoAsset(rootCategoryId, \"MyAsset\", \"API2\").id"
   ]
  },
  {
   "cell_type": "markdown",
   "metadata": {},
   "source": [
    "There is a concept of contributor attached to a rundown. In order to illustrate it, we are going to create a Dalet user and add him as a contributor of the previously created asset (see getRundownsByRange)."
   ]
  },
  {
   "cell_type": "code",
   "execution_count": "",
   "metadata": {},
   "outputs": [],
   "source": [
    "userService = clientsMap.get(\"UserService\").service\n",
    "userId = getOrCreateUser(\"MyUser\", \"FirstName\", \"LastName\", \"My123Password\").id"
   ]
  },
  {
   "cell_type": "markdown",
   "metadata": {},
   "source": [
    "To add our new user as contributor, you need to use the GUI client. For example, we will assign the user to the asset. To do that, just drag&drop the asset in the assignements folder of our user and click on \"**Link Here**\":\n",
    "\n",
    "![](files/pictures/rundown-contributor.svg)"
   ]
  },
  {
   "cell_type": "markdown",
   "metadata": {},
   "source": [
    "# Creating a client for the service and work on it"
   ]
  },
  {
   "cell_type": "code",
   "execution_count": "",
   "metadata": {},
   "outputs": [],
   "source": [
    "rundownService = clientsMap.get(\"RundownService\").service"
   ]
  },
  {
   "cell_type": "markdown",
   "metadata": {},
   "source": [
    "## Creating a rundown"
   ]
  },
  {
   "cell_type": "markdown",
   "metadata": {},
   "source": [
    "### createRundown"
   ]
  },
  {
   "cell_type": "markdown",
   "metadata": {},
   "source": [
    "A rundown is created without item. It has a name, it is attached to a playout station and it is defined in a time range. The duration of the time range is an estimation, the real duration could be lower or higher than it."
   ]
  },
  {
   "cell_type": "code",
   "execution_count": "",
   "metadata": {},
   "outputs": [],
   "source": [
    "from WSUtils import createTimeCode"
   ]
  },
  {
   "cell_type": "code",
   "execution_count": "",
   "metadata": {},
   "outputs": [],
   "source": [
    "startDate = datetime.now() + timedelta(hours=1)\n",
    "rundown1Id = rundownService.createRundown(\"MyRundown1\", playoutStationId, startDate, createTimeCode(42000, 25, 1))\n",
    "\n",
    "startDate = datetime.now() + timedelta(hours=5)\n",
    "rundown2Id = rundownService.createRundown(\"MyRundown2\", playoutStationId, startDate, createTimeCode(100000, 25, 1))\n",
    "\n",
    "startDate = datetime.now() + timedelta(hours=7)\n",
    "rundown3Id = rundownService.createRundown(\"MyRundown3\", playoutStationId, startDate, createTimeCode(100000, 25, 1))"
   ]
  },
  {
   "cell_type": "markdown",
   "metadata": {},
   "source": [
    "To add items to the created rundowns, refer to the *createBlockItemInRundown* and *createAssetItemInRundown* methods."
   ]
  },
  {
   "cell_type": "markdown",
   "metadata": {},
   "source": [
    "### createFullRundown"
   ]
  },
  {
   "cell_type": "markdown",
   "metadata": {},
   "source": [
    "To create a Rundown with its items in a single call, you can use the *createFullRundown* method."
   ]
  },
  {
   "cell_type": "code",
   "execution_count": "",
   "metadata": {},
   "outputs": [],
   "source": [
    "def createAssetItem(assetId):\n",
    "    assetItem = createInstance(\"AssetItem\")\n",
    "    assetItem.assetId = assetId\n",
    "    return assetItem\n",
    "\n",
    "def createBlockItem(blockName, items):\n",
    "    blockItem = createInstance(\"BlockItem\")\n",
    "    blockItem.name = blockName\n",
    "    blockItem.items = items\n",
    "    return blockItem"
   ]
  },
  {
   "cell_type": "code",
   "execution_count": "",
   "metadata": {},
   "outputs": [],
   "source": [
    "# We prepare a list of items: 2 AssetItems + 2 BlockItems both containing 2 AssetItems\n",
    "items = [createAssetItem(videoAssetId), \\\n",
    "         createBlockItem(\"Block1\", [createAssetItem(videoAssetId), createAssetItem(videoAssetId)]), \\\n",
    "         createAssetItem(videoAssetId), \\\n",
    "         createBlockItem(\"Block2\", [createAssetItem(videoAssetId), createAssetItem(videoAssetId)]) \\\n",
    "        ]\n",
    "startDate = datetime.now() + timedelta(hours=1)\n",
    "# We create the full Rundown\n",
    "fullRundownId = rundownService.createFullRundown(\"MyFullRundown\", playoutStationId, startDate, createTimeCode(100000, 25, 1), items)\n",
    "print fullRundownId"
   ]
  },
  {
   "cell_type": "markdown",
   "metadata": {},
   "source": [
    "## Getting rundowns"
   ]
  },
  {
   "cell_type": "markdown",
   "metadata": {},
   "source": [
    "### By ID"
   ]
  },
  {
   "cell_type": "markdown",
   "metadata": {},
   "source": [
    "When we create a rundown, the function returns its ID that can be used later to retrieve information about it:"
   ]
  },
  {
   "cell_type": "code",
   "execution_count": "",
   "metadata": {},
   "outputs": [],
   "source": [
    "print rundownService.getRundowns([rundown1Id, rundown2Id])"
   ]
  },
  {
   "cell_type": "markdown",
   "metadata": {},
   "source": [
    "### By range"
   ]
  },
  {
   "cell_type": "markdown",
   "metadata": {},
   "source": [
    "Sometimes, we don't know the ID of a rundown, in this case we can look for it in a time range:"
   ]
  },
  {
   "cell_type": "code",
   "execution_count": "",
   "metadata": {},
   "outputs": [],
   "source": [
    "startDate = datetime.now() + timedelta(days=-1)\n",
    "endDate = datetime.now() + timedelta(days=1)\n",
    "print rundownService.getRundownsByRange(playoutStationId, startDate, endDate, None)"
   ]
  },
  {
   "cell_type": "markdown",
   "metadata": {},
   "source": [
    "### By contributor"
   ]
  },
  {
   "cell_type": "markdown",
   "metadata": {},
   "source": [
    "The result of the method **getRundownsByRange()** can be filtered by contributor.  \n",
    "A contributor is a Dalet user who created an asset contained in the rundown or who is set as 'Contributor' or 'AssignTo' in an asset contained in the rundown.  \n",
    "In the pre-requesite section, we assigned a user to an asset. So now, if we add the asset in one rundown, we can retrieve this rundown by contributor by providing the user ID:"
   ]
  },
  {
   "cell_type": "code",
   "execution_count": "",
   "metadata": {},
   "outputs": [],
   "source": [
    "rundownService.createAssetItemInRundown(rundown1Id, None, None, videoAssetId)\n",
    "startDate = datetime.now() + timedelta(days=-1)\n",
    "endDate = datetime.now() + timedelta(days=1)\n",
    "print rundownService.getRundownsByRange(playoutStationId, startDate, endDate, userId)"
   ]
  },
  {
   "cell_type": "markdown",
   "metadata": {},
   "source": [
    "### Get rundown item fields"
   ]
  },
  {
   "cell_type": "markdown",
   "metadata": {},
   "source": [
    "When we get a rundown, the function returns its items that can be used later to retrieve their fields:"
   ]
  },
  {
   "cell_type": "code",
   "execution_count": "",
   "metadata": {},
   "outputs": [],
   "source": [
    "itemId = rundownService.getRundowns([fullRundownId])[0].items[0].itemId\n",
    "fieldNames = [\"ITEM_Custom1\", \"ITEM_Hold\", \"ITEM_ComputedDuration\", \"ITEM_ComputedStartTime\"]\n",
    "print rundownService.getRundownItemFields(itemId, fieldNames)"
   ]
  },
  {
   "cell_type": "markdown",
   "metadata": {},
   "source": [
    "Notice that items such as StoryAssetItem are composed of embeded AssetItems, hence those items are arrays themselves and can be accessed in the following way: <br>\n",
    "<i>itemId = rundownService.getRundowns([fullRundownId])[0].items[indexOfStoryAssetItem].items[indexOfEmbeddedAssetItem].itemId</i> <br>\n",
    "This is also true for TxVersionAsset and BlockItem."
   ]
  },
  {
   "cell_type": "markdown",
   "metadata": {},
   "source": [
    "## Updating a rundown"
   ]
  },
  {
   "cell_type": "markdown",
   "metadata": {},
   "source": [
    "Using **updateRundown** method, we have the ability to change the name, start time or duration of a rundown.<br>\n",
    "<i>**Note:** only the rundownId parameter is mandatory, the rest are optional.</i><br><br>\n",
    "Lets change the 3rd rundown name to something else."
   ]
  },
  {
   "cell_type": "code",
   "execution_count": "",
   "metadata": {},
   "outputs": [],
   "source": [
    "rundownService.updateRundown(rundown3Id, \"NEW_NAME\", None, None);\n",
    "\n",
    "print rundownService.getRundowns([rundown3Id]);"
   ]
  },
  {
   "cell_type": "markdown",
   "metadata": {},
   "source": [
    "### Creating Blocks"
   ]
  },
  {
   "cell_type": "code",
   "execution_count": "",
   "metadata": {},
   "outputs": [],
   "source": [
    "block1Id = rundownService.createBlockItemInRundown(rundown2Id, None, \"Block1\")\n",
    "block2Id = rundownService.createBlockItemInRundown(rundown2Id, None, \"Block2\")"
   ]
  },
  {
   "cell_type": "markdown",
   "metadata": {},
   "source": [
    "#### Insert at a specific position"
   ]
  },
  {
   "cell_type": "markdown",
   "metadata": {},
   "source": [
    "By default, blocks are inserted at the end of the rundown, but we can provide an index if we want to insert it at a specific position:"
   ]
  },
  {
   "cell_type": "code",
   "execution_count": "",
   "metadata": {},
   "outputs": [],
   "source": [
    "block3Id = rundownService.createBlockItemInRundown(rundown2Id, 1, \"Block3\")"
   ]
  },
  {
   "cell_type": "markdown",
   "metadata": {},
   "source": [
    "![](files/pictures/rundown-blocks.svg)"
   ]
  },
  {
   "cell_type": "markdown",
   "metadata": {},
   "source": [
    "### Set rundown item fields"
   ]
  },
  {
   "cell_type": "markdown",
   "metadata": {},
   "source": [
    "We can set values to the fields of a rundown item:"
   ]
  },
  {
   "cell_type": "code",
   "execution_count": "",
   "metadata": {},
   "outputs": [],
   "source": [
    "dataField1 = createInstance(\"StringField\")\n",
    "dataField1.name = \"ITEM_Custom1\"\n",
    "dataField1.value = \"Some value\"\n",
    "dataField2 = createInstance(\"TimeCodeField\")\n",
    "dataField2.name = \"ITEM_ScheduledDuration\"\n",
    "dataField2.value = createTimeCode(42000, 25, 1)\n",
    "dataField3 = createInstance(\"BooleanField\")\n",
    "dataField3.name = \"ITEM_UseScheduledDuration\"\n",
    "dataField3.value = True\n",
    "print rundownService.setRundownItemFields(itemId, [dataField1, dataField2, dataField3])"
   ]
  },
  {
   "cell_type": "markdown",
   "metadata": {},
   "source": [
    "### Deleting Blocks"
   ]
  },
  {
   "cell_type": "code",
   "execution_count": "",
   "metadata": {},
   "outputs": [],
   "source": [
    "rundownService.deleteBlockItemFromRundown(rundown2Id, block2Id)"
   ]
  },
  {
   "cell_type": "markdown",
   "metadata": {},
   "source": [
    "### Creating Asset Items"
   ]
  },
  {
   "cell_type": "code",
   "execution_count": "",
   "metadata": {},
   "outputs": [],
   "source": [
    "rundownService.createAssetItemInRundown(rundown2Id, None, None, videoAssetId)\n",
    "rundownService.createAssetItemInRundown(rundown2Id, None, None, videoAssetId)"
   ]
  },
  {
   "cell_type": "markdown",
   "metadata": {},
   "source": [
    "#### Insert at a specific position"
   ]
  },
  {
   "cell_type": "markdown",
   "metadata": {},
   "source": [
    "As blocks, asset items can be inserted at a specific index by providing a index:"
   ]
  },
  {
   "cell_type": "code",
   "execution_count": "",
   "metadata": {},
   "outputs": [],
   "source": [
    "rundownService.createAssetItemInRundown(rundown2Id, None, 1L, videoAssetId)"
   ]
  },
  {
   "cell_type": "markdown",
   "metadata": {},
   "source": [
    "#### Insert inside a block"
   ]
  },
  {
   "cell_type": "markdown",
   "metadata": {},
   "source": [
    "Asset items can also be included in a block:"
   ]
  },
  {
   "cell_type": "code",
   "execution_count": "",
   "metadata": {},
   "outputs": [],
   "source": [
    "rundownService.createAssetItemInRundown(rundown2Id, block1Id, None, videoAssetId)"
   ]
  },
  {
   "cell_type": "markdown",
   "metadata": {},
   "source": [
    "![](files/pictures/rundown-asset-items.svg)"
   ]
  },
  {
   "cell_type": "markdown",
   "metadata": {},
   "source": [
    "### Deleting Asset Item"
   ]
  },
  {
   "cell_type": "code",
   "execution_count": "",
   "metadata": {},
   "outputs": [],
   "source": [
    "rundownService.deleteAssetItemFromRundown(rundown2Id, None, 3)"
   ]
  },
  {
   "cell_type": "markdown",
   "metadata": {},
   "source": [
    "## Deleting a rundown"
   ]
  },
  {
   "cell_type": "code",
   "execution_count": "",
   "metadata": {},
   "outputs": [],
   "source": [
    "rundownService.deleteRundown(rundown1Id)\n",
    "rundownService.deleteRundown(rundown2Id)"
   ]
  },
  {
   "cell_type": "markdown",
   "metadata": {},
   "source": [
    "# Broadcast"
   ]
  },
  {
   "cell_type": "markdown",
   "metadata": {},
   "source": [
    "With a properly configured station, you should be able to see any scheduled rundown in the _OnAir Player_ (note that, configuring a broadcast is out of the scope of this tutorial):\n",
    "\n",
    "![](files/pictures/full-onair.png)"
   ]
  },
  {
   "cell_type": "markdown",
   "metadata": {},
   "source": [
    "## Getting Broadcast Report"
   ]
  },
  {
   "cell_type": "markdown",
   "metadata": {},
   "source": [
    "### By range"
   ]
  },
  {
   "cell_type": "markdown",
   "metadata": {},
   "source": [
    "After an actual broadcast, we can get a detailed report for a specific time range (this should return an empty list since no items were sent to broadcast):"
   ]
  },
  {
   "cell_type": "code",
   "execution_count": "",
   "metadata": {},
   "outputs": [],
   "source": [
    "startDate = datetime.now() + timedelta(days=-1)\n",
    "endDate = datetime.now() + timedelta(days=1)\n",
    "print rundownService.getBroadcastReportByRange(playoutStationId, startDate, endDate)"
   ]
  },
  {
   "cell_type": "markdown",
   "metadata": {},
   "source": [
    "### Get OnAir status of a rundown item "
   ]
  },
  {
   "cell_type": "markdown",
   "metadata": {},
   "source": [
    "When we get a rundown, the function returns its items. We can retrieve the OnAir status of such item by its id:"
   ]
  },
  {
   "cell_type": "code",
   "execution_count": "",
   "metadata": {},
   "outputs": [],
   "source": [
    "studioName = \"STUDIO_NAME\"\n",
    "\n",
    "def getStudioId(studioName):\n",
    "    configurationService = clientsMap.get(\"ConfigurationService\").service\n",
    "    for studio in configurationService.getAllStudios():\n",
    "        if studio.name == studioName:\n",
    "            return studio.id\n",
    "    print \"There is no studio with name: \" + studioName\n",
    "    return None\n",
    "\n",
    "print rundownService.getItemOnAirStatus(itemId, getStudioId(studioName), False)"
   ]
  }
 ],
 "metadata": {
  "kernelspec": {
   "display_name": "Python 3",
   "language": "python",
   "name": "python3"
  },
  "language_info": {
   "codemirror_mode": {
    "name": "ipython",
    "version": 3
   },
   "file_extension": ".py",
   "mimetype": "text/x-python",
   "name": "python",
   "nbconvert_exporter": "python",
   "pygments_lexer": "ipython3",
   "version": "3.8.5"
  }
 },
 "nbformat": 4,
 "nbformat_minor": 1
}
